{
 "cells": [
  {
   "cell_type": "markdown",
   "id": "30a31ed5-c2ef-4712-aeb3-b7606dda7bfc",
   "metadata": {},
   "source": [
    "# Demos of features of the morpc python package"
   ]
  },
  {
   "cell_type": "markdown",
   "id": "4c342ca0-1734-4bec-8fc1-81df408e9f81",
   "metadata": {
    "tags": []
   },
   "source": [
    "# Introduction"
   ]
  },
  {
   "cell_type": "markdown",
   "id": "921030b3-0d94-4ca7-8ae3-8ed1fb3e3fe1",
   "metadata": {},
   "source": [
    "The MORPC data team maintains a package with contains commonly-used constants, mappings, and functions to allow for code-reuse in multiple scripts.  The package documentation and code is available at the [morpc-py](https://github.com/morpc/morpc-py) repository in GitHub.  \n",
    "\n",
    "This package is still in development but will contain the following modules:\n",
    "\n",
    "  - morpc - Main library.  Includes contents which are broadly applicable for MORPC's work, including MORPC branding, region definitions and utilities, and general purpose data manipulation functions.\n",
    "  - morpc.frictionless -  Functions and classes for working with metadata, including schemas, resources, and data packages. These are for internal processes that us the [frictionless-py](https://github.com/frictionlessdata/frictionless-py/tree/main) package. Frictionless was implemented roughly 2025 to manage all metadata and to develop workflow documentation. \n",
    "  - morpc.census - Constants and functions that are relevant when working with Census data, including decennial census, ACS, and PEP."
   ]
  },
  {
   "cell_type": "markdown",
   "id": "d894852d-dc5a-46a1-84ed-af00aef36e71",
   "metadata": {
    "tags": []
   },
   "source": [
    "# Installation"
   ]
  },
  {
   "cell_type": "markdown",
   "id": "3e651711",
   "metadata": {},
   "source": [
    "Install via pip."
   ]
  },
  {
   "cell_type": "code",
   "execution_count": null,
   "id": "fcb557b0",
   "metadata": {
    "tags": []
   },
   "outputs": [],
   "source": [
    "# !pip install morpc --upgrade"
   ]
  },
  {
   "cell_type": "markdown",
   "id": "99c33cce-a430-48e2-84ee-0c632943c7a4",
   "metadata": {
    "tags": []
   },
   "source": [
    "## Import morpc package "
   ]
  },
  {
   "cell_type": "code",
   "execution_count": null,
   "id": "4561280c-2559-4e2b-8e17-4644c4ee4df2",
   "metadata": {
    "tags": []
   },
   "outputs": [],
   "source": [
    "import morpc"
   ]
  },
  {
   "cell_type": "markdown",
   "id": "f0c1d6f3-0dd9-4fe1-9569-00df764e310c",
   "metadata": {
    "jp-MarkdownHeadingCollapsed": true,
    "tags": []
   },
   "source": [
    "# Conversion factors"
   ]
  },
  {
   "cell_type": "markdown",
   "id": "69fac771-d0c0-4028-8fa5-d8ff3e339ea4",
   "metadata": {},
   "source": [
    "As of Jan 2024, the following commonly used conversion factors are available in the library. Review the https://github.com/morpc/morpc-py/blob/main/morpc/morpc.py to see if others are available."
   ]
  },
  {
   "cell_type": "markdown",
   "id": "67fb3125-8025-451d-a308-af5a5ab1ed03",
   "metadata": {},
   "source": [
    "## Area"
   ]
  },
  {
   "cell_type": "markdown",
   "id": "3022422f-75b0-4860-87bf-ffd0d7945a73",
   "metadata": {},
   "source": [
    "Square feet per acre"
   ]
  },
  {
   "cell_type": "code",
   "execution_count": null,
   "id": "83c68b26-147a-4c29-ab36-3f451799c2b0",
   "metadata": {
    "tags": []
   },
   "outputs": [],
   "source": [
    "morpc.CONST_SQFT_PER_ACRE"
   ]
  },
  {
   "cell_type": "markdown",
   "id": "e7ba6b18-4aa0-45d7-aec3-966882eb3748",
   "metadata": {},
   "source": [
    "## Region definitions"
   ]
  },
  {
   "cell_type": "markdown",
   "id": "775b7429-9fb3-474e-a1dd-56ae5ce7c56e",
   "metadata": {},
   "source": [
    "The following lists represent various definitions for \"Central Ohio\" based on collections of counties."
   ]
  },
  {
   "cell_type": "code",
   "execution_count": null,
   "id": "c044dfc1-650d-4326-84c7-cc8d874f3a97",
   "metadata": {
    "tags": []
   },
   "outputs": [],
   "source": [
    "for name in morpc.CONST_REGIONS.keys():\n",
    "    print(\"Region name: {}\".format(name))\n",
    "    print(\"Counties in region: {}\\n\".format(morpc.CONST_REGIONS[name]))"
   ]
  },
  {
   "cell_type": "markdown",
   "id": "96c288a5-05de-4120-a0d6-a6c914d4c8f0",
   "metadata": {},
   "source": [
    "## County three-letter abbreviations"
   ]
  },
  {
   "cell_type": "markdown",
   "id": "b854af03-4862-4d04-a3b8-fa311cfaed61",
   "metadata": {},
   "source": [
    "Map each MORPC county name to its three-letter abbreviation."
   ]
  },
  {
   "cell_type": "code",
   "execution_count": null,
   "id": "19885f02-c7c2-4989-bfe2-5364b3d404b4",
   "metadata": {
    "tags": []
   },
   "outputs": [],
   "source": [
    "morpc.CONST_COUNTY_ABBREV"
   ]
  },
  {
   "cell_type": "markdown",
   "id": "545d5bb2-1e77-4745-a448-44ad66337489",
   "metadata": {},
   "source": [
    "Map each three-letter abbreviation back to its county name."
   ]
  },
  {
   "cell_type": "code",
   "execution_count": null,
   "id": "2c517b79-edf9-46ed-a1e4-45b68892a449",
   "metadata": {
    "tags": []
   },
   "outputs": [],
   "source": [
    "morpc.CONST_COUNTY_EXPAND"
   ]
  },
  {
   "cell_type": "markdown",
   "id": "557fd3ce-e2e4-40b9-8019-1960011afaa0",
   "metadata": {},
   "source": [
    "Note that 'MRW' is the three-letter abbreviation for Morrow county that is used by ODOT. Sometimes it may be desired to use 'MOR' instead.  In that case, you can use the following code to update both mappings."
   ]
  },
  {
   "cell_type": "code",
   "execution_count": null,
   "id": "c0071d32-3091-43dc-8079-55f753052611",
   "metadata": {
    "tags": []
   },
   "outputs": [],
   "source": [
    "morpc.CONST_COUNTY_ABBREV[\"Morrow\"] = 'MOR'\n",
    "morpc.CONST_COUNTY_EXPAND = {value: key for key, value in morpc.CONST_COUNTY_ABBREV.items()}"
   ]
  },
  {
   "cell_type": "markdown",
   "id": "f57d9539-a52e-425c-9b17-61f76148bdaf",
   "metadata": {},
   "source": [
    "Now you can see the new mappings:"
   ]
  },
  {
   "cell_type": "code",
   "execution_count": null,
   "id": "b2ddebfd-bcea-4e9f-8ae1-89cfca883d5b",
   "metadata": {
    "tags": []
   },
   "outputs": [],
   "source": [
    "print(morpc.CONST_COUNTY_ABBREV[\"Morrow\"])\n",
    "print(morpc.CONST_COUNTY_EXPAND[\"MOR\"])"
   ]
  },
  {
   "cell_type": "markdown",
   "id": "5888bfb0-f126-4e66-9c71-bcce5ba26c6c",
   "metadata": {},
   "source": [
    "To revert to the old mapping you can either use a code block similar to the one above, or simply reload the library:"
   ]
  },
  {
   "cell_type": "code",
   "execution_count": null,
   "id": "cc047bf3-b9e6-447c-8648-dcd9c0dcf844",
   "metadata": {
    "tags": []
   },
   "outputs": [],
   "source": [
    "import importlib\n",
    "importlib.reload(morpc)"
   ]
  },
  {
   "cell_type": "markdown",
   "id": "4c3866b0-7362-4d8d-a265-3164bed9a869",
   "metadata": {},
   "source": [
    "Now the original mappings are restored."
   ]
  },
  {
   "cell_type": "code",
   "execution_count": null,
   "id": "32a242be-7abc-4f41-90e4-7d666f11a04e",
   "metadata": {
    "tags": []
   },
   "outputs": [],
   "source": [
    "print(morpc.CONST_COUNTY_ABBREV[\"Morrow\"])\n",
    "print(morpc.CONST_COUNTY_EXPAND[\"MRW\"])"
   ]
  },
  {
   "cell_type": "markdown",
   "id": "3713785f-33be-4332-87d2-6c84cf073392",
   "metadata": {
    "jp-MarkdownHeadingCollapsed": true,
    "tags": []
   },
   "source": [
    "# County identifiers (GEOID)"
   ]
  },
  {
   "cell_type": "markdown",
   "id": "e2ae1474-9882-4e66-88cb-03dd3ee9caa7",
   "metadata": {},
   "source": [
    "Map each MORPC county name to its five-character Census GEOID.  Note that the IDs are strings.  They are not integers and should not be handled as such."
   ]
  },
  {
   "cell_type": "code",
   "execution_count": null,
   "id": "001b151c-4432-44e9-b251-0c00b2152cfe",
   "metadata": {
    "tags": []
   },
   "outputs": [],
   "source": [
    "morpc.CONST_COUNTY_NAME_TO_ID"
   ]
  },
  {
   "cell_type": "markdown",
   "id": "3bb360c1-e73d-4b4b-9bfe-c129f9b039ef",
   "metadata": {},
   "source": [
    "Map each GEOID back to its county name."
   ]
  },
  {
   "cell_type": "code",
   "execution_count": null,
   "id": "2766e66e-5977-403e-9e4b-588034cce8f6",
   "metadata": {
    "tags": []
   },
   "outputs": [],
   "source": [
    "morpc.CONST_COUNTY_ID_TO_NAME"
   ]
  },
  {
   "cell_type": "markdown",
   "id": "c1ab6453-c9f1-47a9-b0cd-0318bb7ee331",
   "metadata": {
    "jp-MarkdownHeadingCollapsed": true,
    "tags": []
   },
   "source": [
    "# Summary level identifiers."
   ]
  },
  {
   "cell_type": "markdown",
   "id": "7164067f-c677-4a05-9c2a-a38ff4b7214d",
   "metadata": {},
   "source": [
    "Summary level lookups for geographic jurisdictions. The summary levels include the Census sumlevel numbers, as well as some morpc summary levels, beginning with \"M\""
   ]
  },
  {
   "cell_type": "code",
   "execution_count": null,
   "id": "003bb820-ed22-4d9a-a851-ac5bbefdfa90",
   "metadata": {
    "tags": []
   },
   "outputs": [],
   "source": [
    "morpc.SUMLEVEL_LOOKUP"
   ]
  },
  {
   "cell_type": "code",
   "execution_count": null,
   "id": "6e9cd3d9-3ce6-43ab-92eb-6ab958d2fd3a",
   "metadata": {
    "tags": []
   },
   "outputs": [],
   "source": [
    "morpc.HIERARCHY_STRING_LOOKUP"
   ]
  },
  {
   "cell_type": "markdown",
   "id": "4d7c3edf-84af-4f84-bdc7-c77666cce725",
   "metadata": {
    "tags": []
   },
   "source": [
    "# countyLookup() Class "
   ]
  },
  {
   "cell_type": "markdown",
   "id": "074d143c-b891-4890-ac41-f4ce5bae34a2",
   "metadata": {
    "tags": []
   },
   "source": [
    "## List counties and convert between county names and codes (Central Ohio, Ohio, or U.S.)"
   ]
  },
  {
   "cell_type": "markdown",
   "id": "6a3aae1e-5faf-42d3-be00-8722c6481eb5",
   "metadata": {},
   "source": [
    "The library includes a Python class called `countyLookup`. Upon instantiation, this object is pre-loaded with a dataframe describing a set of counties whose scope is specified by the user.  The object includes methods for listing the counties by their names or GEOIDs and for two-way conversion between name and GEOID.\n",
    "\n",
    "  - `scope=\"morpc\"`     Default. Loads only the counties in the MORPC 15-county region (see `CONST_REGIONS['15-County Region']` above)\n",
    "  - `scope=\"corpo\"`     Loads only the counties in the CORPO region (see `CONST_REGIONS['CORPO Region']` above)\n",
    "  - `scope=\"ohio\"`      Loads all counties in Ohio\n",
    "  - `scope=\"us\"`      Loads all counties in the United States\n",
    "\n",
    "*NOTE: As of Jan 2024, some methods are not supported for scope=\"us\".  See details below.*"
   ]
  },
  {
   "cell_type": "markdown",
   "id": "4c15a933-5ec0-4070-a9b9-d85a784e9623",
   "metadata": {},
   "source": [
    "You can create an object containing the MORPC 15 counties as follows:"
   ]
  },
  {
   "cell_type": "code",
   "execution_count": null,
   "id": "8fff5426-bbb4-48b3-8b46-b816ffa2bed8",
   "metadata": {
    "tags": []
   },
   "outputs": [],
   "source": [
    "countyLookup = morpc.countyLookup()"
   ]
  },
  {
   "cell_type": "markdown",
   "id": "6011ad7f-0e51-43eb-ae8b-b592244af517",
   "metadata": {},
   "source": [
    "Or if you prefer to be explicit:"
   ]
  },
  {
   "cell_type": "code",
   "execution_count": null,
   "id": "cca62a3f-e652-41eb-9b31-25f58b1b8f68",
   "metadata": {
    "tags": []
   },
   "outputs": [],
   "source": [
    "countyLookup = morpc.countyLookup(scope=\"morpc\")"
   ]
  },
  {
   "cell_type": "markdown",
   "id": "e20f3046-e094-4ed9-baf3-f67753c2d357",
   "metadata": {},
   "source": [
    "Either way, the object is populated with the following dataframe."
   ]
  },
  {
   "cell_type": "code",
   "execution_count": null,
   "id": "b536c202-f790-40e9-8ab4-a8b1b3d5830c",
   "metadata": {
    "tags": []
   },
   "outputs": [],
   "source": [
    "countyLookup.df"
   ]
  },
  {
   "cell_type": "markdown",
   "id": "7055eba7-86ef-4eb7-88c0-bba1add17dd8",
   "metadata": {},
   "source": [
    "You can create a list of the names of the counties:"
   ]
  },
  {
   "cell_type": "code",
   "execution_count": null,
   "id": "d6222a3e-dfb1-441a-a9b2-9422e52c7589",
   "metadata": {
    "tags": []
   },
   "outputs": [],
   "source": [
    "countyLookup.list_names()"
   ]
  },
  {
   "cell_type": "markdown",
   "id": "e69dd40b-cfe2-49c9-87fd-099a2f0044ac",
   "metadata": {},
   "source": [
    "Or list their IDs:"
   ]
  },
  {
   "cell_type": "code",
   "execution_count": null,
   "id": "8cf1c007-1e4c-47e2-bb29-0e2c99d9b592",
   "metadata": {
    "tags": []
   },
   "outputs": [],
   "source": [
    "countyLookup.list_ids()"
   ]
  },
  {
   "cell_type": "markdown",
   "id": "eb1c7e79-0c75-4b08-8087-e45acbd0bd9e",
   "metadata": {},
   "source": [
    "You can also look up the ID for a county given its name."
   ]
  },
  {
   "cell_type": "code",
   "execution_count": null,
   "id": "67b0822a-23ec-4c3e-9627-2de2e55aea18",
   "metadata": {
    "tags": []
   },
   "outputs": [],
   "source": [
    "countyLookup.get_id(\"Hocking\")"
   ]
  },
  {
   "cell_type": "markdown",
   "id": "641e5ba2-5c22-4121-a1f6-385924da32cf",
   "metadata": {},
   "source": [
    "Or look up its name given its ID."
   ]
  },
  {
   "cell_type": "code",
   "execution_count": null,
   "id": "7b817367-f688-42c6-a3c3-5a367f0721bc",
   "metadata": {
    "tags": []
   },
   "outputs": [],
   "source": [
    "countyLookup.get_name(\"39091\")"
   ]
  },
  {
   "cell_type": "markdown",
   "id": "ac551ed6-acd3-4151-a12f-687c0bed43c4",
   "metadata": {
    "jp-MarkdownHeadingCollapsed": true,
    "tags": []
   },
   "source": [
    "# varLookup() class"
   ]
  },
  {
   "cell_type": "markdown",
   "id": "e02ab2be-fe64-46e0-8b5e-f49505957b40",
   "metadata": {},
   "source": [
    "Standard variable lookup class\n",
    "\n",
    "Reads the list of \"standard\" variables from a lookup table.  Provides dataframe access to the list of variables, as well as an alias cross-reference table."
   ]
  },
  {
   "cell_type": "code",
   "execution_count": null,
   "id": "96494119-c5ed-4ee3-bbe8-50f0dfeee54f",
   "metadata": {
    "tags": []
   },
   "outputs": [],
   "source": [
    "## PLACEHOLDER FOR EXAMPLES"
   ]
  },
  {
   "cell_type": "markdown",
   "id": "5af4cce2-1a02-419e-a54a-a04695a3af7e",
   "metadata": {
    "jp-MarkdownHeadingCollapsed": true,
    "tags": []
   },
   "source": [
    "# Write data and charts to Excel"
   ]
  },
  {
   "cell_type": "markdown",
   "id": "5b073ba6-d078-4a49-b6e9-ab8535e4157f",
   "metadata": {},
   "source": [
    "Excel-based charts are exceptionally useful to our customers because they are easy for our customers to manipulate, style, and include in downstream products such as PowerPoint slides.  They are, however, inconvenient to product programmatically.  The following functions are intended to simplify the production of Excel-based charts that are consistent with MORPC branding and, eventually, with Data & Mapping visualization standards."
   ]
  },
  {
   "cell_type": "markdown",
   "id": "868f2ca7-4e8d-42d6-a960-5fa80f834ad4",
   "metadata": {},
   "source": [
    "### data_chart_to_excel( )"
   ]
  },
  {
   "cell_type": "markdown",
   "id": "de413abe-466e-4471-9bf4-90e220642925",
   "metadata": {},
   "source": [
    "This function will create an Excel worksheet consisting of the contents of a pandas dataframe (as a formatted table) and, optionally, a chart to visualize the series included in the dataframe.  The simplest invocation will produce a table and a basic column (vertical bar) chart with default formatting that is consistent with MORPC branding guidelines, however the user can specify many of options supported by the xlsxwriter library (https://xlsxwriter.readthedocs.io/).\n",
    "\n",
    "The following blocks demonstrates some simple use cases.  First, create a dataframe with demonstration data."
   ]
  },
  {
   "cell_type": "code",
   "execution_count": null,
   "id": "79637cfc-23c2-4634-afb5-9852a29358b9",
   "metadata": {
    "tags": []
   },
   "outputs": [],
   "source": [
    "import pandas as pd\n",
    "import os"
   ]
  },
  {
   "cell_type": "code",
   "execution_count": null,
   "id": "0d166665-1c9b-4a81-a54b-29e474a877dd",
   "metadata": {
    "tags": []
   },
   "outputs": [],
   "source": [
    "d = {'col1': [1, 2, 3, 4], 'col2':[3, 4, 5, 6]}\n",
    "df = pd.DataFrame(data=d)\n",
    "df"
   ]
  },
  {
   "cell_type": "markdown",
   "id": "415015d9-9bc2-48bc-bbc6-9c5391349b38",
   "metadata": {},
   "source": [
    "Next create an Excel object using the xlsxwriter package.  The object is linked to an Excel workbook, as indicated by the path in the first argument."
   ]
  },
  {
   "cell_type": "code",
   "execution_count": null,
   "id": "5e07400f-5995-4119-b5b3-f992a9a3758a",
   "metadata": {
    "tags": []
   },
   "outputs": [],
   "source": [
    "# Create a directory to store the output (for demonstration purposes only)\n",
    "if not os.path.exists(\"./temp_data\"):\n",
    "    os.makedirs(\"./temp_data\")\n",
    "\n",
    "writer = pd.ExcelWriter(\"./temp_data/dataChartToExcelOutput.xlsx\", engine='xlsxwriter')"
   ]
  },
  {
   "cell_type": "markdown",
   "id": "76ece22f-b514-41bd-b5a2-b57185217a01",
   "metadata": {},
   "source": [
    "The following block will create a new worksheet in the Excel object which contains a table representing the dataframe and column chart displaying the series in the table.  The new worksheet will be called \"Sheet1\" since no sheet name was specified.  Default presentation settings will be used since we did not specify any settings.  This will result in a column (vertical bar) chart.\n",
    "\n",
    "**Note: You will not be able to view the spreadsheet itself until the writer object is closed in a later block.**"
   ]
  },
  {
   "cell_type": "code",
   "execution_count": null,
   "id": "d94f5f20-2b42-4db7-b555-aeda49f2c73b",
   "metadata": {
    "tags": []
   },
   "outputs": [],
   "source": [
    "morpc.data_chart_to_excel(df, writer)  "
   ]
  },
  {
   "cell_type": "markdown",
   "id": "ae544bba-4010-4af4-91d8-2b5ccf621b10",
   "metadata": {},
   "source": [
    "The following block will add another worksheet to the xlsxwriter object.  This time we specified a sheet name (\"LineChart\") and a chart type (\"line\"), so the code will create the same table as the previous command but will produce a line chart instead of a column chart.  As before, the default presentation settings will be used."
   ]
  },
  {
   "cell_type": "code",
   "execution_count": null,
   "id": "35ec5de7-8a6b-47bb-9086-270fca9f48a8",
   "metadata": {
    "tags": []
   },
   "outputs": [],
   "source": [
    "morpc.data_chart_to_excel(df, writer, sheet_name=\"LineChart\", chartType=\"line\")"
   ]
  },
  {
   "cell_type": "markdown",
   "id": "c932d386-a2f5-4f93-b4e1-d5e3d550fd22",
   "metadata": {},
   "source": [
    "The following block goes a step further and specifies a subtype for the chart.  Specifically it creates a stacked column chart.  As before, the default presentation settings will be used.  For more information about what chart types and subtypes are available, see https://xlsxwriter.readthedocs.io/workbook.html#workbook-add-chart.  The supported chart types as of this writing include column, bar, and line.  The stacked subtype has been minimally tested for column and bar charts.  Other chart types and subtypes may or may not work without further improvements to the function."
   ]
  },
  {
   "cell_type": "code",
   "execution_count": null,
   "id": "a58d3280-5947-4f9e-bbdd-53f59200ffc5",
   "metadata": {
    "tags": []
   },
   "outputs": [],
   "source": [
    "morpc.data_chart_to_excel(df, writer, sheet_name=\"Stacked\", chartType=\"column\", chartOptions={\"subtype\":\"stacked\"})"
   ]
  },
  {
   "cell_type": "markdown",
   "id": "b8d70b6e-6b0e-4745-975b-cac6b9a2224f",
   "metadata": {},
   "source": [
    "The next block demonstrates the \"bar\" (horiztontal bar) chart type and applies some custom presentation settings, specifically a set of user-specified colors and titles, and omission of the legend, which is displayed by default."
   ]
  },
  {
   "cell_type": "code",
   "execution_count": null,
   "id": "97a20171-e366-4c26-a77a-4339af6cb06a",
   "metadata": {
    "tags": []
   },
   "outputs": [],
   "source": [
    "morpc.data_chart_to_excel(df, writer, sheet_name=\"Custom\", chartType=\"bar\", chartOptions={\n",
    "    \"colors\": [\"cyan\",\"magenta\"],                   # Specify a custom color\n",
    "    \"hideLegend\": True,                             # Hide the legend\n",
    "    \"titles\": {                                     # Specify the chart title and axis titles\n",
    "        \"chartTitle\": \"My Chart\",\n",
    "        \"xTitle\": \"My independent variable\",\n",
    "        \"yTitle\": \"My dependent variable\",\n",
    "    }\n",
    "})"
   ]
  },
  {
   "cell_type": "markdown",
   "id": "bcf2992f-f835-408e-879f-e2b1d4728c01",
   "metadata": {},
   "source": [
    "Finally, we have to close the xlsxwriter object to finalize the Excel workbook and make it readable."
   ]
  },
  {
   "cell_type": "code",
   "execution_count": null,
   "id": "64ec000b-f33d-494d-bae8-ac899c58226c",
   "metadata": {
    "tags": []
   },
   "outputs": [],
   "source": [
    "writer.close()"
   ]
  },
  {
   "cell_type": "markdown",
   "id": "cfb2aa60-801b-489a-85a9-91490d28bfab",
   "metadata": {},
   "source": [
    "Now you should be able to open the Excel document at `./temp_data/dataChartToExcelOutput.xlsx`\n",
    "\n",
    "Note that many more customizations are possible.  To learn more, uncomment and run the following block, or enter the command in your own notebook or a Python interpreter."
   ]
  },
  {
   "cell_type": "code",
   "execution_count": null,
   "id": "75cd2ca3-9e80-4ae2-8716-0d4040f75073",
   "metadata": {
    "tags": []
   },
   "outputs": [],
   "source": [
    "# help(morpc.data_chart_to_excel)"
   ]
  },
  {
   "cell_type": "markdown",
   "id": "3ba0dc72-d56c-48d5-8299-2f5ac5e07f59",
   "metadata": {
    "jp-MarkdownHeadingCollapsed": true,
    "tags": []
   },
   "source": [
    "# Load spatial data"
   ]
  },
  {
   "cell_type": "markdown",
   "id": "82296574-7baa-470a-8df6-a3d12645d293",
   "metadata": {},
   "source": [
    "Often we want to make a copy of some input data and work with the copy, for example to protect the original data or to create an archival copy of it so that we can replicate the process later.  With tabular data this is simple, but with spatial data it can be tricky.  Shapefiles actually consist of up to six files, so it is necessary to copy them all.  Geodatabases may contain many layers in addition to the one we care about.  The `load_spatial_data()` function simplifies the process of reading the data and (optionally) making an archival copy. It has three parameters:\n",
    "  - `sourcePath` - The path to the geospatial data. It may be a file path or URL. In the case of a Shapefile, this should point to the .shp file or a zipped file that contains all of the Shapefile components. You can point to other zipped contents as well, but see caveats below.\n",
    "  - `layerName` (required for GPKG and GDB, optional for SHP) - The name of the layer that you wish to extract from a GeoPackage or File Geodatabase.  Not required for Shapefiles, but may be specified for use in the archival copy (see below)\n",
    "  - `driverName` (required for zipped data or data with non-standard file extension) - which [GDAL driver](https://gdal.org/drivers/vector/index.html) to use to read the file. Script will attempt to infer this from the file extension, but you must specify it if the data is zipped, if the file extension is non-standard, or if the extension cannot be determined from the path (e.g. if the path is an API query)\n",
    "  - `archiveDir` (optional) - The path to the directory where a copy of a data should be archived.  If this is specified, the data will be archived in this location as a GeoPackage.  The function will determine the file name and layer name from the specified parameters, using generic values if necessary.\n",
    "  - `archiveFileName` (optional) - If `archiveDir` is specified, you may use this to specify the name of the archival GeoPackage.  Omit the extension.  If this is unspecified, the function will assign the file name automatically using a generic value if necessary.\n",
    "  \n",
    "The following example loads data from the MORPC Mid-Ohio Open Data website, however you can also load data from a local path or network drive."
   ]
  },
  {
   "cell_type": "code",
   "execution_count": null,
   "id": "249e7a19-9d75-4b30-9ad3-655294f00a4f",
   "metadata": {
    "tags": []
   },
   "outputs": [],
   "source": [
    "import geopandas as gpd"
   ]
  },
  {
   "cell_type": "code",
   "execution_count": null,
   "id": "627d9101-6aa1-4504-a8c2-3784cd55dfad",
   "metadata": {
    "tags": []
   },
   "outputs": [],
   "source": [
    "# Create a directory to store the archival data (for demonstration purposes only)\n",
    "if not os.path.exists(\"./temp_data\"):\n",
    "    os.makedirs(\"./temp_data\")\n",
    "\n",
    "# Load the data and create an archival copy\n",
    "gdf = morpc.load_spatial_data(\n",
    "    sourcePath=\"https://opendata.arcgis.com/api/v3/datasets/e42b50fbd17a47739c2a7695778c498e_17/downloads/data?format=shp&spatialRefId=3735&where=1%3D1\", \n",
    "    layerName=\"MORPC MPO Boundary\",\n",
    "    driverName=\"ESRI Shapefile\",\n",
    "    archiveDir=\"./temp_data\"\n",
    ")"
   ]
  },
  {
   "cell_type": "markdown",
   "id": "f6f350e2-2fc4-4bbf-a313-3e414f0f4596",
   "metadata": {},
   "source": [
    "Let's take a look at the data and make sure it loaded correctly."
   ]
  },
  {
   "cell_type": "code",
   "execution_count": null,
   "id": "80370a69-4ae6-426c-b17b-0ea3f7dfdde8",
   "metadata": {
    "tags": []
   },
   "outputs": [],
   "source": [
    "gdf.drop(columns=\"Updated\").explore() ## avoid datetime column JSON error"
   ]
  },
  {
   "cell_type": "markdown",
   "id": "2d851750-8263-4d4a-b2ec-5927e33ad498",
   "metadata": {},
   "source": [
    "Now let's read the archival copy and make sure it looks the same.  We'll use the `load_spatial_data()` function again, but this time we won't make an archival copy."
   ]
  },
  {
   "cell_type": "code",
   "execution_count": null,
   "id": "74c619ee-56ae-4c6c-8367-151c5f13bfda",
   "metadata": {
    "tags": []
   },
   "outputs": [],
   "source": [
    "gdfArchive = morpc.load_spatial_data(\"./temp_data/MORPC MPO Boundary.gpkg\", layerName=\"MORPC MPO Boundary\")"
   ]
  },
  {
   "cell_type": "code",
   "execution_count": null,
   "id": "26be62ad-6b3d-4b89-abb9-dfb07eefc3ed",
   "metadata": {
    "tags": []
   },
   "outputs": [],
   "source": [
    "gdfArchive.drop(columns=\"Updated\").explore()"
   ]
  },
  {
   "cell_type": "markdown",
   "id": "c935a544-5b00-42ab-87fa-f49ca67b992b",
   "metadata": {
    "jp-MarkdownHeadingCollapsed": true,
    "tags": []
   },
   "source": [
    "# Assign geographic identifiers"
   ]
  },
  {
   "cell_type": "markdown",
   "id": "9a89c28b-23a4-4b3f-99c1-93a84d8dd104",
   "metadata": {},
   "source": [
    "Sometimes we have a set of locations and we would like to know what geography (county, zipcode, etc.) they fall in. The `assign_geo_identifiers()` function takes a set of georeference points and a list of geography levels and determines for each level which area each point falls in.  The function takes two parameters:\n",
    "  - `points` - a GeoPandas GeoDataFrame consisting of the points of interest\n",
    "  - `geographies` - A Python list of one or more strings in which each element corresponds to a geography level. You can specify as many levels as you want from the following list, however note that the function must download the polygons and perform the analysis for each level so if you specify many levels it may take a long time.\n",
    "    - \"county\" - County (Census TIGER)\n",
    "    - \"tract\" - *Not currently implemented*\n",
    "    - \"blockgroup\" - *Not currently implemented*\n",
    "    - \"block\" - *Not currently implemented*\n",
    "    - \"zcta\" - *Not currently implemented*\n",
    "    - \"place\" - Census place (Census TIGER)\n",
    "    - \"placecombo\" - *Not currently implemented*\n",
    "    - \"juris\" - *Not currently implemented*\n",
    "    - \"region15County\" - *Not currently implemented*\n",
    "    - \"region10County\" - *Not currently implemented*\n",
    "    - \"regionCORPO\" - *Not currently implemented*\n",
    "    - \"regionMPO\" - *Not currently implemented*\n",
    "\n",
    "**NOTE:** Many of the geography levels are not currently implemented.  They are being implemented as they are needed.  If you need one that has not yet been implemented, please contact Adam Porr (or implement it yourself)."
   ]
  },
  {
   "cell_type": "markdown",
   "id": "beb332fc-f66e-4909-909d-31ba181ffd11",
   "metadata": {},
   "source": [
    "In the following example, we will assign labels for the \"county\" and \"place\" geography levels to libraries in MORPC's Points of Interest layer.  First we'll download just the library locations from Mid-Ohio Open Data using the ArcGIS REST API."
   ]
  },
  {
   "cell_type": "code",
   "execution_count": null,
   "id": "2f087cb0-52e6-4de0-a7aa-b61b2a003cb1",
   "metadata": {
    "tags": []
   },
   "outputs": [],
   "source": [
    "url = \"https://services1.arcgis.com/EjjnBtwS9ivTGI8x/arcgis/rest/services/Points_of_Interest/FeatureServer/0/query?outFields=*&where=%22type%22=%27Library%27&f=geojson\"\n",
    "librariesRaw = gpd.read_file(url)"
   ]
  },
  {
   "cell_type": "markdown",
   "id": "f7e664bb-4a22-46e1-b23d-ee525f91ef49",
   "metadata": {},
   "source": [
    "The data incudes a bunch of fields that we don't need.  For clarity, extract only the relevant fields."
   ]
  },
  {
   "cell_type": "code",
   "execution_count": null,
   "id": "812942d9-b4a0-4cc8-975a-4b88db233a63",
   "metadata": {
    "tags": []
   },
   "outputs": [],
   "source": [
    "libraries = librariesRaw.copy().filter(items=['NAME', 'ADDRESS','geometry'], axis=\"columns\")"
   ]
  },
  {
   "cell_type": "code",
   "execution_count": null,
   "id": "3dfc5ac5-da09-46c9-aec0-ca839d1b2d97",
   "metadata": {
    "tags": []
   },
   "outputs": [],
   "source": [
    "libraries.head()"
   ]
  },
  {
   "cell_type": "markdown",
   "id": "34a8f5be-40bf-4430-8fc9-5fb8c0e4e7e5",
   "metadata": {},
   "source": [
    "Let's take a look at the library locations."
   ]
  },
  {
   "cell_type": "code",
   "execution_count": null,
   "id": "a0f40998-c67d-4686-8383-8779a8226a5a",
   "metadata": {
    "tags": []
   },
   "outputs": [],
   "source": [
    "libraries.explore(style_kwds={\"radius\":4})"
   ]
  },
  {
   "cell_type": "markdown",
   "id": "85159d11-9ad0-48f2-b01c-b046618d071c",
   "metadata": {},
   "source": [
    "Use the `assign_geo_identifiers()` function to iterate through the requested geography levels (in this case \"county\" and \"place\"), labeling each point with the identifier of the geography in each level where the point is located."
   ]
  },
  {
   "cell_type": "code",
   "execution_count": null,
   "id": "40da6862-fa29-4320-83b1-6501dd8d7c28",
   "metadata": {
    "tags": []
   },
   "outputs": [],
   "source": [
    "librariesEnriched = morpc.assign_geo_identifiers(libraries, [\"county\",\"place\"])"
   ]
  },
  {
   "cell_type": "markdown",
   "id": "2f6a9bbb-76b1-4244-9133-07dd44a063f1",
   "metadata": {},
   "source": [
    "Note that two columns have been added to the dataframe, one that contains the identifier for the county the library is located in and one that contains the identifier for the place.  "
   ]
  },
  {
   "cell_type": "code",
   "execution_count": null,
   "id": "40dfde88-0230-47e4-9db7-2619cff6f9b9",
   "metadata": {
    "tags": []
   },
   "outputs": [],
   "source": [
    "librariesEnriched.head()"
   ]
  },
  {
   "cell_type": "markdown",
   "id": "f3d7264f-5340-49db-8b1d-885428db7948",
   "metadata": {},
   "source": [
    "Let's take a look at libraries, symbolizing each according to the county where it is located."
   ]
  },
  {
   "cell_type": "code",
   "execution_count": null,
   "id": "34541f4d-405a-4fb9-91fe-97186f7f66bf",
   "metadata": {
    "tags": []
   },
   "outputs": [],
   "source": [
    "librariesEnriched.explore(column=\"id_county\", style_kwds={\"radius\":4})"
   ]
  },
  {
   "cell_type": "markdown",
   "id": "c5b815f8-1ffd-4aed-9a0f-29f9f25bac6b",
   "metadata": {},
   "source": [
    "Let's take another look, this time symbolizing each library according to the place where it is located.  The legend has been suppressed because there are too many unique values, but you can hover over each point to see the place identifier that has been assigned to it."
   ]
  },
  {
   "cell_type": "code",
   "execution_count": null,
   "id": "201114d9-ab9c-4853-953e-0006e8a3aa64",
   "metadata": {
    "tags": []
   },
   "outputs": [],
   "source": [
    "librariesEnriched.explore(column=\"id_place\", style_kwds={\"radius\":4}, legend=False)"
   ]
  },
  {
   "cell_type": "markdown",
   "id": "7092a14a-e4b1-4dc6-be4a-4b3b280a5dfa",
   "metadata": {
    "jp-MarkdownHeadingCollapsed": true,
    "tags": []
   },
   "source": [
    "# morpc.frictionless - Schema tools (TableSchema)"
   ]
  },
  {
   "cell_type": "markdown",
   "id": "ac1d87d8-cc9d-4a37-8f25-51f1a56abead",
   "metadata": {},
   "source": [
    "As of January 2024 the Data Team is considering a new standard for machine-readable metadata, namely [TableSchema](https://specs.frictionlessdata.io/table-schema/).  TableSchema is a schema for tabular formats that includes many of the features for Avro (see above) plus rich types and constraints. TableSchema is supported in [Python](https://pypi.org/project/tableschema/) and [R](https://www.rdocumentation.org/packages/tableschema.r/), and the libraries include many utilty functions.\n",
    "\n",
    "The foundation of the morpc.frictionless is [frictionless-py](https://github.com/frictionlessdata/frictionless-py). The functions are written to create and load resources. "
   ]
  },
  {
   "cell_type": "markdown",
   "id": "121732ac-8577-4fab-80e0-dfa82a3d43d5",
   "metadata": {},
   "source": [
    "The foundation of the frictionless framework are [resouces](https://framework.frictionlessdata.io/docs/resources/file.html). Resources are structured json or yaml files that include metadata for the a file or number of files. "
   ]
  },
  {
   "cell_type": "code",
   "execution_count": null,
   "id": "109fddf9-d2af-4da8-8a6e-1a5906211d40",
   "metadata": {
    "tags": []
   },
   "outputs": [],
   "source": [
    "df = pd.read_excel('./temp_data/dataChartToExcelOutput.xlsx') ## import sample data from temp_data"
   ]
  },
  {
   "cell_type": "code",
   "execution_count": null,
   "id": "076ae79e-f5eb-4a02-9115-576bc57920e9",
   "metadata": {
    "tags": []
   },
   "outputs": [],
   "source": [
    "df.columns = [\"column1\", \"column2\", \"column3\"] ## give some reasonable names to columns"
   ]
  },
  {
   "cell_type": "code",
   "execution_count": null,
   "id": "1bea5da0-cc7c-44a6-8c50-3833721a1d47",
   "metadata": {
    "tags": []
   },
   "outputs": [],
   "source": [
    "df.to_csv('./temp_data/temp_df.csv', index=False) ## save a csv"
   ]
  },
  {
   "cell_type": "markdown",
   "id": "a47b5f02-a9e7-4c55-ab09-dbed3288864a",
   "metadata": {},
   "source": [
    "Typically we will create some constant variable name for the file, resource, and schema. The resource and schema are stored in yaml files. "
   ]
  },
  {
   "cell_type": "code",
   "execution_count": null,
   "id": "36fed608-13ce-4f77-ae9e-ae1eaccfc2b4",
   "metadata": {
    "tags": []
   },
   "outputs": [],
   "source": [
    "RESOURCE_DIR = './temp_data/'\n",
    "TABLE_FILE_NAME = 'temp_df.csv'\n",
    "TABLE_RESOURCE_NAME = TABLE_FILE_NAME.replace('.csv', '.resource.yaml')\n",
    "TABLE_SCHEMA_NAME = TABLE_FILE_NAME.replace('.csv', '.schema.yaml')"
   ]
  },
  {
   "cell_type": "markdown",
   "id": "fbe642f8-2b5c-4eba-9b65-9cd6650a56e2",
   "metadata": {},
   "source": [
    "Schema can be defined manually, or can be created via standard frictionless functions. "
   ]
  },
  {
   "cell_type": "code",
   "execution_count": null,
   "id": "26284e46-b023-47c3-add1-7fab025b6cb3",
   "metadata": {
    "tags": []
   },
   "outputs": [],
   "source": [
    "import frictionless"
   ]
  },
  {
   "cell_type": "code",
   "execution_count": null,
   "id": "29af185f-8f92-40f7-9e3c-bd2ed156b3d2",
   "metadata": {
    "tags": []
   },
   "outputs": [],
   "source": [
    "frictionless.Schema.describe(os.path.join(RESOURCE_DIR, TABLE_FILE_NAME)).to_yaml(os.path.join(RESOURCE_DIR, TABLE_SCHEMA_NAME)) ## Create a default schema and save as a yaml"
   ]
  },
  {
   "cell_type": "markdown",
   "id": "49c9d286-1749-42d5-b7bf-4ab0c61d0d3d",
   "metadata": {
    "tags": []
   },
   "source": [
    "### Create a resource"
   ]
  },
  {
   "cell_type": "code",
   "execution_count": null,
   "id": "5232cc03-0717-468a-9068-d3e1ac6e4739",
   "metadata": {
    "tags": []
   },
   "outputs": [],
   "source": [
    "morpc.frictionless.create_resource(TABLE_FILE_NAME, # the filename relative to resource dir, often just filename\n",
    "                                   resourcePath=os.path.join(RESOURCE_DIR, TABLE_RESOURCE_NAME), # file path to resource location\n",
    "                                   schemaPath=TABLE_SCHEMA_PATH, # path of schema relative to resource dir\n",
    "                                   name = \"temp_df\", # simple name\n",
    "                                   title = \"A title for the resource\", # A human readable title\n",
    "                                   description = \"A description of the resource to explain what it contains.\", # A full description\n",
    "                                   writeResource = True, # Boolean - Whether to archive the resouce file \n",
    "                                   resFormat = \"csv\",\n",
    "                                   resMediaType= \"text/csv\",  \n",
    "                                   computeBytes= True, # Compute the size if the file in bytes\n",
    "                                   computeHash = True, # Create a md5 hash of the file, a unique string to check if file has been changed.\n",
    "                                   validate=True # Validate the resource after creating\n",
    "                                  )"
   ]
  },
  {
   "cell_type": "markdown",
   "id": "d0250765-5c95-47b0-802a-54806038d459",
   "metadata": {},
   "source": [
    "Load data from a resource file. Returns the data, a resource, and the schema"
   ]
  },
  {
   "cell_type": "markdown",
   "id": "1239f34f-59f1-4964-bbb1-3156864e0940",
   "metadata": {},
   "source": [
    "### Load data from a resource file"
   ]
  },
  {
   "cell_type": "code",
   "execution_count": null,
   "id": "14390a5d-ba51-4164-ae03-8ddbdafa95cc",
   "metadata": {
    "tags": []
   },
   "outputs": [],
   "source": [
    "data, resource, schema = morpc.frictionless.load_data(os.path.join(RESOURCE_DIR, TABLE_RESOURCE_NAME))"
   ]
  },
  {
   "cell_type": "code",
   "execution_count": null,
   "id": "45f361f6-9b40-4270-b9c9-88f87acc5719",
   "metadata": {
    "tags": []
   },
   "outputs": [],
   "source": [
    "data"
   ]
  },
  {
   "cell_type": "code",
   "execution_count": null,
   "id": "f551e24f-3529-4ca1-b3e7-9a4d1a975ca4",
   "metadata": {
    "tags": []
   },
   "outputs": [],
   "source": [
    "resource"
   ]
  },
  {
   "cell_type": "code",
   "execution_count": null,
   "id": "e7fd5b2d-51e2-4ff2-9351-6702ff452a68",
   "metadata": {
    "tags": []
   },
   "outputs": [],
   "source": [
    "schema"
   ]
  },
  {
   "cell_type": "markdown",
   "id": "516220aa-269d-403a-9bb3-3308a77eb841",
   "metadata": {
    "jp-MarkdownHeadingCollapsed": true,
    "tags": []
   },
   "source": [
    "# Branding"
   ]
  },
  {
   "cell_type": "markdown",
   "id": "c3bbc0de-a700-452e-ac1f-32c72abeaf6d",
   "metadata": {},
   "source": [
    "The library includes the hex codes the MORPC brand colors and provides assigns of human-readable names to make the colors easier to work with."
   ]
  },
  {
   "cell_type": "code",
   "execution_count": null,
   "id": "c9f7209a-654b-47ce-a80d-d0cbdc1d44b2",
   "metadata": {
    "tags": []
   },
   "outputs": [],
   "source": [
    "morpc.CONST_MORPC_COLORS"
   ]
  },
  {
   "cell_type": "markdown",
   "id": "1766308e-92b4-4e33-bd80-1f0875e2cbf4",
   "metadata": {},
   "source": [
    "Here's what the colors look like when rendered on-screen."
   ]
  },
  {
   "cell_type": "code",
   "execution_count": null,
   "id": "fa3cae17-730c-42e6-90e2-69efe6046bac",
   "metadata": {
    "tags": []
   },
   "outputs": [],
   "source": [
    "outputString = \"<table><th>colorname</th><th>morpc.CONST_MORPC_COLORS[colorname]</th>\"\n",
    "for colorname in morpc.CONST_MORPC_COLORS:\n",
    "    outputString += \"<tr><td>{0}</td><td bgcolor={1}><font color='white'>{1}</font></td>\".format(colorname, morpc.CONST_MORPC_COLORS[colorname])\n",
    "outputString += \"</table>\"\n",
    "display(IPython.display.HTML(outputString))"
   ]
  },
  {
   "cell_type": "markdown",
   "id": "08c9f955-0675-48ee-8d55-ffa68f90b4c0",
   "metadata": {
    "jp-MarkdownHeadingCollapsed": true,
    "tags": []
   },
   "source": [
    "# Round preserving sum (aka \"bucket rounding\")"
   ]
  },
  {
   "cell_type": "markdown",
   "id": "5a03b254-9e96-47a2-a044-4b8eb9c245cf",
   "metadata": {},
   "source": [
    "Imagine we have a series of values that need to be rounded, but we want the rounded values to sum to the same value as the original series.  Create a random series for demonstration purposes."
   ]
  },
  {
   "cell_type": "code",
   "execution_count": null,
   "id": "0b84cde1-9d48-4bb9-a88f-e301922d200f",
   "metadata": {},
   "outputs": [],
   "source": [
    "rawValues = pd.Series([random.randrange(0, 100000)/100 for x in range(1,10)])\n",
    "list(rawValues)"
   ]
  },
  {
   "cell_type": "markdown",
   "id": "90a2f45c-59f3-4e22-8e37-5c672e20ce54",
   "metadata": {},
   "source": [
    "Specify the number of decimal digits to preserve. For this demo we'll round to integers (i.e. zero decimal places), which is typically what we want, but the function supports rounding to other decimal places as well."
   ]
  },
  {
   "cell_type": "code",
   "execution_count": null,
   "id": "4d8ff11f-dc05-443e-8e75-3aaf900ba8af",
   "metadata": {},
   "outputs": [],
   "source": [
    "digits = 0"
   ]
  },
  {
   "cell_type": "markdown",
   "id": "c263f44c-6ad9-4662-b5b1-4f7bc20f07c7",
   "metadata": {},
   "source": [
    "Perform bucket-rounding"
   ]
  },
  {
   "cell_type": "code",
   "execution_count": null,
   "id": "f6a1efe8-8257-4d9e-8785-2b770394b629",
   "metadata": {},
   "outputs": [],
   "source": [
    "bucketRoundedValues = morpc.round_preserve_sum(rawValues, digits, verbose=True)"
   ]
  },
  {
   "cell_type": "markdown",
   "id": "6fd9b6e4-a563-4ebd-ace5-b64259fd10da",
   "metadata": {},
   "source": [
    "Raw values:"
   ]
  },
  {
   "cell_type": "code",
   "execution_count": null,
   "id": "6008a2f5-4518-4484-9c12-010b57f4e03c",
   "metadata": {},
   "outputs": [],
   "source": [
    "rawValues.tolist()"
   ]
  },
  {
   "cell_type": "markdown",
   "id": "785f0b36-e793-4c26-b6fd-2fbd3f022415",
   "metadata": {},
   "source": [
    "Bucket-rounded values:"
   ]
  },
  {
   "cell_type": "code",
   "execution_count": null,
   "id": "44580123-34d2-4f5b-bfd4-c8a35524a9e6",
   "metadata": {},
   "outputs": [],
   "source": [
    "bucketRoundedValues.tolist()"
   ]
  },
  {
   "cell_type": "markdown",
   "id": "244cc15d-43ee-4cc0-be53-b729f61ee005",
   "metadata": {},
   "source": [
    "Sum of raw values:"
   ]
  },
  {
   "cell_type": "code",
   "execution_count": null,
   "id": "eacbad92-7383-411b-a3e0-d8cd4e5f2fb6",
   "metadata": {},
   "outputs": [],
   "source": [
    "round(sum(rawValues))"
   ]
  },
  {
   "cell_type": "markdown",
   "id": "432e6233-66f7-4040-8980-8703d672e901",
   "metadata": {},
   "source": [
    "Sum of bucket-rounded values:"
   ]
  },
  {
   "cell_type": "code",
   "execution_count": null,
   "id": "474bd05d-4356-4bd2-974d-c7b572c38105",
   "metadata": {
    "tags": []
   },
   "outputs": [],
   "source": [
    "sum(bucketRoundedValues)"
   ]
  },
  {
   "cell_type": "markdown",
   "id": "411adcf8-7cfa-4fdc-9936-ff223e576170",
   "metadata": {
    "jp-MarkdownHeadingCollapsed": true,
    "tags": []
   },
   "source": [
    "# Control variable to group"
   ]
  },
  {
   "cell_type": "markdown",
   "id": "78979642-3f3c-4f7a-aafb-3a3e3c75fe86",
   "metadata": {},
   "source": [
    "Often we have a set of values representing the members of some group and we need the sum of those values to match a total for the group that was computed independently. Perhaps the best known example of this is the annual [population estimates for sub-county jurisdictions](https://github.com/morpc/morpc-popest).  The estimates for all of the jurisdictions in the county must total to the [county-level population estimates](https://github.com/morpc/morpc-popest-county), which are derived independently.  In this case the county (group) totals are known as the \"control values\" or \"control totals\" and the process of adjusting the sub-county (group member) values so that their total is equal to the control total is known as \"controlling\" the variable.  The process includes the following steps, which will be described in more detail below.\n",
    "\n",
    "  - Establish control values for the groups (e.g. the county-level estimnates in the example above)\n",
    "  - Create a series of grouped values to be controlled (e.g. the sub-county estimates)\n",
    "  - Control the values in each group to the control total.  This consists of three sub-parts:\n",
    "    - Compute group sums\n",
    "    - Compute group shares\n",
    "    - Compute controlled values\n",
    "  \n",
    "In the sections that follow, we'll look at a more contrived example, namely controlling the 2021 ACS 5-year estimates for county subdivisions to the 2020 decennial county populations. This is not a recommended application and is used only for the sake of convenience."
   ]
  },
  {
   "cell_type": "markdown",
   "id": "1c0f899f-68d0-4e3b-bff6-51455c5be540",
   "metadata": {},
   "source": [
    "### Establish control values for groups"
   ]
  },
  {
   "cell_type": "markdown",
   "id": "dd41122d-ae66-44c7-a82b-76afdb7f1268",
   "metadata": {},
   "source": [
    "Download county populations from 2020 decennial census"
   ]
  },
  {
   "cell_type": "code",
   "execution_count": null,
   "id": "9a3bfc0b-9ea7-41ca-a6df-9bae9ffa5363",
   "metadata": {},
   "outputs": [],
   "source": [
    "r = requests.get(\n",
    "    url=\"https://api.census.gov/data/2020/dec/dhc\",\n",
    "    params={\n",
    "        \"get\":\",\".join([\"P1_001N\"]),\n",
    "        \"for\":\"county:{}\".format(\",\".join([x[2:] for x in countyLookup.list_ids()])),\n",
    "        \"in\": \"state:39\"\n",
    "        }\n",
    ")\n",
    "records = r.json()\n",
    "countyPop = pd.DataFrame.from_records(records[1:], columns=records[0])\n",
    "countyPop[\"C_GEOID\"] = countyPop[\"state\"] + countyPop[\"county\"]\n",
    "countyPop = countyPop.loc[countyPop[\"county\"].isin([x[2:] for x in countyLookup.list_ids()])].copy() \\\n",
    "    .rename(columns={\"P1_001N\":\"C_POP\"}) \\\n",
    "    .drop(columns={\"state\",\"county\"}) \\\n",
    "    .astype({\"C_POP\":\"int\"}) \\\n",
    "    .set_index(\"C_GEOID\")"
   ]
  },
  {
   "cell_type": "markdown",
   "id": "26d68896-58b0-49db-b1fa-f1014d531bb0",
   "metadata": {},
   "source": [
    "Now we have the population for each county (indexed by their GEOIDs) which will serve as the control totals."
   ]
  },
  {
   "cell_type": "code",
   "execution_count": null,
   "id": "8f162561-9480-42d2-95a8-0a6305316f48",
   "metadata": {},
   "outputs": [],
   "source": [
    "countyPop.head()"
   ]
  },
  {
   "cell_type": "markdown",
   "id": "a83b3f15-afab-4433-beb1-8bcd5c7fd92a",
   "metadata": {},
   "source": [
    "### Create series of grouped values to be controlled"
   ]
  },
  {
   "cell_type": "markdown",
   "id": "480d2004-24f2-468e-844d-95c40188fc34",
   "metadata": {},
   "source": [
    "Download sub-county populations from the 2021 ACS 5-year estimates"
   ]
  },
  {
   "cell_type": "code",
   "execution_count": null,
   "id": "d691d8f8-6b91-4a46-a65a-9b771fd25536",
   "metadata": {},
   "outputs": [],
   "source": [
    "r = requests.get(\n",
    "    url=\"https://api.census.gov/data/2021/acs/acs5\",\n",
    "    params={\n",
    "        \"get\":\",\".join([\"NAME\",\"GEO_ID\",\"B01001_001E\",\"B01001_001M\"]),\n",
    "        \"for\":\"county subdivision:*\",\n",
    "        \"in\": [\n",
    "            \"state:39\",\n",
    "            \"county:{}\".format(\",\".join([x[2:] for x in countyLookup.list_ids()])),\n",
    "        ]\n",
    "    }\n",
    ")\n",
    "records = r.json()\n",
    "subdivPop = pd.DataFrame.from_records(records[1:], columns=records[0])\n",
    "subdivPop = subdivPop \\\n",
    "    .rename(columns={\"GEO_ID\":\"GEOID\",\"B01001_001E\":\"POP\",\"B01001_001M\":\"POP_MOE\"}) \\\n",
    "    .astype({\"POP\":\"int\"}) \\\n",
    "    .set_index(\"GEOID\")\n",
    "subdivPop[\"C_GEOID\"] = subdivPop[\"state\"] + subdivPop[\"county\"]"
   ]
  },
  {
   "cell_type": "markdown",
   "id": "cca55de0-3a29-4028-8b26-ea4876194358",
   "metadata": {},
   "source": [
    "Now we have population estimates for the members of each group (county).  Note that the county GEOID (C_GEOID) has been assigned to each member record.  We'll use this to iterate through groups."
   ]
  },
  {
   "cell_type": "code",
   "execution_count": null,
   "id": "8c4bc3f2-637a-413a-8fe6-5a0692078a4f",
   "metadata": {},
   "outputs": [],
   "source": [
    "subdivPop.head()"
   ]
  },
  {
   "cell_type": "markdown",
   "id": "b7a3e62a-93f6-4a0d-b849-424bf663b705",
   "metadata": {},
   "source": [
    "Note that the sums of the subdivision populations doesn't match the sum of the county populations. This is expected and it is the reason we need to control the subdivision values."
   ]
  },
  {
   "cell_type": "code",
   "execution_count": null,
   "id": "04971586-30c0-4fbd-8464-f92dee904845",
   "metadata": {},
   "outputs": [],
   "source": [
    "subdivPop[\"POP\"].sum()"
   ]
  },
  {
   "cell_type": "code",
   "execution_count": null,
   "id": "ef97fe9c-4e49-405d-8785-9e0303600741",
   "metadata": {},
   "outputs": [],
   "source": [
    "countyPop[\"C_POP\"].sum()"
   ]
  },
  {
   "cell_type": "markdown",
   "id": "0da3ab19-7863-4de0-91a6-e538d0068c4d",
   "metadata": {},
   "source": [
    "### Control the values in each group to the control total"
   ]
  },
  {
   "cell_type": "markdown",
   "id": "f6d57086-a7fa-4b90-a04a-7e0e3587ed92",
   "metadata": {},
   "source": [
    "Recall that this step has three sub-parts:\n",
    "\n",
    "  1. Compute group sums (see `morpc.compute_group_sum()`)\n",
    "  2. Compute group shares (see `morpc.compute_group_share()`)\n",
    "  3. Compute controlled values (see `morpc.compute_controlled_values()`)\n",
    "\n",
    "The morpc-common library has a function for each of these steps as noted above, but it also has a high-level function that performs all three steps in sequence, namely `morpc.control_variable_to_group()`.  It requires the following inputs:\n",
    "\n",
    "  - `inputDf` is a pandas DataFrame with a column containing the group shares and (optionally) a column containg the group labels.\n",
    "  - `controlValues` is one of the following:\n",
    "      - If `groupbyField == None`: `controlValues` is a scalar number (integer or float)\n",
    "      - If `groupbyField != None`: `controlValues` is a pandas Series of numbers indexed by group labels\n",
    "  - `groupbyField` (optional) is the name of the column of `inputDf` that contains the group labels.\n",
    "  - `shareField` (optional) is the name of the column of `inputDf` containing the shares that the values comprise.  If this is not specified, \"GROUP_SHARE\" will be used.\n",
    "  - `roundPreserveSumDigits` (optional) is the number of decimal places that the scaled values (i.e. the values in the \"CONTROLLED_VALUE\" column) should be rounded to. A \"bucket rounding\" technique (see `morpc.round_preserve_sum()` will be used to ensure that the sum of the values in the group is preserved. If this is not specified, the scaled values will be left unrounded.\n",
    "\n",
    "This is what the function call looks like for our example case:"
   ]
  },
  {
   "cell_type": "code",
   "execution_count": null,
   "id": "fb54cf06-54d6-4fde-9275-7972a864b74d",
   "metadata": {},
   "outputs": [],
   "source": [
    "subdivPopControlled = morpc.control_variable_to_group(inputDf=subdivPop, controlValues=countyPop[\"C_POP\"], valueField=\"POP\", groupbyField=\"C_GEOID\", roundPreserveSumDigits=0)\n",
    "subdivPopControlled.head()"
   ]
  },
  {
   "cell_type": "markdown",
   "id": "8f422883-1ec6-4688-b807-cbe362e79995",
   "metadata": {},
   "source": [
    "### Check the results"
   ]
  },
  {
   "cell_type": "markdown",
   "id": "748e54a6-f63a-4064-8a42-2a1d989c0c1f",
   "metadata": {},
   "source": [
    "Now the sum of our controlled values should match the county control totals.  We can see that this is true by comparing the \"POP_SUM_CONTROLLED\" columns (which the sum of \"CONTROLLED_VALUE\" by county) and the \"C_POP\" column (which is the county control total) and verifying that the two are equal for all records."
   ]
  },
  {
   "cell_type": "code",
   "execution_count": null,
   "id": "a82979b7-45fe-4a4f-8464-658b413ca2de",
   "metadata": {},
   "outputs": [],
   "source": [
    "subdivPopControlled[[\"C_GEOID\",\"POP\",\"CONTROLLED_VALUE\"]] \\\n",
    "    .groupby(\"C_GEOID\").sum() \\\n",
    "    .rename(columns={\"POP\":\"POP_SUM\",\"CONTROLLED_VALUE\":\"POP_SUM_CONTROLLED\"}) \\\n",
    "    .join(countyPop)"
   ]
  },
  {
   "cell_type": "markdown",
   "id": "47bc97d5-f4cd-4d70-90f8-deb18d653031",
   "metadata": {},
   "source": [
    "We may want to get a sense of how much adjustment of the sub-county values was required. To do this we can compute the difference between the controlled value and the original value and do some desriptive analysis."
   ]
  },
  {
   "cell_type": "code",
   "execution_count": null,
   "id": "d484a6c8-24ae-44ac-b8bf-4eb6321855fe",
   "metadata": {},
   "outputs": [],
   "source": [
    "subdivPopControlled[\"RESIDUAL\"] = subdivPopControlled[\"CONTROLLED_VALUE\"] - subdivPopControlled[\"POP\"]\n",
    "subdivPopControlled[\"RESIDUAL_PCT\"] = subdivPopControlled[\"RESIDUAL\"]/subdivPopControlled[\"POP\"]\n",
    "subdivPopControlled[\"RESIDUAL_PCT\"] = subdivPopControlled[\"RESIDUAL_PCT\"].replace(np.inf, 0)\n",
    "subdivPopControlled[\"RESIDUAL_PCT\"] = subdivPopControlled[\"RESIDUAL_PCT\"].replace(-np.inf, 0)\n",
    "subdivPopControlled[\"RESIDUAL_PCT\"] = subdivPopControlled[\"RESIDUAL_PCT\"].fillna(0)"
   ]
  },
  {
   "cell_type": "markdown",
   "id": "73db1449-d180-4aab-a939-6efee627a5dd",
   "metadata": {},
   "source": [
    "First we'll look at the stats for the raw residual."
   ]
  },
  {
   "cell_type": "code",
   "execution_count": null,
   "id": "7bfbe7e9-a73e-479b-867e-3dfea6805c85",
   "metadata": {},
   "outputs": [],
   "source": [
    "subdivPopControlled[\"RESIDUAL\"].describe()"
   ]
  },
  {
   "cell_type": "code",
   "execution_count": null,
   "id": "39963ce5-e6cb-4cbf-adb7-6f0d21055b5f",
   "metadata": {},
   "outputs": [],
   "source": [
    "subdivPopControlled[\"RESIDUAL\"].hist(bins=25, log=True)"
   ]
  },
  {
   "cell_type": "markdown",
   "id": "3038dde4-64d4-41cb-8b67-f219f4afd872",
   "metadata": {},
   "source": [
    "The residual is close to zero in the vast majority of cases.  Let's look at the ten cases with the greatest residual."
   ]
  },
  {
   "cell_type": "code",
   "execution_count": null,
   "id": "820d93e9-0f35-4b22-bd7d-33e4bb295daa",
   "metadata": {},
   "outputs": [],
   "source": [
    "subdivPopControlled[[\"NAME\",\"POP\",\"CONTROLLED_VALUE\",\"RESIDUAL\",\"RESIDUAL_PCT\"]].sort_values(\"RESIDUAL\", ascending=False).head(10)"
   ]
  },
  {
   "cell_type": "markdown",
   "id": "b74cd8cf-3f69-4fbe-9ca3-0e5658c2a346",
   "metadata": {},
   "source": [
    "And the ten cases with the smallest residual (which could be large but negative)"
   ]
  },
  {
   "cell_type": "code",
   "execution_count": null,
   "id": "ca3f4eee-444d-4723-9dea-ceb66768867d",
   "metadata": {},
   "outputs": [],
   "source": [
    "subdivPopControlled[[\"NAME\",\"POP\",\"CONTROLLED_VALUE\",\"RESIDUAL\",\"RESIDUAL_PCT\"]].sort_values(\"RESIDUAL\", ascending=False).tail(10)"
   ]
  },
  {
   "cell_type": "markdown",
   "id": "0b993042-e433-48c0-9211-f387933c15f3",
   "metadata": {},
   "source": [
    "The raw residual for Columbus was very large, but as a percentage it is not that bad.  Let's look at the stats for the percentages."
   ]
  },
  {
   "cell_type": "code",
   "execution_count": null,
   "id": "22362d8c-40d7-4dcf-94b8-5a5dbc187f88",
   "metadata": {},
   "outputs": [],
   "source": [
    "subdivPopControlled[\"RESIDUAL_PCT\"].describe()"
   ]
  },
  {
   "cell_type": "code",
   "execution_count": null,
   "id": "cb9042de-bd75-4fda-9ca1-94ce4765acce",
   "metadata": {},
   "outputs": [],
   "source": [
    "subdivPopControlled[\"RESIDUAL_PCT\"].hist(bins=25)"
   ]
  },
  {
   "cell_type": "code",
   "execution_count": null,
   "id": "40c69f87-d4ac-4654-bbb2-866242396e37",
   "metadata": {},
   "outputs": [],
   "source": [
    "subdivPopControlled[[\"NAME\",\"POP\",\"CONTROLLED_VALUE\",\"RESIDUAL\",\"RESIDUAL_PCT\"]].sort_values(\"RESIDUAL_PCT\", ascending=False).head(10)"
   ]
  },
  {
   "cell_type": "code",
   "execution_count": null,
   "id": "f9b822a2-d101-4c51-bb70-2939a6e860a9",
   "metadata": {
    "tags": []
   },
   "outputs": [],
   "source": [
    "subdivPopControlled[[\"NAME\",\"POP\",\"CONTROLLED_VALUE\",\"RESIDUAL\",\"RESIDUAL_PCT\"]].sort_values(\"RESIDUAL_PCT\", ascending=False).tail(10)"
   ]
  },
  {
   "cell_type": "markdown",
   "id": "289570d2-9bf9-460f-b2ec-150a154471e9",
   "metadata": {
    "tags": []
   },
   "source": [
    "# morpc.census"
   ]
  },
  {
   "cell_type": "markdown",
   "id": "58987e00-3d90-4b49-8803-ffeca7a757a5",
   "metadata": {},
   "source": [
    "MORPC works regularly with census data, including but not limited to ACS 5 and 1-year, Decennial Census, PEP, and geographies. The following module is useful for gathering and organizing census data for processes in various workflow. Those workflows are linked when appropriate. "
   ]
  },
  {
   "cell_type": "markdown",
   "id": "bfb91bc2-47ee-4472-8e8c-19025394c71d",
   "metadata": {},
   "source": [
    "### ACS functions and variables"
   ]
  },
  {
   "cell_type": "markdown",
   "id": "84188f39-8fc0-4e3d-baac-dcbc5e476929",
   "metadata": {},
   "source": [
    "acs_get() is a low-level wrapper for Census API requests that returns the results as a pandas dataframe. If necessary, it splits the request into several smaller requests to bypass the 50-variable limit imposed by the API.  \n",
    "\n",
    "The resulting dataframe is indexed by GEOID (regardless of whether it was requested) and omits other fields that are not requested but which are returned automatically with each API request (e.g. \"state\", \"county\") "
   ]
  },
  {
   "cell_type": "code",
   "execution_count": 2,
   "id": "4d3fa2a0-e67c-459f-b0c7-0894025213f8",
   "metadata": {
    "tags": []
   },
   "outputs": [],
   "source": [
    "url = 'https://api.census.gov/data/2022/acs/acs1'\n",
    "params = {\n",
    "    \"get\": \"GEO_ID,NAME,B01001_001E\",\n",
    "    \"for\": \"county:049,041\",\n",
    "    \"in\": \"state:39\"\n",
    "}"
   ]
  },
  {
   "cell_type": "code",
   "execution_count": 3,
   "id": "44e4bb37-f082-4530-b7cc-abdad16895df",
   "metadata": {
    "tags": []
   },
   "outputs": [
    {
     "name": "stdout",
     "output_type": "stream",
     "text": [
      "Total variables requested: 3\n",
      "Starting request #1. 3 variables remain.\n"
     ]
    }
   ],
   "source": [
    "acs = morpc.census.acs_get(url, params)"
   ]
  },
  {
   "cell_type": "code",
   "execution_count": 4,
   "id": "4e47da6b-4e55-4ed0-9c94-b94954424456",
   "metadata": {
    "tags": []
   },
   "outputs": [
    {
     "data": {
      "text/html": [
       "<div>\n",
       "<style scoped>\n",
       "    .dataframe tbody tr th:only-of-type {\n",
       "        vertical-align: middle;\n",
       "    }\n",
       "\n",
       "    .dataframe tbody tr th {\n",
       "        vertical-align: top;\n",
       "    }\n",
       "\n",
       "    .dataframe thead th {\n",
       "        text-align: right;\n",
       "    }\n",
       "</style>\n",
       "<table border=\"1\" class=\"dataframe\">\n",
       "  <thead>\n",
       "    <tr style=\"text-align: right;\">\n",
       "      <th></th>\n",
       "      <th>NAME</th>\n",
       "      <th>B01001_001E</th>\n",
       "    </tr>\n",
       "    <tr>\n",
       "      <th>GEO_ID</th>\n",
       "      <th></th>\n",
       "      <th></th>\n",
       "    </tr>\n",
       "  </thead>\n",
       "  <tbody>\n",
       "    <tr>\n",
       "      <th>0500000US39041</th>\n",
       "      <td>Delaware County, Ohio</td>\n",
       "      <td>226296</td>\n",
       "    </tr>\n",
       "    <tr>\n",
       "      <th>0500000US39049</th>\n",
       "      <td>Franklin County, Ohio</td>\n",
       "      <td>1321820</td>\n",
       "    </tr>\n",
       "  </tbody>\n",
       "</table>\n",
       "</div>"
      ],
      "text/plain": [
       "                                 NAME B01001_001E\n",
       "GEO_ID                                           \n",
       "0500000US39041  Delaware County, Ohio      226296\n",
       "0500000US39049  Franklin County, Ohio     1321820"
      ]
     },
     "execution_count": 4,
     "metadata": {},
     "output_type": "execute_result"
    }
   ],
   "source": [
    "acs"
   ]
  },
  {
   "cell_type": "markdown",
   "id": "343fed36-aefb-43ad-8dc4-a826335265da",
   "metadata": {
    "tags": []
   },
   "source": [
    "### Using morpc-censusacs-fetch as an input"
   ]
  },
  {
   "cell_type": "markdown",
   "id": "e311ca0a-a0c3-4396-ac3f-287a0dd183a9",
   "metadata": {},
   "source": [
    "When using ACS data, generally we will be digesting data produded using the [morpc-censusacs-fetch](https://github.com/morpc/morpc-censusacs-fetch) workflow. The data that is produced from that script is by default saved in its output_data folders ./morpc-censusacs-fetch/output_data/\n",
    "\n",
    "Run that script according to the documentation and then use acs_generate_dimension_table() downstream. "
   ]
  },
  {
   "cell_type": "markdown",
   "id": "9d314ee3-441e-4c41-8b66-a77ecbd77879",
   "metadata": {},
   "source": [
    "#### Load the data using frictionless.load_data()"
   ]
  },
  {
   "cell_type": "code",
   "execution_count": 49,
   "id": "5f0ea513-5357-407e-bf80-8c4c83ec9364",
   "metadata": {
    "tags": []
   },
   "outputs": [
    {
     "name": "stdout",
     "output_type": "stream",
     "text": [
      "morpc.load_data | INFO | Loading Frictionless Resource file at location ..\\..\\morpc-censusacs-fetch\\output_data\\morpc-acs5-2023-us-B01001.resource.yaml\n",
      "morpc.load_data | INFO | Loading data, resource file, and schema from their source locations\n",
      "morpc.load_data | INFO | --> Data file: ..\\..\\morpc-censusacs-fetch\\output_data\\morpc-acs5-2023-us-B01001.csv\n",
      "morpc.load_data | INFO | --> Resource file: ..\\..\\morpc-censusacs-fetch\\output_data\\morpc-acs5-2023-us-B01001.resource.yaml\n",
      "morpc.load_data | INFO | --> Schema file: ..\\..\\morpc-censusacs-fetch\\output_data\\morpc-acs5-2023-us-B01001.schema.yaml\n",
      "morpc.load_data | INFO | Loading data.\n"
     ]
    }
   ],
   "source": [
    "data, resource, schema = morpc.frictionless.load_data('../../morpc-censusacs-fetch/output_data/morpc-acs5-2023-us-B01001.resource.yaml', verbose=False)"
   ]
  },
  {
   "cell_type": "code",
   "execution_count": 51,
   "id": "a40c023c-acec-42ed-a5bc-b52da0a2b326",
   "metadata": {
    "tags": []
   },
   "outputs": [
    {
     "data": {
      "text/html": [
       "<div>\n",
       "<style scoped>\n",
       "    .dataframe tbody tr th:only-of-type {\n",
       "        vertical-align: middle;\n",
       "    }\n",
       "\n",
       "    .dataframe tbody tr th {\n",
       "        vertical-align: top;\n",
       "    }\n",
       "\n",
       "    .dataframe thead th {\n",
       "        text-align: right;\n",
       "    }\n",
       "</style>\n",
       "<table border=\"1\" class=\"dataframe\">\n",
       "  <thead>\n",
       "    <tr style=\"text-align: right;\">\n",
       "      <th></th>\n",
       "      <th>GEO_ID</th>\n",
       "      <th>SUMLEVEL</th>\n",
       "      <th>NAME</th>\n",
       "      <th>B01001_001E</th>\n",
       "      <th>B01001_001M</th>\n",
       "      <th>B01001_002E</th>\n",
       "      <th>B01001_002M</th>\n",
       "      <th>B01001_003E</th>\n",
       "      <th>B01001_003M</th>\n",
       "      <th>B01001_004E</th>\n",
       "      <th>...</th>\n",
       "      <th>B01001_045E</th>\n",
       "      <th>B01001_045M</th>\n",
       "      <th>B01001_046E</th>\n",
       "      <th>B01001_046M</th>\n",
       "      <th>B01001_047E</th>\n",
       "      <th>B01001_047M</th>\n",
       "      <th>B01001_048E</th>\n",
       "      <th>B01001_048M</th>\n",
       "      <th>B01001_049E</th>\n",
       "      <th>B01001_049M</th>\n",
       "    </tr>\n",
       "  </thead>\n",
       "  <tbody>\n",
       "    <tr>\n",
       "      <th>0</th>\n",
       "      <td>0100000US</td>\n",
       "      <td>010</td>\n",
       "      <td>United States</td>\n",
       "      <td>332387540</td>\n",
       "      <td>-555555555</td>\n",
       "      <td>164545087</td>\n",
       "      <td>6966</td>\n",
       "      <td>9688436</td>\n",
       "      <td>4185</td>\n",
       "      <td>10296243</td>\n",
       "      <td>...</td>\n",
       "      <td>5576237</td>\n",
       "      <td>15826</td>\n",
       "      <td>7978348</td>\n",
       "      <td>17513</td>\n",
       "      <td>5461052</td>\n",
       "      <td>16334</td>\n",
       "      <td>3631914</td>\n",
       "      <td>12460</td>\n",
       "      <td>4050652</td>\n",
       "      <td>15097</td>\n",
       "    </tr>\n",
       "  </tbody>\n",
       "</table>\n",
       "<p>1 rows × 101 columns</p>\n",
       "</div>"
      ],
      "text/plain": [
       "      GEO_ID SUMLEVEL           NAME  B01001_001E  B01001_001M  B01001_002E  \\\n",
       "0  0100000US      010  United States    332387540   -555555555    164545087   \n",
       "\n",
       "   B01001_002M  B01001_003E  B01001_003M  B01001_004E  ...  B01001_045E  \\\n",
       "0         6966      9688436         4185     10296243  ...      5576237   \n",
       "\n",
       "   B01001_045M  B01001_046E  B01001_046M  B01001_047E  B01001_047M  \\\n",
       "0        15826      7978348        17513      5461052        16334   \n",
       "\n",
       "   B01001_048E  B01001_048M  B01001_049E  B01001_049M  \n",
       "0      3631914        12460      4050652        15097  \n",
       "\n",
       "[1 rows x 101 columns]"
      ]
     },
     "execution_count": 51,
     "metadata": {},
     "output_type": "execute_result"
    }
   ],
   "source": [
    "data"
   ]
  },
  {
   "cell_type": "markdown",
   "id": "b14a8894-7332-473c-94c7-aa19e6169f93",
   "metadata": {
    "tags": []
   },
   "source": [
    "#### Using ACS_ID_FIELDS to get the fields ids"
   ]
  },
  {
   "cell_type": "code",
   "execution_count": null,
   "id": "a6f027e5-671f-48c3-a142-7ef846d82b14",
   "metadata": {},
   "outputs": [],
   "source": [
    "idFields = [field[\"name\"] for field in morpc.census.ACS_ID_FIELDS['us']]"
   ]
  },
  {
   "cell_type": "code",
   "execution_count": 56,
   "id": "34af9b25-ab81-48df-b115-d5aa434b0557",
   "metadata": {
    "tags": []
   },
   "outputs": [
    {
     "data": {
      "text/html": [
       "<div>\n",
       "<style scoped>\n",
       "    .dataframe tbody tr th:only-of-type {\n",
       "        vertical-align: middle;\n",
       "    }\n",
       "\n",
       "    .dataframe tbody tr th {\n",
       "        vertical-align: top;\n",
       "    }\n",
       "\n",
       "    .dataframe thead th {\n",
       "        text-align: right;\n",
       "    }\n",
       "</style>\n",
       "<table border=\"1\" class=\"dataframe\">\n",
       "  <thead>\n",
       "    <tr style=\"text-align: right;\">\n",
       "      <th></th>\n",
       "      <th>Universe</th>\n",
       "      <th>Universe MOE</th>\n",
       "    </tr>\n",
       "    <tr>\n",
       "      <th>GEOID</th>\n",
       "      <th></th>\n",
       "      <th></th>\n",
       "    </tr>\n",
       "  </thead>\n",
       "  <tbody>\n",
       "    <tr>\n",
       "      <th></th>\n",
       "      <td>332387540</td>\n",
       "      <td>-555555555</td>\n",
       "    </tr>\n",
       "  </tbody>\n",
       "</table>\n",
       "</div>"
      ],
      "text/plain": [
       "        Universe  Universe MOE\n",
       "GEOID                         \n",
       "       332387540    -555555555"
      ]
     },
     "execution_count": 56,
     "metadata": {},
     "output_type": "execute_result"
    }
   ],
   "source": [
    "morpc.acs_generate_universe_table(data.set_index(\"GEO_ID\"), \"B01001_001\")"
   ]
  },
  {
   "cell_type": "markdown",
   "id": "cec6064d-45ca-4c87-98d6-3c013eee523e",
   "metadata": {},
   "source": [
    "#### Create a dimension table with the data and the dimension names"
   ]
  },
  {
   "cell_type": "code",
   "execution_count": 40,
   "id": "a3d5862c-9045-44a4-8749-070a975b7900",
   "metadata": {},
   "outputs": [],
   "source": [
    "dim_table = morpc.census.acs_generate_dimension_table(data.set_index(\"GEO_ID\"), schema, idFields=idFields, dimensionNames=[\"Sex\", \"Age group\"])"
   ]
  },
  {
   "cell_type": "code",
   "execution_count": 62,
   "id": "b048439a-5b78-4ae9-8e18-e54979ee830c",
   "metadata": {
    "tags": []
   },
   "outputs": [
    {
     "data": {
      "text/html": [
       "<div>\n",
       "<style scoped>\n",
       "    .dataframe tbody tr th:only-of-type {\n",
       "        vertical-align: middle;\n",
       "    }\n",
       "\n",
       "    .dataframe tbody tr th {\n",
       "        vertical-align: top;\n",
       "    }\n",
       "\n",
       "    .dataframe thead th {\n",
       "        text-align: right;\n",
       "    }\n",
       "</style>\n",
       "<table border=\"1\" class=\"dataframe\">\n",
       "  <thead>\n",
       "    <tr style=\"text-align: right;\">\n",
       "      <th></th>\n",
       "      <th>GEOID</th>\n",
       "      <th>Variable</th>\n",
       "      <th>Value</th>\n",
       "      <th>Sex</th>\n",
       "      <th>Age group</th>\n",
       "      <th>Variable type</th>\n",
       "    </tr>\n",
       "  </thead>\n",
       "  <tbody>\n",
       "    <tr>\n",
       "      <th>0</th>\n",
       "      <td></td>\n",
       "      <td>B01001_001E</td>\n",
       "      <td>332387540</td>\n",
       "      <td>NaN</td>\n",
       "      <td>NaN</td>\n",
       "      <td>Estimate</td>\n",
       "    </tr>\n",
       "    <tr>\n",
       "      <th>2</th>\n",
       "      <td></td>\n",
       "      <td>B01001_002E</td>\n",
       "      <td>164545087</td>\n",
       "      <td>Male</td>\n",
       "      <td>NaN</td>\n",
       "      <td>Estimate</td>\n",
       "    </tr>\n",
       "    <tr>\n",
       "      <th>4</th>\n",
       "      <td></td>\n",
       "      <td>B01001_003E</td>\n",
       "      <td>9688436</td>\n",
       "      <td>Male</td>\n",
       "      <td>Under 5 years</td>\n",
       "      <td>Estimate</td>\n",
       "    </tr>\n",
       "    <tr>\n",
       "      <th>6</th>\n",
       "      <td></td>\n",
       "      <td>B01001_004E</td>\n",
       "      <td>10296243</td>\n",
       "      <td>Male</td>\n",
       "      <td>5 to 9 years</td>\n",
       "      <td>Estimate</td>\n",
       "    </tr>\n",
       "    <tr>\n",
       "      <th>8</th>\n",
       "      <td></td>\n",
       "      <td>B01001_005E</td>\n",
       "      <td>11032019</td>\n",
       "      <td>Male</td>\n",
       "      <td>10 to 14 years</td>\n",
       "      <td>Estimate</td>\n",
       "    </tr>\n",
       "  </tbody>\n",
       "</table>\n",
       "</div>"
      ],
      "text/plain": [
       "  GEOID     Variable      Value   Sex       Age group Variable type\n",
       "0        B01001_001E  332387540   NaN             NaN      Estimate\n",
       "2        B01001_002E  164545087  Male             NaN      Estimate\n",
       "4        B01001_003E    9688436  Male   Under 5 years      Estimate\n",
       "6        B01001_004E   10296243  Male    5 to 9 years      Estimate\n",
       "8        B01001_005E   11032019  Male  10 to 14 years      Estimate"
      ]
     },
     "execution_count": 62,
     "metadata": {},
     "output_type": "execute_result"
    }
   ],
   "source": [
    "dim_table.loc[dim_table['Variable type'] == 'Estimate'].head()"
   ]
  },
  {
   "cell_type": "markdown",
   "id": "e4a0d63b-9a64-4406-a189-3b7af93cea22",
   "metadata": {
    "jp-MarkdownHeadingCollapsed": true,
    "tags": [],
    "toc-hr-collapsed": true
   },
   "source": [
    "# Schema tools (Apache Avro format) - DEPRECIATED"
   ]
  },
  {
   "cell_type": "markdown",
   "id": "b77aff55-6efd-4459-a4d6-a5bbce53784f",
   "metadata": {},
   "source": [
    "**DEPRECATION WARNING**:  As of January 2024 the Data Team is considering a new standard for machine-readable metadata, namely TableSchema (see below).  Code that makes use of the features described in this section will likely need to be updated to make use of the new standard when it is adopted. Use discretion when making use of these features."
   ]
  },
  {
   "cell_type": "markdown",
   "id": "8c92b7ff-689f-4ade-a1c2-a94212e664cb",
   "metadata": {},
   "source": [
    "[Apache Avro](https://en.wikipedia.org/wiki/Apache_Avro) is an open source data serialization technology that includes a JSON-based [schema specification format](https://avro.apache.org/docs/1.11.1/specification/).  MORPC does not typically use the Avro format itself, however code written through 2023 may have relied on schemas specified in Avro format.  This section demonstrates utility functions for loading Avro-formatted schemas and using the schemas to manipulate data.\n",
    "\n",
    "The demonstration relies on a local copy of data from the [morpc-lookup](https://github.com/morpc/morpc-lookup) repository in GitHub.  Prior to running the code you must download the required data and schema and update the following paths (as needed) to point to the correct files."
   ]
  },
  {
   "cell_type": "code",
   "execution_count": null,
   "id": "e2f26530-aff8-4c9b-82be-1d2d7ba10da6",
   "metadata": {},
   "outputs": [],
   "source": [
    "dataPath = \"..\\morpc-lookup\\MORPC_Counties.csv\"\n",
    "schemaPath = dataPath.replace(\".csv\", \"_schema.json\")\n",
    "print(\"Data path: {}\".format(dataPath))\n",
    "print(\"Schema path: {}\".format(schemaPath))"
   ]
  },
  {
   "cell_type": "markdown",
   "id": "24a04a42-02ad-40ae-975e-e2218906bdd2",
   "metadata": {},
   "source": [
    "Load the data."
   ]
  },
  {
   "cell_type": "code",
   "execution_count": null,
   "id": "94d26978-bf65-4141-8f6e-bf2b89f35bcb",
   "metadata": {},
   "outputs": [],
   "source": [
    "dataRaw = pd.read_csv(dataPath)\n",
    "dataRaw.head()"
   ]
  },
  {
   "cell_type": "markdown",
   "id": "86d403f6-3c29-4e24-8f5d-a15574380d09",
   "metadata": {},
   "source": [
    "The data is stored in a CSV file.  In a CSV, all data is stored as strings.  There is no built-in mechanism for specifying the data type for each field. Note that pandas (like many other software applications) tried to infer the data type."
   ]
  },
  {
   "cell_type": "code",
   "execution_count": null,
   "id": "0b337c37-67c6-4b2c-817b-0f2726346d5a",
   "metadata": {},
   "outputs": [],
   "source": [
    "dataRaw.dtypes"
   ]
  },
  {
   "cell_type": "markdown",
   "id": "0c372fd1-4a53-41ee-9fd3-26bc9790ccc0",
   "metadata": {},
   "source": [
    "Sometimes the inference works well, other times not so well.  It is safer to specify the field types explictly.  One way to do this is to create a schema definition for the data.  Here is an example of a schema definition specified in Apache Avro format:"
   ]
  },
  {
   "cell_type": "code",
   "execution_count": null,
   "id": "bc6e95dc-6044-49b3-964e-86bf8b7d3416",
   "metadata": {},
   "outputs": [],
   "source": [
    "with open(schemaPath, \"r\") as f:\n",
    "    schemaRaw = f.read()\n",
    "print(schemaRaw)"
   ]
  },
  {
   "cell_type": "markdown",
   "id": "3f65c8b2-0753-422c-8ea3-fc39fbd694af",
   "metadata": {},
   "source": [
    "Note that that this format allows for specification of the field names and types, as well as dataset-level and variable-level metadata. Because Avro-style schemas are formatted as JSON, Python can easily convert the schema to a dictionary structure so that we can access it programmatically. The morpc-common library contains a convenience function to load the schema and convert it to a dictionary."
   ]
  },
  {
   "cell_type": "code",
   "execution_count": null,
   "id": "5cac7338-abea-4268-9f72-d1b86e1a26d5",
   "metadata": {},
   "outputs": [],
   "source": [
    "schema = morpc.load_avro_schema(schemaPath)\n",
    "print(\"The fields in this dataset are: \" + \", \".join([field[\"name\"] for field in schema[\"fields\"]]))"
   ]
  },
  {
   "cell_type": "markdown",
   "id": "83a047b6-3e78-4a4b-a800-ae4e36d8d52c",
   "metadata": {},
   "source": [
    "The morpc-common library contains several convenience functions for interacting with Avro schemas.  One such function casts each of the fields in a dataset as the correct data type as specified in the schema."
   ]
  },
  {
   "cell_type": "code",
   "execution_count": null,
   "id": "c185f757-0c4b-4a32-af25-6bad949add1d",
   "metadata": {},
   "outputs": [],
   "source": [
    "data = morpc.cast_field_types(dataRaw, schema)"
   ]
  },
  {
   "cell_type": "markdown",
   "id": "2cedd8fc-343a-4155-8388-7b32b09e5a60",
   "metadata": {},
   "source": [
    "Now the data types should match the schema, regardless of what pandas inferred originally."
   ]
  },
  {
   "cell_type": "code",
   "execution_count": null,
   "id": "c3e7ba41-f94b-479a-8aac-f6eb55840ef6",
   "metadata": {},
   "outputs": [],
   "source": [
    "data.dtypes"
   ]
  },
  {
   "cell_type": "markdown",
   "id": "e15f1529-dbbc-45f2-abfd-cdd8b2dfcd0d",
   "metadata": {},
   "source": [
    "**A note about integers**  The pandas \"int\" dtype does not support null values.  If a field contains null values and you try to cast it as \"int\", this function will automatically attempt to convert them to \"Int64\" (which does support null values) instead.  If this fails, it might be because the fractional part of one of your values (i.e. the part to the right of the decimal point) is non-zero.  You can either round the values before attempting the conversion or set `forceInteger=True` when calling the function. In the latter case, the function will round the values to the ones place prior to recasting the values."
   ]
  },
  {
   "cell_type": "markdown",
   "id": "21fa6179-35cd-4d56-92cc-dcd4757ff72d",
   "metadata": {},
   "source": [
    "Here's another function that creates a list object containing the names of the fields included in the schema."
   ]
  },
  {
   "cell_type": "code",
   "execution_count": null,
   "id": "070b868d-242a-4344-8e5c-e0a56ac2e290",
   "metadata": {},
   "outputs": [],
   "source": [
    "morpc.avro_get_field_names(schema)"
   ]
  },
  {
   "cell_type": "markdown",
   "id": "4ceb84b8-5467-4090-b70a-f7f4b10194e1",
   "metadata": {},
   "source": [
    "This one returns a dictionary mapping each field name to its type."
   ]
  },
  {
   "cell_type": "code",
   "execution_count": null,
   "id": "d693c39a-8012-4509-b65d-f7b02b3019a7",
   "metadata": {},
   "outputs": [],
   "source": [
    "morpc.avro_to_pandas_dtype_map(schema)"
   ]
  },
  {
   "cell_type": "markdown",
   "id": "c7eccb30-8970-48aa-84f6-f4d857a1e1bc",
   "metadata": {},
   "source": [
    "Sometimes a variable may be referred to by different names. It is possible to list the alternate names in the schema using the \"aliases\" property. The following function creates a dictionary that maps the original field name to the first (and presumably most common) alias.  This can be used to easily rename the fields in the dataset for use in a different application."
   ]
  },
  {
   "cell_type": "code",
   "execution_count": null,
   "id": "f7c970c2-15ec-4c95-babc-c0c4c5bc3d91",
   "metadata": {},
   "outputs": [],
   "source": [
    "morpc.avro_map_to_first_alias(schema)"
   ]
  },
  {
   "cell_type": "markdown",
   "id": "26d1b004-751e-4549-8e20-8f8ca214476b",
   "metadata": {},
   "source": [
    "The following function does the reverse of the previous one, namely it creates a dictionary mapping the first alias to the original field name.  This can be useful to reverse the previous remapping.  It is also useful for Shapefiles, which have a ten-character field name limit.  In that case, you can store the human-readable field name as the original field name and store the Shapefile-compliant field name as an alias."
   ]
  },
  {
   "cell_type": "code",
   "execution_count": null,
   "id": "80fc00b5-0452-46e5-8029-44e303c62667",
   "metadata": {},
   "outputs": [],
   "source": [
    "morpc.avro_map_from_first_alias(schema)"
   ]
  },
  {
   "cell_type": "markdown",
   "id": "3f127537-13f1-484a-892d-62b1461cea8f",
   "metadata": {},
   "source": [
    "Using the schema dictionary and the helper functions, you can easily do transformations of the data.  Here are some examples. First, take a look at the original data."
   ]
  },
  {
   "cell_type": "code",
   "execution_count": null,
   "id": "4a8eaa49-ebf0-46d1-9d3b-f930615d572d",
   "metadata": {},
   "outputs": [],
   "source": [
    "data.head()"
   ]
  },
  {
   "cell_type": "markdown",
   "id": "f903a4c0-a04e-413b-b276-8e675e0ccf59",
   "metadata": {},
   "source": [
    "Rename the columns in the data to the first alias for each column."
   ]
  },
  {
   "cell_type": "code",
   "execution_count": null,
   "id": "bd1732b2-bda5-4c81-ade1-42a6145c20a2",
   "metadata": {},
   "outputs": [],
   "source": [
    "data.rename(columns=morpc.avro_map_to_first_alias(schema)).head()"
   ]
  },
  {
   "cell_type": "markdown",
   "id": "9fa85ce0-3f5e-4eb1-b9d9-8abc8466849d",
   "metadata": {},
   "source": [
    "Filter and reorder fields."
   ]
  },
  {
   "cell_type": "code",
   "execution_count": null,
   "id": "40eee3c0-7566-4af1-ba94-cfabb1d17a94",
   "metadata": {},
   "outputs": [],
   "source": [
    "reverseOrder = morpc.avro_get_field_names(schema)\n",
    "reverseOrder.reverse()\n",
    "data[reverseOrder].head()"
   ]
  },
  {
   "cell_type": "code",
   "execution_count": null,
   "id": "d542f3fb-7cf1-4839-b3cb-1bc558f83008",
   "metadata": {},
   "outputs": [],
   "source": [
    "oneLessField = morpc.avro_get_field_names(schema)\n",
    "oneLessField.remove(\"STATE_ID\")\n",
    "data[oneLessField].head()"
   ]
  }
 ],
 "metadata": {
  "kernelspec": {
   "display_name": "Python 3 (ipykernel)",
   "language": "python",
   "name": "python3"
  },
  "language_info": {
   "codemirror_mode": {
    "name": "ipython",
    "version": 3
   },
   "file_extension": ".py",
   "mimetype": "text/x-python",
   "name": "python",
   "nbconvert_exporter": "python",
   "pygments_lexer": "ipython3",
   "version": "3.11.11"
  },
  "toc-autonumbering": false,
  "toc-showcode": false,
  "toc-showmarkdowntxt": false,
  "toc-showtags": false
 },
 "nbformat": 4,
 "nbformat_minor": 5
}
