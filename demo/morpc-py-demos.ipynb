{
 "cells": [
  {
   "cell_type": "markdown",
   "id": "30a31ed5-c2ef-4712-aeb3-b7606dda7bfc",
   "metadata": {},
   "source": [
    "# Demos of features of the morpc python package"
   ]
  },
  {
   "cell_type": "markdown",
   "id": "4c342ca0-1734-4bec-8fc1-81df408e9f81",
   "metadata": {
    "jp-MarkdownHeadingCollapsed": true,
    "tags": []
   },
   "source": [
    "# Introduction"
   ]
  },
  {
   "cell_type": "markdown",
   "id": "921030b3-0d94-4ca7-8ae3-8ed1fb3e3fe1",
   "metadata": {},
   "source": [
    "The MORPC data team maintains a package with contains commonly-used constants, mappings, and functions to allow for code-reuse in multiple scripts.  The package documentation and code is available at the [morpc-py](https://github.com/morpc/morpc-py) repository in GitHub.  \n",
    "\n",
    "This package is still in development but will contain the following modules:\n",
    "\n",
    "  - morpc - Main library.  Includes contents which are broadly applicable for MORPC's work, including MORPC branding, region definitions and utilities, and general purpose data manipulation functions.\n",
    "  - morpc.frictionless -  Functions and classes for working with metadata, including schemas, resources, and data packages. These are for internal processes that us the [frictionless-py](https://github.com/frictionlessdata/frictionless-py/tree/main) package. Frictionless was implemented roughly 2025 to manage all metadata and to develop workflow documentation. \n",
    "  - morpc.census - Constants and functions that are relevant when working with Census data, including decennial census, ACS, and PEP."
   ]
  },
  {
   "cell_type": "markdown",
   "id": "d894852d-dc5a-46a1-84ed-af00aef36e71",
   "metadata": {
    "jp-MarkdownHeadingCollapsed": true,
    "tags": []
   },
   "source": [
    "# Installation"
   ]
  },
  {
   "cell_type": "markdown",
   "id": "3e651711",
   "metadata": {},
   "source": [
    "Install via pip."
   ]
  },
  {
   "cell_type": "code",
   "execution_count": 133,
   "id": "fcb557b0",
   "metadata": {
    "tags": []
   },
   "outputs": [],
   "source": [
    "# !pip install morpc --upgrade"
   ]
  },
  {
   "cell_type": "markdown",
   "id": "99c33cce-a430-48e2-84ee-0c632943c7a4",
   "metadata": {
    "tags": []
   },
   "source": [
    "## Import morpc package "
   ]
  },
  {
   "cell_type": "code",
   "execution_count": 4,
   "id": "4561280c-2559-4e2b-8e17-4644c4ee4df2",
   "metadata": {
    "tags": []
   },
   "outputs": [],
   "source": [
    "import morpc"
   ]
  },
  {
   "cell_type": "markdown",
   "id": "f0c1d6f3-0dd9-4fe1-9569-00df764e310c",
   "metadata": {
    "jp-MarkdownHeadingCollapsed": true,
    "tags": []
   },
   "source": [
    "# Conversion factors"
   ]
  },
  {
   "cell_type": "markdown",
   "id": "69fac771-d0c0-4028-8fa5-d8ff3e339ea4",
   "metadata": {},
   "source": [
    "As of Jan 2024, the following commonly used conversion factors are available in the library. Review the https://github.com/morpc/morpc-py/blob/main/morpc/morpc.py to see if others are available."
   ]
  },
  {
   "cell_type": "markdown",
   "id": "67fb3125-8025-451d-a308-af5a5ab1ed03",
   "metadata": {},
   "source": [
    "## Area"
   ]
  },
  {
   "cell_type": "markdown",
   "id": "3022422f-75b0-4860-87bf-ffd0d7945a73",
   "metadata": {},
   "source": [
    "Square feet per acre"
   ]
  },
  {
   "cell_type": "code",
   "execution_count": 6,
   "id": "83c68b26-147a-4c29-ab36-3f451799c2b0",
   "metadata": {
    "tags": []
   },
   "outputs": [
    {
     "data": {
      "text/plain": [
       "43560"
      ]
     },
     "execution_count": 6,
     "metadata": {},
     "output_type": "execute_result"
    }
   ],
   "source": [
    "morpc.CONST_SQFT_PER_ACRE"
   ]
  },
  {
   "cell_type": "markdown",
   "id": "e7ba6b18-4aa0-45d7-aec3-966882eb3748",
   "metadata": {},
   "source": [
    "## Region definitions"
   ]
  },
  {
   "cell_type": "markdown",
   "id": "775b7429-9fb3-474e-a1dd-56ae5ce7c56e",
   "metadata": {},
   "source": [
    "The following lists represent various definitions for \"Central Ohio\" based on collections of counties."
   ]
  },
  {
   "cell_type": "code",
   "execution_count": 7,
   "id": "c044dfc1-650d-4326-84c7-cc8d874f3a97",
   "metadata": {
    "tags": []
   },
   "outputs": [
    {
     "name": "stdout",
     "output_type": "stream",
     "text": [
      "Region name: REGION7\n",
      "Counties in region: ['Delaware', 'Fairfield', 'Franklin', 'Licking', 'Madison', 'Pickaway', 'Union']\n",
      "\n",
      "Region name: 7-County Region\n",
      "Counties in region: ['Delaware', 'Fairfield', 'Franklin', 'Licking', 'Madison', 'Pickaway', 'Union']\n",
      "\n",
      "Region name: REGION10\n",
      "Counties in region: ['Delaware', 'Fairfield', 'Franklin', 'Licking', 'Madison', 'Pickaway', 'Union', 'Knox', 'Marion', 'Morrow']\n",
      "\n",
      "Region name: 10-County Region\n",
      "Counties in region: ['Delaware', 'Fairfield', 'Franklin', 'Licking', 'Madison', 'Pickaway', 'Union', 'Knox', 'Marion', 'Morrow']\n",
      "\n",
      "Region name: REGION15\n",
      "Counties in region: ['Delaware', 'Fairfield', 'Franklin', 'Licking', 'Madison', 'Pickaway', 'Union', 'Knox', 'Marion', 'Morrow', 'Fayette', 'Hocking', 'Logan', 'Perry', 'Ross']\n",
      "\n",
      "Region name: 15-County Region\n",
      "Counties in region: ['Delaware', 'Fairfield', 'Franklin', 'Licking', 'Madison', 'Pickaway', 'Union', 'Knox', 'Marion', 'Morrow', 'Fayette', 'Hocking', 'Logan', 'Perry', 'Ross']\n",
      "\n",
      "Region name: REGIONCORPO\n",
      "Counties in region: ['Fairfield', 'Knox', 'Madison', 'Marion', 'Morrow', 'Pickaway', 'Union']\n",
      "\n",
      "Region name: CORPO Region\n",
      "Counties in region: ['Fairfield', 'Knox', 'Madison', 'Marion', 'Morrow', 'Pickaway', 'Union']\n",
      "\n",
      "Region name: REGIONONECBUS\n",
      "Counties in region: ['Delaware', 'Fairfield', 'Franklin', 'Licking', 'Madison', 'Pickaway', 'Union', 'Knox', 'Marion', 'Morrow', 'Logan']\n",
      "\n",
      "Region name: One Columbus Region\n",
      "Counties in region: ['Delaware', 'Fairfield', 'Franklin', 'Licking', 'Madison', 'Pickaway', 'Union', 'Knox', 'Marion', 'Morrow', 'Logan']\n",
      "\n",
      "Region name: REGIONCEDS\n",
      "Counties in region: ['Delaware', 'Fairfield', 'Franklin', 'Licking', 'Madison', 'Pickaway', 'Union', 'Knox', 'Marion', 'Morrow', 'Logan']\n",
      "\n",
      "Region name: CEDS Region\n",
      "Counties in region: ['Delaware', 'Fairfield', 'Franklin', 'Licking', 'Madison', 'Pickaway', 'Union', 'Knox', 'Marion', 'Morrow', 'Logan']\n",
      "\n",
      "Region name: REGIONMSA\n",
      "Counties in region: ['Delaware', 'Fairfield', 'Franklin', 'Licking', 'Madison', 'Pickaway', 'Union', 'Hocking', 'Morrow', 'Perry']\n",
      "\n"
     ]
    }
   ],
   "source": [
    "for name in morpc.CONST_REGIONS.keys():\n",
    "    print(\"Region name: {}\".format(name))\n",
    "    print(\"Counties in region: {}\\n\".format(morpc.CONST_REGIONS[name]))"
   ]
  },
  {
   "cell_type": "markdown",
   "id": "96c288a5-05de-4120-a0d6-a6c914d4c8f0",
   "metadata": {},
   "source": [
    "## County three-letter abbreviations"
   ]
  },
  {
   "cell_type": "markdown",
   "id": "b854af03-4862-4d04-a3b8-fa311cfaed61",
   "metadata": {},
   "source": [
    "Map each MORPC county name to its three-letter abbreviation."
   ]
  },
  {
   "cell_type": "code",
   "execution_count": 8,
   "id": "19885f02-c7c2-4989-bfe2-5364b3d404b4",
   "metadata": {
    "tags": []
   },
   "outputs": [
    {
     "data": {
      "text/plain": [
       "{'Delaware': 'DEL',\n",
       " 'Fairfield': 'FAI',\n",
       " 'Fayette': 'FAY',\n",
       " 'Franklin': 'FRA',\n",
       " 'Hocking': 'HOC',\n",
       " 'Knox': 'KNO',\n",
       " 'Licking': 'LIC',\n",
       " 'Logan': 'LOG',\n",
       " 'Madison': 'MAD',\n",
       " 'Marion': 'MAR',\n",
       " 'Morrow': 'MRW',\n",
       " 'Perry': 'PER',\n",
       " 'Pickaway': 'PIC',\n",
       " 'Ross': 'ROS',\n",
       " 'Union': 'UNI'}"
      ]
     },
     "execution_count": 8,
     "metadata": {},
     "output_type": "execute_result"
    }
   ],
   "source": [
    "morpc.CONST_COUNTY_ABBREV"
   ]
  },
  {
   "cell_type": "markdown",
   "id": "545d5bb2-1e77-4745-a448-44ad66337489",
   "metadata": {},
   "source": [
    "Map each three-letter abbreviation back to its county name."
   ]
  },
  {
   "cell_type": "code",
   "execution_count": 9,
   "id": "2c517b79-edf9-46ed-a1e4-45b68892a449",
   "metadata": {
    "tags": []
   },
   "outputs": [
    {
     "data": {
      "text/plain": [
       "{'DEL': 'Delaware',\n",
       " 'FAI': 'Fairfield',\n",
       " 'FAY': 'Fayette',\n",
       " 'FRA': 'Franklin',\n",
       " 'HOC': 'Hocking',\n",
       " 'KNO': 'Knox',\n",
       " 'LIC': 'Licking',\n",
       " 'LOG': 'Logan',\n",
       " 'MAD': 'Madison',\n",
       " 'MAR': 'Marion',\n",
       " 'MRW': 'Morrow',\n",
       " 'PER': 'Perry',\n",
       " 'PIC': 'Pickaway',\n",
       " 'ROS': 'Ross',\n",
       " 'UNI': 'Union'}"
      ]
     },
     "execution_count": 9,
     "metadata": {},
     "output_type": "execute_result"
    }
   ],
   "source": [
    "morpc.CONST_COUNTY_EXPAND"
   ]
  },
  {
   "cell_type": "markdown",
   "id": "557fd3ce-e2e4-40b9-8019-1960011afaa0",
   "metadata": {},
   "source": [
    "Note that 'MRW' is the three-letter abbreviation for Morrow county that is used by ODOT. Sometimes it may be desired to use 'MOR' instead.  In that case, you can use the following code to update both mappings."
   ]
  },
  {
   "cell_type": "code",
   "execution_count": 10,
   "id": "c0071d32-3091-43dc-8079-55f753052611",
   "metadata": {
    "tags": []
   },
   "outputs": [],
   "source": [
    "morpc.CONST_COUNTY_ABBREV[\"Morrow\"] = 'MOR'\n",
    "morpc.CONST_COUNTY_EXPAND = {value: key for key, value in morpc.CONST_COUNTY_ABBREV.items()}"
   ]
  },
  {
   "cell_type": "markdown",
   "id": "f57d9539-a52e-425c-9b17-61f76148bdaf",
   "metadata": {},
   "source": [
    "Now you can see the new mappings:"
   ]
  },
  {
   "cell_type": "code",
   "execution_count": 11,
   "id": "b2ddebfd-bcea-4e9f-8ae1-89cfca883d5b",
   "metadata": {
    "tags": []
   },
   "outputs": [
    {
     "name": "stdout",
     "output_type": "stream",
     "text": [
      "MOR\n",
      "Morrow\n"
     ]
    }
   ],
   "source": [
    "print(morpc.CONST_COUNTY_ABBREV[\"Morrow\"])\n",
    "print(morpc.CONST_COUNTY_EXPAND[\"MOR\"])"
   ]
  },
  {
   "cell_type": "markdown",
   "id": "5888bfb0-f126-4e66-9c71-bcce5ba26c6c",
   "metadata": {},
   "source": [
    "To revert to the old mapping you can either use a code block similar to the one above, or simply reload the library:"
   ]
  },
  {
   "cell_type": "code",
   "execution_count": 12,
   "id": "cc047bf3-b9e6-447c-8648-dcd9c0dcf844",
   "metadata": {
    "tags": []
   },
   "outputs": [
    {
     "data": {
      "text/plain": [
       "<module 'morpc' from 'C:\\\\Users\\\\jinskeep\\\\AppData\\\\Local\\\\miniconda3\\\\envs\\\\morpc_env\\\\Lib\\\\site-packages\\\\morpc\\\\__init__.py'>"
      ]
     },
     "execution_count": 12,
     "metadata": {},
     "output_type": "execute_result"
    }
   ],
   "source": [
    "import importlib\n",
    "importlib.reload(morpc)"
   ]
  },
  {
   "cell_type": "markdown",
   "id": "4c3866b0-7362-4d8d-a265-3164bed9a869",
   "metadata": {},
   "source": [
    "Now the original mappings are restored."
   ]
  },
  {
   "cell_type": "code",
   "execution_count": 13,
   "id": "32a242be-7abc-4f41-90e4-7d666f11a04e",
   "metadata": {
    "tags": []
   },
   "outputs": [
    {
     "name": "stdout",
     "output_type": "stream",
     "text": [
      "MOR\n",
      "Morrow\n"
     ]
    }
   ],
   "source": [
    "print(morpc.CONST_COUNTY_ABBREV[\"Morrow\"])\n",
    "print(morpc.CONST_COUNTY_EXPAND[\"MRW\"])"
   ]
  },
  {
   "cell_type": "markdown",
   "id": "3713785f-33be-4332-87d2-6c84cf073392",
   "metadata": {
    "jp-MarkdownHeadingCollapsed": true,
    "tags": []
   },
   "source": [
    "# County identifiers (GEOID)"
   ]
  },
  {
   "cell_type": "markdown",
   "id": "e2ae1474-9882-4e66-88cb-03dd3ee9caa7",
   "metadata": {},
   "source": [
    "Map each MORPC county name to its five-character Census GEOID.  Note that the IDs are strings.  They are not integers and should not be handled as such."
   ]
  },
  {
   "cell_type": "code",
   "execution_count": 14,
   "id": "001b151c-4432-44e9-b251-0c00b2152cfe",
   "metadata": {
    "tags": []
   },
   "outputs": [
    {
     "data": {
      "text/plain": [
       "{'Delaware': '39041',\n",
       " 'Fairfield': '39045',\n",
       " 'Fayette': '39047',\n",
       " 'Franklin': '39049',\n",
       " 'Hocking': '39073',\n",
       " 'Knox': '39083',\n",
       " 'Licking': '39089',\n",
       " 'Logan': '39091',\n",
       " 'Madison': '39097',\n",
       " 'Marion': '39101',\n",
       " 'Morrow': '39117',\n",
       " 'Perry': '39127',\n",
       " 'Pickaway': '39129',\n",
       " 'Ross': '39141',\n",
       " 'Union': '39159'}"
      ]
     },
     "execution_count": 14,
     "metadata": {},
     "output_type": "execute_result"
    }
   ],
   "source": [
    "morpc.CONST_COUNTY_NAME_TO_ID"
   ]
  },
  {
   "cell_type": "markdown",
   "id": "3bb360c1-e73d-4b4b-9bfe-c129f9b039ef",
   "metadata": {},
   "source": [
    "Map each GEOID back to its county name."
   ]
  },
  {
   "cell_type": "code",
   "execution_count": 15,
   "id": "2766e66e-5977-403e-9e4b-588034cce8f6",
   "metadata": {
    "tags": []
   },
   "outputs": [
    {
     "data": {
      "text/plain": [
       "{'39041': 'Delaware',\n",
       " '39045': 'Fairfield',\n",
       " '39047': 'Fayette',\n",
       " '39049': 'Franklin',\n",
       " '39073': 'Hocking',\n",
       " '39083': 'Knox',\n",
       " '39089': 'Licking',\n",
       " '39091': 'Logan',\n",
       " '39097': 'Madison',\n",
       " '39101': 'Marion',\n",
       " '39117': 'Morrow',\n",
       " '39127': 'Perry',\n",
       " '39129': 'Pickaway',\n",
       " '39141': 'Ross',\n",
       " '39159': 'Union'}"
      ]
     },
     "execution_count": 15,
     "metadata": {},
     "output_type": "execute_result"
    }
   ],
   "source": [
    "morpc.CONST_COUNTY_ID_TO_NAME"
   ]
  },
  {
   "cell_type": "markdown",
   "id": "c1ab6453-c9f1-47a9-b0cd-0318bb7ee331",
   "metadata": {
    "jp-MarkdownHeadingCollapsed": true,
    "tags": []
   },
   "source": [
    "# Summary level identifiers."
   ]
  },
  {
   "cell_type": "markdown",
   "id": "7164067f-c677-4a05-9c2a-a38ff4b7214d",
   "metadata": {},
   "source": [
    "Summary level lookups for geographic jurisdictions. The summary levels include the Census sumlevel numbers, as well as some morpc summary levels, beginning with \"M\""
   ]
  },
  {
   "cell_type": "code",
   "execution_count": 16,
   "id": "003bb820-ed22-4d9a-a851-ac5bbefdfa90",
   "metadata": {
    "tags": []
   },
   "outputs": [
    {
     "data": {
      "text/plain": [
       "{'US': '010',\n",
       " 'CENSUSREGION': '020',\n",
       " 'DIVISION': '030',\n",
       " 'STATE': '040',\n",
       " 'COUNTY': '050',\n",
       " 'COUNTY-COUSUB': '060',\n",
       " 'COUNTY-TOWNSHIP-REMAINDER': '070',\n",
       " 'COUNTY-TRACT': '140',\n",
       " 'COUNTY-TRACT-BG': '150',\n",
       " 'PLACE-COUNTY': '155',\n",
       " 'PLACE': '160',\n",
       " 'CBSA': '310',\n",
       " 'URBANAREA': '400',\n",
       " 'CONGRESS': '500',\n",
       " 'STATESENATE': '610',\n",
       " 'STATEHOUSE': '620',\n",
       " 'COUNTY-TRACT-BG-BLOCK': '750',\n",
       " 'PUMA': '795',\n",
       " 'ZCTA3': '850',\n",
       " 'ZCTA5': '860',\n",
       " 'CENSUSMPOREGION': '930',\n",
       " 'SDELEM': '950',\n",
       " 'SDHIGH': '960',\n",
       " 'SDUNIFIED': '970',\n",
       " 'REGION15': 'M01',\n",
       " 'REGION10': 'M02',\n",
       " 'REGION7': 'M03',\n",
       " 'REGIONCORPO': 'M04',\n",
       " 'REGIONCEDS': 'M05',\n",
       " 'REGIONMPO': 'M06',\n",
       " 'REGIONTDM': 'M07',\n",
       " 'REGIONONECBUS': 'M08',\n",
       " 'JURIS': 'M10',\n",
       " 'JURIS-COUNTY': 'M11',\n",
       " 'COUNTY-TAZ': 'M20',\n",
       " 'COUNTY-TAZ-MAZ': 'M21',\n",
       " 'COUNTY-TAZ-MAZ-GRIDMAZ': 'M22'}"
      ]
     },
     "execution_count": 16,
     "metadata": {},
     "output_type": "execute_result"
    }
   ],
   "source": [
    "morpc.SUMLEVEL_LOOKUP"
   ]
  },
  {
   "cell_type": "code",
   "execution_count": 17,
   "id": "6e9cd3d9-3ce6-43ab-92eb-6ab958d2fd3a",
   "metadata": {
    "tags": []
   },
   "outputs": [
    {
     "data": {
      "text/plain": [
       "{'010': 'US',\n",
       " '020': 'CENSUSREGION',\n",
       " '030': 'DIVISION',\n",
       " '040': 'STATE',\n",
       " '050': 'COUNTY',\n",
       " '060': 'COUNTY-COUSUB',\n",
       " '070': 'COUNTY-TOWNSHIP-REMAINDER',\n",
       " '140': 'COUNTY-TRACT',\n",
       " '150': 'COUNTY-TRACT-BG',\n",
       " '155': 'PLACE-COUNTY',\n",
       " '160': 'PLACE',\n",
       " '310': 'CBSA',\n",
       " '400': 'URBANAREA',\n",
       " '500': 'CONGRESS',\n",
       " '610': 'STATESENATE',\n",
       " '620': 'STATEHOUSE',\n",
       " '750': 'COUNTY-TRACT-BG-BLOCK',\n",
       " '795': 'PUMA',\n",
       " '850': 'ZCTA3',\n",
       " '860': 'ZCTA5',\n",
       " '930': 'CENSUSMPOREGION',\n",
       " '950': 'SDELEM',\n",
       " '960': 'SDHIGH',\n",
       " '970': 'SDUNIFIED',\n",
       " 'M01': 'REGION15',\n",
       " 'M02': 'REGION10',\n",
       " 'M03': 'REGION7',\n",
       " 'M04': 'REGIONCORPO',\n",
       " 'M05': 'REGIONCEDS',\n",
       " 'M06': 'REGIONMPO',\n",
       " 'M07': 'REGIONTDM',\n",
       " 'M08': 'REGIONONECBUS',\n",
       " 'M10': 'JURIS',\n",
       " 'M11': 'JURIS-COUNTY',\n",
       " 'M20': 'COUNTY-TAZ',\n",
       " 'M21': 'COUNTY-TAZ-MAZ',\n",
       " 'M22': 'COUNTY-TAZ-MAZ-GRIDMAZ'}"
      ]
     },
     "execution_count": 17,
     "metadata": {},
     "output_type": "execute_result"
    }
   ],
   "source": [
    "morpc.HIERARCHY_STRING_LOOKUP"
   ]
  },
  {
   "cell_type": "markdown",
   "id": "4d7c3edf-84af-4f84-bdc7-c77666cce725",
   "metadata": {
    "tags": []
   },
   "source": [
    "# countyLookup() Class "
   ]
  },
  {
   "cell_type": "markdown",
   "id": "074d143c-b891-4890-ac41-f4ce5bae34a2",
   "metadata": {
    "jp-MarkdownHeadingCollapsed": true,
    "tags": []
   },
   "source": [
    "## List counties and convert between county names and codes (Central Ohio, Ohio, or U.S.)"
   ]
  },
  {
   "cell_type": "markdown",
   "id": "6a3aae1e-5faf-42d3-be00-8722c6481eb5",
   "metadata": {},
   "source": [
    "The library includes a Python class called `countyLookup`. Upon instantiation, this object is pre-loaded with a dataframe describing a set of counties whose scope is specified by the user.  The object includes methods for listing the counties by their names or GEOIDs and for two-way conversion between name and GEOID.\n",
    "\n",
    "  - `scope=\"morpc\"`     Default. Loads only the counties in the MORPC 15-county region (see `CONST_REGIONS['15-County Region']` above)\n",
    "  - `scope=\"corpo\"`     Loads only the counties in the CORPO region (see `CONST_REGIONS['CORPO Region']` above)\n",
    "  - `scope=\"ohio\"`      Loads all counties in Ohio\n",
    "  - `scope=\"us\"`      Loads all counties in the United States\n",
    "\n",
    "*NOTE: As of Jan 2024, some methods are not supported for scope=\"us\".  See details below.*"
   ]
  },
  {
   "cell_type": "markdown",
   "id": "4c15a933-5ec0-4070-a9b9-d85a784e9623",
   "metadata": {},
   "source": [
    "You can create an object containing the MORPC 15 counties as follows:"
   ]
  },
  {
   "cell_type": "code",
   "execution_count": 18,
   "id": "8fff5426-bbb4-48b3-8b46-b816ffa2bed8",
   "metadata": {
    "tags": []
   },
   "outputs": [
    {
     "name": "stdout",
     "output_type": "stream",
     "text": [
      "Loading data for MORPC 15-County region only\n"
     ]
    }
   ],
   "source": [
    "countyLookup = morpc.countyLookup()"
   ]
  },
  {
   "cell_type": "markdown",
   "id": "6011ad7f-0e51-43eb-ae8b-b592244af517",
   "metadata": {},
   "source": [
    "Or if you prefer to be explicit:"
   ]
  },
  {
   "cell_type": "code",
   "execution_count": 19,
   "id": "cca62a3f-e652-41eb-9b31-25f58b1b8f68",
   "metadata": {
    "tags": []
   },
   "outputs": [
    {
     "name": "stdout",
     "output_type": "stream",
     "text": [
      "Loading data for MORPC 15-County region only\n"
     ]
    }
   ],
   "source": [
    "countyLookup = morpc.countyLookup(scope=\"morpc\")"
   ]
  },
  {
   "cell_type": "markdown",
   "id": "e20f3046-e094-4ed9-baf3-f67753c2d357",
   "metadata": {},
   "source": [
    "Either way, the object is populated with the following dataframe."
   ]
  },
  {
   "cell_type": "code",
   "execution_count": 20,
   "id": "b536c202-f790-40e9-8ab4-a8b1b3d5830c",
   "metadata": {
    "tags": []
   },
   "outputs": [
    {
     "data": {
      "text/html": [
       "<div>\n",
       "<style scoped>\n",
       "    .dataframe tbody tr th:only-of-type {\n",
       "        vertical-align: middle;\n",
       "    }\n",
       "\n",
       "    .dataframe tbody tr th {\n",
       "        vertical-align: top;\n",
       "    }\n",
       "\n",
       "    .dataframe thead th {\n",
       "        text-align: right;\n",
       "    }\n",
       "</style>\n",
       "<table border=\"1\" class=\"dataframe\">\n",
       "  <thead>\n",
       "    <tr style=\"text-align: right;\">\n",
       "      <th></th>\n",
       "      <th>GEOID</th>\n",
       "      <th>COUNTY_NAME</th>\n",
       "    </tr>\n",
       "  </thead>\n",
       "  <tbody>\n",
       "    <tr>\n",
       "      <th>2159</th>\n",
       "      <td>39041</td>\n",
       "      <td>Delaware</td>\n",
       "    </tr>\n",
       "    <tr>\n",
       "      <th>2160</th>\n",
       "      <td>39045</td>\n",
       "      <td>Fairfield</td>\n",
       "    </tr>\n",
       "    <tr>\n",
       "      <th>2161</th>\n",
       "      <td>39047</td>\n",
       "      <td>Fayette</td>\n",
       "    </tr>\n",
       "    <tr>\n",
       "      <th>649</th>\n",
       "      <td>39049</td>\n",
       "      <td>Franklin</td>\n",
       "    </tr>\n",
       "    <tr>\n",
       "      <th>2169</th>\n",
       "      <td>39073</td>\n",
       "      <td>Hocking</td>\n",
       "    </tr>\n",
       "    <tr>\n",
       "      <th>1358</th>\n",
       "      <td>39083</td>\n",
       "      <td>Knox</td>\n",
       "    </tr>\n",
       "    <tr>\n",
       "      <th>1359</th>\n",
       "      <td>39089</td>\n",
       "      <td>Licking</td>\n",
       "    </tr>\n",
       "    <tr>\n",
       "      <th>2175</th>\n",
       "      <td>39091</td>\n",
       "      <td>Logan</td>\n",
       "    </tr>\n",
       "    <tr>\n",
       "      <th>2177</th>\n",
       "      <td>39097</td>\n",
       "      <td>Madison</td>\n",
       "    </tr>\n",
       "    <tr>\n",
       "      <th>2178</th>\n",
       "      <td>39101</td>\n",
       "      <td>Marion</td>\n",
       "    </tr>\n",
       "    <tr>\n",
       "      <th>1364</th>\n",
       "      <td>39117</td>\n",
       "      <td>Morrow</td>\n",
       "    </tr>\n",
       "    <tr>\n",
       "      <th>2362</th>\n",
       "      <td>39127</td>\n",
       "      <td>Perry</td>\n",
       "    </tr>\n",
       "    <tr>\n",
       "      <th>1366</th>\n",
       "      <td>39129</td>\n",
       "      <td>Pickaway</td>\n",
       "    </tr>\n",
       "    <tr>\n",
       "      <th>2366</th>\n",
       "      <td>39141</td>\n",
       "      <td>Ross</td>\n",
       "    </tr>\n",
       "    <tr>\n",
       "      <th>2372</th>\n",
       "      <td>39159</td>\n",
       "      <td>Union</td>\n",
       "    </tr>\n",
       "  </tbody>\n",
       "</table>\n",
       "</div>"
      ],
      "text/plain": [
       "      GEOID COUNTY_NAME\n",
       "2159  39041    Delaware\n",
       "2160  39045   Fairfield\n",
       "2161  39047     Fayette\n",
       "649   39049    Franklin\n",
       "2169  39073     Hocking\n",
       "1358  39083        Knox\n",
       "1359  39089     Licking\n",
       "2175  39091       Logan\n",
       "2177  39097     Madison\n",
       "2178  39101      Marion\n",
       "1364  39117      Morrow\n",
       "2362  39127       Perry\n",
       "1366  39129    Pickaway\n",
       "2366  39141        Ross\n",
       "2372  39159       Union"
      ]
     },
     "execution_count": 20,
     "metadata": {},
     "output_type": "execute_result"
    }
   ],
   "source": [
    "countyLookup.df"
   ]
  },
  {
   "cell_type": "markdown",
   "id": "7055eba7-86ef-4eb7-88c0-bba1add17dd8",
   "metadata": {},
   "source": [
    "You can create a list of the names of the counties:"
   ]
  },
  {
   "cell_type": "code",
   "execution_count": 21,
   "id": "d6222a3e-dfb1-441a-a9b2-9422e52c7589",
   "metadata": {
    "tags": []
   },
   "outputs": [
    {
     "data": {
      "text/plain": [
       "['Delaware',\n",
       " 'Fairfield',\n",
       " 'Fayette',\n",
       " 'Franklin',\n",
       " 'Hocking',\n",
       " 'Knox',\n",
       " 'Licking',\n",
       " 'Logan',\n",
       " 'Madison',\n",
       " 'Marion',\n",
       " 'Morrow',\n",
       " 'Perry',\n",
       " 'Pickaway',\n",
       " 'Ross',\n",
       " 'Union']"
      ]
     },
     "execution_count": 21,
     "metadata": {},
     "output_type": "execute_result"
    }
   ],
   "source": [
    "countyLookup.list_names()"
   ]
  },
  {
   "cell_type": "markdown",
   "id": "e69dd40b-cfe2-49c9-87fd-099a2f0044ac",
   "metadata": {},
   "source": [
    "Or list their IDs:"
   ]
  },
  {
   "cell_type": "code",
   "execution_count": 22,
   "id": "8cf1c007-1e4c-47e2-bb29-0e2c99d9b592",
   "metadata": {
    "tags": []
   },
   "outputs": [
    {
     "data": {
      "text/plain": [
       "['39041',\n",
       " '39045',\n",
       " '39047',\n",
       " '39049',\n",
       " '39073',\n",
       " '39083',\n",
       " '39089',\n",
       " '39091',\n",
       " '39097',\n",
       " '39101',\n",
       " '39117',\n",
       " '39127',\n",
       " '39129',\n",
       " '39141',\n",
       " '39159']"
      ]
     },
     "execution_count": 22,
     "metadata": {},
     "output_type": "execute_result"
    }
   ],
   "source": [
    "countyLookup.list_ids()"
   ]
  },
  {
   "cell_type": "markdown",
   "id": "eb1c7e79-0c75-4b08-8087-e45acbd0bd9e",
   "metadata": {},
   "source": [
    "You can also look up the ID for a county given its name."
   ]
  },
  {
   "cell_type": "code",
   "execution_count": 23,
   "id": "67b0822a-23ec-4c3e-9627-2de2e55aea18",
   "metadata": {
    "tags": []
   },
   "outputs": [
    {
     "data": {
      "text/plain": [
       "'39073'"
      ]
     },
     "execution_count": 23,
     "metadata": {},
     "output_type": "execute_result"
    }
   ],
   "source": [
    "countyLookup.get_id(\"Hocking\")"
   ]
  },
  {
   "cell_type": "markdown",
   "id": "641e5ba2-5c22-4121-a1f6-385924da32cf",
   "metadata": {},
   "source": [
    "Or look up its name given its ID."
   ]
  },
  {
   "cell_type": "code",
   "execution_count": 24,
   "id": "7b817367-f688-42c6-a3c3-5a367f0721bc",
   "metadata": {
    "tags": []
   },
   "outputs": [
    {
     "data": {
      "text/plain": [
       "'Logan'"
      ]
     },
     "execution_count": 24,
     "metadata": {},
     "output_type": "execute_result"
    }
   ],
   "source": [
    "countyLookup.get_name(\"39091\")"
   ]
  },
  {
   "cell_type": "markdown",
   "id": "5af4cce2-1a02-419e-a54a-a04695a3af7e",
   "metadata": {
    "jp-MarkdownHeadingCollapsed": true,
    "tags": []
   },
   "source": [
    "# Write data and charts to Excel"
   ]
  },
  {
   "cell_type": "markdown",
   "id": "5b073ba6-d078-4a49-b6e9-ab8535e4157f",
   "metadata": {},
   "source": [
    "Excel-based charts are exceptionally useful to our customers because they are easy for our customers to manipulate, style, and include in downstream products such as PowerPoint slides.  They are, however, inconvenient to product programmatically.  The following functions are intended to simplify the production of Excel-based charts that are consistent with MORPC branding and, eventually, with Data & Mapping visualization standards."
   ]
  },
  {
   "cell_type": "markdown",
   "id": "868f2ca7-4e8d-42d6-a960-5fa80f834ad4",
   "metadata": {},
   "source": [
    "### data_chart_to_excel( )"
   ]
  },
  {
   "cell_type": "markdown",
   "id": "de413abe-466e-4471-9bf4-90e220642925",
   "metadata": {},
   "source": [
    "This function will create an Excel worksheet consisting of the contents of a pandas dataframe (as a formatted table) and, optionally, a chart to visualize the series included in the dataframe.  The simplest invocation will produce a table and a basic column (vertical bar) chart with default formatting that is consistent with MORPC branding guidelines, however the user can specify many of options supported by the xlsxwriter library (https://xlsxwriter.readthedocs.io/).\n",
    "\n",
    "The following blocks demonstrates some simple use cases.  First, create a dataframe with demonstration data."
   ]
  },
  {
   "cell_type": "code",
   "execution_count": 33,
   "id": "79637cfc-23c2-4634-afb5-9852a29358b9",
   "metadata": {
    "tags": []
   },
   "outputs": [],
   "source": [
    "import pandas as pd\n",
    "import os"
   ]
  },
  {
   "cell_type": "code",
   "execution_count": 34,
   "id": "0d166665-1c9b-4a81-a54b-29e474a877dd",
   "metadata": {
    "tags": []
   },
   "outputs": [
    {
     "data": {
      "text/html": [
       "<div>\n",
       "<style scoped>\n",
       "    .dataframe tbody tr th:only-of-type {\n",
       "        vertical-align: middle;\n",
       "    }\n",
       "\n",
       "    .dataframe tbody tr th {\n",
       "        vertical-align: top;\n",
       "    }\n",
       "\n",
       "    .dataframe thead th {\n",
       "        text-align: right;\n",
       "    }\n",
       "</style>\n",
       "<table border=\"1\" class=\"dataframe\">\n",
       "  <thead>\n",
       "    <tr style=\"text-align: right;\">\n",
       "      <th></th>\n",
       "      <th>col1</th>\n",
       "      <th>col2</th>\n",
       "    </tr>\n",
       "  </thead>\n",
       "  <tbody>\n",
       "    <tr>\n",
       "      <th>0</th>\n",
       "      <td>1</td>\n",
       "      <td>3</td>\n",
       "    </tr>\n",
       "    <tr>\n",
       "      <th>1</th>\n",
       "      <td>2</td>\n",
       "      <td>4</td>\n",
       "    </tr>\n",
       "    <tr>\n",
       "      <th>2</th>\n",
       "      <td>3</td>\n",
       "      <td>5</td>\n",
       "    </tr>\n",
       "    <tr>\n",
       "      <th>3</th>\n",
       "      <td>4</td>\n",
       "      <td>6</td>\n",
       "    </tr>\n",
       "  </tbody>\n",
       "</table>\n",
       "</div>"
      ],
      "text/plain": [
       "   col1  col2\n",
       "0     1     3\n",
       "1     2     4\n",
       "2     3     5\n",
       "3     4     6"
      ]
     },
     "execution_count": 34,
     "metadata": {},
     "output_type": "execute_result"
    }
   ],
   "source": [
    "d = {'col1': [1, 2, 3, 4], 'col2':[3, 4, 5, 6]}\n",
    "df = pd.DataFrame(data=d)\n",
    "df"
   ]
  },
  {
   "cell_type": "markdown",
   "id": "415015d9-9bc2-48bc-bbc6-9c5391349b38",
   "metadata": {},
   "source": [
    "Next create an Excel object using the xlsxwriter package.  The object is linked to an Excel workbook, as indicated by the path in the first argument."
   ]
  },
  {
   "cell_type": "code",
   "execution_count": 35,
   "id": "5e07400f-5995-4119-b5b3-f992a9a3758a",
   "metadata": {
    "tags": []
   },
   "outputs": [],
   "source": [
    "# Create a directory to store the output (for demonstration purposes only)\n",
    "if not os.path.exists(\"./temp_data\"):\n",
    "    os.makedirs(\"./temp_data\")\n",
    "\n",
    "writer = pd.ExcelWriter(\"./temp_data/dataChartToExcelOutput.xlsx\", engine='xlsxwriter')"
   ]
  },
  {
   "cell_type": "markdown",
   "id": "76ece22f-b514-41bd-b5a2-b57185217a01",
   "metadata": {},
   "source": [
    "The following block will create a new worksheet in the Excel object which contains a table representing the dataframe and column chart displaying the series in the table.  The new worksheet will be called \"Sheet1\" since no sheet name was specified.  Default presentation settings will be used since we did not specify any settings.  This will result in a column (vertical bar) chart.\n",
    "\n",
    "**Note: You will not be able to view the spreadsheet itself until the writer object is closed in a later block.**"
   ]
  },
  {
   "cell_type": "code",
   "execution_count": 36,
   "id": "d94f5f20-2b42-4db7-b555-aeda49f2c73b",
   "metadata": {
    "tags": []
   },
   "outputs": [],
   "source": [
    "morpc.data_chart_to_excel(df, writer)  "
   ]
  },
  {
   "cell_type": "markdown",
   "id": "ae544bba-4010-4af4-91d8-2b5ccf621b10",
   "metadata": {},
   "source": [
    "The following block will add another worksheet to the xlsxwriter object.  This time we specified a sheet name (\"LineChart\") and a chart type (\"line\"), so the code will create the same table as the previous command but will produce a line chart instead of a column chart.  As before, the default presentation settings will be used."
   ]
  },
  {
   "cell_type": "code",
   "execution_count": 37,
   "id": "35ec5de7-8a6b-47bb-9086-270fca9f48a8",
   "metadata": {
    "tags": []
   },
   "outputs": [],
   "source": [
    "morpc.data_chart_to_excel(df, writer, sheet_name=\"LineChart\", chartType=\"line\")"
   ]
  },
  {
   "cell_type": "markdown",
   "id": "c932d386-a2f5-4f93-b4e1-d5e3d550fd22",
   "metadata": {},
   "source": [
    "The following block goes a step further and specifies a subtype for the chart.  Specifically it creates a stacked column chart.  As before, the default presentation settings will be used.  For more information about what chart types and subtypes are available, see https://xlsxwriter.readthedocs.io/workbook.html#workbook-add-chart.  The supported chart types as of this writing include column, bar, and line.  The stacked subtype has been minimally tested for column and bar charts.  Other chart types and subtypes may or may not work without further improvements to the function."
   ]
  },
  {
   "cell_type": "code",
   "execution_count": 38,
   "id": "a58d3280-5947-4f9e-bbdd-53f59200ffc5",
   "metadata": {
    "tags": []
   },
   "outputs": [],
   "source": [
    "morpc.data_chart_to_excel(df, writer, sheet_name=\"Stacked\", chartType=\"column\", chartOptions={\"subtype\":\"stacked\"})"
   ]
  },
  {
   "cell_type": "markdown",
   "id": "b8d70b6e-6b0e-4745-975b-cac6b9a2224f",
   "metadata": {},
   "source": [
    "The next block demonstrates the \"bar\" (horiztontal bar) chart type and applies some custom presentation settings, specifically a set of user-specified colors and titles, and omission of the legend, which is displayed by default."
   ]
  },
  {
   "cell_type": "code",
   "execution_count": 39,
   "id": "97a20171-e366-4c26-a77a-4339af6cb06a",
   "metadata": {
    "tags": []
   },
   "outputs": [],
   "source": [
    "morpc.data_chart_to_excel(df, writer, sheet_name=\"Custom\", chartType=\"bar\", chartOptions={\n",
    "    \"colors\": [\"cyan\",\"magenta\"],                   # Specify a custom color\n",
    "    \"hideLegend\": True,                             # Hide the legend\n",
    "    \"titles\": {                                     # Specify the chart title and axis titles\n",
    "        \"chartTitle\": \"My Chart\",\n",
    "        \"xTitle\": \"My independent variable\",\n",
    "        \"yTitle\": \"My dependent variable\",\n",
    "    }\n",
    "})"
   ]
  },
  {
   "cell_type": "markdown",
   "id": "bcf2992f-f835-408e-879f-e2b1d4728c01",
   "metadata": {},
   "source": [
    "Finally, we have to close the xlsxwriter object to finalize the Excel workbook and make it readable."
   ]
  },
  {
   "cell_type": "code",
   "execution_count": 40,
   "id": "64ec000b-f33d-494d-bae8-ac899c58226c",
   "metadata": {
    "tags": []
   },
   "outputs": [],
   "source": [
    "writer.close()"
   ]
  },
  {
   "cell_type": "markdown",
   "id": "cfb2aa60-801b-489a-85a9-91490d28bfab",
   "metadata": {},
   "source": [
    "Now you should be able to open the Excel document at `./temp_data/dataChartToExcelOutput.xlsx`\n",
    "\n",
    "Note that many more customizations are possible.  To learn more, uncomment and run the following block, or enter the command in your own notebook or a Python interpreter."
   ]
  },
  {
   "cell_type": "code",
   "execution_count": 43,
   "id": "75cd2ca3-9e80-4ae2-8716-0d4040f75073",
   "metadata": {
    "tags": []
   },
   "outputs": [],
   "source": [
    "# help(morpc.data_chart_to_excel)"
   ]
  },
  {
   "cell_type": "markdown",
   "id": "3ba0dc72-d56c-48d5-8299-2f5ac5e07f59",
   "metadata": {
    "jp-MarkdownHeadingCollapsed": true,
    "tags": []
   },
   "source": [
    "# Load spatial data"
   ]
  },
  {
   "cell_type": "markdown",
   "id": "82296574-7baa-470a-8df6-a3d12645d293",
   "metadata": {},
   "source": [
    "Often we want to make a copy of some input data and work with the copy, for example to protect the original data or to create an archival copy of it so that we can replicate the process later.  With tabular data this is simple, but with spatial data it can be tricky.  Shapefiles actually consist of up to six files, so it is necessary to copy them all.  Geodatabases may contain many layers in addition to the one we care about.  The `load_spatial_data()` function simplifies the process of reading the data and (optionally) making an archival copy. It has three parameters:\n",
    "  - `sourcePath` - The path to the geospatial data. It may be a file path or URL. In the case of a Shapefile, this should point to the .shp file or a zipped file that contains all of the Shapefile components. You can point to other zipped contents as well, but see caveats below.\n",
    "  - `layerName` (required for GPKG and GDB, optional for SHP) - The name of the layer that you wish to extract from a GeoPackage or File Geodatabase.  Not required for Shapefiles, but may be specified for use in the archival copy (see below)\n",
    "  - `driverName` (required for zipped data or data with non-standard file extension) - which [GDAL driver](https://gdal.org/drivers/vector/index.html) to use to read the file. Script will attempt to infer this from the file extension, but you must specify it if the data is zipped, if the file extension is non-standard, or if the extension cannot be determined from the path (e.g. if the path is an API query)\n",
    "  - `archiveDir` (optional) - The path to the directory where a copy of a data should be archived.  If this is specified, the data will be archived in this location as a GeoPackage.  The function will determine the file name and layer name from the specified parameters, using generic values if necessary.\n",
    "  - `archiveFileName` (optional) - If `archiveDir` is specified, you may use this to specify the name of the archival GeoPackage.  Omit the extension.  If this is unspecified, the function will assign the file name automatically using a generic value if necessary.\n",
    "  \n",
    "The following example loads data from the MORPC Mid-Ohio Open Data website, however you can also load data from a local path or network drive."
   ]
  },
  {
   "cell_type": "code",
   "execution_count": 46,
   "id": "249e7a19-9d75-4b30-9ad3-655294f00a4f",
   "metadata": {
    "tags": []
   },
   "outputs": [],
   "source": [
    "import geopandas as gpd"
   ]
  },
  {
   "cell_type": "code",
   "execution_count": 57,
   "id": "627d9101-6aa1-4504-a8c2-3784cd55dfad",
   "metadata": {
    "tags": []
   },
   "outputs": [
    {
     "name": "stdout",
     "output_type": "stream",
     "text": [
      "morpc.load_spatial_data | INFO | Loading spatial data from location: https://opendata.arcgis.com/api/v3/datasets/e42b50fbd17a47739c2a7695778c498e_17/downloads/data?format=shp&spatialRefId=3735&where=1%3D1\n",
      "morpc.load_spatial_data | INFO | Using driver ESRI Shapefile as specified by user.\n",
      "morpc.load_spatial_data | INFO | Reading spatial data...\n",
      "morpc.load_spatial_data | INFO | File name is unspecified and source path appears to be an API query. Will assign an alternate file name.\n",
      "morpc.load_spatial_data | INFO | Creating archival copy of geospatial layer at ./temp_data\\MORPC MPO Boundary.gpkg, layer MORPC MPO Boundary\n"
     ]
    },
    {
     "name": "stderr",
     "output_type": "stream",
     "text": [
      "C:\\Users\\jinskeep\\AppData\\Local\\miniconda3\\envs\\morpc_env\\Lib\\site-packages\\pyogrio\\raw.py:137: RuntimeWarning: driver ESRI Shapefile does not support open option DRIVER\n",
      "  result = ogr_read(\n"
     ]
    }
   ],
   "source": [
    "# Create a directory to store the archival data (for demonstration purposes only)\n",
    "if not os.path.exists(\"./temp_data\"):\n",
    "    os.makedirs(\"./temp_data\")\n",
    "\n",
    "# Load the data and create an archival copy\n",
    "gdf = morpc.load_spatial_data(\n",
    "    sourcePath=\"https://opendata.arcgis.com/api/v3/datasets/e42b50fbd17a47739c2a7695778c498e_17/downloads/data?format=shp&spatialRefId=3735&where=1%3D1\", \n",
    "    layerName=\"MORPC MPO Boundary\",\n",
    "    driverName=\"ESRI Shapefile\",\n",
    "    archiveDir=\"./temp_data\"\n",
    ")"
   ]
  },
  {
   "cell_type": "markdown",
   "id": "f6f350e2-2fc4-4bbf-a313-3e414f0f4596",
   "metadata": {},
   "source": [
    "Let's take a look at the data and make sure it loaded correctly."
   ]
  },
  {
   "cell_type": "code",
   "execution_count": 58,
   "id": "80370a69-4ae6-426c-b17b-0ea3f7dfdde8",
   "metadata": {
    "tags": []
   },
   "outputs": [
    {
     "data": {
      "text/html": [
       "<div style=\"width:100%;\"><div style=\"position:relative;width:100%;height:0;padding-bottom:60%;\"><span style=\"color:#565656\">Make this Notebook Trusted to load map: File -> Trust Notebook</span><iframe srcdoc=\"&lt;!DOCTYPE html&gt;\n",
       "&lt;html&gt;\n",
       "&lt;head&gt;\n",
       "    \n",
       "    &lt;meta http-equiv=&quot;content-type&quot; content=&quot;text/html; charset=UTF-8&quot; /&gt;\n",
       "    \n",
       "        &lt;script&gt;\n",
       "            L_NO_TOUCH = false;\n",
       "            L_DISABLE_3D = false;\n",
       "        &lt;/script&gt;\n",
       "    \n",
       "    &lt;style&gt;html, body {width: 100%;height: 100%;margin: 0;padding: 0;}&lt;/style&gt;\n",
       "    &lt;style&gt;#map {position:absolute;top:0;bottom:0;right:0;left:0;}&lt;/style&gt;\n",
       "    &lt;script src=&quot;https://cdn.jsdelivr.net/npm/leaflet@1.9.3/dist/leaflet.js&quot;&gt;&lt;/script&gt;\n",
       "    &lt;script src=&quot;https://code.jquery.com/jquery-3.7.1.min.js&quot;&gt;&lt;/script&gt;\n",
       "    &lt;script src=&quot;https://cdn.jsdelivr.net/npm/bootstrap@5.2.2/dist/js/bootstrap.bundle.min.js&quot;&gt;&lt;/script&gt;\n",
       "    &lt;script src=&quot;https://cdnjs.cloudflare.com/ajax/libs/Leaflet.awesome-markers/2.0.2/leaflet.awesome-markers.js&quot;&gt;&lt;/script&gt;\n",
       "    &lt;link rel=&quot;stylesheet&quot; href=&quot;https://cdn.jsdelivr.net/npm/leaflet@1.9.3/dist/leaflet.css&quot;/&gt;\n",
       "    &lt;link rel=&quot;stylesheet&quot; href=&quot;https://cdn.jsdelivr.net/npm/bootstrap@5.2.2/dist/css/bootstrap.min.css&quot;/&gt;\n",
       "    &lt;link rel=&quot;stylesheet&quot; href=&quot;https://netdna.bootstrapcdn.com/bootstrap/3.0.0/css/bootstrap-glyphicons.css&quot;/&gt;\n",
       "    &lt;link rel=&quot;stylesheet&quot; href=&quot;https://cdn.jsdelivr.net/npm/@fortawesome/fontawesome-free@6.2.0/css/all.min.css&quot;/&gt;\n",
       "    &lt;link rel=&quot;stylesheet&quot; href=&quot;https://cdnjs.cloudflare.com/ajax/libs/Leaflet.awesome-markers/2.0.2/leaflet.awesome-markers.css&quot;/&gt;\n",
       "    &lt;link rel=&quot;stylesheet&quot; href=&quot;https://cdn.jsdelivr.net/gh/python-visualization/folium/folium/templates/leaflet.awesome.rotate.min.css&quot;/&gt;\n",
       "    \n",
       "            &lt;meta name=&quot;viewport&quot; content=&quot;width=device-width,\n",
       "                initial-scale=1.0, maximum-scale=1.0, user-scalable=no&quot; /&gt;\n",
       "            &lt;style&gt;\n",
       "                #map_4b791ca93e349113df753331884b7965 {\n",
       "                    position: relative;\n",
       "                    width: 100.0%;\n",
       "                    height: 100.0%;\n",
       "                    left: 0.0%;\n",
       "                    top: 0.0%;\n",
       "                }\n",
       "                .leaflet-container { font-size: 1rem; }\n",
       "            &lt;/style&gt;\n",
       "        \n",
       "    \n",
       "                    &lt;style&gt;\n",
       "                        .foliumtooltip {\n",
       "                            \n",
       "                        }\n",
       "                       .foliumtooltip table{\n",
       "                            margin: auto;\n",
       "                        }\n",
       "                        .foliumtooltip tr{\n",
       "                            text-align: left;\n",
       "                        }\n",
       "                        .foliumtooltip th{\n",
       "                            padding: 2px; padding-right: 8px;\n",
       "                        }\n",
       "                    &lt;/style&gt;\n",
       "            \n",
       "&lt;/head&gt;\n",
       "&lt;body&gt;\n",
       "    \n",
       "    \n",
       "            &lt;div class=&quot;folium-map&quot; id=&quot;map_4b791ca93e349113df753331884b7965&quot; &gt;&lt;/div&gt;\n",
       "        \n",
       "&lt;/body&gt;\n",
       "&lt;script&gt;\n",
       "    \n",
       "    \n",
       "            var map_4b791ca93e349113df753331884b7965 = L.map(\n",
       "                &quot;map_4b791ca93e349113df753331884b7965&quot;,\n",
       "                {\n",
       "                    center: [40.0866857339448, -82.95918810510679],\n",
       "                    crs: L.CRS.EPSG3857,\n",
       "                    ...{\n",
       "  &quot;zoom&quot;: 10,\n",
       "  &quot;zoomControl&quot;: true,\n",
       "  &quot;preferCanvas&quot;: false,\n",
       "}\n",
       "\n",
       "                }\n",
       "            );\n",
       "            L.control.scale().addTo(map_4b791ca93e349113df753331884b7965);\n",
       "\n",
       "            \n",
       "\n",
       "        \n",
       "    \n",
       "            var tile_layer_10efd8ee053e953f2effb40d5c6e376e = L.tileLayer(\n",
       "                &quot;https://tile.openstreetmap.org/{z}/{x}/{y}.png&quot;,\n",
       "                {\n",
       "  &quot;minZoom&quot;: 0,\n",
       "  &quot;maxZoom&quot;: 19,\n",
       "  &quot;maxNativeZoom&quot;: 19,\n",
       "  &quot;noWrap&quot;: false,\n",
       "  &quot;attribution&quot;: &quot;\\u0026copy; \\u003ca href=\\&quot;https://www.openstreetmap.org/copyright\\&quot;\\u003eOpenStreetMap\\u003c/a\\u003e contributors&quot;,\n",
       "  &quot;subdomains&quot;: &quot;abc&quot;,\n",
       "  &quot;detectRetina&quot;: false,\n",
       "  &quot;tms&quot;: false,\n",
       "  &quot;opacity&quot;: 1,\n",
       "}\n",
       "\n",
       "            );\n",
       "        \n",
       "    \n",
       "            tile_layer_10efd8ee053e953f2effb40d5c6e376e.addTo(map_4b791ca93e349113df753331884b7965);\n",
       "        \n",
       "    \n",
       "            map_4b791ca93e349113df753331884b7965.fitBounds(\n",
       "                [[39.729459448312824, -83.31031402281322], [40.44391201957677, -82.60806218740035]],\n",
       "                {}\n",
       "            );\n",
       "        \n",
       "    \n",
       "        function geo_json_1425af123e7cb2d56ccb3d16a03624ae_styler(feature) {\n",
       "            switch(feature.id) {\n",
       "                default:\n",
       "                    return {&quot;fillOpacity&quot;: 0.5, &quot;weight&quot;: 2};\n",
       "            }\n",
       "        }\n",
       "        function geo_json_1425af123e7cb2d56ccb3d16a03624ae_highlighter(feature) {\n",
       "            switch(feature.id) {\n",
       "                default:\n",
       "                    return {&quot;fillOpacity&quot;: 0.75};\n",
       "            }\n",
       "        }\n",
       "        function geo_json_1425af123e7cb2d56ccb3d16a03624ae_pointToLayer(feature, latlng) {\n",
       "            var opts = {&quot;bubblingMouseEvents&quot;: true, &quot;color&quot;: &quot;#3388ff&quot;, &quot;dashArray&quot;: null, &quot;dashOffset&quot;: null, &quot;fill&quot;: true, &quot;fillColor&quot;: &quot;#3388ff&quot;, &quot;fillOpacity&quot;: 0.2, &quot;fillRule&quot;: &quot;evenodd&quot;, &quot;lineCap&quot;: &quot;round&quot;, &quot;lineJoin&quot;: &quot;round&quot;, &quot;opacity&quot;: 1.0, &quot;radius&quot;: 2, &quot;stroke&quot;: true, &quot;weight&quot;: 3};\n",
       "            \n",
       "            let style = geo_json_1425af123e7cb2d56ccb3d16a03624ae_styler(feature)\n",
       "            Object.assign(opts, style)\n",
       "            \n",
       "            return new L.CircleMarker(latlng, opts)\n",
       "        }\n",
       "\n",
       "        function geo_json_1425af123e7cb2d56ccb3d16a03624ae_onEachFeature(feature, layer) {\n",
       "            layer.on({\n",
       "                mouseout: function(e) {\n",
       "                    if(typeof e.target.setStyle === &quot;function&quot;){\n",
       "                            geo_json_1425af123e7cb2d56ccb3d16a03624ae.resetStyle(e.target);\n",
       "                    }\n",
       "                },\n",
       "                mouseover: function(e) {\n",
       "                    if(typeof e.target.setStyle === &quot;function&quot;){\n",
       "                        const highlightStyle = geo_json_1425af123e7cb2d56ccb3d16a03624ae_highlighter(e.target.feature)\n",
       "                        e.target.setStyle(highlightStyle);\n",
       "                    }\n",
       "                },\n",
       "            });\n",
       "        };\n",
       "        var geo_json_1425af123e7cb2d56ccb3d16a03624ae = L.geoJson(null, {\n",
       "                onEachFeature: geo_json_1425af123e7cb2d56ccb3d16a03624ae_onEachFeature,\n",
       "            \n",
       "                style: geo_json_1425af123e7cb2d56ccb3d16a03624ae_styler,\n",
       "                pointToLayer: geo_json_1425af123e7cb2d56ccb3d16a03624ae_pointToLayer,\n",
       "            ...{\n",
       "}\n",
       "        });\n",
       "\n",
       "        function geo_json_1425af123e7cb2d56ccb3d16a03624ae_add (data) {\n",
       "            geo_json_1425af123e7cb2d56ccb3d16a03624ae\n",
       "                .addData(data);\n",
       "        }\n",
       "            geo_json_1425af123e7cb2d56ccb3d16a03624ae_add({&quot;bbox&quot;: [-83.31031402281322, 39.729459448312824, -82.60806218740035, 40.44391201957677], &quot;features&quot;: [{&quot;bbox&quot;: [-83.31031402281322, 39.729459448312824, -82.60806218740035, 40.44391201957677], &quot;geometry&quot;: {&quot;coordinates&quot;: [[[-82.97796726345803, 40.416586423645775], [-82.97334618998117, 40.41638839535266], [-82.9732579375979, 40.41709755735044], [-82.96355017977233, 40.416643358959256], [-82.95370780188105, 40.416246106685726], [-82.94002852798639, 40.415528061924775], [-82.92498467816544, 40.41481233850134], [-82.92540784864372, 40.40777399993317], [-82.92669680934301, 40.393955706274866], [-82.92845893298066, 40.37213745792859], [-82.92926477162564, 40.36252587346037], [-82.92952193257008, 40.359206096342945], [-82.92963784907721, 40.357957342727644], [-82.9229552022044, 40.35780129065639], [-82.88271477263704, 40.355861649635074], [-82.87500011851142, 40.35551565697432], [-82.85661592157082, 40.35465785016611], [-82.84021284794882, 40.35389005049585], [-82.83134258689135, 40.353557761134034], [-82.81879146532192, 40.35293626231907], [-82.80906333357821, 40.35243855662872], [-82.79276076055271, 40.35175587704426], [-82.7791254457493, 40.3510934022481], [-82.77592007557874, 40.350967191110534], [-82.77466940873083, 40.3508971809152], [-82.75687813499528, 40.35014281947937], [-82.74491928996682, 40.34959737616741], [-82.74567970428669, 40.34086464797255], [-82.74718132576501, 40.3225507024512], [-82.7484203687673, 40.3076749620514], [-82.74842630804234, 40.30740184435611], [-82.74844806787415, 40.30712216093959], [-82.7495285881693, 40.29322553086696], [-82.74998447370243, 40.288107962034], [-82.75017220085766, 40.284117553141726], [-82.75024803664445, 40.28406768493229], [-82.75042299143485, 40.281462481192115], [-82.75065805665729, 40.27872750442462], [-82.7508075443391, 40.277007761295664], [-82.75135897653537, 40.269131272897226], [-82.75203389018192, 40.26100800271431], [-82.7524105284356, 40.25579468208684], [-82.75316204697778, 40.246438235562124], [-82.75319792290703, 40.246129756562226], [-82.75407468814791, 40.23295999618573], [-82.75462910466078, 40.22580750940583], [-82.7558617389211, 40.20811447827069], [-82.75595547949798, 40.20681044877303], [-82.75642394553958, 40.20082087278594], [-82.7567808367287, 40.1957196333434], [-82.756915759545, 40.19383149973605], [-82.7571914220383, 40.189651109829086], [-82.75723510740181, 40.18935807663026], [-82.75809231067191, 40.17632111105221], [-82.75842291999747, 40.171521884778116], [-82.75898649298831, 40.16345183816807], [-82.7595216867394, 40.15636987001152], [-82.75955158138012, 40.15615594538573], [-82.7597252834834, 40.15392705608785], [-82.76014872467321, 40.14848331999913], [-82.76025339318657, 40.14698087607006], [-82.76044076276847, 40.1447159248004], [-82.76088240648487, 40.13874090365304], [-82.76144470020142, 40.13082874059943], [-82.76180399787768, 40.125979109401236], [-82.76180558749328, 40.125957655698535], [-82.76218233238414, 40.120770960486766], [-82.76060853681524, 40.12120459614079], [-82.7540987463954, 40.1209399800207], [-82.74231544598656, 40.12044279961756], [-82.74212486290993, 40.122872373629015], [-82.74024588584443, 40.12279827247416], [-82.74009558677051, 40.12508106200097], [-82.73191627624351, 40.12476094107865], [-82.73138099143033, 40.12473764453867], [-82.73120271107814, 40.12472988449743], [-82.73023994999794, 40.12468797515833], [-82.73005326015826, 40.12467971200228], [-82.72956071412362, 40.12465791129827], [-82.72926694302718, 40.124644803586676], [-82.72830218150781, 40.124601750253355], [-82.72719388943717, 40.12455228313927], [-82.7269865494163, 40.1245430274412], [-82.7260933964309, 40.124501564892874], [-82.72532269298969, 40.1244657814629], [-82.72516347734127, 40.124457481318046], [-82.72424000247415, 40.12441485416552], [-82.72223834992221, 40.12432247045999], [-82.72207289824463, 40.12431483264336], [-82.72081095233992, 40.12425860961408], [-82.71906636431368, 40.124191542096], [-82.7175679655854, 40.12414473938465], [-82.71749094940904, 40.12414223682717], [-82.71734753573072, 40.12413736593573], [-82.71633324274615, 40.124096458386866], [-82.71631653609275, 40.12409578756304], [-82.71571975825962, 40.12407180699187], [-82.71570746818328, 40.124071396354374], [-82.7151334126076, 40.1240482266839], [-82.7150631093084, 40.124045687741486], [-82.71453265229843, 40.12402296224025], [-82.71442427418273, 40.1240184786601], [-82.71392350100511, 40.12399774241454], [-82.71378146051387, 40.12399174164714], [-82.71313744223794, 40.1239645304975], [-82.71249077162165, 40.12393720263824], [-82.71247318027063, 40.12393646082036], [-82.71186418916739, 40.123912482757255], [-82.71155095508752, 40.123900148480125], [-82.71064857944397, 40.12386461018705], [-82.71024452307267, 40.123848500425964], [-82.709513793491, 40.123819908749006], [-82.7089781373718, 40.123798804730484], [-82.70855768409189, 40.12378094235807], [-82.70594737300134, 40.12367001027742], [-82.70483229779077, 40.12362260485235], [-82.70404343461107, 40.12358900023733], [-82.7039803585424, 40.123586379090305], [-82.70312010858042, 40.12354979317446], [-82.70302416615013, 40.12354571259412], [-82.70188621694463, 40.12349730647529], [-82.70175667606243, 40.1234917056128], [-82.7008299628123, 40.12345025203322], [-82.70044573423367, 40.12343306159365], [-82.70004765509637, 40.12341524954341], [-82.69937043892655, 40.12338494489886], [-82.69867799166062, 40.12335395513047], [-82.69818675098556, 40.123331723673004], [-82.69798556422288, 40.12332270458586], [-82.69730220190964, 40.12329008657912], [-82.69663325305093, 40.12325815286549], [-82.69665908407762, 40.1231521701468], [-82.6966901431643, 40.12306253691663], [-82.69689724036293, 40.12263292059581], [-82.69707332476709, 40.1223164001003], [-82.6972506439092, 40.12200065983739], [-82.6974294154269, 40.12168591827882], [-82.69761301831024, 40.12137274431413], [-82.69833995181675, 40.12011490372946], [-82.69852858346329, 40.11978896192794], [-82.69857205341835, 40.11971491519739], [-82.69879899499773, 40.119336017613264], [-82.69881041571362, 40.11931708416903], [-82.69939433127476, 40.11833346621548], [-82.69997210710262, 40.11731693169811], [-82.70032970106043, 40.11668799342819], [-82.70068417586317, 40.116058015446306], [-82.70106326041501, 40.11538536748139], [-82.70186479028295, 40.113965514146216], [-82.70235912752706, 40.113063556193566], [-82.702534894882, 40.11274284895778], [-82.70285345193514, 40.112161595844576], [-82.7033504822227, 40.111247182239495], [-82.70335302313377, 40.11124249477531], [-82.70338301473592, 40.11118717006943], [-82.70444131846219, 40.10926905057692], [-82.70473116664505, 40.1087585964001], [-82.70568613945584, 40.107061840721755], [-82.70574285229623, 40.10696104541414], [-82.70590211847701, 40.10667797712876], [-82.7059232049078, 40.106640310762785], [-82.70609577388004, 40.10633059737402], [-82.7061755531377, 40.10618559815187], [-82.70631063307216, 40.105940060587415], [-82.70832823628243, 40.102358982938554], [-82.71044343755788, 40.10244411685166], [-82.71051860295559, 40.10161276940597], [-82.70889060183733, 40.10153421108479], [-82.70904731775295, 40.10129781390958], [-82.71017488162182, 40.09962894489703], [-82.71201627603979, 40.09970847597978], [-82.7138297936432, 40.0997867753111], [-82.7138051419512, 40.100181065296034], [-82.71483749855359, 40.100229833565415], [-82.7157294785248, 40.10027196360836], [-82.71662135166521, 40.10031408077876], [-82.71751333731758, 40.100356197281414], [-82.71844082746226, 40.10039998280273], [-82.71938835713524, 40.100444707063296], [-82.72044259325372, 40.10049445880576], [-82.72366182868419, 40.10064632183173], [-82.72376895195872, 40.10065137385041], [-82.72413350799607, 40.09595680996769], [-82.72290166107442, 40.09590064585937], [-82.71613993197916, 40.09556035971449], [-82.71618639023654, 40.094932581238], [-82.71546984752067, 40.09489601593707], [-82.71542830849518, 40.095525072966716], [-82.71415200892463, 40.09546058525712], [-82.71430483278615, 40.093643456142225], [-82.7133659347536, 40.09359715957874], [-82.71358524102695, 40.093169214680415], [-82.7154091352118, 40.09046017314817], [-82.71796213983671, 40.086900134376535], [-82.71879616101445, 40.08578264044035], [-82.72083261434614, 40.082830556234185], [-82.72106357193769, 40.08292314420774], [-82.7216656579061, 40.082156010562336], [-82.72415352947172, 40.08260985833395], [-82.72576764787344, 40.08274573613575], [-82.72586776223937, 40.08134607462756], [-82.72654643824065, 40.0813574371891], [-82.72654118142066, 40.081426851258136], [-82.72739567954306, 40.08146981422255], [-82.72735210180755, 40.08204529801346], [-82.72770888159747, 40.08206094874227], [-82.72736160676678, 40.08672632144328], [-82.73480122727847, 40.087043088214884], [-82.7348259690742, 40.08671544660351], [-82.73357728457573, 40.08664983486135], [-82.73359678999142, 40.08637278245422], [-82.73362697061248, 40.08594415315649], [-82.7336401433462, 40.08575705526684], [-82.7336467017403, 40.085663912092215], [-82.73366472860397, 40.08540790412549], [-82.73370127758497, 40.08488883362133], [-82.73371224225673, 40.08473310254077], [-82.73375874239706, 40.08407269707268], [-82.73377050349387, 40.08390565190958], [-82.73380770771801, 40.083377258547166], [-82.73384770523899, 40.08280917632757], [-82.73385889308946, 40.08265028355352], [-82.73386735412315, 40.08253010762972], [-82.73387631862354, 40.08240277992526], [-82.73389319025263, 40.082163161235506], [-82.73390863296319, 40.08194383410963], [-82.73392240510208, 40.08174822942477], [-82.7340325404334, 40.08175301301698], [-82.73412444782151, 40.081405476130655], [-82.7354265786659, 40.08149790387027], [-82.73543551846409, 40.08140425763501], [-82.73694213925093, 40.0814681618282], [-82.73880872270622, 40.08150457432661], [-82.73879845721932, 40.081627662377194], [-82.73954524687375, 40.08166120134463], [-82.73953811837187, 40.08135926579589], [-82.74067595840792, 40.08135729887673], [-82.74212001791862, 40.08130813393063], [-82.74448963163346, 40.081262577296144], [-82.74517050454715, 40.08124825428177], [-82.74657054521606, 40.08114187430715], [-82.74669466198078, 40.07926105660897], [-82.74669812095667, 40.07926116822819], [-82.74670722690263, 40.07912693232416], [-82.74760942437653, 40.07916704998971], [-82.74771719610752, 40.07794834520565], [-82.74621959100784, 40.07788770516584], [-82.74614074937558, 40.07895316088451], [-82.74612734678247, 40.07895520630203], [-82.74612718789348, 40.078957346466495], [-82.74597152018661, 40.07897898511403], [-82.74559628266809, 40.07896186404059], [-82.74505645799887, 40.078937222795055], [-82.74428881719558, 40.07887947294314], [-82.74381202026092, 40.078861824133035], [-82.74371473353408, 40.078858039842785], [-82.74318558602415, 40.07880893541998], [-82.74236802270707, 40.0788215494279], [-82.74204434588047, 40.07881335002743], [-82.74089627901562, 40.07874589856689], [-82.74057993047734, 40.0787367732074], [-82.74057122635611, 40.078864850393884], [-82.73970186211109, 40.07882790886689], [-82.73607190818582, 40.078670257605964], [-82.73617252326144, 40.07692272585072], [-82.73622440184978, 40.07602165454902], [-82.73624896586172, 40.07559498752914], [-82.73644544404691, 40.07558818911365], [-82.73697241509929, 40.074548241741454], [-82.73725513253146, 40.07368133258238], [-82.73725053109658, 40.07297529601474], [-82.7372144694882, 40.07255088238798], [-82.73764355445965, 40.07218188974761], [-82.7378813028741, 40.070087136293836], [-82.73822324015673, 40.06999850851886], [-82.7381561728607, 40.06975127693866], [-82.7379652501931, 40.069721848255874], [-82.73745907370143, 40.06912666760428], [-82.73758613196152, 40.06902441178534], [-82.73756674115195, 40.06886865518581], [-82.73728091548308, 40.06887039264019], [-82.73704355906048, 40.06829527909616], [-82.73726113447792, 40.067985872682385], [-82.7375869136308, 40.06752258836757], [-82.73668078543254, 40.065942531171736], [-82.73622008728654, 40.06593235188959], [-82.73620228883016, 40.065641973470264], [-82.73604713777783, 40.06511286970236], [-82.73517112548512, 40.06506849703746], [-82.73520125385274, 40.06466497102979], [-82.73636131225952, 40.06472540218242], [-82.73623460416914, 40.06431820692177], [-82.73616691906354, 40.063920176316365], [-82.73526655822592, 40.063875982089186], [-82.7357278008811, 40.057991334465484], [-82.7453389864836, 40.05848563716329], [-82.74545366267063, 40.05701583025722], [-82.74554075896486, 40.05589948322867], [-82.74554080153833, 40.05589892836364], [-82.7457783775285, 40.05284368791877], [-82.74583471255904, 40.052118716380456], [-82.7481654086159, 40.051787222245224], [-82.7495016226993, 40.0515443404203], [-82.75190669279914, 40.05105155038146], [-82.75223320875452, 40.050968395513856], [-82.75278306775324, 40.05082521925038], [-82.75328953854455, 40.05069631224766], [-82.75393392313902, 40.05053464171093], [-82.7546221085797, 40.0503599750779], [-82.73858725161949, 40.04952361168309], [-82.73332656487901, 40.049238261202845], [-82.72675344231386, 40.04890401855554], [-82.68842559784602, 40.04688899226974], [-82.66921053191228, 40.04605146967828], [-82.66934836108076, 40.044367001228984], [-82.66954151583292, 40.04220143492421], [-82.66987268861818, 40.03821713871341], [-82.67038564319134, 40.03171940920849], [-82.6705054643177, 40.03028364402006], [-82.67072295355507, 40.027455486344344], [-82.67081916024429, 40.02637655290411], [-82.6710457593312, 40.02349602153759], [-82.67117115901597, 40.02198325632432], [-82.67153425942199, 40.01662952013088], [-82.66952700425443, 40.01653349622768], [-82.66714642745565, 40.01643140714432], [-82.66706294334206, 40.01768127669177], [-82.66473183659814, 40.01757594402119], [-82.66439977226808, 40.019987573526095], [-82.66183414757116, 40.019816286951844], [-82.66166004382936, 40.022202480465616], [-82.65824751892026, 40.02202747171883], [-82.65842490453683, 40.01959671698807], [-82.65753673796651, 40.01956219856543], [-82.65752602197831, 40.01969940363032], [-82.6563656411168, 40.01964386403832], [-82.65630056617198, 40.01988645094955], [-82.65601421754116, 40.01968293114249], [-82.65535366751826, 40.01932440501995], [-82.65501274181537, 40.019183112185836], [-82.65466589371034, 40.01903861724323], [-82.65420733696294, 40.01897779341702], [-82.65408529618206, 40.01897495724196], [-82.65342607385818, 40.01907316938403], [-82.65339774804069, 40.01894043502243], [-82.6531890534738, 40.018967907999794], [-82.6521902979527, 40.019078515866795], [-82.65245752214133, 40.01579849710895], [-82.65272379517981, 40.01581013028652], [-82.65288789419847, 40.01367716520499], [-82.65237118285653, 40.01324536038805], [-82.65271267309019, 40.012418267229435], [-82.64350636159966, 40.01201858077307], [-82.64355642000247, 40.011010899373964], [-82.64180242947023, 40.01097051938539], [-82.64175109479723, 40.012247054712354], [-82.64349093759611, 40.01228718798593], [-82.64347846110176, 40.01245192720774], [-82.64057707694016, 40.01237988770402], [-82.64060175943159, 40.011627031683275], [-82.63999946890247, 40.01160744495615], [-82.63979368913768, 40.011657182073165], [-82.6392284222436, 40.01164354095748], [-82.63922090890355, 40.01178083007805], [-82.63668765602274, 40.011691698591044], [-82.63668365255386, 40.01174633055705], [-82.63390300630057, 40.01164611848668], [-82.63394804590409, 40.01094015849617], [-82.63450611475025, 40.01068752969215], [-82.63567549610174, 40.0102342955185], [-82.63662890288221, 40.00992648528895], [-82.63821036529943, 40.009514186824624], [-82.63983252636238, 40.00920942419859], [-82.63984183462821, 40.009043548760395], [-82.6426644475093, 40.0084602421402], [-82.64285469030834, 40.008416191860675], [-82.64338601234525, 40.00831924227106], [-82.64392629928474, 40.00825826914066], [-82.64381690498743, 40.00805679837397], [-82.6443159680748, 40.00089875827007], [-82.64433027653006, 40.00063650512864], [-82.64430405740961, 40.00063538545474], [-82.6443550492439, 39.9998033353988], [-82.65379903019355, 40.000332066013165], [-82.65361593898801, 40.00284065317535], [-82.65415682002084, 40.00286466016191], [-82.65416996586357, 40.002565806935955], [-82.65685803240196, 40.00266024823178], [-82.65701611435978, 40.000424567533535], [-82.65722981595829, 40.0004365769103], [-82.65714423141615, 40.00169220971447], [-82.65782639639107, 40.00171395178467], [-82.65758742183188, 40.005163730842504], [-82.65683186958644, 40.00529184145857], [-82.65679714127948, 40.006103538768095], [-82.65863486146789, 40.005793716572455], [-82.65863961783624, 40.00572108730589], [-82.66296313950444, 40.00495722578044], [-82.66329122861752, 40.00075661250922], [-82.65856373592406, 40.00050871999376], [-82.65894381919084, 39.9958972295096], [-82.6588810423621, 39.99562297431761], [-82.65927653628889, 39.9905195046359], [-82.65991513860436, 39.983726424369806], [-82.66015148504518, 39.98028958934851], [-82.66481228268893, 39.98267804375778], [-82.66504212430206, 39.982759827814974], [-82.66722588692713, 39.98331306896015], [-82.66916663870563, 39.98374626669299], [-82.66948076926585, 39.983835193134766], [-82.66955315139333, 39.98392999625997], [-82.66967761891776, 39.98412086107119], [-82.6697799881955, 39.984319344622975], [-82.66985947914196, 39.98452393684064], [-82.6701754653631, 39.98560931619934], [-82.67090076378098, 39.98737319169584], [-82.67392300814116, 39.987501076104316], [-82.67523050532421, 39.97141655113161], [-82.67523247561095, 39.97141663104817], [-82.67522539456183, 39.971397027576984], [-82.6657568128856, 39.97108596879467], [-82.64594382604986, 39.97030843460434], [-82.62697605084085, 39.969475845918275], [-82.60806218740035, 39.968775931992965], [-82.60869870028752, 39.95898799327606], [-82.60899761952328, 39.95439042907645], [-82.60941510513484, 39.950669752861906], [-82.60956944646841, 39.94559362969753], [-82.61003339804066, 39.93845468445838], [-82.61055330530695, 39.93105006359121], [-82.64903891360086, 39.93291060065785], [-82.67258250592474, 39.93410218725582], [-82.69715220572208, 39.93525278538186], [-82.69948276579485, 39.90713301963184], [-82.70077833475662, 39.891060515649386], [-82.70247179374022, 39.870647249708725], [-82.70502296910887, 39.839639962064915], [-82.7067884405041, 39.81766349939037], [-82.70679425658686, 39.81742005912713], [-82.70680420238112, 39.81728438985631], [-82.70690864205262, 39.81625822396852], [-82.70723352805014, 39.81260615278888], [-82.70733504288981, 39.81133581040211], [-82.70765788433967, 39.8073494146117], [-82.7076869345287, 39.806943993703484], [-82.70769735909097, 39.806796074657896], [-82.70768022795284, 39.80666341075495], [-82.70824973115307, 39.8003350808931], [-82.70829461931852, 39.79983623228037], [-82.70843959678263, 39.79822503706818], [-82.71050688501677, 39.77570406229567], [-82.71065353828845, 39.774105857473515], [-82.71177989124325, 39.76182861793857], [-82.71179120810659, 39.761705226299476], [-82.7118678797135, 39.7611707372935], [-82.71191789630262, 39.7606335790375], [-82.71199517511965, 39.75985533205883], [-82.71201929315761, 39.75946385876302], [-82.7120333193402, 39.759297961792235], [-82.7120444972604, 39.759054678436954], [-82.71281821006271, 39.75031570685545], [-82.71287058210643, 39.75005677112734], [-82.71285771998278, 39.74983299581554], [-82.71284058542918, 39.749370075277916], [-82.71390608467392, 39.73690918043753], [-82.71449620830876, 39.729459448312824], [-82.72142626063133, 39.72988033534182], [-82.7217720690491, 39.729909142959315], [-82.72998136617105, 39.73039201009251], [-82.733806026708, 39.73060198073385], [-82.73426988275354, 39.73060781033164], [-82.73598987139776, 39.73069219666666], [-82.7362480800426, 39.73070181181457], [-82.74338544415139, 39.73113398695023], [-82.76636373321631, 39.73258313505407], [-82.80088299299146, 39.73482100744297], [-82.80333544599648, 39.73496411884049], [-82.8296199663589, 39.73656535197704], [-82.82935394397204, 39.74022837380588], [-82.82868847418816, 39.74726094438974], [-82.8285381556922, 39.74905803057691], [-82.8284549346531, 39.7498205906284], [-82.82832453229055, 39.7510323390721], [-82.82828484514604, 39.75149443747844], [-82.82698050459409, 39.76573768545908], [-82.82691379259093, 39.76646454098209], [-82.82629637225149, 39.77301991409706], [-82.82560755354153, 39.78033186244985], [-82.82437725784845, 39.79485821367319], [-82.82437172062859, 39.79491807098456], [-82.84087316304276, 39.79583487595975], [-82.84180931577968, 39.79588681720345], [-82.85258116712909, 39.796483937041494], [-82.8576557894486, 39.796749338410436], [-82.8714347124135, 39.79746885264036], [-82.88091856836698, 39.797949004905924], [-82.89032068378523, 39.79842591650426], [-82.8997906268437, 39.798915568319316], [-82.90927125106268, 39.799382454615575], [-82.91885877425247, 39.799848191098945], [-82.92792659634053, 39.800282099905004], [-82.9373184789672, 39.80072507786663], [-82.94687791845415, 39.801191371176465], [-82.95335657400177, 39.80149551576276], [-82.9563910921444, 39.80163784838283], [-82.96565852846116, 39.80204334996534], [-82.9749260527041, 39.8024453726587], [-82.97506847754362, 39.8024530307531], [-82.97969703697709, 39.80266750900768], [-82.98090046510951, 39.80272296885391], [-82.98364202587875, 39.80285168646731], [-82.98859106511055, 39.80307821641019], [-82.99179550927681, 39.80322677305345], [-82.99229399580786, 39.80325213118239], [-82.99501420520667, 39.80337518268141], [-82.99734634863275, 39.803483347402064], [-83.00153708055602, 39.803674114564195], [-83.00582753780628, 39.80386979358241], [-83.01104377332086, 39.804107948828054], [-83.01295164605769, 39.80411333233383], [-83.0177587071921, 39.80430488225836], [-83.03001342451874, 39.80479230611328], [-83.04426221925911, 39.805297968204755], [-83.04738804307325, 39.80537673737612], [-83.04922990213058, 39.8054173404694], [-83.05293465898838, 39.80549892243566], [-83.060475121891, 39.80568544224412], [-83.06053200503692, 39.80567693391922], [-83.07470502768773, 39.80600629717202], [-83.0893044667622, 39.80665300662135], [-83.08935785747182, 39.806652737884164], [-83.09542902855158, 39.80690479161965], [-83.10115827787952, 39.80712808710545], [-83.10199495311736, 39.80714849638854], [-83.1203755442088, 39.80783222930933], [-83.1305118217135, 39.80806085536464], [-83.13750052330161, 39.808187733249056], [-83.14932409222138, 39.80840553216781], [-83.15258891497342, 39.8084724868241], [-83.17176099060856, 39.80881978977512], [-83.17178809708895, 39.80882102494598], [-83.19580083605756, 39.80965585970816], [-83.20101071942604, 39.809836335036564], [-83.21591227090023, 39.81080019764371], [-83.21708976363455, 39.810876278209264], [-83.24362338818271, 39.81255178728635], [-83.24488513270265, 39.828896319190285], [-83.24739048936515, 39.86127822639178], [-83.24895480059712, 39.88151227848703], [-83.24944231386726, 39.88773553746467], [-83.25174633360919, 39.9174908308075], [-83.25174922368419, 39.91752813926454], [-83.249384238061, 39.9187385644985], [-83.24663621571032, 39.92014520607425], [-83.24659013290858, 39.92017020695336], [-83.23082672727271, 39.92823628998168], [-83.23053589384762, 39.92838507083036], [-83.23038784860083, 39.92846080494642], [-83.23031946766055, 39.92882803527965], [-83.2300269270628, 39.929222155542114], [-83.22962051328037, 39.929536822269206], [-83.22931985866782, 39.929756313797576], [-83.22921355359225, 39.92983392051838], [-83.22826887619016, 39.9303034657246], [-83.22747894123619, 39.93090875809858], [-83.22712493002936, 39.93122391405516], [-83.22670491587337, 39.93160454000227], [-83.22615754417606, 39.932194318930925], [-83.22594941772911, 39.932531277507806], [-83.22591244762147, 39.93289203517817], [-83.22598743373713, 39.933238929311294], [-83.22600537359607, 39.93332191821874], [-83.22639866340239, 39.93410243247598], [-83.22668901257667, 39.93489374087141], [-83.22695191859962, 39.93558364392137], [-83.22745230404539, 39.93647467333132], [-83.22804179370024, 39.937210420507476], [-83.22852334515339, 39.93753950225293], [-83.22883961395705, 39.93807808012063], [-83.22889553944891, 39.93851395446878], [-83.22872523767515, 39.939040455129565], [-83.22846078137296, 39.93960103263415], [-83.22841102256237, 39.94012788280061], [-83.22879401087069, 39.94063392534154], [-83.22939500631387, 39.94087671426979], [-83.23040487116269, 39.9412693174951], [-83.23081577424524, 39.941511085854316], [-83.23107859981651, 39.94164451499388], [-83.23116794548885, 39.94176365135694], [-83.23118204710435, 39.94191757232954], [-83.23115668871398, 39.942321008716135], [-83.23117422157715, 39.94256385516811], [-83.23114437158704, 39.942845430453], [-83.23116529007507, 39.94324061632723], [-83.23123597028767, 39.94358552984494], [-83.23146716403593, 39.944135335468204], [-83.23153958714258, 39.9443745447979], [-83.23157510121524, 39.94463127985833], [-83.23169652146335, 39.94481527759101], [-83.23194120536323, 39.94501964587615], [-83.23211937680426, 39.94517364072305], [-83.23239806476123, 39.945456858666354], [-83.23307919436003, 39.94592012183448], [-83.23363853917222, 39.94633362937201], [-83.23433812100942, 39.94671880400885], [-83.23494557113763, 39.94695795466423], [-83.2352223932462, 39.947029243954155], [-83.23578411828704, 39.94726126519395], [-83.23599563112299, 39.94746363627233], [-83.23600429003613, 39.94750668271527], [-83.23614518904427, 39.94767600410311], [-83.23631563697289, 39.94810950871953], [-83.23631470210098, 39.948290700962986], [-83.23635728450222, 39.948606686618426], [-83.23653221338223, 39.949025063817814], [-83.2366261004896, 39.949301744335955], [-83.23684488653677, 39.94958368119003], [-83.23727768290927, 39.94993235378], [-83.23740951223368, 39.950019374054335], [-83.23745277430169, 39.95003352368067], [-83.23800905390871, 39.950215457791636], [-83.23817258263199, 39.9502643928581], [-83.23858483380067, 39.95052479348101], [-83.23875335648242, 39.950623325096714], [-83.23882638979295, 39.95066602537447], [-83.23910478881882, 39.9507831415715], [-83.23970434772045, 39.95097976686528], [-83.2401292737628, 39.95112313447605], [-83.24030730570921, 39.95120326980702], [-83.24040116514635, 39.951265269675986], [-83.24076998885201, 39.9515662921457], [-83.24099425587752, 39.95179135873263], [-83.2410808534133, 39.95188415013048], [-83.24126884443324, 39.95211905457082], [-83.24144678242419, 39.952247506165044], [-83.24164305445191, 39.95243317741521], [-83.24173937968479, 39.95252429912761], [-83.24183245283133, 39.952621991001585], [-83.24190363179542, 39.95277390203743], [-83.24190590549226, 39.95278112094851], [-83.24194055409161, 39.952891165587], [-83.24199311817351, 39.953036880568014], [-83.24212655179105, 39.95350684700764], [-83.24218449571313, 39.95385567592436], [-83.24232454319315, 39.9544436465659], [-83.24237677494683, 39.95475847058763], [-83.24240319672157, 39.95512808802563], [-83.24248288224314, 39.95557505927304], [-83.24244005093735, 39.95590668232947], [-83.24225904618868, 39.956327301057456], [-83.24222459270761, 39.956441446542925], [-83.24218216968085, 39.95647740303742], [-83.24210041277134, 39.956504549362315], [-83.24198230989872, 39.95653549393142], [-83.24194274513127, 39.95653848936362], [-83.24190354608234, 39.956542305682184], [-83.24187164806995, 39.95656172406187], [-83.24181416885452, 39.95665762242035], [-83.24174244199244, 39.95688922555366], [-83.24165704921609, 39.957077265852305], [-83.24162164775326, 39.95720294748656], [-83.24161254934593, 39.95725296873692], [-83.24157765794058, 39.95732621284793], [-83.24150513851885, 39.95745020699316], [-83.2413955306663, 39.95754204196405], [-83.24118389806203, 39.95770068091643], [-83.24108054399092, 39.95777682784664], [-83.24008511822849, 39.95927103393078], [-83.2399754515136, 39.95979332174631], [-83.24029223583301, 39.96022836669476], [-83.24071611832605, 39.96063244615187], [-83.2407534704746, 39.96066805335803], [-83.24081662830673, 39.96072825970909], [-83.24083138317468, 39.96073708497295], [-83.241128852407, 39.96091499703335], [-83.24268436610642, 39.96184529672274], [-83.24503012347365, 39.96308637487984], [-83.24576832680897, 39.963790781489195], [-83.24600013495181, 39.96454699476958], [-83.2456402422531, 39.96662327746136], [-83.2455194594335, 39.967363644511224], [-83.24557675233444, 39.968447100280244], [-83.24720781783336, 39.971418051500045], [-83.24770841546308, 39.97155102758921], [-83.2482330977659, 39.971402185550794], [-83.24870236470002, 39.970978348559], [-83.24871003900383, 39.970801675427616], [-83.24871951805251, 39.97058347457494], [-83.2485667420763, 39.970279178346935], [-83.24900107107375, 39.970024394456445], [-83.24922693586133, 39.97001908433536], [-83.24946585869968, 39.970013466121785], [-83.25012744145421, 39.970285684061054], [-83.25040618765875, 39.97062431101163], [-83.25058388477008, 39.97154828703851], [-83.25059406859442, 39.971601236877056], [-83.25056882317962, 39.9723030799592], [-83.25049562294468, 39.97234296223021], [-83.2500441919305, 39.97258891962093], [-83.24931356492041, 39.97355935931039], [-83.24948640666973, 39.97439966941484], [-83.24954478031772, 39.97448549744627], [-83.24957299595125, 39.97455422259866], [-83.24959078439142, 39.97464854458302], [-83.24959410744658, 39.974725114983784], [-83.24959925878984, 39.97477257503124], [-83.24959924064312, 39.97483708795517], [-83.24960231021973, 39.97489005174848], [-83.24959920977655, 39.974999605877784], [-83.24960039468685, 39.97504324721771], [-83.24962212359031, 39.975105974820984], [-83.24961394569405, 39.97514171498655], [-83.24964127534778, 39.97522746562513], [-83.24964727160534, 39.97525405637228], [-83.24965414660893, 39.975296014948505], [-83.24966031168196, 39.97533825186045], [-83.24966736306328, 39.97536346235275], [-83.24970870534047, 39.97542496674173], [-83.24972963313884, 39.97544652015566], [-83.2497678078193, 39.97551216169448], [-83.24979409019683, 39.97556689829456], [-83.24981221153948, 39.97559286216279], [-83.24983045435079, 39.97563008085516], [-83.24991997847133, 39.9756926490401], [-83.24993103500692, 39.975725246390645], [-83.24995713390723, 39.97576296426902], [-83.25002939010659, 39.975893049279506], [-83.2500575693758, 39.9759437819026], [-83.25012562971224, 39.97606743133504], [-83.25017036899588, 39.976179151017966], [-83.25018513494341, 39.97626340832355], [-83.25020953568524, 39.97640263640779], [-83.25022221821717, 39.97651977676204], [-83.2502202059931, 39.976597753818396], [-83.25025690586747, 39.97716510053352], [-83.25026303849172, 39.97725990393652], [-83.25026196879463, 39.97732607084564], [-83.25023647685235, 39.977443729946806], [-83.25021590876194, 39.977554768299264], [-83.25020040294048, 39.97761648725267], [-83.25019435502816, 39.97764055743146], [-83.25008536410009, 39.97772525821789], [-83.24998128798224, 39.977736355838516], [-83.24990189169088, 39.97775278508531], [-83.24981769756458, 39.97778763828412], [-83.24974692363631, 39.97780950368696], [-83.2495709960504, 39.97784192273603], [-83.24949919822458, 39.97786818616336], [-83.2493492140219, 39.977923773598114], [-83.24924421052584, 39.97798127042386], [-83.24918121837611, 39.97802998862698], [-83.24916047158872, 39.978058396487256], [-83.24910404764775, 39.97812052503309], [-83.249063247188, 39.978208632552736], [-83.24904281797214, 39.97829962997358], [-83.249028189436, 39.97833294070113], [-83.24894772619389, 39.97848224557787], [-83.24891017604718, 39.978573900718324], [-83.24890071024802, 39.97858960924287], [-83.24888923467523, 39.97861740938678], [-83.24888089716363, 39.97867154291708], [-83.24887260094447, 39.97882889760418], [-83.24886217561823, 39.97895414641257], [-83.24888113670377, 39.97912423007218], [-83.24900016146884, 39.97960580632053], [-83.24909388504182, 39.97985886732949], [-83.24911541669509, 39.9799032028455], [-83.24919101285776, 39.9801297504498], [-83.24934246416231, 39.980739047558956], [-83.24938620638993, 39.98128753844582], [-83.249401469623, 39.981412348481236], [-83.24938261885873, 39.98147160993998], [-83.24946902510328, 39.9815878858803], [-83.24955243998792, 39.981778146859114], [-83.24956739563325, 39.98187440872067], [-83.24955665168608, 39.981903851535044], [-83.24954905983842, 39.98196100020964], [-83.2495161072058, 39.982015840312656], [-83.24948835006316, 39.982056097930645], [-83.24947688605964, 39.98211821325625], [-83.24946834428022, 39.982153407137446], [-83.2494952626352, 39.98226688712739], [-83.24948660191473, 39.98235726084009], [-83.24946141990408, 39.98240463885022], [-83.24946047964833, 39.98248288357863], [-83.24952269959424, 39.982560725905444], [-83.24955091457689, 39.98272827874641], [-83.24955270890591, 39.982762307812926], [-83.24947236257302, 39.98298902754894], [-83.24939320534229, 39.98309440063394], [-83.24930567591568, 39.98315151109513], [-83.24911289172805, 39.98323065698045], [-83.24890829805165, 39.9834318635364], [-83.24874140488146, 39.983575404839904], [-83.2486331611353, 39.9836642169107], [-83.24842648911017, 39.983891741460106], [-83.24829490575432, 39.98409984423693], [-83.24827750131817, 39.98413548718916], [-83.24819015583763, 39.984314365049364], [-83.24800508322097, 39.98455959500873], [-83.2479870269667, 39.98457365230959], [-83.24777079843113, 39.9847419973004], [-83.24756288372197, 39.98495415473426], [-83.2475334224383, 39.984968892543215], [-83.24727177259507, 39.985195391508825], [-83.247237700943, 39.985230865692024], [-83.24719377687778, 39.98527659806473], [-83.24716049017974, 39.98530069367886], [-83.24694988874964, 39.985495571670725], [-83.24680008537882, 39.98566947336444], [-83.24667427466942, 39.98581769210161], [-83.24650505587364, 39.98602547365885], [-83.24649111461342, 39.986042592914224], [-83.24630715217343, 39.986226044706065], [-83.24622596662337, 39.9862762493985], [-83.24610911248905, 39.986394762596724], [-83.24609313619642, 39.98643576764803], [-83.24601052768303, 39.9865861815249], [-83.24598106788105, 39.98663440998402], [-83.24597503366743, 39.98665625872838], [-83.24596553122514, 39.986698706004], [-83.24595885866056, 39.98674147124103], [-83.24595503352204, 39.9867844435472], [-83.24595406630422, 39.98682750937294], [-83.24595595815495, 39.986870557029064], [-83.24596070553879, 39.98691347485614], [-83.24596829553475, 39.98695614945267], [-83.24597870823551, 39.986998471064105], [-83.24599191785052, 39.98704032727109], [-83.24600788693921, 39.987081611132105], [-83.2460265768704, 39.98712221391165], [-83.24604793615333, 39.98716202875715], [-83.24606592328999, 39.9871916992768], [-83.24616203828514, 39.98736842928692], [-83.24637113703356, 39.98760751952419], [-83.24644547958947, 39.98767418472847], [-83.24662077794808, 39.9878082544915], [-83.2466685581096, 39.98783536397635], [-83.24670805174267, 39.98785777066777], [-83.24682872199027, 39.987948592044596], [-83.24685043053213, 39.98800089667193], [-83.24686942612215, 39.98804666355077], [-83.24692339443463, 39.98814322939955], [-83.24701361501621, 39.98823599250917], [-83.2472174277766, 39.988404624674494], [-83.24728750949946, 39.98845002305268], [-83.2473459126964, 39.98850455638169], [-83.24743361367732, 39.9885621959511], [-83.24754800178755, 39.988678688463615], [-83.24758560303063, 39.98872374499921], [-83.24791615637444, 39.988995612061345], [-83.24794253529859, 39.9890259160183], [-83.24806358059278, 39.98909761901449], [-83.24827351297247, 39.989270601945734], [-83.24835502316301, 39.98934969347319], [-83.24859622591137, 39.98954306645229], [-83.24880406092268, 39.98971990491432], [-83.24896966414543, 39.989878492193114], [-83.24911017929173, 39.98997545317454], [-83.24947209397729, 39.99027511718441], [-83.25005386015637, 39.99067357564347], [-83.25031026685267, 39.99085284584163], [-83.25066521565094, 39.99103140145728], [-83.25080225321277, 39.99110033767537], [-83.25108647079989, 39.99148601341457], [-83.25270350574682, 39.99368019534052], [-83.25271880594573, 39.99370095647276], [-83.25425194124855, 39.9955471280559], [-83.25431140773007, 39.99561873370824], [-83.25517671432829, 39.99632110203615], [-83.25565288640165, 39.99670760166888], [-83.25577383950102, 39.998212295940874], [-83.2559039225478, 39.99852194194178], [-83.25664825087772, 39.99938353431474], [-83.25752140191794, 39.99996069606655], [-83.25842833588696, 40.00056017093402], [-83.25846893323055, 40.00057883318003], [-83.25949060885695, 40.001048481735346], [-83.25992913035384, 40.00125005891646], [-83.25995125618377, 40.001260229972324], [-83.259953657559, 40.00127794652735], [-83.26003124445599, 40.001850205076146], [-83.26018720604591, 40.00217367864472], [-83.26043373618923, 40.00212925653067], [-83.26065670131236, 40.00254069015186], [-83.26072695943718, 40.00308900027393], [-83.26064967525828, 40.00336594268444], [-83.2602296616212, 40.00394051269631], [-83.26012704681102, 40.00408088495617], [-83.25983531258055, 40.004333684352815], [-83.25960629434364, 40.0043807369938], [-83.25886724662021, 40.00476215902163], [-83.25835940432589, 40.00483956125549], [-83.2575917170135, 40.00449450530242], [-83.25691003118764, 40.00431003304813], [-83.2562018720934, 40.004218240782016], [-83.25594305733013, 40.00425494776957], [-83.25586933171996, 40.00426540448475], [-83.25586021027407, 40.00426837773678], [-83.25519739529872, 40.00448440384708], [-83.25430548136679, 40.00492635048759], [-83.25416246585576, 40.00505308441868], [-83.25289718019984, 40.00617429892331], [-83.2521591107681, 40.007112671593205], [-83.2516135587652, 40.00835362195912], [-83.25154974201891, 40.00849877977369], [-83.25211962084275, 40.00910318998776], [-83.25225711511192, 40.00950338196555], [-83.25242292354055, 40.01012508050695], [-83.25254699214968, 40.010590267136415], [-83.25277378945451, 40.012279301523456], [-83.2531377908856, 40.013911452850266], [-83.25304009028028, 40.01563495971656], [-83.2529383697629, 40.017054049107976], [-83.25232301029835, 40.01799273011336], [-83.25174537417753, 40.01966406523815], [-83.25165311479654, 40.01993100200846], [-83.25175425100342, 40.0204706453925], [-83.25217455323771, 40.02271319791343], [-83.25229915802123, 40.023118034180904], [-83.2522992745636, 40.023118410805544], [-83.25190531325643, 40.02352273561724], [-83.25176991077397, 40.02366169886779], [-83.25189271362139, 40.024566851009745], [-83.25238692263645, 40.02573729750728], [-83.25247772696396, 40.02677366326654], [-83.25249449831912, 40.02696507462119], [-83.2523908091598, 40.027200949116406], [-83.25223660840187, 40.02755172367884], [-83.25244601419237, 40.02812577049474], [-83.25267853533501, 40.028510488942054], [-83.2532684632975, 40.0287495742846], [-83.25389278026813, 40.028808484175194], [-83.25512669964891, 40.02874818775351], [-83.25560041632554, 40.02881932041044], [-83.255824012706, 40.02916253069033], [-83.25607737120444, 40.030100108297475], [-83.25621161069576, 40.031703797490486], [-83.25593545253162, 40.03287446922338], [-83.2554053314832, 40.03381178654446], [-83.25468181741105, 40.03502897977666], [-83.25455049990501, 40.035373949622766], [-83.2538979176912, 40.03708822722012], [-83.25361363957994, 40.03783497615529], [-83.25341130035744, 40.03836647366254], [-83.25294377628073, 40.039355048426806], [-83.25266239009855, 40.03995001940014], [-83.25258594444605, 40.04017778535998], [-83.25246275876313, 40.04054480261874], [-83.25245021955459, 40.04057766270969], [-83.25243786800678, 40.0406172430855], [-83.25242832192889, 40.04065727922373], [-83.25242161053065, 40.04069765475512], [-83.2524177524375, 40.040738249775586], [-83.25241675926435, 40.04077894622686], [-83.25241863439511, 40.040819623401546], [-83.2524233718693, 40.040860163353514], [-83.25243095751489, 40.040900447288635], [-83.2524413701196, 40.04094035555698], [-83.2524545779647, 40.04097977217826], [-83.25247054348247, 40.041018582110205], [-83.25248921973125, 40.0410566703703], [-83.25251055043454, 40.04109392563842], [-83.25253447464797, 40.04113023842531], [-83.25256092091058, 40.04116550201107], [-83.25258981312315, 40.04119961420854], [-83.25262106465009, 40.04123247379857], [-83.25265458539877, 40.041263984988156], [-83.25269027710327, 40.041294054738344], [-83.25272803452546, 40.04132259545891], [-83.25276774659723, 40.04134952229877], [-83.25280929765107, 40.0413747585422], [-83.25285256498842, 40.04139822751872], [-83.25289742250253, 40.04141986248663], [-83.25294373707536, 40.04143959855077], [-83.25299137450433, 40.04145737892881], [-83.25304019476721, 40.0414731504784], [-83.25307617786898, 40.041483284345304], [-83.25336358499949, 40.04157203128581], [-83.25345534193409, 40.04161530753012], [-83.25399080975363, 40.04186785603129], [-83.25456104016052, 40.042186123727156], [-83.25502008917378, 40.04270319945985], [-83.25504666330283, 40.04273313256169], [-83.25505250094726, 40.04275335765957], [-83.25526898790065, 40.0435033679077], [-83.25549217254053, 40.04431944062472], [-83.25552438348117, 40.04586777660531], [-83.2555207894129, 40.04606395374486], [-83.25550592228669, 40.04687550618224], [-83.25550197697511, 40.04709088804622], [-83.25536902555697, 40.04797019276813], [-83.25435828093592, 40.04904413128562], [-83.25386776987166, 40.049565294526715], [-83.25366363620523, 40.04955251395698], [-83.23991496714153, 40.048776518931376], [-83.23698054054312, 40.04861101113606], [-83.21208690136217, 40.0472039797952], [-83.21066944266333, 40.0644724161543], [-83.209787592634, 40.075211316735896], [-83.20669765419227, 40.107658451957406], [-83.20993486423869, 40.10771368632595], [-83.23349453969546, 40.10811129016868], [-83.23932366360916, 40.10825260458962], [-83.23945861168906, 40.10841554678484], [-83.24462539125123, 40.11462456516737], [-83.24257570302088, 40.11563473108264], [-83.24446864890662, 40.11794458344051], [-83.25080208281929, 40.11484309358861], [-83.249396334672, 40.11320675254792], [-83.25797634573819, 40.108972964310134], [-83.2584632077891, 40.10873405605709], [-83.25853834891873, 40.108698870447796], [-83.26271814215283, 40.10871021694593], [-83.26279033168616, 40.108812426380254], [-83.26294293121536, 40.108815008078246], [-83.26320214977972, 40.10919561320078], [-83.2634550721807, 40.10987313586132], [-83.26365991051156, 40.11006961655219], [-83.2637157297954, 40.11036409399402], [-83.26371477730942, 40.110390930508004], [-83.26371261152688, 40.110417725368805], [-83.26370923560799, 40.11044444613357], [-83.2637046527229, 40.1104710612599], [-83.2636988683775, 40.11049753828968], [-83.26369189159651, 40.11052384474183], [-83.26368372789588, 40.11054994905863], [-83.26367438983874, 40.11057582053724], [-83.26366388645987, 40.11060142759699], [-83.26365223148551, 40.110626738626856], [-83.2636394386618, 40.110651723816716], [-83.2636255240708, 40.11067635244077], [-83.26361050381458, 40.110700595574286], [-83.26359439634089, 40.11072442427718], [-83.26357722007783, 40.11074780780835], [-83.26355899703175, 40.1107707208071], [-83.26353974914956, 40.110793132509386], [-83.26351949962044, 40.110815018447425], [-83.26349827160428, 40.110836351451795], [-83.26340879808949, 40.11093109118438], [-83.26331546309842, 40.11102360887067], [-83.26321836061743, 40.11111381202847], [-83.2631175858172, 40.1112016090685], [-83.26301324329305, 40.11128691194288], [-83.26290543416306, 40.111369636228645], [-83.26281651102678, 40.111474878519914], [-83.26281361530182, 40.11171121677646], [-83.26284767375945, 40.11185814237067], [-83.26287560016718, 40.112005829129465], [-83.2628973681914, 40.112154125923894], [-83.26291295265084, 40.11230287981543], [-83.26292234013216, 40.112451941390624], [-83.26292551950829, 40.11260115581659], [-83.26290307169565, 40.11274326403176], [-83.26288665130002, 40.1128858572855], [-83.26287627428779, 40.1130287841732], [-83.26287195429951, 40.113171895105665], [-83.2628736932172, 40.11331503786722], [-83.26288149059687, 40.11345806205759], [-83.26289533893701, 40.113600815520236], [-83.26290250049402, 40.11363016700369], [-83.26291097239351, 40.11365931274907], [-83.26292074368419, 40.1136882168025], [-83.26293180228176, 40.11371684681983], [-83.26294413489902, 40.11374516776287], [-83.26295772827838, 40.11377314729504], [-83.26297256562378, 40.113800751301504], [-83.26298862898571, 40.113827947476], [-83.26300589925164, 40.1138547044205], [-83.26302435846198, 40.113880988928194], [-83.26304398165925, 40.113906771440156], [-83.26306474739457, 40.113932021474014], [-83.26308663070019, 40.11395670857031], [-83.2631096054551, 40.1139808040781], [-83.2631336455382, 40.11400427934661], [-83.2631587213194, 40.114027106648415], [-83.26318250316002, 40.114043847866974], [-83.26342549930612, 40.113907428170755], [-83.26401757455109, 40.11451144860454], [-83.26481433108313, 40.11501502911099], [-83.2649623174255, 40.11514655169392], [-83.26537090007935, 40.115777310187575], [-83.26569338067068, 40.11610997259424], [-83.2658280679899, 40.116314836814816], [-83.2658291485201, 40.116320585618006], [-83.26582996889925, 40.116326358631014], [-83.26583052907748, 40.11633215135098], [-83.26583082660939, 40.116337954787795], [-83.2658308637713, 40.11634376262219], [-83.26583063813752, 40.11634956766512], [-83.26583015081141, 40.11635536360504], [-83.26582940171335, 40.116361143237576], [-83.26582839428252, 40.11636689933536], [-83.26582712609344, 40.11637262470922], [-83.26582560177822, 40.11637831392528], [-83.26582382124737, 40.11638395887863], [-83.26582178676709, 40.11638955234954], [-83.26581950180665, 40.11639508981226], [-83.26581696861237, 40.11640056224605], [-83.26581418947048, 40.11640596423231], [-83.2658111690033, 40.11641128943655], [-83.26580791065011, 40.11641653063141], [-83.26580441787007, 40.116421682390744], [-83.26580069410254, 40.11642673748703], [-83.26579674516255, 40.11643169137949], [-83.26579257449953, 40.116436537741166], [-83.26578818789862, 40.1164412693295], [-83.265783591185, 40.11644588250401], [-83.26577878897088, 40.1164503700298], [-83.26577378707147, 40.116454727365756], [-83.2657685924649, 40.11645894906283], [-83.26576320978342, 40.116463029687054], [-83.26575764602508, 40.11646696559041], [-83.26575190934106, 40.116470751316065], [-83.26574600436362, 40.11647438143014], [-83.26573993927371, 40.11647785317745], [-83.26573372105955, 40.116481162009414], [-83.26572735787222, 40.11648430246925], [-83.26572085672979, 40.11648727270992], [-83.26571422579332, 40.11649006817525], [-83.26571667785858, 40.11657646816381], [-83.26565567956605, 40.116684381869035], [-83.26619287498511, 40.11652582892938], [-83.2672073558918, 40.118727616112906], [-83.26633610644848, 40.11917731713135], [-83.26634949292485, 40.119187947215956], [-83.26636239756678, 40.11919892357382], [-83.26637480381247, 40.11921023370438], [-83.26638669859958, 40.1192218632832], [-83.2663980653562, 40.11923379890906], [-83.26640889337587, 40.11924602714275], [-83.26641916841281, 40.11925853276681], [-83.26642887975052, 40.11927130144129], [-83.26643801432621, 40.11928431884166], [-83.26644656257629, 40.11929756881934], [-83.26645451377412, 40.11931103613389], [-83.26646185952907, 40.119324704629], [-83.26646859028743, 40.119338559056594], [-83.2664746976386, 40.119352581459296], [-83.26648017554795, 40.1193667565661], [-83.26648501679773, 40.11938106821298], [-83.26648921649651, 40.11939549841966], [-83.26649276977251, 40.11941003100683], [-83.26649567056113, 40.119424648001775], [-83.26647739727878, 40.11958714899288], [-83.26637100399773, 40.11978327689468], [-83.26642690197531, 40.11983243471667], [-83.26663622055185, 40.11988681563013], [-83.26678143540057, 40.120061160079715], [-83.26709377955122, 40.120115428512314], [-83.26732394058456, 40.12030915503936], [-83.26765226906772, 40.1204804174919], [-83.26779540297883, 40.12063133934956], [-83.26780900145953, 40.120662552342736], [-83.26782397542593, 40.120693392504194], [-83.26784030804815, 40.12072382301803], [-83.26785798016999, 40.120753808884864], [-83.26787697030903, 40.120783316921596], [-83.26789725812569, 40.12081231123588], [-83.26791881861827, 40.12084075866752], [-83.26794162796763, 40.12086862694924], [-83.26796565882562, 40.12089588293621], [-83.26799088386375, 40.12092249528469], [-83.26801727341726, 40.12094843356672], [-83.26804479782135, 40.12097366735438], [-83.26806987552425, 40.121014403193584], [-83.26809308692515, 40.12105578615101], [-83.26811440564555, 40.12109776506493], [-83.26813380530673, 40.12114028877364], [-83.26815126303897, 40.12118330519168], [-83.26816675598224, 40.12122676313418], [-83.26818026594864, 40.1212706095844], [-83.26819177825939, 40.121314790601964], [-83.26820127589937, 40.12135925316229], [-83.2697080043211, 40.12018266769877], [-83.27117933004124, 40.121344726669705], [-83.27221550489726, 40.12140374380211], [-83.27197452375663, 40.123808082822244], [-83.27203095253728, 40.123806694684674], [-83.27210435770576, 40.12380629200861], [-83.2721777013448, 40.12380394616466], [-83.27225089549584, 40.1237996604324], [-83.27232385338377, 40.12379343898438], [-83.27239648827339, 40.12378528959561], [-83.27246871343999, 40.123775220941866], [-83.27254044456504, 40.12376324708691], [-83.27261159380114, 40.1237493812174], [-83.27266227308863, 40.12373496893769], [-83.27271231178015, 40.12371929187918], [-83.27276165492873, 40.12370236751555], [-83.27281025110648, 40.12368421329713], [-83.27285804891616, 40.12366484937619], [-83.27290499460429, 40.12364429501988], [-83.2729510415165, 40.123622574852384], [-83.27299613708297, 40.12359970903382], [-83.2730402358428, 40.12357572398194], [-83.27308328880612, 40.12355064523706], [-83.27312525050259, 40.12352449831639], [-83.27316607551222, 40.123497313240044], [-83.27341475919629, 40.12345116236918], [-83.27344121736223, 40.123410835348245], [-83.27343915430676, 40.123408572163015], [-83.27343719155466, 40.12340625608239], [-83.27343533382837, 40.123403889777165], [-83.27343358234124, 40.12340147684184], [-83.2734319406326, 40.12339901905435], [-83.27343040755945, 40.123396519124086], [-83.27342898785432, 40.123393980622325], [-83.27342768154739, 40.123391406250775], [-83.27342649101496, 40.12338879869561], [-83.2734254174803, 40.12338616245191], [-83.27342446212661, 40.12338349841253], [-83.27342362501405, 40.123380811980645], [-83.27342290967195, 40.12337810403382], [-83.27342231381446, 40.12337537999061], [-83.27342184097083, 40.123372640728576], [-83.27342149002821, 40.12336989165865], [-83.27342126100669, 40.12336713458189], [-83.27342115511956, 40.12336437309289], [-83.27342117357003, 40.12336160988546], [-83.2734213140621, 40.12335884947789], [-83.27342157779896, 40.12335609456401], [-83.27342196363767, 40.123353347853254], [-83.27342247161843, 40.12335061294772], [-83.27342310177133, 40.12334789254918], [-83.27342385297345, 40.123345191168006], [-83.27342472289878, 40.12334251062074], [-83.27342571276057, 40.123339854501864], [-83.27342682024265, 40.12333722552845], [-83.27342804421218, 40.12333462731042], [-83.27342938235314, 40.12333206256481], [-83.27343083470564, 40.123329534893855], [-83.27343239895366, 40.12332704701457], [-83.27343407278114, 40.123324601644114], [-83.27343585504507, 40.12332220149179], [-83.27343774225638, 40.12331984928237], [-83.27343973327203, 40.123317547725215], [-83.27375796459395, 40.12307672739244], [-83.27406872308194, 40.12289896687782], [-83.27424681686756, 40.12285061123007], [-83.27480372238678, 40.122573994744116], [-83.27481348145038, 40.122568177314264], [-83.2748229748952, 40.12256210675962], [-83.2748321934169, 40.122555790346446], [-83.27484112420235, 40.12254923626478], [-83.27484975912047, 40.12254245177327], [-83.27485808653107, 40.12253544505412], [-83.27486609595695, 40.122528223381345], [-83.27487378046038, 40.122520795806956], [-83.27488112957424, 40.12251317050541], [-83.27488813519771, 40.12250535743705], [-83.27489478803693, 40.12249736476861], [-83.27490108233727, 40.12248920244489], [-83.27490700882487, 40.12248088043377], [-83.27491256055197, 40.12247240688671], [-83.2749177329472, 40.1224637926412], [-83.27492251908285, 40.12245504764972], [-83.27492691204138, 40.1224461827653], [-83.27493090841445, 40.122437207917216], [-83.27493450244756, 40.12242813305015], [-83.27493769074232, 40.122418968994], [-83.2749404687274, 40.122409726586234], [-83.27494283417761, 40.12240041664893], [-83.27494478253163, 40.122391050920236], [-83.2749463138903, 40.122381638405614], [-83.27494742487548, 40.12237219173592], [-83.27494811560805, 40.12236272171782], [-83.27494838386293, 40.12235323917334], [-83.27494822858793, 40.12234375491676], [-83.27517494090421, 40.12229866638566], [-83.27535726875242, 40.12210564769776], [-83.27582430822329, 40.12175485773005], [-83.2759221460168, 40.1215987110196], [-83.27600238543839, 40.12126062899055], [-83.2760923142686, 40.11980978257239], [-83.2761166976216, 40.11976189618321], [-83.27613892137717, 40.11971339361062], [-83.2761589603777, 40.11966433266123], [-83.27617678947611, 40.11961477204232], [-83.27619238704449, 40.11956477043768], [-83.27620573614728, 40.119514386500015], [-83.27621682102202, 40.1194636788743], [-83.27622562829289, 40.11941270979194], [-83.27623214571689, 40.11936153787436], [-83.27623636811946, 40.11931022439808], [-83.27623829031603, 40.11925882973887], [-83.27623790830512, 40.11920741516523], [-83.2762352239303, 40.11915604010565], [-83.27630622989946, 40.11915731675121], [-83.27630764729045, 40.119146968316265], [-83.27630952620171, 40.119136663666374], [-83.27631186323495, 40.11912641363138], [-83.2763146585413, 40.11911623171952], [-83.27631790638642, 40.119106129676624], [-83.27632160337211, 40.11909611833248], [-83.27632574613037, 40.119086211218594], [-83.27633032890695, 40.11907641827958], [-83.27633534715058, 40.11906675215415], [-83.27634079394413, 40.119057223695286], [-83.27634666237027, 40.11904784375602], [-83.27635294787805, 40.119038624974934], [-83.27635964001095, 40.11902957642719], [-83.27636673420795, 40.119020709850844], [-83.2763742188395, 40.11901203432874], [-83.27638208818169, 40.119003562507224], [-83.2763903305849, 40.1189953016682], [-83.27639893679603, 40.11898726358056], [-83.27640789752168, 40.11897945641118], [-83.27641720231561, 40.118971890135704], [-83.27642683953837, 40.11896457293656], [-83.27644384359951, 40.1189521005972], [-83.27646139708682, 40.11894008484232], [-83.27647948021038, 40.11892853931176], [-83.27649806850835, 40.118917479477204], [-83.27651714217072, 40.1189069171773], [-83.27653667787872, 40.1188968651744], [-83.27655665347626, 40.11888733532259], [-83.27657704445143, 40.11887833859106], [-83.27659782629222, 40.11886988594878], [-83.27661897447662, 40.11886198746437], [-83.27664046448271, 40.11885465320627], [-83.2766622705853, 40.118847890549254], [-83.27668436590639, 40.1188417086768], [-83.27670672705669, 40.118836114047596], [-83.27672932478214, 40.118831113158976], [-83.2767521333475, 40.1188267124852], [-83.27677512583452, 40.11882291760765], [-83.27679827530487, 40.11881973230667], [-83.27682155247413, 40.118817160378065], [-83.2768449327399, 40.11881520468614], [-83.27690712347179, 40.11883248011938], [-83.27696850199513, 40.11885139010205], [-83.27702899532446, 40.118871911701696], [-83.27708853279967, 40.11889402016935], [-83.27714704376042, 40.11891769075624], [-83.27720445748552, 40.118942893310184], [-83.27726070679272, 40.118969599457294], [-83.27731572328577, 40.11899777722903], [-83.2773694444133, 40.11902739281713], [-83.27742180526718, 40.11905841152855], [-83.27757950852447, 40.119193088116894], [-83.27760156026311, 40.119624353826055], [-83.27766909871212, 40.119806243288494], [-83.27771097390436, 40.11983863170164], [-83.27775427011487, 40.11986989934031], [-83.27779893766196, 40.11990000960643], [-83.27784492335462, 40.1199289268256], [-83.27789217283866, 40.119956616231875], [-83.2779406306168, 40.11998304576875], [-83.2779902400386, 40.120008185188546], [-83.27804094328032, 40.12003200425151], [-83.27809268020218, 40.120054475435104], [-83.27814539066408, 40.120075571216844], [-83.27819901104702, 40.12009526769973], [-83.27825348008788, 40.12011354187209], [-83.27830873184136, 40.12013037165379], [-83.2785852155795, 40.12014665634207], [-83.27899161845882, 40.120010618627234], [-83.27909887287328, 40.119937177877816], [-83.27920296169478, 40.11986110118471], [-83.27930377790395, 40.11978246942022], [-83.27940121214712, 40.119701364372844], [-83.27949516333423, 40.11961787227941], [-83.27958553274308, 40.119532081162376], [-83.28030490612188, 40.11848730703865], [-83.28045454084881, 40.11812934895574], [-83.28046242562759, 40.11809509928471], [-83.2804688020668, 40.118060664190054], [-83.28047366241374, 40.118026084251284], [-83.28047700123143, 40.117991397330606], [-83.28047881429632, 40.11795664488458], [-83.28047909969047, 40.11792186475198], [-83.2804778578622, 40.11788709655702], [-83.28047508926994, 40.11785238082435], [-83.28047079787085, 40.11781775625421], [-83.28046498763209, 40.11778326244727], [-83.28045766603992, 40.11774893898079], [-83.2804488417433, 40.117714824523716], [-83.28043852339117, 40.117680957744795], [-83.28042672315138, 40.117647377289465], [-83.28040158593458, 40.11758959389524], [-83.28037385945962, 40.11753251214773], [-83.28034357736628, 40.11747620207015], [-83.28031077558936, 40.11742072916726], [-83.28027549361231, 40.117366161621824], [-83.2802377732137, 40.117312563098494], [-83.28019765972093, 40.117259999939854], [-83.2801552019191, 40.11720853306192], [-83.28011044977575, 40.11715822427332], [-83.28006345795004, 40.11710913535149], [-83.28005788155288, 40.11709707344865], [-83.28005285842902, 40.117084870080625], [-83.28004839343214, 40.11707253962519], [-83.28004449141604, 40.117060096460094], [-83.2800411595905, 40.117047555848025], [-83.2800383993106, 40.11703493399122], [-83.28003621426718, 40.117022246175644], [-83.28003460932406, 40.11700950767959], [-83.28003358347013, 40.116996732919766], [-83.28003314041638, 40.11698393898313], [-83.28003327916174, 40.11697114118695], [-83.28003399987817, 40.11695835484053], [-83.28003530273746, 40.11694559525327], [-83.2800371855758, 40.116932878650566], [-83.28003964503593, 40.11692021946452], [-83.28004267896412, 40.116907634821196], [-83.28004628400315, 40.11689513915264], [-83.28005045446007, 40.11688274780714], [-83.28005518698795, 40.11687047611723], [-83.28006047471061, 40.116858338538414], [-83.28006631075205, 40.11684634952611], [-83.28007268942957, 40.11683452532907], [-83.28007960267375, 40.11682287860934], [-83.28019746398998, 40.11665917219095], [-83.28030555501894, 40.11644465637749], [-83.28065193261553, 40.11617039136492], [-83.2806722048825, 40.11615972044396], [-83.28069294068399, 40.11614958681258], [-83.28071411316375, 40.11614000145625], [-83.28073569899442, 40.11613097623772], [-83.28075767364567, 40.11612252032582], [-83.28078001026113, 40.11611464470602], [-83.2808026843104, 40.11610735854731], [-83.28082566772387, 40.116100669240794], [-83.28084893597116, 40.11609458595538], [-83.28087245979967, 40.116089115189496], [-83.28089621229246, 40.116084262525426], [-83.280920167716, 40.11608003443831], [-83.28094429680745, 40.11607643652612], [-83.28096857026361, 40.11607347078456], [-83.28099296234068, 40.116071142788286], [-83.28101744373556, 40.11606945453309], [-83.28104198514498, 40.11606840801483], [-83.28106655960156, 40.1160680043132], [-83.28124925363066, 40.11598525044242], [-83.28163550618031, 40.11591190839348], [-83.28221232973247, 40.111858170296955], [-83.28329487228501, 40.11199057293285], [-83.2843823059426, 40.1120967555825], [-83.28547355501512, 40.11217661271381], [-83.28552898510337, 40.111987262633505], [-83.28561311096732, 40.11137549118927], [-83.28570851105543, 40.11137980982123], [-83.28573934754397, 40.1111234988951], [-83.28491916068464, 40.111065065631344], [-83.28496441580522, 40.11068586446546], [-83.2857815911017, 40.11074909170742], [-83.28591016070051, 40.10953138589302], [-83.28597915422074, 40.10929105873414], [-83.28602441868155, 40.10920326170741], [-83.28606759557843, 40.10914260982286], [-83.2860697329373, 40.109142633358864], [-83.2922073170239, 40.10920899021096], [-83.29192596042246, 40.1106150297789], [-83.29169040283523, 40.11138955052768], [-83.29127830266621, 40.11227981317394], [-83.29118530224092, 40.11248071984989], [-83.28887312624269, 40.114822087041645], [-83.28837732274762, 40.11533759176095], [-83.28884087182082, 40.11563251652835], [-83.28913122149879, 40.115851491886524], [-83.28961110806351, 40.11628987429481], [-83.29043436737234, 40.117206224342084], [-83.29115829114524, 40.11821714790013], [-83.29167521933843, 40.11876586834358], [-83.29193782851324, 40.11908961217679], [-83.29202078840332, 40.11943131164084], [-83.29202397861447, 40.119707416858276], [-83.29193227378826, 40.119846085676], [-83.29171761658982, 40.119957882895704], [-83.29141883508444, 40.12046249094416], [-83.2912039780683, 40.120933290778815], [-83.29111411504554, 40.12126492530697], [-83.29085510977023, 40.122492481750264], [-83.290857852877, 40.122729886544356], [-83.29087483557929, 40.122961703591805], [-83.29097393884159, 40.12343008796045], [-83.29106931105211, 40.123606202284726], [-83.29134372896303, 40.12368174052748], [-83.29132384187984, 40.12384740220436], [-83.29135548634804, 40.12407909341289], [-83.29168557211499, 40.12510276151141], [-83.29193997019637, 40.12533177196757], [-83.29093319719712, 40.12578316868614], [-83.29147082731821, 40.134427322195585], [-83.2882394007101, 40.13602310216911], [-83.28920753046185, 40.136821116469115], [-83.29013493048198, 40.13758553333328], [-83.29153625218775, 40.138740536749594], [-83.28521799284252, 40.141948259309046], [-83.29139992580537, 40.14942863612884], [-83.28683427570812, 40.15168315282812], [-83.29489111182703, 40.16147778453901], [-83.29385347838023, 40.16199866454002], [-83.31031402281322, 40.18057717538491], [-83.30731811209611, 40.182026761811485], [-83.30202287066021, 40.184577307517735], [-83.29988840646801, 40.18560118740243], [-83.2995921318056, 40.18567463098522], [-83.28366811133874, 40.18711801149256], [-83.26464819207901, 40.18864520813175], [-83.26231118784993, 40.18881628211339], [-83.2611409673796, 40.18891439807525], [-83.25703434239672, 40.18921025155341], [-83.25550162978196, 40.1893182429888], [-83.24879351026708, 40.189928312152425], [-83.24363209136794, 40.18380544823475], [-83.24039793803138, 40.18548054567257], [-83.2387538797339, 40.18365142292699], [-83.22754060743071, 40.16929822391524], [-83.21884415632114, 40.17388667341614], [-83.21886345946314, 40.17399980673689], [-83.2206084668187, 40.19016280861291], [-83.2062043783818, 40.19202722472998], [-83.20096993317293, 40.192715929771744], [-83.20145145497337, 40.19551113497949], [-83.20137384119761, 40.19550922884901], [-83.197407472281, 40.195831443158355], [-83.18219191800506, 40.197210508903446], [-83.17143882938032, 40.19808305081405], [-83.17147183309184, 40.20017125538426], [-83.17147183471148, 40.20017130130452], [-83.17172909656311, 40.21644467588906], [-83.17180879642626, 40.22237469266293], [-83.17250327374379, 40.24429109202378], [-83.17743429194242, 40.2442565554607], [-83.19268317021204, 40.244327338960346], [-83.20587380708105, 40.24433185935627], [-83.22826537593288, 40.24439153768908], [-83.23553506764092, 40.24436284104016], [-83.23919363070992, 40.24439799910039], [-83.24728317660207, 40.24440499472143], [-83.24864922122919, 40.24440612032138], [-83.24879452991033, 40.25042122598917], [-83.24892002794645, 40.2641835619726], [-83.24935113804027, 40.28226747039267], [-83.249544315902, 40.31572142221068], [-83.24964808607416, 40.32519778635633], [-83.24958297503542, 40.32787461021487], [-83.24953182970206, 40.32827118054173], [-83.24956213991915, 40.33410842455273], [-83.24957625671547, 40.33933187626858], [-83.24972548904782, 40.34927482355786], [-83.24975283019351, 40.35292845483333], [-83.24954868287651, 40.36277263031954], [-83.249555514419, 40.3668778591927], [-83.24958410276372, 40.37499822573132], [-83.24944603384266, 40.381731727484265], [-83.24947737999757, 40.40264433100461], [-83.24937019178591, 40.40954914817835], [-83.2491612612146, 40.4187282844656], [-83.24915094923087, 40.41916451336509], [-83.24869404065622, 40.438332560354006], [-83.24866120463602, 40.43962343333951], [-83.24842939584147, 40.44391201957677], [-83.22814464551548, 40.44276327415769], [-83.20707485942937, 40.441526989467164], [-83.1941233818995, 40.44069014313918], [-83.19187565177333, 40.440503015648396], [-83.19138148219069, 40.44046185585554], [-83.18355540503715, 40.43995276271086], [-83.1603807711132, 40.438870504470586], [-83.1414217193033, 40.438144905947325], [-83.13706406596783, 40.4380895939687], [-83.11368870441112, 40.436990156650715], [-83.09211540578112, 40.436372082351205], [-83.07491218728524, 40.43566057868225], [-83.07245635696417, 40.435565980001996], [-83.07169347678001, 40.43553360879934], [-83.05634546788536, 40.43504500071009], [-83.05573658295289, 40.43503416932177], [-83.05365181904267, 40.43495790957629], [-83.05190184646396, 40.43488372849524], [-83.0500845113309, 40.43480774958587], [-83.03943708203889, 40.434423120184775], [-83.02096388884563, 40.43379576743002], [-83.02220094994385, 40.41874556195889], [-83.00985966584624, 40.418183478608256], [-83.00269092527, 40.41779464969209], [-83.00049816916878, 40.41767561825448], [-82.97796726345803, 40.416586423645775]], [[-82.67180170964525, 40.01324469164653], [-82.66972197647557, 40.01315480496195], [-82.66952680456959, 40.01558617333022], [-82.67045252365655, 40.01565833939522], [-82.67042938547107, 40.01593507750766], [-82.67069592735632, 40.01632316479976], [-82.67155487435639, 40.0163548632877], [-82.6716564495234, 40.015055411139414], [-82.67180170964525, 40.01324469164653]]], &quot;type&quot;: &quot;Polygon&quot;}, &quot;id&quot;: &quot;0&quot;, &quot;properties&quot;: {&quot;ACRES&quot;: 755258.798318588, &quot;NAME&quot;: &quot;MORPC MPO&quot;, &quot;OBJECTID&quot;: 1, &quot;SQMILES&quot;: 1180.09187237279, &quot;Shape__Are&quot;: 32921741008.4999, &quot;Shape__Len&quot;: 1099152.69724298, &quot;Source&quot;: &quot;MORPC&quot;, &quot;fid&quot;: 0}, &quot;type&quot;: &quot;Feature&quot;}], &quot;type&quot;: &quot;FeatureCollection&quot;});\n",
       "\n",
       "        \n",
       "    \n",
       "    geo_json_1425af123e7cb2d56ccb3d16a03624ae.bindTooltip(\n",
       "    function(layer){\n",
       "    let div = L.DomUtil.create(&#x27;div&#x27;);\n",
       "    \n",
       "    let handleObject = feature=&gt;typeof(feature)==&#x27;object&#x27; ? JSON.stringify(feature) : feature;\n",
       "    let fields = [&quot;fid&quot;, &quot;OBJECTID&quot;, &quot;ACRES&quot;, &quot;SQMILES&quot;, &quot;NAME&quot;, &quot;Source&quot;, &quot;Shape__Are&quot;, &quot;Shape__Len&quot;];\n",
       "    let aliases = [&quot;fid&quot;, &quot;OBJECTID&quot;, &quot;ACRES&quot;, &quot;SQMILES&quot;, &quot;NAME&quot;, &quot;Source&quot;, &quot;Shape__Are&quot;, &quot;Shape__Len&quot;];\n",
       "    let table = &#x27;&lt;table&gt;&#x27; +\n",
       "        String(\n",
       "        fields.map(\n",
       "        (v,i)=&gt;\n",
       "        `&lt;tr&gt;\n",
       "            &lt;th&gt;${aliases[i]}&lt;/th&gt;\n",
       "            \n",
       "            &lt;td&gt;${handleObject(layer.feature.properties[v])}&lt;/td&gt;\n",
       "        &lt;/tr&gt;`).join(&#x27;&#x27;))\n",
       "    +&#x27;&lt;/table&gt;&#x27;;\n",
       "    div.innerHTML=table;\n",
       "    \n",
       "    return div\n",
       "    }\n",
       "    ,{\n",
       "  &quot;sticky&quot;: true,\n",
       "  &quot;className&quot;: &quot;foliumtooltip&quot;,\n",
       "});\n",
       "                     \n",
       "    \n",
       "            geo_json_1425af123e7cb2d56ccb3d16a03624ae.addTo(map_4b791ca93e349113df753331884b7965);\n",
       "        \n",
       "&lt;/script&gt;\n",
       "&lt;/html&gt;\" style=\"position:absolute;width:100%;height:100%;left:0;top:0;border:none !important;\" allowfullscreen webkitallowfullscreen mozallowfullscreen></iframe></div></div>"
      ],
      "text/plain": [
       "<folium.folium.Map at 0x2bc95f6b3d0>"
      ]
     },
     "execution_count": 58,
     "metadata": {},
     "output_type": "execute_result"
    }
   ],
   "source": [
    "gdf.drop(columns=\"Updated\").explore() ## avoid datetime column JSON error"
   ]
  },
  {
   "cell_type": "markdown",
   "id": "2d851750-8263-4d4a-b2ec-5927e33ad498",
   "metadata": {},
   "source": [
    "Now let's read the archival copy and make sure it looks the same.  We'll use the `load_spatial_data()` function again, but this time we won't make an archival copy."
   ]
  },
  {
   "cell_type": "code",
   "execution_count": 59,
   "id": "74c619ee-56ae-4c6c-8367-151c5f13bfda",
   "metadata": {
    "tags": []
   },
   "outputs": [
    {
     "name": "stdout",
     "output_type": "stream",
     "text": [
      "morpc.load_spatial_data | INFO | Loading spatial data from location: ./temp_data/MORPC MPO Boundary.gpkg\n",
      "morpc.load_spatial_data | INFO | Driver name is unspecified.  Will attempt to infer driver from file extension in source path.\n",
      "morpc.load_spatial_data | INFO | Selecting driver GPKG based on file extension .gpkg\n",
      "morpc.load_spatial_data | INFO | Reading spatial data...\n"
     ]
    },
    {
     "name": "stderr",
     "output_type": "stream",
     "text": [
      "C:\\Users\\jinskeep\\AppData\\Local\\miniconda3\\envs\\morpc_env\\Lib\\site-packages\\pyogrio\\raw.py:137: RuntimeWarning: driver GPKG does not support open option DRIVER\n",
      "  result = ogr_read(\n"
     ]
    }
   ],
   "source": [
    "gdfArchive = morpc.load_spatial_data(\"./temp_data/MORPC MPO Boundary.gpkg\", layerName=\"MORPC MPO Boundary\")"
   ]
  },
  {
   "cell_type": "code",
   "execution_count": 62,
   "id": "26be62ad-6b3d-4b89-abb9-dfb07eefc3ed",
   "metadata": {
    "tags": []
   },
   "outputs": [
    {
     "data": {
      "text/html": [
       "<div style=\"width:100%;\"><div style=\"position:relative;width:100%;height:0;padding-bottom:60%;\"><span style=\"color:#565656\">Make this Notebook Trusted to load map: File -> Trust Notebook</span><iframe srcdoc=\"&lt;!DOCTYPE html&gt;\n",
       "&lt;html&gt;\n",
       "&lt;head&gt;\n",
       "    \n",
       "    &lt;meta http-equiv=&quot;content-type&quot; content=&quot;text/html; charset=UTF-8&quot; /&gt;\n",
       "    \n",
       "        &lt;script&gt;\n",
       "            L_NO_TOUCH = false;\n",
       "            L_DISABLE_3D = false;\n",
       "        &lt;/script&gt;\n",
       "    \n",
       "    &lt;style&gt;html, body {width: 100%;height: 100%;margin: 0;padding: 0;}&lt;/style&gt;\n",
       "    &lt;style&gt;#map {position:absolute;top:0;bottom:0;right:0;left:0;}&lt;/style&gt;\n",
       "    &lt;script src=&quot;https://cdn.jsdelivr.net/npm/leaflet@1.9.3/dist/leaflet.js&quot;&gt;&lt;/script&gt;\n",
       "    &lt;script src=&quot;https://code.jquery.com/jquery-3.7.1.min.js&quot;&gt;&lt;/script&gt;\n",
       "    &lt;script src=&quot;https://cdn.jsdelivr.net/npm/bootstrap@5.2.2/dist/js/bootstrap.bundle.min.js&quot;&gt;&lt;/script&gt;\n",
       "    &lt;script src=&quot;https://cdnjs.cloudflare.com/ajax/libs/Leaflet.awesome-markers/2.0.2/leaflet.awesome-markers.js&quot;&gt;&lt;/script&gt;\n",
       "    &lt;link rel=&quot;stylesheet&quot; href=&quot;https://cdn.jsdelivr.net/npm/leaflet@1.9.3/dist/leaflet.css&quot;/&gt;\n",
       "    &lt;link rel=&quot;stylesheet&quot; href=&quot;https://cdn.jsdelivr.net/npm/bootstrap@5.2.2/dist/css/bootstrap.min.css&quot;/&gt;\n",
       "    &lt;link rel=&quot;stylesheet&quot; href=&quot;https://netdna.bootstrapcdn.com/bootstrap/3.0.0/css/bootstrap-glyphicons.css&quot;/&gt;\n",
       "    &lt;link rel=&quot;stylesheet&quot; href=&quot;https://cdn.jsdelivr.net/npm/@fortawesome/fontawesome-free@6.2.0/css/all.min.css&quot;/&gt;\n",
       "    &lt;link rel=&quot;stylesheet&quot; href=&quot;https://cdnjs.cloudflare.com/ajax/libs/Leaflet.awesome-markers/2.0.2/leaflet.awesome-markers.css&quot;/&gt;\n",
       "    &lt;link rel=&quot;stylesheet&quot; href=&quot;https://cdn.jsdelivr.net/gh/python-visualization/folium/folium/templates/leaflet.awesome.rotate.min.css&quot;/&gt;\n",
       "    \n",
       "            &lt;meta name=&quot;viewport&quot; content=&quot;width=device-width,\n",
       "                initial-scale=1.0, maximum-scale=1.0, user-scalable=no&quot; /&gt;\n",
       "            &lt;style&gt;\n",
       "                #map_1b9f34b26b5586bda8581c05a23f846b {\n",
       "                    position: relative;\n",
       "                    width: 100.0%;\n",
       "                    height: 100.0%;\n",
       "                    left: 0.0%;\n",
       "                    top: 0.0%;\n",
       "                }\n",
       "                .leaflet-container { font-size: 1rem; }\n",
       "            &lt;/style&gt;\n",
       "        \n",
       "    \n",
       "                    &lt;style&gt;\n",
       "                        .foliumtooltip {\n",
       "                            \n",
       "                        }\n",
       "                       .foliumtooltip table{\n",
       "                            margin: auto;\n",
       "                        }\n",
       "                        .foliumtooltip tr{\n",
       "                            text-align: left;\n",
       "                        }\n",
       "                        .foliumtooltip th{\n",
       "                            padding: 2px; padding-right: 8px;\n",
       "                        }\n",
       "                    &lt;/style&gt;\n",
       "            \n",
       "&lt;/head&gt;\n",
       "&lt;body&gt;\n",
       "    \n",
       "    \n",
       "            &lt;div class=&quot;folium-map&quot; id=&quot;map_1b9f34b26b5586bda8581c05a23f846b&quot; &gt;&lt;/div&gt;\n",
       "        \n",
       "&lt;/body&gt;\n",
       "&lt;script&gt;\n",
       "    \n",
       "    \n",
       "            var map_1b9f34b26b5586bda8581c05a23f846b = L.map(\n",
       "                &quot;map_1b9f34b26b5586bda8581c05a23f846b&quot;,\n",
       "                {\n",
       "                    center: [40.0866857339448, -82.95918810510679],\n",
       "                    crs: L.CRS.EPSG3857,\n",
       "                    ...{\n",
       "  &quot;zoom&quot;: 10,\n",
       "  &quot;zoomControl&quot;: true,\n",
       "  &quot;preferCanvas&quot;: false,\n",
       "}\n",
       "\n",
       "                }\n",
       "            );\n",
       "            L.control.scale().addTo(map_1b9f34b26b5586bda8581c05a23f846b);\n",
       "\n",
       "            \n",
       "\n",
       "        \n",
       "    \n",
       "            var tile_layer_86c1475b988a24c226f0b81fef53285c = L.tileLayer(\n",
       "                &quot;https://tile.openstreetmap.org/{z}/{x}/{y}.png&quot;,\n",
       "                {\n",
       "  &quot;minZoom&quot;: 0,\n",
       "  &quot;maxZoom&quot;: 19,\n",
       "  &quot;maxNativeZoom&quot;: 19,\n",
       "  &quot;noWrap&quot;: false,\n",
       "  &quot;attribution&quot;: &quot;\\u0026copy; \\u003ca href=\\&quot;https://www.openstreetmap.org/copyright\\&quot;\\u003eOpenStreetMap\\u003c/a\\u003e contributors&quot;,\n",
       "  &quot;subdomains&quot;: &quot;abc&quot;,\n",
       "  &quot;detectRetina&quot;: false,\n",
       "  &quot;tms&quot;: false,\n",
       "  &quot;opacity&quot;: 1,\n",
       "}\n",
       "\n",
       "            );\n",
       "        \n",
       "    \n",
       "            tile_layer_86c1475b988a24c226f0b81fef53285c.addTo(map_1b9f34b26b5586bda8581c05a23f846b);\n",
       "        \n",
       "    \n",
       "            map_1b9f34b26b5586bda8581c05a23f846b.fitBounds(\n",
       "                [[39.729459448312824, -83.31031402281322], [40.44391201957677, -82.60806218740035]],\n",
       "                {}\n",
       "            );\n",
       "        \n",
       "    \n",
       "        function geo_json_60a254c5519acd971fab982db0a7fbf5_styler(feature) {\n",
       "            switch(feature.id) {\n",
       "                default:\n",
       "                    return {&quot;fillOpacity&quot;: 0.5, &quot;weight&quot;: 2};\n",
       "            }\n",
       "        }\n",
       "        function geo_json_60a254c5519acd971fab982db0a7fbf5_highlighter(feature) {\n",
       "            switch(feature.id) {\n",
       "                default:\n",
       "                    return {&quot;fillOpacity&quot;: 0.75};\n",
       "            }\n",
       "        }\n",
       "        function geo_json_60a254c5519acd971fab982db0a7fbf5_pointToLayer(feature, latlng) {\n",
       "            var opts = {&quot;bubblingMouseEvents&quot;: true, &quot;color&quot;: &quot;#3388ff&quot;, &quot;dashArray&quot;: null, &quot;dashOffset&quot;: null, &quot;fill&quot;: true, &quot;fillColor&quot;: &quot;#3388ff&quot;, &quot;fillOpacity&quot;: 0.2, &quot;fillRule&quot;: &quot;evenodd&quot;, &quot;lineCap&quot;: &quot;round&quot;, &quot;lineJoin&quot;: &quot;round&quot;, &quot;opacity&quot;: 1.0, &quot;radius&quot;: 2, &quot;stroke&quot;: true, &quot;weight&quot;: 3};\n",
       "            \n",
       "            let style = geo_json_60a254c5519acd971fab982db0a7fbf5_styler(feature)\n",
       "            Object.assign(opts, style)\n",
       "            \n",
       "            return new L.CircleMarker(latlng, opts)\n",
       "        }\n",
       "\n",
       "        function geo_json_60a254c5519acd971fab982db0a7fbf5_onEachFeature(feature, layer) {\n",
       "            layer.on({\n",
       "                mouseout: function(e) {\n",
       "                    if(typeof e.target.setStyle === &quot;function&quot;){\n",
       "                            geo_json_60a254c5519acd971fab982db0a7fbf5.resetStyle(e.target);\n",
       "                    }\n",
       "                },\n",
       "                mouseover: function(e) {\n",
       "                    if(typeof e.target.setStyle === &quot;function&quot;){\n",
       "                        const highlightStyle = geo_json_60a254c5519acd971fab982db0a7fbf5_highlighter(e.target.feature)\n",
       "                        e.target.setStyle(highlightStyle);\n",
       "                    }\n",
       "                },\n",
       "            });\n",
       "        };\n",
       "        var geo_json_60a254c5519acd971fab982db0a7fbf5 = L.geoJson(null, {\n",
       "                onEachFeature: geo_json_60a254c5519acd971fab982db0a7fbf5_onEachFeature,\n",
       "            \n",
       "                style: geo_json_60a254c5519acd971fab982db0a7fbf5_styler,\n",
       "                pointToLayer: geo_json_60a254c5519acd971fab982db0a7fbf5_pointToLayer,\n",
       "            ...{\n",
       "}\n",
       "        });\n",
       "\n",
       "        function geo_json_60a254c5519acd971fab982db0a7fbf5_add (data) {\n",
       "            geo_json_60a254c5519acd971fab982db0a7fbf5\n",
       "                .addData(data);\n",
       "        }\n",
       "            geo_json_60a254c5519acd971fab982db0a7fbf5_add({&quot;bbox&quot;: [-83.31031402281322, 39.729459448312824, -82.60806218740035, 40.44391201957677], &quot;features&quot;: [{&quot;bbox&quot;: [-83.31031402281322, 39.729459448312824, -82.60806218740035, 40.44391201957677], &quot;geometry&quot;: {&quot;coordinates&quot;: [[[-82.97796726345803, 40.416586423645775], [-82.97334618998117, 40.41638839535266], [-82.9732579375979, 40.41709755735044], [-82.96355017977233, 40.416643358959256], [-82.95370780188105, 40.416246106685726], [-82.94002852798639, 40.415528061924775], [-82.92498467816544, 40.41481233850134], [-82.92540784864372, 40.40777399993317], [-82.92669680934301, 40.393955706274866], [-82.92845893298066, 40.37213745792859], [-82.92926477162564, 40.36252587346037], [-82.92952193257008, 40.359206096342945], [-82.92963784907721, 40.357957342727644], [-82.9229552022044, 40.35780129065639], [-82.88271477263704, 40.355861649635074], [-82.87500011851142, 40.35551565697432], [-82.85661592157082, 40.35465785016611], [-82.84021284794882, 40.35389005049585], [-82.83134258689135, 40.353557761134034], [-82.81879146532192, 40.35293626231907], [-82.80906333357821, 40.35243855662872], [-82.79276076055271, 40.35175587704426], [-82.7791254457493, 40.3510934022481], [-82.77592007557874, 40.350967191110534], [-82.77466940873083, 40.3508971809152], [-82.75687813499528, 40.35014281947937], [-82.74491928996682, 40.34959737616741], [-82.74567970428669, 40.34086464797255], [-82.74718132576501, 40.3225507024512], [-82.7484203687673, 40.3076749620514], [-82.74842630804234, 40.30740184435611], [-82.74844806787415, 40.30712216093959], [-82.7495285881693, 40.29322553086696], [-82.74998447370243, 40.288107962034], [-82.75017220085766, 40.284117553141726], [-82.75024803664445, 40.28406768493229], [-82.75042299143485, 40.281462481192115], [-82.75065805665729, 40.27872750442462], [-82.7508075443391, 40.277007761295664], [-82.75135897653537, 40.269131272897226], [-82.75203389018192, 40.26100800271431], [-82.7524105284356, 40.25579468208684], [-82.75316204697778, 40.246438235562124], [-82.75319792290703, 40.246129756562226], [-82.75407468814791, 40.23295999618573], [-82.75462910466078, 40.22580750940583], [-82.7558617389211, 40.20811447827069], [-82.75595547949798, 40.20681044877303], [-82.75642394553958, 40.20082087278594], [-82.7567808367287, 40.1957196333434], [-82.756915759545, 40.19383149973605], [-82.7571914220383, 40.189651109829086], [-82.75723510740181, 40.18935807663026], [-82.75809231067191, 40.17632111105221], [-82.75842291999747, 40.171521884778116], [-82.75898649298831, 40.16345183816807], [-82.7595216867394, 40.15636987001152], [-82.75955158138012, 40.15615594538573], [-82.7597252834834, 40.15392705608785], [-82.76014872467321, 40.14848331999913], [-82.76025339318657, 40.14698087607006], [-82.76044076276847, 40.1447159248004], [-82.76088240648487, 40.13874090365304], [-82.76144470020142, 40.13082874059943], [-82.76180399787768, 40.125979109401236], [-82.76180558749328, 40.125957655698535], [-82.76218233238414, 40.120770960486766], [-82.76060853681524, 40.12120459614079], [-82.7540987463954, 40.1209399800207], [-82.74231544598656, 40.12044279961756], [-82.74212486290993, 40.122872373629015], [-82.74024588584443, 40.12279827247416], [-82.74009558677051, 40.12508106200097], [-82.73191627624351, 40.12476094107865], [-82.73138099143033, 40.12473764453867], [-82.73120271107814, 40.12472988449743], [-82.73023994999794, 40.12468797515833], [-82.73005326015826, 40.12467971200228], [-82.72956071412362, 40.12465791129827], [-82.72926694302718, 40.124644803586676], [-82.72830218150781, 40.124601750253355], [-82.72719388943717, 40.12455228313927], [-82.7269865494163, 40.1245430274412], [-82.7260933964309, 40.124501564892874], [-82.72532269298969, 40.1244657814629], [-82.72516347734127, 40.124457481318046], [-82.72424000247415, 40.12441485416552], [-82.72223834992221, 40.12432247045999], [-82.72207289824463, 40.12431483264336], [-82.72081095233992, 40.12425860961408], [-82.71906636431368, 40.124191542096], [-82.7175679655854, 40.12414473938465], [-82.71749094940904, 40.12414223682717], [-82.71734753573072, 40.12413736593573], [-82.71633324274615, 40.124096458386866], [-82.71631653609275, 40.12409578756304], [-82.71571975825962, 40.12407180699187], [-82.71570746818328, 40.124071396354374], [-82.7151334126076, 40.1240482266839], [-82.7150631093084, 40.124045687741486], [-82.71453265229843, 40.12402296224025], [-82.71442427418273, 40.1240184786601], [-82.71392350100511, 40.12399774241454], [-82.71378146051387, 40.12399174164714], [-82.71313744223794, 40.1239645304975], [-82.71249077162165, 40.12393720263824], [-82.71247318027063, 40.12393646082036], [-82.71186418916739, 40.123912482757255], [-82.71155095508752, 40.123900148480125], [-82.71064857944397, 40.12386461018705], [-82.71024452307267, 40.123848500425964], [-82.709513793491, 40.123819908749006], [-82.7089781373718, 40.123798804730484], [-82.70855768409189, 40.12378094235807], [-82.70594737300134, 40.12367001027742], [-82.70483229779077, 40.12362260485235], [-82.70404343461107, 40.12358900023733], [-82.7039803585424, 40.123586379090305], [-82.70312010858042, 40.12354979317446], [-82.70302416615013, 40.12354571259412], [-82.70188621694463, 40.12349730647529], [-82.70175667606243, 40.1234917056128], [-82.7008299628123, 40.12345025203322], [-82.70044573423367, 40.12343306159365], [-82.70004765509637, 40.12341524954341], [-82.69937043892655, 40.12338494489886], [-82.69867799166062, 40.12335395513047], [-82.69818675098556, 40.123331723673004], [-82.69798556422288, 40.12332270458586], [-82.69730220190964, 40.12329008657912], [-82.69663325305093, 40.12325815286549], [-82.69665908407762, 40.1231521701468], [-82.6966901431643, 40.12306253691663], [-82.69689724036293, 40.12263292059581], [-82.69707332476709, 40.1223164001003], [-82.6972506439092, 40.12200065983739], [-82.6974294154269, 40.12168591827882], [-82.69761301831024, 40.12137274431413], [-82.69833995181675, 40.12011490372946], [-82.69852858346329, 40.11978896192794], [-82.69857205341835, 40.11971491519739], [-82.69879899499773, 40.119336017613264], [-82.69881041571362, 40.11931708416903], [-82.69939433127476, 40.11833346621548], [-82.69997210710262, 40.11731693169811], [-82.70032970106043, 40.11668799342819], [-82.70068417586317, 40.116058015446306], [-82.70106326041501, 40.11538536748139], [-82.70186479028295, 40.113965514146216], [-82.70235912752706, 40.113063556193566], [-82.702534894882, 40.11274284895778], [-82.70285345193514, 40.112161595844576], [-82.7033504822227, 40.111247182239495], [-82.70335302313377, 40.11124249477531], [-82.70338301473592, 40.11118717006943], [-82.70444131846219, 40.10926905057692], [-82.70473116664505, 40.1087585964001], [-82.70568613945584, 40.107061840721755], [-82.70574285229623, 40.10696104541414], [-82.70590211847701, 40.10667797712876], [-82.7059232049078, 40.106640310762785], [-82.70609577388004, 40.10633059737402], [-82.7061755531377, 40.10618559815187], [-82.70631063307216, 40.105940060587415], [-82.70832823628243, 40.102358982938554], [-82.71044343755788, 40.10244411685166], [-82.71051860295559, 40.10161276940597], [-82.70889060183733, 40.10153421108479], [-82.70904731775295, 40.10129781390958], [-82.71017488162182, 40.09962894489703], [-82.71201627603979, 40.09970847597978], [-82.7138297936432, 40.0997867753111], [-82.7138051419512, 40.100181065296034], [-82.71483749855359, 40.100229833565415], [-82.7157294785248, 40.10027196360836], [-82.71662135166521, 40.10031408077876], [-82.71751333731758, 40.100356197281414], [-82.71844082746226, 40.10039998280273], [-82.71938835713524, 40.100444707063296], [-82.72044259325372, 40.10049445880576], [-82.72366182868419, 40.10064632183173], [-82.72376895195872, 40.10065137385041], [-82.72413350799607, 40.09595680996769], [-82.72290166107442, 40.09590064585937], [-82.71613993197916, 40.09556035971449], [-82.71618639023654, 40.094932581238], [-82.71546984752067, 40.09489601593707], [-82.71542830849518, 40.095525072966716], [-82.71415200892463, 40.09546058525712], [-82.71430483278615, 40.093643456142225], [-82.7133659347536, 40.09359715957874], [-82.71358524102695, 40.093169214680415], [-82.7154091352118, 40.09046017314817], [-82.71796213983671, 40.086900134376535], [-82.71879616101445, 40.08578264044035], [-82.72083261434614, 40.082830556234185], [-82.72106357193769, 40.08292314420774], [-82.7216656579061, 40.082156010562336], [-82.72415352947172, 40.08260985833395], [-82.72576764787344, 40.08274573613575], [-82.72586776223937, 40.08134607462756], [-82.72654643824065, 40.0813574371891], [-82.72654118142066, 40.081426851258136], [-82.72739567954306, 40.08146981422255], [-82.72735210180755, 40.08204529801346], [-82.72770888159747, 40.08206094874227], [-82.72736160676678, 40.08672632144328], [-82.73480122727847, 40.087043088214884], [-82.7348259690742, 40.08671544660351], [-82.73357728457573, 40.08664983486135], [-82.73359678999142, 40.08637278245422], [-82.73362697061248, 40.08594415315649], [-82.7336401433462, 40.08575705526684], [-82.7336467017403, 40.085663912092215], [-82.73366472860397, 40.08540790412549], [-82.73370127758497, 40.08488883362133], [-82.73371224225673, 40.08473310254077], [-82.73375874239706, 40.08407269707268], [-82.73377050349387, 40.08390565190958], [-82.73380770771801, 40.083377258547166], [-82.73384770523899, 40.08280917632757], [-82.73385889308946, 40.08265028355352], [-82.73386735412315, 40.08253010762972], [-82.73387631862354, 40.08240277992526], [-82.73389319025263, 40.082163161235506], [-82.73390863296319, 40.08194383410963], [-82.73392240510208, 40.08174822942477], [-82.7340325404334, 40.08175301301698], [-82.73412444782151, 40.081405476130655], [-82.7354265786659, 40.08149790387027], [-82.73543551846409, 40.08140425763501], [-82.73694213925093, 40.0814681618282], [-82.73880872270622, 40.08150457432661], [-82.73879845721932, 40.081627662377194], [-82.73954524687375, 40.08166120134463], [-82.73953811837187, 40.08135926579589], [-82.74067595840792, 40.08135729887673], [-82.74212001791862, 40.08130813393063], [-82.74448963163346, 40.081262577296144], [-82.74517050454715, 40.08124825428177], [-82.74657054521606, 40.08114187430715], [-82.74669466198078, 40.07926105660897], [-82.74669812095667, 40.07926116822819], [-82.74670722690263, 40.07912693232416], [-82.74760942437653, 40.07916704998971], [-82.74771719610752, 40.07794834520565], [-82.74621959100784, 40.07788770516584], [-82.74614074937558, 40.07895316088451], [-82.74612734678247, 40.07895520630203], [-82.74612718789348, 40.078957346466495], [-82.74597152018661, 40.07897898511403], [-82.74559628266809, 40.07896186404059], [-82.74505645799887, 40.078937222795055], [-82.74428881719558, 40.07887947294314], [-82.74381202026092, 40.078861824133035], [-82.74371473353408, 40.078858039842785], [-82.74318558602415, 40.07880893541998], [-82.74236802270707, 40.0788215494279], [-82.74204434588047, 40.07881335002743], [-82.74089627901562, 40.07874589856689], [-82.74057993047734, 40.0787367732074], [-82.74057122635611, 40.078864850393884], [-82.73970186211109, 40.07882790886689], [-82.73607190818582, 40.078670257605964], [-82.73617252326144, 40.07692272585072], [-82.73622440184978, 40.07602165454902], [-82.73624896586172, 40.07559498752914], [-82.73644544404691, 40.07558818911365], [-82.73697241509929, 40.074548241741454], [-82.73725513253146, 40.07368133258238], [-82.73725053109658, 40.07297529601474], [-82.7372144694882, 40.07255088238798], [-82.73764355445965, 40.07218188974761], [-82.7378813028741, 40.070087136293836], [-82.73822324015673, 40.06999850851886], [-82.7381561728607, 40.06975127693866], [-82.7379652501931, 40.069721848255874], [-82.73745907370143, 40.06912666760428], [-82.73758613196152, 40.06902441178534], [-82.73756674115195, 40.06886865518581], [-82.73728091548308, 40.06887039264019], [-82.73704355906048, 40.06829527909616], [-82.73726113447792, 40.067985872682385], [-82.7375869136308, 40.06752258836757], [-82.73668078543254, 40.065942531171736], [-82.73622008728654, 40.06593235188959], [-82.73620228883016, 40.065641973470264], [-82.73604713777783, 40.06511286970236], [-82.73517112548512, 40.06506849703746], [-82.73520125385274, 40.06466497102979], [-82.73636131225952, 40.06472540218242], [-82.73623460416914, 40.06431820692177], [-82.73616691906354, 40.063920176316365], [-82.73526655822592, 40.063875982089186], [-82.7357278008811, 40.057991334465484], [-82.7453389864836, 40.05848563716329], [-82.74545366267063, 40.05701583025722], [-82.74554075896486, 40.05589948322867], [-82.74554080153833, 40.05589892836364], [-82.7457783775285, 40.05284368791877], [-82.74583471255904, 40.052118716380456], [-82.7481654086159, 40.051787222245224], [-82.7495016226993, 40.0515443404203], [-82.75190669279914, 40.05105155038146], [-82.75223320875452, 40.050968395513856], [-82.75278306775324, 40.05082521925038], [-82.75328953854455, 40.05069631224766], [-82.75393392313902, 40.05053464171093], [-82.7546221085797, 40.0503599750779], [-82.73858725161949, 40.04952361168309], [-82.73332656487901, 40.049238261202845], [-82.72675344231386, 40.04890401855554], [-82.68842559784602, 40.04688899226974], [-82.66921053191228, 40.04605146967828], [-82.66934836108076, 40.044367001228984], [-82.66954151583292, 40.04220143492421], [-82.66987268861818, 40.03821713871341], [-82.67038564319134, 40.03171940920849], [-82.6705054643177, 40.03028364402006], [-82.67072295355507, 40.027455486344344], [-82.67081916024429, 40.02637655290411], [-82.6710457593312, 40.02349602153759], [-82.67117115901597, 40.02198325632432], [-82.67153425942199, 40.01662952013088], [-82.66952700425443, 40.01653349622768], [-82.66714642745565, 40.01643140714432], [-82.66706294334206, 40.01768127669177], [-82.66473183659814, 40.01757594402119], [-82.66439977226808, 40.019987573526095], [-82.66183414757116, 40.019816286951844], [-82.66166004382936, 40.022202480465616], [-82.65824751892026, 40.02202747171883], [-82.65842490453683, 40.01959671698807], [-82.65753673796651, 40.01956219856543], [-82.65752602197831, 40.01969940363032], [-82.6563656411168, 40.01964386403832], [-82.65630056617198, 40.01988645094955], [-82.65601421754116, 40.01968293114249], [-82.65535366751826, 40.01932440501995], [-82.65501274181537, 40.019183112185836], [-82.65466589371034, 40.01903861724323], [-82.65420733696294, 40.01897779341702], [-82.65408529618206, 40.01897495724196], [-82.65342607385818, 40.01907316938403], [-82.65339774804069, 40.01894043502243], [-82.6531890534738, 40.018967907999794], [-82.6521902979527, 40.019078515866795], [-82.65245752214133, 40.01579849710895], [-82.65272379517981, 40.01581013028652], [-82.65288789419847, 40.01367716520499], [-82.65237118285653, 40.01324536038805], [-82.65271267309019, 40.012418267229435], [-82.64350636159966, 40.01201858077307], [-82.64355642000247, 40.011010899373964], [-82.64180242947023, 40.01097051938539], [-82.64175109479723, 40.012247054712354], [-82.64349093759611, 40.01228718798593], [-82.64347846110176, 40.01245192720774], [-82.64057707694016, 40.01237988770402], [-82.64060175943159, 40.011627031683275], [-82.63999946890247, 40.01160744495615], [-82.63979368913768, 40.011657182073165], [-82.6392284222436, 40.01164354095748], [-82.63922090890355, 40.01178083007805], [-82.63668765602274, 40.011691698591044], [-82.63668365255386, 40.01174633055705], [-82.63390300630057, 40.01164611848668], [-82.63394804590409, 40.01094015849617], [-82.63450611475025, 40.01068752969215], [-82.63567549610174, 40.0102342955185], [-82.63662890288221, 40.00992648528895], [-82.63821036529943, 40.009514186824624], [-82.63983252636238, 40.00920942419859], [-82.63984183462821, 40.009043548760395], [-82.6426644475093, 40.0084602421402], [-82.64285469030834, 40.008416191860675], [-82.64338601234525, 40.00831924227106], [-82.64392629928474, 40.00825826914066], [-82.64381690498743, 40.00805679837397], [-82.6443159680748, 40.00089875827007], [-82.64433027653006, 40.00063650512864], [-82.64430405740961, 40.00063538545474], [-82.6443550492439, 39.9998033353988], [-82.65379903019355, 40.000332066013165], [-82.65361593898801, 40.00284065317535], [-82.65415682002084, 40.00286466016191], [-82.65416996586357, 40.002565806935955], [-82.65685803240196, 40.00266024823178], [-82.65701611435978, 40.000424567533535], [-82.65722981595829, 40.0004365769103], [-82.65714423141615, 40.00169220971447], [-82.65782639639107, 40.00171395178467], [-82.65758742183188, 40.005163730842504], [-82.65683186958644, 40.00529184145857], [-82.65679714127948, 40.006103538768095], [-82.65863486146789, 40.005793716572455], [-82.65863961783624, 40.00572108730589], [-82.66296313950444, 40.00495722578044], [-82.66329122861752, 40.00075661250922], [-82.65856373592406, 40.00050871999376], [-82.65894381919084, 39.9958972295096], [-82.6588810423621, 39.99562297431761], [-82.65927653628889, 39.9905195046359], [-82.65991513860436, 39.983726424369806], [-82.66015148504518, 39.98028958934851], [-82.66481228268893, 39.98267804375778], [-82.66504212430206, 39.982759827814974], [-82.66722588692713, 39.98331306896015], [-82.66916663870563, 39.98374626669299], [-82.66948076926585, 39.983835193134766], [-82.66955315139333, 39.98392999625997], [-82.66967761891776, 39.98412086107119], [-82.6697799881955, 39.984319344622975], [-82.66985947914196, 39.98452393684064], [-82.6701754653631, 39.98560931619934], [-82.67090076378098, 39.98737319169584], [-82.67392300814116, 39.987501076104316], [-82.67523050532421, 39.97141655113161], [-82.67523247561095, 39.97141663104817], [-82.67522539456183, 39.971397027576984], [-82.6657568128856, 39.97108596879467], [-82.64594382604986, 39.97030843460434], [-82.62697605084085, 39.969475845918275], [-82.60806218740035, 39.968775931992965], [-82.60869870028752, 39.95898799327606], [-82.60899761952328, 39.95439042907645], [-82.60941510513484, 39.950669752861906], [-82.60956944646841, 39.94559362969753], [-82.61003339804066, 39.93845468445838], [-82.61055330530695, 39.93105006359121], [-82.64903891360086, 39.93291060065785], [-82.67258250592474, 39.93410218725582], [-82.69715220572208, 39.93525278538186], [-82.69948276579485, 39.90713301963184], [-82.70077833475662, 39.891060515649386], [-82.70247179374022, 39.870647249708725], [-82.70502296910887, 39.839639962064915], [-82.7067884405041, 39.81766349939037], [-82.70679425658686, 39.81742005912713], [-82.70680420238112, 39.81728438985631], [-82.70690864205262, 39.81625822396852], [-82.70723352805014, 39.81260615278888], [-82.70733504288981, 39.81133581040211], [-82.70765788433967, 39.8073494146117], [-82.7076869345287, 39.806943993703484], [-82.70769735909097, 39.806796074657896], [-82.70768022795284, 39.80666341075495], [-82.70824973115307, 39.8003350808931], [-82.70829461931852, 39.79983623228037], [-82.70843959678263, 39.79822503706818], [-82.71050688501677, 39.77570406229567], [-82.71065353828845, 39.774105857473515], [-82.71177989124325, 39.76182861793857], [-82.71179120810659, 39.761705226299476], [-82.7118678797135, 39.7611707372935], [-82.71191789630262, 39.7606335790375], [-82.71199517511965, 39.75985533205883], [-82.71201929315761, 39.75946385876302], [-82.7120333193402, 39.759297961792235], [-82.7120444972604, 39.759054678436954], [-82.71281821006271, 39.75031570685545], [-82.71287058210643, 39.75005677112734], [-82.71285771998278, 39.74983299581554], [-82.71284058542918, 39.749370075277916], [-82.71390608467392, 39.73690918043753], [-82.71449620830876, 39.729459448312824], [-82.72142626063133, 39.72988033534182], [-82.7217720690491, 39.729909142959315], [-82.72998136617105, 39.73039201009251], [-82.733806026708, 39.73060198073385], [-82.73426988275354, 39.73060781033164], [-82.73598987139776, 39.73069219666666], [-82.7362480800426, 39.73070181181457], [-82.74338544415139, 39.73113398695023], [-82.76636373321631, 39.73258313505407], [-82.80088299299146, 39.73482100744297], [-82.80333544599648, 39.73496411884049], [-82.8296199663589, 39.73656535197704], [-82.82935394397204, 39.74022837380588], [-82.82868847418816, 39.74726094438974], [-82.8285381556922, 39.74905803057691], [-82.8284549346531, 39.7498205906284], [-82.82832453229055, 39.7510323390721], [-82.82828484514604, 39.75149443747844], [-82.82698050459409, 39.76573768545908], [-82.82691379259093, 39.76646454098209], [-82.82629637225149, 39.77301991409706], [-82.82560755354153, 39.78033186244985], [-82.82437725784845, 39.79485821367319], [-82.82437172062859, 39.79491807098456], [-82.84087316304276, 39.79583487595975], [-82.84180931577968, 39.79588681720345], [-82.85258116712909, 39.796483937041494], [-82.8576557894486, 39.796749338410436], [-82.8714347124135, 39.79746885264036], [-82.88091856836698, 39.797949004905924], [-82.89032068378523, 39.79842591650426], [-82.8997906268437, 39.798915568319316], [-82.90927125106268, 39.799382454615575], [-82.91885877425247, 39.799848191098945], [-82.92792659634053, 39.800282099905004], [-82.9373184789672, 39.80072507786663], [-82.94687791845415, 39.801191371176465], [-82.95335657400177, 39.80149551576276], [-82.9563910921444, 39.80163784838283], [-82.96565852846116, 39.80204334996534], [-82.9749260527041, 39.8024453726587], [-82.97506847754362, 39.8024530307531], [-82.97969703697709, 39.80266750900768], [-82.98090046510951, 39.80272296885391], [-82.98364202587875, 39.80285168646731], [-82.98859106511055, 39.80307821641019], [-82.99179550927681, 39.80322677305345], [-82.99229399580786, 39.80325213118239], [-82.99501420520667, 39.80337518268141], [-82.99734634863275, 39.803483347402064], [-83.00153708055602, 39.803674114564195], [-83.00582753780628, 39.80386979358241], [-83.01104377332086, 39.804107948828054], [-83.01295164605769, 39.80411333233383], [-83.0177587071921, 39.80430488225836], [-83.03001342451874, 39.80479230611328], [-83.04426221925911, 39.805297968204755], [-83.04738804307325, 39.80537673737612], [-83.04922990213058, 39.8054173404694], [-83.05293465898838, 39.80549892243566], [-83.060475121891, 39.80568544224412], [-83.06053200503692, 39.80567693391922], [-83.07470502768773, 39.80600629717202], [-83.0893044667622, 39.80665300662135], [-83.08935785747182, 39.806652737884164], [-83.09542902855158, 39.80690479161965], [-83.10115827787952, 39.80712808710545], [-83.10199495311736, 39.80714849638854], [-83.1203755442088, 39.80783222930933], [-83.1305118217135, 39.80806085536464], [-83.13750052330161, 39.808187733249056], [-83.14932409222138, 39.80840553216781], [-83.15258891497342, 39.8084724868241], [-83.17176099060856, 39.80881978977512], [-83.17178809708895, 39.80882102494598], [-83.19580083605756, 39.80965585970816], [-83.20101071942604, 39.809836335036564], [-83.21591227090023, 39.81080019764371], [-83.21708976363455, 39.810876278209264], [-83.24362338818271, 39.81255178728635], [-83.24488513270265, 39.828896319190285], [-83.24739048936515, 39.86127822639178], [-83.24895480059712, 39.88151227848703], [-83.24944231386726, 39.88773553746467], [-83.25174633360919, 39.9174908308075], [-83.25174922368419, 39.91752813926454], [-83.249384238061, 39.9187385644985], [-83.24663621571032, 39.92014520607425], [-83.24659013290858, 39.92017020695336], [-83.23082672727271, 39.92823628998168], [-83.23053589384762, 39.92838507083036], [-83.23038784860083, 39.92846080494642], [-83.23031946766055, 39.92882803527965], [-83.2300269270628, 39.929222155542114], [-83.22962051328037, 39.929536822269206], [-83.22931985866782, 39.929756313797576], [-83.22921355359225, 39.92983392051838], [-83.22826887619016, 39.9303034657246], [-83.22747894123619, 39.93090875809858], [-83.22712493002936, 39.93122391405516], [-83.22670491587337, 39.93160454000227], [-83.22615754417606, 39.932194318930925], [-83.22594941772911, 39.932531277507806], [-83.22591244762147, 39.93289203517817], [-83.22598743373713, 39.933238929311294], [-83.22600537359607, 39.93332191821874], [-83.22639866340239, 39.93410243247598], [-83.22668901257667, 39.93489374087141], [-83.22695191859962, 39.93558364392137], [-83.22745230404539, 39.93647467333132], [-83.22804179370024, 39.937210420507476], [-83.22852334515339, 39.93753950225293], [-83.22883961395705, 39.93807808012063], [-83.22889553944891, 39.93851395446878], [-83.22872523767515, 39.939040455129565], [-83.22846078137296, 39.93960103263415], [-83.22841102256237, 39.94012788280061], [-83.22879401087069, 39.94063392534154], [-83.22939500631387, 39.94087671426979], [-83.23040487116269, 39.9412693174951], [-83.23081577424524, 39.941511085854316], [-83.23107859981651, 39.94164451499388], [-83.23116794548885, 39.94176365135694], [-83.23118204710435, 39.94191757232954], [-83.23115668871398, 39.942321008716135], [-83.23117422157715, 39.94256385516811], [-83.23114437158704, 39.942845430453], [-83.23116529007507, 39.94324061632723], [-83.23123597028767, 39.94358552984494], [-83.23146716403593, 39.944135335468204], [-83.23153958714258, 39.9443745447979], [-83.23157510121524, 39.94463127985833], [-83.23169652146335, 39.94481527759101], [-83.23194120536323, 39.94501964587615], [-83.23211937680426, 39.94517364072305], [-83.23239806476123, 39.945456858666354], [-83.23307919436003, 39.94592012183448], [-83.23363853917222, 39.94633362937201], [-83.23433812100942, 39.94671880400885], [-83.23494557113763, 39.94695795466423], [-83.2352223932462, 39.947029243954155], [-83.23578411828704, 39.94726126519395], [-83.23599563112299, 39.94746363627233], [-83.23600429003613, 39.94750668271527], [-83.23614518904427, 39.94767600410311], [-83.23631563697289, 39.94810950871953], [-83.23631470210098, 39.948290700962986], [-83.23635728450222, 39.948606686618426], [-83.23653221338223, 39.949025063817814], [-83.2366261004896, 39.949301744335955], [-83.23684488653677, 39.94958368119003], [-83.23727768290927, 39.94993235378], [-83.23740951223368, 39.950019374054335], [-83.23745277430169, 39.95003352368067], [-83.23800905390871, 39.950215457791636], [-83.23817258263199, 39.9502643928581], [-83.23858483380067, 39.95052479348101], [-83.23875335648242, 39.950623325096714], [-83.23882638979295, 39.95066602537447], [-83.23910478881882, 39.9507831415715], [-83.23970434772045, 39.95097976686528], [-83.2401292737628, 39.95112313447605], [-83.24030730570921, 39.95120326980702], [-83.24040116514635, 39.951265269675986], [-83.24076998885201, 39.9515662921457], [-83.24099425587752, 39.95179135873263], [-83.2410808534133, 39.95188415013048], [-83.24126884443324, 39.95211905457082], [-83.24144678242419, 39.952247506165044], [-83.24164305445191, 39.95243317741521], [-83.24173937968479, 39.95252429912761], [-83.24183245283133, 39.952621991001585], [-83.24190363179542, 39.95277390203743], [-83.24190590549226, 39.95278112094851], [-83.24194055409161, 39.952891165587], [-83.24199311817351, 39.953036880568014], [-83.24212655179105, 39.95350684700764], [-83.24218449571313, 39.95385567592436], [-83.24232454319315, 39.9544436465659], [-83.24237677494683, 39.95475847058763], [-83.24240319672157, 39.95512808802563], [-83.24248288224314, 39.95557505927304], [-83.24244005093735, 39.95590668232947], [-83.24225904618868, 39.956327301057456], [-83.24222459270761, 39.956441446542925], [-83.24218216968085, 39.95647740303742], [-83.24210041277134, 39.956504549362315], [-83.24198230989872, 39.95653549393142], [-83.24194274513127, 39.95653848936362], [-83.24190354608234, 39.956542305682184], [-83.24187164806995, 39.95656172406187], [-83.24181416885452, 39.95665762242035], [-83.24174244199244, 39.95688922555366], [-83.24165704921609, 39.957077265852305], [-83.24162164775326, 39.95720294748656], [-83.24161254934593, 39.95725296873692], [-83.24157765794058, 39.95732621284793], [-83.24150513851885, 39.95745020699316], [-83.2413955306663, 39.95754204196405], [-83.24118389806203, 39.95770068091643], [-83.24108054399092, 39.95777682784664], [-83.24008511822849, 39.95927103393078], [-83.2399754515136, 39.95979332174631], [-83.24029223583301, 39.96022836669476], [-83.24071611832605, 39.96063244615187], [-83.2407534704746, 39.96066805335803], [-83.24081662830673, 39.96072825970909], [-83.24083138317468, 39.96073708497295], [-83.241128852407, 39.96091499703335], [-83.24268436610642, 39.96184529672274], [-83.24503012347365, 39.96308637487984], [-83.24576832680897, 39.963790781489195], [-83.24600013495181, 39.96454699476958], [-83.2456402422531, 39.96662327746136], [-83.2455194594335, 39.967363644511224], [-83.24557675233444, 39.968447100280244], [-83.24720781783336, 39.971418051500045], [-83.24770841546308, 39.97155102758921], [-83.2482330977659, 39.971402185550794], [-83.24870236470002, 39.970978348559], [-83.24871003900383, 39.970801675427616], [-83.24871951805251, 39.97058347457494], [-83.2485667420763, 39.970279178346935], [-83.24900107107375, 39.970024394456445], [-83.24922693586133, 39.97001908433536], [-83.24946585869968, 39.970013466121785], [-83.25012744145421, 39.970285684061054], [-83.25040618765875, 39.97062431101163], [-83.25058388477008, 39.97154828703851], [-83.25059406859442, 39.971601236877056], [-83.25056882317962, 39.9723030799592], [-83.25049562294468, 39.97234296223021], [-83.2500441919305, 39.97258891962093], [-83.24931356492041, 39.97355935931039], [-83.24948640666973, 39.97439966941484], [-83.24954478031772, 39.97448549744627], [-83.24957299595125, 39.97455422259866], [-83.24959078439142, 39.97464854458302], [-83.24959410744658, 39.974725114983784], [-83.24959925878984, 39.97477257503124], [-83.24959924064312, 39.97483708795517], [-83.24960231021973, 39.97489005174848], [-83.24959920977655, 39.974999605877784], [-83.24960039468685, 39.97504324721771], [-83.24962212359031, 39.975105974820984], [-83.24961394569405, 39.97514171498655], [-83.24964127534778, 39.97522746562513], [-83.24964727160534, 39.97525405637228], [-83.24965414660893, 39.975296014948505], [-83.24966031168196, 39.97533825186045], [-83.24966736306328, 39.97536346235275], [-83.24970870534047, 39.97542496674173], [-83.24972963313884, 39.97544652015566], [-83.2497678078193, 39.97551216169448], [-83.24979409019683, 39.97556689829456], [-83.24981221153948, 39.97559286216279], [-83.24983045435079, 39.97563008085516], [-83.24991997847133, 39.9756926490401], [-83.24993103500692, 39.975725246390645], [-83.24995713390723, 39.97576296426902], [-83.25002939010659, 39.975893049279506], [-83.2500575693758, 39.9759437819026], [-83.25012562971224, 39.97606743133504], [-83.25017036899588, 39.976179151017966], [-83.25018513494341, 39.97626340832355], [-83.25020953568524, 39.97640263640779], [-83.25022221821717, 39.97651977676204], [-83.2502202059931, 39.976597753818396], [-83.25025690586747, 39.97716510053352], [-83.25026303849172, 39.97725990393652], [-83.25026196879463, 39.97732607084564], [-83.25023647685235, 39.977443729946806], [-83.25021590876194, 39.977554768299264], [-83.25020040294048, 39.97761648725267], [-83.25019435502816, 39.97764055743146], [-83.25008536410009, 39.97772525821789], [-83.24998128798224, 39.977736355838516], [-83.24990189169088, 39.97775278508531], [-83.24981769756458, 39.97778763828412], [-83.24974692363631, 39.97780950368696], [-83.2495709960504, 39.97784192273603], [-83.24949919822458, 39.97786818616336], [-83.2493492140219, 39.977923773598114], [-83.24924421052584, 39.97798127042386], [-83.24918121837611, 39.97802998862698], [-83.24916047158872, 39.978058396487256], [-83.24910404764775, 39.97812052503309], [-83.249063247188, 39.978208632552736], [-83.24904281797214, 39.97829962997358], [-83.249028189436, 39.97833294070113], [-83.24894772619389, 39.97848224557787], [-83.24891017604718, 39.978573900718324], [-83.24890071024802, 39.97858960924287], [-83.24888923467523, 39.97861740938678], [-83.24888089716363, 39.97867154291708], [-83.24887260094447, 39.97882889760418], [-83.24886217561823, 39.97895414641257], [-83.24888113670377, 39.97912423007218], [-83.24900016146884, 39.97960580632053], [-83.24909388504182, 39.97985886732949], [-83.24911541669509, 39.9799032028455], [-83.24919101285776, 39.9801297504498], [-83.24934246416231, 39.980739047558956], [-83.24938620638993, 39.98128753844582], [-83.249401469623, 39.981412348481236], [-83.24938261885873, 39.98147160993998], [-83.24946902510328, 39.9815878858803], [-83.24955243998792, 39.981778146859114], [-83.24956739563325, 39.98187440872067], [-83.24955665168608, 39.981903851535044], [-83.24954905983842, 39.98196100020964], [-83.2495161072058, 39.982015840312656], [-83.24948835006316, 39.982056097930645], [-83.24947688605964, 39.98211821325625], [-83.24946834428022, 39.982153407137446], [-83.2494952626352, 39.98226688712739], [-83.24948660191473, 39.98235726084009], [-83.24946141990408, 39.98240463885022], [-83.24946047964833, 39.98248288357863], [-83.24952269959424, 39.982560725905444], [-83.24955091457689, 39.98272827874641], [-83.24955270890591, 39.982762307812926], [-83.24947236257302, 39.98298902754894], [-83.24939320534229, 39.98309440063394], [-83.24930567591568, 39.98315151109513], [-83.24911289172805, 39.98323065698045], [-83.24890829805165, 39.9834318635364], [-83.24874140488146, 39.983575404839904], [-83.2486331611353, 39.9836642169107], [-83.24842648911017, 39.983891741460106], [-83.24829490575432, 39.98409984423693], [-83.24827750131817, 39.98413548718916], [-83.24819015583763, 39.984314365049364], [-83.24800508322097, 39.98455959500873], [-83.2479870269667, 39.98457365230959], [-83.24777079843113, 39.9847419973004], [-83.24756288372197, 39.98495415473426], [-83.2475334224383, 39.984968892543215], [-83.24727177259507, 39.985195391508825], [-83.247237700943, 39.985230865692024], [-83.24719377687778, 39.98527659806473], [-83.24716049017974, 39.98530069367886], [-83.24694988874964, 39.985495571670725], [-83.24680008537882, 39.98566947336444], [-83.24667427466942, 39.98581769210161], [-83.24650505587364, 39.98602547365885], [-83.24649111461342, 39.986042592914224], [-83.24630715217343, 39.986226044706065], [-83.24622596662337, 39.9862762493985], [-83.24610911248905, 39.986394762596724], [-83.24609313619642, 39.98643576764803], [-83.24601052768303, 39.9865861815249], [-83.24598106788105, 39.98663440998402], [-83.24597503366743, 39.98665625872838], [-83.24596553122514, 39.986698706004], [-83.24595885866056, 39.98674147124103], [-83.24595503352204, 39.9867844435472], [-83.24595406630422, 39.98682750937294], [-83.24595595815495, 39.986870557029064], [-83.24596070553879, 39.98691347485614], [-83.24596829553475, 39.98695614945267], [-83.24597870823551, 39.986998471064105], [-83.24599191785052, 39.98704032727109], [-83.24600788693921, 39.987081611132105], [-83.2460265768704, 39.98712221391165], [-83.24604793615333, 39.98716202875715], [-83.24606592328999, 39.9871916992768], [-83.24616203828514, 39.98736842928692], [-83.24637113703356, 39.98760751952419], [-83.24644547958947, 39.98767418472847], [-83.24662077794808, 39.9878082544915], [-83.2466685581096, 39.98783536397635], [-83.24670805174267, 39.98785777066777], [-83.24682872199027, 39.987948592044596], [-83.24685043053213, 39.98800089667193], [-83.24686942612215, 39.98804666355077], [-83.24692339443463, 39.98814322939955], [-83.24701361501621, 39.98823599250917], [-83.2472174277766, 39.988404624674494], [-83.24728750949946, 39.98845002305268], [-83.2473459126964, 39.98850455638169], [-83.24743361367732, 39.9885621959511], [-83.24754800178755, 39.988678688463615], [-83.24758560303063, 39.98872374499921], [-83.24791615637444, 39.988995612061345], [-83.24794253529859, 39.9890259160183], [-83.24806358059278, 39.98909761901449], [-83.24827351297247, 39.989270601945734], [-83.24835502316301, 39.98934969347319], [-83.24859622591137, 39.98954306645229], [-83.24880406092268, 39.98971990491432], [-83.24896966414543, 39.989878492193114], [-83.24911017929173, 39.98997545317454], [-83.24947209397729, 39.99027511718441], [-83.25005386015637, 39.99067357564347], [-83.25031026685267, 39.99085284584163], [-83.25066521565094, 39.99103140145728], [-83.25080225321277, 39.99110033767537], [-83.25108647079989, 39.99148601341457], [-83.25270350574682, 39.99368019534052], [-83.25271880594573, 39.99370095647276], [-83.25425194124855, 39.9955471280559], [-83.25431140773007, 39.99561873370824], [-83.25517671432829, 39.99632110203615], [-83.25565288640165, 39.99670760166888], [-83.25577383950102, 39.998212295940874], [-83.2559039225478, 39.99852194194178], [-83.25664825087772, 39.99938353431474], [-83.25752140191794, 39.99996069606655], [-83.25842833588696, 40.00056017093402], [-83.25846893323055, 40.00057883318003], [-83.25949060885695, 40.001048481735346], [-83.25992913035384, 40.00125005891646], [-83.25995125618377, 40.001260229972324], [-83.259953657559, 40.00127794652735], [-83.26003124445599, 40.001850205076146], [-83.26018720604591, 40.00217367864472], [-83.26043373618923, 40.00212925653067], [-83.26065670131236, 40.00254069015186], [-83.26072695943718, 40.00308900027393], [-83.26064967525828, 40.00336594268444], [-83.2602296616212, 40.00394051269631], [-83.26012704681102, 40.00408088495617], [-83.25983531258055, 40.004333684352815], [-83.25960629434364, 40.0043807369938], [-83.25886724662021, 40.00476215902163], [-83.25835940432589, 40.00483956125549], [-83.2575917170135, 40.00449450530242], [-83.25691003118764, 40.00431003304813], [-83.2562018720934, 40.004218240782016], [-83.25594305733013, 40.00425494776957], [-83.25586933171996, 40.00426540448475], [-83.25586021027407, 40.00426837773678], [-83.25519739529872, 40.00448440384708], [-83.25430548136679, 40.00492635048759], [-83.25416246585576, 40.00505308441868], [-83.25289718019984, 40.00617429892331], [-83.2521591107681, 40.007112671593205], [-83.2516135587652, 40.00835362195912], [-83.25154974201891, 40.00849877977369], [-83.25211962084275, 40.00910318998776], [-83.25225711511192, 40.00950338196555], [-83.25242292354055, 40.01012508050695], [-83.25254699214968, 40.010590267136415], [-83.25277378945451, 40.012279301523456], [-83.2531377908856, 40.013911452850266], [-83.25304009028028, 40.01563495971656], [-83.2529383697629, 40.017054049107976], [-83.25232301029835, 40.01799273011336], [-83.25174537417753, 40.01966406523815], [-83.25165311479654, 40.01993100200846], [-83.25175425100342, 40.0204706453925], [-83.25217455323771, 40.02271319791343], [-83.25229915802123, 40.023118034180904], [-83.2522992745636, 40.023118410805544], [-83.25190531325643, 40.02352273561724], [-83.25176991077397, 40.02366169886779], [-83.25189271362139, 40.024566851009745], [-83.25238692263645, 40.02573729750728], [-83.25247772696396, 40.02677366326654], [-83.25249449831912, 40.02696507462119], [-83.2523908091598, 40.027200949116406], [-83.25223660840187, 40.02755172367884], [-83.25244601419237, 40.02812577049474], [-83.25267853533501, 40.028510488942054], [-83.2532684632975, 40.0287495742846], [-83.25389278026813, 40.028808484175194], [-83.25512669964891, 40.02874818775351], [-83.25560041632554, 40.02881932041044], [-83.255824012706, 40.02916253069033], [-83.25607737120444, 40.030100108297475], [-83.25621161069576, 40.031703797490486], [-83.25593545253162, 40.03287446922338], [-83.2554053314832, 40.03381178654446], [-83.25468181741105, 40.03502897977666], [-83.25455049990501, 40.035373949622766], [-83.2538979176912, 40.03708822722012], [-83.25361363957994, 40.03783497615529], [-83.25341130035744, 40.03836647366254], [-83.25294377628073, 40.039355048426806], [-83.25266239009855, 40.03995001940014], [-83.25258594444605, 40.04017778535998], [-83.25246275876313, 40.04054480261874], [-83.25245021955459, 40.04057766270969], [-83.25243786800678, 40.0406172430855], [-83.25242832192889, 40.04065727922373], [-83.25242161053065, 40.04069765475512], [-83.2524177524375, 40.040738249775586], [-83.25241675926435, 40.04077894622686], [-83.25241863439511, 40.040819623401546], [-83.2524233718693, 40.040860163353514], [-83.25243095751489, 40.040900447288635], [-83.2524413701196, 40.04094035555698], [-83.2524545779647, 40.04097977217826], [-83.25247054348247, 40.041018582110205], [-83.25248921973125, 40.0410566703703], [-83.25251055043454, 40.04109392563842], [-83.25253447464797, 40.04113023842531], [-83.25256092091058, 40.04116550201107], [-83.25258981312315, 40.04119961420854], [-83.25262106465009, 40.04123247379857], [-83.25265458539877, 40.041263984988156], [-83.25269027710327, 40.041294054738344], [-83.25272803452546, 40.04132259545891], [-83.25276774659723, 40.04134952229877], [-83.25280929765107, 40.0413747585422], [-83.25285256498842, 40.04139822751872], [-83.25289742250253, 40.04141986248663], [-83.25294373707536, 40.04143959855077], [-83.25299137450433, 40.04145737892881], [-83.25304019476721, 40.0414731504784], [-83.25307617786898, 40.041483284345304], [-83.25336358499949, 40.04157203128581], [-83.25345534193409, 40.04161530753012], [-83.25399080975363, 40.04186785603129], [-83.25456104016052, 40.042186123727156], [-83.25502008917378, 40.04270319945985], [-83.25504666330283, 40.04273313256169], [-83.25505250094726, 40.04275335765957], [-83.25526898790065, 40.0435033679077], [-83.25549217254053, 40.04431944062472], [-83.25552438348117, 40.04586777660531], [-83.2555207894129, 40.04606395374486], [-83.25550592228669, 40.04687550618224], [-83.25550197697511, 40.04709088804622], [-83.25536902555697, 40.04797019276813], [-83.25435828093592, 40.04904413128562], [-83.25386776987166, 40.049565294526715], [-83.25366363620523, 40.04955251395698], [-83.23991496714153, 40.048776518931376], [-83.23698054054312, 40.04861101113606], [-83.21208690136217, 40.0472039797952], [-83.21066944266333, 40.0644724161543], [-83.209787592634, 40.075211316735896], [-83.20669765419227, 40.107658451957406], [-83.20993486423869, 40.10771368632595], [-83.23349453969546, 40.10811129016868], [-83.23932366360916, 40.10825260458962], [-83.23945861168906, 40.10841554678484], [-83.24462539125123, 40.11462456516737], [-83.24257570302088, 40.11563473108264], [-83.24446864890662, 40.11794458344051], [-83.25080208281929, 40.11484309358861], [-83.249396334672, 40.11320675254792], [-83.25797634573819, 40.108972964310134], [-83.2584632077891, 40.10873405605709], [-83.25853834891873, 40.108698870447796], [-83.26271814215283, 40.10871021694593], [-83.26279033168616, 40.108812426380254], [-83.26294293121536, 40.108815008078246], [-83.26320214977972, 40.10919561320078], [-83.2634550721807, 40.10987313586132], [-83.26365991051156, 40.11006961655219], [-83.2637157297954, 40.11036409399402], [-83.26371477730942, 40.110390930508004], [-83.26371261152688, 40.110417725368805], [-83.26370923560799, 40.11044444613357], [-83.2637046527229, 40.1104710612599], [-83.2636988683775, 40.11049753828968], [-83.26369189159651, 40.11052384474183], [-83.26368372789588, 40.11054994905863], [-83.26367438983874, 40.11057582053724], [-83.26366388645987, 40.11060142759699], [-83.26365223148551, 40.110626738626856], [-83.2636394386618, 40.110651723816716], [-83.2636255240708, 40.11067635244077], [-83.26361050381458, 40.110700595574286], [-83.26359439634089, 40.11072442427718], [-83.26357722007783, 40.11074780780835], [-83.26355899703175, 40.1107707208071], [-83.26353974914956, 40.110793132509386], [-83.26351949962044, 40.110815018447425], [-83.26349827160428, 40.110836351451795], [-83.26340879808949, 40.11093109118438], [-83.26331546309842, 40.11102360887067], [-83.26321836061743, 40.11111381202847], [-83.2631175858172, 40.1112016090685], [-83.26301324329305, 40.11128691194288], [-83.26290543416306, 40.111369636228645], [-83.26281651102678, 40.111474878519914], [-83.26281361530182, 40.11171121677646], [-83.26284767375945, 40.11185814237067], [-83.26287560016718, 40.112005829129465], [-83.2628973681914, 40.112154125923894], [-83.26291295265084, 40.11230287981543], [-83.26292234013216, 40.112451941390624], [-83.26292551950829, 40.11260115581659], [-83.26290307169565, 40.11274326403176], [-83.26288665130002, 40.1128858572855], [-83.26287627428779, 40.1130287841732], [-83.26287195429951, 40.113171895105665], [-83.2628736932172, 40.11331503786722], [-83.26288149059687, 40.11345806205759], [-83.26289533893701, 40.113600815520236], [-83.26290250049402, 40.11363016700369], [-83.26291097239351, 40.11365931274907], [-83.26292074368419, 40.1136882168025], [-83.26293180228176, 40.11371684681983], [-83.26294413489902, 40.11374516776287], [-83.26295772827838, 40.11377314729504], [-83.26297256562378, 40.113800751301504], [-83.26298862898571, 40.113827947476], [-83.26300589925164, 40.1138547044205], [-83.26302435846198, 40.113880988928194], [-83.26304398165925, 40.113906771440156], [-83.26306474739457, 40.113932021474014], [-83.26308663070019, 40.11395670857031], [-83.2631096054551, 40.1139808040781], [-83.2631336455382, 40.11400427934661], [-83.2631587213194, 40.114027106648415], [-83.26318250316002, 40.114043847866974], [-83.26342549930612, 40.113907428170755], [-83.26401757455109, 40.11451144860454], [-83.26481433108313, 40.11501502911099], [-83.2649623174255, 40.11514655169392], [-83.26537090007935, 40.115777310187575], [-83.26569338067068, 40.11610997259424], [-83.2658280679899, 40.116314836814816], [-83.2658291485201, 40.116320585618006], [-83.26582996889925, 40.116326358631014], [-83.26583052907748, 40.11633215135098], [-83.26583082660939, 40.116337954787795], [-83.2658308637713, 40.11634376262219], [-83.26583063813752, 40.11634956766512], [-83.26583015081141, 40.11635536360504], [-83.26582940171335, 40.116361143237576], [-83.26582839428252, 40.11636689933536], [-83.26582712609344, 40.11637262470922], [-83.26582560177822, 40.11637831392528], [-83.26582382124737, 40.11638395887863], [-83.26582178676709, 40.11638955234954], [-83.26581950180665, 40.11639508981226], [-83.26581696861237, 40.11640056224605], [-83.26581418947048, 40.11640596423231], [-83.2658111690033, 40.11641128943655], [-83.26580791065011, 40.11641653063141], [-83.26580441787007, 40.116421682390744], [-83.26580069410254, 40.11642673748703], [-83.26579674516255, 40.11643169137949], [-83.26579257449953, 40.116436537741166], [-83.26578818789862, 40.1164412693295], [-83.265783591185, 40.11644588250401], [-83.26577878897088, 40.1164503700298], [-83.26577378707147, 40.116454727365756], [-83.2657685924649, 40.11645894906283], [-83.26576320978342, 40.116463029687054], [-83.26575764602508, 40.11646696559041], [-83.26575190934106, 40.116470751316065], [-83.26574600436362, 40.11647438143014], [-83.26573993927371, 40.11647785317745], [-83.26573372105955, 40.116481162009414], [-83.26572735787222, 40.11648430246925], [-83.26572085672979, 40.11648727270992], [-83.26571422579332, 40.11649006817525], [-83.26571667785858, 40.11657646816381], [-83.26565567956605, 40.116684381869035], [-83.26619287498511, 40.11652582892938], [-83.2672073558918, 40.118727616112906], [-83.26633610644848, 40.11917731713135], [-83.26634949292485, 40.119187947215956], [-83.26636239756678, 40.11919892357382], [-83.26637480381247, 40.11921023370438], [-83.26638669859958, 40.1192218632832], [-83.2663980653562, 40.11923379890906], [-83.26640889337587, 40.11924602714275], [-83.26641916841281, 40.11925853276681], [-83.26642887975052, 40.11927130144129], [-83.26643801432621, 40.11928431884166], [-83.26644656257629, 40.11929756881934], [-83.26645451377412, 40.11931103613389], [-83.26646185952907, 40.119324704629], [-83.26646859028743, 40.119338559056594], [-83.2664746976386, 40.119352581459296], [-83.26648017554795, 40.1193667565661], [-83.26648501679773, 40.11938106821298], [-83.26648921649651, 40.11939549841966], [-83.26649276977251, 40.11941003100683], [-83.26649567056113, 40.119424648001775], [-83.26647739727878, 40.11958714899288], [-83.26637100399773, 40.11978327689468], [-83.26642690197531, 40.11983243471667], [-83.26663622055185, 40.11988681563013], [-83.26678143540057, 40.120061160079715], [-83.26709377955122, 40.120115428512314], [-83.26732394058456, 40.12030915503936], [-83.26765226906772, 40.1204804174919], [-83.26779540297883, 40.12063133934956], [-83.26780900145953, 40.120662552342736], [-83.26782397542593, 40.120693392504194], [-83.26784030804815, 40.12072382301803], [-83.26785798016999, 40.120753808884864], [-83.26787697030903, 40.120783316921596], [-83.26789725812569, 40.12081231123588], [-83.26791881861827, 40.12084075866752], [-83.26794162796763, 40.12086862694924], [-83.26796565882562, 40.12089588293621], [-83.26799088386375, 40.12092249528469], [-83.26801727341726, 40.12094843356672], [-83.26804479782135, 40.12097366735438], [-83.26806987552425, 40.121014403193584], [-83.26809308692515, 40.12105578615101], [-83.26811440564555, 40.12109776506493], [-83.26813380530673, 40.12114028877364], [-83.26815126303897, 40.12118330519168], [-83.26816675598224, 40.12122676313418], [-83.26818026594864, 40.1212706095844], [-83.26819177825939, 40.121314790601964], [-83.26820127589937, 40.12135925316229], [-83.2697080043211, 40.12018266769877], [-83.27117933004124, 40.121344726669705], [-83.27221550489726, 40.12140374380211], [-83.27197452375663, 40.123808082822244], [-83.27203095253728, 40.123806694684674], [-83.27210435770576, 40.12380629200861], [-83.2721777013448, 40.12380394616466], [-83.27225089549584, 40.1237996604324], [-83.27232385338377, 40.12379343898438], [-83.27239648827339, 40.12378528959561], [-83.27246871343999, 40.123775220941866], [-83.27254044456504, 40.12376324708691], [-83.27261159380114, 40.1237493812174], [-83.27266227308863, 40.12373496893769], [-83.27271231178015, 40.12371929187918], [-83.27276165492873, 40.12370236751555], [-83.27281025110648, 40.12368421329713], [-83.27285804891616, 40.12366484937619], [-83.27290499460429, 40.12364429501988], [-83.2729510415165, 40.123622574852384], [-83.27299613708297, 40.12359970903382], [-83.2730402358428, 40.12357572398194], [-83.27308328880612, 40.12355064523706], [-83.27312525050259, 40.12352449831639], [-83.27316607551222, 40.123497313240044], [-83.27341475919629, 40.12345116236918], [-83.27344121736223, 40.123410835348245], [-83.27343915430676, 40.123408572163015], [-83.27343719155466, 40.12340625608239], [-83.27343533382837, 40.123403889777165], [-83.27343358234124, 40.12340147684184], [-83.2734319406326, 40.12339901905435], [-83.27343040755945, 40.123396519124086], [-83.27342898785432, 40.123393980622325], [-83.27342768154739, 40.123391406250775], [-83.27342649101496, 40.12338879869561], [-83.2734254174803, 40.12338616245191], [-83.27342446212661, 40.12338349841253], [-83.27342362501405, 40.123380811980645], [-83.27342290967195, 40.12337810403382], [-83.27342231381446, 40.12337537999061], [-83.27342184097083, 40.123372640728576], [-83.27342149002821, 40.12336989165865], [-83.27342126100669, 40.12336713458189], [-83.27342115511956, 40.12336437309289], [-83.27342117357003, 40.12336160988546], [-83.2734213140621, 40.12335884947789], [-83.27342157779896, 40.12335609456401], [-83.27342196363767, 40.123353347853254], [-83.27342247161843, 40.12335061294772], [-83.27342310177133, 40.12334789254918], [-83.27342385297345, 40.123345191168006], [-83.27342472289878, 40.12334251062074], [-83.27342571276057, 40.123339854501864], [-83.27342682024265, 40.12333722552845], [-83.27342804421218, 40.12333462731042], [-83.27342938235314, 40.12333206256481], [-83.27343083470564, 40.123329534893855], [-83.27343239895366, 40.12332704701457], [-83.27343407278114, 40.123324601644114], [-83.27343585504507, 40.12332220149179], [-83.27343774225638, 40.12331984928237], [-83.27343973327203, 40.123317547725215], [-83.27375796459395, 40.12307672739244], [-83.27406872308194, 40.12289896687782], [-83.27424681686756, 40.12285061123007], [-83.27480372238678, 40.122573994744116], [-83.27481348145038, 40.122568177314264], [-83.2748229748952, 40.12256210675962], [-83.2748321934169, 40.122555790346446], [-83.27484112420235, 40.12254923626478], [-83.27484975912047, 40.12254245177327], [-83.27485808653107, 40.12253544505412], [-83.27486609595695, 40.122528223381345], [-83.27487378046038, 40.122520795806956], [-83.27488112957424, 40.12251317050541], [-83.27488813519771, 40.12250535743705], [-83.27489478803693, 40.12249736476861], [-83.27490108233727, 40.12248920244489], [-83.27490700882487, 40.12248088043377], [-83.27491256055197, 40.12247240688671], [-83.2749177329472, 40.1224637926412], [-83.27492251908285, 40.12245504764972], [-83.27492691204138, 40.1224461827653], [-83.27493090841445, 40.122437207917216], [-83.27493450244756, 40.12242813305015], [-83.27493769074232, 40.122418968994], [-83.2749404687274, 40.122409726586234], [-83.27494283417761, 40.12240041664893], [-83.27494478253163, 40.122391050920236], [-83.2749463138903, 40.122381638405614], [-83.27494742487548, 40.12237219173592], [-83.27494811560805, 40.12236272171782], [-83.27494838386293, 40.12235323917334], [-83.27494822858793, 40.12234375491676], [-83.27517494090421, 40.12229866638566], [-83.27535726875242, 40.12210564769776], [-83.27582430822329, 40.12175485773005], [-83.2759221460168, 40.1215987110196], [-83.27600238543839, 40.12126062899055], [-83.2760923142686, 40.11980978257239], [-83.2761166976216, 40.11976189618321], [-83.27613892137717, 40.11971339361062], [-83.2761589603777, 40.11966433266123], [-83.27617678947611, 40.11961477204232], [-83.27619238704449, 40.11956477043768], [-83.27620573614728, 40.119514386500015], [-83.27621682102202, 40.1194636788743], [-83.27622562829289, 40.11941270979194], [-83.27623214571689, 40.11936153787436], [-83.27623636811946, 40.11931022439808], [-83.27623829031603, 40.11925882973887], [-83.27623790830512, 40.11920741516523], [-83.2762352239303, 40.11915604010565], [-83.27630622989946, 40.11915731675121], [-83.27630764729045, 40.119146968316265], [-83.27630952620171, 40.119136663666374], [-83.27631186323495, 40.11912641363138], [-83.2763146585413, 40.11911623171952], [-83.27631790638642, 40.119106129676624], [-83.27632160337211, 40.11909611833248], [-83.27632574613037, 40.119086211218594], [-83.27633032890695, 40.11907641827958], [-83.27633534715058, 40.11906675215415], [-83.27634079394413, 40.119057223695286], [-83.27634666237027, 40.11904784375602], [-83.27635294787805, 40.119038624974934], [-83.27635964001095, 40.11902957642719], [-83.27636673420795, 40.119020709850844], [-83.2763742188395, 40.11901203432874], [-83.27638208818169, 40.119003562507224], [-83.2763903305849, 40.1189953016682], [-83.27639893679603, 40.11898726358056], [-83.27640789752168, 40.11897945641118], [-83.27641720231561, 40.118971890135704], [-83.27642683953837, 40.11896457293656], [-83.27644384359951, 40.1189521005972], [-83.27646139708682, 40.11894008484232], [-83.27647948021038, 40.11892853931176], [-83.27649806850835, 40.118917479477204], [-83.27651714217072, 40.1189069171773], [-83.27653667787872, 40.1188968651744], [-83.27655665347626, 40.11888733532259], [-83.27657704445143, 40.11887833859106], [-83.27659782629222, 40.11886988594878], [-83.27661897447662, 40.11886198746437], [-83.27664046448271, 40.11885465320627], [-83.2766622705853, 40.118847890549254], [-83.27668436590639, 40.1188417086768], [-83.27670672705669, 40.118836114047596], [-83.27672932478214, 40.118831113158976], [-83.2767521333475, 40.1188267124852], [-83.27677512583452, 40.11882291760765], [-83.27679827530487, 40.11881973230667], [-83.27682155247413, 40.118817160378065], [-83.2768449327399, 40.11881520468614], [-83.27690712347179, 40.11883248011938], [-83.27696850199513, 40.11885139010205], [-83.27702899532446, 40.118871911701696], [-83.27708853279967, 40.11889402016935], [-83.27714704376042, 40.11891769075624], [-83.27720445748552, 40.118942893310184], [-83.27726070679272, 40.118969599457294], [-83.27731572328577, 40.11899777722903], [-83.2773694444133, 40.11902739281713], [-83.27742180526718, 40.11905841152855], [-83.27757950852447, 40.119193088116894], [-83.27760156026311, 40.119624353826055], [-83.27766909871212, 40.119806243288494], [-83.27771097390436, 40.11983863170164], [-83.27775427011487, 40.11986989934031], [-83.27779893766196, 40.11990000960643], [-83.27784492335462, 40.1199289268256], [-83.27789217283866, 40.119956616231875], [-83.2779406306168, 40.11998304576875], [-83.2779902400386, 40.120008185188546], [-83.27804094328032, 40.12003200425151], [-83.27809268020218, 40.120054475435104], [-83.27814539066408, 40.120075571216844], [-83.27819901104702, 40.12009526769973], [-83.27825348008788, 40.12011354187209], [-83.27830873184136, 40.12013037165379], [-83.2785852155795, 40.12014665634207], [-83.27899161845882, 40.120010618627234], [-83.27909887287328, 40.119937177877816], [-83.27920296169478, 40.11986110118471], [-83.27930377790395, 40.11978246942022], [-83.27940121214712, 40.119701364372844], [-83.27949516333423, 40.11961787227941], [-83.27958553274308, 40.119532081162376], [-83.28030490612188, 40.11848730703865], [-83.28045454084881, 40.11812934895574], [-83.28046242562759, 40.11809509928471], [-83.2804688020668, 40.118060664190054], [-83.28047366241374, 40.118026084251284], [-83.28047700123143, 40.117991397330606], [-83.28047881429632, 40.11795664488458], [-83.28047909969047, 40.11792186475198], [-83.2804778578622, 40.11788709655702], [-83.28047508926994, 40.11785238082435], [-83.28047079787085, 40.11781775625421], [-83.28046498763209, 40.11778326244727], [-83.28045766603992, 40.11774893898079], [-83.2804488417433, 40.117714824523716], [-83.28043852339117, 40.117680957744795], [-83.28042672315138, 40.117647377289465], [-83.28040158593458, 40.11758959389524], [-83.28037385945962, 40.11753251214773], [-83.28034357736628, 40.11747620207015], [-83.28031077558936, 40.11742072916726], [-83.28027549361231, 40.117366161621824], [-83.2802377732137, 40.117312563098494], [-83.28019765972093, 40.117259999939854], [-83.2801552019191, 40.11720853306192], [-83.28011044977575, 40.11715822427332], [-83.28006345795004, 40.11710913535149], [-83.28005788155288, 40.11709707344865], [-83.28005285842902, 40.117084870080625], [-83.28004839343214, 40.11707253962519], [-83.28004449141604, 40.117060096460094], [-83.2800411595905, 40.117047555848025], [-83.2800383993106, 40.11703493399122], [-83.28003621426718, 40.117022246175644], [-83.28003460932406, 40.11700950767959], [-83.28003358347013, 40.116996732919766], [-83.28003314041638, 40.11698393898313], [-83.28003327916174, 40.11697114118695], [-83.28003399987817, 40.11695835484053], [-83.28003530273746, 40.11694559525327], [-83.2800371855758, 40.116932878650566], [-83.28003964503593, 40.11692021946452], [-83.28004267896412, 40.116907634821196], [-83.28004628400315, 40.11689513915264], [-83.28005045446007, 40.11688274780714], [-83.28005518698795, 40.11687047611723], [-83.28006047471061, 40.116858338538414], [-83.28006631075205, 40.11684634952611], [-83.28007268942957, 40.11683452532907], [-83.28007960267375, 40.11682287860934], [-83.28019746398998, 40.11665917219095], [-83.28030555501894, 40.11644465637749], [-83.28065193261553, 40.11617039136492], [-83.2806722048825, 40.11615972044396], [-83.28069294068399, 40.11614958681258], [-83.28071411316375, 40.11614000145625], [-83.28073569899442, 40.11613097623772], [-83.28075767364567, 40.11612252032582], [-83.28078001026113, 40.11611464470602], [-83.2808026843104, 40.11610735854731], [-83.28082566772387, 40.116100669240794], [-83.28084893597116, 40.11609458595538], [-83.28087245979967, 40.116089115189496], [-83.28089621229246, 40.116084262525426], [-83.280920167716, 40.11608003443831], [-83.28094429680745, 40.11607643652612], [-83.28096857026361, 40.11607347078456], [-83.28099296234068, 40.116071142788286], [-83.28101744373556, 40.11606945453309], [-83.28104198514498, 40.11606840801483], [-83.28106655960156, 40.1160680043132], [-83.28124925363066, 40.11598525044242], [-83.28163550618031, 40.11591190839348], [-83.28221232973247, 40.111858170296955], [-83.28329487228501, 40.11199057293285], [-83.2843823059426, 40.1120967555825], [-83.28547355501512, 40.11217661271381], [-83.28552898510337, 40.111987262633505], [-83.28561311096732, 40.11137549118927], [-83.28570851105543, 40.11137980982123], [-83.28573934754397, 40.1111234988951], [-83.28491916068464, 40.111065065631344], [-83.28496441580522, 40.11068586446546], [-83.2857815911017, 40.11074909170742], [-83.28591016070051, 40.10953138589302], [-83.28597915422074, 40.10929105873414], [-83.28602441868155, 40.10920326170741], [-83.28606759557843, 40.10914260982286], [-83.2860697329373, 40.109142633358864], [-83.2922073170239, 40.10920899021096], [-83.29192596042246, 40.1106150297789], [-83.29169040283523, 40.11138955052768], [-83.29127830266621, 40.11227981317394], [-83.29118530224092, 40.11248071984989], [-83.28887312624269, 40.114822087041645], [-83.28837732274762, 40.11533759176095], [-83.28884087182082, 40.11563251652835], [-83.28913122149879, 40.115851491886524], [-83.28961110806351, 40.11628987429481], [-83.29043436737234, 40.117206224342084], [-83.29115829114524, 40.11821714790013], [-83.29167521933843, 40.11876586834358], [-83.29193782851324, 40.11908961217679], [-83.29202078840332, 40.11943131164084], [-83.29202397861447, 40.119707416858276], [-83.29193227378826, 40.119846085676], [-83.29171761658982, 40.119957882895704], [-83.29141883508444, 40.12046249094416], [-83.2912039780683, 40.120933290778815], [-83.29111411504554, 40.12126492530697], [-83.29085510977023, 40.122492481750264], [-83.290857852877, 40.122729886544356], [-83.29087483557929, 40.122961703591805], [-83.29097393884159, 40.12343008796045], [-83.29106931105211, 40.123606202284726], [-83.29134372896303, 40.12368174052748], [-83.29132384187984, 40.12384740220436], [-83.29135548634804, 40.12407909341289], [-83.29168557211499, 40.12510276151141], [-83.29193997019637, 40.12533177196757], [-83.29093319719712, 40.12578316868614], [-83.29147082731821, 40.134427322195585], [-83.2882394007101, 40.13602310216911], [-83.28920753046185, 40.136821116469115], [-83.29013493048198, 40.13758553333328], [-83.29153625218775, 40.138740536749594], [-83.28521799284252, 40.141948259309046], [-83.29139992580537, 40.14942863612884], [-83.28683427570812, 40.15168315282812], [-83.29489111182703, 40.16147778453901], [-83.29385347838023, 40.16199866454002], [-83.31031402281322, 40.18057717538491], [-83.30731811209611, 40.182026761811485], [-83.30202287066021, 40.184577307517735], [-83.29988840646801, 40.18560118740243], [-83.2995921318056, 40.18567463098522], [-83.28366811133874, 40.18711801149256], [-83.26464819207901, 40.18864520813175], [-83.26231118784993, 40.18881628211339], [-83.2611409673796, 40.18891439807525], [-83.25703434239672, 40.18921025155341], [-83.25550162978196, 40.1893182429888], [-83.24879351026708, 40.189928312152425], [-83.24363209136794, 40.18380544823475], [-83.24039793803138, 40.18548054567257], [-83.2387538797339, 40.18365142292699], [-83.22754060743071, 40.16929822391524], [-83.21884415632114, 40.17388667341614], [-83.21886345946314, 40.17399980673689], [-83.2206084668187, 40.19016280861291], [-83.2062043783818, 40.19202722472998], [-83.20096993317293, 40.192715929771744], [-83.20145145497337, 40.19551113497949], [-83.20137384119761, 40.19550922884901], [-83.197407472281, 40.195831443158355], [-83.18219191800506, 40.197210508903446], [-83.17143882938032, 40.19808305081405], [-83.17147183309184, 40.20017125538426], [-83.17147183471148, 40.20017130130452], [-83.17172909656311, 40.21644467588906], [-83.17180879642626, 40.22237469266293], [-83.17250327374379, 40.24429109202378], [-83.17743429194242, 40.2442565554607], [-83.19268317021204, 40.244327338960346], [-83.20587380708105, 40.24433185935627], [-83.22826537593288, 40.24439153768908], [-83.23553506764092, 40.24436284104016], [-83.23919363070992, 40.24439799910039], [-83.24728317660207, 40.24440499472143], [-83.24864922122919, 40.24440612032138], [-83.24879452991033, 40.25042122598917], [-83.24892002794645, 40.2641835619726], [-83.24935113804027, 40.28226747039267], [-83.249544315902, 40.31572142221068], [-83.24964808607416, 40.32519778635633], [-83.24958297503542, 40.32787461021487], [-83.24953182970206, 40.32827118054173], [-83.24956213991915, 40.33410842455273], [-83.24957625671547, 40.33933187626858], [-83.24972548904782, 40.34927482355786], [-83.24975283019351, 40.35292845483333], [-83.24954868287651, 40.36277263031954], [-83.249555514419, 40.3668778591927], [-83.24958410276372, 40.37499822573132], [-83.24944603384266, 40.381731727484265], [-83.24947737999757, 40.40264433100461], [-83.24937019178591, 40.40954914817835], [-83.2491612612146, 40.4187282844656], [-83.24915094923087, 40.41916451336509], [-83.24869404065622, 40.438332560354006], [-83.24866120463602, 40.43962343333951], [-83.24842939584147, 40.44391201957677], [-83.22814464551548, 40.44276327415769], [-83.20707485942937, 40.441526989467164], [-83.1941233818995, 40.44069014313918], [-83.19187565177333, 40.440503015648396], [-83.19138148219069, 40.44046185585554], [-83.18355540503715, 40.43995276271086], [-83.1603807711132, 40.438870504470586], [-83.1414217193033, 40.438144905947325], [-83.13706406596783, 40.4380895939687], [-83.11368870441112, 40.436990156650715], [-83.09211540578112, 40.436372082351205], [-83.07491218728524, 40.43566057868225], [-83.07245635696417, 40.435565980001996], [-83.07169347678001, 40.43553360879934], [-83.05634546788536, 40.43504500071009], [-83.05573658295289, 40.43503416932177], [-83.05365181904267, 40.43495790957629], [-83.05190184646396, 40.43488372849524], [-83.0500845113309, 40.43480774958587], [-83.03943708203889, 40.434423120184775], [-83.02096388884563, 40.43379576743002], [-83.02220094994385, 40.41874556195889], [-83.00985966584624, 40.418183478608256], [-83.00269092527, 40.41779464969209], [-83.00049816916878, 40.41767561825448], [-82.97796726345803, 40.416586423645775]], [[-82.67180170964525, 40.01324469164653], [-82.66972197647557, 40.01315480496195], [-82.66952680456959, 40.01558617333022], [-82.67045252365655, 40.01565833939522], [-82.67042938547107, 40.01593507750766], [-82.67069592735632, 40.01632316479976], [-82.67155487435639, 40.0163548632877], [-82.6716564495234, 40.015055411139414], [-82.67180170964525, 40.01324469164653]]], &quot;type&quot;: &quot;Polygon&quot;}, &quot;id&quot;: &quot;0&quot;, &quot;properties&quot;: {&quot;ACRES&quot;: 755258.798318588, &quot;NAME&quot;: &quot;MORPC MPO&quot;, &quot;OBJECTID&quot;: 1, &quot;SQMILES&quot;: 1180.09187237279, &quot;Shape__Are&quot;: 32921741008.4999, &quot;Shape__Len&quot;: 1099152.69724298, &quot;Source&quot;: &quot;MORPC&quot;, &quot;fid&quot;: 0}, &quot;type&quot;: &quot;Feature&quot;}], &quot;type&quot;: &quot;FeatureCollection&quot;});\n",
       "\n",
       "        \n",
       "    \n",
       "    geo_json_60a254c5519acd971fab982db0a7fbf5.bindTooltip(\n",
       "    function(layer){\n",
       "    let div = L.DomUtil.create(&#x27;div&#x27;);\n",
       "    \n",
       "    let handleObject = feature=&gt;typeof(feature)==&#x27;object&#x27; ? JSON.stringify(feature) : feature;\n",
       "    let fields = [&quot;fid&quot;, &quot;OBJECTID&quot;, &quot;ACRES&quot;, &quot;SQMILES&quot;, &quot;NAME&quot;, &quot;Source&quot;, &quot;Shape__Are&quot;, &quot;Shape__Len&quot;];\n",
       "    let aliases = [&quot;fid&quot;, &quot;OBJECTID&quot;, &quot;ACRES&quot;, &quot;SQMILES&quot;, &quot;NAME&quot;, &quot;Source&quot;, &quot;Shape__Are&quot;, &quot;Shape__Len&quot;];\n",
       "    let table = &#x27;&lt;table&gt;&#x27; +\n",
       "        String(\n",
       "        fields.map(\n",
       "        (v,i)=&gt;\n",
       "        `&lt;tr&gt;\n",
       "            &lt;th&gt;${aliases[i]}&lt;/th&gt;\n",
       "            \n",
       "            &lt;td&gt;${handleObject(layer.feature.properties[v])}&lt;/td&gt;\n",
       "        &lt;/tr&gt;`).join(&#x27;&#x27;))\n",
       "    +&#x27;&lt;/table&gt;&#x27;;\n",
       "    div.innerHTML=table;\n",
       "    \n",
       "    return div\n",
       "    }\n",
       "    ,{\n",
       "  &quot;sticky&quot;: true,\n",
       "  &quot;className&quot;: &quot;foliumtooltip&quot;,\n",
       "});\n",
       "                     \n",
       "    \n",
       "            geo_json_60a254c5519acd971fab982db0a7fbf5.addTo(map_1b9f34b26b5586bda8581c05a23f846b);\n",
       "        \n",
       "&lt;/script&gt;\n",
       "&lt;/html&gt;\" style=\"position:absolute;width:100%;height:100%;left:0;top:0;border:none !important;\" allowfullscreen webkitallowfullscreen mozallowfullscreen></iframe></div></div>"
      ],
      "text/plain": [
       "<folium.folium.Map at 0x2bc9da35c10>"
      ]
     },
     "execution_count": 62,
     "metadata": {},
     "output_type": "execute_result"
    }
   ],
   "source": [
    "gdfArchive.drop(columns=\"Updated\").explore()"
   ]
  },
  {
   "cell_type": "markdown",
   "id": "c935a544-5b00-42ab-87fa-f49ca67b992b",
   "metadata": {
    "jp-MarkdownHeadingCollapsed": true,
    "tags": []
   },
   "source": [
    "# Assign geographic identifiers"
   ]
  },
  {
   "cell_type": "markdown",
   "id": "9a89c28b-23a4-4b3f-99c1-93a84d8dd104",
   "metadata": {},
   "source": [
    "Sometimes we have a set of locations and we would like to know what geography (county, zipcode, etc.) they fall in. The `assign_geo_identifiers()` function takes a set of georeference points and a list of geography levels and determines for each level which area each point falls in.  The function takes two parameters:\n",
    "  - `points` - a GeoPandas GeoDataFrame consisting of the points of interest\n",
    "  - `geographies` - A Python list of one or more strings in which each element corresponds to a geography level. You can specify as many levels as you want from the following list, however note that the function must download the polygons and perform the analysis for each level so if you specify many levels it may take a long time.\n",
    "    - \"county\" - County (Census TIGER)\n",
    "    - \"tract\" - *Not currently implemented*\n",
    "    - \"blockgroup\" - *Not currently implemented*\n",
    "    - \"block\" - *Not currently implemented*\n",
    "    - \"zcta\" - *Not currently implemented*\n",
    "    - \"place\" - Census place (Census TIGER)\n",
    "    - \"placecombo\" - *Not currently implemented*\n",
    "    - \"juris\" - *Not currently implemented*\n",
    "    - \"region15County\" - *Not currently implemented*\n",
    "    - \"region10County\" - *Not currently implemented*\n",
    "    - \"regionCORPO\" - *Not currently implemented*\n",
    "    - \"regionMPO\" - *Not currently implemented*\n",
    "\n",
    "**NOTE:** Many of the geography levels are not currently implemented.  They are being implemented as they are needed.  If you need one that has not yet been implemented, please contact Adam Porr (or implement it yourself)."
   ]
  },
  {
   "cell_type": "markdown",
   "id": "beb332fc-f66e-4909-909d-31ba181ffd11",
   "metadata": {},
   "source": [
    "In the following example, we will assign labels for the \"county\" and \"place\" geography levels to libraries in MORPC's Points of Interest layer.  First we'll download just the library locations from Mid-Ohio Open Data using the ArcGIS REST API."
   ]
  },
  {
   "cell_type": "code",
   "execution_count": 63,
   "id": "2f087cb0-52e6-4de0-a7aa-b61b2a003cb1",
   "metadata": {
    "tags": []
   },
   "outputs": [],
   "source": [
    "url = \"https://services1.arcgis.com/EjjnBtwS9ivTGI8x/arcgis/rest/services/Points_of_Interest/FeatureServer/0/query?outFields=*&where=%22type%22=%27Library%27&f=geojson\"\n",
    "librariesRaw = gpd.read_file(url)"
   ]
  },
  {
   "cell_type": "markdown",
   "id": "f7e664bb-4a22-46e1-b23d-ee525f91ef49",
   "metadata": {},
   "source": [
    "The data incudes a bunch of fields that we don't need.  For clarity, extract only the relevant fields."
   ]
  },
  {
   "cell_type": "code",
   "execution_count": 64,
   "id": "812942d9-b4a0-4cc8-975a-4b88db233a63",
   "metadata": {
    "tags": []
   },
   "outputs": [],
   "source": [
    "libraries = librariesRaw.copy().filter(items=['NAME', 'ADDRESS','geometry'], axis=\"columns\")"
   ]
  },
  {
   "cell_type": "code",
   "execution_count": 65,
   "id": "3dfc5ac5-da09-46c9-aec0-ca839d1b2d97",
   "metadata": {
    "tags": []
   },
   "outputs": [
    {
     "data": {
      "text/html": [
       "<div>\n",
       "<style scoped>\n",
       "    .dataframe tbody tr th:only-of-type {\n",
       "        vertical-align: middle;\n",
       "    }\n",
       "\n",
       "    .dataframe tbody tr th {\n",
       "        vertical-align: top;\n",
       "    }\n",
       "\n",
       "    .dataframe thead th {\n",
       "        text-align: right;\n",
       "    }\n",
       "</style>\n",
       "<table border=\"1\" class=\"dataframe\">\n",
       "  <thead>\n",
       "    <tr style=\"text-align: right;\">\n",
       "      <th></th>\n",
       "      <th>NAME</th>\n",
       "      <th>ADDRESS</th>\n",
       "      <th>geometry</th>\n",
       "    </tr>\n",
       "  </thead>\n",
       "  <tbody>\n",
       "    <tr>\n",
       "      <th>0</th>\n",
       "      <td>Fairfield County District Library Northwest Br...</td>\n",
       "      <td>2855 Helena Dr NW</td>\n",
       "      <td>POINT (-82.68429 39.76979)</td>\n",
       "    </tr>\n",
       "    <tr>\n",
       "      <th>1</th>\n",
       "      <td>Marysville School District Public Library Raym...</td>\n",
       "      <td>21698 Main St</td>\n",
       "      <td>POINT (-83.46767 40.33515)</td>\n",
       "    </tr>\n",
       "    <tr>\n",
       "      <th>2</th>\n",
       "      <td>Richwood-North Union Public Library</td>\n",
       "      <td>4 E. Ottawa St</td>\n",
       "      <td>POINT (-83.29605 40.42629)</td>\n",
       "    </tr>\n",
       "    <tr>\n",
       "      <th>3</th>\n",
       "      <td>Marysville School District Public Library</td>\n",
       "      <td>231 S. Plum St</td>\n",
       "      <td>POINT (-83.36611 40.23504)</td>\n",
       "    </tr>\n",
       "    <tr>\n",
       "      <th>4</th>\n",
       "      <td>Pickaway Co. District Public Library</td>\n",
       "      <td>1160 N. Court St</td>\n",
       "      <td>POINT (-82.93864 39.61947)</td>\n",
       "    </tr>\n",
       "  </tbody>\n",
       "</table>\n",
       "</div>"
      ],
      "text/plain": [
       "                                                NAME            ADDRESS  \\\n",
       "0  Fairfield County District Library Northwest Br...  2855 Helena Dr NW   \n",
       "1  Marysville School District Public Library Raym...      21698 Main St   \n",
       "2                Richwood-North Union Public Library     4 E. Ottawa St   \n",
       "3          Marysville School District Public Library     231 S. Plum St   \n",
       "4               Pickaway Co. District Public Library   1160 N. Court St   \n",
       "\n",
       "                     geometry  \n",
       "0  POINT (-82.68429 39.76979)  \n",
       "1  POINT (-83.46767 40.33515)  \n",
       "2  POINT (-83.29605 40.42629)  \n",
       "3  POINT (-83.36611 40.23504)  \n",
       "4  POINT (-82.93864 39.61947)  "
      ]
     },
     "execution_count": 65,
     "metadata": {},
     "output_type": "execute_result"
    }
   ],
   "source": [
    "libraries.head()"
   ]
  },
  {
   "cell_type": "markdown",
   "id": "34a8f5be-40bf-4430-8fc9-5fb8c0e4e7e5",
   "metadata": {},
   "source": [
    "Let's take a look at the library locations."
   ]
  },
  {
   "cell_type": "code",
   "execution_count": 66,
   "id": "a0f40998-c67d-4686-8383-8779a8226a5a",
   "metadata": {
    "tags": []
   },
   "outputs": [
    {
     "data": {
      "text/html": [
       "<div style=\"width:100%;\"><div style=\"position:relative;width:100%;height:0;padding-bottom:60%;\"><span style=\"color:#565656\">Make this Notebook Trusted to load map: File -> Trust Notebook</span><iframe srcdoc=\"&lt;!DOCTYPE html&gt;\n",
       "&lt;html&gt;\n",
       "&lt;head&gt;\n",
       "    \n",
       "    &lt;meta http-equiv=&quot;content-type&quot; content=&quot;text/html; charset=UTF-8&quot; /&gt;\n",
       "    \n",
       "        &lt;script&gt;\n",
       "            L_NO_TOUCH = false;\n",
       "            L_DISABLE_3D = false;\n",
       "        &lt;/script&gt;\n",
       "    \n",
       "    &lt;style&gt;html, body {width: 100%;height: 100%;margin: 0;padding: 0;}&lt;/style&gt;\n",
       "    &lt;style&gt;#map {position:absolute;top:0;bottom:0;right:0;left:0;}&lt;/style&gt;\n",
       "    &lt;script src=&quot;https://cdn.jsdelivr.net/npm/leaflet@1.9.3/dist/leaflet.js&quot;&gt;&lt;/script&gt;\n",
       "    &lt;script src=&quot;https://code.jquery.com/jquery-3.7.1.min.js&quot;&gt;&lt;/script&gt;\n",
       "    &lt;script src=&quot;https://cdn.jsdelivr.net/npm/bootstrap@5.2.2/dist/js/bootstrap.bundle.min.js&quot;&gt;&lt;/script&gt;\n",
       "    &lt;script src=&quot;https://cdnjs.cloudflare.com/ajax/libs/Leaflet.awesome-markers/2.0.2/leaflet.awesome-markers.js&quot;&gt;&lt;/script&gt;\n",
       "    &lt;link rel=&quot;stylesheet&quot; href=&quot;https://cdn.jsdelivr.net/npm/leaflet@1.9.3/dist/leaflet.css&quot;/&gt;\n",
       "    &lt;link rel=&quot;stylesheet&quot; href=&quot;https://cdn.jsdelivr.net/npm/bootstrap@5.2.2/dist/css/bootstrap.min.css&quot;/&gt;\n",
       "    &lt;link rel=&quot;stylesheet&quot; href=&quot;https://netdna.bootstrapcdn.com/bootstrap/3.0.0/css/bootstrap-glyphicons.css&quot;/&gt;\n",
       "    &lt;link rel=&quot;stylesheet&quot; href=&quot;https://cdn.jsdelivr.net/npm/@fortawesome/fontawesome-free@6.2.0/css/all.min.css&quot;/&gt;\n",
       "    &lt;link rel=&quot;stylesheet&quot; href=&quot;https://cdnjs.cloudflare.com/ajax/libs/Leaflet.awesome-markers/2.0.2/leaflet.awesome-markers.css&quot;/&gt;\n",
       "    &lt;link rel=&quot;stylesheet&quot; href=&quot;https://cdn.jsdelivr.net/gh/python-visualization/folium/folium/templates/leaflet.awesome.rotate.min.css&quot;/&gt;\n",
       "    \n",
       "            &lt;meta name=&quot;viewport&quot; content=&quot;width=device-width,\n",
       "                initial-scale=1.0, maximum-scale=1.0, user-scalable=no&quot; /&gt;\n",
       "            &lt;style&gt;\n",
       "                #map_fb5e5ae768628336a784b68d8db5faa0 {\n",
       "                    position: relative;\n",
       "                    width: 100.0%;\n",
       "                    height: 100.0%;\n",
       "                    left: 0.0%;\n",
       "                    top: 0.0%;\n",
       "                }\n",
       "                .leaflet-container { font-size: 1rem; }\n",
       "            &lt;/style&gt;\n",
       "        \n",
       "    \n",
       "                    &lt;style&gt;\n",
       "                        .foliumtooltip {\n",
       "                            \n",
       "                        }\n",
       "                       .foliumtooltip table{\n",
       "                            margin: auto;\n",
       "                        }\n",
       "                        .foliumtooltip tr{\n",
       "                            text-align: left;\n",
       "                        }\n",
       "                        .foliumtooltip th{\n",
       "                            padding: 2px; padding-right: 8px;\n",
       "                        }\n",
       "                    &lt;/style&gt;\n",
       "            \n",
       "&lt;/head&gt;\n",
       "&lt;body&gt;\n",
       "    \n",
       "    \n",
       "            &lt;div class=&quot;folium-map&quot; id=&quot;map_fb5e5ae768628336a784b68d8db5faa0&quot; &gt;&lt;/div&gt;\n",
       "        \n",
       "&lt;/body&gt;\n",
       "&lt;script&gt;\n",
       "    \n",
       "    \n",
       "            var map_fb5e5ae768628336a784b68d8db5faa0 = L.map(\n",
       "                &quot;map_fb5e5ae768628336a784b68d8db5faa0&quot;,\n",
       "                {\n",
       "                    center: [39.98345478761455, -83.00588763104406],\n",
       "                    crs: L.CRS.EPSG3857,\n",
       "                    ...{\n",
       "  &quot;zoom&quot;: 10,\n",
       "  &quot;zoomControl&quot;: true,\n",
       "  &quot;preferCanvas&quot;: false,\n",
       "}\n",
       "\n",
       "                }\n",
       "            );\n",
       "            L.control.scale().addTo(map_fb5e5ae768628336a784b68d8db5faa0);\n",
       "\n",
       "            \n",
       "\n",
       "        \n",
       "    \n",
       "            var tile_layer_3490c3c7c7524fdd9234c9d13baac224 = L.tileLayer(\n",
       "                &quot;https://tile.openstreetmap.org/{z}/{x}/{y}.png&quot;,\n",
       "                {\n",
       "  &quot;minZoom&quot;: 0,\n",
       "  &quot;maxZoom&quot;: 19,\n",
       "  &quot;maxNativeZoom&quot;: 19,\n",
       "  &quot;noWrap&quot;: false,\n",
       "  &quot;attribution&quot;: &quot;\\u0026copy; \\u003ca href=\\&quot;https://www.openstreetmap.org/copyright\\&quot;\\u003eOpenStreetMap\\u003c/a\\u003e contributors&quot;,\n",
       "  &quot;subdomains&quot;: &quot;abc&quot;,\n",
       "  &quot;detectRetina&quot;: false,\n",
       "  &quot;tms&quot;: false,\n",
       "  &quot;opacity&quot;: 1,\n",
       "}\n",
       "\n",
       "            );\n",
       "        \n",
       "    \n",
       "            tile_layer_3490c3c7c7524fdd9234c9d13baac224.addTo(map_fb5e5ae768628336a784b68d8db5faa0);\n",
       "        \n",
       "    \n",
       "            map_fb5e5ae768628336a784b68d8db5faa0.fitBounds(\n",
       "                [[39.3298618160501, -83.9241912264021], [40.637047759179, -82.087584035686]],\n",
       "                {}\n",
       "            );\n",
       "        \n",
       "    \n",
       "        function geo_json_46d3875fe4218c0d5eb61558adb5f43e_styler(feature) {\n",
       "            switch(feature.id) {\n",
       "                default:\n",
       "                    return {&quot;fillOpacity&quot;: 0.5, &quot;radius&quot;: 4, &quot;weight&quot;: 2};\n",
       "            }\n",
       "        }\n",
       "        function geo_json_46d3875fe4218c0d5eb61558adb5f43e_highlighter(feature) {\n",
       "            switch(feature.id) {\n",
       "                default:\n",
       "                    return {&quot;fillOpacity&quot;: 0.75};\n",
       "            }\n",
       "        }\n",
       "        function geo_json_46d3875fe4218c0d5eb61558adb5f43e_pointToLayer(feature, latlng) {\n",
       "            var opts = {&quot;bubblingMouseEvents&quot;: true, &quot;color&quot;: &quot;#3388ff&quot;, &quot;dashArray&quot;: null, &quot;dashOffset&quot;: null, &quot;fill&quot;: true, &quot;fillColor&quot;: &quot;#3388ff&quot;, &quot;fillOpacity&quot;: 0.2, &quot;fillRule&quot;: &quot;evenodd&quot;, &quot;lineCap&quot;: &quot;round&quot;, &quot;lineJoin&quot;: &quot;round&quot;, &quot;opacity&quot;: 1.0, &quot;radius&quot;: 2, &quot;stroke&quot;: true, &quot;weight&quot;: 3};\n",
       "            \n",
       "            let style = geo_json_46d3875fe4218c0d5eb61558adb5f43e_styler(feature)\n",
       "            Object.assign(opts, style)\n",
       "            \n",
       "            return new L.CircleMarker(latlng, opts)\n",
       "        }\n",
       "\n",
       "        function geo_json_46d3875fe4218c0d5eb61558adb5f43e_onEachFeature(feature, layer) {\n",
       "            layer.on({\n",
       "                mouseout: function(e) {\n",
       "                    if(typeof e.target.setStyle === &quot;function&quot;){\n",
       "                            geo_json_46d3875fe4218c0d5eb61558adb5f43e.resetStyle(e.target);\n",
       "                    }\n",
       "                },\n",
       "                mouseover: function(e) {\n",
       "                    if(typeof e.target.setStyle === &quot;function&quot;){\n",
       "                        const highlightStyle = geo_json_46d3875fe4218c0d5eb61558adb5f43e_highlighter(e.target.feature)\n",
       "                        e.target.setStyle(highlightStyle);\n",
       "                    }\n",
       "                },\n",
       "            });\n",
       "        };\n",
       "        var geo_json_46d3875fe4218c0d5eb61558adb5f43e = L.geoJson(null, {\n",
       "                onEachFeature: geo_json_46d3875fe4218c0d5eb61558adb5f43e_onEachFeature,\n",
       "            \n",
       "                style: geo_json_46d3875fe4218c0d5eb61558adb5f43e_styler,\n",
       "                pointToLayer: geo_json_46d3875fe4218c0d5eb61558adb5f43e_pointToLayer,\n",
       "            ...{\n",
       "}\n",
       "        });\n",
       "\n",
       "        function geo_json_46d3875fe4218c0d5eb61558adb5f43e_add (data) {\n",
       "            geo_json_46d3875fe4218c0d5eb61558adb5f43e\n",
       "                .addData(data);\n",
       "        }\n",
       "            geo_json_46d3875fe4218c0d5eb61558adb5f43e_add({&quot;bbox&quot;: [-83.9241912264021, 39.3298618160501, -82.087584035686, 40.637047759179], &quot;features&quot;: [{&quot;bbox&quot;: [-82.6842851520357, 39.7697907908279, -82.6842851520357, 39.7697907908279], &quot;geometry&quot;: {&quot;coordinates&quot;: [-82.6842851520357, 39.7697907908279], &quot;type&quot;: &quot;Point&quot;}, &quot;id&quot;: &quot;0&quot;, &quot;properties&quot;: {&quot;ADDRESS&quot;: &quot;2855 Helena Dr NW&quot;, &quot;NAME&quot;: &quot;Fairfield County District Library Northwest Branch&quot;}, &quot;type&quot;: &quot;Feature&quot;}, {&quot;bbox&quot;: [-83.4676731224247, 40.3351465051175, -83.4676731224247, 40.3351465051175], &quot;geometry&quot;: {&quot;coordinates&quot;: [-83.4676731224247, 40.3351465051175], &quot;type&quot;: &quot;Point&quot;}, &quot;id&quot;: &quot;1&quot;, &quot;properties&quot;: {&quot;ADDRESS&quot;: &quot;21698 Main St&quot;, &quot;NAME&quot;: &quot;Marysville School District Public Library Raymond Branch&quot;}, &quot;type&quot;: &quot;Feature&quot;}, {&quot;bbox&quot;: [-83.2960529998877, 40.4262948804552, -83.2960529998877, 40.4262948804552], &quot;geometry&quot;: {&quot;coordinates&quot;: [-83.2960529998877, 40.4262948804552], &quot;type&quot;: &quot;Point&quot;}, &quot;id&quot;: &quot;2&quot;, &quot;properties&quot;: {&quot;ADDRESS&quot;: &quot;4 E. Ottawa St&quot;, &quot;NAME&quot;: &quot;Richwood-North Union Public Library&quot;}, &quot;type&quot;: &quot;Feature&quot;}, {&quot;bbox&quot;: [-83.3661078207964, 40.2350394928228, -83.3661078207964, 40.2350394928228], &quot;geometry&quot;: {&quot;coordinates&quot;: [-83.3661078207964, 40.2350394928228], &quot;type&quot;: &quot;Point&quot;}, &quot;id&quot;: &quot;3&quot;, &quot;properties&quot;: {&quot;ADDRESS&quot;: &quot;231 S. Plum St&quot;, &quot;NAME&quot;: &quot;Marysville School District Public Library&quot;}, &quot;type&quot;: &quot;Feature&quot;}, {&quot;bbox&quot;: [-82.9386383383752, 39.6194687501101, -82.9386383383752, 39.6194687501101], &quot;geometry&quot;: {&quot;coordinates&quot;: [-82.9386383383752, 39.6194687501101], &quot;type&quot;: &quot;Point&quot;}, &quot;id&quot;: &quot;4&quot;, &quot;properties&quot;: {&quot;ADDRESS&quot;: &quot;1160 N. Court St&quot;, &quot;NAME&quot;: &quot;Pickaway Co. District Public Library&quot;}, &quot;type&quot;: &quot;Feature&quot;}, {&quot;bbox&quot;: [-82.953736797335, 39.7143219296381, -82.953736797335, 39.7143219296381], &quot;geometry&quot;: {&quot;coordinates&quot;: [-82.953736797335, 39.7143219296381], &quot;type&quot;: &quot;Point&quot;}, &quot;id&quot;: &quot;5&quot;, &quot;properties&quot;: {&quot;ADDRESS&quot;: &quot;51 Long St&quot;, &quot;NAME&quot;: &quot;Pickaway Co. District Public Library Floyd E. Younkin Branch&quot;}, &quot;type&quot;: &quot;Feature&quot;}, {&quot;bbox&quot;: [-83.2663829923402, 39.7186790728588, -83.2663829923402, 39.7186790728588], &quot;geometry&quot;: {&quot;coordinates&quot;: [-83.2663829923402, 39.7186790728588], &quot;type&quot;: &quot;Point&quot;}, &quot;id&quot;: &quot;6&quot;, &quot;properties&quot;: {&quot;ADDRESS&quot;: &quot;60 W. Columbus St&quot;, &quot;NAME&quot;: &quot;Mt. Sterling Public Library&quot;}, &quot;type&quot;: &quot;Feature&quot;}, {&quot;bbox&quot;: [-83.2737747193497, 39.9389331901837, -83.2737747193497, 39.9389331901837], &quot;geometry&quot;: {&quot;coordinates&quot;: [-83.2737747193497, 39.9389331901837], &quot;type&quot;: &quot;Point&quot;}, &quot;id&quot;: &quot;7&quot;, &quot;properties&quot;: {&quot;ADDRESS&quot;: &quot;270 Lilly Chapel Rd&quot;, &quot;NAME&quot;: &quot;Hurt/Battelle Memorial Library Of West Jefferson&quot;}, &quot;type&quot;: &quot;Feature&quot;}, {&quot;bbox&quot;: [-83.2695810022159, 40.1078346671016, -83.2695810022159, 40.1078346671016], &quot;geometry&quot;: {&quot;coordinates&quot;: [-83.2695810022159, 40.1078346671016], &quot;type&quot;: &quot;Point&quot;}, &quot;id&quot;: &quot;8&quot;, &quot;properties&quot;: {&quot;ADDRESS&quot;: &quot;305 W. Main St&quot;, &quot;NAME&quot;: &quot;Plain City Public Library&quot;}, &quot;type&quot;: &quot;Feature&quot;}, {&quot;bbox&quot;: [-83.4454832255098, 39.8854948989494, -83.4454832255098, 39.8854948989494], &quot;geometry&quot;: {&quot;coordinates&quot;: [-83.4454832255098, 39.8854948989494], &quot;type&quot;: &quot;Point&quot;}, &quot;id&quot;: &quot;9&quot;, &quot;properties&quot;: {&quot;ADDRESS&quot;: &quot;20 E. First St&quot;, &quot;NAME&quot;: &quot;London Public Library&quot;}, &quot;type&quot;: &quot;Feature&quot;}, {&quot;bbox&quot;: [-82.9897617211046, 39.9612137232294, -82.9897617211046, 39.9612137232294], &quot;geometry&quot;: {&quot;coordinates&quot;: [-82.9897617211046, 39.9612137232294], &quot;type&quot;: &quot;Point&quot;}, &quot;id&quot;: &quot;10&quot;, &quot;properties&quot;: {&quot;ADDRESS&quot;: &quot;96 S. Grant Ave&quot;, &quot;NAME&quot;: &quot;Columbus Metropolitan Library Main&quot;}, &quot;type&quot;: &quot;Feature&quot;}, {&quot;bbox&quot;: [-83.0067776739771, 39.9913674989808, -83.0067776739771, 39.9913674989808], &quot;geometry&quot;: {&quot;coordinates&quot;: [-83.0067776739771, 39.9913674989808], &quot;type&quot;: &quot;Point&quot;}, &quot;id&quot;: &quot;11&quot;, &quot;properties&quot;: {&quot;ADDRESS&quot;: &quot;1423 N. High St&quot;, &quot;NAME&quot;: &quot;Columbus Metropolitan Library Northside Branch&quot;}, &quot;type&quot;: &quot;Feature&quot;}, {&quot;bbox&quot;: [-82.9683518867601, 40.0126747271083, -82.9683518867601, 40.0126747271083], &quot;geometry&quot;: {&quot;coordinates&quot;: [-82.9683518867601, 40.0126747271083], &quot;type&quot;: &quot;Point&quot;}, &quot;id&quot;: &quot;12&quot;, &quot;properties&quot;: {&quot;ADDRESS&quot;: &quot;2223 Cleveland Ave&quot;, &quot;NAME&quot;: &quot;Columbus Metropolitan Library Linden Branch&quot;}, &quot;type&quot;: &quot;Feature&quot;}, {&quot;bbox&quot;: [-83.0192465142297, 40.0415453903429, -83.0192465142297, 40.0415453903429], &quot;geometry&quot;: {&quot;coordinates&quot;: [-83.0192465142297, 40.0415453903429], &quot;type&quot;: &quot;Point&quot;}, &quot;id&quot;: &quot;13&quot;, &quot;properties&quot;: {&quot;ADDRESS&quot;: &quot;3909 N. High St&quot;, &quot;NAME&quot;: &quot;Columbus Metropolitan Library Whetstone Branch&quot;}, &quot;type&quot;: &quot;Feature&quot;}, {&quot;bbox&quot;: [-82.9297234347049, 40.1230145532762, -82.9297234347049, 40.1230145532762], &quot;geometry&quot;: {&quot;coordinates&quot;: [-82.9297234347049, 40.1230145532762], &quot;type&quot;: &quot;Point&quot;}, &quot;id&quot;: &quot;14&quot;, &quot;properties&quot;: {&quot;ADDRESS&quot;: &quot;126 S. State St&quot;, &quot;NAME&quot;: &quot;Westerville Public Library&quot;}, &quot;type&quot;: &quot;Feature&quot;}, {&quot;bbox&quot;: [-82.9408605736896, 39.9859677811109, -82.9408605736896, 39.9859677811109], &quot;geometry&quot;: {&quot;coordinates&quot;: [-82.9408605736896, 39.9859677811109], &quot;type&quot;: &quot;Point&quot;}, &quot;id&quot;: &quot;15&quot;, &quot;properties&quot;: {&quot;ADDRESS&quot;: &quot;850 N Nelson Rd&quot;, &quot;NAME&quot;: &quot;Columbus Metropolitan Library Shepard Branch&quot;}, &quot;type&quot;: &quot;Feature&quot;}, {&quot;bbox&quot;: [-82.9045367295948, 39.9468452385911, -82.9045367295948, 39.9468452385911], &quot;geometry&quot;: {&quot;coordinates&quot;: [-82.9045367295948, 39.9468452385911], &quot;type&quot;: &quot;Point&quot;}, &quot;id&quot;: &quot;16&quot;, &quot;properties&quot;: {&quot;ADDRESS&quot;: &quot;3434 E. Livingston Ave&quot;, &quot;NAME&quot;: &quot;Columbus Metropolitan Library Livingston Branch&quot;}, &quot;type&quot;: &quot;Feature&quot;}, {&quot;bbox&quot;: [-82.9597273052821, 39.9494241997039, -82.9597273052821, 39.9494241997039], &quot;geometry&quot;: {&quot;coordinates&quot;: [-82.9597273052821, 39.9494241997039], &quot;type&quot;: &quot;Point&quot;}, &quot;id&quot;: &quot;17&quot;, &quot;properties&quot;: {&quot;ADDRESS&quot;: &quot;1422 E. Livingstone Ave&quot;, &quot;NAME&quot;: &quot;Columbus Metropolitan Library Driving Park Branch&quot;}, &quot;type&quot;: &quot;Feature&quot;}, {&quot;bbox&quot;: [-83.0928751801827, 39.8813443923715, -83.0928751801827, 39.8813443923715], &quot;geometry&quot;: {&quot;coordinates&quot;: [-83.0928751801827, 39.8813443923715], &quot;type&quot;: &quot;Point&quot;}, &quot;id&quot;: &quot;18&quot;, &quot;properties&quot;: {&quot;ADDRESS&quot;: &quot;3359 Park St&quot;, &quot;NAME&quot;: &quot;Southwest Public Library Grove City Branch&quot;}, &quot;type&quot;: &quot;Feature&quot;}, {&quot;bbox&quot;: [-83.0278131213935, 39.9551572283188, -83.0278131213935, 39.9551572283188], &quot;geometry&quot;: {&quot;coordinates&quot;: [-83.0278131213935, 39.9551572283188], &quot;type&quot;: &quot;Point&quot;}, &quot;id&quot;: &quot;19&quot;, &quot;properties&quot;: {&quot;ADDRESS&quot;: &quot;1061 W. Town St&quot;, &quot;NAME&quot;: &quot;Columbus Metropolitan Library Franklinton Branch&quot;}, &quot;type&quot;: &quot;Feature&quot;}, {&quot;bbox&quot;: [-83.114732808428, 40.1014682662558, -83.114732808428, 40.1014682662558], &quot;geometry&quot;: {&quot;coordinates&quot;: [-83.114732808428, 40.1014682662558], &quot;type&quot;: &quot;Point&quot;}, &quot;id&quot;: &quot;20&quot;, &quot;properties&quot;: {&quot;ADDRESS&quot;: &quot;75 N. High St&quot;, &quot;NAME&quot;: &quot;Columbus Metropolitan Library Dublin Branch&quot;}, &quot;type&quot;: &quot;Feature&quot;}, {&quot;bbox&quot;: [-83.1366379079364, 40.0456095232506, -83.1366379079364, 40.0456095232506], &quot;geometry&quot;: {&quot;coordinates&quot;: [-83.1366379079364, 40.0456095232506], &quot;type&quot;: &quot;Point&quot;}, &quot;id&quot;: &quot;21&quot;, &quot;properties&quot;: {&quot;ADDRESS&quot;: &quot;4500 Hickory Chase Way&quot;, &quot;NAME&quot;: &quot;Columbus Metropolitan Library Hilliard Branch&quot;}, &quot;type&quot;: &quot;Feature&quot;}, {&quot;bbox&quot;: [-83.0761560949737, 40.1185981545267, -83.0761560949737, 40.1185981545267], &quot;geometry&quot;: {&quot;coordinates&quot;: [-83.0761560949737, 40.1185981545267], &quot;type&quot;: &quot;Point&quot;}, &quot;id&quot;: &quot;22&quot;, &quot;properties&quot;: {&quot;ADDRESS&quot;: &quot;2280 Hard Rd&quot;, &quot;NAME&quot;: &quot;Northwest Library&quot;}, &quot;type&quot;: &quot;Feature&quot;}, {&quot;bbox&quot;: [-83.0711679413156, 40.0465814008826, -83.0711679413156, 40.0465814008826], &quot;geometry&quot;: {&quot;coordinates&quot;: [-83.0711679413156, 40.0465814008826], &quot;type&quot;: &quot;Point&quot;}, &quot;id&quot;: &quot;23&quot;, &quot;properties&quot;: {&quot;ADDRESS&quot;: &quot;1945 Lane Rd&quot;, &quot;NAME&quot;: &quot;Upper Arlington Public Library Lane Rd Branch&quot;}, &quot;type&quot;: &quot;Feature&quot;}, {&quot;bbox&quot;: [-83.0673726408137, 40.0127560580795, -83.0673726408137, 40.0127560580795], &quot;geometry&quot;: {&quot;coordinates&quot;: [-83.0673726408137, 40.0127560580795], &quot;type&quot;: &quot;Point&quot;}, &quot;id&quot;: &quot;24&quot;, &quot;properties&quot;: {&quot;ADDRESS&quot;: &quot;2800 Tremont Rd&quot;, &quot;NAME&quot;: &quot;Upper Arlington Public Library&quot;}, &quot;type&quot;: &quot;Feature&quot;}, {&quot;bbox&quot;: [-83.016581928152, 40.0905205802044, -83.016581928152, 40.0905205802044], &quot;geometry&quot;: {&quot;coordinates&quot;: [-83.016581928152, 40.0905205802044], &quot;type&quot;: &quot;Point&quot;}, &quot;id&quot;: &quot;25&quot;, &quot;properties&quot;: {&quot;ADDRESS&quot;: &quot;820 N. High St&quot;, &quot;NAME&quot;: &quot;Old Worthington Public Library&quot;}, &quot;type&quot;: &quot;Feature&quot;}, {&quot;bbox&quot;: [-82.9744176980046, 40.0810266609512, -82.9744176980046, 40.0810266609512], &quot;geometry&quot;: {&quot;coordinates&quot;: [-82.9744176980046, 40.0810266609512], &quot;type&quot;: &quot;Point&quot;}, &quot;id&quot;: &quot;26&quot;, &quot;properties&quot;: {&quot;ADDRESS&quot;: &quot;5590 Karl Rd&quot;, &quot;NAME&quot;: &quot;Columbus Metropolitan Library Karl Road Branch&quot;}, &quot;type&quot;: &quot;Feature&quot;}, {&quot;bbox&quot;: [-82.9541151172678, 40.0524364964823, -82.9541151172678, 40.0524364964823], &quot;geometry&quot;: {&quot;coordinates&quot;: [-82.9541151172678, 40.0524364964823], &quot;type&quot;: &quot;Point&quot;}, &quot;id&quot;: &quot;27&quot;, &quot;properties&quot;: {&quot;ADDRESS&quot;: &quot;4093 Cleveland Ave&quot;, &quot;NAME&quot;: &quot;Columbus Metropolitan Library Northern Lights Branch&quot;}, &quot;type&quot;: &quot;Feature&quot;}, {&quot;bbox&quot;: [-82.8698569209026, 40.019124439038, -82.8698569209026, 40.019124439038], &quot;geometry&quot;: {&quot;coordinates&quot;: [-82.8698569209026, 40.019124439038], &quot;type&quot;: &quot;Point&quot;}, &quot;id&quot;: &quot;28&quot;, &quot;properties&quot;: {&quot;ADDRESS&quot;: &quot;310 Granville St&quot;, &quot;NAME&quot;: &quot;Columbus Metropolitan Library Gahanna Branch&quot;}, &quot;type&quot;: &quot;Feature&quot;}, {&quot;bbox&quot;: [-82.8149623287813, 40.0819278251043, -82.8149623287813, 40.0819278251043], &quot;geometry&quot;: {&quot;coordinates&quot;: [-82.8149623287813, 40.0819278251043], &quot;type&quot;: &quot;Point&quot;}, &quot;id&quot;: &quot;29&quot;, &quot;properties&quot;: {&quot;ADDRESS&quot;: &quot;200 Market St&quot;, &quot;NAME&quot;: &quot;Columbus Metropolitan Library New Albany Branch&quot;}, &quot;type&quot;: &quot;Feature&quot;}, {&quot;bbox&quot;: [-82.9621491629931, 39.9685117139292, -82.9621491629931, 39.9685117139292], &quot;geometry&quot;: {&quot;coordinates&quot;: [-82.9621491629931, 39.9685117139292], &quot;type&quot;: &quot;Point&quot;}, &quot;id&quot;: &quot;30&quot;, &quot;properties&quot;: {&quot;ADDRESS&quot;: &quot;1467 E Long St&quot;, &quot;NAME&quot;: &quot;Columbus Metropolitan Library Martin Luther King Branch&quot;}, &quot;type&quot;: &quot;Feature&quot;}, {&quot;bbox&quot;: [-83.0498792045486, 39.9817244301678, -83.0498792045486, 39.9817244301678], &quot;geometry&quot;: {&quot;coordinates&quot;: [-83.0498792045486, 39.9817244301678], &quot;type&quot;: &quot;Point&quot;}, &quot;id&quot;: &quot;31&quot;, &quot;properties&quot;: {&quot;ADDRESS&quot;: &quot;1685 W. First Ave&quot;, &quot;NAME&quot;: &quot;Grandview Heights Public Library&quot;}, &quot;type&quot;: &quot;Feature&quot;}, {&quot;bbox&quot;: [-83.0609347336894, 39.9950463816084, -83.0609347336894, 39.9950463816084], &quot;geometry&quot;: {&quot;coordinates&quot;: [-83.0609347336894, 39.9950463816084], &quot;type&quot;: &quot;Point&quot;}, &quot;id&quot;: &quot;32&quot;, &quot;properties&quot;: {&quot;ADDRESS&quot;: &quot;1901 Arlington Ave&quot;, &quot;NAME&quot;: &quot;Upper Arlington Public Library Miller Park Branch&quot;}, &quot;type&quot;: &quot;Feature&quot;}, {&quot;bbox&quot;: [-83.1712428615435, 39.810075128243, -83.1712428615435, 39.810075128243], &quot;geometry&quot;: {&quot;coordinates&quot;: [-83.1712428615435, 39.810075128243], &quot;type&quot;: &quot;Point&quot;}, &quot;id&quot;: &quot;33&quot;, &quot;properties&quot;: {&quot;ADDRESS&quot;: &quot;1036 High St&quot;, &quot;NAME&quot;: &quot;Harrisburg Library&quot;}, &quot;type&quot;: &quot;Feature&quot;}, {&quot;bbox&quot;: [-83.1273603040478, 39.9537788885617, -83.1273603040478, 39.9537788885617], &quot;geometry&quot;: {&quot;coordinates&quot;: [-83.1273603040478, 39.9537788885617], &quot;type&quot;: &quot;Point&quot;}, &quot;id&quot;: &quot;34&quot;, &quot;properties&quot;: {&quot;ADDRESS&quot;: &quot;4740 W. Broad St&quot;, &quot;NAME&quot;: &quot;Southwest Public Library Grove City Westland Area Branch&quot;}, &quot;type&quot;: &quot;Feature&quot;}, {&quot;bbox&quot;: [-83.1122174733979, 39.8964935713639, -83.1122174733979, 39.8964935713639], &quot;geometry&quot;: {&quot;coordinates&quot;: [-83.1122174733979, 39.8964935713639], &quot;type&quot;: &quot;Point&quot;}, &quot;id&quot;: &quot;35&quot;, &quot;properties&quot;: {&quot;ADDRESS&quot;: &quot;4500 Big Run South Rd&quot;, &quot;NAME&quot;: &quot;Southwest Public Library Grove City Central Crossing Branch&quot;}, &quot;type&quot;: &quot;Feature&quot;}, {&quot;bbox&quot;: [-83.0735041748622, 39.9446355534772, -83.0735041748622, 39.9446355534772], &quot;geometry&quot;: {&quot;coordinates&quot;: [-83.0735041748622, 39.9446355534772], &quot;type&quot;: &quot;Point&quot;}, &quot;id&quot;: &quot;36&quot;, &quot;properties&quot;: {&quot;ADDRESS&quot;: &quot;511 S. Hague Ave&quot;, &quot;NAME&quot;: &quot;Columbus Metropolitan Library Hilltop Branch&quot;}, &quot;type&quot;: &quot;Feature&quot;}, {&quot;bbox&quot;: [-82.9971352473625, 39.889365189525, -82.9971352473625, 39.889365189525], &quot;geometry&quot;: {&quot;coordinates&quot;: [-82.9971352473625, 39.889365189525], &quot;type&quot;: &quot;Point&quot;}, &quot;id&quot;: &quot;37&quot;, &quot;properties&quot;: {&quot;ADDRESS&quot;: &quot;3540 S. High St&quot;, &quot;NAME&quot;: &quot;Columbus Metropolitan Library South High Branch&quot;}, &quot;type&quot;: &quot;Feature&quot;}, {&quot;bbox&quot;: [-82.9834545839897, 39.9408853380751, -82.9834545839897, 39.9408853380751], &quot;geometry&quot;: {&quot;coordinates&quot;: [-82.9834545839897, 39.9408853380751], &quot;type&quot;: &quot;Point&quot;}, &quot;id&quot;: &quot;38&quot;, &quot;properties&quot;: {&quot;ADDRESS&quot;: &quot;1113 Parsons Ave&quot;, &quot;NAME&quot;: &quot;Columbus Metropolitan Library Parsons Branch&quot;}, &quot;type&quot;: &quot;Feature&quot;}, {&quot;bbox&quot;: [-82.8818327221363, 39.8935328135114, -82.8818327221363, 39.8935328135114], &quot;geometry&quot;: {&quot;coordinates&quot;: [-82.8818327221363, 39.8935328135114], &quot;type&quot;: &quot;Point&quot;}, &quot;id&quot;: &quot;39&quot;, &quot;properties&quot;: {&quot;ADDRESS&quot;: &quot;3980 S. Hamilton Rd&quot;, &quot;NAME&quot;: &quot;Columbus Metropolitan Library Southeast Branch&quot;}, &quot;type&quot;: &quot;Feature&quot;}, {&quot;bbox&quot;: [-82.8284373446568, 39.9517820619019, -82.8284373446568, 39.9517820619019], &quot;geometry&quot;: {&quot;coordinates&quot;: [-82.8284373446568, 39.9517820619019], &quot;type&quot;: &quot;Point&quot;}, &quot;id&quot;: &quot;40&quot;, &quot;properties&quot;: {&quot;ADDRESS&quot;: &quot;1402 Brice Rd&quot;, &quot;NAME&quot;: &quot;Columbus Metropolitan Library Reynoldsburg Branch&quot;}, &quot;type&quot;: &quot;Feature&quot;}, {&quot;bbox&quot;: [-82.9343442927468, 39.9567452880173, -82.9343442927468, 39.9567452880173], &quot;geometry&quot;: {&quot;coordinates&quot;: [-82.9343442927468, 39.9567452880173], &quot;type&quot;: &quot;Point&quot;}, &quot;id&quot;: &quot;41&quot;, &quot;properties&quot;: {&quot;ADDRESS&quot;: &quot;2411 E. Main St&quot;, &quot;NAME&quot;: &quot;Bexley Public Library&quot;}, &quot;type&quot;: &quot;Feature&quot;}, {&quot;bbox&quot;: [-82.8823661483, 39.9748399818752, -82.8823661483, 39.9748399818752], &quot;geometry&quot;: {&quot;coordinates&quot;: [-82.8823661483, 39.9748399818752], &quot;type&quot;: &quot;Point&quot;}, &quot;id&quot;: &quot;42&quot;, &quot;properties&quot;: {&quot;ADDRESS&quot;: &quot;4445 E Broad St&quot;, &quot;NAME&quot;: &quot;Columbus Metropolitan Library Whitehall Branch&quot;}, &quot;type&quot;: &quot;Feature&quot;}, {&quot;bbox&quot;: [-82.6026456832015, 39.7153317516429, -82.6026456832015, 39.7153317516429], &quot;geometry&quot;: {&quot;coordinates&quot;: [-82.6026456832015, 39.7153317516429], &quot;type&quot;: &quot;Point&quot;}, &quot;id&quot;: &quot;43&quot;, &quot;properties&quot;: {&quot;ADDRESS&quot;: &quot;219 N. Broad St&quot;, &quot;NAME&quot;: &quot;Fairfield County District Library&quot;}, &quot;type&quot;: &quot;Feature&quot;}, {&quot;bbox&quot;: [-82.7430257886071, 39.6505107986975, -82.7430257886071, 39.6505107986975], &quot;geometry&quot;: {&quot;coordinates&quot;: [-82.7430257886071, 39.6505107986975], &quot;type&quot;: &quot;Point&quot;}, &quot;id&quot;: &quot;44&quot;, &quot;properties&quot;: {&quot;ADDRESS&quot;: &quot;116 E. High St&quot;, &quot;NAME&quot;: &quot;Fairfield County District Library Johns Memorial Branch&quot;}, &quot;type&quot;: &quot;Feature&quot;}, {&quot;bbox&quot;: [-82.4341240826341, 39.7043935779691, -82.4341240826341, 39.7043935779691], &quot;geometry&quot;: {&quot;coordinates&quot;: [-82.4341240826341, 39.7043935779691], &quot;type&quot;: &quot;Point&quot;}, &quot;id&quot;: &quot;45&quot;, &quot;properties&quot;: {&quot;ADDRESS&quot;: &quot;200 School St&quot;, &quot;NAME&quot;: &quot;Fairfield County District Library Bremen-Rushcreek Branch&quot;}, &quot;type&quot;: &quot;Feature&quot;}, {&quot;bbox&quot;: [-82.7586109225058, 39.8749692151085, -82.7586109225058, 39.8749692151085], &quot;geometry&quot;: {&quot;coordinates&quot;: [-82.7586109225058, 39.8749692151085], &quot;type&quot;: &quot;Point&quot;}, &quot;id&quot;: &quot;46&quot;, &quot;properties&quot;: {&quot;ADDRESS&quot;: &quot;201 Opportunity Way&quot;, &quot;NAME&quot;: &quot;Pickerington Public Library&quot;}, &quot;type&quot;: &quot;Feature&quot;}, {&quot;bbox&quot;: [-82.8051577481653, 39.8020336684732, -82.8051577481653, 39.8020336684732], &quot;geometry&quot;: {&quot;coordinates&quot;: [-82.8051577481653, 39.8020336684732], &quot;type&quot;: &quot;Point&quot;}, &quot;id&quot;: &quot;47&quot;, &quot;properties&quot;: {&quot;ADDRESS&quot;: &quot;150 E. Columbus St&quot;, &quot;NAME&quot;: &quot;Wagnalls Memorial Library&quot;}, &quot;type&quot;: &quot;Feature&quot;}, {&quot;bbox&quot;: [-82.5997091213125, 39.84555058542, -82.5997091213125, 39.84555058542], &quot;geometry&quot;: {&quot;coordinates&quot;: [-82.5997091213125, 39.84555058542], &quot;type&quot;: &quot;Point&quot;}, &quot;id&quot;: &quot;48&quot;, &quot;properties&quot;: {&quot;ADDRESS&quot;: &quot;205 E. Market St&quot;, &quot;NAME&quot;: &quot;Fairfield County District Library Baltimore Branch&quot;}, &quot;type&quot;: &quot;Feature&quot;}, {&quot;bbox&quot;: [-83.0727232044367, 40.1483917831969, -83.0727232044367, 40.1483917831969], &quot;geometry&quot;: {&quot;coordinates&quot;: [-83.0727232044367, 40.1483917831969], &quot;type&quot;: &quot;Point&quot;}, &quot;id&quot;: &quot;49&quot;, &quot;properties&quot;: {&quot;ADDRESS&quot;: &quot;460 S. Liberty St&quot;, &quot;NAME&quot;: &quot;Delaware County District Library Powell Branch&quot;}, &quot;type&quot;: &quot;Feature&quot;}, {&quot;bbox&quot;: [-83.2169672935717, 40.2673215162087, -83.2169672935717, 40.2673215162087], &quot;geometry&quot;: {&quot;coordinates&quot;: [-83.2169672935717, 40.2673215162087], &quot;type&quot;: &quot;Point&quot;}, &quot;id&quot;: &quot;50&quot;, &quot;properties&quot;: {&quot;ADDRESS&quot;: &quot;75 N. 4th St&quot;, &quot;NAME&quot;: &quot;Delaware County District Library Ostrander Branch&quot;}, &quot;type&quot;: &quot;Feature&quot;}, {&quot;bbox&quot;: [-83.0646462916659, 40.2997674874225, -83.0646462916659, 40.2997674874225], &quot;geometry&quot;: {&quot;coordinates&quot;: [-83.0646462916659, 40.2997674874225], &quot;type&quot;: &quot;Point&quot;}, &quot;id&quot;: &quot;51&quot;, &quot;properties&quot;: {&quot;ADDRESS&quot;: &quot;84 E. Winter St&quot;, &quot;NAME&quot;: &quot;Delaware County District Library&quot;}, &quot;type&quot;: &quot;Feature&quot;}, {&quot;bbox&quot;: [-82.8630336114161, 40.2428959976276, -82.8630336114161, 40.2428959976276], &quot;geometry&quot;: {&quot;coordinates&quot;: [-82.8630336114161, 40.2428959976276], &quot;type&quot;: &quot;Point&quot;}, &quot;id&quot;: &quot;52&quot;, &quot;properties&quot;: {&quot;ADDRESS&quot;: &quot;44 Burrer Dr&quot;, &quot;NAME&quot;: &quot;Sunbury Community Library&quot;}, &quot;type&quot;: &quot;Feature&quot;}, {&quot;bbox&quot;: [-82.9517032736047, 40.4092688412817, -82.9517032736047, 40.4092688412817], &quot;geometry&quot;: {&quot;coordinates&quot;: [-82.9517032736047, 40.4092688412817], &quot;type&quot;: &quot;Point&quot;}, &quot;id&quot;: &quot;53&quot;, &quot;properties&quot;: {&quot;ADDRESS&quot;: &quot;302 E. High St&quot;, &quot;NAME&quot;: &quot;Wornstaff Memorial Public Library&quot;}, &quot;type&quot;: &quot;Feature&quot;}, {&quot;bbox&quot;: [-82.6136244867801, 40.0900903767624, -82.6136244867801, 40.0900903767624], &quot;geometry&quot;: {&quot;coordinates&quot;: [-82.6136244867801, 40.0900903767624], &quot;type&quot;: &quot;Point&quot;}, &quot;id&quot;: &quot;54&quot;, &quot;properties&quot;: {&quot;ADDRESS&quot;: &quot;10 Maple Dr&quot;, &quot;NAME&quot;: &quot;Alexandria Public Library&quot;}, &quot;type&quot;: &quot;Feature&quot;}, {&quot;bbox&quot;: [-82.5250716419211, 40.2519609362924, -82.5250716419211, 40.2519609362924], &quot;geometry&quot;: {&quot;coordinates&quot;: [-82.5250716419211, 40.2519609362924], &quot;type&quot;: &quot;Point&quot;}, &quot;id&quot;: &quot;55&quot;, &quot;properties&quot;: {&quot;ADDRESS&quot;: &quot;385 South St NW&quot;, &quot;NAME&quot;: &quot;Homer Public Library&quot;}, &quot;type&quot;: &quot;Feature&quot;}, {&quot;bbox&quot;: [-82.5181580768464, 40.068153534214, -82.5181580768464, 40.068153534214], &quot;geometry&quot;: {&quot;coordinates&quot;: [-82.5181580768464, 40.068153534214], &quot;type&quot;: &quot;Point&quot;}, &quot;id&quot;: &quot;56&quot;, &quot;properties&quot;: {&quot;ADDRESS&quot;: &quot;217 E. Broadway St&quot;, &quot;NAME&quot;: &quot;Granville Public Library&quot;}, &quot;type&quot;: &quot;Feature&quot;}, {&quot;bbox&quot;: [-82.4528857468518, 40.2347337471026, -82.4528857468518, 40.2347337471026], &quot;geometry&quot;: {&quot;coordinates&quot;: [-82.4528857468518, 40.2347337471026], &quot;type&quot;: &quot;Point&quot;}, &quot;id&quot;: &quot;57&quot;, &quot;properties&quot;: {&quot;ADDRESS&quot;: &quot;15 N. Main St&quot;, &quot;NAME&quot;: &quot;Newark Public Library Hervey Memorial Branch&quot;}, &quot;type&quot;: &quot;Feature&quot;}, {&quot;bbox&quot;: [-82.4394213926801, 40.0497860717945, -82.4394213926801, 40.0497860717945], &quot;geometry&quot;: {&quot;coordinates&quot;: [-82.4394213926801, 40.0497860717945], &quot;type&quot;: &quot;Point&quot;}, &quot;id&quot;: &quot;58&quot;, &quot;properties&quot;: {&quot;ADDRESS&quot;: &quot;990 W. Main St&quot;, &quot;NAME&quot;: &quot;Newark Public Library Emerson Miller Branch&quot;}, &quot;type&quot;: &quot;Feature&quot;}, {&quot;bbox&quot;: [-82.4061028616415, 40.0559756534757, -82.4061028616415, 40.0559756534757], &quot;geometry&quot;: {&quot;coordinates&quot;: [-82.4061028616415, 40.0559756534757], &quot;type&quot;: &quot;Point&quot;}, &quot;id&quot;: &quot;59&quot;, &quot;properties&quot;: {&quot;ADDRESS&quot;: &quot;101 W. Main St&quot;, &quot;NAME&quot;: &quot;Licking County Newark Public Library&quot;}, &quot;type&quot;: &quot;Feature&quot;}, {&quot;bbox&quot;: [-82.6783976875294, 40.0002439979398, -82.6783976875294, 40.0002439979398], &quot;geometry&quot;: {&quot;coordinates&quot;: [-82.6783976875294, 40.0002439979398], &quot;type&quot;: &quot;Point&quot;}, &quot;id&quot;: &quot;60&quot;, &quot;properties&quot;: {&quot;ADDRESS&quot;: &quot;101 S. Vine St&quot;, &quot;NAME&quot;: &quot;Pataskala Public Library&quot;}, &quot;type&quot;: &quot;Feature&quot;}, {&quot;bbox&quot;: [-82.5040138828041, 39.9603567255153, -82.5040138828041, 39.9603567255153], &quot;geometry&quot;: {&quot;coordinates&quot;: [-82.5040138828041, 39.9603567255153], &quot;type&quot;: &quot;Point&quot;}, &quot;id&quot;: &quot;61&quot;, &quot;properties&quot;: {&quot;ADDRESS&quot;: &quot;934 W. Main St&quot;, &quot;NAME&quot;: &quot;Newark Public Library Hebron Branch&quot;}, &quot;type&quot;: &quot;Feature&quot;}, {&quot;bbox&quot;: [-82.6853942607652, 40.1530389382747, -82.6853942607652, 40.1530389382747], &quot;geometry&quot;: {&quot;coordinates&quot;: [-82.6853942607652, 40.1530389382747], &quot;type&quot;: &quot;Point&quot;}, &quot;id&quot;: &quot;62&quot;, &quot;properties&quot;: {&quot;ADDRESS&quot;: &quot;320 N. Maint St&quot;, &quot;NAME&quot;: &quot;Newark Public Library Johnstown Branch&quot;}, &quot;type&quot;: &quot;Feature&quot;}, {&quot;bbox&quot;: [-82.980380264528, 40.1229618505792, -82.980380264528, 40.1229618505792], &quot;geometry&quot;: {&quot;coordinates&quot;: [-82.980380264528, 40.1229618505792], &quot;type&quot;: &quot;Point&quot;}, &quot;id&quot;: &quot;63&quot;, &quot;properties&quot;: {&quot;ADDRESS&quot;: &quot;1389 Worthington Centre Dr&quot;, &quot;NAME&quot;: &quot;Worthington Park Library&quot;}, &quot;type&quot;: &quot;Feature&quot;}, {&quot;bbox&quot;: [-82.9995411945757, 39.9541227537836, -82.9995411945757, 39.9541227537836], &quot;geometry&quot;: {&quot;coordinates&quot;: [-82.9995411945757, 39.9541227537836], &quot;type&quot;: &quot;Point&quot;}, &quot;id&quot;: &quot;64&quot;, &quot;properties&quot;: {&quot;ADDRESS&quot;: &quot;369 S High St 10th Fl&quot;, &quot;NAME&quot;: &quot;Columbus Law Library&quot;}, &quot;type&quot;: &quot;Feature&quot;}, {&quot;bbox&quot;: [-82.996000859998, 39.9811655797924, -82.996000859998, 39.9811655797924], &quot;geometry&quot;: {&quot;coordinates&quot;: [-82.996000859998, 39.9811655797924], &quot;type&quot;: &quot;Point&quot;}, &quot;id&quot;: &quot;65&quot;, &quot;properties&quot;: {&quot;ADDRESS&quot;: &quot;274 E 1st Ave Ste 100&quot;, &quot;NAME&quot;: &quot;State Library Of Ohio&quot;}, &quot;type&quot;: &quot;Feature&quot;}, {&quot;bbox&quot;: [-82.9649032220998, 39.9105152700423, -82.9649032220998, 39.9105152700423], &quot;geometry&quot;: {&quot;coordinates&quot;: [-82.9649032220998, 39.9105152700423], &quot;type&quot;: &quot;Point&quot;}, &quot;id&quot;: &quot;66&quot;, &quot;properties&quot;: {&quot;ADDRESS&quot;: &quot;2740 Lockbourne Rd&quot;, &quot;NAME&quot;: &quot;Columbus Metropolitan Library Marion-Franklin&quot;}, &quot;type&quot;: &quot;Feature&quot;}, {&quot;bbox&quot;: [-82.810232180814, 39.840974352012, -82.810232180814, 39.840974352012], &quot;geometry&quot;: {&quot;coordinates&quot;: [-82.810232180814, 39.840974352012], &quot;type&quot;: &quot;Point&quot;}, &quot;id&quot;: &quot;67&quot;, &quot;properties&quot;: {&quot;ADDRESS&quot;: &quot;115 Franklin St&quot;, &quot;NAME&quot;: &quot;Columbus Metropolitan Library Canal Winchester Branch&quot;}, &quot;type&quot;: &quot;Feature&quot;}, {&quot;bbox&quot;: [-83.7525768626904, 40.5070217986525, -83.7525768626904, 40.5070217986525], &quot;geometry&quot;: {&quot;coordinates&quot;: [-83.7525768626904, 40.5070217986525], &quot;type&quot;: &quot;Point&quot;}, &quot;id&quot;: &quot;68&quot;, &quot;properties&quot;: {&quot;ADDRESS&quot;: &quot;103 S. Elizabeth St&quot;, &quot;NAME&quot;: &quot;Belle Center Free Public Library&quot;}, &quot;type&quot;: &quot;Feature&quot;}, {&quot;bbox&quot;: [-82.9813244175534, 39.3298618160501, -82.9813244175534, 39.3298618160501], &quot;geometry&quot;: {&quot;coordinates&quot;: [-82.9813244175534, 39.3298618160501], &quot;type&quot;: &quot;Point&quot;}, &quot;id&quot;: &quot;69&quot;, &quot;properties&quot;: {&quot;ADDRESS&quot;: &quot;140 S. Paint St&quot;, &quot;NAME&quot;: &quot;Chillicothe and Ross County Public Library&quot;}, &quot;type&quot;: &quot;Feature&quot;}, {&quot;bbox&quot;: [-83.4371759125388, 39.5364646993212, -83.4371759125388, 39.5364646993212], &quot;geometry&quot;: {&quot;coordinates&quot;: [-83.4371759125388, 39.5364646993212], &quot;type&quot;: &quot;Point&quot;}, &quot;id&quot;: &quot;70&quot;, &quot;properties&quot;: {&quot;ADDRESS&quot;: &quot;127 S. North St&quot;, &quot;NAME&quot;: &quot;Carnegie Public Library - Washington Court House&quot;}, &quot;type&quot;: &quot;Feature&quot;}, {&quot;bbox&quot;: [-82.4052486570151, 39.5400379297169, -82.4052486570151, 39.5400379297169], &quot;geometry&quot;: {&quot;coordinates&quot;: [-82.4052486570151, 39.5400379297169], &quot;type&quot;: &quot;Point&quot;}, &quot;id&quot;: &quot;71&quot;, &quot;properties&quot;: {&quot;ADDRESS&quot;: &quot;230 E. Main St&quot;, &quot;NAME&quot;: &quot;Logan-Hocking County District Library&quot;}, &quot;type&quot;: &quot;Feature&quot;}, {&quot;bbox&quot;: [-82.6951834447364, 40.3050194882421, -82.6951834447364, 40.3050194882421], &quot;geometry&quot;: {&quot;coordinates&quot;: [-82.6951834447364, 40.3050194882421], &quot;type&quot;: &quot;Point&quot;}, &quot;id&quot;: &quot;72&quot;, &quot;properties&quot;: {&quot;ADDRESS&quot;: &quot;49 E. Main St.&quot;, &quot;NAME&quot;: &quot;Centurburg Public Library&quot;}, &quot;type&quot;: &quot;Feature&quot;}, {&quot;bbox&quot;: [-82.4866006262204, 40.3955577344148, -82.4866006262204, 40.3955577344148], &quot;geometry&quot;: {&quot;coordinates&quot;: [-82.4866006262204, 40.3955577344148], &quot;type&quot;: &quot;Point&quot;}, &quot;id&quot;: &quot;73&quot;, &quot;properties&quot;: {&quot;ADDRESS&quot;: &quot;201 N. Mulberry St&quot;, &quot;NAME&quot;: &quot;Public Library of Mount Vernon and Knox County&quot;}, &quot;type&quot;: &quot;Feature&quot;}, {&quot;bbox&quot;: [-83.5456126851801, 40.4023489025917, -83.5456126851801, 40.4023489025917], &quot;geometry&quot;: {&quot;coordinates&quot;: [-83.5456126851801, 40.4023489025917], &quot;type&quot;: &quot;Point&quot;}, &quot;id&quot;: &quot;74&quot;, &quot;properties&quot;: {&quot;ADDRESS&quot;: &quot;127 N. Main St&quot;, &quot;NAME&quot;: &quot;West Mansfield Branch Library&quot;}, &quot;type&quot;: &quot;Feature&quot;}, {&quot;bbox&quot;: [-83.6767931035504, 40.3377025381221, -83.6767931035504, 40.3377025381221], &quot;geometry&quot;: {&quot;coordinates&quot;: [-83.6767931035504, 40.3377025381221], &quot;type&quot;: &quot;Point&quot;}, &quot;id&quot;: &quot;75&quot;, &quot;properties&quot;: {&quot;ADDRESS&quot;: &quot;2817 Sandusky St&quot;, &quot;NAME&quot;: &quot;Dr. Earl S. Sloan Library&quot;}, &quot;type&quot;: &quot;Feature&quot;}, {&quot;bbox&quot;: [-83.6717411857932, 40.4611121869309, -83.6717411857932, 40.4611121869309], &quot;geometry&quot;: {&quot;coordinates&quot;: [-83.6717411857932, 40.4611121869309], &quot;type&quot;: &quot;Point&quot;}, &quot;id&quot;: &quot;76&quot;, &quot;properties&quot;: {&quot;ADDRESS&quot;: &quot;113 N. Sandusky St&quot;, &quot;NAME&quot;: &quot;Rushsylvania Branch Library&quot;}, &quot;type&quot;: &quot;Feature&quot;}, {&quot;bbox&quot;: [-83.7558287729848, 40.2524807964721, -83.7558287729848, 40.2524807964721], &quot;geometry&quot;: {&quot;coordinates&quot;: [-83.7558287729848, 40.2524807964721], &quot;type&quot;: &quot;Point&quot;}, &quot;id&quot;: &quot;77&quot;, &quot;properties&quot;: {&quot;ADDRESS&quot;: &quot;117 N. Detroit St&quot;, &quot;NAME&quot;: &quot;West Liberty Branch Library&quot;}, &quot;type&quot;: &quot;Feature&quot;}, {&quot;bbox&quot;: [-83.7591308303044, 40.3636880787365, -83.7591308303044, 40.3636880787365], &quot;geometry&quot;: {&quot;coordinates&quot;: [-83.7591308303044, 40.3636880787365], &quot;type&quot;: &quot;Point&quot;}, &quot;id&quot;: &quot;78&quot;, &quot;properties&quot;: {&quot;ADDRESS&quot;: &quot;220 N. Main St&quot;, &quot;NAME&quot;: &quot;Logan County Libraries&quot;}, &quot;type&quot;: &quot;Feature&quot;}, {&quot;bbox&quot;: [-83.7525768626904, 40.5070217986525, -83.7525768626904, 40.5070217986525], &quot;geometry&quot;: {&quot;coordinates&quot;: [-83.7525768626904, 40.5070217986525], &quot;type&quot;: &quot;Point&quot;}, &quot;id&quot;: &quot;79&quot;, &quot;properties&quot;: {&quot;ADDRESS&quot;: &quot;103 S. Elzabeth St&quot;, &quot;NAME&quot;: &quot;Belle Center Free Public Library&quot;}, &quot;type&quot;: &quot;Feature&quot;}, {&quot;bbox&quot;: [-83.9156220186993, 40.3100386909899, -83.9156220186993, 40.3100386909899], &quot;geometry&quot;: {&quot;coordinates&quot;: [-83.9156220186993, 40.3100386909899], &quot;type&quot;: &quot;Point&quot;}, &quot;id&quot;: &quot;80&quot;, &quot;properties&quot;: {&quot;ADDRESS&quot;: &quot;122 S. Main St&quot;, &quot;NAME&quot;: &quot;DeGraff Branch Library&quot;}, &quot;type&quot;: &quot;Feature&quot;}, {&quot;bbox&quot;: [-83.9241912264021, 40.4852868816878, -83.9241912264021, 40.4852868816878], &quot;geometry&quot;: {&quot;coordinates&quot;: [-83.9241912264021, 40.4852868816878], &quot;type&quot;: &quot;Point&quot;}, &quot;id&quot;: &quot;81&quot;, &quot;properties&quot;: {&quot;ADDRESS&quot;: &quot;130 N. Main St&quot;, &quot;NAME&quot;: &quot;Lakeview Branch Library&quot;}, &quot;type&quot;: &quot;Feature&quot;}, {&quot;bbox&quot;: [-83.1892798100166, 40.4506759600497, -83.1892798100166, 40.4506759600497], &quot;geometry&quot;: {&quot;coordinates&quot;: [-83.1892798100166, 40.4506759600497], &quot;type&quot;: &quot;Point&quot;}, &quot;id&quot;: &quot;82&quot;, &quot;properties&quot;: {&quot;ADDRESS&quot;: &quot;116 N. Main St&quot;, &quot;NAME&quot;: &quot;Prospect Public Library&quot;}, &quot;type&quot;: &quot;Feature&quot;}, {&quot;bbox&quot;: [-83.384494854428, 40.5760852651449, -83.384494854428, 40.5760852651449], &quot;geometry&quot;: {&quot;coordinates&quot;: [-83.384494854428, 40.5760852651449], &quot;type&quot;: &quot;Point&quot;}, &quot;id&quot;: &quot;83&quot;, &quot;properties&quot;: {&quot;ADDRESS&quot;: &quot;86 S. High St&quot;, &quot;NAME&quot;: &quot;Henkle-Holiday Memorial Library&quot;}, &quot;type&quot;: &quot;Feature&quot;}, {&quot;bbox&quot;: [-83.1197299391342, 40.5873305203235, -83.1197299391342, 40.5873305203235], &quot;geometry&quot;: {&quot;coordinates&quot;: [-83.1197299391342, 40.5873305203235], &quot;type&quot;: &quot;Point&quot;}, &quot;id&quot;: &quot;84&quot;, &quot;properties&quot;: {&quot;ADDRESS&quot;: &quot;445 E. Church St&quot;, &quot;NAME&quot;: &quot;Marion Public Library&quot;}, &quot;type&quot;: &quot;Feature&quot;}, {&quot;bbox&quot;: [-82.9705738438752, 40.637047759179, -82.9705738438752, 40.637047759179], &quot;geometry&quot;: {&quot;coordinates&quot;: [-82.9705738438752, 40.637047759179], &quot;type&quot;: &quot;Point&quot;}, &quot;id&quot;: &quot;85&quot;, &quot;properties&quot;: {&quot;ADDRESS&quot;: &quot;112 E. Marion St&quot;, &quot;NAME&quot;: &quot;Caledonia Public Library&quot;}, &quot;type&quot;: &quot;Feature&quot;}, {&quot;bbox&quot;: [-82.6610737233374, 40.621512343121, -82.6610737233374, 40.621512343121], &quot;geometry&quot;: {&quot;coordinates&quot;: [-82.6610737233374, 40.621512343121], &quot;type&quot;: &quot;Point&quot;}, &quot;id&quot;: &quot;86&quot;, &quot;properties&quot;: {&quot;ADDRESS&quot;: &quot;7406 County Road 242&quot;, &quot;NAME&quot;: &quot;Perry Cook Memorial Public Library&quot;}, &quot;type&quot;: &quot;Feature&quot;}, {&quot;bbox&quot;: [-82.8270338022759, 40.5489186801188, -82.8270338022759, 40.5489186801188], &quot;geometry&quot;: {&quot;coordinates&quot;: [-82.8270338022759, 40.5489186801188], &quot;type&quot;: &quot;Point&quot;}, &quot;id&quot;: &quot;87&quot;, &quot;properties&quot;: {&quot;ADDRESS&quot;: &quot;41 E. High St&quot;, &quot;NAME&quot;: &quot;Mount Gilead Free Public Library&quot;}, &quot;type&quot;: &quot;Feature&quot;}, {&quot;bbox&quot;: [-82.6837729298785, 40.4803932430714, -82.6837729298785, 40.4803932430714], &quot;geometry&quot;: {&quot;coordinates&quot;: [-82.6837729298785, 40.4803932430714], &quot;type&quot;: &quot;Point&quot;}, &quot;id&quot;: &quot;88&quot;, &quot;properties&quot;: {&quot;ADDRESS&quot;: &quot;31 State Route 95&quot;, &quot;NAME&quot;: &quot;Selover Public Library&quot;}, &quot;type&quot;: &quot;Feature&quot;}, {&quot;bbox&quot;: [-82.4172821495579, 39.8960911438767, -82.4172821495579, 39.8960911438767], &quot;geometry&quot;: {&quot;coordinates&quot;: [-82.4172821495579, 39.8960911438767], &quot;type&quot;: &quot;Point&quot;}, &quot;id&quot;: &quot;89&quot;, &quot;properties&quot;: {&quot;ADDRESS&quot;: &quot;99 E. Columbus St&quot;, &quot;NAME&quot;: &quot;Perry County District Library Branch&quot;}, &quot;type&quot;: &quot;Feature&quot;}, {&quot;bbox&quot;: [-82.3002116548932, 39.8064887997414, -82.3002116548932, 39.8064887997414], &quot;geometry&quot;: {&quot;coordinates&quot;: [-82.3002116548932, 39.8064887997414], &quot;type&quot;: &quot;Point&quot;}, &quot;id&quot;: &quot;90&quot;, &quot;properties&quot;: {&quot;ADDRESS&quot;: &quot;117 W. Main St&quot;, &quot;NAME&quot;: &quot;Perry County District Library Branch&quot;}, &quot;type&quot;: &quot;Feature&quot;}, {&quot;bbox&quot;: [-82.0945688908402, 39.7695797860738, -82.0945688908402, 39.7695797860738], &quot;geometry&quot;: {&quot;coordinates&quot;: [-82.0945688908402, 39.7695797860738], &quot;type&quot;: &quot;Point&quot;}, &quot;id&quot;: &quot;91&quot;, &quot;properties&quot;: {&quot;ADDRESS&quot;: &quot;11 E. Main St&quot;, &quot;NAME&quot;: &quot;Perry County District Library Branch&quot;}, &quot;type&quot;: &quot;Feature&quot;}, {&quot;bbox&quot;: [-82.300130293338, 39.7210992984575, -82.300130293338, 39.7210992984575], &quot;geometry&quot;: {&quot;coordinates&quot;: [-82.300130293338, 39.7210992984575], &quot;type&quot;: &quot;Point&quot;}, &quot;id&quot;: &quot;92&quot;, &quot;properties&quot;: {&quot;ADDRESS&quot;: &quot;108 W. Main St&quot;, &quot;NAME&quot;: &quot;Perry County District Library Branch&quot;}, &quot;type&quot;: &quot;Feature&quot;}, {&quot;bbox&quot;: [-82.2061174031537, 39.7140481561472, -82.2061174031537, 39.7140481561472], &quot;geometry&quot;: {&quot;coordinates&quot;: [-82.2061174031537, 39.7140481561472], &quot;type&quot;: &quot;Point&quot;}, &quot;id&quot;: &quot;93&quot;, &quot;properties&quot;: {&quot;ADDRESS&quot;: &quot;117 S. Jackson St&quot;, &quot;NAME&quot;: &quot;Perry County District Library&quot;}, &quot;type&quot;: &quot;Feature&quot;}, {&quot;bbox&quot;: [-82.2367065380701, 39.5775427271723, -82.2367065380701, 39.5775427271723], &quot;geometry&quot;: {&quot;coordinates&quot;: [-82.2367065380701, 39.5775427271723], &quot;type&quot;: &quot;Point&quot;}, &quot;id&quot;: &quot;94&quot;, &quot;properties&quot;: {&quot;ADDRESS&quot;: &quot;102 E. Main St.&quot;, &quot;NAME&quot;: &quot;New Straitsville Public Library&quot;}, &quot;type&quot;: &quot;Feature&quot;}, {&quot;bbox&quot;: [-82.087584035686, 39.6026551729388, -82.087584035686, 39.6026551729388], &quot;geometry&quot;: {&quot;coordinates&quot;: [-82.087584035686, 39.6026551729388], &quot;type&quot;: &quot;Point&quot;}, &quot;id&quot;: &quot;95&quot;, &quot;properties&quot;: {&quot;ADDRESS&quot;: &quot;113 11th Hill St&quot;, &quot;NAME&quot;: &quot;Perry County District Library Branch&quot;}, &quot;type&quot;: &quot;Feature&quot;}, {&quot;bbox&quot;: [-82.8933137097604, 40.5006698242389, -82.8933137097604, 40.5006698242389], &quot;geometry&quot;: {&quot;coordinates&quot;: [-82.8933137097604, 40.5006698242389], &quot;type&quot;: &quot;Point&quot;}, &quot;id&quot;: &quot;96&quot;, &quot;properties&quot;: {&quot;ADDRESS&quot;: &quot;128 E. Main St&quot;, &quot;NAME&quot;: &quot;Cardington-Lincoln Public Library&quot;}, &quot;type&quot;: &quot;Feature&quot;}], &quot;type&quot;: &quot;FeatureCollection&quot;});\n",
       "\n",
       "        \n",
       "    \n",
       "    geo_json_46d3875fe4218c0d5eb61558adb5f43e.bindTooltip(\n",
       "    function(layer){\n",
       "    let div = L.DomUtil.create(&#x27;div&#x27;);\n",
       "    \n",
       "    let handleObject = feature=&gt;typeof(feature)==&#x27;object&#x27; ? JSON.stringify(feature) : feature;\n",
       "    let fields = [&quot;NAME&quot;, &quot;ADDRESS&quot;];\n",
       "    let aliases = [&quot;NAME&quot;, &quot;ADDRESS&quot;];\n",
       "    let table = &#x27;&lt;table&gt;&#x27; +\n",
       "        String(\n",
       "        fields.map(\n",
       "        (v,i)=&gt;\n",
       "        `&lt;tr&gt;\n",
       "            &lt;th&gt;${aliases[i]}&lt;/th&gt;\n",
       "            \n",
       "            &lt;td&gt;${handleObject(layer.feature.properties[v])}&lt;/td&gt;\n",
       "        &lt;/tr&gt;`).join(&#x27;&#x27;))\n",
       "    +&#x27;&lt;/table&gt;&#x27;;\n",
       "    div.innerHTML=table;\n",
       "    \n",
       "    return div\n",
       "    }\n",
       "    ,{\n",
       "  &quot;sticky&quot;: true,\n",
       "  &quot;className&quot;: &quot;foliumtooltip&quot;,\n",
       "});\n",
       "                     \n",
       "    \n",
       "            geo_json_46d3875fe4218c0d5eb61558adb5f43e.addTo(map_fb5e5ae768628336a784b68d8db5faa0);\n",
       "        \n",
       "&lt;/script&gt;\n",
       "&lt;/html&gt;\" style=\"position:absolute;width:100%;height:100%;left:0;top:0;border:none !important;\" allowfullscreen webkitallowfullscreen mozallowfullscreen></iframe></div></div>"
      ],
      "text/plain": [
       "<folium.folium.Map at 0x2bc9d626410>"
      ]
     },
     "execution_count": 66,
     "metadata": {},
     "output_type": "execute_result"
    }
   ],
   "source": [
    "libraries.explore(style_kwds={\"radius\":4})"
   ]
  },
  {
   "cell_type": "markdown",
   "id": "85159d11-9ad0-48f2-b01c-b046618d071c",
   "metadata": {},
   "source": [
    "Use the `assign_geo_identifiers()` function to iterate through the requested geography levels (in this case \"county\" and \"place\"), labeling each point with the identifier of the geography in each level where the point is located."
   ]
  },
  {
   "cell_type": "code",
   "execution_count": 67,
   "id": "40da6862-fa29-4320-83b1-6501dd8d7c28",
   "metadata": {
    "tags": []
   },
   "outputs": [
    {
     "name": "stdout",
     "output_type": "stream",
     "text": [
      "morpc.assign_geo_identifiers | INFO | Determining identifiers for geography county\n",
      "morpc.assign_geo_identifiers | INFO | Determining identifiers for geography place\n"
     ]
    }
   ],
   "source": [
    "librariesEnriched = morpc.assign_geo_identifiers(libraries, [\"county\",\"place\"])"
   ]
  },
  {
   "cell_type": "markdown",
   "id": "2f6a9bbb-76b1-4244-9133-07dd44a063f1",
   "metadata": {},
   "source": [
    "Note that two columns have been added to the dataframe, one that contains the identifier for the county the library is located in and one that contains the identifier for the place.  "
   ]
  },
  {
   "cell_type": "code",
   "execution_count": 68,
   "id": "40dfde88-0230-47e4-9db7-2619cff6f9b9",
   "metadata": {
    "tags": []
   },
   "outputs": [
    {
     "data": {
      "text/html": [
       "<div>\n",
       "<style scoped>\n",
       "    .dataframe tbody tr th:only-of-type {\n",
       "        vertical-align: middle;\n",
       "    }\n",
       "\n",
       "    .dataframe tbody tr th {\n",
       "        vertical-align: top;\n",
       "    }\n",
       "\n",
       "    .dataframe thead th {\n",
       "        text-align: right;\n",
       "    }\n",
       "</style>\n",
       "<table border=\"1\" class=\"dataframe\">\n",
       "  <thead>\n",
       "    <tr style=\"text-align: right;\">\n",
       "      <th></th>\n",
       "      <th>NAME</th>\n",
       "      <th>ADDRESS</th>\n",
       "      <th>geometry</th>\n",
       "      <th>id_county</th>\n",
       "      <th>id_place</th>\n",
       "    </tr>\n",
       "  </thead>\n",
       "  <tbody>\n",
       "    <tr>\n",
       "      <th>0</th>\n",
       "      <td>Fairfield County District Library Northwest Br...</td>\n",
       "      <td>2855 Helena Dr NW</td>\n",
       "      <td>POINT (-82.68429 39.76979)</td>\n",
       "      <td>39045</td>\n",
       "      <td>NaN</td>\n",
       "    </tr>\n",
       "    <tr>\n",
       "      <th>1</th>\n",
       "      <td>Marysville School District Public Library Raym...</td>\n",
       "      <td>21698 Main St</td>\n",
       "      <td>POINT (-83.46767 40.33515)</td>\n",
       "      <td>39159</td>\n",
       "      <td>3965676</td>\n",
       "    </tr>\n",
       "    <tr>\n",
       "      <th>2</th>\n",
       "      <td>Richwood-North Union Public Library</td>\n",
       "      <td>4 E. Ottawa St</td>\n",
       "      <td>POINT (-83.29605 40.42629)</td>\n",
       "      <td>39159</td>\n",
       "      <td>3966936</td>\n",
       "    </tr>\n",
       "    <tr>\n",
       "      <th>3</th>\n",
       "      <td>Marysville School District Public Library</td>\n",
       "      <td>231 S. Plum St</td>\n",
       "      <td>POINT (-83.36611 40.23504)</td>\n",
       "      <td>39159</td>\n",
       "      <td>3948160</td>\n",
       "    </tr>\n",
       "    <tr>\n",
       "      <th>4</th>\n",
       "      <td>Pickaway Co. District Public Library</td>\n",
       "      <td>1160 N. Court St</td>\n",
       "      <td>POINT (-82.93864 39.61947)</td>\n",
       "      <td>39129</td>\n",
       "      <td>3915070</td>\n",
       "    </tr>\n",
       "  </tbody>\n",
       "</table>\n",
       "</div>"
      ],
      "text/plain": [
       "                                                NAME            ADDRESS  \\\n",
       "0  Fairfield County District Library Northwest Br...  2855 Helena Dr NW   \n",
       "1  Marysville School District Public Library Raym...      21698 Main St   \n",
       "2                Richwood-North Union Public Library     4 E. Ottawa St   \n",
       "3          Marysville School District Public Library     231 S. Plum St   \n",
       "4               Pickaway Co. District Public Library   1160 N. Court St   \n",
       "\n",
       "                     geometry id_county id_place  \n",
       "0  POINT (-82.68429 39.76979)     39045      NaN  \n",
       "1  POINT (-83.46767 40.33515)     39159  3965676  \n",
       "2  POINT (-83.29605 40.42629)     39159  3966936  \n",
       "3  POINT (-83.36611 40.23504)     39159  3948160  \n",
       "4  POINT (-82.93864 39.61947)     39129  3915070  "
      ]
     },
     "execution_count": 68,
     "metadata": {},
     "output_type": "execute_result"
    }
   ],
   "source": [
    "librariesEnriched.head()"
   ]
  },
  {
   "cell_type": "markdown",
   "id": "f3d7264f-5340-49db-8b1d-885428db7948",
   "metadata": {},
   "source": [
    "Let's take a look at libraries, symbolizing each according to the county where it is located."
   ]
  },
  {
   "cell_type": "code",
   "execution_count": 69,
   "id": "34541f4d-405a-4fb9-91fe-97186f7f66bf",
   "metadata": {
    "tags": []
   },
   "outputs": [
    {
     "data": {
      "text/html": [
       "<div style=\"width:100%;\"><div style=\"position:relative;width:100%;height:0;padding-bottom:60%;\"><span style=\"color:#565656\">Make this Notebook Trusted to load map: File -> Trust Notebook</span><iframe srcdoc=\"&lt;!DOCTYPE html&gt;\n",
       "&lt;html&gt;\n",
       "&lt;head&gt;\n",
       "    \n",
       "    &lt;meta http-equiv=&quot;content-type&quot; content=&quot;text/html; charset=UTF-8&quot; /&gt;\n",
       "    \n",
       "        &lt;script&gt;\n",
       "            L_NO_TOUCH = false;\n",
       "            L_DISABLE_3D = false;\n",
       "        &lt;/script&gt;\n",
       "    \n",
       "    &lt;style&gt;html, body {width: 100%;height: 100%;margin: 0;padding: 0;}&lt;/style&gt;\n",
       "    &lt;style&gt;#map {position:absolute;top:0;bottom:0;right:0;left:0;}&lt;/style&gt;\n",
       "    &lt;script src=&quot;https://cdn.jsdelivr.net/npm/leaflet@1.9.3/dist/leaflet.js&quot;&gt;&lt;/script&gt;\n",
       "    &lt;script src=&quot;https://code.jquery.com/jquery-3.7.1.min.js&quot;&gt;&lt;/script&gt;\n",
       "    &lt;script src=&quot;https://cdn.jsdelivr.net/npm/bootstrap@5.2.2/dist/js/bootstrap.bundle.min.js&quot;&gt;&lt;/script&gt;\n",
       "    &lt;script src=&quot;https://cdnjs.cloudflare.com/ajax/libs/Leaflet.awesome-markers/2.0.2/leaflet.awesome-markers.js&quot;&gt;&lt;/script&gt;\n",
       "    &lt;link rel=&quot;stylesheet&quot; href=&quot;https://cdn.jsdelivr.net/npm/leaflet@1.9.3/dist/leaflet.css&quot;/&gt;\n",
       "    &lt;link rel=&quot;stylesheet&quot; href=&quot;https://cdn.jsdelivr.net/npm/bootstrap@5.2.2/dist/css/bootstrap.min.css&quot;/&gt;\n",
       "    &lt;link rel=&quot;stylesheet&quot; href=&quot;https://netdna.bootstrapcdn.com/bootstrap/3.0.0/css/bootstrap-glyphicons.css&quot;/&gt;\n",
       "    &lt;link rel=&quot;stylesheet&quot; href=&quot;https://cdn.jsdelivr.net/npm/@fortawesome/fontawesome-free@6.2.0/css/all.min.css&quot;/&gt;\n",
       "    &lt;link rel=&quot;stylesheet&quot; href=&quot;https://cdnjs.cloudflare.com/ajax/libs/Leaflet.awesome-markers/2.0.2/leaflet.awesome-markers.css&quot;/&gt;\n",
       "    &lt;link rel=&quot;stylesheet&quot; href=&quot;https://cdn.jsdelivr.net/gh/python-visualization/folium/folium/templates/leaflet.awesome.rotate.min.css&quot;/&gt;\n",
       "    \n",
       "            &lt;meta name=&quot;viewport&quot; content=&quot;width=device-width,\n",
       "                initial-scale=1.0, maximum-scale=1.0, user-scalable=no&quot; /&gt;\n",
       "            &lt;style&gt;\n",
       "                #map_2ee3957bf7872e8f5380a20e86d34b82 {\n",
       "                    position: relative;\n",
       "                    width: 100.0%;\n",
       "                    height: 100.0%;\n",
       "                    left: 0.0%;\n",
       "                    top: 0.0%;\n",
       "                }\n",
       "                .leaflet-container { font-size: 1rem; }\n",
       "            &lt;/style&gt;\n",
       "        \n",
       "    \n",
       "                    &lt;style&gt;\n",
       "                        .foliumtooltip {\n",
       "                            \n",
       "                        }\n",
       "                       .foliumtooltip table{\n",
       "                            margin: auto;\n",
       "                        }\n",
       "                        .foliumtooltip tr{\n",
       "                            text-align: left;\n",
       "                        }\n",
       "                        .foliumtooltip th{\n",
       "                            padding: 2px; padding-right: 8px;\n",
       "                        }\n",
       "                    &lt;/style&gt;\n",
       "            \n",
       "    \n",
       "    &lt;script src=&quot;https://code.jquery.com/ui/1.12.1/jquery-ui.js&quot;&gt;&lt;/script&gt;\n",
       "    &lt;script&gt;$( function() {\n",
       "        $( &quot;.maplegend&quot; ).draggable({\n",
       "            start: function (event, ui) {\n",
       "                $(this).css({\n",
       "                    right: &quot;auto&quot;,\n",
       "                    top: &quot;auto&quot;,\n",
       "                    bottom: &quot;auto&quot;\n",
       "                });\n",
       "            }\n",
       "        });\n",
       "    });\n",
       "    &lt;/script&gt;\n",
       "    &lt;style type=&#x27;text/css&#x27;&gt;\n",
       "      .maplegend {\n",
       "        position: absolute;\n",
       "        z-index:9999;\n",
       "        background-color: rgba(255, 255, 255, .8);\n",
       "        border-radius: 5px;\n",
       "        box-shadow: 0 0 15px rgba(0,0,0,0.2);\n",
       "        padding: 10px;\n",
       "        font: 12px/14px Arial, Helvetica, sans-serif;\n",
       "        right: 10px;\n",
       "        bottom: 20px;\n",
       "      }\n",
       "      .maplegend .legend-title {\n",
       "        text-align: left;\n",
       "        margin-bottom: 5px;\n",
       "        font-weight: bold;\n",
       "        }\n",
       "      .maplegend .legend-scale ul {\n",
       "        margin: 0;\n",
       "        margin-bottom: 0px;\n",
       "        padding: 0;\n",
       "        float: left;\n",
       "        list-style: none;\n",
       "        }\n",
       "      .maplegend .legend-scale ul li {\n",
       "        list-style: none;\n",
       "        margin-left: 0;\n",
       "        line-height: 16px;\n",
       "        margin-bottom: 2px;\n",
       "        }\n",
       "      .maplegend ul.legend-labels li span {\n",
       "        display: block;\n",
       "        float: left;\n",
       "        height: 14px;\n",
       "        width: 14px;\n",
       "        margin-right: 5px;\n",
       "        margin-left: 0;\n",
       "        border: 0px solid #ccc;\n",
       "        }\n",
       "      .maplegend .legend-source {\n",
       "        color: #777;\n",
       "        clear: both;\n",
       "        }\n",
       "      .maplegend a {\n",
       "        color: #777;\n",
       "        }\n",
       "    &lt;/style&gt;\n",
       "    \n",
       "&lt;/head&gt;\n",
       "&lt;body&gt;\n",
       "    \n",
       "    \n",
       "    &lt;div id=&#x27;maplegend id_county&#x27; class=&#x27;maplegend&#x27;&gt;\n",
       "        &lt;div class=&#x27;legend-title&#x27;&gt;id_county&lt;/div&gt;\n",
       "        &lt;div class=&#x27;legend-scale&#x27;&gt;\n",
       "            &lt;ul class=&#x27;legend-labels&#x27;&gt;\n",
       "                &lt;li&gt;&lt;span style=&#x27;background:#1f77b4&#x27;&gt;&lt;/span&gt;39041&lt;/li&gt;\n",
       "                &lt;li&gt;&lt;span style=&#x27;background:#aec7e8&#x27;&gt;&lt;/span&gt;39045&lt;/li&gt;\n",
       "                &lt;li&gt;&lt;span style=&#x27;background:#ff7f0e&#x27;&gt;&lt;/span&gt;39047&lt;/li&gt;\n",
       "                &lt;li&gt;&lt;span style=&#x27;background:#2ca02c&#x27;&gt;&lt;/span&gt;39049&lt;/li&gt;\n",
       "                &lt;li&gt;&lt;span style=&#x27;background:#98df8a&#x27;&gt;&lt;/span&gt;39073&lt;/li&gt;\n",
       "                &lt;li&gt;&lt;span style=&#x27;background:#ff9896&#x27;&gt;&lt;/span&gt;39083&lt;/li&gt;\n",
       "                &lt;li&gt;&lt;span style=&#x27;background:#9467bd&#x27;&gt;&lt;/span&gt;39089&lt;/li&gt;\n",
       "                &lt;li&gt;&lt;span style=&#x27;background:#8c564b&#x27;&gt;&lt;/span&gt;39091&lt;/li&gt;\n",
       "                &lt;li&gt;&lt;span style=&#x27;background:#c49c94&#x27;&gt;&lt;/span&gt;39097&lt;/li&gt;\n",
       "                &lt;li&gt;&lt;span style=&#x27;background:#e377c2&#x27;&gt;&lt;/span&gt;39101&lt;/li&gt;\n",
       "                &lt;li&gt;&lt;span style=&#x27;background:#7f7f7f&#x27;&gt;&lt;/span&gt;39117&lt;/li&gt;\n",
       "                &lt;li&gt;&lt;span style=&#x27;background:#c7c7c7&#x27;&gt;&lt;/span&gt;39127&lt;/li&gt;\n",
       "                &lt;li&gt;&lt;span style=&#x27;background:#dbdb8d&#x27;&gt;&lt;/span&gt;39129&lt;/li&gt;\n",
       "                &lt;li&gt;&lt;span style=&#x27;background:#17becf&#x27;&gt;&lt;/span&gt;39141&lt;/li&gt;\n",
       "                &lt;li&gt;&lt;span style=&#x27;background:#9edae5&#x27;&gt;&lt;/span&gt;39159&lt;/li&gt;\n",
       "            &lt;/ul&gt;\n",
       "        &lt;/div&gt;\n",
       "    &lt;/div&gt;\n",
       "    \n",
       "    \n",
       "            &lt;div class=&quot;folium-map&quot; id=&quot;map_2ee3957bf7872e8f5380a20e86d34b82&quot; &gt;&lt;/div&gt;\n",
       "        \n",
       "&lt;/body&gt;\n",
       "&lt;script&gt;\n",
       "    \n",
       "    \n",
       "            var map_2ee3957bf7872e8f5380a20e86d34b82 = L.map(\n",
       "                &quot;map_2ee3957bf7872e8f5380a20e86d34b82&quot;,\n",
       "                {\n",
       "                    center: [39.98345478761455, -83.00588763104406],\n",
       "                    crs: L.CRS.EPSG3857,\n",
       "                    ...{\n",
       "  &quot;zoom&quot;: 10,\n",
       "  &quot;zoomControl&quot;: true,\n",
       "  &quot;preferCanvas&quot;: false,\n",
       "}\n",
       "\n",
       "                }\n",
       "            );\n",
       "            L.control.scale().addTo(map_2ee3957bf7872e8f5380a20e86d34b82);\n",
       "\n",
       "            \n",
       "\n",
       "        \n",
       "    \n",
       "            var tile_layer_62c370fa0a9754578058700a49a7c5e3 = L.tileLayer(\n",
       "                &quot;https://tile.openstreetmap.org/{z}/{x}/{y}.png&quot;,\n",
       "                {\n",
       "  &quot;minZoom&quot;: 0,\n",
       "  &quot;maxZoom&quot;: 19,\n",
       "  &quot;maxNativeZoom&quot;: 19,\n",
       "  &quot;noWrap&quot;: false,\n",
       "  &quot;attribution&quot;: &quot;\\u0026copy; \\u003ca href=\\&quot;https://www.openstreetmap.org/copyright\\&quot;\\u003eOpenStreetMap\\u003c/a\\u003e contributors&quot;,\n",
       "  &quot;subdomains&quot;: &quot;abc&quot;,\n",
       "  &quot;detectRetina&quot;: false,\n",
       "  &quot;tms&quot;: false,\n",
       "  &quot;opacity&quot;: 1,\n",
       "}\n",
       "\n",
       "            );\n",
       "        \n",
       "    \n",
       "            tile_layer_62c370fa0a9754578058700a49a7c5e3.addTo(map_2ee3957bf7872e8f5380a20e86d34b82);\n",
       "        \n",
       "    \n",
       "            map_2ee3957bf7872e8f5380a20e86d34b82.fitBounds(\n",
       "                [[39.3298618160501, -83.9241912264021], [40.637047759179, -82.087584035686]],\n",
       "                {}\n",
       "            );\n",
       "        \n",
       "    \n",
       "        function geo_json_f903ebfc75a2b7cfba2dcf559aa8947c_styler(feature) {\n",
       "            switch(feature.id) {\n",
       "                case &quot;0&quot;: case &quot;43&quot;: case &quot;44&quot;: case &quot;45&quot;: case &quot;46&quot;: case &quot;47&quot;: case &quot;48&quot;: \n",
       "                    return {&quot;color&quot;: &quot;#aec7e8&quot;, &quot;fillColor&quot;: &quot;#aec7e8&quot;, &quot;fillOpacity&quot;: 0.5, &quot;radius&quot;: 4, &quot;weight&quot;: 2};\n",
       "                case &quot;1&quot;: case &quot;2&quot;: case &quot;3&quot;: \n",
       "                    return {&quot;color&quot;: &quot;#9edae5&quot;, &quot;fillColor&quot;: &quot;#9edae5&quot;, &quot;fillOpacity&quot;: 0.5, &quot;radius&quot;: 4, &quot;weight&quot;: 2};\n",
       "                case &quot;4&quot;: case &quot;5&quot;: \n",
       "                    return {&quot;color&quot;: &quot;#dbdb8d&quot;, &quot;fillColor&quot;: &quot;#dbdb8d&quot;, &quot;fillOpacity&quot;: 0.5, &quot;radius&quot;: 4, &quot;weight&quot;: 2};\n",
       "                case &quot;6&quot;: case &quot;7&quot;: case &quot;8&quot;: case &quot;9&quot;: \n",
       "                    return {&quot;color&quot;: &quot;#c49c94&quot;, &quot;fillColor&quot;: &quot;#c49c94&quot;, &quot;fillOpacity&quot;: 0.5, &quot;radius&quot;: 4, &quot;weight&quot;: 2};\n",
       "                case &quot;10&quot;: case &quot;11&quot;: case &quot;12&quot;: case &quot;13&quot;: case &quot;14&quot;: case &quot;15&quot;: case &quot;16&quot;: case &quot;17&quot;: case &quot;18&quot;: case &quot;19&quot;: case &quot;20&quot;: case &quot;21&quot;: case &quot;22&quot;: case &quot;23&quot;: case &quot;24&quot;: case &quot;25&quot;: case &quot;26&quot;: case &quot;27&quot;: case &quot;28&quot;: case &quot;29&quot;: case &quot;30&quot;: case &quot;31&quot;: case &quot;32&quot;: case &quot;33&quot;: case &quot;34&quot;: case &quot;35&quot;: case &quot;36&quot;: case &quot;37&quot;: case &quot;38&quot;: case &quot;39&quot;: case &quot;40&quot;: case &quot;41&quot;: case &quot;42&quot;: case &quot;63&quot;: case &quot;64&quot;: case &quot;65&quot;: case &quot;66&quot;: case &quot;67&quot;: \n",
       "                    return {&quot;color&quot;: &quot;#2ca02c&quot;, &quot;fillColor&quot;: &quot;#2ca02c&quot;, &quot;fillOpacity&quot;: 0.5, &quot;radius&quot;: 4, &quot;weight&quot;: 2};\n",
       "                case &quot;49&quot;: case &quot;50&quot;: case &quot;51&quot;: case &quot;52&quot;: case &quot;53&quot;: \n",
       "                    return {&quot;color&quot;: &quot;#1f77b4&quot;, &quot;fillColor&quot;: &quot;#1f77b4&quot;, &quot;fillOpacity&quot;: 0.5, &quot;radius&quot;: 4, &quot;weight&quot;: 2};\n",
       "                case &quot;54&quot;: case &quot;55&quot;: case &quot;56&quot;: case &quot;57&quot;: case &quot;58&quot;: case &quot;59&quot;: case &quot;60&quot;: case &quot;61&quot;: case &quot;62&quot;: \n",
       "                    return {&quot;color&quot;: &quot;#9467bd&quot;, &quot;fillColor&quot;: &quot;#9467bd&quot;, &quot;fillOpacity&quot;: 0.5, &quot;radius&quot;: 4, &quot;weight&quot;: 2};\n",
       "                case &quot;68&quot;: case &quot;74&quot;: case &quot;75&quot;: case &quot;76&quot;: case &quot;77&quot;: case &quot;78&quot;: case &quot;79&quot;: case &quot;80&quot;: case &quot;81&quot;: \n",
       "                    return {&quot;color&quot;: &quot;#8c564b&quot;, &quot;fillColor&quot;: &quot;#8c564b&quot;, &quot;fillOpacity&quot;: 0.5, &quot;radius&quot;: 4, &quot;weight&quot;: 2};\n",
       "                case &quot;69&quot;: \n",
       "                    return {&quot;color&quot;: &quot;#17becf&quot;, &quot;fillColor&quot;: &quot;#17becf&quot;, &quot;fillOpacity&quot;: 0.5, &quot;radius&quot;: 4, &quot;weight&quot;: 2};\n",
       "                case &quot;70&quot;: \n",
       "                    return {&quot;color&quot;: &quot;#ff7f0e&quot;, &quot;fillColor&quot;: &quot;#ff7f0e&quot;, &quot;fillOpacity&quot;: 0.5, &quot;radius&quot;: 4, &quot;weight&quot;: 2};\n",
       "                case &quot;71&quot;: \n",
       "                    return {&quot;color&quot;: &quot;#98df8a&quot;, &quot;fillColor&quot;: &quot;#98df8a&quot;, &quot;fillOpacity&quot;: 0.5, &quot;radius&quot;: 4, &quot;weight&quot;: 2};\n",
       "                case &quot;72&quot;: case &quot;73&quot;: \n",
       "                    return {&quot;color&quot;: &quot;#ff9896&quot;, &quot;fillColor&quot;: &quot;#ff9896&quot;, &quot;fillOpacity&quot;: 0.5, &quot;radius&quot;: 4, &quot;weight&quot;: 2};\n",
       "                case &quot;82&quot;: case &quot;83&quot;: case &quot;84&quot;: case &quot;85&quot;: \n",
       "                    return {&quot;color&quot;: &quot;#e377c2&quot;, &quot;fillColor&quot;: &quot;#e377c2&quot;, &quot;fillOpacity&quot;: 0.5, &quot;radius&quot;: 4, &quot;weight&quot;: 2};\n",
       "                case &quot;86&quot;: case &quot;87&quot;: case &quot;88&quot;: case &quot;96&quot;: \n",
       "                    return {&quot;color&quot;: &quot;#7f7f7f&quot;, &quot;fillColor&quot;: &quot;#7f7f7f&quot;, &quot;fillOpacity&quot;: 0.5, &quot;radius&quot;: 4, &quot;weight&quot;: 2};\n",
       "                default:\n",
       "                    return {&quot;color&quot;: &quot;#c7c7c7&quot;, &quot;fillColor&quot;: &quot;#c7c7c7&quot;, &quot;fillOpacity&quot;: 0.5, &quot;radius&quot;: 4, &quot;weight&quot;: 2};\n",
       "            }\n",
       "        }\n",
       "        function geo_json_f903ebfc75a2b7cfba2dcf559aa8947c_highlighter(feature) {\n",
       "            switch(feature.id) {\n",
       "                default:\n",
       "                    return {&quot;fillOpacity&quot;: 0.75};\n",
       "            }\n",
       "        }\n",
       "        function geo_json_f903ebfc75a2b7cfba2dcf559aa8947c_pointToLayer(feature, latlng) {\n",
       "            var opts = {&quot;bubblingMouseEvents&quot;: true, &quot;color&quot;: &quot;#3388ff&quot;, &quot;dashArray&quot;: null, &quot;dashOffset&quot;: null, &quot;fill&quot;: true, &quot;fillColor&quot;: &quot;#3388ff&quot;, &quot;fillOpacity&quot;: 0.2, &quot;fillRule&quot;: &quot;evenodd&quot;, &quot;lineCap&quot;: &quot;round&quot;, &quot;lineJoin&quot;: &quot;round&quot;, &quot;opacity&quot;: 1.0, &quot;radius&quot;: 2, &quot;stroke&quot;: true, &quot;weight&quot;: 3};\n",
       "            \n",
       "            let style = geo_json_f903ebfc75a2b7cfba2dcf559aa8947c_styler(feature)\n",
       "            Object.assign(opts, style)\n",
       "            \n",
       "            return new L.CircleMarker(latlng, opts)\n",
       "        }\n",
       "\n",
       "        function geo_json_f903ebfc75a2b7cfba2dcf559aa8947c_onEachFeature(feature, layer) {\n",
       "            layer.on({\n",
       "                mouseout: function(e) {\n",
       "                    if(typeof e.target.setStyle === &quot;function&quot;){\n",
       "                            geo_json_f903ebfc75a2b7cfba2dcf559aa8947c.resetStyle(e.target);\n",
       "                    }\n",
       "                },\n",
       "                mouseover: function(e) {\n",
       "                    if(typeof e.target.setStyle === &quot;function&quot;){\n",
       "                        const highlightStyle = geo_json_f903ebfc75a2b7cfba2dcf559aa8947c_highlighter(e.target.feature)\n",
       "                        e.target.setStyle(highlightStyle);\n",
       "                    }\n",
       "                },\n",
       "            });\n",
       "        };\n",
       "        var geo_json_f903ebfc75a2b7cfba2dcf559aa8947c = L.geoJson(null, {\n",
       "                onEachFeature: geo_json_f903ebfc75a2b7cfba2dcf559aa8947c_onEachFeature,\n",
       "            \n",
       "                style: geo_json_f903ebfc75a2b7cfba2dcf559aa8947c_styler,\n",
       "                pointToLayer: geo_json_f903ebfc75a2b7cfba2dcf559aa8947c_pointToLayer,\n",
       "            ...{\n",
       "}\n",
       "        });\n",
       "\n",
       "        function geo_json_f903ebfc75a2b7cfba2dcf559aa8947c_add (data) {\n",
       "            geo_json_f903ebfc75a2b7cfba2dcf559aa8947c\n",
       "                .addData(data);\n",
       "        }\n",
       "            geo_json_f903ebfc75a2b7cfba2dcf559aa8947c_add({&quot;bbox&quot;: [-83.9241912264021, 39.3298618160501, -82.087584035686, 40.637047759179], &quot;features&quot;: [{&quot;bbox&quot;: [-82.6842851520357, 39.7697907908279, -82.6842851520357, 39.7697907908279], &quot;geometry&quot;: {&quot;coordinates&quot;: [-82.6842851520357, 39.7697907908279], &quot;type&quot;: &quot;Point&quot;}, &quot;id&quot;: &quot;0&quot;, &quot;properties&quot;: {&quot;ADDRESS&quot;: &quot;2855 Helena Dr NW&quot;, &quot;NAME&quot;: &quot;Fairfield County District Library Northwest Branch&quot;, &quot;__folium_color&quot;: &quot;#aec7e8&quot;, &quot;id_county&quot;: &quot;39045&quot;, &quot;id_place&quot;: null}, &quot;type&quot;: &quot;Feature&quot;}, {&quot;bbox&quot;: [-83.4676731224247, 40.3351465051175, -83.4676731224247, 40.3351465051175], &quot;geometry&quot;: {&quot;coordinates&quot;: [-83.4676731224247, 40.3351465051175], &quot;type&quot;: &quot;Point&quot;}, &quot;id&quot;: &quot;1&quot;, &quot;properties&quot;: {&quot;ADDRESS&quot;: &quot;21698 Main St&quot;, &quot;NAME&quot;: &quot;Marysville School District Public Library Raymond Branch&quot;, &quot;__folium_color&quot;: &quot;#9edae5&quot;, &quot;id_county&quot;: &quot;39159&quot;, &quot;id_place&quot;: &quot;3965676&quot;}, &quot;type&quot;: &quot;Feature&quot;}, {&quot;bbox&quot;: [-83.2960529998877, 40.4262948804552, -83.2960529998877, 40.4262948804552], &quot;geometry&quot;: {&quot;coordinates&quot;: [-83.2960529998877, 40.4262948804552], &quot;type&quot;: &quot;Point&quot;}, &quot;id&quot;: &quot;2&quot;, &quot;properties&quot;: {&quot;ADDRESS&quot;: &quot;4 E. Ottawa St&quot;, &quot;NAME&quot;: &quot;Richwood-North Union Public Library&quot;, &quot;__folium_color&quot;: &quot;#9edae5&quot;, &quot;id_county&quot;: &quot;39159&quot;, &quot;id_place&quot;: &quot;3966936&quot;}, &quot;type&quot;: &quot;Feature&quot;}, {&quot;bbox&quot;: [-83.3661078207964, 40.2350394928228, -83.3661078207964, 40.2350394928228], &quot;geometry&quot;: {&quot;coordinates&quot;: [-83.3661078207964, 40.2350394928228], &quot;type&quot;: &quot;Point&quot;}, &quot;id&quot;: &quot;3&quot;, &quot;properties&quot;: {&quot;ADDRESS&quot;: &quot;231 S. Plum St&quot;, &quot;NAME&quot;: &quot;Marysville School District Public Library&quot;, &quot;__folium_color&quot;: &quot;#9edae5&quot;, &quot;id_county&quot;: &quot;39159&quot;, &quot;id_place&quot;: &quot;3948160&quot;}, &quot;type&quot;: &quot;Feature&quot;}, {&quot;bbox&quot;: [-82.9386383383752, 39.6194687501101, -82.9386383383752, 39.6194687501101], &quot;geometry&quot;: {&quot;coordinates&quot;: [-82.9386383383752, 39.6194687501101], &quot;type&quot;: &quot;Point&quot;}, &quot;id&quot;: &quot;4&quot;, &quot;properties&quot;: {&quot;ADDRESS&quot;: &quot;1160 N. Court St&quot;, &quot;NAME&quot;: &quot;Pickaway Co. District Public Library&quot;, &quot;__folium_color&quot;: &quot;#dbdb8d&quot;, &quot;id_county&quot;: &quot;39129&quot;, &quot;id_place&quot;: &quot;3915070&quot;}, &quot;type&quot;: &quot;Feature&quot;}, {&quot;bbox&quot;: [-82.953736797335, 39.7143219296381, -82.953736797335, 39.7143219296381], &quot;geometry&quot;: {&quot;coordinates&quot;: [-82.953736797335, 39.7143219296381], &quot;type&quot;: &quot;Point&quot;}, &quot;id&quot;: &quot;5&quot;, &quot;properties&quot;: {&quot;ADDRESS&quot;: &quot;51 Long St&quot;, &quot;NAME&quot;: &quot;Pickaway Co. District Public Library Floyd E. Younkin Branch&quot;, &quot;__folium_color&quot;: &quot;#dbdb8d&quot;, &quot;id_county&quot;: &quot;39129&quot;, &quot;id_place&quot;: &quot;3902680&quot;}, &quot;type&quot;: &quot;Feature&quot;}, {&quot;bbox&quot;: [-83.2663829923402, 39.7186790728588, -83.2663829923402, 39.7186790728588], &quot;geometry&quot;: {&quot;coordinates&quot;: [-83.2663829923402, 39.7186790728588], &quot;type&quot;: &quot;Point&quot;}, &quot;id&quot;: &quot;6&quot;, &quot;properties&quot;: {&quot;ADDRESS&quot;: &quot;60 W. Columbus St&quot;, &quot;NAME&quot;: &quot;Mt. Sterling Public Library&quot;, &quot;__folium_color&quot;: &quot;#c49c94&quot;, &quot;id_county&quot;: &quot;39097&quot;, &quot;id_place&quot;: &quot;3953046&quot;}, &quot;type&quot;: &quot;Feature&quot;}, {&quot;bbox&quot;: [-83.2737747193497, 39.9389331901837, -83.2737747193497, 39.9389331901837], &quot;geometry&quot;: {&quot;coordinates&quot;: [-83.2737747193497, 39.9389331901837], &quot;type&quot;: &quot;Point&quot;}, &quot;id&quot;: &quot;7&quot;, &quot;properties&quot;: {&quot;ADDRESS&quot;: &quot;270 Lilly Chapel Rd&quot;, &quot;NAME&quot;: &quot;Hurt/Battelle Memorial Library Of West Jefferson&quot;, &quot;__folium_color&quot;: &quot;#c49c94&quot;, &quot;id_county&quot;: &quot;39097&quot;, &quot;id_place&quot;: &quot;3983580&quot;}, &quot;type&quot;: &quot;Feature&quot;}, {&quot;bbox&quot;: [-83.2695810022159, 40.1078346671016, -83.2695810022159, 40.1078346671016], &quot;geometry&quot;: {&quot;coordinates&quot;: [-83.2695810022159, 40.1078346671016], &quot;type&quot;: &quot;Point&quot;}, &quot;id&quot;: &quot;8&quot;, &quot;properties&quot;: {&quot;ADDRESS&quot;: &quot;305 W. Main St&quot;, &quot;NAME&quot;: &quot;Plain City Public Library&quot;, &quot;__folium_color&quot;: &quot;#c49c94&quot;, &quot;id_county&quot;: &quot;39097&quot;, &quot;id_place&quot;: &quot;3963030&quot;}, &quot;type&quot;: &quot;Feature&quot;}, {&quot;bbox&quot;: [-83.4454832255098, 39.8854948989494, -83.4454832255098, 39.8854948989494], &quot;geometry&quot;: {&quot;coordinates&quot;: [-83.4454832255098, 39.8854948989494], &quot;type&quot;: &quot;Point&quot;}, &quot;id&quot;: &quot;9&quot;, &quot;properties&quot;: {&quot;ADDRESS&quot;: &quot;20 E. First St&quot;, &quot;NAME&quot;: &quot;London Public Library&quot;, &quot;__folium_color&quot;: &quot;#c49c94&quot;, &quot;id_county&quot;: &quot;39097&quot;, &quot;id_place&quot;: &quot;3944674&quot;}, &quot;type&quot;: &quot;Feature&quot;}, {&quot;bbox&quot;: [-82.9897617211046, 39.9612137232294, -82.9897617211046, 39.9612137232294], &quot;geometry&quot;: {&quot;coordinates&quot;: [-82.9897617211046, 39.9612137232294], &quot;type&quot;: &quot;Point&quot;}, &quot;id&quot;: &quot;10&quot;, &quot;properties&quot;: {&quot;ADDRESS&quot;: &quot;96 S. Grant Ave&quot;, &quot;NAME&quot;: &quot;Columbus Metropolitan Library Main&quot;, &quot;__folium_color&quot;: &quot;#2ca02c&quot;, &quot;id_county&quot;: &quot;39049&quot;, &quot;id_place&quot;: &quot;3918000&quot;}, &quot;type&quot;: &quot;Feature&quot;}, {&quot;bbox&quot;: [-83.0067776739771, 39.9913674989808, -83.0067776739771, 39.9913674989808], &quot;geometry&quot;: {&quot;coordinates&quot;: [-83.0067776739771, 39.9913674989808], &quot;type&quot;: &quot;Point&quot;}, &quot;id&quot;: &quot;11&quot;, &quot;properties&quot;: {&quot;ADDRESS&quot;: &quot;1423 N. High St&quot;, &quot;NAME&quot;: &quot;Columbus Metropolitan Library Northside Branch&quot;, &quot;__folium_color&quot;: &quot;#2ca02c&quot;, &quot;id_county&quot;: &quot;39049&quot;, &quot;id_place&quot;: &quot;3918000&quot;}, &quot;type&quot;: &quot;Feature&quot;}, {&quot;bbox&quot;: [-82.9683518867601, 40.0126747271083, -82.9683518867601, 40.0126747271083], &quot;geometry&quot;: {&quot;coordinates&quot;: [-82.9683518867601, 40.0126747271083], &quot;type&quot;: &quot;Point&quot;}, &quot;id&quot;: &quot;12&quot;, &quot;properties&quot;: {&quot;ADDRESS&quot;: &quot;2223 Cleveland Ave&quot;, &quot;NAME&quot;: &quot;Columbus Metropolitan Library Linden Branch&quot;, &quot;__folium_color&quot;: &quot;#2ca02c&quot;, &quot;id_county&quot;: &quot;39049&quot;, &quot;id_place&quot;: &quot;3918000&quot;}, &quot;type&quot;: &quot;Feature&quot;}, {&quot;bbox&quot;: [-83.0192465142297, 40.0415453903429, -83.0192465142297, 40.0415453903429], &quot;geometry&quot;: {&quot;coordinates&quot;: [-83.0192465142297, 40.0415453903429], &quot;type&quot;: &quot;Point&quot;}, &quot;id&quot;: &quot;13&quot;, &quot;properties&quot;: {&quot;ADDRESS&quot;: &quot;3909 N. High St&quot;, &quot;NAME&quot;: &quot;Columbus Metropolitan Library Whetstone Branch&quot;, &quot;__folium_color&quot;: &quot;#2ca02c&quot;, &quot;id_county&quot;: &quot;39049&quot;, &quot;id_place&quot;: &quot;3918000&quot;}, &quot;type&quot;: &quot;Feature&quot;}, {&quot;bbox&quot;: [-82.9297234347049, 40.1230145532762, -82.9297234347049, 40.1230145532762], &quot;geometry&quot;: {&quot;coordinates&quot;: [-82.9297234347049, 40.1230145532762], &quot;type&quot;: &quot;Point&quot;}, &quot;id&quot;: &quot;14&quot;, &quot;properties&quot;: {&quot;ADDRESS&quot;: &quot;126 S. State St&quot;, &quot;NAME&quot;: &quot;Westerville Public Library&quot;, &quot;__folium_color&quot;: &quot;#2ca02c&quot;, &quot;id_county&quot;: &quot;39049&quot;, &quot;id_place&quot;: &quot;3983342&quot;}, &quot;type&quot;: &quot;Feature&quot;}, {&quot;bbox&quot;: [-82.9408605736896, 39.9859677811109, -82.9408605736896, 39.9859677811109], &quot;geometry&quot;: {&quot;coordinates&quot;: [-82.9408605736896, 39.9859677811109], &quot;type&quot;: &quot;Point&quot;}, &quot;id&quot;: &quot;15&quot;, &quot;properties&quot;: {&quot;ADDRESS&quot;: &quot;850 N Nelson Rd&quot;, &quot;NAME&quot;: &quot;Columbus Metropolitan Library Shepard Branch&quot;, &quot;__folium_color&quot;: &quot;#2ca02c&quot;, &quot;id_county&quot;: &quot;39049&quot;, &quot;id_place&quot;: &quot;3918000&quot;}, &quot;type&quot;: &quot;Feature&quot;}, {&quot;bbox&quot;: [-82.9045367295948, 39.9468452385911, -82.9045367295948, 39.9468452385911], &quot;geometry&quot;: {&quot;coordinates&quot;: [-82.9045367295948, 39.9468452385911], &quot;type&quot;: &quot;Point&quot;}, &quot;id&quot;: &quot;16&quot;, &quot;properties&quot;: {&quot;ADDRESS&quot;: &quot;3434 E. Livingston Ave&quot;, &quot;NAME&quot;: &quot;Columbus Metropolitan Library Livingston Branch&quot;, &quot;__folium_color&quot;: &quot;#2ca02c&quot;, &quot;id_county&quot;: &quot;39049&quot;, &quot;id_place&quot;: &quot;3918000&quot;}, &quot;type&quot;: &quot;Feature&quot;}, {&quot;bbox&quot;: [-82.9597273052821, 39.9494241997039, -82.9597273052821, 39.9494241997039], &quot;geometry&quot;: {&quot;coordinates&quot;: [-82.9597273052821, 39.9494241997039], &quot;type&quot;: &quot;Point&quot;}, &quot;id&quot;: &quot;17&quot;, &quot;properties&quot;: {&quot;ADDRESS&quot;: &quot;1422 E. Livingstone Ave&quot;, &quot;NAME&quot;: &quot;Columbus Metropolitan Library Driving Park Branch&quot;, &quot;__folium_color&quot;: &quot;#2ca02c&quot;, &quot;id_county&quot;: &quot;39049&quot;, &quot;id_place&quot;: &quot;3918000&quot;}, &quot;type&quot;: &quot;Feature&quot;}, {&quot;bbox&quot;: [-83.0928751801827, 39.8813443923715, -83.0928751801827, 39.8813443923715], &quot;geometry&quot;: {&quot;coordinates&quot;: [-83.0928751801827, 39.8813443923715], &quot;type&quot;: &quot;Point&quot;}, &quot;id&quot;: &quot;18&quot;, &quot;properties&quot;: {&quot;ADDRESS&quot;: &quot;3359 Park St&quot;, &quot;NAME&quot;: &quot;Southwest Public Library Grove City Branch&quot;, &quot;__folium_color&quot;: &quot;#2ca02c&quot;, &quot;id_county&quot;: &quot;39049&quot;, &quot;id_place&quot;: &quot;3932592&quot;}, &quot;type&quot;: &quot;Feature&quot;}, {&quot;bbox&quot;: [-83.0278131213935, 39.9551572283188, -83.0278131213935, 39.9551572283188], &quot;geometry&quot;: {&quot;coordinates&quot;: [-83.0278131213935, 39.9551572283188], &quot;type&quot;: &quot;Point&quot;}, &quot;id&quot;: &quot;19&quot;, &quot;properties&quot;: {&quot;ADDRESS&quot;: &quot;1061 W. Town St&quot;, &quot;NAME&quot;: &quot;Columbus Metropolitan Library Franklinton Branch&quot;, &quot;__folium_color&quot;: &quot;#2ca02c&quot;, &quot;id_county&quot;: &quot;39049&quot;, &quot;id_place&quot;: &quot;3918000&quot;}, &quot;type&quot;: &quot;Feature&quot;}, {&quot;bbox&quot;: [-83.114732808428, 40.1014682662558, -83.114732808428, 40.1014682662558], &quot;geometry&quot;: {&quot;coordinates&quot;: [-83.114732808428, 40.1014682662558], &quot;type&quot;: &quot;Point&quot;}, &quot;id&quot;: &quot;20&quot;, &quot;properties&quot;: {&quot;ADDRESS&quot;: &quot;75 N. High St&quot;, &quot;NAME&quot;: &quot;Columbus Metropolitan Library Dublin Branch&quot;, &quot;__folium_color&quot;: &quot;#2ca02c&quot;, &quot;id_county&quot;: &quot;39049&quot;, &quot;id_place&quot;: &quot;3922694&quot;}, &quot;type&quot;: &quot;Feature&quot;}, {&quot;bbox&quot;: [-83.1366379079364, 40.0456095232506, -83.1366379079364, 40.0456095232506], &quot;geometry&quot;: {&quot;coordinates&quot;: [-83.1366379079364, 40.0456095232506], &quot;type&quot;: &quot;Point&quot;}, &quot;id&quot;: &quot;21&quot;, &quot;properties&quot;: {&quot;ADDRESS&quot;: &quot;4500 Hickory Chase Way&quot;, &quot;NAME&quot;: &quot;Columbus Metropolitan Library Hilliard Branch&quot;, &quot;__folium_color&quot;: &quot;#2ca02c&quot;, &quot;id_county&quot;: &quot;39049&quot;, &quot;id_place&quot;: &quot;3935476&quot;}, &quot;type&quot;: &quot;Feature&quot;}, {&quot;bbox&quot;: [-83.0761560949737, 40.1185981545267, -83.0761560949737, 40.1185981545267], &quot;geometry&quot;: {&quot;coordinates&quot;: [-83.0761560949737, 40.1185981545267], &quot;type&quot;: &quot;Point&quot;}, &quot;id&quot;: &quot;22&quot;, &quot;properties&quot;: {&quot;ADDRESS&quot;: &quot;2280 Hard Rd&quot;, &quot;NAME&quot;: &quot;Northwest Library&quot;, &quot;__folium_color&quot;: &quot;#2ca02c&quot;, &quot;id_county&quot;: &quot;39049&quot;, &quot;id_place&quot;: &quot;3918000&quot;}, &quot;type&quot;: &quot;Feature&quot;}, {&quot;bbox&quot;: [-83.0711679413156, 40.0465814008826, -83.0711679413156, 40.0465814008826], &quot;geometry&quot;: {&quot;coordinates&quot;: [-83.0711679413156, 40.0465814008826], &quot;type&quot;: &quot;Point&quot;}, &quot;id&quot;: &quot;23&quot;, &quot;properties&quot;: {&quot;ADDRESS&quot;: &quot;1945 Lane Rd&quot;, &quot;NAME&quot;: &quot;Upper Arlington Public Library Lane Rd Branch&quot;, &quot;__folium_color&quot;: &quot;#2ca02c&quot;, &quot;id_county&quot;: &quot;39049&quot;, &quot;id_place&quot;: &quot;3979002&quot;}, &quot;type&quot;: &quot;Feature&quot;}, {&quot;bbox&quot;: [-83.0673726408137, 40.0127560580795, -83.0673726408137, 40.0127560580795], &quot;geometry&quot;: {&quot;coordinates&quot;: [-83.0673726408137, 40.0127560580795], &quot;type&quot;: &quot;Point&quot;}, &quot;id&quot;: &quot;24&quot;, &quot;properties&quot;: {&quot;ADDRESS&quot;: &quot;2800 Tremont Rd&quot;, &quot;NAME&quot;: &quot;Upper Arlington Public Library&quot;, &quot;__folium_color&quot;: &quot;#2ca02c&quot;, &quot;id_county&quot;: &quot;39049&quot;, &quot;id_place&quot;: &quot;3979002&quot;}, &quot;type&quot;: &quot;Feature&quot;}, {&quot;bbox&quot;: [-83.016581928152, 40.0905205802044, -83.016581928152, 40.0905205802044], &quot;geometry&quot;: {&quot;coordinates&quot;: [-83.016581928152, 40.0905205802044], &quot;type&quot;: &quot;Point&quot;}, &quot;id&quot;: &quot;25&quot;, &quot;properties&quot;: {&quot;ADDRESS&quot;: &quot;820 N. High St&quot;, &quot;NAME&quot;: &quot;Old Worthington Public Library&quot;, &quot;__folium_color&quot;: &quot;#2ca02c&quot;, &quot;id_county&quot;: &quot;39049&quot;, &quot;id_place&quot;: &quot;3986604&quot;}, &quot;type&quot;: &quot;Feature&quot;}, {&quot;bbox&quot;: [-82.9744176980046, 40.0810266609512, -82.9744176980046, 40.0810266609512], &quot;geometry&quot;: {&quot;coordinates&quot;: [-82.9744176980046, 40.0810266609512], &quot;type&quot;: &quot;Point&quot;}, &quot;id&quot;: &quot;26&quot;, &quot;properties&quot;: {&quot;ADDRESS&quot;: &quot;5590 Karl Rd&quot;, &quot;NAME&quot;: &quot;Columbus Metropolitan Library Karl Road Branch&quot;, &quot;__folium_color&quot;: &quot;#2ca02c&quot;, &quot;id_county&quot;: &quot;39049&quot;, &quot;id_place&quot;: &quot;3918000&quot;}, &quot;type&quot;: &quot;Feature&quot;}, {&quot;bbox&quot;: [-82.9541151172678, 40.0524364964823, -82.9541151172678, 40.0524364964823], &quot;geometry&quot;: {&quot;coordinates&quot;: [-82.9541151172678, 40.0524364964823], &quot;type&quot;: &quot;Point&quot;}, &quot;id&quot;: &quot;27&quot;, &quot;properties&quot;: {&quot;ADDRESS&quot;: &quot;4093 Cleveland Ave&quot;, &quot;NAME&quot;: &quot;Columbus Metropolitan Library Northern Lights Branch&quot;, &quot;__folium_color&quot;: &quot;#2ca02c&quot;, &quot;id_county&quot;: &quot;39049&quot;, &quot;id_place&quot;: &quot;3918000&quot;}, &quot;type&quot;: &quot;Feature&quot;}, {&quot;bbox&quot;: [-82.8698569209026, 40.019124439038, -82.8698569209026, 40.019124439038], &quot;geometry&quot;: {&quot;coordinates&quot;: [-82.8698569209026, 40.019124439038], &quot;type&quot;: &quot;Point&quot;}, &quot;id&quot;: &quot;28&quot;, &quot;properties&quot;: {&quot;ADDRESS&quot;: &quot;310 Granville St&quot;, &quot;NAME&quot;: &quot;Columbus Metropolitan Library Gahanna Branch&quot;, &quot;__folium_color&quot;: &quot;#2ca02c&quot;, &quot;id_county&quot;: &quot;39049&quot;, &quot;id_place&quot;: &quot;3929106&quot;}, &quot;type&quot;: &quot;Feature&quot;}, {&quot;bbox&quot;: [-82.8149623287813, 40.0819278251043, -82.8149623287813, 40.0819278251043], &quot;geometry&quot;: {&quot;coordinates&quot;: [-82.8149623287813, 40.0819278251043], &quot;type&quot;: &quot;Point&quot;}, &quot;id&quot;: &quot;29&quot;, &quot;properties&quot;: {&quot;ADDRESS&quot;: &quot;200 Market St&quot;, &quot;NAME&quot;: &quot;Columbus Metropolitan Library New Albany Branch&quot;, &quot;__folium_color&quot;: &quot;#2ca02c&quot;, &quot;id_county&quot;: &quot;39049&quot;, &quot;id_place&quot;: &quot;3953970&quot;}, &quot;type&quot;: &quot;Feature&quot;}, {&quot;bbox&quot;: [-82.9621491629931, 39.9685117139292, -82.9621491629931, 39.9685117139292], &quot;geometry&quot;: {&quot;coordinates&quot;: [-82.9621491629931, 39.9685117139292], &quot;type&quot;: &quot;Point&quot;}, &quot;id&quot;: &quot;30&quot;, &quot;properties&quot;: {&quot;ADDRESS&quot;: &quot;1467 E Long St&quot;, &quot;NAME&quot;: &quot;Columbus Metropolitan Library Martin Luther King Branch&quot;, &quot;__folium_color&quot;: &quot;#2ca02c&quot;, &quot;id_county&quot;: &quot;39049&quot;, &quot;id_place&quot;: &quot;3918000&quot;}, &quot;type&quot;: &quot;Feature&quot;}, {&quot;bbox&quot;: [-83.0498792045486, 39.9817244301678, -83.0498792045486, 39.9817244301678], &quot;geometry&quot;: {&quot;coordinates&quot;: [-83.0498792045486, 39.9817244301678], &quot;type&quot;: &quot;Point&quot;}, &quot;id&quot;: &quot;31&quot;, &quot;properties&quot;: {&quot;ADDRESS&quot;: &quot;1685 W. First Ave&quot;, &quot;NAME&quot;: &quot;Grandview Heights Public Library&quot;, &quot;__folium_color&quot;: &quot;#2ca02c&quot;, &quot;id_county&quot;: &quot;39049&quot;, &quot;id_place&quot;: &quot;3931304&quot;}, &quot;type&quot;: &quot;Feature&quot;}, {&quot;bbox&quot;: [-83.0609347336894, 39.9950463816084, -83.0609347336894, 39.9950463816084], &quot;geometry&quot;: {&quot;coordinates&quot;: [-83.0609347336894, 39.9950463816084], &quot;type&quot;: &quot;Point&quot;}, &quot;id&quot;: &quot;32&quot;, &quot;properties&quot;: {&quot;ADDRESS&quot;: &quot;1901 Arlington Ave&quot;, &quot;NAME&quot;: &quot;Upper Arlington Public Library Miller Park Branch&quot;, &quot;__folium_color&quot;: &quot;#2ca02c&quot;, &quot;id_county&quot;: &quot;39049&quot;, &quot;id_place&quot;: &quot;3979002&quot;}, &quot;type&quot;: &quot;Feature&quot;}, {&quot;bbox&quot;: [-83.1712428615435, 39.810075128243, -83.1712428615435, 39.810075128243], &quot;geometry&quot;: {&quot;coordinates&quot;: [-83.1712428615435, 39.810075128243], &quot;type&quot;: &quot;Point&quot;}, &quot;id&quot;: &quot;33&quot;, &quot;properties&quot;: {&quot;ADDRESS&quot;: &quot;1036 High St&quot;, &quot;NAME&quot;: &quot;Harrisburg Library&quot;, &quot;__folium_color&quot;: &quot;#2ca02c&quot;, &quot;id_county&quot;: &quot;39049&quot;, &quot;id_place&quot;: &quot;3933740&quot;}, &quot;type&quot;: &quot;Feature&quot;}, {&quot;bbox&quot;: [-83.1273603040478, 39.9537788885617, -83.1273603040478, 39.9537788885617], &quot;geometry&quot;: {&quot;coordinates&quot;: [-83.1273603040478, 39.9537788885617], &quot;type&quot;: &quot;Point&quot;}, &quot;id&quot;: &quot;34&quot;, &quot;properties&quot;: {&quot;ADDRESS&quot;: &quot;4740 W. Broad St&quot;, &quot;NAME&quot;: &quot;Southwest Public Library Grove City Westland Area Branch&quot;, &quot;__folium_color&quot;: &quot;#2ca02c&quot;, &quot;id_county&quot;: &quot;39049&quot;, &quot;id_place&quot;: &quot;3943792&quot;}, &quot;type&quot;: &quot;Feature&quot;}, {&quot;bbox&quot;: [-83.1122174733979, 39.8964935713639, -83.1122174733979, 39.8964935713639], &quot;geometry&quot;: {&quot;coordinates&quot;: [-83.1122174733979, 39.8964935713639], &quot;type&quot;: &quot;Point&quot;}, &quot;id&quot;: &quot;35&quot;, &quot;properties&quot;: {&quot;ADDRESS&quot;: &quot;4500 Big Run South Rd&quot;, &quot;NAME&quot;: &quot;Southwest Public Library Grove City Central Crossing Branch&quot;, &quot;__folium_color&quot;: &quot;#2ca02c&quot;, &quot;id_county&quot;: &quot;39049&quot;, &quot;id_place&quot;: &quot;3932592&quot;}, &quot;type&quot;: &quot;Feature&quot;}, {&quot;bbox&quot;: [-83.0735041748622, 39.9446355534772, -83.0735041748622, 39.9446355534772], &quot;geometry&quot;: {&quot;coordinates&quot;: [-83.0735041748622, 39.9446355534772], &quot;type&quot;: &quot;Point&quot;}, &quot;id&quot;: &quot;36&quot;, &quot;properties&quot;: {&quot;ADDRESS&quot;: &quot;511 S. Hague Ave&quot;, &quot;NAME&quot;: &quot;Columbus Metropolitan Library Hilltop Branch&quot;, &quot;__folium_color&quot;: &quot;#2ca02c&quot;, &quot;id_county&quot;: &quot;39049&quot;, &quot;id_place&quot;: &quot;3918000&quot;}, &quot;type&quot;: &quot;Feature&quot;}, {&quot;bbox&quot;: [-82.9971352473625, 39.889365189525, -82.9971352473625, 39.889365189525], &quot;geometry&quot;: {&quot;coordinates&quot;: [-82.9971352473625, 39.889365189525], &quot;type&quot;: &quot;Point&quot;}, &quot;id&quot;: &quot;37&quot;, &quot;properties&quot;: {&quot;ADDRESS&quot;: &quot;3540 S. High St&quot;, &quot;NAME&quot;: &quot;Columbus Metropolitan Library South High Branch&quot;, &quot;__folium_color&quot;: &quot;#2ca02c&quot;, &quot;id_county&quot;: &quot;39049&quot;, &quot;id_place&quot;: &quot;3918000&quot;}, &quot;type&quot;: &quot;Feature&quot;}, {&quot;bbox&quot;: [-82.9834545839897, 39.9408853380751, -82.9834545839897, 39.9408853380751], &quot;geometry&quot;: {&quot;coordinates&quot;: [-82.9834545839897, 39.9408853380751], &quot;type&quot;: &quot;Point&quot;}, &quot;id&quot;: &quot;38&quot;, &quot;properties&quot;: {&quot;ADDRESS&quot;: &quot;1113 Parsons Ave&quot;, &quot;NAME&quot;: &quot;Columbus Metropolitan Library Parsons Branch&quot;, &quot;__folium_color&quot;: &quot;#2ca02c&quot;, &quot;id_county&quot;: &quot;39049&quot;, &quot;id_place&quot;: &quot;3918000&quot;}, &quot;type&quot;: &quot;Feature&quot;}, {&quot;bbox&quot;: [-82.8818327221363, 39.8935328135114, -82.8818327221363, 39.8935328135114], &quot;geometry&quot;: {&quot;coordinates&quot;: [-82.8818327221363, 39.8935328135114], &quot;type&quot;: &quot;Point&quot;}, &quot;id&quot;: &quot;39&quot;, &quot;properties&quot;: {&quot;ADDRESS&quot;: &quot;3980 S. Hamilton Rd&quot;, &quot;NAME&quot;: &quot;Columbus Metropolitan Library Southeast Branch&quot;, &quot;__folium_color&quot;: &quot;#2ca02c&quot;, &quot;id_county&quot;: &quot;39049&quot;, &quot;id_place&quot;: &quot;3918000&quot;}, &quot;type&quot;: &quot;Feature&quot;}, {&quot;bbox&quot;: [-82.8284373446568, 39.9517820619019, -82.8284373446568, 39.9517820619019], &quot;geometry&quot;: {&quot;coordinates&quot;: [-82.8284373446568, 39.9517820619019], &quot;type&quot;: &quot;Point&quot;}, &quot;id&quot;: &quot;40&quot;, &quot;properties&quot;: {&quot;ADDRESS&quot;: &quot;1402 Brice Rd&quot;, &quot;NAME&quot;: &quot;Columbus Metropolitan Library Reynoldsburg Branch&quot;, &quot;__folium_color&quot;: &quot;#2ca02c&quot;, &quot;id_county&quot;: &quot;39049&quot;, &quot;id_place&quot;: &quot;3966390&quot;}, &quot;type&quot;: &quot;Feature&quot;}, {&quot;bbox&quot;: [-82.9343442927468, 39.9567452880173, -82.9343442927468, 39.9567452880173], &quot;geometry&quot;: {&quot;coordinates&quot;: [-82.9343442927468, 39.9567452880173], &quot;type&quot;: &quot;Point&quot;}, &quot;id&quot;: &quot;41&quot;, &quot;properties&quot;: {&quot;ADDRESS&quot;: &quot;2411 E. Main St&quot;, &quot;NAME&quot;: &quot;Bexley Public Library&quot;, &quot;__folium_color&quot;: &quot;#2ca02c&quot;, &quot;id_county&quot;: &quot;39049&quot;, &quot;id_place&quot;: &quot;3906278&quot;}, &quot;type&quot;: &quot;Feature&quot;}, {&quot;bbox&quot;: [-82.8823661483, 39.9748399818752, -82.8823661483, 39.9748399818752], &quot;geometry&quot;: {&quot;coordinates&quot;: [-82.8823661483, 39.9748399818752], &quot;type&quot;: &quot;Point&quot;}, &quot;id&quot;: &quot;42&quot;, &quot;properties&quot;: {&quot;ADDRESS&quot;: &quot;4445 E Broad St&quot;, &quot;NAME&quot;: &quot;Columbus Metropolitan Library Whitehall Branch&quot;, &quot;__folium_color&quot;: &quot;#2ca02c&quot;, &quot;id_county&quot;: &quot;39049&quot;, &quot;id_place&quot;: &quot;3984742&quot;}, &quot;type&quot;: &quot;Feature&quot;}, {&quot;bbox&quot;: [-82.6026456832015, 39.7153317516429, -82.6026456832015, 39.7153317516429], &quot;geometry&quot;: {&quot;coordinates&quot;: [-82.6026456832015, 39.7153317516429], &quot;type&quot;: &quot;Point&quot;}, &quot;id&quot;: &quot;43&quot;, &quot;properties&quot;: {&quot;ADDRESS&quot;: &quot;219 N. Broad St&quot;, &quot;NAME&quot;: &quot;Fairfield County District Library&quot;, &quot;__folium_color&quot;: &quot;#aec7e8&quot;, &quot;id_county&quot;: &quot;39045&quot;, &quot;id_place&quot;: &quot;3941720&quot;}, &quot;type&quot;: &quot;Feature&quot;}, {&quot;bbox&quot;: [-82.7430257886071, 39.6505107986975, -82.7430257886071, 39.6505107986975], &quot;geometry&quot;: {&quot;coordinates&quot;: [-82.7430257886071, 39.6505107986975], &quot;type&quot;: &quot;Point&quot;}, &quot;id&quot;: &quot;44&quot;, &quot;properties&quot;: {&quot;ADDRESS&quot;: &quot;116 E. High St&quot;, &quot;NAME&quot;: &quot;Fairfield County District Library Johns Memorial Branch&quot;, &quot;__folium_color&quot;: &quot;#aec7e8&quot;, &quot;id_county&quot;: &quot;39045&quot;, &quot;id_place&quot;: &quot;3901630&quot;}, &quot;type&quot;: &quot;Feature&quot;}, {&quot;bbox&quot;: [-82.4341240826341, 39.7043935779691, -82.4341240826341, 39.7043935779691], &quot;geometry&quot;: {&quot;coordinates&quot;: [-82.4341240826341, 39.7043935779691], &quot;type&quot;: &quot;Point&quot;}, &quot;id&quot;: &quot;45&quot;, &quot;properties&quot;: {&quot;ADDRESS&quot;: &quot;200 School St&quot;, &quot;NAME&quot;: &quot;Fairfield County District Library Bremen-Rushcreek Branch&quot;, &quot;__folium_color&quot;: &quot;#aec7e8&quot;, &quot;id_county&quot;: &quot;39045&quot;, &quot;id_place&quot;: &quot;3908392&quot;}, &quot;type&quot;: &quot;Feature&quot;}, {&quot;bbox&quot;: [-82.7586109225058, 39.8749692151085, -82.7586109225058, 39.8749692151085], &quot;geometry&quot;: {&quot;coordinates&quot;: [-82.7586109225058, 39.8749692151085], &quot;type&quot;: &quot;Point&quot;}, &quot;id&quot;: &quot;46&quot;, &quot;properties&quot;: {&quot;ADDRESS&quot;: &quot;201 Opportunity Way&quot;, &quot;NAME&quot;: &quot;Pickerington Public Library&quot;, &quot;__folium_color&quot;: &quot;#aec7e8&quot;, &quot;id_county&quot;: &quot;39045&quot;, &quot;id_place&quot;: &quot;3962498&quot;}, &quot;type&quot;: &quot;Feature&quot;}, {&quot;bbox&quot;: [-82.8051577481653, 39.8020336684732, -82.8051577481653, 39.8020336684732], &quot;geometry&quot;: {&quot;coordinates&quot;: [-82.8051577481653, 39.8020336684732], &quot;type&quot;: &quot;Point&quot;}, &quot;id&quot;: &quot;47&quot;, &quot;properties&quot;: {&quot;ADDRESS&quot;: &quot;150 E. Columbus St&quot;, &quot;NAME&quot;: &quot;Wagnalls Memorial Library&quot;, &quot;__folium_color&quot;: &quot;#aec7e8&quot;, &quot;id_county&quot;: &quot;39045&quot;, &quot;id_place&quot;: &quot;3944086&quot;}, &quot;type&quot;: &quot;Feature&quot;}, {&quot;bbox&quot;: [-82.5997091213125, 39.84555058542, -82.5997091213125, 39.84555058542], &quot;geometry&quot;: {&quot;coordinates&quot;: [-82.5997091213125, 39.84555058542], &quot;type&quot;: &quot;Point&quot;}, &quot;id&quot;: &quot;48&quot;, &quot;properties&quot;: {&quot;ADDRESS&quot;: &quot;205 E. Market St&quot;, &quot;NAME&quot;: &quot;Fairfield County District Library Baltimore Branch&quot;, &quot;__folium_color&quot;: &quot;#aec7e8&quot;, &quot;id_county&quot;: &quot;39045&quot;, &quot;id_place&quot;: &quot;3903758&quot;}, &quot;type&quot;: &quot;Feature&quot;}, {&quot;bbox&quot;: [-83.0727232044367, 40.1483917831969, -83.0727232044367, 40.1483917831969], &quot;geometry&quot;: {&quot;coordinates&quot;: [-83.0727232044367, 40.1483917831969], &quot;type&quot;: &quot;Point&quot;}, &quot;id&quot;: &quot;49&quot;, &quot;properties&quot;: {&quot;ADDRESS&quot;: &quot;460 S. Liberty St&quot;, &quot;NAME&quot;: &quot;Delaware County District Library Powell Branch&quot;, &quot;__folium_color&quot;: &quot;#1f77b4&quot;, &quot;id_county&quot;: &quot;39041&quot;, &quot;id_place&quot;: &quot;3964486&quot;}, &quot;type&quot;: &quot;Feature&quot;}, {&quot;bbox&quot;: [-83.2169672935717, 40.2673215162087, -83.2169672935717, 40.2673215162087], &quot;geometry&quot;: {&quot;coordinates&quot;: [-83.2169672935717, 40.2673215162087], &quot;type&quot;: &quot;Point&quot;}, &quot;id&quot;: &quot;50&quot;, &quot;properties&quot;: {&quot;ADDRESS&quot;: &quot;75 N. 4th St&quot;, &quot;NAME&quot;: &quot;Delaware County District Library Ostrander Branch&quot;, &quot;__folium_color&quot;: &quot;#1f77b4&quot;, &quot;id_county&quot;: &quot;39041&quot;, &quot;id_place&quot;: &quot;3958940&quot;}, &quot;type&quot;: &quot;Feature&quot;}, {&quot;bbox&quot;: [-83.0646462916659, 40.2997674874225, -83.0646462916659, 40.2997674874225], &quot;geometry&quot;: {&quot;coordinates&quot;: [-83.0646462916659, 40.2997674874225], &quot;type&quot;: &quot;Point&quot;}, &quot;id&quot;: &quot;51&quot;, &quot;properties&quot;: {&quot;ADDRESS&quot;: &quot;84 E. Winter St&quot;, &quot;NAME&quot;: &quot;Delaware County District Library&quot;, &quot;__folium_color&quot;: &quot;#1f77b4&quot;, &quot;id_county&quot;: &quot;39041&quot;, &quot;id_place&quot;: &quot;3921434&quot;}, &quot;type&quot;: &quot;Feature&quot;}, {&quot;bbox&quot;: [-82.8630336114161, 40.2428959976276, -82.8630336114161, 40.2428959976276], &quot;geometry&quot;: {&quot;coordinates&quot;: [-82.8630336114161, 40.2428959976276], &quot;type&quot;: &quot;Point&quot;}, &quot;id&quot;: &quot;52&quot;, &quot;properties&quot;: {&quot;ADDRESS&quot;: &quot;44 Burrer Dr&quot;, &quot;NAME&quot;: &quot;Sunbury Community Library&quot;, &quot;__folium_color&quot;: &quot;#1f77b4&quot;, &quot;id_county&quot;: &quot;39041&quot;, &quot;id_place&quot;: &quot;3975602&quot;}, &quot;type&quot;: &quot;Feature&quot;}, {&quot;bbox&quot;: [-82.9517032736047, 40.4092688412817, -82.9517032736047, 40.4092688412817], &quot;geometry&quot;: {&quot;coordinates&quot;: [-82.9517032736047, 40.4092688412817], &quot;type&quot;: &quot;Point&quot;}, &quot;id&quot;: &quot;53&quot;, &quot;properties&quot;: {&quot;ADDRESS&quot;: &quot;302 E. High St&quot;, &quot;NAME&quot;: &quot;Wornstaff Memorial Public Library&quot;, &quot;__folium_color&quot;: &quot;#1f77b4&quot;, &quot;id_county&quot;: &quot;39041&quot;, &quot;id_place&quot;: &quot;3902582&quot;}, &quot;type&quot;: &quot;Feature&quot;}, {&quot;bbox&quot;: [-82.6136244867801, 40.0900903767624, -82.6136244867801, 40.0900903767624], &quot;geometry&quot;: {&quot;coordinates&quot;: [-82.6136244867801, 40.0900903767624], &quot;type&quot;: &quot;Point&quot;}, &quot;id&quot;: &quot;54&quot;, &quot;properties&quot;: {&quot;ADDRESS&quot;: &quot;10 Maple Dr&quot;, &quot;NAME&quot;: &quot;Alexandria Public Library&quot;, &quot;__folium_color&quot;: &quot;#9467bd&quot;, &quot;id_county&quot;: &quot;39089&quot;, &quot;id_place&quot;: &quot;3901154&quot;}, &quot;type&quot;: &quot;Feature&quot;}, {&quot;bbox&quot;: [-82.5250716419211, 40.2519609362924, -82.5250716419211, 40.2519609362924], &quot;geometry&quot;: {&quot;coordinates&quot;: [-82.5250716419211, 40.2519609362924], &quot;type&quot;: &quot;Point&quot;}, &quot;id&quot;: &quot;55&quot;, &quot;properties&quot;: {&quot;ADDRESS&quot;: &quot;385 South St NW&quot;, &quot;NAME&quot;: &quot;Homer Public Library&quot;, &quot;__folium_color&quot;: &quot;#9467bd&quot;, &quot;id_county&quot;: &quot;39089&quot;, &quot;id_place&quot;: null}, &quot;type&quot;: &quot;Feature&quot;}, {&quot;bbox&quot;: [-82.5181580768464, 40.068153534214, -82.5181580768464, 40.068153534214], &quot;geometry&quot;: {&quot;coordinates&quot;: [-82.5181580768464, 40.068153534214], &quot;type&quot;: &quot;Point&quot;}, &quot;id&quot;: &quot;56&quot;, &quot;properties&quot;: {&quot;ADDRESS&quot;: &quot;217 E. Broadway St&quot;, &quot;NAME&quot;: &quot;Granville Public Library&quot;, &quot;__folium_color&quot;: &quot;#9467bd&quot;, &quot;id_county&quot;: &quot;39089&quot;, &quot;id_place&quot;: &quot;3931402&quot;}, &quot;type&quot;: &quot;Feature&quot;}, {&quot;bbox&quot;: [-82.4528857468518, 40.2347337471026, -82.4528857468518, 40.2347337471026], &quot;geometry&quot;: {&quot;coordinates&quot;: [-82.4528857468518, 40.2347337471026], &quot;type&quot;: &quot;Point&quot;}, &quot;id&quot;: &quot;57&quot;, &quot;properties&quot;: {&quot;ADDRESS&quot;: &quot;15 N. Main St&quot;, &quot;NAME&quot;: &quot;Newark Public Library Hervey Memorial Branch&quot;, &quot;__folium_color&quot;: &quot;#9467bd&quot;, &quot;id_county&quot;: &quot;39089&quot;, &quot;id_place&quot;: &quot;3979114&quot;}, &quot;type&quot;: &quot;Feature&quot;}, {&quot;bbox&quot;: [-82.4394213926801, 40.0497860717945, -82.4394213926801, 40.0497860717945], &quot;geometry&quot;: {&quot;coordinates&quot;: [-82.4394213926801, 40.0497860717945], &quot;type&quot;: &quot;Point&quot;}, &quot;id&quot;: &quot;58&quot;, &quot;properties&quot;: {&quot;ADDRESS&quot;: &quot;990 W. Main St&quot;, &quot;NAME&quot;: &quot;Newark Public Library Emerson Miller Branch&quot;, &quot;__folium_color&quot;: &quot;#9467bd&quot;, &quot;id_county&quot;: &quot;39089&quot;, &quot;id_place&quot;: &quot;3954040&quot;}, &quot;type&quot;: &quot;Feature&quot;}, {&quot;bbox&quot;: [-82.4061028616415, 40.0559756534757, -82.4061028616415, 40.0559756534757], &quot;geometry&quot;: {&quot;coordinates&quot;: [-82.4061028616415, 40.0559756534757], &quot;type&quot;: &quot;Point&quot;}, &quot;id&quot;: &quot;59&quot;, &quot;properties&quot;: {&quot;ADDRESS&quot;: &quot;101 W. Main St&quot;, &quot;NAME&quot;: &quot;Licking County Newark Public Library&quot;, &quot;__folium_color&quot;: &quot;#9467bd&quot;, &quot;id_county&quot;: &quot;39089&quot;, &quot;id_place&quot;: &quot;3954040&quot;}, &quot;type&quot;: &quot;Feature&quot;}, {&quot;bbox&quot;: [-82.6783976875294, 40.0002439979398, -82.6783976875294, 40.0002439979398], &quot;geometry&quot;: {&quot;coordinates&quot;: [-82.6783976875294, 40.0002439979398], &quot;type&quot;: &quot;Point&quot;}, &quot;id&quot;: &quot;60&quot;, &quot;properties&quot;: {&quot;ADDRESS&quot;: &quot;101 S. Vine St&quot;, &quot;NAME&quot;: &quot;Pataskala Public Library&quot;, &quot;__folium_color&quot;: &quot;#9467bd&quot;, &quot;id_county&quot;: &quot;39089&quot;, &quot;id_place&quot;: &quot;3961112&quot;}, &quot;type&quot;: &quot;Feature&quot;}, {&quot;bbox&quot;: [-82.5040138828041, 39.9603567255153, -82.5040138828041, 39.9603567255153], &quot;geometry&quot;: {&quot;coordinates&quot;: [-82.5040138828041, 39.9603567255153], &quot;type&quot;: &quot;Point&quot;}, &quot;id&quot;: &quot;61&quot;, &quot;properties&quot;: {&quot;ADDRESS&quot;: &quot;934 W. Main St&quot;, &quot;NAME&quot;: &quot;Newark Public Library Hebron Branch&quot;, &quot;__folium_color&quot;: &quot;#9467bd&quot;, &quot;id_county&quot;: &quot;39089&quot;, &quot;id_place&quot;: &quot;3934790&quot;}, &quot;type&quot;: &quot;Feature&quot;}, {&quot;bbox&quot;: [-82.6853942607652, 40.1530389382747, -82.6853942607652, 40.1530389382747], &quot;geometry&quot;: {&quot;coordinates&quot;: [-82.6853942607652, 40.1530389382747], &quot;type&quot;: &quot;Point&quot;}, &quot;id&quot;: &quot;62&quot;, &quot;properties&quot;: {&quot;ADDRESS&quot;: &quot;320 N. Maint St&quot;, &quot;NAME&quot;: &quot;Newark Public Library Johnstown Branch&quot;, &quot;__folium_color&quot;: &quot;#9467bd&quot;, &quot;id_county&quot;: &quot;39089&quot;, &quot;id_place&quot;: &quot;3939340&quot;}, &quot;type&quot;: &quot;Feature&quot;}, {&quot;bbox&quot;: [-82.980380264528, 40.1229618505792, -82.980380264528, 40.1229618505792], &quot;geometry&quot;: {&quot;coordinates&quot;: [-82.980380264528, 40.1229618505792], &quot;type&quot;: &quot;Point&quot;}, &quot;id&quot;: &quot;63&quot;, &quot;properties&quot;: {&quot;ADDRESS&quot;: &quot;1389 Worthington Centre Dr&quot;, &quot;NAME&quot;: &quot;Worthington Park Library&quot;, &quot;__folium_color&quot;: &quot;#2ca02c&quot;, &quot;id_county&quot;: &quot;39049&quot;, &quot;id_place&quot;: &quot;3918000&quot;}, &quot;type&quot;: &quot;Feature&quot;}, {&quot;bbox&quot;: [-82.9995411945757, 39.9541227537836, -82.9995411945757, 39.9541227537836], &quot;geometry&quot;: {&quot;coordinates&quot;: [-82.9995411945757, 39.9541227537836], &quot;type&quot;: &quot;Point&quot;}, &quot;id&quot;: &quot;64&quot;, &quot;properties&quot;: {&quot;ADDRESS&quot;: &quot;369 S High St 10th Fl&quot;, &quot;NAME&quot;: &quot;Columbus Law Library&quot;, &quot;__folium_color&quot;: &quot;#2ca02c&quot;, &quot;id_county&quot;: &quot;39049&quot;, &quot;id_place&quot;: &quot;3918000&quot;}, &quot;type&quot;: &quot;Feature&quot;}, {&quot;bbox&quot;: [-82.996000859998, 39.9811655797924, -82.996000859998, 39.9811655797924], &quot;geometry&quot;: {&quot;coordinates&quot;: [-82.996000859998, 39.9811655797924], &quot;type&quot;: &quot;Point&quot;}, &quot;id&quot;: &quot;65&quot;, &quot;properties&quot;: {&quot;ADDRESS&quot;: &quot;274 E 1st Ave Ste 100&quot;, &quot;NAME&quot;: &quot;State Library Of Ohio&quot;, &quot;__folium_color&quot;: &quot;#2ca02c&quot;, &quot;id_county&quot;: &quot;39049&quot;, &quot;id_place&quot;: &quot;3918000&quot;}, &quot;type&quot;: &quot;Feature&quot;}, {&quot;bbox&quot;: [-82.9649032220998, 39.9105152700423, -82.9649032220998, 39.9105152700423], &quot;geometry&quot;: {&quot;coordinates&quot;: [-82.9649032220998, 39.9105152700423], &quot;type&quot;: &quot;Point&quot;}, &quot;id&quot;: &quot;66&quot;, &quot;properties&quot;: {&quot;ADDRESS&quot;: &quot;2740 Lockbourne Rd&quot;, &quot;NAME&quot;: &quot;Columbus Metropolitan Library Marion-Franklin&quot;, &quot;__folium_color&quot;: &quot;#2ca02c&quot;, &quot;id_county&quot;: &quot;39049&quot;, &quot;id_place&quot;: &quot;3918000&quot;}, &quot;type&quot;: &quot;Feature&quot;}, {&quot;bbox&quot;: [-82.810232180814, 39.840974352012, -82.810232180814, 39.840974352012], &quot;geometry&quot;: {&quot;coordinates&quot;: [-82.810232180814, 39.840974352012], &quot;type&quot;: &quot;Point&quot;}, &quot;id&quot;: &quot;67&quot;, &quot;properties&quot;: {&quot;ADDRESS&quot;: &quot;115 Franklin St&quot;, &quot;NAME&quot;: &quot;Columbus Metropolitan Library Canal Winchester Branch&quot;, &quot;__folium_color&quot;: &quot;#2ca02c&quot;, &quot;id_county&quot;: &quot;39049&quot;, &quot;id_place&quot;: &quot;3911332&quot;}, &quot;type&quot;: &quot;Feature&quot;}, {&quot;bbox&quot;: [-83.7525768626904, 40.5070217986525, -83.7525768626904, 40.5070217986525], &quot;geometry&quot;: {&quot;coordinates&quot;: [-83.7525768626904, 40.5070217986525], &quot;type&quot;: &quot;Point&quot;}, &quot;id&quot;: &quot;68&quot;, &quot;properties&quot;: {&quot;ADDRESS&quot;: &quot;103 S. Elizabeth St&quot;, &quot;NAME&quot;: &quot;Belle Center Free Public Library&quot;, &quot;__folium_color&quot;: &quot;#8c564b&quot;, &quot;id_county&quot;: &quot;39091&quot;, &quot;id_place&quot;: &quot;3905116&quot;}, &quot;type&quot;: &quot;Feature&quot;}, {&quot;bbox&quot;: [-82.9813244175534, 39.3298618160501, -82.9813244175534, 39.3298618160501], &quot;geometry&quot;: {&quot;coordinates&quot;: [-82.9813244175534, 39.3298618160501], &quot;type&quot;: &quot;Point&quot;}, &quot;id&quot;: &quot;69&quot;, &quot;properties&quot;: {&quot;ADDRESS&quot;: &quot;140 S. Paint St&quot;, &quot;NAME&quot;: &quot;Chillicothe and Ross County Public Library&quot;, &quot;__folium_color&quot;: &quot;#17becf&quot;, &quot;id_county&quot;: &quot;39141&quot;, &quot;id_place&quot;: &quot;3914184&quot;}, &quot;type&quot;: &quot;Feature&quot;}, {&quot;bbox&quot;: [-83.4371759125388, 39.5364646993212, -83.4371759125388, 39.5364646993212], &quot;geometry&quot;: {&quot;coordinates&quot;: [-83.4371759125388, 39.5364646993212], &quot;type&quot;: &quot;Point&quot;}, &quot;id&quot;: &quot;70&quot;, &quot;properties&quot;: {&quot;ADDRESS&quot;: &quot;127 S. North St&quot;, &quot;NAME&quot;: &quot;Carnegie Public Library - Washington Court House&quot;, &quot;__folium_color&quot;: &quot;#ff7f0e&quot;, &quot;id_county&quot;: &quot;39047&quot;, &quot;id_place&quot;: &quot;3981718&quot;}, &quot;type&quot;: &quot;Feature&quot;}, {&quot;bbox&quot;: [-82.4052486570151, 39.5400379297169, -82.4052486570151, 39.5400379297169], &quot;geometry&quot;: {&quot;coordinates&quot;: [-82.4052486570151, 39.5400379297169], &quot;type&quot;: &quot;Point&quot;}, &quot;id&quot;: &quot;71&quot;, &quot;properties&quot;: {&quot;ADDRESS&quot;: &quot;230 E. Main St&quot;, &quot;NAME&quot;: &quot;Logan-Hocking County District Library&quot;, &quot;__folium_color&quot;: &quot;#98df8a&quot;, &quot;id_county&quot;: &quot;39073&quot;, &quot;id_place&quot;: &quot;3944632&quot;}, &quot;type&quot;: &quot;Feature&quot;}, {&quot;bbox&quot;: [-82.6951834447364, 40.3050194882421, -82.6951834447364, 40.3050194882421], &quot;geometry&quot;: {&quot;coordinates&quot;: [-82.6951834447364, 40.3050194882421], &quot;type&quot;: &quot;Point&quot;}, &quot;id&quot;: &quot;72&quot;, &quot;properties&quot;: {&quot;ADDRESS&quot;: &quot;49 E. Main St.&quot;, &quot;NAME&quot;: &quot;Centurburg Public Library&quot;, &quot;__folium_color&quot;: &quot;#ff9896&quot;, &quot;id_county&quot;: &quot;39083&quot;, &quot;id_place&quot;: &quot;3913036&quot;}, &quot;type&quot;: &quot;Feature&quot;}, {&quot;bbox&quot;: [-82.4866006262204, 40.3955577344148, -82.4866006262204, 40.3955577344148], &quot;geometry&quot;: {&quot;coordinates&quot;: [-82.4866006262204, 40.3955577344148], &quot;type&quot;: &quot;Point&quot;}, &quot;id&quot;: &quot;73&quot;, &quot;properties&quot;: {&quot;ADDRESS&quot;: &quot;201 N. Mulberry St&quot;, &quot;NAME&quot;: &quot;Public Library of Mount Vernon and Knox County&quot;, &quot;__folium_color&quot;: &quot;#ff9896&quot;, &quot;id_county&quot;: &quot;39083&quot;, &quot;id_place&quot;: &quot;3953102&quot;}, &quot;type&quot;: &quot;Feature&quot;}, {&quot;bbox&quot;: [-83.5456126851801, 40.4023489025917, -83.5456126851801, 40.4023489025917], &quot;geometry&quot;: {&quot;coordinates&quot;: [-83.5456126851801, 40.4023489025917], &quot;type&quot;: &quot;Point&quot;}, &quot;id&quot;: &quot;74&quot;, &quot;properties&quot;: {&quot;ADDRESS&quot;: &quot;127 N. Main St&quot;, &quot;NAME&quot;: &quot;West Mansfield Branch Library&quot;, &quot;__folium_color&quot;: &quot;#8c564b&quot;, &quot;id_county&quot;: &quot;39091&quot;, &quot;id_place&quot;: &quot;3983818&quot;}, &quot;type&quot;: &quot;Feature&quot;}, {&quot;bbox&quot;: [-83.6767931035504, 40.3377025381221, -83.6767931035504, 40.3377025381221], &quot;geometry&quot;: {&quot;coordinates&quot;: [-83.6767931035504, 40.3377025381221], &quot;type&quot;: &quot;Point&quot;}, &quot;id&quot;: &quot;75&quot;, &quot;properties&quot;: {&quot;ADDRESS&quot;: &quot;2817 Sandusky St&quot;, &quot;NAME&quot;: &quot;Dr. Earl S. Sloan Library&quot;, &quot;__folium_color&quot;: &quot;#8c564b&quot;, &quot;id_county&quot;: &quot;39091&quot;, &quot;id_place&quot;: &quot;3988070&quot;}, &quot;type&quot;: &quot;Feature&quot;}, {&quot;bbox&quot;: [-83.6717411857932, 40.4611121869309, -83.6717411857932, 40.4611121869309], &quot;geometry&quot;: {&quot;coordinates&quot;: [-83.6717411857932, 40.4611121869309], &quot;type&quot;: &quot;Point&quot;}, &quot;id&quot;: &quot;76&quot;, &quot;properties&quot;: {&quot;ADDRESS&quot;: &quot;113 N. Sandusky St&quot;, &quot;NAME&quot;: &quot;Rushsylvania Branch Library&quot;, &quot;__folium_color&quot;: &quot;#8c564b&quot;, &quot;id_county&quot;: &quot;39091&quot;, &quot;id_place&quot;: &quot;3969176&quot;}, &quot;type&quot;: &quot;Feature&quot;}, {&quot;bbox&quot;: [-83.7558287729848, 40.2524807964721, -83.7558287729848, 40.2524807964721], &quot;geometry&quot;: {&quot;coordinates&quot;: [-83.7558287729848, 40.2524807964721], &quot;type&quot;: &quot;Point&quot;}, &quot;id&quot;: &quot;77&quot;, &quot;properties&quot;: {&quot;ADDRESS&quot;: &quot;117 N. Detroit St&quot;, &quot;NAME&quot;: &quot;West Liberty Branch Library&quot;, &quot;__folium_color&quot;: &quot;#8c564b&quot;, &quot;id_county&quot;: &quot;39091&quot;, &quot;id_place&quot;: &quot;3983734&quot;}, &quot;type&quot;: &quot;Feature&quot;}, {&quot;bbox&quot;: [-83.7591308303044, 40.3636880787365, -83.7591308303044, 40.3636880787365], &quot;geometry&quot;: {&quot;coordinates&quot;: [-83.7591308303044, 40.3636880787365], &quot;type&quot;: &quot;Point&quot;}, &quot;id&quot;: &quot;78&quot;, &quot;properties&quot;: {&quot;ADDRESS&quot;: &quot;220 N. Main St&quot;, &quot;NAME&quot;: &quot;Logan County Libraries&quot;, &quot;__folium_color&quot;: &quot;#8c564b&quot;, &quot;id_county&quot;: &quot;39091&quot;, &quot;id_place&quot;: &quot;3905130&quot;}, &quot;type&quot;: &quot;Feature&quot;}, {&quot;bbox&quot;: [-83.7525768626904, 40.5070217986525, -83.7525768626904, 40.5070217986525], &quot;geometry&quot;: {&quot;coordinates&quot;: [-83.7525768626904, 40.5070217986525], &quot;type&quot;: &quot;Point&quot;}, &quot;id&quot;: &quot;79&quot;, &quot;properties&quot;: {&quot;ADDRESS&quot;: &quot;103 S. Elzabeth St&quot;, &quot;NAME&quot;: &quot;Belle Center Free Public Library&quot;, &quot;__folium_color&quot;: &quot;#8c564b&quot;, &quot;id_county&quot;: &quot;39091&quot;, &quot;id_place&quot;: &quot;3905116&quot;}, &quot;type&quot;: &quot;Feature&quot;}, {&quot;bbox&quot;: [-83.9156220186993, 40.3100386909899, -83.9156220186993, 40.3100386909899], &quot;geometry&quot;: {&quot;coordinates&quot;: [-83.9156220186993, 40.3100386909899], &quot;type&quot;: &quot;Point&quot;}, &quot;id&quot;: &quot;80&quot;, &quot;properties&quot;: {&quot;ADDRESS&quot;: &quot;122 S. Main St&quot;, &quot;NAME&quot;: &quot;DeGraff Branch Library&quot;, &quot;__folium_color&quot;: &quot;#8c564b&quot;, &quot;id_county&quot;: &quot;39091&quot;, &quot;id_place&quot;: &quot;3921378&quot;}, &quot;type&quot;: &quot;Feature&quot;}, {&quot;bbox&quot;: [-83.9241912264021, 40.4852868816878, -83.9241912264021, 40.4852868816878], &quot;geometry&quot;: {&quot;coordinates&quot;: [-83.9241912264021, 40.4852868816878], &quot;type&quot;: &quot;Point&quot;}, &quot;id&quot;: &quot;81&quot;, &quot;properties&quot;: {&quot;ADDRESS&quot;: &quot;130 N. Main St&quot;, &quot;NAME&quot;: &quot;Lakeview Branch Library&quot;, &quot;__folium_color&quot;: &quot;#8c564b&quot;, &quot;id_county&quot;: &quot;39091&quot;, &quot;id_place&quot;: &quot;3941608&quot;}, &quot;type&quot;: &quot;Feature&quot;}, {&quot;bbox&quot;: [-83.1892798100166, 40.4506759600497, -83.1892798100166, 40.4506759600497], &quot;geometry&quot;: {&quot;coordinates&quot;: [-83.1892798100166, 40.4506759600497], &quot;type&quot;: &quot;Point&quot;}, &quot;id&quot;: &quot;82&quot;, &quot;properties&quot;: {&quot;ADDRESS&quot;: &quot;116 N. Main St&quot;, &quot;NAME&quot;: &quot;Prospect Public Library&quot;, &quot;__folium_color&quot;: &quot;#e377c2&quot;, &quot;id_county&quot;: &quot;39101&quot;, &quot;id_place&quot;: &quot;3964780&quot;}, &quot;type&quot;: &quot;Feature&quot;}, {&quot;bbox&quot;: [-83.384494854428, 40.5760852651449, -83.384494854428, 40.5760852651449], &quot;geometry&quot;: {&quot;coordinates&quot;: [-83.384494854428, 40.5760852651449], &quot;type&quot;: &quot;Point&quot;}, &quot;id&quot;: &quot;83&quot;, &quot;properties&quot;: {&quot;ADDRESS&quot;: &quot;86 S. High St&quot;, &quot;NAME&quot;: &quot;Henkle-Holiday Memorial Library&quot;, &quot;__folium_color&quot;: &quot;#e377c2&quot;, &quot;id_county&quot;: &quot;39101&quot;, &quot;id_place&quot;: &quot;3941902&quot;}, &quot;type&quot;: &quot;Feature&quot;}, {&quot;bbox&quot;: [-83.1197299391342, 40.5873305203235, -83.1197299391342, 40.5873305203235], &quot;geometry&quot;: {&quot;coordinates&quot;: [-83.1197299391342, 40.5873305203235], &quot;type&quot;: &quot;Point&quot;}, &quot;id&quot;: &quot;84&quot;, &quot;properties&quot;: {&quot;ADDRESS&quot;: &quot;445 E. Church St&quot;, &quot;NAME&quot;: &quot;Marion Public Library&quot;, &quot;__folium_color&quot;: &quot;#e377c2&quot;, &quot;id_county&quot;: &quot;39101&quot;, &quot;id_place&quot;: &quot;3947754&quot;}, &quot;type&quot;: &quot;Feature&quot;}, {&quot;bbox&quot;: [-82.9705738438752, 40.637047759179, -82.9705738438752, 40.637047759179], &quot;geometry&quot;: {&quot;coordinates&quot;: [-82.9705738438752, 40.637047759179], &quot;type&quot;: &quot;Point&quot;}, &quot;id&quot;: &quot;85&quot;, &quot;properties&quot;: {&quot;ADDRESS&quot;: &quot;112 E. Marion St&quot;, &quot;NAME&quot;: &quot;Caledonia Public Library&quot;, &quot;__folium_color&quot;: &quot;#e377c2&quot;, &quot;id_county&quot;: &quot;39101&quot;, &quot;id_place&quot;: &quot;3910954&quot;}, &quot;type&quot;: &quot;Feature&quot;}, {&quot;bbox&quot;: [-82.6610737233374, 40.621512343121, -82.6610737233374, 40.621512343121], &quot;geometry&quot;: {&quot;coordinates&quot;: [-82.6610737233374, 40.621512343121], &quot;type&quot;: &quot;Point&quot;}, &quot;id&quot;: &quot;86&quot;, &quot;properties&quot;: {&quot;ADDRESS&quot;: &quot;7406 County Road 242&quot;, &quot;NAME&quot;: &quot;Perry Cook Memorial Public Library&quot;, &quot;__folium_color&quot;: &quot;#7f7f7f&quot;, &quot;id_county&quot;: &quot;39117&quot;, &quot;id_place&quot;: null}, &quot;type&quot;: &quot;Feature&quot;}, {&quot;bbox&quot;: [-82.8270338022759, 40.5489186801188, -82.8270338022759, 40.5489186801188], &quot;geometry&quot;: {&quot;coordinates&quot;: [-82.8270338022759, 40.5489186801188], &quot;type&quot;: &quot;Point&quot;}, &quot;id&quot;: &quot;87&quot;, &quot;properties&quot;: {&quot;ADDRESS&quot;: &quot;41 E. High St&quot;, &quot;NAME&quot;: &quot;Mount Gilead Free Public Library&quot;, &quot;__folium_color&quot;: &quot;#7f7f7f&quot;, &quot;id_county&quot;: &quot;39117&quot;, &quot;id_place&quot;: &quot;3952738&quot;}, &quot;type&quot;: &quot;Feature&quot;}, {&quot;bbox&quot;: [-82.6837729298785, 40.4803932430714, -82.6837729298785, 40.4803932430714], &quot;geometry&quot;: {&quot;coordinates&quot;: [-82.6837729298785, 40.4803932430714], &quot;type&quot;: &quot;Point&quot;}, &quot;id&quot;: &quot;88&quot;, &quot;properties&quot;: {&quot;ADDRESS&quot;: &quot;31 State Route 95&quot;, &quot;NAME&quot;: &quot;Selover Public Library&quot;, &quot;__folium_color&quot;: &quot;#7f7f7f&quot;, &quot;id_county&quot;: &quot;39117&quot;, &quot;id_place&quot;: &quot;3914114&quot;}, &quot;type&quot;: &quot;Feature&quot;}, {&quot;bbox&quot;: [-82.4172821495579, 39.8960911438767, -82.4172821495579, 39.8960911438767], &quot;geometry&quot;: {&quot;coordinates&quot;: [-82.4172821495579, 39.8960911438767], &quot;type&quot;: &quot;Point&quot;}, &quot;id&quot;: &quot;89&quot;, &quot;properties&quot;: {&quot;ADDRESS&quot;: &quot;99 E. Columbus St&quot;, &quot;NAME&quot;: &quot;Perry County District Library Branch&quot;, &quot;__folium_color&quot;: &quot;#c7c7c7&quot;, &quot;id_county&quot;: &quot;39127&quot;, &quot;id_place&quot;: &quot;3976680&quot;}, &quot;type&quot;: &quot;Feature&quot;}, {&quot;bbox&quot;: [-82.3002116548932, 39.8064887997414, -82.3002116548932, 39.8064887997414], &quot;geometry&quot;: {&quot;coordinates&quot;: [-82.3002116548932, 39.8064887997414], &quot;type&quot;: &quot;Point&quot;}, &quot;id&quot;: &quot;90&quot;, &quot;properties&quot;: {&quot;ADDRESS&quot;: &quot;117 W. Main St&quot;, &quot;NAME&quot;: &quot;Perry County District Library Branch&quot;, &quot;__folium_color&quot;: &quot;#c7c7c7&quot;, &quot;id_county&quot;: &quot;39127&quot;, &quot;id_place&quot;: &quot;3972977&quot;}, &quot;type&quot;: &quot;Feature&quot;}, {&quot;bbox&quot;: [-82.0945688908402, 39.7695797860738, -82.0945688908402, 39.7695797860738], &quot;geometry&quot;: {&quot;coordinates&quot;: [-82.0945688908402, 39.7695797860738], &quot;type&quot;: &quot;Point&quot;}, &quot;id&quot;: &quot;91&quot;, &quot;properties&quot;: {&quot;ADDRESS&quot;: &quot;11 E. Main St&quot;, &quot;NAME&quot;: &quot;Perry County District Library Branch&quot;, &quot;__folium_color&quot;: &quot;#c7c7c7&quot;, &quot;id_county&quot;: &quot;39127&quot;, &quot;id_place&quot;: &quot;3919456&quot;}, &quot;type&quot;: &quot;Feature&quot;}, {&quot;bbox&quot;: [-82.300130293338, 39.7210992984575, -82.300130293338, 39.7210992984575], &quot;geometry&quot;: {&quot;coordinates&quot;: [-82.300130293338, 39.7210992984575], &quot;type&quot;: &quot;Point&quot;}, &quot;id&quot;: &quot;92&quot;, &quot;properties&quot;: {&quot;ADDRESS&quot;: &quot;108 W. Main St&quot;, &quot;NAME&quot;: &quot;Perry County District Library Branch&quot;, &quot;__folium_color&quot;: &quot;#c7c7c7&quot;, &quot;id_county&quot;: &quot;39127&quot;, &quot;id_place&quot;: &quot;3939508&quot;}, &quot;type&quot;: &quot;Feature&quot;}, {&quot;bbox&quot;: [-82.2061174031537, 39.7140481561472, -82.2061174031537, 39.7140481561472], &quot;geometry&quot;: {&quot;coordinates&quot;: [-82.2061174031537, 39.7140481561472], &quot;type&quot;: &quot;Point&quot;}, &quot;id&quot;: &quot;93&quot;, &quot;properties&quot;: {&quot;ADDRESS&quot;: &quot;117 S. Jackson St&quot;, &quot;NAME&quot;: &quot;Perry County District Library&quot;, &quot;__folium_color&quot;: &quot;#c7c7c7&quot;, &quot;id_county&quot;: &quot;39127&quot;, &quot;id_place&quot;: &quot;3954866&quot;}, &quot;type&quot;: &quot;Feature&quot;}, {&quot;bbox&quot;: [-82.2367065380701, 39.5775427271723, -82.2367065380701, 39.5775427271723], &quot;geometry&quot;: {&quot;coordinates&quot;: [-82.2367065380701, 39.5775427271723], &quot;type&quot;: &quot;Point&quot;}, &quot;id&quot;: &quot;94&quot;, &quot;properties&quot;: {&quot;ADDRESS&quot;: &quot;102 E. Main St.&quot;, &quot;NAME&quot;: &quot;New Straitsville Public Library&quot;, &quot;__folium_color&quot;: &quot;#c7c7c7&quot;, &quot;id_county&quot;: &quot;39127&quot;, &quot;id_place&quot;: &quot;3955552&quot;}, &quot;type&quot;: &quot;Feature&quot;}, {&quot;bbox&quot;: [-82.087584035686, 39.6026551729388, -82.087584035686, 39.6026551729388], &quot;geometry&quot;: {&quot;coordinates&quot;: [-82.087584035686, 39.6026551729388], &quot;type&quot;: &quot;Point&quot;}, &quot;id&quot;: &quot;95&quot;, &quot;properties&quot;: {&quot;ADDRESS&quot;: &quot;113 11th Hill St&quot;, &quot;NAME&quot;: &quot;Perry County District Library Branch&quot;, &quot;__folium_color&quot;: &quot;#c7c7c7&quot;, &quot;id_county&quot;: &quot;39127&quot;, &quot;id_place&quot;: &quot;3918770&quot;}, &quot;type&quot;: &quot;Feature&quot;}, {&quot;bbox&quot;: [-82.8933137097604, 40.5006698242389, -82.8933137097604, 40.5006698242389], &quot;geometry&quot;: {&quot;coordinates&quot;: [-82.8933137097604, 40.5006698242389], &quot;type&quot;: &quot;Point&quot;}, &quot;id&quot;: &quot;96&quot;, &quot;properties&quot;: {&quot;ADDRESS&quot;: &quot;128 E. Main St&quot;, &quot;NAME&quot;: &quot;Cardington-Lincoln Public Library&quot;, &quot;__folium_color&quot;: &quot;#7f7f7f&quot;, &quot;id_county&quot;: &quot;39117&quot;, &quot;id_place&quot;: &quot;3912084&quot;}, &quot;type&quot;: &quot;Feature&quot;}], &quot;type&quot;: &quot;FeatureCollection&quot;});\n",
       "\n",
       "        \n",
       "    \n",
       "    geo_json_f903ebfc75a2b7cfba2dcf559aa8947c.bindTooltip(\n",
       "    function(layer){\n",
       "    let div = L.DomUtil.create(&#x27;div&#x27;);\n",
       "    \n",
       "    let handleObject = feature=&gt;typeof(feature)==&#x27;object&#x27; ? JSON.stringify(feature) : feature;\n",
       "    let fields = [&quot;NAME&quot;, &quot;ADDRESS&quot;, &quot;id_county&quot;, &quot;id_place&quot;];\n",
       "    let aliases = [&quot;NAME&quot;, &quot;ADDRESS&quot;, &quot;id_county&quot;, &quot;id_place&quot;];\n",
       "    let table = &#x27;&lt;table&gt;&#x27; +\n",
       "        String(\n",
       "        fields.map(\n",
       "        (v,i)=&gt;\n",
       "        `&lt;tr&gt;\n",
       "            &lt;th&gt;${aliases[i]}&lt;/th&gt;\n",
       "            \n",
       "            &lt;td&gt;${handleObject(layer.feature.properties[v])}&lt;/td&gt;\n",
       "        &lt;/tr&gt;`).join(&#x27;&#x27;))\n",
       "    +&#x27;&lt;/table&gt;&#x27;;\n",
       "    div.innerHTML=table;\n",
       "    \n",
       "    return div\n",
       "    }\n",
       "    ,{\n",
       "  &quot;sticky&quot;: true,\n",
       "  &quot;className&quot;: &quot;foliumtooltip&quot;,\n",
       "});\n",
       "                     \n",
       "    \n",
       "            geo_json_f903ebfc75a2b7cfba2dcf559aa8947c.addTo(map_2ee3957bf7872e8f5380a20e86d34b82);\n",
       "        \n",
       "&lt;/script&gt;\n",
       "&lt;/html&gt;\" style=\"position:absolute;width:100%;height:100%;left:0;top:0;border:none !important;\" allowfullscreen webkitallowfullscreen mozallowfullscreen></iframe></div></div>"
      ],
      "text/plain": [
       "<folium.folium.Map at 0x2bc9d94a610>"
      ]
     },
     "execution_count": 69,
     "metadata": {},
     "output_type": "execute_result"
    }
   ],
   "source": [
    "librariesEnriched.explore(column=\"id_county\", style_kwds={\"radius\":4})"
   ]
  },
  {
   "cell_type": "markdown",
   "id": "c5b815f8-1ffd-4aed-9a0f-29f9f25bac6b",
   "metadata": {},
   "source": [
    "Let's take another look, this time symbolizing each library according to the place where it is located.  The legend has been suppressed because there are too many unique values, but you can hover over each point to see the place identifier that has been assigned to it."
   ]
  },
  {
   "cell_type": "code",
   "execution_count": 70,
   "id": "201114d9-ab9c-4853-953e-0006e8a3aa64",
   "metadata": {
    "tags": []
   },
   "outputs": [
    {
     "data": {
      "text/html": [
       "<div style=\"width:100%;\"><div style=\"position:relative;width:100%;height:0;padding-bottom:60%;\"><span style=\"color:#565656\">Make this Notebook Trusted to load map: File -> Trust Notebook</span><iframe srcdoc=\"&lt;!DOCTYPE html&gt;\n",
       "&lt;html&gt;\n",
       "&lt;head&gt;\n",
       "    \n",
       "    &lt;meta http-equiv=&quot;content-type&quot; content=&quot;text/html; charset=UTF-8&quot; /&gt;\n",
       "    \n",
       "        &lt;script&gt;\n",
       "            L_NO_TOUCH = false;\n",
       "            L_DISABLE_3D = false;\n",
       "        &lt;/script&gt;\n",
       "    \n",
       "    &lt;style&gt;html, body {width: 100%;height: 100%;margin: 0;padding: 0;}&lt;/style&gt;\n",
       "    &lt;style&gt;#map {position:absolute;top:0;bottom:0;right:0;left:0;}&lt;/style&gt;\n",
       "    &lt;script src=&quot;https://cdn.jsdelivr.net/npm/leaflet@1.9.3/dist/leaflet.js&quot;&gt;&lt;/script&gt;\n",
       "    &lt;script src=&quot;https://code.jquery.com/jquery-3.7.1.min.js&quot;&gt;&lt;/script&gt;\n",
       "    &lt;script src=&quot;https://cdn.jsdelivr.net/npm/bootstrap@5.2.2/dist/js/bootstrap.bundle.min.js&quot;&gt;&lt;/script&gt;\n",
       "    &lt;script src=&quot;https://cdnjs.cloudflare.com/ajax/libs/Leaflet.awesome-markers/2.0.2/leaflet.awesome-markers.js&quot;&gt;&lt;/script&gt;\n",
       "    &lt;link rel=&quot;stylesheet&quot; href=&quot;https://cdn.jsdelivr.net/npm/leaflet@1.9.3/dist/leaflet.css&quot;/&gt;\n",
       "    &lt;link rel=&quot;stylesheet&quot; href=&quot;https://cdn.jsdelivr.net/npm/bootstrap@5.2.2/dist/css/bootstrap.min.css&quot;/&gt;\n",
       "    &lt;link rel=&quot;stylesheet&quot; href=&quot;https://netdna.bootstrapcdn.com/bootstrap/3.0.0/css/bootstrap-glyphicons.css&quot;/&gt;\n",
       "    &lt;link rel=&quot;stylesheet&quot; href=&quot;https://cdn.jsdelivr.net/npm/@fortawesome/fontawesome-free@6.2.0/css/all.min.css&quot;/&gt;\n",
       "    &lt;link rel=&quot;stylesheet&quot; href=&quot;https://cdnjs.cloudflare.com/ajax/libs/Leaflet.awesome-markers/2.0.2/leaflet.awesome-markers.css&quot;/&gt;\n",
       "    &lt;link rel=&quot;stylesheet&quot; href=&quot;https://cdn.jsdelivr.net/gh/python-visualization/folium/folium/templates/leaflet.awesome.rotate.min.css&quot;/&gt;\n",
       "    \n",
       "            &lt;meta name=&quot;viewport&quot; content=&quot;width=device-width,\n",
       "                initial-scale=1.0, maximum-scale=1.0, user-scalable=no&quot; /&gt;\n",
       "            &lt;style&gt;\n",
       "                #map_04d9b9f110e0fa188dcff8eca9f1cc61 {\n",
       "                    position: relative;\n",
       "                    width: 100.0%;\n",
       "                    height: 100.0%;\n",
       "                    left: 0.0%;\n",
       "                    top: 0.0%;\n",
       "                }\n",
       "                .leaflet-container { font-size: 1rem; }\n",
       "            &lt;/style&gt;\n",
       "        \n",
       "    \n",
       "                    &lt;style&gt;\n",
       "                        .foliumtooltip {\n",
       "                            \n",
       "                        }\n",
       "                       .foliumtooltip table{\n",
       "                            margin: auto;\n",
       "                        }\n",
       "                        .foliumtooltip tr{\n",
       "                            text-align: left;\n",
       "                        }\n",
       "                        .foliumtooltip th{\n",
       "                            padding: 2px; padding-right: 8px;\n",
       "                        }\n",
       "                    &lt;/style&gt;\n",
       "            \n",
       "&lt;/head&gt;\n",
       "&lt;body&gt;\n",
       "    \n",
       "    \n",
       "            &lt;div class=&quot;folium-map&quot; id=&quot;map_04d9b9f110e0fa188dcff8eca9f1cc61&quot; &gt;&lt;/div&gt;\n",
       "        \n",
       "&lt;/body&gt;\n",
       "&lt;script&gt;\n",
       "    \n",
       "    \n",
       "            var map_04d9b9f110e0fa188dcff8eca9f1cc61 = L.map(\n",
       "                &quot;map_04d9b9f110e0fa188dcff8eca9f1cc61&quot;,\n",
       "                {\n",
       "                    center: [39.98345478761455, -83.00588763104406],\n",
       "                    crs: L.CRS.EPSG3857,\n",
       "                    ...{\n",
       "  &quot;zoom&quot;: 10,\n",
       "  &quot;zoomControl&quot;: true,\n",
       "  &quot;preferCanvas&quot;: false,\n",
       "}\n",
       "\n",
       "                }\n",
       "            );\n",
       "            L.control.scale().addTo(map_04d9b9f110e0fa188dcff8eca9f1cc61);\n",
       "\n",
       "            \n",
       "\n",
       "        \n",
       "    \n",
       "            var tile_layer_c1c5763db93d53896f041ecf2d025304 = L.tileLayer(\n",
       "                &quot;https://tile.openstreetmap.org/{z}/{x}/{y}.png&quot;,\n",
       "                {\n",
       "  &quot;minZoom&quot;: 0,\n",
       "  &quot;maxZoom&quot;: 19,\n",
       "  &quot;maxNativeZoom&quot;: 19,\n",
       "  &quot;noWrap&quot;: false,\n",
       "  &quot;attribution&quot;: &quot;\\u0026copy; \\u003ca href=\\&quot;https://www.openstreetmap.org/copyright\\&quot;\\u003eOpenStreetMap\\u003c/a\\u003e contributors&quot;,\n",
       "  &quot;subdomains&quot;: &quot;abc&quot;,\n",
       "  &quot;detectRetina&quot;: false,\n",
       "  &quot;tms&quot;: false,\n",
       "  &quot;opacity&quot;: 1,\n",
       "}\n",
       "\n",
       "            );\n",
       "        \n",
       "    \n",
       "            tile_layer_c1c5763db93d53896f041ecf2d025304.addTo(map_04d9b9f110e0fa188dcff8eca9f1cc61);\n",
       "        \n",
       "    \n",
       "            map_04d9b9f110e0fa188dcff8eca9f1cc61.fitBounds(\n",
       "                [[39.3298618160501, -83.9241912264021], [40.637047759179, -82.087584035686]],\n",
       "                {}\n",
       "            );\n",
       "        \n",
       "    \n",
       "        function geo_json_0e21bb1de65a7a0412bb1823d3def7aa_styler(feature) {\n",
       "            switch(feature.id) {\n",
       "                case &quot;0&quot;: case &quot;55&quot;: case &quot;86&quot;: \n",
       "                    return {&quot;color&quot;: null, &quot;fillColor&quot;: null, &quot;fillOpacity&quot;: 0.5, &quot;radius&quot;: 4, &quot;weight&quot;: 2};\n",
       "                case &quot;1&quot;: case &quot;2&quot;: case &quot;40&quot;: case &quot;82&quot;: \n",
       "                    return {&quot;color&quot;: &quot;#c7c7c7&quot;, &quot;fillColor&quot;: &quot;#c7c7c7&quot;, &quot;fillOpacity&quot;: 0.5, &quot;radius&quot;: 4, &quot;weight&quot;: 2};\n",
       "                case &quot;3&quot;: case &quot;6&quot;: case &quot;84&quot;: case &quot;87&quot;: \n",
       "                    return {&quot;color&quot;: &quot;#c49c94&quot;, &quot;fillColor&quot;: &quot;#c49c94&quot;, &quot;fillOpacity&quot;: 0.5, &quot;radius&quot;: 4, &quot;weight&quot;: 2};\n",
       "                case &quot;4&quot;: case &quot;10&quot;: case &quot;11&quot;: case &quot;12&quot;: case &quot;13&quot;: case &quot;15&quot;: case &quot;16&quot;: case &quot;17&quot;: case &quot;19&quot;: case &quot;22&quot;: case &quot;26&quot;: case &quot;27&quot;: case &quot;30&quot;: case &quot;36&quot;: case &quot;37&quot;: case &quot;38&quot;: case &quot;39&quot;: case &quot;63&quot;: case &quot;64&quot;: case &quot;65&quot;: case &quot;66&quot;: case &quot;69&quot;: case &quot;95&quot;: \n",
       "                    return {&quot;color&quot;: &quot;#2ca02c&quot;, &quot;fillColor&quot;: &quot;#2ca02c&quot;, &quot;fillOpacity&quot;: 0.5, &quot;radius&quot;: 4, &quot;weight&quot;: 2};\n",
       "                case &quot;5&quot;: case &quot;44&quot;: case &quot;53&quot;: case &quot;54&quot;: \n",
       "                    return {&quot;color&quot;: &quot;#1f77b4&quot;, &quot;fillColor&quot;: &quot;#1f77b4&quot;, &quot;fillOpacity&quot;: 0.5, &quot;radius&quot;: 4, &quot;weight&quot;: 2};\n",
       "                case &quot;7&quot;: case &quot;14&quot;: case &quot;77&quot;: \n",
       "                    return {&quot;color&quot;: &quot;#17becf&quot;, &quot;fillColor&quot;: &quot;#17becf&quot;, &quot;fillOpacity&quot;: 0.5, &quot;radius&quot;: 4, &quot;weight&quot;: 2};\n",
       "                case &quot;8&quot;: case &quot;46&quot;: case &quot;49&quot;: \n",
       "                    return {&quot;color&quot;: &quot;#7f7f7f&quot;, &quot;fillColor&quot;: &quot;#7f7f7f&quot;, &quot;fillOpacity&quot;: 0.5, &quot;radius&quot;: 4, &quot;weight&quot;: 2};\n",
       "                case &quot;18&quot;: case &quot;33&quot;: case &quot;35&quot;: case &quot;61&quot;: \n",
       "                    return {&quot;color&quot;: &quot;#ff9896&quot;, &quot;fillColor&quot;: &quot;#ff9896&quot;, &quot;fillOpacity&quot;: 0.5, &quot;radius&quot;: 4, &quot;weight&quot;: 2};\n",
       "                case &quot;20&quot;: case &quot;28&quot;: case &quot;31&quot;: case &quot;56&quot;: \n",
       "                    return {&quot;color&quot;: &quot;#d62728&quot;, &quot;fillColor&quot;: &quot;#d62728&quot;, &quot;fillOpacity&quot;: 0.5, &quot;radius&quot;: 4, &quot;weight&quot;: 2};\n",
       "                case &quot;21&quot;: case &quot;62&quot;: case &quot;81&quot;: case &quot;92&quot;: \n",
       "                    return {&quot;color&quot;: &quot;#9467bd&quot;, &quot;fillColor&quot;: &quot;#9467bd&quot;, &quot;fillOpacity&quot;: 0.5, &quot;radius&quot;: 4, &quot;weight&quot;: 2};\n",
       "                case &quot;23&quot;: case &quot;24&quot;: case &quot;32&quot;: case &quot;57&quot;: case &quot;70&quot;: case &quot;89&quot;: \n",
       "                    return {&quot;color&quot;: &quot;#dbdb8d&quot;, &quot;fillColor&quot;: &quot;#dbdb8d&quot;, &quot;fillOpacity&quot;: 0.5, &quot;radius&quot;: 4, &quot;weight&quot;: 2};\n",
       "                case &quot;25&quot;: case &quot;42&quot;: case &quot;74&quot;: case &quot;75&quot;: \n",
       "                    return {&quot;color&quot;: &quot;#9edae5&quot;, &quot;fillColor&quot;: &quot;#9edae5&quot;, &quot;fillOpacity&quot;: 0.5, &quot;radius&quot;: 4, &quot;weight&quot;: 2};\n",
       "                case &quot;29&quot;: case &quot;58&quot;: case &quot;59&quot;: case &quot;73&quot;: \n",
       "                    return {&quot;color&quot;: &quot;#e377c2&quot;, &quot;fillColor&quot;: &quot;#e377c2&quot;, &quot;fillOpacity&quot;: 0.5, &quot;radius&quot;: 4, &quot;weight&quot;: 2};\n",
       "                case &quot;34&quot;: case &quot;43&quot;: case &quot;83&quot;: \n",
       "                    return {&quot;color&quot;: &quot;#c5b0d5&quot;, &quot;fillColor&quot;: &quot;#c5b0d5&quot;, &quot;fillOpacity&quot;: 0.5, &quot;radius&quot;: 4, &quot;weight&quot;: 2};\n",
       "                case &quot;41&quot;: case &quot;45&quot;: case &quot;67&quot;: case &quot;85&quot;: \n",
       "                    return {&quot;color&quot;: &quot;#ff7f0e&quot;, &quot;fillColor&quot;: &quot;#ff7f0e&quot;, &quot;fillOpacity&quot;: 0.5, &quot;radius&quot;: 4, &quot;weight&quot;: 2};\n",
       "                case &quot;48&quot;: case &quot;68&quot;: case &quot;78&quot;: case &quot;79&quot;: \n",
       "                    return {&quot;color&quot;: &quot;#aec7e8&quot;, &quot;fillColor&quot;: &quot;#aec7e8&quot;, &quot;fillOpacity&quot;: 0.5, &quot;radius&quot;: 4, &quot;weight&quot;: 2};\n",
       "                case &quot;50&quot;: case &quot;60&quot;: case &quot;93&quot;: case &quot;94&quot;: \n",
       "                    return {&quot;color&quot;: &quot;#f7b6d2&quot;, &quot;fillColor&quot;: &quot;#f7b6d2&quot;, &quot;fillOpacity&quot;: 0.5, &quot;radius&quot;: 4, &quot;weight&quot;: 2};\n",
       "                case &quot;51&quot;: case &quot;80&quot;: case &quot;91&quot;: \n",
       "                    return {&quot;color&quot;: &quot;#98df8a&quot;, &quot;fillColor&quot;: &quot;#98df8a&quot;, &quot;fillOpacity&quot;: 0.5, &quot;radius&quot;: 4, &quot;weight&quot;: 2};\n",
       "                case &quot;52&quot;: case &quot;76&quot;: case &quot;90&quot;: \n",
       "                    return {&quot;color&quot;: &quot;#bcbd22&quot;, &quot;fillColor&quot;: &quot;#bcbd22&quot;, &quot;fillOpacity&quot;: 0.5, &quot;radius&quot;: 4, &quot;weight&quot;: 2};\n",
       "                case &quot;72&quot;: case &quot;88&quot;: case &quot;96&quot;: \n",
       "                    return {&quot;color&quot;: &quot;#ffbb78&quot;, &quot;fillColor&quot;: &quot;#ffbb78&quot;, &quot;fillOpacity&quot;: 0.5, &quot;radius&quot;: 4, &quot;weight&quot;: 2};\n",
       "                default:\n",
       "                    return {&quot;color&quot;: &quot;#8c564b&quot;, &quot;fillColor&quot;: &quot;#8c564b&quot;, &quot;fillOpacity&quot;: 0.5, &quot;radius&quot;: 4, &quot;weight&quot;: 2};\n",
       "            }\n",
       "        }\n",
       "        function geo_json_0e21bb1de65a7a0412bb1823d3def7aa_highlighter(feature) {\n",
       "            switch(feature.id) {\n",
       "                default:\n",
       "                    return {&quot;fillOpacity&quot;: 0.75};\n",
       "            }\n",
       "        }\n",
       "        function geo_json_0e21bb1de65a7a0412bb1823d3def7aa_pointToLayer(feature, latlng) {\n",
       "            var opts = {&quot;bubblingMouseEvents&quot;: true, &quot;color&quot;: &quot;#3388ff&quot;, &quot;dashArray&quot;: null, &quot;dashOffset&quot;: null, &quot;fill&quot;: true, &quot;fillColor&quot;: &quot;#3388ff&quot;, &quot;fillOpacity&quot;: 0.2, &quot;fillRule&quot;: &quot;evenodd&quot;, &quot;lineCap&quot;: &quot;round&quot;, &quot;lineJoin&quot;: &quot;round&quot;, &quot;opacity&quot;: 1.0, &quot;radius&quot;: 2, &quot;stroke&quot;: true, &quot;weight&quot;: 3};\n",
       "            \n",
       "            let style = geo_json_0e21bb1de65a7a0412bb1823d3def7aa_styler(feature)\n",
       "            Object.assign(opts, style)\n",
       "            \n",
       "            return new L.CircleMarker(latlng, opts)\n",
       "        }\n",
       "\n",
       "        function geo_json_0e21bb1de65a7a0412bb1823d3def7aa_onEachFeature(feature, layer) {\n",
       "            layer.on({\n",
       "                mouseout: function(e) {\n",
       "                    if(typeof e.target.setStyle === &quot;function&quot;){\n",
       "                            geo_json_0e21bb1de65a7a0412bb1823d3def7aa.resetStyle(e.target);\n",
       "                    }\n",
       "                },\n",
       "                mouseover: function(e) {\n",
       "                    if(typeof e.target.setStyle === &quot;function&quot;){\n",
       "                        const highlightStyle = geo_json_0e21bb1de65a7a0412bb1823d3def7aa_highlighter(e.target.feature)\n",
       "                        e.target.setStyle(highlightStyle);\n",
       "                    }\n",
       "                },\n",
       "            });\n",
       "        };\n",
       "        var geo_json_0e21bb1de65a7a0412bb1823d3def7aa = L.geoJson(null, {\n",
       "                onEachFeature: geo_json_0e21bb1de65a7a0412bb1823d3def7aa_onEachFeature,\n",
       "            \n",
       "                style: geo_json_0e21bb1de65a7a0412bb1823d3def7aa_styler,\n",
       "                pointToLayer: geo_json_0e21bb1de65a7a0412bb1823d3def7aa_pointToLayer,\n",
       "            ...{\n",
       "}\n",
       "        });\n",
       "\n",
       "        function geo_json_0e21bb1de65a7a0412bb1823d3def7aa_add (data) {\n",
       "            geo_json_0e21bb1de65a7a0412bb1823d3def7aa\n",
       "                .addData(data);\n",
       "        }\n",
       "            geo_json_0e21bb1de65a7a0412bb1823d3def7aa_add({&quot;bbox&quot;: [-83.9241912264021, 39.3298618160501, -82.087584035686, 40.637047759179], &quot;features&quot;: [{&quot;bbox&quot;: [-82.6842851520357, 39.7697907908279, -82.6842851520357, 39.7697907908279], &quot;geometry&quot;: {&quot;coordinates&quot;: [-82.6842851520357, 39.7697907908279], &quot;type&quot;: &quot;Point&quot;}, &quot;id&quot;: &quot;0&quot;, &quot;properties&quot;: {&quot;ADDRESS&quot;: &quot;2855 Helena Dr NW&quot;, &quot;NAME&quot;: &quot;Fairfield County District Library Northwest Branch&quot;, &quot;__folium_color&quot;: null, &quot;id_county&quot;: &quot;39045&quot;, &quot;id_place&quot;: null}, &quot;type&quot;: &quot;Feature&quot;}, {&quot;bbox&quot;: [-83.4676731224247, 40.3351465051175, -83.4676731224247, 40.3351465051175], &quot;geometry&quot;: {&quot;coordinates&quot;: [-83.4676731224247, 40.3351465051175], &quot;type&quot;: &quot;Point&quot;}, &quot;id&quot;: &quot;1&quot;, &quot;properties&quot;: {&quot;ADDRESS&quot;: &quot;21698 Main St&quot;, &quot;NAME&quot;: &quot;Marysville School District Public Library Raymond Branch&quot;, &quot;__folium_color&quot;: &quot;#c7c7c7&quot;, &quot;id_county&quot;: &quot;39159&quot;, &quot;id_place&quot;: &quot;3965676&quot;}, &quot;type&quot;: &quot;Feature&quot;}, {&quot;bbox&quot;: [-83.2960529998877, 40.4262948804552, -83.2960529998877, 40.4262948804552], &quot;geometry&quot;: {&quot;coordinates&quot;: [-83.2960529998877, 40.4262948804552], &quot;type&quot;: &quot;Point&quot;}, &quot;id&quot;: &quot;2&quot;, &quot;properties&quot;: {&quot;ADDRESS&quot;: &quot;4 E. Ottawa St&quot;, &quot;NAME&quot;: &quot;Richwood-North Union Public Library&quot;, &quot;__folium_color&quot;: &quot;#c7c7c7&quot;, &quot;id_county&quot;: &quot;39159&quot;, &quot;id_place&quot;: &quot;3966936&quot;}, &quot;type&quot;: &quot;Feature&quot;}, {&quot;bbox&quot;: [-83.3661078207964, 40.2350394928228, -83.3661078207964, 40.2350394928228], &quot;geometry&quot;: {&quot;coordinates&quot;: [-83.3661078207964, 40.2350394928228], &quot;type&quot;: &quot;Point&quot;}, &quot;id&quot;: &quot;3&quot;, &quot;properties&quot;: {&quot;ADDRESS&quot;: &quot;231 S. Plum St&quot;, &quot;NAME&quot;: &quot;Marysville School District Public Library&quot;, &quot;__folium_color&quot;: &quot;#c49c94&quot;, &quot;id_county&quot;: &quot;39159&quot;, &quot;id_place&quot;: &quot;3948160&quot;}, &quot;type&quot;: &quot;Feature&quot;}, {&quot;bbox&quot;: [-82.9386383383752, 39.6194687501101, -82.9386383383752, 39.6194687501101], &quot;geometry&quot;: {&quot;coordinates&quot;: [-82.9386383383752, 39.6194687501101], &quot;type&quot;: &quot;Point&quot;}, &quot;id&quot;: &quot;4&quot;, &quot;properties&quot;: {&quot;ADDRESS&quot;: &quot;1160 N. Court St&quot;, &quot;NAME&quot;: &quot;Pickaway Co. District Public Library&quot;, &quot;__folium_color&quot;: &quot;#2ca02c&quot;, &quot;id_county&quot;: &quot;39129&quot;, &quot;id_place&quot;: &quot;3915070&quot;}, &quot;type&quot;: &quot;Feature&quot;}, {&quot;bbox&quot;: [-82.953736797335, 39.7143219296381, -82.953736797335, 39.7143219296381], &quot;geometry&quot;: {&quot;coordinates&quot;: [-82.953736797335, 39.7143219296381], &quot;type&quot;: &quot;Point&quot;}, &quot;id&quot;: &quot;5&quot;, &quot;properties&quot;: {&quot;ADDRESS&quot;: &quot;51 Long St&quot;, &quot;NAME&quot;: &quot;Pickaway Co. District Public Library Floyd E. Younkin Branch&quot;, &quot;__folium_color&quot;: &quot;#1f77b4&quot;, &quot;id_county&quot;: &quot;39129&quot;, &quot;id_place&quot;: &quot;3902680&quot;}, &quot;type&quot;: &quot;Feature&quot;}, {&quot;bbox&quot;: [-83.2663829923402, 39.7186790728588, -83.2663829923402, 39.7186790728588], &quot;geometry&quot;: {&quot;coordinates&quot;: [-83.2663829923402, 39.7186790728588], &quot;type&quot;: &quot;Point&quot;}, &quot;id&quot;: &quot;6&quot;, &quot;properties&quot;: {&quot;ADDRESS&quot;: &quot;60 W. Columbus St&quot;, &quot;NAME&quot;: &quot;Mt. Sterling Public Library&quot;, &quot;__folium_color&quot;: &quot;#c49c94&quot;, &quot;id_county&quot;: &quot;39097&quot;, &quot;id_place&quot;: &quot;3953046&quot;}, &quot;type&quot;: &quot;Feature&quot;}, {&quot;bbox&quot;: [-83.2737747193497, 39.9389331901837, -83.2737747193497, 39.9389331901837], &quot;geometry&quot;: {&quot;coordinates&quot;: [-83.2737747193497, 39.9389331901837], &quot;type&quot;: &quot;Point&quot;}, &quot;id&quot;: &quot;7&quot;, &quot;properties&quot;: {&quot;ADDRESS&quot;: &quot;270 Lilly Chapel Rd&quot;, &quot;NAME&quot;: &quot;Hurt/Battelle Memorial Library Of West Jefferson&quot;, &quot;__folium_color&quot;: &quot;#17becf&quot;, &quot;id_county&quot;: &quot;39097&quot;, &quot;id_place&quot;: &quot;3983580&quot;}, &quot;type&quot;: &quot;Feature&quot;}, {&quot;bbox&quot;: [-83.2695810022159, 40.1078346671016, -83.2695810022159, 40.1078346671016], &quot;geometry&quot;: {&quot;coordinates&quot;: [-83.2695810022159, 40.1078346671016], &quot;type&quot;: &quot;Point&quot;}, &quot;id&quot;: &quot;8&quot;, &quot;properties&quot;: {&quot;ADDRESS&quot;: &quot;305 W. Main St&quot;, &quot;NAME&quot;: &quot;Plain City Public Library&quot;, &quot;__folium_color&quot;: &quot;#7f7f7f&quot;, &quot;id_county&quot;: &quot;39097&quot;, &quot;id_place&quot;: &quot;3963030&quot;}, &quot;type&quot;: &quot;Feature&quot;}, {&quot;bbox&quot;: [-83.4454832255098, 39.8854948989494, -83.4454832255098, 39.8854948989494], &quot;geometry&quot;: {&quot;coordinates&quot;: [-83.4454832255098, 39.8854948989494], &quot;type&quot;: &quot;Point&quot;}, &quot;id&quot;: &quot;9&quot;, &quot;properties&quot;: {&quot;ADDRESS&quot;: &quot;20 E. First St&quot;, &quot;NAME&quot;: &quot;London Public Library&quot;, &quot;__folium_color&quot;: &quot;#8c564b&quot;, &quot;id_county&quot;: &quot;39097&quot;, &quot;id_place&quot;: &quot;3944674&quot;}, &quot;type&quot;: &quot;Feature&quot;}, {&quot;bbox&quot;: [-82.9897617211046, 39.9612137232294, -82.9897617211046, 39.9612137232294], &quot;geometry&quot;: {&quot;coordinates&quot;: [-82.9897617211046, 39.9612137232294], &quot;type&quot;: &quot;Point&quot;}, &quot;id&quot;: &quot;10&quot;, &quot;properties&quot;: {&quot;ADDRESS&quot;: &quot;96 S. Grant Ave&quot;, &quot;NAME&quot;: &quot;Columbus Metropolitan Library Main&quot;, &quot;__folium_color&quot;: &quot;#2ca02c&quot;, &quot;id_county&quot;: &quot;39049&quot;, &quot;id_place&quot;: &quot;3918000&quot;}, &quot;type&quot;: &quot;Feature&quot;}, {&quot;bbox&quot;: [-83.0067776739771, 39.9913674989808, -83.0067776739771, 39.9913674989808], &quot;geometry&quot;: {&quot;coordinates&quot;: [-83.0067776739771, 39.9913674989808], &quot;type&quot;: &quot;Point&quot;}, &quot;id&quot;: &quot;11&quot;, &quot;properties&quot;: {&quot;ADDRESS&quot;: &quot;1423 N. High St&quot;, &quot;NAME&quot;: &quot;Columbus Metropolitan Library Northside Branch&quot;, &quot;__folium_color&quot;: &quot;#2ca02c&quot;, &quot;id_county&quot;: &quot;39049&quot;, &quot;id_place&quot;: &quot;3918000&quot;}, &quot;type&quot;: &quot;Feature&quot;}, {&quot;bbox&quot;: [-82.9683518867601, 40.0126747271083, -82.9683518867601, 40.0126747271083], &quot;geometry&quot;: {&quot;coordinates&quot;: [-82.9683518867601, 40.0126747271083], &quot;type&quot;: &quot;Point&quot;}, &quot;id&quot;: &quot;12&quot;, &quot;properties&quot;: {&quot;ADDRESS&quot;: &quot;2223 Cleveland Ave&quot;, &quot;NAME&quot;: &quot;Columbus Metropolitan Library Linden Branch&quot;, &quot;__folium_color&quot;: &quot;#2ca02c&quot;, &quot;id_county&quot;: &quot;39049&quot;, &quot;id_place&quot;: &quot;3918000&quot;}, &quot;type&quot;: &quot;Feature&quot;}, {&quot;bbox&quot;: [-83.0192465142297, 40.0415453903429, -83.0192465142297, 40.0415453903429], &quot;geometry&quot;: {&quot;coordinates&quot;: [-83.0192465142297, 40.0415453903429], &quot;type&quot;: &quot;Point&quot;}, &quot;id&quot;: &quot;13&quot;, &quot;properties&quot;: {&quot;ADDRESS&quot;: &quot;3909 N. High St&quot;, &quot;NAME&quot;: &quot;Columbus Metropolitan Library Whetstone Branch&quot;, &quot;__folium_color&quot;: &quot;#2ca02c&quot;, &quot;id_county&quot;: &quot;39049&quot;, &quot;id_place&quot;: &quot;3918000&quot;}, &quot;type&quot;: &quot;Feature&quot;}, {&quot;bbox&quot;: [-82.9297234347049, 40.1230145532762, -82.9297234347049, 40.1230145532762], &quot;geometry&quot;: {&quot;coordinates&quot;: [-82.9297234347049, 40.1230145532762], &quot;type&quot;: &quot;Point&quot;}, &quot;id&quot;: &quot;14&quot;, &quot;properties&quot;: {&quot;ADDRESS&quot;: &quot;126 S. State St&quot;, &quot;NAME&quot;: &quot;Westerville Public Library&quot;, &quot;__folium_color&quot;: &quot;#17becf&quot;, &quot;id_county&quot;: &quot;39049&quot;, &quot;id_place&quot;: &quot;3983342&quot;}, &quot;type&quot;: &quot;Feature&quot;}, {&quot;bbox&quot;: [-82.9408605736896, 39.9859677811109, -82.9408605736896, 39.9859677811109], &quot;geometry&quot;: {&quot;coordinates&quot;: [-82.9408605736896, 39.9859677811109], &quot;type&quot;: &quot;Point&quot;}, &quot;id&quot;: &quot;15&quot;, &quot;properties&quot;: {&quot;ADDRESS&quot;: &quot;850 N Nelson Rd&quot;, &quot;NAME&quot;: &quot;Columbus Metropolitan Library Shepard Branch&quot;, &quot;__folium_color&quot;: &quot;#2ca02c&quot;, &quot;id_county&quot;: &quot;39049&quot;, &quot;id_place&quot;: &quot;3918000&quot;}, &quot;type&quot;: &quot;Feature&quot;}, {&quot;bbox&quot;: [-82.9045367295948, 39.9468452385911, -82.9045367295948, 39.9468452385911], &quot;geometry&quot;: {&quot;coordinates&quot;: [-82.9045367295948, 39.9468452385911], &quot;type&quot;: &quot;Point&quot;}, &quot;id&quot;: &quot;16&quot;, &quot;properties&quot;: {&quot;ADDRESS&quot;: &quot;3434 E. Livingston Ave&quot;, &quot;NAME&quot;: &quot;Columbus Metropolitan Library Livingston Branch&quot;, &quot;__folium_color&quot;: &quot;#2ca02c&quot;, &quot;id_county&quot;: &quot;39049&quot;, &quot;id_place&quot;: &quot;3918000&quot;}, &quot;type&quot;: &quot;Feature&quot;}, {&quot;bbox&quot;: [-82.9597273052821, 39.9494241997039, -82.9597273052821, 39.9494241997039], &quot;geometry&quot;: {&quot;coordinates&quot;: [-82.9597273052821, 39.9494241997039], &quot;type&quot;: &quot;Point&quot;}, &quot;id&quot;: &quot;17&quot;, &quot;properties&quot;: {&quot;ADDRESS&quot;: &quot;1422 E. Livingstone Ave&quot;, &quot;NAME&quot;: &quot;Columbus Metropolitan Library Driving Park Branch&quot;, &quot;__folium_color&quot;: &quot;#2ca02c&quot;, &quot;id_county&quot;: &quot;39049&quot;, &quot;id_place&quot;: &quot;3918000&quot;}, &quot;type&quot;: &quot;Feature&quot;}, {&quot;bbox&quot;: [-83.0928751801827, 39.8813443923715, -83.0928751801827, 39.8813443923715], &quot;geometry&quot;: {&quot;coordinates&quot;: [-83.0928751801827, 39.8813443923715], &quot;type&quot;: &quot;Point&quot;}, &quot;id&quot;: &quot;18&quot;, &quot;properties&quot;: {&quot;ADDRESS&quot;: &quot;3359 Park St&quot;, &quot;NAME&quot;: &quot;Southwest Public Library Grove City Branch&quot;, &quot;__folium_color&quot;: &quot;#ff9896&quot;, &quot;id_county&quot;: &quot;39049&quot;, &quot;id_place&quot;: &quot;3932592&quot;}, &quot;type&quot;: &quot;Feature&quot;}, {&quot;bbox&quot;: [-83.0278131213935, 39.9551572283188, -83.0278131213935, 39.9551572283188], &quot;geometry&quot;: {&quot;coordinates&quot;: [-83.0278131213935, 39.9551572283188], &quot;type&quot;: &quot;Point&quot;}, &quot;id&quot;: &quot;19&quot;, &quot;properties&quot;: {&quot;ADDRESS&quot;: &quot;1061 W. Town St&quot;, &quot;NAME&quot;: &quot;Columbus Metropolitan Library Franklinton Branch&quot;, &quot;__folium_color&quot;: &quot;#2ca02c&quot;, &quot;id_county&quot;: &quot;39049&quot;, &quot;id_place&quot;: &quot;3918000&quot;}, &quot;type&quot;: &quot;Feature&quot;}, {&quot;bbox&quot;: [-83.114732808428, 40.1014682662558, -83.114732808428, 40.1014682662558], &quot;geometry&quot;: {&quot;coordinates&quot;: [-83.114732808428, 40.1014682662558], &quot;type&quot;: &quot;Point&quot;}, &quot;id&quot;: &quot;20&quot;, &quot;properties&quot;: {&quot;ADDRESS&quot;: &quot;75 N. High St&quot;, &quot;NAME&quot;: &quot;Columbus Metropolitan Library Dublin Branch&quot;, &quot;__folium_color&quot;: &quot;#d62728&quot;, &quot;id_county&quot;: &quot;39049&quot;, &quot;id_place&quot;: &quot;3922694&quot;}, &quot;type&quot;: &quot;Feature&quot;}, {&quot;bbox&quot;: [-83.1366379079364, 40.0456095232506, -83.1366379079364, 40.0456095232506], &quot;geometry&quot;: {&quot;coordinates&quot;: [-83.1366379079364, 40.0456095232506], &quot;type&quot;: &quot;Point&quot;}, &quot;id&quot;: &quot;21&quot;, &quot;properties&quot;: {&quot;ADDRESS&quot;: &quot;4500 Hickory Chase Way&quot;, &quot;NAME&quot;: &quot;Columbus Metropolitan Library Hilliard Branch&quot;, &quot;__folium_color&quot;: &quot;#9467bd&quot;, &quot;id_county&quot;: &quot;39049&quot;, &quot;id_place&quot;: &quot;3935476&quot;}, &quot;type&quot;: &quot;Feature&quot;}, {&quot;bbox&quot;: [-83.0761560949737, 40.1185981545267, -83.0761560949737, 40.1185981545267], &quot;geometry&quot;: {&quot;coordinates&quot;: [-83.0761560949737, 40.1185981545267], &quot;type&quot;: &quot;Point&quot;}, &quot;id&quot;: &quot;22&quot;, &quot;properties&quot;: {&quot;ADDRESS&quot;: &quot;2280 Hard Rd&quot;, &quot;NAME&quot;: &quot;Northwest Library&quot;, &quot;__folium_color&quot;: &quot;#2ca02c&quot;, &quot;id_county&quot;: &quot;39049&quot;, &quot;id_place&quot;: &quot;3918000&quot;}, &quot;type&quot;: &quot;Feature&quot;}, {&quot;bbox&quot;: [-83.0711679413156, 40.0465814008826, -83.0711679413156, 40.0465814008826], &quot;geometry&quot;: {&quot;coordinates&quot;: [-83.0711679413156, 40.0465814008826], &quot;type&quot;: &quot;Point&quot;}, &quot;id&quot;: &quot;23&quot;, &quot;properties&quot;: {&quot;ADDRESS&quot;: &quot;1945 Lane Rd&quot;, &quot;NAME&quot;: &quot;Upper Arlington Public Library Lane Rd Branch&quot;, &quot;__folium_color&quot;: &quot;#dbdb8d&quot;, &quot;id_county&quot;: &quot;39049&quot;, &quot;id_place&quot;: &quot;3979002&quot;}, &quot;type&quot;: &quot;Feature&quot;}, {&quot;bbox&quot;: [-83.0673726408137, 40.0127560580795, -83.0673726408137, 40.0127560580795], &quot;geometry&quot;: {&quot;coordinates&quot;: [-83.0673726408137, 40.0127560580795], &quot;type&quot;: &quot;Point&quot;}, &quot;id&quot;: &quot;24&quot;, &quot;properties&quot;: {&quot;ADDRESS&quot;: &quot;2800 Tremont Rd&quot;, &quot;NAME&quot;: &quot;Upper Arlington Public Library&quot;, &quot;__folium_color&quot;: &quot;#dbdb8d&quot;, &quot;id_county&quot;: &quot;39049&quot;, &quot;id_place&quot;: &quot;3979002&quot;}, &quot;type&quot;: &quot;Feature&quot;}, {&quot;bbox&quot;: [-83.016581928152, 40.0905205802044, -83.016581928152, 40.0905205802044], &quot;geometry&quot;: {&quot;coordinates&quot;: [-83.016581928152, 40.0905205802044], &quot;type&quot;: &quot;Point&quot;}, &quot;id&quot;: &quot;25&quot;, &quot;properties&quot;: {&quot;ADDRESS&quot;: &quot;820 N. High St&quot;, &quot;NAME&quot;: &quot;Old Worthington Public Library&quot;, &quot;__folium_color&quot;: &quot;#9edae5&quot;, &quot;id_county&quot;: &quot;39049&quot;, &quot;id_place&quot;: &quot;3986604&quot;}, &quot;type&quot;: &quot;Feature&quot;}, {&quot;bbox&quot;: [-82.9744176980046, 40.0810266609512, -82.9744176980046, 40.0810266609512], &quot;geometry&quot;: {&quot;coordinates&quot;: [-82.9744176980046, 40.0810266609512], &quot;type&quot;: &quot;Point&quot;}, &quot;id&quot;: &quot;26&quot;, &quot;properties&quot;: {&quot;ADDRESS&quot;: &quot;5590 Karl Rd&quot;, &quot;NAME&quot;: &quot;Columbus Metropolitan Library Karl Road Branch&quot;, &quot;__folium_color&quot;: &quot;#2ca02c&quot;, &quot;id_county&quot;: &quot;39049&quot;, &quot;id_place&quot;: &quot;3918000&quot;}, &quot;type&quot;: &quot;Feature&quot;}, {&quot;bbox&quot;: [-82.9541151172678, 40.0524364964823, -82.9541151172678, 40.0524364964823], &quot;geometry&quot;: {&quot;coordinates&quot;: [-82.9541151172678, 40.0524364964823], &quot;type&quot;: &quot;Point&quot;}, &quot;id&quot;: &quot;27&quot;, &quot;properties&quot;: {&quot;ADDRESS&quot;: &quot;4093 Cleveland Ave&quot;, &quot;NAME&quot;: &quot;Columbus Metropolitan Library Northern Lights Branch&quot;, &quot;__folium_color&quot;: &quot;#2ca02c&quot;, &quot;id_county&quot;: &quot;39049&quot;, &quot;id_place&quot;: &quot;3918000&quot;}, &quot;type&quot;: &quot;Feature&quot;}, {&quot;bbox&quot;: [-82.8698569209026, 40.019124439038, -82.8698569209026, 40.019124439038], &quot;geometry&quot;: {&quot;coordinates&quot;: [-82.8698569209026, 40.019124439038], &quot;type&quot;: &quot;Point&quot;}, &quot;id&quot;: &quot;28&quot;, &quot;properties&quot;: {&quot;ADDRESS&quot;: &quot;310 Granville St&quot;, &quot;NAME&quot;: &quot;Columbus Metropolitan Library Gahanna Branch&quot;, &quot;__folium_color&quot;: &quot;#d62728&quot;, &quot;id_county&quot;: &quot;39049&quot;, &quot;id_place&quot;: &quot;3929106&quot;}, &quot;type&quot;: &quot;Feature&quot;}, {&quot;bbox&quot;: [-82.8149623287813, 40.0819278251043, -82.8149623287813, 40.0819278251043], &quot;geometry&quot;: {&quot;coordinates&quot;: [-82.8149623287813, 40.0819278251043], &quot;type&quot;: &quot;Point&quot;}, &quot;id&quot;: &quot;29&quot;, &quot;properties&quot;: {&quot;ADDRESS&quot;: &quot;200 Market St&quot;, &quot;NAME&quot;: &quot;Columbus Metropolitan Library New Albany Branch&quot;, &quot;__folium_color&quot;: &quot;#e377c2&quot;, &quot;id_county&quot;: &quot;39049&quot;, &quot;id_place&quot;: &quot;3953970&quot;}, &quot;type&quot;: &quot;Feature&quot;}, {&quot;bbox&quot;: [-82.9621491629931, 39.9685117139292, -82.9621491629931, 39.9685117139292], &quot;geometry&quot;: {&quot;coordinates&quot;: [-82.9621491629931, 39.9685117139292], &quot;type&quot;: &quot;Point&quot;}, &quot;id&quot;: &quot;30&quot;, &quot;properties&quot;: {&quot;ADDRESS&quot;: &quot;1467 E Long St&quot;, &quot;NAME&quot;: &quot;Columbus Metropolitan Library Martin Luther King Branch&quot;, &quot;__folium_color&quot;: &quot;#2ca02c&quot;, &quot;id_county&quot;: &quot;39049&quot;, &quot;id_place&quot;: &quot;3918000&quot;}, &quot;type&quot;: &quot;Feature&quot;}, {&quot;bbox&quot;: [-83.0498792045486, 39.9817244301678, -83.0498792045486, 39.9817244301678], &quot;geometry&quot;: {&quot;coordinates&quot;: [-83.0498792045486, 39.9817244301678], &quot;type&quot;: &quot;Point&quot;}, &quot;id&quot;: &quot;31&quot;, &quot;properties&quot;: {&quot;ADDRESS&quot;: &quot;1685 W. First Ave&quot;, &quot;NAME&quot;: &quot;Grandview Heights Public Library&quot;, &quot;__folium_color&quot;: &quot;#d62728&quot;, &quot;id_county&quot;: &quot;39049&quot;, &quot;id_place&quot;: &quot;3931304&quot;}, &quot;type&quot;: &quot;Feature&quot;}, {&quot;bbox&quot;: [-83.0609347336894, 39.9950463816084, -83.0609347336894, 39.9950463816084], &quot;geometry&quot;: {&quot;coordinates&quot;: [-83.0609347336894, 39.9950463816084], &quot;type&quot;: &quot;Point&quot;}, &quot;id&quot;: &quot;32&quot;, &quot;properties&quot;: {&quot;ADDRESS&quot;: &quot;1901 Arlington Ave&quot;, &quot;NAME&quot;: &quot;Upper Arlington Public Library Miller Park Branch&quot;, &quot;__folium_color&quot;: &quot;#dbdb8d&quot;, &quot;id_county&quot;: &quot;39049&quot;, &quot;id_place&quot;: &quot;3979002&quot;}, &quot;type&quot;: &quot;Feature&quot;}, {&quot;bbox&quot;: [-83.1712428615435, 39.810075128243, -83.1712428615435, 39.810075128243], &quot;geometry&quot;: {&quot;coordinates&quot;: [-83.1712428615435, 39.810075128243], &quot;type&quot;: &quot;Point&quot;}, &quot;id&quot;: &quot;33&quot;, &quot;properties&quot;: {&quot;ADDRESS&quot;: &quot;1036 High St&quot;, &quot;NAME&quot;: &quot;Harrisburg Library&quot;, &quot;__folium_color&quot;: &quot;#ff9896&quot;, &quot;id_county&quot;: &quot;39049&quot;, &quot;id_place&quot;: &quot;3933740&quot;}, &quot;type&quot;: &quot;Feature&quot;}, {&quot;bbox&quot;: [-83.1273603040478, 39.9537788885617, -83.1273603040478, 39.9537788885617], &quot;geometry&quot;: {&quot;coordinates&quot;: [-83.1273603040478, 39.9537788885617], &quot;type&quot;: &quot;Point&quot;}, &quot;id&quot;: &quot;34&quot;, &quot;properties&quot;: {&quot;ADDRESS&quot;: &quot;4740 W. Broad St&quot;, &quot;NAME&quot;: &quot;Southwest Public Library Grove City Westland Area Branch&quot;, &quot;__folium_color&quot;: &quot;#c5b0d5&quot;, &quot;id_county&quot;: &quot;39049&quot;, &quot;id_place&quot;: &quot;3943792&quot;}, &quot;type&quot;: &quot;Feature&quot;}, {&quot;bbox&quot;: [-83.1122174733979, 39.8964935713639, -83.1122174733979, 39.8964935713639], &quot;geometry&quot;: {&quot;coordinates&quot;: [-83.1122174733979, 39.8964935713639], &quot;type&quot;: &quot;Point&quot;}, &quot;id&quot;: &quot;35&quot;, &quot;properties&quot;: {&quot;ADDRESS&quot;: &quot;4500 Big Run South Rd&quot;, &quot;NAME&quot;: &quot;Southwest Public Library Grove City Central Crossing Branch&quot;, &quot;__folium_color&quot;: &quot;#ff9896&quot;, &quot;id_county&quot;: &quot;39049&quot;, &quot;id_place&quot;: &quot;3932592&quot;}, &quot;type&quot;: &quot;Feature&quot;}, {&quot;bbox&quot;: [-83.0735041748622, 39.9446355534772, -83.0735041748622, 39.9446355534772], &quot;geometry&quot;: {&quot;coordinates&quot;: [-83.0735041748622, 39.9446355534772], &quot;type&quot;: &quot;Point&quot;}, &quot;id&quot;: &quot;36&quot;, &quot;properties&quot;: {&quot;ADDRESS&quot;: &quot;511 S. Hague Ave&quot;, &quot;NAME&quot;: &quot;Columbus Metropolitan Library Hilltop Branch&quot;, &quot;__folium_color&quot;: &quot;#2ca02c&quot;, &quot;id_county&quot;: &quot;39049&quot;, &quot;id_place&quot;: &quot;3918000&quot;}, &quot;type&quot;: &quot;Feature&quot;}, {&quot;bbox&quot;: [-82.9971352473625, 39.889365189525, -82.9971352473625, 39.889365189525], &quot;geometry&quot;: {&quot;coordinates&quot;: [-82.9971352473625, 39.889365189525], &quot;type&quot;: &quot;Point&quot;}, &quot;id&quot;: &quot;37&quot;, &quot;properties&quot;: {&quot;ADDRESS&quot;: &quot;3540 S. High St&quot;, &quot;NAME&quot;: &quot;Columbus Metropolitan Library South High Branch&quot;, &quot;__folium_color&quot;: &quot;#2ca02c&quot;, &quot;id_county&quot;: &quot;39049&quot;, &quot;id_place&quot;: &quot;3918000&quot;}, &quot;type&quot;: &quot;Feature&quot;}, {&quot;bbox&quot;: [-82.9834545839897, 39.9408853380751, -82.9834545839897, 39.9408853380751], &quot;geometry&quot;: {&quot;coordinates&quot;: [-82.9834545839897, 39.9408853380751], &quot;type&quot;: &quot;Point&quot;}, &quot;id&quot;: &quot;38&quot;, &quot;properties&quot;: {&quot;ADDRESS&quot;: &quot;1113 Parsons Ave&quot;, &quot;NAME&quot;: &quot;Columbus Metropolitan Library Parsons Branch&quot;, &quot;__folium_color&quot;: &quot;#2ca02c&quot;, &quot;id_county&quot;: &quot;39049&quot;, &quot;id_place&quot;: &quot;3918000&quot;}, &quot;type&quot;: &quot;Feature&quot;}, {&quot;bbox&quot;: [-82.8818327221363, 39.8935328135114, -82.8818327221363, 39.8935328135114], &quot;geometry&quot;: {&quot;coordinates&quot;: [-82.8818327221363, 39.8935328135114], &quot;type&quot;: &quot;Point&quot;}, &quot;id&quot;: &quot;39&quot;, &quot;properties&quot;: {&quot;ADDRESS&quot;: &quot;3980 S. Hamilton Rd&quot;, &quot;NAME&quot;: &quot;Columbus Metropolitan Library Southeast Branch&quot;, &quot;__folium_color&quot;: &quot;#2ca02c&quot;, &quot;id_county&quot;: &quot;39049&quot;, &quot;id_place&quot;: &quot;3918000&quot;}, &quot;type&quot;: &quot;Feature&quot;}, {&quot;bbox&quot;: [-82.8284373446568, 39.9517820619019, -82.8284373446568, 39.9517820619019], &quot;geometry&quot;: {&quot;coordinates&quot;: [-82.8284373446568, 39.9517820619019], &quot;type&quot;: &quot;Point&quot;}, &quot;id&quot;: &quot;40&quot;, &quot;properties&quot;: {&quot;ADDRESS&quot;: &quot;1402 Brice Rd&quot;, &quot;NAME&quot;: &quot;Columbus Metropolitan Library Reynoldsburg Branch&quot;, &quot;__folium_color&quot;: &quot;#c7c7c7&quot;, &quot;id_county&quot;: &quot;39049&quot;, &quot;id_place&quot;: &quot;3966390&quot;}, &quot;type&quot;: &quot;Feature&quot;}, {&quot;bbox&quot;: [-82.9343442927468, 39.9567452880173, -82.9343442927468, 39.9567452880173], &quot;geometry&quot;: {&quot;coordinates&quot;: [-82.9343442927468, 39.9567452880173], &quot;type&quot;: &quot;Point&quot;}, &quot;id&quot;: &quot;41&quot;, &quot;properties&quot;: {&quot;ADDRESS&quot;: &quot;2411 E. Main St&quot;, &quot;NAME&quot;: &quot;Bexley Public Library&quot;, &quot;__folium_color&quot;: &quot;#ff7f0e&quot;, &quot;id_county&quot;: &quot;39049&quot;, &quot;id_place&quot;: &quot;3906278&quot;}, &quot;type&quot;: &quot;Feature&quot;}, {&quot;bbox&quot;: [-82.8823661483, 39.9748399818752, -82.8823661483, 39.9748399818752], &quot;geometry&quot;: {&quot;coordinates&quot;: [-82.8823661483, 39.9748399818752], &quot;type&quot;: &quot;Point&quot;}, &quot;id&quot;: &quot;42&quot;, &quot;properties&quot;: {&quot;ADDRESS&quot;: &quot;4445 E Broad St&quot;, &quot;NAME&quot;: &quot;Columbus Metropolitan Library Whitehall Branch&quot;, &quot;__folium_color&quot;: &quot;#9edae5&quot;, &quot;id_county&quot;: &quot;39049&quot;, &quot;id_place&quot;: &quot;3984742&quot;}, &quot;type&quot;: &quot;Feature&quot;}, {&quot;bbox&quot;: [-82.6026456832015, 39.7153317516429, -82.6026456832015, 39.7153317516429], &quot;geometry&quot;: {&quot;coordinates&quot;: [-82.6026456832015, 39.7153317516429], &quot;type&quot;: &quot;Point&quot;}, &quot;id&quot;: &quot;43&quot;, &quot;properties&quot;: {&quot;ADDRESS&quot;: &quot;219 N. Broad St&quot;, &quot;NAME&quot;: &quot;Fairfield County District Library&quot;, &quot;__folium_color&quot;: &quot;#c5b0d5&quot;, &quot;id_county&quot;: &quot;39045&quot;, &quot;id_place&quot;: &quot;3941720&quot;}, &quot;type&quot;: &quot;Feature&quot;}, {&quot;bbox&quot;: [-82.7430257886071, 39.6505107986975, -82.7430257886071, 39.6505107986975], &quot;geometry&quot;: {&quot;coordinates&quot;: [-82.7430257886071, 39.6505107986975], &quot;type&quot;: &quot;Point&quot;}, &quot;id&quot;: &quot;44&quot;, &quot;properties&quot;: {&quot;ADDRESS&quot;: &quot;116 E. High St&quot;, &quot;NAME&quot;: &quot;Fairfield County District Library Johns Memorial Branch&quot;, &quot;__folium_color&quot;: &quot;#1f77b4&quot;, &quot;id_county&quot;: &quot;39045&quot;, &quot;id_place&quot;: &quot;3901630&quot;}, &quot;type&quot;: &quot;Feature&quot;}, {&quot;bbox&quot;: [-82.4341240826341, 39.7043935779691, -82.4341240826341, 39.7043935779691], &quot;geometry&quot;: {&quot;coordinates&quot;: [-82.4341240826341, 39.7043935779691], &quot;type&quot;: &quot;Point&quot;}, &quot;id&quot;: &quot;45&quot;, &quot;properties&quot;: {&quot;ADDRESS&quot;: &quot;200 School St&quot;, &quot;NAME&quot;: &quot;Fairfield County District Library Bremen-Rushcreek Branch&quot;, &quot;__folium_color&quot;: &quot;#ff7f0e&quot;, &quot;id_county&quot;: &quot;39045&quot;, &quot;id_place&quot;: &quot;3908392&quot;}, &quot;type&quot;: &quot;Feature&quot;}, {&quot;bbox&quot;: [-82.7586109225058, 39.8749692151085, -82.7586109225058, 39.8749692151085], &quot;geometry&quot;: {&quot;coordinates&quot;: [-82.7586109225058, 39.8749692151085], &quot;type&quot;: &quot;Point&quot;}, &quot;id&quot;: &quot;46&quot;, &quot;properties&quot;: {&quot;ADDRESS&quot;: &quot;201 Opportunity Way&quot;, &quot;NAME&quot;: &quot;Pickerington Public Library&quot;, &quot;__folium_color&quot;: &quot;#7f7f7f&quot;, &quot;id_county&quot;: &quot;39045&quot;, &quot;id_place&quot;: &quot;3962498&quot;}, &quot;type&quot;: &quot;Feature&quot;}, {&quot;bbox&quot;: [-82.8051577481653, 39.8020336684732, -82.8051577481653, 39.8020336684732], &quot;geometry&quot;: {&quot;coordinates&quot;: [-82.8051577481653, 39.8020336684732], &quot;type&quot;: &quot;Point&quot;}, &quot;id&quot;: &quot;47&quot;, &quot;properties&quot;: {&quot;ADDRESS&quot;: &quot;150 E. Columbus St&quot;, &quot;NAME&quot;: &quot;Wagnalls Memorial Library&quot;, &quot;__folium_color&quot;: &quot;#8c564b&quot;, &quot;id_county&quot;: &quot;39045&quot;, &quot;id_place&quot;: &quot;3944086&quot;}, &quot;type&quot;: &quot;Feature&quot;}, {&quot;bbox&quot;: [-82.5997091213125, 39.84555058542, -82.5997091213125, 39.84555058542], &quot;geometry&quot;: {&quot;coordinates&quot;: [-82.5997091213125, 39.84555058542], &quot;type&quot;: &quot;Point&quot;}, &quot;id&quot;: &quot;48&quot;, &quot;properties&quot;: {&quot;ADDRESS&quot;: &quot;205 E. Market St&quot;, &quot;NAME&quot;: &quot;Fairfield County District Library Baltimore Branch&quot;, &quot;__folium_color&quot;: &quot;#aec7e8&quot;, &quot;id_county&quot;: &quot;39045&quot;, &quot;id_place&quot;: &quot;3903758&quot;}, &quot;type&quot;: &quot;Feature&quot;}, {&quot;bbox&quot;: [-83.0727232044367, 40.1483917831969, -83.0727232044367, 40.1483917831969], &quot;geometry&quot;: {&quot;coordinates&quot;: [-83.0727232044367, 40.1483917831969], &quot;type&quot;: &quot;Point&quot;}, &quot;id&quot;: &quot;49&quot;, &quot;properties&quot;: {&quot;ADDRESS&quot;: &quot;460 S. Liberty St&quot;, &quot;NAME&quot;: &quot;Delaware County District Library Powell Branch&quot;, &quot;__folium_color&quot;: &quot;#7f7f7f&quot;, &quot;id_county&quot;: &quot;39041&quot;, &quot;id_place&quot;: &quot;3964486&quot;}, &quot;type&quot;: &quot;Feature&quot;}, {&quot;bbox&quot;: [-83.2169672935717, 40.2673215162087, -83.2169672935717, 40.2673215162087], &quot;geometry&quot;: {&quot;coordinates&quot;: [-83.2169672935717, 40.2673215162087], &quot;type&quot;: &quot;Point&quot;}, &quot;id&quot;: &quot;50&quot;, &quot;properties&quot;: {&quot;ADDRESS&quot;: &quot;75 N. 4th St&quot;, &quot;NAME&quot;: &quot;Delaware County District Library Ostrander Branch&quot;, &quot;__folium_color&quot;: &quot;#f7b6d2&quot;, &quot;id_county&quot;: &quot;39041&quot;, &quot;id_place&quot;: &quot;3958940&quot;}, &quot;type&quot;: &quot;Feature&quot;}, {&quot;bbox&quot;: [-83.0646462916659, 40.2997674874225, -83.0646462916659, 40.2997674874225], &quot;geometry&quot;: {&quot;coordinates&quot;: [-83.0646462916659, 40.2997674874225], &quot;type&quot;: &quot;Point&quot;}, &quot;id&quot;: &quot;51&quot;, &quot;properties&quot;: {&quot;ADDRESS&quot;: &quot;84 E. Winter St&quot;, &quot;NAME&quot;: &quot;Delaware County District Library&quot;, &quot;__folium_color&quot;: &quot;#98df8a&quot;, &quot;id_county&quot;: &quot;39041&quot;, &quot;id_place&quot;: &quot;3921434&quot;}, &quot;type&quot;: &quot;Feature&quot;}, {&quot;bbox&quot;: [-82.8630336114161, 40.2428959976276, -82.8630336114161, 40.2428959976276], &quot;geometry&quot;: {&quot;coordinates&quot;: [-82.8630336114161, 40.2428959976276], &quot;type&quot;: &quot;Point&quot;}, &quot;id&quot;: &quot;52&quot;, &quot;properties&quot;: {&quot;ADDRESS&quot;: &quot;44 Burrer Dr&quot;, &quot;NAME&quot;: &quot;Sunbury Community Library&quot;, &quot;__folium_color&quot;: &quot;#bcbd22&quot;, &quot;id_county&quot;: &quot;39041&quot;, &quot;id_place&quot;: &quot;3975602&quot;}, &quot;type&quot;: &quot;Feature&quot;}, {&quot;bbox&quot;: [-82.9517032736047, 40.4092688412817, -82.9517032736047, 40.4092688412817], &quot;geometry&quot;: {&quot;coordinates&quot;: [-82.9517032736047, 40.4092688412817], &quot;type&quot;: &quot;Point&quot;}, &quot;id&quot;: &quot;53&quot;, &quot;properties&quot;: {&quot;ADDRESS&quot;: &quot;302 E. High St&quot;, &quot;NAME&quot;: &quot;Wornstaff Memorial Public Library&quot;, &quot;__folium_color&quot;: &quot;#1f77b4&quot;, &quot;id_county&quot;: &quot;39041&quot;, &quot;id_place&quot;: &quot;3902582&quot;}, &quot;type&quot;: &quot;Feature&quot;}, {&quot;bbox&quot;: [-82.6136244867801, 40.0900903767624, -82.6136244867801, 40.0900903767624], &quot;geometry&quot;: {&quot;coordinates&quot;: [-82.6136244867801, 40.0900903767624], &quot;type&quot;: &quot;Point&quot;}, &quot;id&quot;: &quot;54&quot;, &quot;properties&quot;: {&quot;ADDRESS&quot;: &quot;10 Maple Dr&quot;, &quot;NAME&quot;: &quot;Alexandria Public Library&quot;, &quot;__folium_color&quot;: &quot;#1f77b4&quot;, &quot;id_county&quot;: &quot;39089&quot;, &quot;id_place&quot;: &quot;3901154&quot;}, &quot;type&quot;: &quot;Feature&quot;}, {&quot;bbox&quot;: [-82.5250716419211, 40.2519609362924, -82.5250716419211, 40.2519609362924], &quot;geometry&quot;: {&quot;coordinates&quot;: [-82.5250716419211, 40.2519609362924], &quot;type&quot;: &quot;Point&quot;}, &quot;id&quot;: &quot;55&quot;, &quot;properties&quot;: {&quot;ADDRESS&quot;: &quot;385 South St NW&quot;, &quot;NAME&quot;: &quot;Homer Public Library&quot;, &quot;__folium_color&quot;: null, &quot;id_county&quot;: &quot;39089&quot;, &quot;id_place&quot;: null}, &quot;type&quot;: &quot;Feature&quot;}, {&quot;bbox&quot;: [-82.5181580768464, 40.068153534214, -82.5181580768464, 40.068153534214], &quot;geometry&quot;: {&quot;coordinates&quot;: [-82.5181580768464, 40.068153534214], &quot;type&quot;: &quot;Point&quot;}, &quot;id&quot;: &quot;56&quot;, &quot;properties&quot;: {&quot;ADDRESS&quot;: &quot;217 E. Broadway St&quot;, &quot;NAME&quot;: &quot;Granville Public Library&quot;, &quot;__folium_color&quot;: &quot;#d62728&quot;, &quot;id_county&quot;: &quot;39089&quot;, &quot;id_place&quot;: &quot;3931402&quot;}, &quot;type&quot;: &quot;Feature&quot;}, {&quot;bbox&quot;: [-82.4528857468518, 40.2347337471026, -82.4528857468518, 40.2347337471026], &quot;geometry&quot;: {&quot;coordinates&quot;: [-82.4528857468518, 40.2347337471026], &quot;type&quot;: &quot;Point&quot;}, &quot;id&quot;: &quot;57&quot;, &quot;properties&quot;: {&quot;ADDRESS&quot;: &quot;15 N. Main St&quot;, &quot;NAME&quot;: &quot;Newark Public Library Hervey Memorial Branch&quot;, &quot;__folium_color&quot;: &quot;#dbdb8d&quot;, &quot;id_county&quot;: &quot;39089&quot;, &quot;id_place&quot;: &quot;3979114&quot;}, &quot;type&quot;: &quot;Feature&quot;}, {&quot;bbox&quot;: [-82.4394213926801, 40.0497860717945, -82.4394213926801, 40.0497860717945], &quot;geometry&quot;: {&quot;coordinates&quot;: [-82.4394213926801, 40.0497860717945], &quot;type&quot;: &quot;Point&quot;}, &quot;id&quot;: &quot;58&quot;, &quot;properties&quot;: {&quot;ADDRESS&quot;: &quot;990 W. Main St&quot;, &quot;NAME&quot;: &quot;Newark Public Library Emerson Miller Branch&quot;, &quot;__folium_color&quot;: &quot;#e377c2&quot;, &quot;id_county&quot;: &quot;39089&quot;, &quot;id_place&quot;: &quot;3954040&quot;}, &quot;type&quot;: &quot;Feature&quot;}, {&quot;bbox&quot;: [-82.4061028616415, 40.0559756534757, -82.4061028616415, 40.0559756534757], &quot;geometry&quot;: {&quot;coordinates&quot;: [-82.4061028616415, 40.0559756534757], &quot;type&quot;: &quot;Point&quot;}, &quot;id&quot;: &quot;59&quot;, &quot;properties&quot;: {&quot;ADDRESS&quot;: &quot;101 W. Main St&quot;, &quot;NAME&quot;: &quot;Licking County Newark Public Library&quot;, &quot;__folium_color&quot;: &quot;#e377c2&quot;, &quot;id_county&quot;: &quot;39089&quot;, &quot;id_place&quot;: &quot;3954040&quot;}, &quot;type&quot;: &quot;Feature&quot;}, {&quot;bbox&quot;: [-82.6783976875294, 40.0002439979398, -82.6783976875294, 40.0002439979398], &quot;geometry&quot;: {&quot;coordinates&quot;: [-82.6783976875294, 40.0002439979398], &quot;type&quot;: &quot;Point&quot;}, &quot;id&quot;: &quot;60&quot;, &quot;properties&quot;: {&quot;ADDRESS&quot;: &quot;101 S. Vine St&quot;, &quot;NAME&quot;: &quot;Pataskala Public Library&quot;, &quot;__folium_color&quot;: &quot;#f7b6d2&quot;, &quot;id_county&quot;: &quot;39089&quot;, &quot;id_place&quot;: &quot;3961112&quot;}, &quot;type&quot;: &quot;Feature&quot;}, {&quot;bbox&quot;: [-82.5040138828041, 39.9603567255153, -82.5040138828041, 39.9603567255153], &quot;geometry&quot;: {&quot;coordinates&quot;: [-82.5040138828041, 39.9603567255153], &quot;type&quot;: &quot;Point&quot;}, &quot;id&quot;: &quot;61&quot;, &quot;properties&quot;: {&quot;ADDRESS&quot;: &quot;934 W. Main St&quot;, &quot;NAME&quot;: &quot;Newark Public Library Hebron Branch&quot;, &quot;__folium_color&quot;: &quot;#ff9896&quot;, &quot;id_county&quot;: &quot;39089&quot;, &quot;id_place&quot;: &quot;3934790&quot;}, &quot;type&quot;: &quot;Feature&quot;}, {&quot;bbox&quot;: [-82.6853942607652, 40.1530389382747, -82.6853942607652, 40.1530389382747], &quot;geometry&quot;: {&quot;coordinates&quot;: [-82.6853942607652, 40.1530389382747], &quot;type&quot;: &quot;Point&quot;}, &quot;id&quot;: &quot;62&quot;, &quot;properties&quot;: {&quot;ADDRESS&quot;: &quot;320 N. Maint St&quot;, &quot;NAME&quot;: &quot;Newark Public Library Johnstown Branch&quot;, &quot;__folium_color&quot;: &quot;#9467bd&quot;, &quot;id_county&quot;: &quot;39089&quot;, &quot;id_place&quot;: &quot;3939340&quot;}, &quot;type&quot;: &quot;Feature&quot;}, {&quot;bbox&quot;: [-82.980380264528, 40.1229618505792, -82.980380264528, 40.1229618505792], &quot;geometry&quot;: {&quot;coordinates&quot;: [-82.980380264528, 40.1229618505792], &quot;type&quot;: &quot;Point&quot;}, &quot;id&quot;: &quot;63&quot;, &quot;properties&quot;: {&quot;ADDRESS&quot;: &quot;1389 Worthington Centre Dr&quot;, &quot;NAME&quot;: &quot;Worthington Park Library&quot;, &quot;__folium_color&quot;: &quot;#2ca02c&quot;, &quot;id_county&quot;: &quot;39049&quot;, &quot;id_place&quot;: &quot;3918000&quot;}, &quot;type&quot;: &quot;Feature&quot;}, {&quot;bbox&quot;: [-82.9995411945757, 39.9541227537836, -82.9995411945757, 39.9541227537836], &quot;geometry&quot;: {&quot;coordinates&quot;: [-82.9995411945757, 39.9541227537836], &quot;type&quot;: &quot;Point&quot;}, &quot;id&quot;: &quot;64&quot;, &quot;properties&quot;: {&quot;ADDRESS&quot;: &quot;369 S High St 10th Fl&quot;, &quot;NAME&quot;: &quot;Columbus Law Library&quot;, &quot;__folium_color&quot;: &quot;#2ca02c&quot;, &quot;id_county&quot;: &quot;39049&quot;, &quot;id_place&quot;: &quot;3918000&quot;}, &quot;type&quot;: &quot;Feature&quot;}, {&quot;bbox&quot;: [-82.996000859998, 39.9811655797924, -82.996000859998, 39.9811655797924], &quot;geometry&quot;: {&quot;coordinates&quot;: [-82.996000859998, 39.9811655797924], &quot;type&quot;: &quot;Point&quot;}, &quot;id&quot;: &quot;65&quot;, &quot;properties&quot;: {&quot;ADDRESS&quot;: &quot;274 E 1st Ave Ste 100&quot;, &quot;NAME&quot;: &quot;State Library Of Ohio&quot;, &quot;__folium_color&quot;: &quot;#2ca02c&quot;, &quot;id_county&quot;: &quot;39049&quot;, &quot;id_place&quot;: &quot;3918000&quot;}, &quot;type&quot;: &quot;Feature&quot;}, {&quot;bbox&quot;: [-82.9649032220998, 39.9105152700423, -82.9649032220998, 39.9105152700423], &quot;geometry&quot;: {&quot;coordinates&quot;: [-82.9649032220998, 39.9105152700423], &quot;type&quot;: &quot;Point&quot;}, &quot;id&quot;: &quot;66&quot;, &quot;properties&quot;: {&quot;ADDRESS&quot;: &quot;2740 Lockbourne Rd&quot;, &quot;NAME&quot;: &quot;Columbus Metropolitan Library Marion-Franklin&quot;, &quot;__folium_color&quot;: &quot;#2ca02c&quot;, &quot;id_county&quot;: &quot;39049&quot;, &quot;id_place&quot;: &quot;3918000&quot;}, &quot;type&quot;: &quot;Feature&quot;}, {&quot;bbox&quot;: [-82.810232180814, 39.840974352012, -82.810232180814, 39.840974352012], &quot;geometry&quot;: {&quot;coordinates&quot;: [-82.810232180814, 39.840974352012], &quot;type&quot;: &quot;Point&quot;}, &quot;id&quot;: &quot;67&quot;, &quot;properties&quot;: {&quot;ADDRESS&quot;: &quot;115 Franklin St&quot;, &quot;NAME&quot;: &quot;Columbus Metropolitan Library Canal Winchester Branch&quot;, &quot;__folium_color&quot;: &quot;#ff7f0e&quot;, &quot;id_county&quot;: &quot;39049&quot;, &quot;id_place&quot;: &quot;3911332&quot;}, &quot;type&quot;: &quot;Feature&quot;}, {&quot;bbox&quot;: [-83.7525768626904, 40.5070217986525, -83.7525768626904, 40.5070217986525], &quot;geometry&quot;: {&quot;coordinates&quot;: [-83.7525768626904, 40.5070217986525], &quot;type&quot;: &quot;Point&quot;}, &quot;id&quot;: &quot;68&quot;, &quot;properties&quot;: {&quot;ADDRESS&quot;: &quot;103 S. Elizabeth St&quot;, &quot;NAME&quot;: &quot;Belle Center Free Public Library&quot;, &quot;__folium_color&quot;: &quot;#aec7e8&quot;, &quot;id_county&quot;: &quot;39091&quot;, &quot;id_place&quot;: &quot;3905116&quot;}, &quot;type&quot;: &quot;Feature&quot;}, {&quot;bbox&quot;: [-82.9813244175534, 39.3298618160501, -82.9813244175534, 39.3298618160501], &quot;geometry&quot;: {&quot;coordinates&quot;: [-82.9813244175534, 39.3298618160501], &quot;type&quot;: &quot;Point&quot;}, &quot;id&quot;: &quot;69&quot;, &quot;properties&quot;: {&quot;ADDRESS&quot;: &quot;140 S. Paint St&quot;, &quot;NAME&quot;: &quot;Chillicothe and Ross County Public Library&quot;, &quot;__folium_color&quot;: &quot;#2ca02c&quot;, &quot;id_county&quot;: &quot;39141&quot;, &quot;id_place&quot;: &quot;3914184&quot;}, &quot;type&quot;: &quot;Feature&quot;}, {&quot;bbox&quot;: [-83.4371759125388, 39.5364646993212, -83.4371759125388, 39.5364646993212], &quot;geometry&quot;: {&quot;coordinates&quot;: [-83.4371759125388, 39.5364646993212], &quot;type&quot;: &quot;Point&quot;}, &quot;id&quot;: &quot;70&quot;, &quot;properties&quot;: {&quot;ADDRESS&quot;: &quot;127 S. North St&quot;, &quot;NAME&quot;: &quot;Carnegie Public Library - Washington Court House&quot;, &quot;__folium_color&quot;: &quot;#dbdb8d&quot;, &quot;id_county&quot;: &quot;39047&quot;, &quot;id_place&quot;: &quot;3981718&quot;}, &quot;type&quot;: &quot;Feature&quot;}, {&quot;bbox&quot;: [-82.4052486570151, 39.5400379297169, -82.4052486570151, 39.5400379297169], &quot;geometry&quot;: {&quot;coordinates&quot;: [-82.4052486570151, 39.5400379297169], &quot;type&quot;: &quot;Point&quot;}, &quot;id&quot;: &quot;71&quot;, &quot;properties&quot;: {&quot;ADDRESS&quot;: &quot;230 E. Main St&quot;, &quot;NAME&quot;: &quot;Logan-Hocking County District Library&quot;, &quot;__folium_color&quot;: &quot;#8c564b&quot;, &quot;id_county&quot;: &quot;39073&quot;, &quot;id_place&quot;: &quot;3944632&quot;}, &quot;type&quot;: &quot;Feature&quot;}, {&quot;bbox&quot;: [-82.6951834447364, 40.3050194882421, -82.6951834447364, 40.3050194882421], &quot;geometry&quot;: {&quot;coordinates&quot;: [-82.6951834447364, 40.3050194882421], &quot;type&quot;: &quot;Point&quot;}, &quot;id&quot;: &quot;72&quot;, &quot;properties&quot;: {&quot;ADDRESS&quot;: &quot;49 E. Main St.&quot;, &quot;NAME&quot;: &quot;Centurburg Public Library&quot;, &quot;__folium_color&quot;: &quot;#ffbb78&quot;, &quot;id_county&quot;: &quot;39083&quot;, &quot;id_place&quot;: &quot;3913036&quot;}, &quot;type&quot;: &quot;Feature&quot;}, {&quot;bbox&quot;: [-82.4866006262204, 40.3955577344148, -82.4866006262204, 40.3955577344148], &quot;geometry&quot;: {&quot;coordinates&quot;: [-82.4866006262204, 40.3955577344148], &quot;type&quot;: &quot;Point&quot;}, &quot;id&quot;: &quot;73&quot;, &quot;properties&quot;: {&quot;ADDRESS&quot;: &quot;201 N. Mulberry St&quot;, &quot;NAME&quot;: &quot;Public Library of Mount Vernon and Knox County&quot;, &quot;__folium_color&quot;: &quot;#e377c2&quot;, &quot;id_county&quot;: &quot;39083&quot;, &quot;id_place&quot;: &quot;3953102&quot;}, &quot;type&quot;: &quot;Feature&quot;}, {&quot;bbox&quot;: [-83.5456126851801, 40.4023489025917, -83.5456126851801, 40.4023489025917], &quot;geometry&quot;: {&quot;coordinates&quot;: [-83.5456126851801, 40.4023489025917], &quot;type&quot;: &quot;Point&quot;}, &quot;id&quot;: &quot;74&quot;, &quot;properties&quot;: {&quot;ADDRESS&quot;: &quot;127 N. Main St&quot;, &quot;NAME&quot;: &quot;West Mansfield Branch Library&quot;, &quot;__folium_color&quot;: &quot;#9edae5&quot;, &quot;id_county&quot;: &quot;39091&quot;, &quot;id_place&quot;: &quot;3983818&quot;}, &quot;type&quot;: &quot;Feature&quot;}, {&quot;bbox&quot;: [-83.6767931035504, 40.3377025381221, -83.6767931035504, 40.3377025381221], &quot;geometry&quot;: {&quot;coordinates&quot;: [-83.6767931035504, 40.3377025381221], &quot;type&quot;: &quot;Point&quot;}, &quot;id&quot;: &quot;75&quot;, &quot;properties&quot;: {&quot;ADDRESS&quot;: &quot;2817 Sandusky St&quot;, &quot;NAME&quot;: &quot;Dr. Earl S. Sloan Library&quot;, &quot;__folium_color&quot;: &quot;#9edae5&quot;, &quot;id_county&quot;: &quot;39091&quot;, &quot;id_place&quot;: &quot;3988070&quot;}, &quot;type&quot;: &quot;Feature&quot;}, {&quot;bbox&quot;: [-83.6717411857932, 40.4611121869309, -83.6717411857932, 40.4611121869309], &quot;geometry&quot;: {&quot;coordinates&quot;: [-83.6717411857932, 40.4611121869309], &quot;type&quot;: &quot;Point&quot;}, &quot;id&quot;: &quot;76&quot;, &quot;properties&quot;: {&quot;ADDRESS&quot;: &quot;113 N. Sandusky St&quot;, &quot;NAME&quot;: &quot;Rushsylvania Branch Library&quot;, &quot;__folium_color&quot;: &quot;#bcbd22&quot;, &quot;id_county&quot;: &quot;39091&quot;, &quot;id_place&quot;: &quot;3969176&quot;}, &quot;type&quot;: &quot;Feature&quot;}, {&quot;bbox&quot;: [-83.7558287729848, 40.2524807964721, -83.7558287729848, 40.2524807964721], &quot;geometry&quot;: {&quot;coordinates&quot;: [-83.7558287729848, 40.2524807964721], &quot;type&quot;: &quot;Point&quot;}, &quot;id&quot;: &quot;77&quot;, &quot;properties&quot;: {&quot;ADDRESS&quot;: &quot;117 N. Detroit St&quot;, &quot;NAME&quot;: &quot;West Liberty Branch Library&quot;, &quot;__folium_color&quot;: &quot;#17becf&quot;, &quot;id_county&quot;: &quot;39091&quot;, &quot;id_place&quot;: &quot;3983734&quot;}, &quot;type&quot;: &quot;Feature&quot;}, {&quot;bbox&quot;: [-83.7591308303044, 40.3636880787365, -83.7591308303044, 40.3636880787365], &quot;geometry&quot;: {&quot;coordinates&quot;: [-83.7591308303044, 40.3636880787365], &quot;type&quot;: &quot;Point&quot;}, &quot;id&quot;: &quot;78&quot;, &quot;properties&quot;: {&quot;ADDRESS&quot;: &quot;220 N. Main St&quot;, &quot;NAME&quot;: &quot;Logan County Libraries&quot;, &quot;__folium_color&quot;: &quot;#aec7e8&quot;, &quot;id_county&quot;: &quot;39091&quot;, &quot;id_place&quot;: &quot;3905130&quot;}, &quot;type&quot;: &quot;Feature&quot;}, {&quot;bbox&quot;: [-83.7525768626904, 40.5070217986525, -83.7525768626904, 40.5070217986525], &quot;geometry&quot;: {&quot;coordinates&quot;: [-83.7525768626904, 40.5070217986525], &quot;type&quot;: &quot;Point&quot;}, &quot;id&quot;: &quot;79&quot;, &quot;properties&quot;: {&quot;ADDRESS&quot;: &quot;103 S. Elzabeth St&quot;, &quot;NAME&quot;: &quot;Belle Center Free Public Library&quot;, &quot;__folium_color&quot;: &quot;#aec7e8&quot;, &quot;id_county&quot;: &quot;39091&quot;, &quot;id_place&quot;: &quot;3905116&quot;}, &quot;type&quot;: &quot;Feature&quot;}, {&quot;bbox&quot;: [-83.9156220186993, 40.3100386909899, -83.9156220186993, 40.3100386909899], &quot;geometry&quot;: {&quot;coordinates&quot;: [-83.9156220186993, 40.3100386909899], &quot;type&quot;: &quot;Point&quot;}, &quot;id&quot;: &quot;80&quot;, &quot;properties&quot;: {&quot;ADDRESS&quot;: &quot;122 S. Main St&quot;, &quot;NAME&quot;: &quot;DeGraff Branch Library&quot;, &quot;__folium_color&quot;: &quot;#98df8a&quot;, &quot;id_county&quot;: &quot;39091&quot;, &quot;id_place&quot;: &quot;3921378&quot;}, &quot;type&quot;: &quot;Feature&quot;}, {&quot;bbox&quot;: [-83.9241912264021, 40.4852868816878, -83.9241912264021, 40.4852868816878], &quot;geometry&quot;: {&quot;coordinates&quot;: [-83.9241912264021, 40.4852868816878], &quot;type&quot;: &quot;Point&quot;}, &quot;id&quot;: &quot;81&quot;, &quot;properties&quot;: {&quot;ADDRESS&quot;: &quot;130 N. Main St&quot;, &quot;NAME&quot;: &quot;Lakeview Branch Library&quot;, &quot;__folium_color&quot;: &quot;#9467bd&quot;, &quot;id_county&quot;: &quot;39091&quot;, &quot;id_place&quot;: &quot;3941608&quot;}, &quot;type&quot;: &quot;Feature&quot;}, {&quot;bbox&quot;: [-83.1892798100166, 40.4506759600497, -83.1892798100166, 40.4506759600497], &quot;geometry&quot;: {&quot;coordinates&quot;: [-83.1892798100166, 40.4506759600497], &quot;type&quot;: &quot;Point&quot;}, &quot;id&quot;: &quot;82&quot;, &quot;properties&quot;: {&quot;ADDRESS&quot;: &quot;116 N. Main St&quot;, &quot;NAME&quot;: &quot;Prospect Public Library&quot;, &quot;__folium_color&quot;: &quot;#c7c7c7&quot;, &quot;id_county&quot;: &quot;39101&quot;, &quot;id_place&quot;: &quot;3964780&quot;}, &quot;type&quot;: &quot;Feature&quot;}, {&quot;bbox&quot;: [-83.384494854428, 40.5760852651449, -83.384494854428, 40.5760852651449], &quot;geometry&quot;: {&quot;coordinates&quot;: [-83.384494854428, 40.5760852651449], &quot;type&quot;: &quot;Point&quot;}, &quot;id&quot;: &quot;83&quot;, &quot;properties&quot;: {&quot;ADDRESS&quot;: &quot;86 S. High St&quot;, &quot;NAME&quot;: &quot;Henkle-Holiday Memorial Library&quot;, &quot;__folium_color&quot;: &quot;#c5b0d5&quot;, &quot;id_county&quot;: &quot;39101&quot;, &quot;id_place&quot;: &quot;3941902&quot;}, &quot;type&quot;: &quot;Feature&quot;}, {&quot;bbox&quot;: [-83.1197299391342, 40.5873305203235, -83.1197299391342, 40.5873305203235], &quot;geometry&quot;: {&quot;coordinates&quot;: [-83.1197299391342, 40.5873305203235], &quot;type&quot;: &quot;Point&quot;}, &quot;id&quot;: &quot;84&quot;, &quot;properties&quot;: {&quot;ADDRESS&quot;: &quot;445 E. Church St&quot;, &quot;NAME&quot;: &quot;Marion Public Library&quot;, &quot;__folium_color&quot;: &quot;#c49c94&quot;, &quot;id_county&quot;: &quot;39101&quot;, &quot;id_place&quot;: &quot;3947754&quot;}, &quot;type&quot;: &quot;Feature&quot;}, {&quot;bbox&quot;: [-82.9705738438752, 40.637047759179, -82.9705738438752, 40.637047759179], &quot;geometry&quot;: {&quot;coordinates&quot;: [-82.9705738438752, 40.637047759179], &quot;type&quot;: &quot;Point&quot;}, &quot;id&quot;: &quot;85&quot;, &quot;properties&quot;: {&quot;ADDRESS&quot;: &quot;112 E. Marion St&quot;, &quot;NAME&quot;: &quot;Caledonia Public Library&quot;, &quot;__folium_color&quot;: &quot;#ff7f0e&quot;, &quot;id_county&quot;: &quot;39101&quot;, &quot;id_place&quot;: &quot;3910954&quot;}, &quot;type&quot;: &quot;Feature&quot;}, {&quot;bbox&quot;: [-82.6610737233374, 40.621512343121, -82.6610737233374, 40.621512343121], &quot;geometry&quot;: {&quot;coordinates&quot;: [-82.6610737233374, 40.621512343121], &quot;type&quot;: &quot;Point&quot;}, &quot;id&quot;: &quot;86&quot;, &quot;properties&quot;: {&quot;ADDRESS&quot;: &quot;7406 County Road 242&quot;, &quot;NAME&quot;: &quot;Perry Cook Memorial Public Library&quot;, &quot;__folium_color&quot;: null, &quot;id_county&quot;: &quot;39117&quot;, &quot;id_place&quot;: null}, &quot;type&quot;: &quot;Feature&quot;}, {&quot;bbox&quot;: [-82.8270338022759, 40.5489186801188, -82.8270338022759, 40.5489186801188], &quot;geometry&quot;: {&quot;coordinates&quot;: [-82.8270338022759, 40.5489186801188], &quot;type&quot;: &quot;Point&quot;}, &quot;id&quot;: &quot;87&quot;, &quot;properties&quot;: {&quot;ADDRESS&quot;: &quot;41 E. High St&quot;, &quot;NAME&quot;: &quot;Mount Gilead Free Public Library&quot;, &quot;__folium_color&quot;: &quot;#c49c94&quot;, &quot;id_county&quot;: &quot;39117&quot;, &quot;id_place&quot;: &quot;3952738&quot;}, &quot;type&quot;: &quot;Feature&quot;}, {&quot;bbox&quot;: [-82.6837729298785, 40.4803932430714, -82.6837729298785, 40.4803932430714], &quot;geometry&quot;: {&quot;coordinates&quot;: [-82.6837729298785, 40.4803932430714], &quot;type&quot;: &quot;Point&quot;}, &quot;id&quot;: &quot;88&quot;, &quot;properties&quot;: {&quot;ADDRESS&quot;: &quot;31 State Route 95&quot;, &quot;NAME&quot;: &quot;Selover Public Library&quot;, &quot;__folium_color&quot;: &quot;#ffbb78&quot;, &quot;id_county&quot;: &quot;39117&quot;, &quot;id_place&quot;: &quot;3914114&quot;}, &quot;type&quot;: &quot;Feature&quot;}, {&quot;bbox&quot;: [-82.4172821495579, 39.8960911438767, -82.4172821495579, 39.8960911438767], &quot;geometry&quot;: {&quot;coordinates&quot;: [-82.4172821495579, 39.8960911438767], &quot;type&quot;: &quot;Point&quot;}, &quot;id&quot;: &quot;89&quot;, &quot;properties&quot;: {&quot;ADDRESS&quot;: &quot;99 E. Columbus St&quot;, &quot;NAME&quot;: &quot;Perry County District Library Branch&quot;, &quot;__folium_color&quot;: &quot;#dbdb8d&quot;, &quot;id_county&quot;: &quot;39127&quot;, &quot;id_place&quot;: &quot;3976680&quot;}, &quot;type&quot;: &quot;Feature&quot;}, {&quot;bbox&quot;: [-82.3002116548932, 39.8064887997414, -82.3002116548932, 39.8064887997414], &quot;geometry&quot;: {&quot;coordinates&quot;: [-82.3002116548932, 39.8064887997414], &quot;type&quot;: &quot;Point&quot;}, &quot;id&quot;: &quot;90&quot;, &quot;properties&quot;: {&quot;ADDRESS&quot;: &quot;117 W. Main St&quot;, &quot;NAME&quot;: &quot;Perry County District Library Branch&quot;, &quot;__folium_color&quot;: &quot;#bcbd22&quot;, &quot;id_county&quot;: &quot;39127&quot;, &quot;id_place&quot;: &quot;3972977&quot;}, &quot;type&quot;: &quot;Feature&quot;}, {&quot;bbox&quot;: [-82.0945688908402, 39.7695797860738, -82.0945688908402, 39.7695797860738], &quot;geometry&quot;: {&quot;coordinates&quot;: [-82.0945688908402, 39.7695797860738], &quot;type&quot;: &quot;Point&quot;}, &quot;id&quot;: &quot;91&quot;, &quot;properties&quot;: {&quot;ADDRESS&quot;: &quot;11 E. Main St&quot;, &quot;NAME&quot;: &quot;Perry County District Library Branch&quot;, &quot;__folium_color&quot;: &quot;#98df8a&quot;, &quot;id_county&quot;: &quot;39127&quot;, &quot;id_place&quot;: &quot;3919456&quot;}, &quot;type&quot;: &quot;Feature&quot;}, {&quot;bbox&quot;: [-82.300130293338, 39.7210992984575, -82.300130293338, 39.7210992984575], &quot;geometry&quot;: {&quot;coordinates&quot;: [-82.300130293338, 39.7210992984575], &quot;type&quot;: &quot;Point&quot;}, &quot;id&quot;: &quot;92&quot;, &quot;properties&quot;: {&quot;ADDRESS&quot;: &quot;108 W. Main St&quot;, &quot;NAME&quot;: &quot;Perry County District Library Branch&quot;, &quot;__folium_color&quot;: &quot;#9467bd&quot;, &quot;id_county&quot;: &quot;39127&quot;, &quot;id_place&quot;: &quot;3939508&quot;}, &quot;type&quot;: &quot;Feature&quot;}, {&quot;bbox&quot;: [-82.2061174031537, 39.7140481561472, -82.2061174031537, 39.7140481561472], &quot;geometry&quot;: {&quot;coordinates&quot;: [-82.2061174031537, 39.7140481561472], &quot;type&quot;: &quot;Point&quot;}, &quot;id&quot;: &quot;93&quot;, &quot;properties&quot;: {&quot;ADDRESS&quot;: &quot;117 S. Jackson St&quot;, &quot;NAME&quot;: &quot;Perry County District Library&quot;, &quot;__folium_color&quot;: &quot;#f7b6d2&quot;, &quot;id_county&quot;: &quot;39127&quot;, &quot;id_place&quot;: &quot;3954866&quot;}, &quot;type&quot;: &quot;Feature&quot;}, {&quot;bbox&quot;: [-82.2367065380701, 39.5775427271723, -82.2367065380701, 39.5775427271723], &quot;geometry&quot;: {&quot;coordinates&quot;: [-82.2367065380701, 39.5775427271723], &quot;type&quot;: &quot;Point&quot;}, &quot;id&quot;: &quot;94&quot;, &quot;properties&quot;: {&quot;ADDRESS&quot;: &quot;102 E. Main St.&quot;, &quot;NAME&quot;: &quot;New Straitsville Public Library&quot;, &quot;__folium_color&quot;: &quot;#f7b6d2&quot;, &quot;id_county&quot;: &quot;39127&quot;, &quot;id_place&quot;: &quot;3955552&quot;}, &quot;type&quot;: &quot;Feature&quot;}, {&quot;bbox&quot;: [-82.087584035686, 39.6026551729388, -82.087584035686, 39.6026551729388], &quot;geometry&quot;: {&quot;coordinates&quot;: [-82.087584035686, 39.6026551729388], &quot;type&quot;: &quot;Point&quot;}, &quot;id&quot;: &quot;95&quot;, &quot;properties&quot;: {&quot;ADDRESS&quot;: &quot;113 11th Hill St&quot;, &quot;NAME&quot;: &quot;Perry County District Library Branch&quot;, &quot;__folium_color&quot;: &quot;#2ca02c&quot;, &quot;id_county&quot;: &quot;39127&quot;, &quot;id_place&quot;: &quot;3918770&quot;}, &quot;type&quot;: &quot;Feature&quot;}, {&quot;bbox&quot;: [-82.8933137097604, 40.5006698242389, -82.8933137097604, 40.5006698242389], &quot;geometry&quot;: {&quot;coordinates&quot;: [-82.8933137097604, 40.5006698242389], &quot;type&quot;: &quot;Point&quot;}, &quot;id&quot;: &quot;96&quot;, &quot;properties&quot;: {&quot;ADDRESS&quot;: &quot;128 E. Main St&quot;, &quot;NAME&quot;: &quot;Cardington-Lincoln Public Library&quot;, &quot;__folium_color&quot;: &quot;#ffbb78&quot;, &quot;id_county&quot;: &quot;39117&quot;, &quot;id_place&quot;: &quot;3912084&quot;}, &quot;type&quot;: &quot;Feature&quot;}], &quot;type&quot;: &quot;FeatureCollection&quot;});\n",
       "\n",
       "        \n",
       "    \n",
       "    geo_json_0e21bb1de65a7a0412bb1823d3def7aa.bindTooltip(\n",
       "    function(layer){\n",
       "    let div = L.DomUtil.create(&#x27;div&#x27;);\n",
       "    \n",
       "    let handleObject = feature=&gt;typeof(feature)==&#x27;object&#x27; ? JSON.stringify(feature) : feature;\n",
       "    let fields = [&quot;NAME&quot;, &quot;ADDRESS&quot;, &quot;id_county&quot;, &quot;id_place&quot;];\n",
       "    let aliases = [&quot;NAME&quot;, &quot;ADDRESS&quot;, &quot;id_county&quot;, &quot;id_place&quot;];\n",
       "    let table = &#x27;&lt;table&gt;&#x27; +\n",
       "        String(\n",
       "        fields.map(\n",
       "        (v,i)=&gt;\n",
       "        `&lt;tr&gt;\n",
       "            &lt;th&gt;${aliases[i]}&lt;/th&gt;\n",
       "            \n",
       "            &lt;td&gt;${handleObject(layer.feature.properties[v])}&lt;/td&gt;\n",
       "        &lt;/tr&gt;`).join(&#x27;&#x27;))\n",
       "    +&#x27;&lt;/table&gt;&#x27;;\n",
       "    div.innerHTML=table;\n",
       "    \n",
       "    return div\n",
       "    }\n",
       "    ,{\n",
       "  &quot;sticky&quot;: true,\n",
       "  &quot;className&quot;: &quot;foliumtooltip&quot;,\n",
       "});\n",
       "                     \n",
       "    \n",
       "            geo_json_0e21bb1de65a7a0412bb1823d3def7aa.addTo(map_04d9b9f110e0fa188dcff8eca9f1cc61);\n",
       "        \n",
       "&lt;/script&gt;\n",
       "&lt;/html&gt;\" style=\"position:absolute;width:100%;height:100%;left:0;top:0;border:none !important;\" allowfullscreen webkitallowfullscreen mozallowfullscreen></iframe></div></div>"
      ],
      "text/plain": [
       "<folium.folium.Map at 0x2bc9da0db90>"
      ]
     },
     "execution_count": 70,
     "metadata": {},
     "output_type": "execute_result"
    }
   ],
   "source": [
    "librariesEnriched.explore(column=\"id_place\", style_kwds={\"radius\":4}, legend=False)"
   ]
  },
  {
   "cell_type": "markdown",
   "id": "7092a14a-e4b1-4dc6-be4a-4b3b280a5dfa",
   "metadata": {
    "jp-MarkdownHeadingCollapsed": true,
    "tags": []
   },
   "source": [
    "# morpc.frictionless - Schema tools (TableSchema)"
   ]
  },
  {
   "cell_type": "markdown",
   "id": "ac1d87d8-cc9d-4a37-8f25-51f1a56abead",
   "metadata": {},
   "source": [
    "As of January 2024 the Data Team is considering a new standard for machine-readable metadata, namely [TableSchema](https://specs.frictionlessdata.io/table-schema/).  TableSchema is a schema for tabular formats that includes many of the features for Avro (see above) plus rich types and constraints. TableSchema is supported in [Python](https://pypi.org/project/tableschema/) and [R](https://www.rdocumentation.org/packages/tableschema.r/), and the libraries include many utilty functions.\n",
    "\n",
    "The foundation of the morpc.frictionless is [frictionless-py](https://github.com/frictionlessdata/frictionless-py). The functions are written to create and load resources. "
   ]
  },
  {
   "cell_type": "markdown",
   "id": "121732ac-8577-4fab-80e0-dfa82a3d43d5",
   "metadata": {},
   "source": [
    "The foundation of the frictionless framework are [resouces](https://framework.frictionlessdata.io/docs/resources/file.html). Resources are structured json or yaml files that include metadata for the a file or number of files. "
   ]
  },
  {
   "cell_type": "code",
   "execution_count": 117,
   "id": "109fddf9-d2af-4da8-8a6e-1a5906211d40",
   "metadata": {
    "tags": []
   },
   "outputs": [],
   "source": [
    "df = pd.read_excel('./temp_data/dataChartToExcelOutput.xlsx') ## import sample data from temp_data"
   ]
  },
  {
   "cell_type": "code",
   "execution_count": 118,
   "id": "076ae79e-f5eb-4a02-9115-576bc57920e9",
   "metadata": {
    "tags": []
   },
   "outputs": [],
   "source": [
    "df.columns = [\"column1\", \"column2\", \"column3\"] ## give some reasonable names to columns"
   ]
  },
  {
   "cell_type": "code",
   "execution_count": 119,
   "id": "1bea5da0-cc7c-44a6-8c50-3833721a1d47",
   "metadata": {
    "tags": []
   },
   "outputs": [],
   "source": [
    "df.to_csv('./temp_data/temp_df.csv', index=False) ## save a csv"
   ]
  },
  {
   "cell_type": "markdown",
   "id": "a47b5f02-a9e7-4c55-ab09-dbed3288864a",
   "metadata": {},
   "source": [
    "Typically we will create some constant variable name for the file, resource, and schema. The resource and schema are stored in yaml files. "
   ]
  },
  {
   "cell_type": "code",
   "execution_count": 120,
   "id": "36fed608-13ce-4f77-ae9e-ae1eaccfc2b4",
   "metadata": {
    "tags": []
   },
   "outputs": [],
   "source": [
    "RESOURCE_DIR = './temp_data/'\n",
    "TABLE_FILE_NAME = 'temp_df.csv'\n",
    "TABLE_RESOURCE_NAME = TABLE_FILE_NAME.replace('.csv', '.resource.yaml')\n",
    "TABLE_SCHEMA_NAME = TABLE_FILE_NAME.replace('.csv', '.schema.yaml')"
   ]
  },
  {
   "cell_type": "markdown",
   "id": "fbe642f8-2b5c-4eba-9b65-9cd6650a56e2",
   "metadata": {},
   "source": [
    "Schema can be defined manually, or can be created via standard frictionless functions. "
   ]
  },
  {
   "cell_type": "code",
   "execution_count": 121,
   "id": "26284e46-b023-47c3-add1-7fab025b6cb3",
   "metadata": {
    "tags": []
   },
   "outputs": [],
   "source": [
    "import frictionless"
   ]
  },
  {
   "cell_type": "code",
   "execution_count": 122,
   "id": "29af185f-8f92-40f7-9e3c-bd2ed156b3d2",
   "metadata": {
    "tags": []
   },
   "outputs": [
    {
     "data": {
      "text/plain": [
       "'fields:\\n  - name: column1\\n    type: integer\\n  - name: column2\\n    type: integer\\n  - name: column3\\n    type: integer\\n'"
      ]
     },
     "execution_count": 122,
     "metadata": {},
     "output_type": "execute_result"
    }
   ],
   "source": [
    "frictionless.Schema.describe(os.path.join(RESOURCE_DIR, TABLE_FILE_NAME)).to_yaml(os.path.join(RESOURCE_DIR, TABLE_SCHEMA_NAME)) ## Create a default schema and save as a yaml"
   ]
  },
  {
   "cell_type": "markdown",
   "id": "49c9d286-1749-42d5-b7bf-4ab0c61d0d3d",
   "metadata": {
    "tags": []
   },
   "source": [
    "### Create a resource"
   ]
  },
  {
   "cell_type": "code",
   "execution_count": 125,
   "id": "5232cc03-0717-468a-9068-d3e1ac6e4739",
   "metadata": {
    "tags": []
   },
   "outputs": [
    {
     "name": "stdout",
     "output_type": "stream",
     "text": [
      "morpc.create_resource | INFO | Writing Frictionless Resource file to temp_data\\temp_df.resource.yaml\n",
      "morpc.create_resource | INFO | Validating resource on disk.\n",
      "morpc.validate_resource | INFO | Validating resource on disk (including data and schema). This may take some time.\n",
      "morpc.validate_resource | INFO | Resource is valid\n"
     ]
    },
    {
     "data": {
      "text/plain": [
       "{'name': 'temp_df',\n",
       " 'type': 'table',\n",
       " 'title': 'A title for the resource',\n",
       " 'description': 'A description of the resource to explain what it contains.',\n",
       " 'profile': 'data-resource',\n",
       " 'path': 'temp_df.csv',\n",
       " 'scheme': 'file',\n",
       " 'format': 'csv',\n",
       " 'mediatype': 'text/csv',\n",
       " 'hash': '3f0fe472ad7bf42606eba5184f838dab',\n",
       " 'bytes': 53,\n",
       " 'schema': 'temp_df.schema.yaml'}"
      ]
     },
     "execution_count": 125,
     "metadata": {},
     "output_type": "execute_result"
    }
   ],
   "source": [
    "morpc.frictionless.create_resource(TABLE_FILE_NAME, # the filename relative to resource dir, often just filename\n",
    "                                   resourcePath=os.path.join(RESOURCE_DIR, TABLE_RESOURCE_NAME), # file path to resource location\n",
    "                                   schemaPath=TABLE_SCHEMA_PATH, # path of schema relative to resource dir\n",
    "                                   name = \"temp_df\", # simple name\n",
    "                                   title = \"A title for the resource\", # A human readable title\n",
    "                                   description = \"A description of the resource to explain what it contains.\", # A full description\n",
    "                                   writeResource = True, # Boolean - Whether to archive the resouce file \n",
    "                                   resFormat = \"csv\",\n",
    "                                   resMediaType= \"text/csv\",  \n",
    "                                   computeBytes= True, # Compute the size if the file in bytes\n",
    "                                   computeHash = True, # Create a md5 hash of the file, a unique string to check if file has been changed.\n",
    "                                   validate=True # Validate the resource after creating\n",
    "                                  )"
   ]
  },
  {
   "cell_type": "markdown",
   "id": "d0250765-5c95-47b0-802a-54806038d459",
   "metadata": {},
   "source": [
    "Load data from a resource file. Returns the data, a resource, and the schema"
   ]
  },
  {
   "cell_type": "markdown",
   "id": "1239f34f-59f1-4964-bbb1-3156864e0940",
   "metadata": {},
   "source": [
    "### Load data from a resource file"
   ]
  },
  {
   "cell_type": "code",
   "execution_count": 129,
   "id": "14390a5d-ba51-4164-ae03-8ddbdafa95cc",
   "metadata": {
    "tags": []
   },
   "outputs": [
    {
     "name": "stdout",
     "output_type": "stream",
     "text": [
      "morpc.load_data | INFO | Loading Frictionless Resource file at location temp_data\\temp_df.resource.yaml\n",
      "morpc.load_data | INFO | Loading data, resource file, and schema from their source locations\n",
      "morpc.load_data | INFO | --> Data file: temp_data\\temp_df.csv\n",
      "morpc.load_data | INFO | --> Resource file: temp_data\\temp_df.resource.yaml\n",
      "morpc.load_data | INFO | --> Schema file: temp_data\\temp_df.schema.yaml\n",
      "morpc.load_data | INFO | Loading data.\n",
      "cast_field_types | INFO | Casting field column1 as type integer.\n",
      "cast_field_types | INFO | Casting field column2 as type integer.\n",
      "cast_field_types | INFO | Casting field column3 as type integer.\n"
     ]
    }
   ],
   "source": [
    "data, resource, schema = morpc.frictionless.load_data(os.path.join(RESOURCE_DIR, TABLE_RESOURCE_NAME))"
   ]
  },
  {
   "cell_type": "code",
   "execution_count": 130,
   "id": "45f361f6-9b40-4270-b9c9-88f87acc5719",
   "metadata": {
    "tags": []
   },
   "outputs": [
    {
     "data": {
      "text/html": [
       "<div>\n",
       "<style scoped>\n",
       "    .dataframe tbody tr th:only-of-type {\n",
       "        vertical-align: middle;\n",
       "    }\n",
       "\n",
       "    .dataframe tbody tr th {\n",
       "        vertical-align: top;\n",
       "    }\n",
       "\n",
       "    .dataframe thead th {\n",
       "        text-align: right;\n",
       "    }\n",
       "</style>\n",
       "<table border=\"1\" class=\"dataframe\">\n",
       "  <thead>\n",
       "    <tr style=\"text-align: right;\">\n",
       "      <th></th>\n",
       "      <th>column1</th>\n",
       "      <th>column2</th>\n",
       "      <th>column3</th>\n",
       "    </tr>\n",
       "  </thead>\n",
       "  <tbody>\n",
       "    <tr>\n",
       "      <th>0</th>\n",
       "      <td>0</td>\n",
       "      <td>1</td>\n",
       "      <td>3</td>\n",
       "    </tr>\n",
       "    <tr>\n",
       "      <th>1</th>\n",
       "      <td>1</td>\n",
       "      <td>2</td>\n",
       "      <td>4</td>\n",
       "    </tr>\n",
       "    <tr>\n",
       "      <th>2</th>\n",
       "      <td>2</td>\n",
       "      <td>3</td>\n",
       "      <td>5</td>\n",
       "    </tr>\n",
       "    <tr>\n",
       "      <th>3</th>\n",
       "      <td>3</td>\n",
       "      <td>4</td>\n",
       "      <td>6</td>\n",
       "    </tr>\n",
       "  </tbody>\n",
       "</table>\n",
       "</div>"
      ],
      "text/plain": [
       "   column1  column2  column3\n",
       "0        0        1        3\n",
       "1        1        2        4\n",
       "2        2        3        5\n",
       "3        3        4        6"
      ]
     },
     "execution_count": 130,
     "metadata": {},
     "output_type": "execute_result"
    }
   ],
   "source": [
    "data"
   ]
  },
  {
   "cell_type": "code",
   "execution_count": 131,
   "id": "f551e24f-3529-4ca1-b3e7-9a4d1a975ca4",
   "metadata": {
    "tags": []
   },
   "outputs": [
    {
     "data": {
      "text/plain": [
       "{'name': 'temp_df',\n",
       " 'type': 'table',\n",
       " 'title': 'A title for the resource',\n",
       " 'description': 'A description of the resource to explain what it contains.',\n",
       " 'profile': 'data-resource',\n",
       " 'path': 'temp_df.csv',\n",
       " 'scheme': 'file',\n",
       " 'format': 'csv',\n",
       " 'mediatype': 'text/csv',\n",
       " 'hash': '3f0fe472ad7bf42606eba5184f838dab',\n",
       " 'bytes': 53,\n",
       " 'schema': 'temp_df.schema.yaml'}"
      ]
     },
     "execution_count": 131,
     "metadata": {},
     "output_type": "execute_result"
    }
   ],
   "source": [
    "resource"
   ]
  },
  {
   "cell_type": "code",
   "execution_count": 132,
   "id": "e7fd5b2d-51e2-4ff2-9351-6702ff452a68",
   "metadata": {
    "tags": []
   },
   "outputs": [
    {
     "data": {
      "text/plain": [
       "{'fields': [{'name': 'column1', 'type': 'integer'},\n",
       "            {'name': 'column2', 'type': 'integer'},\n",
       "            {'name': 'column3', 'type': 'integer'}]}"
      ]
     },
     "execution_count": 132,
     "metadata": {},
     "output_type": "execute_result"
    }
   ],
   "source": [
    "schema"
   ]
  },
  {
   "cell_type": "markdown",
   "id": "516220aa-269d-403a-9bb3-3308a77eb841",
   "metadata": {
    "jp-MarkdownHeadingCollapsed": true,
    "tags": []
   },
   "source": [
    "# Branding"
   ]
  },
  {
   "cell_type": "markdown",
   "id": "c3bbc0de-a700-452e-ac1f-32c72abeaf6d",
   "metadata": {},
   "source": [
    "The library includes the hex codes the MORPC brand colors and provides assigns of human-readable names to make the colors easier to work with."
   ]
  },
  {
   "cell_type": "code",
   "execution_count": 40,
   "id": "c9f7209a-654b-47ce-a80d-d0cbdc1d44b2",
   "metadata": {
    "tags": []
   },
   "outputs": [
    {
     "data": {
      "text/plain": [
       "{'darkblue': '#2e5072',\n",
       " 'blue': '#0077bf',\n",
       " 'darkgreen': '#2c7f68',\n",
       " 'lightgreen': '#66b561',\n",
       " 'bluegreen': '#00b2bf',\n",
       " 'midblue': '#2c6179'}"
      ]
     },
     "execution_count": 40,
     "metadata": {},
     "output_type": "execute_result"
    }
   ],
   "source": [
    "morpc.CONST_MORPC_COLORS"
   ]
  },
  {
   "cell_type": "markdown",
   "id": "1766308e-92b4-4e33-bd80-1f0875e2cbf4",
   "metadata": {},
   "source": [
    "Here's what the colors look like when rendered on-screen."
   ]
  },
  {
   "cell_type": "code",
   "execution_count": 41,
   "id": "fa3cae17-730c-42e6-90e2-69efe6046bac",
   "metadata": {
    "tags": []
   },
   "outputs": [
    {
     "data": {
      "text/html": [
       "<table><th>colorname</th><th>morpc.CONST_MORPC_COLORS[colorname]</th><tr><td>darkblue</td><td bgcolor=#2e5072><font color='white'>#2e5072</font></td><tr><td>blue</td><td bgcolor=#0077bf><font color='white'>#0077bf</font></td><tr><td>darkgreen</td><td bgcolor=#2c7f68><font color='white'>#2c7f68</font></td><tr><td>lightgreen</td><td bgcolor=#66b561><font color='white'>#66b561</font></td><tr><td>bluegreen</td><td bgcolor=#00b2bf><font color='white'>#00b2bf</font></td><tr><td>midblue</td><td bgcolor=#2c6179><font color='white'>#2c6179</font></td></table>"
      ],
      "text/plain": [
       "<IPython.core.display.HTML object>"
      ]
     },
     "metadata": {},
     "output_type": "display_data"
    }
   ],
   "source": [
    "outputString = \"<table><th>colorname</th><th>morpc.CONST_MORPC_COLORS[colorname]</th>\"\n",
    "for colorname in morpc.CONST_MORPC_COLORS:\n",
    "    outputString += \"<tr><td>{0}</td><td bgcolor={1}><font color='white'>{1}</font></td>\".format(colorname, morpc.CONST_MORPC_COLORS[colorname])\n",
    "outputString += \"</table>\"\n",
    "display(IPython.display.HTML(outputString))"
   ]
  },
  {
   "cell_type": "markdown",
   "id": "08c9f955-0675-48ee-8d55-ffa68f90b4c0",
   "metadata": {
    "jp-MarkdownHeadingCollapsed": true,
    "tags": []
   },
   "source": [
    "# Round preserving sum (aka \"bucket rounding\")"
   ]
  },
  {
   "cell_type": "markdown",
   "id": "5a03b254-9e96-47a2-a044-4b8eb9c245cf",
   "metadata": {},
   "source": [
    "Imagine we have a series of values that need to be rounded, but we want the rounded values to sum to the same value as the original series.  Create a random series for demonstration purposes."
   ]
  },
  {
   "cell_type": "code",
   "execution_count": null,
   "id": "0b84cde1-9d48-4bb9-a88f-e301922d200f",
   "metadata": {},
   "outputs": [],
   "source": [
    "rawValues = pd.Series([random.randrange(0, 100000)/100 for x in range(1,10)])\n",
    "list(rawValues)"
   ]
  },
  {
   "cell_type": "markdown",
   "id": "90a2f45c-59f3-4e22-8e37-5c672e20ce54",
   "metadata": {},
   "source": [
    "Specify the number of decimal digits to preserve. For this demo we'll round to integers (i.e. zero decimal places), which is typically what we want, but the function supports rounding to other decimal places as well."
   ]
  },
  {
   "cell_type": "code",
   "execution_count": null,
   "id": "4d8ff11f-dc05-443e-8e75-3aaf900ba8af",
   "metadata": {},
   "outputs": [],
   "source": [
    "digits = 0"
   ]
  },
  {
   "cell_type": "markdown",
   "id": "c263f44c-6ad9-4662-b5b1-4f7bc20f07c7",
   "metadata": {},
   "source": [
    "Perform bucket-rounding"
   ]
  },
  {
   "cell_type": "code",
   "execution_count": null,
   "id": "f6a1efe8-8257-4d9e-8785-2b770394b629",
   "metadata": {},
   "outputs": [],
   "source": [
    "bucketRoundedValues = morpc.round_preserve_sum(rawValues, digits, verbose=True)"
   ]
  },
  {
   "cell_type": "markdown",
   "id": "6fd9b6e4-a563-4ebd-ace5-b64259fd10da",
   "metadata": {},
   "source": [
    "Raw values:"
   ]
  },
  {
   "cell_type": "code",
   "execution_count": null,
   "id": "6008a2f5-4518-4484-9c12-010b57f4e03c",
   "metadata": {},
   "outputs": [],
   "source": [
    "rawValues.tolist()"
   ]
  },
  {
   "cell_type": "markdown",
   "id": "785f0b36-e793-4c26-b6fd-2fbd3f022415",
   "metadata": {},
   "source": [
    "Bucket-rounded values:"
   ]
  },
  {
   "cell_type": "code",
   "execution_count": null,
   "id": "44580123-34d2-4f5b-bfd4-c8a35524a9e6",
   "metadata": {},
   "outputs": [],
   "source": [
    "bucketRoundedValues.tolist()"
   ]
  },
  {
   "cell_type": "markdown",
   "id": "244cc15d-43ee-4cc0-be53-b729f61ee005",
   "metadata": {},
   "source": [
    "Sum of raw values:"
   ]
  },
  {
   "cell_type": "code",
   "execution_count": null,
   "id": "eacbad92-7383-411b-a3e0-d8cd4e5f2fb6",
   "metadata": {},
   "outputs": [],
   "source": [
    "round(sum(rawValues))"
   ]
  },
  {
   "cell_type": "markdown",
   "id": "432e6233-66f7-4040-8980-8703d672e901",
   "metadata": {},
   "source": [
    "Sum of bucket-rounded values:"
   ]
  },
  {
   "cell_type": "code",
   "execution_count": null,
   "id": "474bd05d-4356-4bd2-974d-c7b572c38105",
   "metadata": {
    "tags": []
   },
   "outputs": [],
   "source": [
    "sum(bucketRoundedValues)"
   ]
  },
  {
   "cell_type": "markdown",
   "id": "411adcf8-7cfa-4fdc-9936-ff223e576170",
   "metadata": {
    "jp-MarkdownHeadingCollapsed": true,
    "tags": []
   },
   "source": [
    "# Control variable to group"
   ]
  },
  {
   "cell_type": "markdown",
   "id": "78979642-3f3c-4f7a-aafb-3a3e3c75fe86",
   "metadata": {},
   "source": [
    "Often we have a set of values representing the members of some group and we need the sum of those values to match a total for the group that was computed independently. Perhaps the best known example of this is the annual [population estimates for sub-county jurisdictions](https://github.com/morpc/morpc-popest).  The estimates for all of the jurisdictions in the county must total to the [county-level population estimates](https://github.com/morpc/morpc-popest-county), which are derived independently.  In this case the county (group) totals are known as the \"control values\" or \"control totals\" and the process of adjusting the sub-county (group member) values so that their total is equal to the control total is known as \"controlling\" the variable.  The process includes the following steps, which will be described in more detail below.\n",
    "\n",
    "  - Establish control values for the groups (e.g. the county-level estimnates in the example above)\n",
    "  - Create a series of grouped values to be controlled (e.g. the sub-county estimates)\n",
    "  - Control the values in each group to the control total.  This consists of three sub-parts:\n",
    "    - Compute group sums\n",
    "    - Compute group shares\n",
    "    - Compute controlled values\n",
    "  \n",
    "In the sections that follow, we'll look at a more contrived example, namely controlling the 2021 ACS 5-year estimates for county subdivisions to the 2020 decennial county populations. This is not a recommended application and is used only for the sake of convenience."
   ]
  },
  {
   "cell_type": "markdown",
   "id": "1c0f899f-68d0-4e3b-bff6-51455c5be540",
   "metadata": {},
   "source": [
    "### Establish control values for groups"
   ]
  },
  {
   "cell_type": "markdown",
   "id": "dd41122d-ae66-44c7-a82b-76afdb7f1268",
   "metadata": {},
   "source": [
    "Download county populations from 2020 decennial census"
   ]
  },
  {
   "cell_type": "code",
   "execution_count": null,
   "id": "9a3bfc0b-9ea7-41ca-a6df-9bae9ffa5363",
   "metadata": {},
   "outputs": [],
   "source": [
    "r = requests.get(\n",
    "    url=\"https://api.census.gov/data/2020/dec/dhc\",\n",
    "    params={\n",
    "        \"get\":\",\".join([\"P1_001N\"]),\n",
    "        \"for\":\"county:{}\".format(\",\".join([x[2:] for x in countyLookup.list_ids()])),\n",
    "        \"in\": \"state:39\"\n",
    "        }\n",
    ")\n",
    "records = r.json()\n",
    "countyPop = pd.DataFrame.from_records(records[1:], columns=records[0])\n",
    "countyPop[\"C_GEOID\"] = countyPop[\"state\"] + countyPop[\"county\"]\n",
    "countyPop = countyPop.loc[countyPop[\"county\"].isin([x[2:] for x in countyLookup.list_ids()])].copy() \\\n",
    "    .rename(columns={\"P1_001N\":\"C_POP\"}) \\\n",
    "    .drop(columns={\"state\",\"county\"}) \\\n",
    "    .astype({\"C_POP\":\"int\"}) \\\n",
    "    .set_index(\"C_GEOID\")"
   ]
  },
  {
   "cell_type": "markdown",
   "id": "26d68896-58b0-49db-b1fa-f1014d531bb0",
   "metadata": {},
   "source": [
    "Now we have the population for each county (indexed by their GEOIDs) which will serve as the control totals."
   ]
  },
  {
   "cell_type": "code",
   "execution_count": null,
   "id": "8f162561-9480-42d2-95a8-0a6305316f48",
   "metadata": {},
   "outputs": [],
   "source": [
    "countyPop.head()"
   ]
  },
  {
   "cell_type": "markdown",
   "id": "a83b3f15-afab-4433-beb1-8bcd5c7fd92a",
   "metadata": {},
   "source": [
    "### Create series of grouped values to be controlled"
   ]
  },
  {
   "cell_type": "markdown",
   "id": "480d2004-24f2-468e-844d-95c40188fc34",
   "metadata": {},
   "source": [
    "Download sub-county populations from the 2021 ACS 5-year estimates"
   ]
  },
  {
   "cell_type": "code",
   "execution_count": null,
   "id": "d691d8f8-6b91-4a46-a65a-9b771fd25536",
   "metadata": {},
   "outputs": [],
   "source": [
    "r = requests.get(\n",
    "    url=\"https://api.census.gov/data/2021/acs/acs5\",\n",
    "    params={\n",
    "        \"get\":\",\".join([\"NAME\",\"GEO_ID\",\"B01001_001E\",\"B01001_001M\"]),\n",
    "        \"for\":\"county subdivision:*\",\n",
    "        \"in\": [\n",
    "            \"state:39\",\n",
    "            \"county:{}\".format(\",\".join([x[2:] for x in countyLookup.list_ids()])),\n",
    "        ]\n",
    "    }\n",
    ")\n",
    "records = r.json()\n",
    "subdivPop = pd.DataFrame.from_records(records[1:], columns=records[0])\n",
    "subdivPop = subdivPop \\\n",
    "    .rename(columns={\"GEO_ID\":\"GEOID\",\"B01001_001E\":\"POP\",\"B01001_001M\":\"POP_MOE\"}) \\\n",
    "    .astype({\"POP\":\"int\"}) \\\n",
    "    .set_index(\"GEOID\")\n",
    "subdivPop[\"C_GEOID\"] = subdivPop[\"state\"] + subdivPop[\"county\"]"
   ]
  },
  {
   "cell_type": "markdown",
   "id": "cca55de0-3a29-4028-8b26-ea4876194358",
   "metadata": {},
   "source": [
    "Now we have population estimates for the members of each group (county).  Note that the county GEOID (C_GEOID) has been assigned to each member record.  We'll use this to iterate through groups."
   ]
  },
  {
   "cell_type": "code",
   "execution_count": null,
   "id": "8c4bc3f2-637a-413a-8fe6-5a0692078a4f",
   "metadata": {},
   "outputs": [],
   "source": [
    "subdivPop.head()"
   ]
  },
  {
   "cell_type": "markdown",
   "id": "b7a3e62a-93f6-4a0d-b849-424bf663b705",
   "metadata": {},
   "source": [
    "Note that the sums of the subdivision populations doesn't match the sum of the county populations. This is expected and it is the reason we need to control the subdivision values."
   ]
  },
  {
   "cell_type": "code",
   "execution_count": null,
   "id": "04971586-30c0-4fbd-8464-f92dee904845",
   "metadata": {},
   "outputs": [],
   "source": [
    "subdivPop[\"POP\"].sum()"
   ]
  },
  {
   "cell_type": "code",
   "execution_count": null,
   "id": "ef97fe9c-4e49-405d-8785-9e0303600741",
   "metadata": {},
   "outputs": [],
   "source": [
    "countyPop[\"C_POP\"].sum()"
   ]
  },
  {
   "cell_type": "markdown",
   "id": "0da3ab19-7863-4de0-91a6-e538d0068c4d",
   "metadata": {},
   "source": [
    "### Control the values in each group to the control total"
   ]
  },
  {
   "cell_type": "markdown",
   "id": "f6d57086-a7fa-4b90-a04a-7e0e3587ed92",
   "metadata": {},
   "source": [
    "Recall that this step has three sub-parts:\n",
    "\n",
    "  1. Compute group sums (see `morpc.compute_group_sum()`)\n",
    "  2. Compute group shares (see `morpc.compute_group_share()`)\n",
    "  3. Compute controlled values (see `morpc.compute_controlled_values()`)\n",
    "\n",
    "The morpc-common library has a function for each of these steps as noted above, but it also has a high-level function that performs all three steps in sequence, namely `morpc.control_variable_to_group()`.  It requires the following inputs:\n",
    "\n",
    "  - `inputDf` is a pandas DataFrame with a column containing the group shares and (optionally) a column containg the group labels.\n",
    "  - `controlValues` is one of the following:\n",
    "      - If `groupbyField == None`: `controlValues` is a scalar number (integer or float)\n",
    "      - If `groupbyField != None`: `controlValues` is a pandas Series of numbers indexed by group labels\n",
    "  - `groupbyField` (optional) is the name of the column of `inputDf` that contains the group labels.\n",
    "  - `shareField` (optional) is the name of the column of `inputDf` containing the shares that the values comprise.  If this is not specified, \"GROUP_SHARE\" will be used.\n",
    "  - `roundPreserveSumDigits` (optional) is the number of decimal places that the scaled values (i.e. the values in the \"CONTROLLED_VALUE\" column) should be rounded to. A \"bucket rounding\" technique (see `morpc.round_preserve_sum()` will be used to ensure that the sum of the values in the group is preserved. If this is not specified, the scaled values will be left unrounded.\n",
    "\n",
    "This is what the function call looks like for our example case:"
   ]
  },
  {
   "cell_type": "code",
   "execution_count": null,
   "id": "fb54cf06-54d6-4fde-9275-7972a864b74d",
   "metadata": {},
   "outputs": [],
   "source": [
    "subdivPopControlled = morpc.control_variable_to_group(inputDf=subdivPop, controlValues=countyPop[\"C_POP\"], valueField=\"POP\", groupbyField=\"C_GEOID\", roundPreserveSumDigits=0)\n",
    "subdivPopControlled.head()"
   ]
  },
  {
   "cell_type": "markdown",
   "id": "8f422883-1ec6-4688-b807-cbe362e79995",
   "metadata": {},
   "source": [
    "### Check the results"
   ]
  },
  {
   "cell_type": "markdown",
   "id": "748e54a6-f63a-4064-8a42-2a1d989c0c1f",
   "metadata": {},
   "source": [
    "Now the sum of our controlled values should match the county control totals.  We can see that this is true by comparing the \"POP_SUM_CONTROLLED\" columns (which the sum of \"CONTROLLED_VALUE\" by county) and the \"C_POP\" column (which is the county control total) and verifying that the two are equal for all records."
   ]
  },
  {
   "cell_type": "code",
   "execution_count": null,
   "id": "a82979b7-45fe-4a4f-8464-658b413ca2de",
   "metadata": {},
   "outputs": [],
   "source": [
    "subdivPopControlled[[\"C_GEOID\",\"POP\",\"CONTROLLED_VALUE\"]] \\\n",
    "    .groupby(\"C_GEOID\").sum() \\\n",
    "    .rename(columns={\"POP\":\"POP_SUM\",\"CONTROLLED_VALUE\":\"POP_SUM_CONTROLLED\"}) \\\n",
    "    .join(countyPop)"
   ]
  },
  {
   "cell_type": "markdown",
   "id": "47bc97d5-f4cd-4d70-90f8-deb18d653031",
   "metadata": {},
   "source": [
    "We may want to get a sense of how much adjustment of the sub-county values was required. To do this we can compute the difference between the controlled value and the original value and do some desriptive analysis."
   ]
  },
  {
   "cell_type": "code",
   "execution_count": null,
   "id": "d484a6c8-24ae-44ac-b8bf-4eb6321855fe",
   "metadata": {},
   "outputs": [],
   "source": [
    "subdivPopControlled[\"RESIDUAL\"] = subdivPopControlled[\"CONTROLLED_VALUE\"] - subdivPopControlled[\"POP\"]\n",
    "subdivPopControlled[\"RESIDUAL_PCT\"] = subdivPopControlled[\"RESIDUAL\"]/subdivPopControlled[\"POP\"]\n",
    "subdivPopControlled[\"RESIDUAL_PCT\"] = subdivPopControlled[\"RESIDUAL_PCT\"].replace(np.inf, 0)\n",
    "subdivPopControlled[\"RESIDUAL_PCT\"] = subdivPopControlled[\"RESIDUAL_PCT\"].replace(-np.inf, 0)\n",
    "subdivPopControlled[\"RESIDUAL_PCT\"] = subdivPopControlled[\"RESIDUAL_PCT\"].fillna(0)"
   ]
  },
  {
   "cell_type": "markdown",
   "id": "73db1449-d180-4aab-a939-6efee627a5dd",
   "metadata": {},
   "source": [
    "First we'll look at the stats for the raw residual."
   ]
  },
  {
   "cell_type": "code",
   "execution_count": null,
   "id": "7bfbe7e9-a73e-479b-867e-3dfea6805c85",
   "metadata": {},
   "outputs": [],
   "source": [
    "subdivPopControlled[\"RESIDUAL\"].describe()"
   ]
  },
  {
   "cell_type": "code",
   "execution_count": null,
   "id": "39963ce5-e6cb-4cbf-adb7-6f0d21055b5f",
   "metadata": {},
   "outputs": [],
   "source": [
    "subdivPopControlled[\"RESIDUAL\"].hist(bins=25, log=True)"
   ]
  },
  {
   "cell_type": "markdown",
   "id": "3038dde4-64d4-41cb-8b67-f219f4afd872",
   "metadata": {},
   "source": [
    "The residual is close to zero in the vast majority of cases.  Let's look at the ten cases with the greatest residual."
   ]
  },
  {
   "cell_type": "code",
   "execution_count": null,
   "id": "820d93e9-0f35-4b22-bd7d-33e4bb295daa",
   "metadata": {},
   "outputs": [],
   "source": [
    "subdivPopControlled[[\"NAME\",\"POP\",\"CONTROLLED_VALUE\",\"RESIDUAL\",\"RESIDUAL_PCT\"]].sort_values(\"RESIDUAL\", ascending=False).head(10)"
   ]
  },
  {
   "cell_type": "markdown",
   "id": "b74cd8cf-3f69-4fbe-9ca3-0e5658c2a346",
   "metadata": {},
   "source": [
    "And the ten cases with the smallest residual (which could be large but negative)"
   ]
  },
  {
   "cell_type": "code",
   "execution_count": null,
   "id": "ca3f4eee-444d-4723-9dea-ceb66768867d",
   "metadata": {},
   "outputs": [],
   "source": [
    "subdivPopControlled[[\"NAME\",\"POP\",\"CONTROLLED_VALUE\",\"RESIDUAL\",\"RESIDUAL_PCT\"]].sort_values(\"RESIDUAL\", ascending=False).tail(10)"
   ]
  },
  {
   "cell_type": "markdown",
   "id": "0b993042-e433-48c0-9211-f387933c15f3",
   "metadata": {},
   "source": [
    "The raw residual for Columbus was very large, but as a percentage it is not that bad.  Let's look at the stats for the percentages."
   ]
  },
  {
   "cell_type": "code",
   "execution_count": null,
   "id": "22362d8c-40d7-4dcf-94b8-5a5dbc187f88",
   "metadata": {},
   "outputs": [],
   "source": [
    "subdivPopControlled[\"RESIDUAL_PCT\"].describe()"
   ]
  },
  {
   "cell_type": "code",
   "execution_count": null,
   "id": "cb9042de-bd75-4fda-9ca1-94ce4765acce",
   "metadata": {},
   "outputs": [],
   "source": [
    "subdivPopControlled[\"RESIDUAL_PCT\"].hist(bins=25)"
   ]
  },
  {
   "cell_type": "code",
   "execution_count": null,
   "id": "40c69f87-d4ac-4654-bbb2-866242396e37",
   "metadata": {},
   "outputs": [],
   "source": [
    "subdivPopControlled[[\"NAME\",\"POP\",\"CONTROLLED_VALUE\",\"RESIDUAL\",\"RESIDUAL_PCT\"]].sort_values(\"RESIDUAL_PCT\", ascending=False).head(10)"
   ]
  },
  {
   "cell_type": "code",
   "execution_count": null,
   "id": "f9b822a2-d101-4c51-bb70-2939a6e860a9",
   "metadata": {
    "tags": []
   },
   "outputs": [],
   "source": [
    "subdivPopControlled[[\"NAME\",\"POP\",\"CONTROLLED_VALUE\",\"RESIDUAL\",\"RESIDUAL_PCT\"]].sort_values(\"RESIDUAL_PCT\", ascending=False).tail(10)"
   ]
  },
  {
   "cell_type": "markdown",
   "id": "e4a0d63b-9a64-4406-a189-3b7af93cea22",
   "metadata": {
    "jp-MarkdownHeadingCollapsed": true,
    "tags": [],
    "toc-hr-collapsed": true
   },
   "source": [
    "# Schema tools (Apache Avro format) - DEPRECIATED"
   ]
  },
  {
   "cell_type": "markdown",
   "id": "b77aff55-6efd-4459-a4d6-a5bbce53784f",
   "metadata": {},
   "source": [
    "**DEPRECATION WARNING**:  As of January 2024 the Data Team is considering a new standard for machine-readable metadata, namely TableSchema (see below).  Code that makes use of the features described in this section will likely need to be updated to make use of the new standard when it is adopted. Use discretion when making use of these features."
   ]
  },
  {
   "cell_type": "markdown",
   "id": "8c92b7ff-689f-4ade-a1c2-a94212e664cb",
   "metadata": {},
   "source": [
    "[Apache Avro](https://en.wikipedia.org/wiki/Apache_Avro) is an open source data serialization technology that includes a JSON-based [schema specification format](https://avro.apache.org/docs/1.11.1/specification/).  MORPC does not typically use the Avro format itself, however code written through 2023 may have relied on schemas specified in Avro format.  This section demonstrates utility functions for loading Avro-formatted schemas and using the schemas to manipulate data.\n",
    "\n",
    "The demonstration relies on a local copy of data from the [morpc-lookup](https://github.com/morpc/morpc-lookup) repository in GitHub.  Prior to running the code you must download the required data and schema and update the following paths (as needed) to point to the correct files."
   ]
  },
  {
   "cell_type": "code",
   "execution_count": null,
   "id": "e2f26530-aff8-4c9b-82be-1d2d7ba10da6",
   "metadata": {},
   "outputs": [],
   "source": [
    "dataPath = \"..\\morpc-lookup\\MORPC_Counties.csv\"\n",
    "schemaPath = dataPath.replace(\".csv\", \"_schema.json\")\n",
    "print(\"Data path: {}\".format(dataPath))\n",
    "print(\"Schema path: {}\".format(schemaPath))"
   ]
  },
  {
   "cell_type": "markdown",
   "id": "24a04a42-02ad-40ae-975e-e2218906bdd2",
   "metadata": {},
   "source": [
    "Load the data."
   ]
  },
  {
   "cell_type": "code",
   "execution_count": null,
   "id": "94d26978-bf65-4141-8f6e-bf2b89f35bcb",
   "metadata": {},
   "outputs": [],
   "source": [
    "dataRaw = pd.read_csv(dataPath)\n",
    "dataRaw.head()"
   ]
  },
  {
   "cell_type": "markdown",
   "id": "86d403f6-3c29-4e24-8f5d-a15574380d09",
   "metadata": {},
   "source": [
    "The data is stored in a CSV file.  In a CSV, all data is stored as strings.  There is no built-in mechanism for specifying the data type for each field. Note that pandas (like many other software applications) tried to infer the data type."
   ]
  },
  {
   "cell_type": "code",
   "execution_count": null,
   "id": "0b337c37-67c6-4b2c-817b-0f2726346d5a",
   "metadata": {},
   "outputs": [],
   "source": [
    "dataRaw.dtypes"
   ]
  },
  {
   "cell_type": "markdown",
   "id": "0c372fd1-4a53-41ee-9fd3-26bc9790ccc0",
   "metadata": {},
   "source": [
    "Sometimes the inference works well, other times not so well.  It is safer to specify the field types explictly.  One way to do this is to create a schema definition for the data.  Here is an example of a schema definition specified in Apache Avro format:"
   ]
  },
  {
   "cell_type": "code",
   "execution_count": null,
   "id": "bc6e95dc-6044-49b3-964e-86bf8b7d3416",
   "metadata": {},
   "outputs": [],
   "source": [
    "with open(schemaPath, \"r\") as f:\n",
    "    schemaRaw = f.read()\n",
    "print(schemaRaw)"
   ]
  },
  {
   "cell_type": "markdown",
   "id": "3f65c8b2-0753-422c-8ea3-fc39fbd694af",
   "metadata": {},
   "source": [
    "Note that that this format allows for specification of the field names and types, as well as dataset-level and variable-level metadata. Because Avro-style schemas are formatted as JSON, Python can easily convert the schema to a dictionary structure so that we can access it programmatically. The morpc-common library contains a convenience function to load the schema and convert it to a dictionary."
   ]
  },
  {
   "cell_type": "code",
   "execution_count": null,
   "id": "5cac7338-abea-4268-9f72-d1b86e1a26d5",
   "metadata": {},
   "outputs": [],
   "source": [
    "schema = morpc.load_avro_schema(schemaPath)\n",
    "print(\"The fields in this dataset are: \" + \", \".join([field[\"name\"] for field in schema[\"fields\"]]))"
   ]
  },
  {
   "cell_type": "markdown",
   "id": "83a047b6-3e78-4a4b-a800-ae4e36d8d52c",
   "metadata": {},
   "source": [
    "The morpc-common library contains several convenience functions for interacting with Avro schemas.  One such function casts each of the fields in a dataset as the correct data type as specified in the schema."
   ]
  },
  {
   "cell_type": "code",
   "execution_count": null,
   "id": "c185f757-0c4b-4a32-af25-6bad949add1d",
   "metadata": {},
   "outputs": [],
   "source": [
    "data = morpc.cast_field_types(dataRaw, schema)"
   ]
  },
  {
   "cell_type": "markdown",
   "id": "2cedd8fc-343a-4155-8388-7b32b09e5a60",
   "metadata": {},
   "source": [
    "Now the data types should match the schema, regardless of what pandas inferred originally."
   ]
  },
  {
   "cell_type": "code",
   "execution_count": null,
   "id": "c3e7ba41-f94b-479a-8aac-f6eb55840ef6",
   "metadata": {},
   "outputs": [],
   "source": [
    "data.dtypes"
   ]
  },
  {
   "cell_type": "markdown",
   "id": "e15f1529-dbbc-45f2-abfd-cdd8b2dfcd0d",
   "metadata": {},
   "source": [
    "**A note about integers**  The pandas \"int\" dtype does not support null values.  If a field contains null values and you try to cast it as \"int\", this function will automatically attempt to convert them to \"Int64\" (which does support null values) instead.  If this fails, it might be because the fractional part of one of your values (i.e. the part to the right of the decimal point) is non-zero.  You can either round the values before attempting the conversion or set `forceInteger=True` when calling the function. In the latter case, the function will round the values to the ones place prior to recasting the values."
   ]
  },
  {
   "cell_type": "markdown",
   "id": "21fa6179-35cd-4d56-92cc-dcd4757ff72d",
   "metadata": {},
   "source": [
    "Here's another function that creates a list object containing the names of the fields included in the schema."
   ]
  },
  {
   "cell_type": "code",
   "execution_count": null,
   "id": "070b868d-242a-4344-8e5c-e0a56ac2e290",
   "metadata": {},
   "outputs": [],
   "source": [
    "morpc.avro_get_field_names(schema)"
   ]
  },
  {
   "cell_type": "markdown",
   "id": "4ceb84b8-5467-4090-b70a-f7f4b10194e1",
   "metadata": {},
   "source": [
    "This one returns a dictionary mapping each field name to its type."
   ]
  },
  {
   "cell_type": "code",
   "execution_count": null,
   "id": "d693c39a-8012-4509-b65d-f7b02b3019a7",
   "metadata": {},
   "outputs": [],
   "source": [
    "morpc.avro_to_pandas_dtype_map(schema)"
   ]
  },
  {
   "cell_type": "markdown",
   "id": "c7eccb30-8970-48aa-84f6-f4d857a1e1bc",
   "metadata": {},
   "source": [
    "Sometimes a variable may be referred to by different names. It is possible to list the alternate names in the schema using the \"aliases\" property. The following function creates a dictionary that maps the original field name to the first (and presumably most common) alias.  This can be used to easily rename the fields in the dataset for use in a different application."
   ]
  },
  {
   "cell_type": "code",
   "execution_count": null,
   "id": "f7c970c2-15ec-4c95-babc-c0c4c5bc3d91",
   "metadata": {},
   "outputs": [],
   "source": [
    "morpc.avro_map_to_first_alias(schema)"
   ]
  },
  {
   "cell_type": "markdown",
   "id": "26d1b004-751e-4549-8e20-8f8ca214476b",
   "metadata": {},
   "source": [
    "The following function does the reverse of the previous one, namely it creates a dictionary mapping the first alias to the original field name.  This can be useful to reverse the previous remapping.  It is also useful for Shapefiles, which have a ten-character field name limit.  In that case, you can store the human-readable field name as the original field name and store the Shapefile-compliant field name as an alias."
   ]
  },
  {
   "cell_type": "code",
   "execution_count": null,
   "id": "80fc00b5-0452-46e5-8029-44e303c62667",
   "metadata": {},
   "outputs": [],
   "source": [
    "morpc.avro_map_from_first_alias(schema)"
   ]
  },
  {
   "cell_type": "markdown",
   "id": "3f127537-13f1-484a-892d-62b1461cea8f",
   "metadata": {},
   "source": [
    "Using the schema dictionary and the helper functions, you can easily do transformations of the data.  Here are some examples. First, take a look at the original data."
   ]
  },
  {
   "cell_type": "code",
   "execution_count": null,
   "id": "4a8eaa49-ebf0-46d1-9d3b-f930615d572d",
   "metadata": {},
   "outputs": [],
   "source": [
    "data.head()"
   ]
  },
  {
   "cell_type": "markdown",
   "id": "f903a4c0-a04e-413b-b276-8e675e0ccf59",
   "metadata": {},
   "source": [
    "Rename the columns in the data to the first alias for each column."
   ]
  },
  {
   "cell_type": "code",
   "execution_count": null,
   "id": "bd1732b2-bda5-4c81-ade1-42a6145c20a2",
   "metadata": {},
   "outputs": [],
   "source": [
    "data.rename(columns=morpc.avro_map_to_first_alias(schema)).head()"
   ]
  },
  {
   "cell_type": "markdown",
   "id": "9fa85ce0-3f5e-4eb1-b9d9-8abc8466849d",
   "metadata": {},
   "source": [
    "Filter and reorder fields."
   ]
  },
  {
   "cell_type": "code",
   "execution_count": null,
   "id": "40eee3c0-7566-4af1-ba94-cfabb1d17a94",
   "metadata": {},
   "outputs": [],
   "source": [
    "reverseOrder = morpc.avro_get_field_names(schema)\n",
    "reverseOrder.reverse()\n",
    "data[reverseOrder].head()"
   ]
  },
  {
   "cell_type": "code",
   "execution_count": null,
   "id": "d542f3fb-7cf1-4839-b3cb-1bc558f83008",
   "metadata": {},
   "outputs": [],
   "source": [
    "oneLessField = morpc.avro_get_field_names(schema)\n",
    "oneLessField.remove(\"STATE_ID\")\n",
    "data[oneLessField].head()"
   ]
  }
 ],
 "metadata": {
  "kernelspec": {
   "display_name": "Python 3 (ipykernel)",
   "language": "python",
   "name": "python3"
  },
  "language_info": {
   "codemirror_mode": {
    "name": "ipython",
    "version": 3
   },
   "file_extension": ".py",
   "mimetype": "text/x-python",
   "name": "python",
   "nbconvert_exporter": "python",
   "pygments_lexer": "ipython3",
   "version": "3.11.11"
  },
  "toc-autonumbering": false,
  "toc-showcode": false,
  "toc-showmarkdowntxt": false,
  "toc-showtags": false
 },
 "nbformat": 4,
 "nbformat_minor": 5
}
