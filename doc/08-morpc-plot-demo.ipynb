{
 "cells": [
  {
   "cell_type": "markdown",
   "id": "1741716a",
   "metadata": {},
   "source": [
    "# Potting and Data Viz Tools"
   ]
  },
  {
   "cell_type": "code",
   "execution_count": null,
   "id": "7e9b0dff-940e-4828-8903-2a09d8c078ae",
   "metadata": {
    "tags": []
   },
   "outputs": [],
   "source": [
    "import pandas as pd\n",
    "import os\n",
    "import morpc"
   ]
  },
  {
   "cell_type": "markdown",
   "id": "c05f45fb-c695-45bb-aa93-1479468e4aa2",
   "metadata": {
    "editable": true,
    "jp-MarkdownHeadingCollapsed": true,
    "slideshow": {
     "slide_type": ""
    },
    "tags": []
   },
   "source": [
    "## Write data and charts to Excel"
   ]
  },
  {
   "cell_type": "markdown",
   "id": "db31669b-1435-4997-a50f-bc91458e8d3e",
   "metadata": {},
   "source": [
    "Excel-based charts are exceptionally useful to our customers because they are easy for our customers to manipulate, style, and include in downstream products such as PowerPoint slides.  They are, however, inconvenient to product programmatically.  The following functions are intended to simplify the production of Excel-based charts that are consistent with MORPC branding and, eventually, with Data & Mapping visualization standards."
   ]
  },
  {
   "cell_type": "markdown",
   "id": "2c692d47-74fb-461c-9828-41550c4d3ee5",
   "metadata": {
    "jp-MarkdownHeadingCollapsed": true
   },
   "source": [
    "### data_chart_to_excel( )"
   ]
  },
  {
   "cell_type": "markdown",
   "id": "4a99d5bf-47e7-4a6d-acfb-3df19a8646d1",
   "metadata": {},
   "source": [
    "This function will create an Excel worksheet consisting of the contents of a pandas dataframe (as a formatted table) and, optionally, a chart to visualize the series included in the dataframe.  The simplest invocation will produce a table and a basic column (vertical bar) chart with default formatting that is consistent with MORPC branding guidelines, however the user can specify many of options supported by the xlsxwriter library (https://xlsxwriter.readthedocs.io/).\n",
    "\n",
    "The following blocks demonstrates some simple use cases.  First, create a dataframe with demonstration data."
   ]
  },
  {
   "cell_type": "code",
   "execution_count": null,
   "id": "5ea0ffd9-1041-4b24-8b09-e05b22d4ab40",
   "metadata": {
    "tags": []
   },
   "outputs": [],
   "source": [
    "d = {'col1': [1, 2, 3, 4], 'col2':[3, 4, 5, 6]}\n",
    "df = pd.DataFrame(data=d)\n",
    "df"
   ]
  },
  {
   "cell_type": "markdown",
   "id": "eb7ff40a-1aa0-45b0-b86e-4ebf83062e19",
   "metadata": {},
   "source": [
    "Next create an Excel object using the xlsxwriter package.  The object is linked to an Excel workbook, as indicated by the path in the first argument."
   ]
  },
  {
   "cell_type": "code",
   "execution_count": null,
   "id": "cf124625-7fe5-4346-9bf5-2c07e92341e6",
   "metadata": {
    "tags": []
   },
   "outputs": [],
   "source": [
    "# Create a directory to store the output (for demonstration purposes only)\n",
    "if not os.path.exists(\"./temp_data\"):\n",
    "    os.makedirs(\"./temp_data\")\n",
    "\n",
    "writer = pd.ExcelWriter(\"./temp_data/dataChartToExcelOutput.xlsx\", engine='xlsxwriter')"
   ]
  },
  {
   "cell_type": "markdown",
   "id": "3800f13e-abf8-4571-ae83-aa7f13c8fe14",
   "metadata": {},
   "source": [
    "The following block will create a new worksheet in the Excel object which contains a table representing the dataframe and column chart displaying the series in the table.  The new worksheet will be called \"Sheet1\" since no sheet name was specified.  Default presentation settings will be used since we did not specify any settings.  This will result in a column (vertical bar) chart.\n",
    "\n",
    "**Note: You will not be able to view the spreadsheet itself until the writer object is closed in a later block.**"
   ]
  },
  {
   "cell_type": "code",
   "execution_count": null,
   "id": "5ac407fd-d680-48ed-9ca5-7dd8b8d4330d",
   "metadata": {
    "tags": []
   },
   "outputs": [],
   "source": [
    "morpc.data_chart_to_excel(df, writer)  "
   ]
  },
  {
   "cell_type": "markdown",
   "id": "fca33d47-92ed-4a2c-9ac3-2b5fddb185b2",
   "metadata": {},
   "source": [
    "The following block will add another worksheet to the xlsxwriter object.  This time we specified a sheet name (\"LineChart\") and a chart type (\"line\"), so the code will create the same table as the previous command but will produce a line chart instead of a column chart.  As before, the default presentation settings will be used."
   ]
  },
  {
   "cell_type": "code",
   "execution_count": null,
   "id": "acbbb2f3-4f7f-461a-a9fa-e6efb7f55e31",
   "metadata": {
    "tags": []
   },
   "outputs": [],
   "source": [
    "morpc.data_chart_to_excel(df, writer, sheet_name=\"LineChart\", chartType=\"line\")"
   ]
  },
  {
   "cell_type": "markdown",
   "id": "a93c7063-5949-4a05-8627-6aa183227c3a",
   "metadata": {},
   "source": [
    "The following block goes a step further and specifies a subtype for the chart.  Specifically it creates a stacked column chart.  As before, the default presentation settings will be used.  For more information about what chart types and subtypes are available, see https://xlsxwriter.readthedocs.io/workbook.html#workbook-add-chart.  The supported chart types as of this writing include column, bar, and line.  The stacked subtype has been minimally tested for column and bar charts.  Other chart types and subtypes may or may not work without further improvements to the function."
   ]
  },
  {
   "cell_type": "code",
   "execution_count": null,
   "id": "44cebac1-9cbd-45f9-99b0-6237ed6a05e9",
   "metadata": {
    "tags": []
   },
   "outputs": [],
   "source": [
    "morpc.data_chart_to_excel(df, writer, sheet_name=\"Stacked\", chartType=\"column\", chartOptions={\"subtype\":\"stacked\"})"
   ]
  },
  {
   "cell_type": "markdown",
   "id": "9d1f6c58-b5f7-423a-8f18-8d15dfa487a9",
   "metadata": {},
   "source": [
    "The next block demonstrates the \"bar\" (horiztontal bar) chart type and applies some custom presentation settings, specifically a set of user-specified colors and titles, and omission of the legend, which is displayed by default."
   ]
  },
  {
   "cell_type": "code",
   "execution_count": null,
   "id": "c3424eb5-79c0-4cde-bc19-dd75e5d7c1c3",
   "metadata": {
    "tags": []
   },
   "outputs": [],
   "source": [
    "morpc.data_chart_to_excel(df, writer, sheet_name=\"Custom\", chartType=\"bar\", chartOptions={\n",
    "    \"colors\": [\"cyan\",\"magenta\"],                   # Specify a custom color\n",
    "    \"hideLegend\": True,                             # Hide the legend\n",
    "    \"titles\": {                                     # Specify the chart title and axis titles\n",
    "        \"chartTitle\": \"My Chart\",\n",
    "        \"xTitle\": \"My independent variable\",\n",
    "        \"yTitle\": \"My dependent variable\",\n",
    "    }\n",
    "})"
   ]
  },
  {
   "cell_type": "markdown",
   "id": "bad4a08d-b266-443d-ae14-fc332466088f",
   "metadata": {},
   "source": [
    "Finally, we have to close the xlsxwriter object to finalize the Excel workbook and make it readable."
   ]
  },
  {
   "cell_type": "code",
   "execution_count": null,
   "id": "a95ef69e-ed3d-432b-908b-85ef475ca6f7",
   "metadata": {
    "tags": []
   },
   "outputs": [],
   "source": [
    "writer.close()"
   ]
  },
  {
   "cell_type": "markdown",
   "id": "a5c4c89d-d3f4-4881-a859-fde7d63c9858",
   "metadata": {},
   "source": [
    "Now you should be able to open the Excel document at `./temp_data/dataChartToExcelOutput.xlsx`\n",
    "\n",
    "Note that many more customizations are possible.  To learn more, uncomment and run the following block, or enter the command in your own notebook or a Python interpreter."
   ]
  },
  {
   "cell_type": "markdown",
   "id": "a678f32e-073a-469d-a1eb-624bd09b16ca",
   "metadata": {},
   "source": [
    "![\"A screenshop of the resulting Excel worksheet\"]('/temp_data/Screenshot 2025-06-03 080403.png')"
   ]
  },
  {
   "cell_type": "code",
   "execution_count": null,
   "id": "5d7313ae-2466-4610-bf1d-49ef399647b8",
   "metadata": {
    "tags": []
   },
   "outputs": [],
   "source": [
    "# help(morpc.data_chart_to_excel)"
   ]
  },
  {
   "cell_type": "markdown",
   "id": "16abffe4",
   "metadata": {},
   "source": [
    "## Plot from Resource (in development)\n",
    "\n",
    "Plot a graph or chart from a frictionless resource based on schema and data types. "
   ]
  },
  {
   "cell_type": "code",
   "execution_count": 1,
   "id": "f9e26076",
   "metadata": {},
   "outputs": [],
   "source": [
    "import morpc"
   ]
  },
  {
   "cell_type": "markdown",
   "id": "0e4c8328",
   "metadata": {},
   "source": [
    "### Build a sample resource file."
   ]
  },
  {
   "cell_type": "code",
   "execution_count": 2,
   "id": "c92908b1",
   "metadata": {},
   "outputs": [
    {
     "name": "stdout",
     "output_type": "stream",
     "text": [
      "morpc.frictionless.load_data | INFO | Loading Frictionless Resource file at location ..\\..\\morpc-pop-collect\\output_data\\morpc-pop-collect.resource.yaml\n",
      "morpc.frictionless.load_data | INFO | Using schema path specified in resource file.\n",
      "morpc.frictionless.load_data | INFO | Loading data, resource file, and schema (if applicable) from their source locations\n",
      "morpc.frictionless.load_data | INFO | --> Data file: ..\\..\\morpc-pop-collect\\output_data\\morpc-pop-collect.csv\n",
      "morpc.frictionless.load_data | INFO | --> Resource file: ..\\..\\morpc-pop-collect\\output_data\\morpc-pop-collect.resource.yaml\n",
      "morpc.frictionless.load_data | INFO | --> Schema file: ..\\..\\morpc-pop-collect\\output_data\\morpc-pop-collect.schema.yaml\n",
      "morpc.frictionless.load_data | INFO | Loading data.\n",
      "cast_field_types | INFO | Casting field POP as type integer.\n",
      "cast_field_types | INFO | Casting field GEOIDFQ as type string.\n",
      "cast_field_types | INFO | Casting field SUMLEVEL as type string.\n",
      "cast_field_types | INFO | Casting field REFERENCE_PERIOD as type date.\n",
      "cast_field_types | INFO | Casting field REFERENCE_PERIOD_FREQ as type string.\n",
      "cast_field_types | INFO | Casting field VINTAGE_PERIOD as type string.\n",
      "cast_field_types | INFO | Casting field VINTAGE_PERIOD_FREQ as type string.\n",
      "cast_field_types | INFO | Casting field VALUE_TYPE as type string.\n",
      "cast_field_types | INFO | Casting field CONF_LEVEL as type number.\n",
      "cast_field_types | INFO | Casting field CONF_LIMIT_UPPER as type integer.\n",
      "cast_field_types | WARNING | Failed conversion of fieldname CONF_LIMIT_UPPER to type 'int'.  Trying type 'Int64' instead.\n",
      "cast_field_types | INFO | Casting field CONF_LIMIT_LOWER as type integer.\n",
      "cast_field_types | WARNING | Failed conversion of fieldname CONF_LIMIT_LOWER to type 'int'.  Trying type 'Int64' instead.\n",
      "cast_field_types | INFO | Casting field SOURCE as type string.\n",
      "cast_field_types | INFO | Casting field LAST_UPDATED as type date.\n"
     ]
    }
   ],
   "source": [
    "df, resource, schema = morpc.frictionless.load_data('../../morpc-pop-collect/output_data/morpc-pop-collect.resource.yaml')"
   ]
  },
  {
   "cell_type": "code",
   "execution_count": 17,
   "id": "df84136c-2870-4cb8-8c0e-61a3245b97fb",
   "metadata": {},
   "outputs": [],
   "source": [
    "import datetime"
   ]
  },
  {
   "cell_type": "code",
   "execution_count": 21,
   "id": "15df838b-52fa-4e90-a2b5-6893cd762de9",
   "metadata": {},
   "outputs": [
    {
     "data": {
      "text/plain": [
       "True"
      ]
     },
     "execution_count": 21,
     "metadata": {},
     "output_type": "execute_result"
    }
   ],
   "source": [
    "isinstance(df['REFERENCE_PERIOD'][0], datetime.datetime)"
   ]
  },
  {
   "cell_type": "code",
   "execution_count": 3,
   "id": "dfd1875f-9f1a-4f8b-bf41-3c899ceefcc8",
   "metadata": {},
   "outputs": [
    {
     "ename": "TypeError",
     "evalue": "'<' not supported between instances of 'Timedelta' and 'int'",
     "output_type": "error",
     "traceback": [
      "\u001b[31m---------------------------------------------------------------------------\u001b[39m",
      "\u001b[31mTypeError\u001b[39m                                 Traceback (most recent call last)",
      "\u001b[36mCell\u001b[39m\u001b[36m \u001b[39m\u001b[32mIn[3]\u001b[39m\u001b[32m, line 1\u001b[39m\n\u001b[32m----> \u001b[39m\u001b[32m1\u001b[39m \u001b[43mmorpc\u001b[49m\u001b[43m.\u001b[49m\u001b[43mplot\u001b[49m\u001b[43m.\u001b[49m\u001b[43mfrom_resource\u001b[49m\u001b[43m(\u001b[49m\u001b[43mdf\u001b[49m\u001b[43m,\u001b[49m\u001b[43m \u001b[49m\u001b[43mresource\u001b[49m\u001b[43m,\u001b[49m\u001b[43m \u001b[49m\u001b[43mschema\u001b[49m\u001b[43m,\u001b[49m\u001b[43m \u001b[49m\u001b[33;43m'\u001b[39;49m\u001b[33;43mREFERENCE_PERIOD\u001b[39;49m\u001b[33;43m'\u001b[39;49m\u001b[43m,\u001b[49m\u001b[43m \u001b[49m\u001b[33;43m'\u001b[39;49m\u001b[33;43mPOP\u001b[39;49m\u001b[33;43m'\u001b[39;49m\u001b[43m)\u001b[49m\n",
      "\u001b[36mFile \u001b[39m\u001b[32m~\\OneDrive - Mid-Ohio Regional Planning Commission\\Local Repo\\morpc-py\\morpc\\plot\\plot.py:62\u001b[39m, in \u001b[36mfrom_resource.__init__\u001b[39m\u001b[34m(self, data, resource, schema, x, y)\u001b[39m\n\u001b[32m     59\u001b[39m \u001b[38;5;28mself\u001b[39m.plot = (pn.ggplot()\n\u001b[32m     60\u001b[39m              + pn.theme_bw())\n\u001b[32m     61\u001b[39m \u001b[38;5;28mself\u001b[39m.title = resource.title\n\u001b[32m---> \u001b[39m\u001b[32m62\u001b[39m \u001b[38;5;28mself\u001b[39m.xscale = \u001b[38;5;28;43mself\u001b[39;49m\u001b[43m.\u001b[49m\u001b[43mget_xaxis\u001b[49m\u001b[43m(\u001b[49m\u001b[43m)\u001b[49m\n\u001b[32m     63\u001b[39m \u001b[38;5;28mself\u001b[39m.yscale = \u001b[38;5;28mself\u001b[39m.get_yaxis()\n",
      "\u001b[36mFile \u001b[39m\u001b[32m~\\OneDrive - Mid-Ohio Regional Planning Commission\\Local Repo\\morpc-py\\morpc\\plot\\plot.py:84\u001b[39m, in \u001b[36mfrom_resource.get_xaxis\u001b[39m\u001b[34m(self)\u001b[39m\n\u001b[32m     82\u001b[39m \u001b[38;5;28;01mimport\u001b[39;00m\u001b[38;5;250m \u001b[39m\u001b[34;01mmizani\u001b[39;00m\n\u001b[32m     83\u001b[39m diff = \u001b[38;5;28mself\u001b[39m.data[\u001b[38;5;28mself\u001b[39m.x.name].max() - \u001b[38;5;28mself\u001b[39m.data[\u001b[38;5;28mself\u001b[39m.x.name].min()\n\u001b[32m---> \u001b[39m\u001b[32m84\u001b[39m \u001b[38;5;28;01mif\u001b[39;00m \u001b[43mdiff\u001b[49m\u001b[43m \u001b[49m\u001b[43m<\u001b[49m\u001b[43m \u001b[49m\u001b[32;43m10\u001b[39;49m:\n\u001b[32m     85\u001b[39m     breaks = mizani.breaks.breaks_date(width = \u001b[33m\"\u001b[39m\u001b[33m1 year\u001b[39m\u001b[33m\"\u001b[39m)\n\u001b[32m     86\u001b[39m \u001b[38;5;28;01mif\u001b[39;00m diff >= \u001b[32m10\u001b[39m:\n",
      "\u001b[31mTypeError\u001b[39m: '<' not supported between instances of 'Timedelta' and 'int'"
     ]
    }
   ],
   "source": [
    "morpc.plot.from_resource(df, resource, schema, 'REFERENCE_PERIOD', 'POP')"
   ]
  },
  {
   "cell_type": "code",
   "execution_count": null,
   "id": "9e46c7f3-54c9-42c7-b219-c1f4aecd0eb4",
   "metadata": {},
   "outputs": [],
   "source": []
  }
 ],
 "metadata": {
  "kernelspec": {
   "display_name": "Python 3 (ipykernel)",
   "language": "python",
   "name": "python3"
  },
  "language_info": {
   "codemirror_mode": {
    "name": "ipython",
    "version": 3
   },
   "file_extension": ".py",
   "mimetype": "text/x-python",
   "name": "python",
   "nbconvert_exporter": "python",
   "pygments_lexer": "ipython3",
   "version": "3.12.10"
  }
 },
 "nbformat": 4,
 "nbformat_minor": 5
}
