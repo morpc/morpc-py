{
 "cells": [
  {
   "cell_type": "markdown",
   "id": "67dd235a-bfeb-4083-9dbf-c2ea640fd7e9",
   "metadata": {},
   "source": [
    "# Census Data Tools"
   ]
  },
  {
   "cell_type": "markdown",
   "id": "7b8b20ce-a5fa-462f-bede-0ef5e2ae6bb5",
   "metadata": {
    "editable": true,
    "slideshow": {
     "slide_type": ""
    },
    "tags": []
   },
   "source": [
    "MORPC works regularly with census data, including but not limited to ACS 5 and 1-year, Decennial Census, PEP, and geographies. The following module is useful for gathering and organizing census data for processes in various workflow. Those workflows are linked when appropriate. "
   ]
  },
  {
   "cell_type": "code",
   "execution_count": null,
   "id": "05fed715-960a-4ffe-95da-bf3a79b542dd",
   "metadata": {},
   "outputs": [],
   "source": [
    "import morpc"
   ]
  },
  {
   "cell_type": "markdown",
   "id": "b0b85d64-d991-4a4e-ad00-f6658aa82106",
   "metadata": {
    "editable": true,
    "slideshow": {
     "slide_type": ""
    },
    "tags": []
   },
   "source": [
    "## API functions and variables"
   ]
  },
  {
   "cell_type": "markdown",
   "id": "f7633fa8-5a34-4a92-b03f-eb6588706ba6",
   "metadata": {
    "editable": true,
    "slideshow": {
     "slide_type": ""
    },
    "tags": []
   },
   "source": [
    "api_get() is a low-level wrapper for Census API requests that returns the results as a pandas dataframe. If necessary, it splits the request into several smaller requests to bypass the 50-variable limit imposed by the API.  \n",
    "\n",
    "The resulting dataframe is indexed by GEOID (regardless of whether it was requested) and omits other fields that are not requested but which are returned automatically with each API request (e.g. \"state\", \"county\") "
   ]
  },
  {
   "cell_type": "code",
   "execution_count": null,
   "id": "c4427da4-0688-4df4-869a-2c3c0bd7ac24",
   "metadata": {
    "editable": true,
    "slideshow": {
     "slide_type": ""
    },
    "tags": []
   },
   "outputs": [],
   "source": [
    "url = 'https://api.census.gov/data/2022/acs/acs1'\n",
    "params = {\n",
    "    \"get\": \"GEO_ID,NAME,B01001_001E\",\n",
    "    \"for\": \"county:049,041\",\n",
    "    \"in\": \"state:39\"\n",
    "}"
   ]
  },
  {
   "cell_type": "code",
   "execution_count": null,
   "id": "6e899568-1d61-48f6-8bf7-40107991ee11",
   "metadata": {
    "editable": true,
    "slideshow": {
     "slide_type": ""
    },
    "tags": []
   },
   "outputs": [],
   "source": [
    "api = morpc.census.api_get(url, params)"
   ]
  },
  {
   "cell_type": "code",
   "execution_count": null,
   "id": "47d8fe18-7e1b-4637-b5e1-e07536ba5b59",
   "metadata": {
    "editable": true,
    "slideshow": {
     "slide_type": ""
    },
    "tags": []
   },
   "outputs": [],
   "source": [
    "api"
   ]
  },
  {
   "cell_type": "markdown",
   "id": "9c6072a9-4769-4119-81e8-3d84fdff2461",
   "metadata": {
    "editable": true,
    "slideshow": {
     "slide_type": ""
    },
    "tags": []
   },
   "source": [
    "## American Community Survey (ACS) Data Class"
   ]
  },
  {
   "cell_type": "markdown",
   "id": "5e3446b3-9ab5-47c0-b43d-9037a242318d",
   "metadata": {
    "editable": true,
    "slideshow": {
     "slide_type": ""
    },
    "tags": []
   },
   "source": [
    "When using ACS data, generally we will be digesting data produded using the [morpc-censusacs-fetch](https://github.com/morpc/morpc-censusacs-fetch) workflow. The data that is produced from that script is by default saved in its output_data folders ./morpc-censusacs-fetch/output_data/\n",
    "\n",
    "The Census ACS Fetch script leverages the `acs_data` class form `morpc.census`\n"
   ]
  },
  {
   "cell_type": "markdown",
   "id": "608f1325-7628-4406-ab85-57c2cdc1edcf",
   "metadata": {},
   "source": [
    "### Create an initial object which represents a variable in the ACS data api."
   ]
  },
  {
   "cell_type": "markdown",
   "id": "17518b8d-f37a-4d76-a9b7-28164604dddb",
   "metadata": {},
   "source": [
    "The class takes 3 arguments:\n",
    "\n",
    "1. variable group number\n",
    "2. the year\n",
    "3. the type of survey (1 or 5 year estimates)"
   ]
  },
  {
   "cell_type": "code",
   "execution_count": null,
   "id": "22dcb446-8eff-45e7-89b4-9f910ed34340",
   "metadata": {},
   "outputs": [],
   "source": [
    "from morpc.census import acs_data"
   ]
  },
  {
   "cell_type": "code",
   "execution_count": null,
   "id": "2e12e814-e097-4448-9b13-321d63c2ee7a",
   "metadata": {},
   "outputs": [],
   "source": [
    "acs = acs_data('B01001', '2023', '5')"
   ]
  },
  {
   "cell_type": "markdown",
   "id": "6467c2db-d69d-4bbd-bb44-99f36d62be5a",
   "metadata": {},
   "source": [
    "The initial call creates queries the Census for the variable definitions and returns a dictionary of the available variables in the group. see `acs.VARS`"
   ]
  },
  {
   "cell_type": "code",
   "execution_count": null,
   "id": "e29bca9d-9b85-4ab2-b74e-039721b32b06",
   "metadata": {},
   "outputs": [],
   "source": [
    "acs.VARS"
   ]
  },
  {
   "cell_type": "markdown",
   "id": "c6784034",
   "metadata": {},
   "source": [
    "The initial call alse fetchs a list of dimensions from a cached json file in ./morpc/census/acs_variable_group.json and is stored in morpc.census.ACS_VAR_GROUPS.\n",
    "\n",
    "#### Manual verfication for variable dimension names. \n",
    "\n",
    "The list of dimensions are automatically created from the Census Variable labels and need verified before being used. If the dimesion names have not be verified, the will not be stored. Navigate to the JSON and check to make sure that there are the correct number of dimension and that they are in the correct order. Change the verfication field to `true`."
   ]
  },
  {
   "cell_type": "code",
   "execution_count": null,
   "id": "5e1a974e",
   "metadata": {},
   "outputs": [],
   "source": [
    "acs.DIMENSIONS"
   ]
  },
  {
   "cell_type": "markdown",
   "id": "b5a82123-0904-4430-a373-637d86f0ed4c",
   "metadata": {},
   "source": [
    "### Query the API for the deisred variables and geography"
   ]
  },
  {
   "cell_type": "markdown",
   "id": "a0dd814f-3173-4ca0-91c6-1d1ee792d4cf",
   "metadata": {},
   "source": [
    "The `.query()` method queries the API and caches the data in memory under `acs.DATA`. At the same time it creates a frictionless schema that corrosponds with the data. \n",
    "\n",
    "#### scope:\n",
    "These are pre-defined sumlevels and scopes for commonly queried geographies. see `morpc.census.SCOPES`."
   ]
  },
  {
   "cell_type": "code",
   "execution_count": null,
   "id": "6edc98dd-d4ee-4463-924b-6e50414c9f91",
   "metadata": {},
   "outputs": [],
   "source": [
    "acs = acs.query(for_param='county:*', in_param='state:39')"
   ]
  },
  {
   "cell_type": "markdown",
   "id": "9d60a57d-c492-4709-b902-f3e4b6e330f0",
   "metadata": {},
   "source": [
    "### For custom queries, use for and in parameters to pass to api query. \n",
    "\n",
    "#### for_param:\n",
    "(optional) The geographies for which to call the the query \"state:*\" represents all states. \"state:39\" represent Ohio.\n",
    "\n",
    "#### in_param:\n",
    "(optional) A filter for the for parameter. In combinations this allows you do call for small geograhpies inside larger ones. \n",
    "\n",
    "> Examples: for_param=\"county:\\*\", in_param=\"state:39\" would get all counties in Ohio.\n",
    "> for_param=\"tract:\\*\", in_param='state:39,county:041,049' gets all census tracts in Delaware and Franklin Counties.\n",
    "\n",
    "### Filter the variables using the get parameter\n",
    "\n",
    "#### get_param:\n",
    "(Optional) If you want to return a subset of variables, they can be passed here as a list."
   ]
  },
  {
   "cell_type": "markdown",
   "id": "64db52d7-696d-4b1f-b200-a586e8f7541d",
   "metadata": {},
   "source": [
    "### Dimension Tables"
   ]
  },
  {
   "cell_type": "markdown",
   "id": "dc697c71-0e23-482c-80f0-a7fa5fbae7ec",
   "metadata": {},
   "source": [
    "When the query is called the class makes table with the dimensions included that can be used to get summaries of the data. \n",
    "\n",
    "This can be used to get quick queries for summaries. "
   ]
  },
  {
   "cell_type": "code",
   "execution_count": null,
   "id": "7a572723-76b7-4b9f-b8ab-fce516b7b5e8",
   "metadata": {},
   "outputs": [],
   "source": [
    "acs.DIM_TABLE.LONG"
   ]
  },
  {
   "cell_type": "code",
   "execution_count": null,
   "id": "7f1de0fc-b51c-420c-9ec1-8469d8702da3",
   "metadata": {},
   "outputs": [],
   "source": [
    "acs.DIM_TABLE.WIDE"
   ]
  },
  {
   "cell_type": "code",
   "execution_count": null,
   "id": "fde29a8e-09d5-4ee4-9bc5-4c9119e7a6c9",
   "metadata": {},
   "outputs": [],
   "source": [
    "acs.DIM_TABLE.PERCENT"
   ]
  },
  {
   "cell_type": "markdown",
   "id": "a4338f6c-872e-4608-8175-1626df78ec53",
   "metadata": {},
   "source": [
    "### Save raw data (not dim table) as a frictionless resource with schema"
   ]
  },
  {
   "cell_type": "markdown",
   "id": "96f11ecb-e9c3-43d2-9187-8a680038b27a",
   "metadata": {},
   "source": [
    "After querying the data, save the data as a frictionless resource with reasonable descriptors. "
   ]
  },
  {
   "cell_type": "code",
   "execution_count": null,
   "id": "76d44f80-a9a0-48ca-a2d7-b217c75a0dcc",
   "metadata": {},
   "outputs": [],
   "source": [
    "acs.save(output_dir='./temp_data/')"
   ]
  },
  {
   "cell_type": "code",
   "execution_count": null,
   "id": "7e6079d5-ec01-442c-9827-4a321594591b",
   "metadata": {},
   "outputs": [],
   "source": [
    "acs.SCHEMA"
   ]
  },
  {
   "cell_type": "code",
   "execution_count": null,
   "id": "d012a105",
   "metadata": {},
   "outputs": [],
   "source": [
    "acs.RESOURCE"
   ]
  },
  {
   "cell_type": "markdown",
   "id": "a4f53b78",
   "metadata": {},
   "source": [
    "## Load data from cached file"
   ]
  },
  {
   "cell_type": "code",
   "execution_count": null,
   "id": "d034151c",
   "metadata": {},
   "outputs": [],
   "source": [
    "import morpc"
   ]
  },
  {
   "cell_type": "code",
   "execution_count": null,
   "id": "01f022b9",
   "metadata": {},
   "outputs": [],
   "source": [
    "acs = morpc.census.ACS('B25010', '2023', '5').load(scope='region15-tracts', dirname='./temp_data/')"
   ]
  },
  {
   "cell_type": "markdown",
   "id": "819c850a-7143-4468-bb19-476b6d6450db",
   "metadata": {},
   "source": [
    "## Georeference the data to map"
   ]
  },
  {
   "cell_type": "markdown",
   "id": "a6c4aac2",
   "metadata": {},
   "source": [
    "Add geometries by joining GEOS to DATA."
   ]
  },
  {
   "cell_type": "code",
   "execution_count": null,
   "id": "11bcd97b-a331-4085-8d37-db796aa5e4c5",
   "metadata": {},
   "outputs": [],
   "source": [
    "acs.GEOS"
   ]
  },
  {
   "cell_type": "code",
   "execution_count": null,
   "id": "9cbce405-4e35-44be-8816-68d40703c4a9",
   "metadata": {},
   "outputs": [],
   "source": [
    "import geopandas as gpd\n",
    "acs.DATA = gpd.GeoDataFrame(acs.DATA.join(acs.GEOS), geometry='geometry')"
   ]
  },
  {
   "cell_type": "code",
   "execution_count": null,
   "id": "bcfb3cdb",
   "metadata": {},
   "outputs": [],
   "source": [
    "acs.DATA.plot(column='B01001_002E')"
   ]
  },
  {
   "cell_type": "markdown",
   "id": "ef53450e-c7b9-453b-9683-75acff882e7f",
   "metadata": {},
   "source": [
    "## Use the built in .explore() method to view a map of all the columns in data"
   ]
  },
  {
   "cell_type": "code",
   "execution_count": null,
   "id": "7ae2cd65-d912-4494-ad9c-b923c17b5245",
   "metadata": {},
   "outputs": [],
   "source": [
    "acs.explore(table='PERCENTS')"
   ]
  },
  {
   "cell_type": "code",
   "execution_count": null,
   "id": "cec6d81e",
   "metadata": {},
   "outputs": [],
   "source": [
    "acs.MAP"
   ]
  },
  {
   "cell_type": "markdown",
   "id": "c8abb503",
   "metadata": {},
   "source": [
    "## Using the rest_api module to fetch geometry data from Census API"
   ]
  },
  {
   "cell_type": "code",
   "execution_count": null,
   "id": "a54bd601",
   "metadata": {},
   "outputs": [],
   "source": [
    "import morpc.rest_api as rest_api\n",
    "import morpc.census as census"
   ]
  },
  {
   "cell_type": "code",
   "execution_count": null,
   "id": "757df069",
   "metadata": {},
   "outputs": [],
   "source": [
    "\n",
    "url =  rest_api.get_layer_url(2024, 'county subdivisions', survey='ACS')\n",
    "\n",
    "query = \"STATE = '39' and COUNTY = '049'\"\n",
    "\n",
    "resource = rest_api.resource(\n",
    "    name = 'morpc-franklin-tracts',\n",
    "    url = url,\n",
    "    where = query,\n",
    "    max_record_count=500\n",
    ")"
   ]
  },
  {
   "cell_type": "code",
   "execution_count": null,
   "id": "6b38b742",
   "metadata": {},
   "outputs": [],
   "source": [
    "gdf = rest_api.gdf_from_resource(resource)"
   ]
  },
  {
   "cell_type": "markdown",
   "id": "a4f1ebbf-3887-454b-9477-8154bb74f4cc",
   "metadata": {},
   "source": [
    "## Below should still be functional, but hoping to implement into ACS class"
   ]
  },
  {
   "cell_type": "markdown",
   "id": "191c40a3-88c8-443b-ad19-d6ac6913f322",
   "metadata": {
    "editable": true,
    "slideshow": {
     "slide_type": ""
    },
    "tags": []
   },
   "source": [
    "#### Load the data using frictionless.load_data()"
   ]
  },
  {
   "cell_type": "code",
   "execution_count": null,
   "id": "9b337ead-831e-4e03-98c5-62c5e8727136",
   "metadata": {
    "editable": true,
    "slideshow": {
     "slide_type": ""
    },
    "tags": []
   },
   "outputs": [],
   "source": [
    "data, resource, schema = morpc.frictionless.load_data('./temp_data/morpc-acs5-2023-state-B01001.resource.yaml', verbose=False)"
   ]
  },
  {
   "cell_type": "markdown",
   "id": "0fe8041e-fe36-4151-92d3-08e0c1a8e4ae",
   "metadata": {
    "editable": true,
    "slideshow": {
     "slide_type": ""
    },
    "tags": []
   },
   "source": [
    "#### Using ACS_ID_FIELDS to get the fields ids"
   ]
  },
  {
   "cell_type": "code",
   "execution_count": null,
   "id": "f82a9578-0a3a-4398-b0fd-b15bb9dbe9f6",
   "metadata": {
    "editable": true,
    "slideshow": {
     "slide_type": ""
    },
    "tags": []
   },
   "outputs": [],
   "source": [
    "morpc.census.acs_generate_universe_table(data.set_index(\"GEO_ID\"), \"B01001_001\")"
   ]
  },
  {
   "cell_type": "markdown",
   "id": "6a74b3d1-2458-4b02-944c-a9ab17257b7c",
   "metadata": {
    "editable": true,
    "slideshow": {
     "slide_type": ""
    },
    "tags": []
   },
   "source": [
    "#### Create a dimension table with the data and the dimension names"
   ]
  },
  {
   "cell_type": "code",
   "execution_count": null,
   "id": "0522e9a1-7a52-4e72-a0d0-f5ccf1571bcb",
   "metadata": {
    "editable": true,
    "slideshow": {
     "slide_type": ""
    },
    "tags": []
   },
   "outputs": [],
   "source": [
    "dim_table = morpc.census.acs_generate_dimension_table(data.set_index(\"GEO_ID\"), schema, idFields=idFields, dimensionNames=[\"Sex\", \"Age group\"])"
   ]
  },
  {
   "cell_type": "code",
   "execution_count": null,
   "id": "2703597a-da40-4636-8d24-31832903b911",
   "metadata": {
    "editable": true,
    "slideshow": {
     "slide_type": ""
    },
    "tags": []
   },
   "outputs": [],
   "source": [
    "dim_table.loc[dim_table['Variable type'] == 'Estimate'].head()"
   ]
  },
  {
   "cell_type": "markdown",
   "id": "2f31993a-9656-4b4f-8e6e-590a24a6f7e8",
   "metadata": {},
   "source": [
    "### Build ACS Variable Group JSON for Dimension names"
   ]
  },
  {
   "cell_type": "code",
   "execution_count": null,
   "id": "d39f1199",
   "metadata": {},
   "outputs": [],
   "source": [
    "# import requests\n",
    "# import pandas as pd\n",
    "# from numpy import nan\n",
    "# from IPython.display import clear_output\n",
    "\n",
    "# r = requests.get('https://api.census.gov/data/2023/acs/acs5/variables.json')\n",
    "# varjson = r.json()\n",
    "\n",
    "# groups = {}\n",
    "# for variable in varjson['variables']:\n",
    "#     if variable not in ['for', 'in', 'ucgid', 'GEO_ID', 'AIANHH', 'AIHHTL', 'AIRES', 'ANRC']:\n",
    "#         group = varjson['variables'][variable]['group']\n",
    "#         if not group[-1].isalpha():\n",
    "#             if group not in groups:\n",
    "#                 groups[group] = {}\n",
    "#                 groups[group]['concept'] = varjson['variables'][variable]['concept']\n",
    "#                 variables = {}\n",
    "#                 for variable in varjson['variables']:\n",
    "#                     if varjson['variables'][variable]['group'] == group:\n",
    "#                         variables[variable] = varjson['variables'][variable]['label'].replace(\":\",\"\").split('Estimate!!')[-1].split('!!')\n",
    "#                 variables = {k: v for k, v in sorted(variables.items(), key=lambda item: item[0])}\n",
    "#                 groups[group]['variables'] = variables\n",
    "# groups = {k: v for k, v in sorted(groups.items(), key=lambda item: item[0])}\n",
    "# for group in groups:\n",
    "#     print(group)\n",
    "#     clear_output(wait=True)\n",
    "#     variables = groups[group]['variables']\n",
    "#     var_list = [v for k, v in variables.items()]\n",
    "#     var_df = pd.DataFrame(var_list)\n",
    "#     var_set = set([item for sublist in var_list for item in sublist])\n",
    "#     var_set.discard('')\n",
    "#     var_columns = {}\n",
    "#     for var in var_set:\n",
    "#         var_columns[var] = {}\n",
    "#         for column in var_df.columns:\n",
    "#             if var in var_df[column].value_counts():\n",
    "#                 count = var_df[column].value_counts()[var]\n",
    "#                 var_columns[var][column] = count\n",
    "#     column_map = {}\n",
    "#     for column in var_columns:\n",
    "#         column_map[column] = max(var_columns[column], key=var_columns[column].get)\n",
    "#     for k, v in column_map.items():\n",
    "#         for column in var_df.columns:\n",
    "#             for i, row in var_df.iterrows():\n",
    "#                 if var_df.iloc[i, column] == k:\n",
    "#                     var_df.iloc[i, column] = None\n",
    "#                     var_df.iloc[i, v] = k\n",
    "#                     var_df = var_df.replace(nan, '-')\n",
    "#     var_dict = {}\n",
    "#     for i, row in var_df.iterrows():\n",
    "#         var_dict[[x for x in variables.keys()][i]] = row.to_list()\n",
    "#     groups[group] = var_dict"
   ]
  },
  {
   "cell_type": "code",
   "execution_count": null,
   "id": "e33f4b60-c466-45be-b3e8-cb88e8df1235",
   "metadata": {},
   "outputs": [],
   "source": [
    "# import json\n",
    "# with open('../morpc/census/acs_variable_groups_v2.json', 'w') as file:\n",
    "#     json.dump(groups, file, indent=2)"
   ]
  },
  {
   "cell_type": "code",
   "execution_count": 1,
   "id": "ac89f787",
   "metadata": {},
   "outputs": [],
   "source": [
    "import morpc"
   ]
  },
  {
   "cell_type": "code",
   "execution_count": 4,
   "id": "11aab1e5",
   "metadata": {},
   "outputs": [
    {
     "name": "stdout",
     "output_type": "stream",
     "text": [
      "MESSAGE | morpc.census.ACS.init | Initializing ACS object for B02001 for 2023 ACS 5-year survey ...\n",
      "MESSAGE | morpc.census.ACS.init | Loading variable dictionary for B02001 for 5-year survey in 2023...\n",
      "MESSAGE | morpc.census.ACS.query | Querying data for B02001 for 5-year survey in 2023...\n",
      "MESSAGE | morpc.census.ACS.query | NAME set to morpc-acs5-2023-custom-b02001-20250827...\n",
      "MESSAGE | morpc.census.ACS.define_schema | Defining schema for B02001 for 5-year survey in 2023...\n",
      "MESSAGE | morpc.census.ACS.define_schema | Schema is valid.\n",
      "MESSAGE | morpc.census.ACS.query | Querying data from https://api.census.gov/data/2023/acs/acs5 with parameters: /n/n {'get': 'GEO_ID,NAME,B02001_001E,B02001_001M,B02001_002E,B02001_002M,B02001_003E,B02001_003M,B02001_004E,B02001_004M,B02001_005E,B02001_005M,B02001_006E,B02001_006M,B02001_007E,B02001_007M,B02001_008E,B02001_008M,B02001_009E,B02001_009M,B02001_010E,B02001_010M', 'for': 'county:*', 'in': 'state:39'}...\n",
      "Total variables requested: 22\n",
      "Starting request #1. 22 variables remain.\n",
      "Starting request #2. 3 variables remain.\n",
      "MESSAGE | morpc.census.ACS.query | Wrangling data types and building dimension tables...\n",
      "MESSAGE | morpc.census.DimensionTable.define_long | Creating long format table.\n",
      "MESSAGE | morpc.census.DimensionTable.define_long | Creating description table.\n",
      "MESSAGE | morpc.census.DimensionTable.define_long | Using default dimension names: DIM_0, DIM_1, DIM_2.\n",
      "MESSAGE | morpc.census.DimensionTable.define_long | Replacing missing values with NaN...\n",
      "MESSAGE | morpc.census.DimensionTable.define_wide | Creating wide format table.\n",
      "MESSAGE | morpc.census.DimensionTable.define_percent | Creating percent table.\n",
      "MESSAGE | morpc.census.ACS.query | Fetching geometries...\n",
      "MESSAGE | morpc.census.fetch_geos | Fetching geometries for counties (050)...\n",
      "MESSAGE | morpc.census.fetch_geos | Combining geometries...\n"
     ]
    }
   ],
   "source": [
    "acs = morpc.census.ACS('B02001', 2023, 5).query(for_param='county:*', in_param='state:39')"
   ]
  },
  {
   "cell_type": "code",
   "execution_count": 5,
   "id": "c6e66a75",
   "metadata": {},
   "outputs": [
    {
     "name": "stdout",
     "output_type": "stream",
     "text": [
      "MESSAGE | morpc.census.ACS.explore | Joining geometries to data...\n",
      "MESSAGE | morpc.census.ACS.explore | Creating map...\n",
      "morpc.plot.map.MAP: Processing column 1 of 10 : Total, American Indian and Alaska Native alone\n",
      "morpc.plot.map.MAP: Processing column 2 of 10 : Total, Asian alone\n",
      "morpc.plot.map.MAP: Processing column 3 of 10 : Total, Black or African American alone\n",
      "morpc.plot.map.MAP: Processing column 4 of 10 : Total, Native Hawaiian and Other Pacific Islander alone\n",
      "morpc.plot.map.MAP: Processing column 5 of 10 : Total, Some Other Race alone\n",
      "morpc.plot.map.MAP: Processing column 6 of 10 : Total, Two or More Races\n",
      "morpc.plot.map.MAP: Processing column 7 of 10 : Total, Two or More Races, Two races excluding Some Other Race, and three or more races\n",
      "morpc.plot.map.MAP: Processing column 8 of 10 : Total, Two or More Races, Two races including Some Other Race\n",
      "morpc.plot.map.MAP: Processing column 9 of 10 : Total, White alone\n",
      "morpc.plot.map.MAP: Processing column 10 of 10 : geometry\n",
      "morpc.plot.map.MAP: Rendering map...\n"
     ]
    }
   ],
   "source": [
    "acs.map(table='PERCENTS', verbose=True)"
   ]
  }
 ],
 "metadata": {
  "kernelspec": {
   "display_name": "venv (3.12.10)",
   "language": "python",
   "name": "python3"
  },
  "language_info": {
   "codemirror_mode": {
    "name": "ipython",
    "version": 3
   },
   "file_extension": ".py",
   "mimetype": "text/x-python",
   "name": "python",
   "nbconvert_exporter": "python",
   "pygments_lexer": "ipython3",
   "version": "3.12.10"
  }
 },
 "nbformat": 4,
 "nbformat_minor": 5
}
