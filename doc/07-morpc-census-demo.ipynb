{
 "cells": [
  {
   "cell_type": "markdown",
   "id": "67dd235a-bfeb-4083-9dbf-c2ea640fd7e9",
   "metadata": {},
   "source": [
    "# Census Data Tools"
   ]
  },
  {
   "cell_type": "markdown",
   "id": "7b8b20ce-a5fa-462f-bede-0ef5e2ae6bb5",
   "metadata": {
    "editable": true,
    "slideshow": {
     "slide_type": ""
    },
    "tags": []
   },
   "source": [
    "MORPC works regularly with census data, including but not limited to ACS 5 and 1-year, Decennial Census, PEP, and geographies. The following module is useful for gathering and organizing census data for processes in various workflow. Those workflows are linked when appropriate. "
   ]
  },
  {
   "cell_type": "code",
   "execution_count": null,
   "id": "05fed715-960a-4ffe-95da-bf3a79b542dd",
   "metadata": {},
   "outputs": [],
   "source": [
    "import morpc"
   ]
  },
  {
   "cell_type": "markdown",
   "id": "b0b85d64-d991-4a4e-ad00-f6658aa82106",
   "metadata": {
    "editable": true,
    "slideshow": {
     "slide_type": ""
    },
    "tags": []
   },
   "source": [
    "## API functions and variables"
   ]
  },
  {
   "cell_type": "markdown",
   "id": "f7633fa8-5a34-4a92-b03f-eb6588706ba6",
   "metadata": {
    "editable": true,
    "slideshow": {
     "slide_type": ""
    },
    "tags": []
   },
   "source": [
    "api_get() is a low-level wrapper for Census API requests that returns the results as a pandas dataframe. If necessary, it splits the request into several smaller requests to bypass the 50-variable limit imposed by the API.  \n",
    "\n",
    "The resulting dataframe is indexed by GEOID (regardless of whether it was requested) and omits other fields that are not requested but which are returned automatically with each API request (e.g. \"state\", \"county\") "
   ]
  },
  {
   "cell_type": "code",
   "execution_count": null,
   "id": "c4427da4-0688-4df4-869a-2c3c0bd7ac24",
   "metadata": {
    "editable": true,
    "slideshow": {
     "slide_type": ""
    },
    "tags": []
   },
   "outputs": [],
   "source": [
    "url = 'https://api.census.gov/data/2022/acs/acs1'\n",
    "params = {\n",
    "    \"get\": \"GEO_ID,NAME,B01001_001E\",\n",
    "    \"for\": \"county:049,041\",\n",
    "    \"in\": \"state:39\"\n",
    "}"
   ]
  },
  {
   "cell_type": "code",
   "execution_count": null,
   "id": "6e899568-1d61-48f6-8bf7-40107991ee11",
   "metadata": {
    "editable": true,
    "slideshow": {
     "slide_type": ""
    },
    "tags": []
   },
   "outputs": [],
   "source": [
    "api = morpc.census.api_get(url, params)"
   ]
  },
  {
   "cell_type": "code",
   "execution_count": null,
   "id": "47d8fe18-7e1b-4637-b5e1-e07536ba5b59",
   "metadata": {
    "editable": true,
    "slideshow": {
     "slide_type": ""
    },
    "tags": []
   },
   "outputs": [],
   "source": [
    "api"
   ]
  },
  {
   "cell_type": "markdown",
   "id": "9c6072a9-4769-4119-81e8-3d84fdff2461",
   "metadata": {
    "editable": true,
    "slideshow": {
     "slide_type": ""
    },
    "tags": []
   },
   "source": [
    "## American Community Survey (ACS) Data Class"
   ]
  },
  {
   "cell_type": "markdown",
   "id": "5e3446b3-9ab5-47c0-b43d-9037a242318d",
   "metadata": {
    "editable": true,
    "slideshow": {
     "slide_type": ""
    },
    "tags": []
   },
   "source": [
    "When using ACS data, generally we will be digesting data produded using the [morpc-censusacs-fetch](https://github.com/morpc/morpc-censusacs-fetch) workflow. The data that is produced from that script is by default saved in its output_data folders ./morpc-censusacs-fetch/output_data/\n",
    "\n",
    "The Census ACS Fetch script leverages the `acs_data` class form `morpc.census`\n"
   ]
  },
  {
   "cell_type": "markdown",
   "id": "608f1325-7628-4406-ab85-57c2cdc1edcf",
   "metadata": {},
   "source": [
    "### Create an initial object which represents a variable in the ACS data api."
   ]
  },
  {
   "cell_type": "markdown",
   "id": "17518b8d-f37a-4d76-a9b7-28164604dddb",
   "metadata": {},
   "source": [
    "The class takes 3 arguments:\n",
    "\n",
    "1. variable group number\n",
    "2. the year\n",
    "3. the type of survey (1 or 5 year estimates)"
   ]
  },
  {
   "cell_type": "code",
   "execution_count": null,
   "id": "22dcb446-8eff-45e7-89b4-9f910ed34340",
   "metadata": {},
   "outputs": [],
   "source": [
    "from morpc.census import acs_data"
   ]
  },
  {
   "cell_type": "code",
   "execution_count": null,
   "id": "2e12e814-e097-4448-9b13-321d63c2ee7a",
   "metadata": {},
   "outputs": [],
   "source": [
    "acs = acs_data('B01001', '2023', '5')"
   ]
  },
  {
   "cell_type": "markdown",
   "id": "6467c2db-d69d-4bbd-bb44-99f36d62be5a",
   "metadata": {},
   "source": [
    "The initial call creates queries the Census for the variable definitions and returns a dictionary of the available variables in the group. see `acs.VARS`"
   ]
  },
  {
   "cell_type": "code",
   "execution_count": null,
   "id": "e29bca9d-9b85-4ab2-b74e-039721b32b06",
   "metadata": {},
   "outputs": [],
   "source": [
    "acs.VARS"
   ]
  },
  {
   "cell_type": "markdown",
   "id": "c6784034",
   "metadata": {},
   "source": [
    "The initial call alse fetchs a list of dimensions from a cached json file in ./morpc/census/acs_variable_group.json and is stored in morpc.census.ACS_VAR_GROUPS.\n",
    "\n",
    "#### Manual verfication for variable dimension names. \n",
    "\n",
    "The list of dimensions are automatically created from the Census Variable labels and need verified before being used. If the dimesion names have not be verified, the will not be stored. Navigate to the JSON and check to make sure that there are the correct number of dimension and that they are in the correct order. Change the verfication field to `true`."
   ]
  },
  {
   "cell_type": "code",
   "execution_count": null,
   "id": "5e1a974e",
   "metadata": {},
   "outputs": [],
   "source": [
    "acs.DIMENSIONS"
   ]
  },
  {
   "cell_type": "markdown",
   "id": "b5a82123-0904-4430-a373-637d86f0ed4c",
   "metadata": {},
   "source": [
    "### Query the API for the deisred variables and geography"
   ]
  },
  {
   "cell_type": "markdown",
   "id": "a0dd814f-3173-4ca0-91c6-1d1ee792d4cf",
   "metadata": {},
   "source": [
    "The `.query()` method queries the API and caches the data in memory under `acs.DATA`. At the same time it creates a frictionless schema that corrosponds with the data. \n",
    "\n",
    "#### scope:\n",
    "These are pre-defined sumlevels and scopes for commonly queried geographies. see `morpc.census.SCOPES`."
   ]
  },
  {
   "cell_type": "code",
   "execution_count": null,
   "id": "6edc98dd-d4ee-4463-924b-6e50414c9f91",
   "metadata": {},
   "outputs": [],
   "source": [
    "acs = acs.query(for_param='county:*', in_param='state:39')"
   ]
  },
  {
   "cell_type": "markdown",
   "id": "9d60a57d-c492-4709-b902-f3e4b6e330f0",
   "metadata": {},
   "source": [
    "### For custom queries, use for and in parameters to pass to api query. \n",
    "\n",
    "#### for_param:\n",
    "(optional) The geographies for which to call the the query \"state:*\" represents all states. \"state:39\" represent Ohio.\n",
    "\n",
    "#### in_param:\n",
    "(optional) A filter for the for parameter. In combinations this allows you do call for small geograhpies inside larger ones. \n",
    "\n",
    "> Examples: for_param=\"county:\\*\", in_param=\"state:39\" would get all counties in Ohio.\n",
    "> for_param=\"tract:\\*\", in_param='state:39,county:041,049' gets all census tracts in Delaware and Franklin Counties.\n",
    "\n",
    "### Filter the variables using the get parameter\n",
    "\n",
    "#### get_param:\n",
    "(Optional) If you want to return a subset of variables, they can be passed here as a list."
   ]
  },
  {
   "cell_type": "markdown",
   "id": "64db52d7-696d-4b1f-b200-a586e8f7541d",
   "metadata": {},
   "source": [
    "### Dimension Tables"
   ]
  },
  {
   "cell_type": "markdown",
   "id": "dc697c71-0e23-482c-80f0-a7fa5fbae7ec",
   "metadata": {},
   "source": [
    "When the query is called the class makes table with the dimensions included that can be used to get summaries of the data. \n",
    "\n",
    "This can be used to get quick queries for summaries. "
   ]
  },
  {
   "cell_type": "code",
   "execution_count": null,
   "id": "7a572723-76b7-4b9f-b8ab-fce516b7b5e8",
   "metadata": {},
   "outputs": [],
   "source": [
    "acs.DIM_TABLE.LONG"
   ]
  },
  {
   "cell_type": "code",
   "execution_count": null,
   "id": "7f1de0fc-b51c-420c-9ec1-8469d8702da3",
   "metadata": {},
   "outputs": [],
   "source": [
    "acs.DIM_TABLE.WIDE"
   ]
  },
  {
   "cell_type": "code",
   "execution_count": null,
   "id": "fde29a8e-09d5-4ee4-9bc5-4c9119e7a6c9",
   "metadata": {},
   "outputs": [],
   "source": [
    "acs.DIM_TABLE.PERCENT"
   ]
  },
  {
   "cell_type": "markdown",
   "id": "a4338f6c-872e-4608-8175-1626df78ec53",
   "metadata": {},
   "source": [
    "### Save raw data (not dim table) as a frictionless resource with schema"
   ]
  },
  {
   "cell_type": "markdown",
   "id": "96f11ecb-e9c3-43d2-9187-8a680038b27a",
   "metadata": {},
   "source": [
    "After querying the data, save the data as a frictionless resource with reasonable descriptors. "
   ]
  },
  {
   "cell_type": "code",
   "execution_count": null,
   "id": "76d44f80-a9a0-48ca-a2d7-b217c75a0dcc",
   "metadata": {},
   "outputs": [],
   "source": [
    "acs.save(output_dir='./temp_data/')"
   ]
  },
  {
   "cell_type": "code",
   "execution_count": null,
   "id": "7e6079d5-ec01-442c-9827-4a321594591b",
   "metadata": {},
   "outputs": [],
   "source": [
    "acs.SCHEMA"
   ]
  },
  {
   "cell_type": "code",
   "execution_count": null,
   "id": "d012a105",
   "metadata": {},
   "outputs": [],
   "source": [
    "acs.RESOURCE"
   ]
  },
  {
   "cell_type": "markdown",
   "id": "a4f53b78",
   "metadata": {},
   "source": [
    "## Load data from cached file"
   ]
  },
  {
   "cell_type": "code",
   "execution_count": null,
   "id": "d034151c",
   "metadata": {},
   "outputs": [],
   "source": [
    "import morpc"
   ]
  },
  {
   "cell_type": "code",
   "execution_count": null,
   "id": "01f022b9",
   "metadata": {},
   "outputs": [],
   "source": [
    "acs = morpc.census.ACS('B25010', '2023', '5').load(scope='region15-tracts', dirname='./temp_data/')"
   ]
  },
  {
   "cell_type": "markdown",
   "id": "819c850a-7143-4468-bb19-476b6d6450db",
   "metadata": {},
   "source": [
    "## Georeference the data to map"
   ]
  },
  {
   "cell_type": "markdown",
   "id": "a6c4aac2",
   "metadata": {},
   "source": [
    "Add geometries by joining GEOS to DATA."
   ]
  },
  {
   "cell_type": "code",
   "execution_count": null,
   "id": "11bcd97b-a331-4085-8d37-db796aa5e4c5",
   "metadata": {},
   "outputs": [],
   "source": [
    "acs.GEOS"
   ]
  },
  {
   "cell_type": "code",
   "execution_count": null,
   "id": "9cbce405-4e35-44be-8816-68d40703c4a9",
   "metadata": {},
   "outputs": [],
   "source": [
    "import geopandas as gpd\n",
    "acs.DATA = gpd.GeoDataFrame(acs.DATA.join(acs.GEOS), geometry='geometry')"
   ]
  },
  {
   "cell_type": "code",
   "execution_count": null,
   "id": "bcfb3cdb",
   "metadata": {},
   "outputs": [],
   "source": [
    "acs.DATA.plot(column='B01001_002E')"
   ]
  },
  {
   "cell_type": "markdown",
   "id": "ef53450e-c7b9-453b-9683-75acff882e7f",
   "metadata": {},
   "source": [
    "## Use the built in .explore() method to view a map of all the columns in data"
   ]
  },
  {
   "cell_type": "code",
   "execution_count": null,
   "id": "7ae2cd65-d912-4494-ad9c-b923c17b5245",
   "metadata": {},
   "outputs": [],
   "source": [
    "acs.explore(table='PERCENTS')"
   ]
  },
  {
   "cell_type": "code",
   "execution_count": null,
   "id": "cec6d81e",
   "metadata": {},
   "outputs": [],
   "source": [
    "acs.MAP"
   ]
  },
  {
   "cell_type": "markdown",
   "id": "c8abb503",
   "metadata": {},
   "source": [
    "## Using the rest_api module to fetch geometry data from Census API"
   ]
  },
  {
   "cell_type": "code",
   "execution_count": null,
   "id": "a54bd601",
   "metadata": {},
   "outputs": [],
   "source": [
    "import morpc.rest_api as rest_api\n",
    "import morpc.census as census"
   ]
  },
  {
   "cell_type": "code",
   "execution_count": null,
   "id": "757df069",
   "metadata": {},
   "outputs": [],
   "source": [
    "\n",
    "url =  rest_api.get_layer_url(2024, 'county subdivisions', survey='ACS')\n",
    "\n",
    "query = \"STATE = '39' and COUNTY = '049'\"\n",
    "\n",
    "resource = rest_api.resource(\n",
    "    name = 'morpc-franklin-tracts',\n",
    "    url = url,\n",
    "    where = query,\n",
    "    max_record_count=500\n",
    ")"
   ]
  },
  {
   "cell_type": "code",
   "execution_count": null,
   "id": "6b38b742",
   "metadata": {},
   "outputs": [],
   "source": [
    "gdf = rest_api.gdf_from_resource(resource)"
   ]
  },
  {
   "cell_type": "markdown",
   "id": "a4f1ebbf-3887-454b-9477-8154bb74f4cc",
   "metadata": {},
   "source": [
    "## Below should still be functional, but hoping to implement into ACS class"
   ]
  },
  {
   "cell_type": "markdown",
   "id": "191c40a3-88c8-443b-ad19-d6ac6913f322",
   "metadata": {
    "editable": true,
    "slideshow": {
     "slide_type": ""
    },
    "tags": []
   },
   "source": [
    "#### Load the data using frictionless.load_data()"
   ]
  },
  {
   "cell_type": "code",
   "execution_count": null,
   "id": "9b337ead-831e-4e03-98c5-62c5e8727136",
   "metadata": {
    "editable": true,
    "slideshow": {
     "slide_type": ""
    },
    "tags": []
   },
   "outputs": [],
   "source": [
    "data, resource, schema = morpc.frictionless.load_data('./temp_data/morpc-acs5-2023-state-B01001.resource.yaml', verbose=False)"
   ]
  },
  {
   "cell_type": "markdown",
   "id": "0fe8041e-fe36-4151-92d3-08e0c1a8e4ae",
   "metadata": {
    "editable": true,
    "slideshow": {
     "slide_type": ""
    },
    "tags": []
   },
   "source": [
    "#### Using ACS_ID_FIELDS to get the fields ids"
   ]
  },
  {
   "cell_type": "code",
   "execution_count": null,
   "id": "f82a9578-0a3a-4398-b0fd-b15bb9dbe9f6",
   "metadata": {
    "editable": true,
    "slideshow": {
     "slide_type": ""
    },
    "tags": []
   },
   "outputs": [],
   "source": [
    "morpc.census.acs_generate_universe_table(data.set_index(\"GEO_ID\"), \"B01001_001\")"
   ]
  },
  {
   "cell_type": "markdown",
   "id": "6a74b3d1-2458-4b02-944c-a9ab17257b7c",
   "metadata": {
    "editable": true,
    "slideshow": {
     "slide_type": ""
    },
    "tags": []
   },
   "source": [
    "#### Create a dimension table with the data and the dimension names"
   ]
  },
  {
   "cell_type": "code",
   "execution_count": null,
   "id": "0522e9a1-7a52-4e72-a0d0-f5ccf1571bcb",
   "metadata": {
    "editable": true,
    "slideshow": {
     "slide_type": ""
    },
    "tags": []
   },
   "outputs": [],
   "source": [
    "dim_table = morpc.census.acs_generate_dimension_table(data.set_index(\"GEO_ID\"), schema, idFields=idFields, dimensionNames=[\"Sex\", \"Age group\"])"
   ]
  },
  {
   "cell_type": "code",
   "execution_count": null,
   "id": "2703597a-da40-4636-8d24-31832903b911",
   "metadata": {
    "editable": true,
    "slideshow": {
     "slide_type": ""
    },
    "tags": []
   },
   "outputs": [],
   "source": [
    "dim_table.loc[dim_table['Variable type'] == 'Estimate'].head()"
   ]
  },
  {
   "cell_type": "markdown",
   "id": "2f31993a-9656-4b4f-8e6e-590a24a6f7e8",
   "metadata": {},
   "source": [
    "### Build ACS Variable Group JSON for Dimension names"
   ]
  },
  {
   "cell_type": "code",
   "execution_count": null,
   "id": "ac89f787",
   "metadata": {},
   "outputs": [],
   "source": [
    "import morpc"
   ]
  },
  {
   "cell_type": "code",
   "execution_count": null,
   "id": "11aab1e5",
   "metadata": {},
   "outputs": [],
   "source": [
    "acs = morpc.census.ACS('B02001', 2023, 5).query(for_param='county:*', in_param='state:39')"
   ]
  },
  {
   "cell_type": "code",
   "execution_count": null,
   "id": "c6e66a75",
   "metadata": {},
   "outputs": [],
   "source": [
    "acs.map(table='PERCENTS', verbose=True)"
   ]
  },
  {
   "cell_type": "code",
   "execution_count": 1,
   "id": "46f8506a",
   "metadata": {},
   "outputs": [],
   "source": [
    "import morpc"
   ]
  },
  {
   "cell_type": "code",
   "execution_count": 2,
   "id": "610f5ee4",
   "metadata": {},
   "outputs": [
    {
     "name": "stdout",
     "output_type": "stream",
     "text": [
      "MESSAGE | morpc.census.ACS.init | Initializing ACS object for B12001 for 2023 ACS 5-year survey ...\n",
      "MESSAGE | morpc.census.ACS.init | Loading variable dictionary for B12001 for 5-year survey in 2023...\n",
      "MESSAGE | morpc.census.ACS.query | Querying data for B12001 for 5-year survey in 2023...\n",
      "MESSAGE | morpc.census.ACS.query | NAME set to morpc-acs5-2023-tract-franklin-b12001-20250829...\n",
      "MESSAGE | morpc.census.ACS.define_schema | Defining schema for B12001 for 5-year survey in 2023...\n",
      "MESSAGE | morpc.census.ACS.define_schema | Schema is valid.\n",
      "MESSAGE | morpc.census.ACS.query | Querying data from https://api.census.gov/data/2023/acs/acs5 with parameters:\n",
      "{'get': 'GEO_ID,NAME,B12001_001E,B12001_001M,B12001_002E,B12001_002M,B12001_003E,B12001_003M,B12001_004E,B12001_004M,B12001_005E,B12001_005M,B12001_006E,B12001_006M,B12001_007E,B12001_007M,B12001_008E,B12001_008M,B12001_009E,B12001_009M,B12001_010E,B12001_010M,B12001_011E,B12001_011M,B12001_012E,B12001_012M,B12001_013E,B12001_013M,B12001_014E,B12001_014M,B12001_015E,B12001_015M,B12001_016E,B12001_016M,B12001_017E,B12001_017M,B12001_018E,B12001_018M,B12001_019E,B12001_019M', 'ucgid': '1400000US39049000110,1400000US39049000120,1400000US39049000210,1400000US39049000220,1400000US39049000310,1400000US39049000320,1400000US39049000330,1400000US39049000410,1400000US39049000420,1400000US39049000500,1400000US39049000600,1400000US39049000710,1400000US39049000720,1400000US39049000730,1400000US39049000810,1400000US39049000820,1400000US39049000910,1400000US39049000920,1400000US39049001000,1400000US39049001110,1400000US39049001121,1400000US39049001122,1400000US39049001200,1400000US39049001301,1400000US39049001302,1400000US39049001400,1400000US39049001500,1400000US39049001600,1400000US39049001700,1400000US39049001810,1400000US39049001820,1400000US39049001901,1400000US39049001902,1400000US39049002000,1400000US39049002100,1400000US39049002200,1400000US39049002300,1400000US39049002510,1400000US39049002520,1400000US39049002600,1400000US39049002710,1400000US39049002730,1400000US39049002740,1400000US39049002750,1400000US39049002760,1400000US39049002770,1400000US39049002780,1400000US39049002800,1400000US39049002900,1400000US39049003000,1400000US39049003200,1400000US39049003600,1400000US39049003700,1400000US39049003800,1400000US39049004001,1400000US39049004002,1400000US39049004200,1400000US39049004301,1400000US39049004302,1400000US39049004500,1400000US39049004610,1400000US39049004620,1400000US39049004700,1400000US39049004810,1400000US39049004820,1400000US39049004900,1400000US39049005001,1400000US39049005002,1400000US39049005100,1400000US39049005200,1400000US39049005300,1400000US39049005410,1400000US39049005420,1400000US39049005500,1400000US39049005610,1400000US39049005620,1400000US39049005700,1400000US39049005810,1400000US39049005820,1400000US39049005900,1400000US39049006000,1400000US39049006100,1400000US39049006236,1400000US39049006237,1400000US39049006238,1400000US39049006239,1400000US39049006240,1400000US39049006241,1400000US39049006301,1400000US39049006302,1400000US39049006310,1400000US39049006321,1400000US39049006323,1400000US39049006330,1400000US39049006340,1400000US39049006351,1400000US39049006352,1400000US39049006353,1400000US39049006372,1400000US39049006384,1400000US39049006386,1400000US39049006387,1400000US39049006391,1400000US39049006392,1400000US39049006393,1400000US39049006394,1400000US39049006395,1400000US39049006396,1400000US39049006397,1400000US39049006398,1400000US39049006410,1400000US39049006430,1400000US39049006500,1400000US39049006600,1400000US39049006710,1400000US39049006721,1400000US39049006722,1400000US39049006810,1400000US39049006821,1400000US39049006822,1400000US39049006910,1400000US39049006921,1400000US39049006923,1400000US39049006924,1400000US39049006931,1400000US39049006932,1400000US39049006933,1400000US39049006943,1400000US39049006944,1400000US39049006945,1400000US39049006950,1400000US39049006991,1400000US39049006992,1400000US39049007010,1400000US39049007020,1400000US39049007041,1400000US39049007043,1400000US39049007044,1400000US39049007047,1400000US39049007048,1400000US39049007101,1400000US39049007102,1400000US39049007103,1400000US39049007112,1400000US39049007113,1400000US39049007114,1400000US39049007115,1400000US39049007120,1400000US39049007193,1400000US39049007198,1400000US39049007199,1400000US39049007202,1400000US39049007205,1400000US39049007209,1400000US39049007211,1400000US39049007212,1400000US39049007213,1400000US39049007214,1400000US39049007215,1400000US39049007301,1400000US39049007302,1400000US39049007303,1400000US39049007305,1400000US39049007306,1400000US39049007394,1400000US39049007397,1400000US39049007398,1400000US39049007424,1400000US39049007425,1400000US39049007426,1400000US39049007427,1400000US39049007492,1400000US39049007494,1400000US39049007511,1400000US39049007512,1400000US39049007520,1400000US39049007531,1400000US39049007532,1400000US39049007533,1400000US39049007534,1400000US39049007550,1400000US39049007552,1400000US39049007553,1400000US39049007710,1400000US39049007721,1400000US39049007722,1400000US39049007730,1400000US39049007740,1400000US39049007811,1400000US39049007812,1400000US39049007820,1400000US39049007830,1400000US39049007922,1400000US39049007931,1400000US39049007941,1400000US39049007955,1400000US39049007956,1400000US39049007957,1400000US39049007958,1400000US39049007959,1400000US39049007960,1400000US39049007961,1400000US39049007962,1400000US39049007963,1400000US39049007964,1400000US39049007965,1400000US39049007966,1400000US39049008001,1400000US39049008002,1400000US39049008110,1400000US39049008120,1400000US39049008132,1400000US39049008163,1400000US39049008164,1400000US39049008165,1400000US39049008166,1400000US39049008167,1400000US39049008168,1400000US39049008169,1400000US39049008170,1400000US39049008171,1400000US39049008172,1400000US39049008210,1400000US39049008230,1400000US39049008241,1400000US39049008242,1400000US39049008311,1400000US39049008312,1400000US39049008321,1400000US39049008322,1400000US39049008330,1400000US39049008340,1400000US39049008350,1400000US39049008360,1400000US39049008380,1400000US39049008381,1400000US39049008382,1400000US39049008400,1400000US39049008500,1400000US39049008710,1400000US39049008720,1400000US39049008730,1400000US39049008811,1400000US39049008812,1400000US39049008813,1400000US39049008821,1400000US39049008822,1400000US39049008825,1400000US39049008900,1400000US39049009000,1400000US39049009100,1400000US39049009220,1400000US39049009230,1400000US39049009240,1400000US39049009250,1400000US39049009251,1400000US39049009252,1400000US39049009311,1400000US39049009312,1400000US39049009321,1400000US39049009322,1400000US39049009323,1400000US39049009325,1400000US39049009326,1400000US39049009332,1400000US39049009334,1400000US39049009336,1400000US39049009337,1400000US39049009340,1400000US39049009350,1400000US39049009361,1400000US39049009372,1400000US39049009373,1400000US39049009381,1400000US39049009382,1400000US39049009383,1400000US39049009384,1400000US39049009385,1400000US39049009386,1400000US39049009390,1400000US39049009391,1400000US39049009392,1400000US39049009393,1400000US39049009394,1400000US39049009395,1400000US39049009396,1400000US39049009397,1400000US39049009401,1400000US39049009403,1400000US39049009404,1400000US39049009405,1400000US39049009410,1400000US39049009420,1400000US39049009440,1400000US39049009495,1400000US39049009497,1400000US39049009498,1400000US39049009520,1400000US39049009590,1400000US39049009600,1400000US39049009711,1400000US39049009712,1400000US39049009751,1400000US39049009752,1400000US39049009753,1400000US39049009754,1400000US39049009755,1400000US39049009756,1400000US39049009757,1400000US39049009801,1400000US39049009802,1400000US39049009900,1400000US39049010000,1400000US39049010100,1400000US39049010201,1400000US39049010202,1400000US39049010203,1400000US39049010204,1400000US39049010300,1400000US39049010401,1400000US39049010402,1400000US39049010501,1400000US39049010502,1400000US39049010601,1400000US39049010602,1400000US39049010700,1400000US39049010900,1400000US39049980000'}...\n",
      "Total variables requested: 40\n",
      "Starting request #1. 40 variables remain.\n",
      "ERROR: Request finished with status 500.\n",
      "Request URL: https://api.census.gov/data/2023/acs/acs5?get=GEO_ID%2CNAME%2CB12001_001E%2CB12001_001M%2CB12001_002E%2CB12001_002M%2CB12001_003E%2CB12001_003M%2CB12001_004E%2CB12001_004M%2CB12001_005E%2CB12001_005M%2CB12001_006E%2CB12001_006M%2CB12001_007E%2CB12001_007M%2CB12001_008E%2CB12001_008M%2CB12001_009E&ucgid=1400000US39049000110%2C1400000US39049000120%2C1400000US39049000210%2C1400000US39049000220%2C1400000US39049000310%2C1400000US39049000320%2C1400000US39049000330%2C1400000US39049000410%2C1400000US39049000420%2C1400000US39049000500%2C1400000US39049000600%2C1400000US39049000710%2C1400000US39049000720%2C1400000US39049000730%2C1400000US39049000810%2C1400000US39049000820%2C1400000US39049000910%2C1400000US39049000920%2C1400000US39049001000%2C1400000US39049001110%2C1400000US39049001121%2C1400000US39049001122%2C1400000US39049001200%2C1400000US39049001301%2C1400000US39049001302%2C1400000US39049001400%2C1400000US39049001500%2C1400000US39049001600%2C1400000US39049001700%2C1400000US39049001810%2C1400000US39049001820%2C1400000US39049001901%2C1400000US39049001902%2C1400000US39049002000%2C1400000US39049002100%2C1400000US39049002200%2C1400000US39049002300%2C1400000US39049002510%2C1400000US39049002520%2C1400000US39049002600%2C1400000US39049002710%2C1400000US39049002730%2C1400000US39049002740%2C1400000US39049002750%2C1400000US39049002760%2C1400000US39049002770%2C1400000US39049002780%2C1400000US39049002800%2C1400000US39049002900%2C1400000US39049003000%2C1400000US39049003200%2C1400000US39049003600%2C1400000US39049003700%2C1400000US39049003800%2C1400000US39049004001%2C1400000US39049004002%2C1400000US39049004200%2C1400000US39049004301%2C1400000US39049004302%2C1400000US39049004500%2C1400000US39049004610%2C1400000US39049004620%2C1400000US39049004700%2C1400000US39049004810%2C1400000US39049004820%2C1400000US39049004900%2C1400000US39049005001%2C1400000US39049005002%2C1400000US39049005100%2C1400000US39049005200%2C1400000US39049005300%2C1400000US39049005410%2C1400000US39049005420%2C1400000US39049005500%2C1400000US39049005610%2C1400000US39049005620%2C1400000US39049005700%2C1400000US39049005810%2C1400000US39049005820%2C1400000US39049005900%2C1400000US39049006000%2C1400000US39049006100%2C1400000US39049006236%2C1400000US39049006237%2C1400000US39049006238%2C1400000US39049006239%2C1400000US39049006240%2C1400000US39049006241%2C1400000US39049006301%2C1400000US39049006302%2C1400000US39049006310%2C1400000US39049006321%2C1400000US39049006323%2C1400000US39049006330%2C1400000US39049006340%2C1400000US39049006351%2C1400000US39049006352%2C1400000US39049006353%2C1400000US39049006372%2C1400000US39049006384%2C1400000US39049006386%2C1400000US39049006387%2C1400000US39049006391%2C1400000US39049006392%2C1400000US39049006393%2C1400000US39049006394%2C1400000US39049006395%2C1400000US39049006396%2C1400000US39049006397%2C1400000US39049006398%2C1400000US39049006410%2C1400000US39049006430%2C1400000US39049006500%2C1400000US39049006600%2C1400000US39049006710%2C1400000US39049006721%2C1400000US39049006722%2C1400000US39049006810%2C1400000US39049006821%2C1400000US39049006822%2C1400000US39049006910%2C1400000US39049006921%2C1400000US39049006923%2C1400000US39049006924%2C1400000US39049006931%2C1400000US39049006932%2C1400000US39049006933%2C1400000US39049006943%2C1400000US39049006944%2C1400000US39049006945%2C1400000US39049006950%2C1400000US39049006991%2C1400000US39049006992%2C1400000US39049007010%2C1400000US39049007020%2C1400000US39049007041%2C1400000US39049007043%2C1400000US39049007044%2C1400000US39049007047%2C1400000US39049007048%2C1400000US39049007101%2C1400000US39049007102%2C1400000US39049007103%2C1400000US39049007112%2C1400000US39049007113%2C1400000US39049007114%2C1400000US39049007115%2C1400000US39049007120%2C1400000US39049007193%2C1400000US39049007198%2C1400000US39049007199%2C1400000US39049007202%2C1400000US39049007205%2C1400000US39049007209%2C1400000US39049007211%2C1400000US39049007212%2C1400000US39049007213%2C1400000US39049007214%2C1400000US39049007215%2C1400000US39049007301%2C1400000US39049007302%2C1400000US39049007303%2C1400000US39049007305%2C1400000US39049007306%2C1400000US39049007394%2C1400000US39049007397%2C1400000US39049007398%2C1400000US39049007424%2C1400000US39049007425%2C1400000US39049007426%2C1400000US39049007427%2C1400000US39049007492%2C1400000US39049007494%2C1400000US39049007511%2C1400000US39049007512%2C1400000US39049007520%2C1400000US39049007531%2C1400000US39049007532%2C1400000US39049007533%2C1400000US39049007534%2C1400000US39049007550%2C1400000US39049007552%2C1400000US39049007553%2C1400000US39049007710%2C1400000US39049007721%2C1400000US39049007722%2C1400000US39049007730%2C1400000US39049007740%2C1400000US39049007811%2C1400000US39049007812%2C1400000US39049007820%2C1400000US39049007830%2C1400000US39049007922%2C1400000US39049007931%2C1400000US39049007941%2C1400000US39049007955%2C1400000US39049007956%2C1400000US39049007957%2C1400000US39049007958%2C1400000US39049007959%2C1400000US39049007960%2C1400000US39049007961%2C1400000US39049007962%2C1400000US39049007963%2C1400000US39049007964%2C1400000US39049007965%2C1400000US39049007966%2C1400000US39049008001%2C1400000US39049008002%2C1400000US39049008110%2C1400000US39049008120%2C1400000US39049008132%2C1400000US39049008163%2C1400000US39049008164%2C1400000US39049008165%2C1400000US39049008166%2C1400000US39049008167%2C1400000US39049008168%2C1400000US39049008169%2C1400000US39049008170%2C1400000US39049008171%2C1400000US39049008172%2C1400000US39049008210%2C1400000US39049008230%2C1400000US39049008241%2C1400000US39049008242%2C1400000US39049008311%2C1400000US39049008312%2C1400000US39049008321%2C1400000US39049008322%2C1400000US39049008330%2C1400000US39049008340%2C1400000US39049008350%2C1400000US39049008360%2C1400000US39049008380%2C1400000US39049008381%2C1400000US39049008382%2C1400000US39049008400%2C1400000US39049008500%2C1400000US39049008710%2C1400000US39049008720%2C1400000US39049008730%2C1400000US39049008811%2C1400000US39049008812%2C1400000US39049008813%2C1400000US39049008821%2C1400000US39049008822%2C1400000US39049008825%2C1400000US39049008900%2C1400000US39049009000%2C1400000US39049009100%2C1400000US39049009220%2C1400000US39049009230%2C1400000US39049009240%2C1400000US39049009250%2C1400000US39049009251%2C1400000US39049009252%2C1400000US39049009311%2C1400000US39049009312%2C1400000US39049009321%2C1400000US39049009322%2C1400000US39049009323%2C1400000US39049009325%2C1400000US39049009326%2C1400000US39049009332%2C1400000US39049009334%2C1400000US39049009336%2C1400000US39049009337%2C1400000US39049009340%2C1400000US39049009350%2C1400000US39049009361%2C1400000US39049009372%2C1400000US39049009373%2C1400000US39049009381%2C1400000US39049009382%2C1400000US39049009383%2C1400000US39049009384%2C1400000US39049009385%2C1400000US39049009386%2C1400000US39049009390%2C1400000US39049009391%2C1400000US39049009392%2C1400000US39049009393%2C1400000US39049009394%2C1400000US39049009395%2C1400000US39049009396%2C1400000US39049009397%2C1400000US39049009401%2C1400000US39049009403%2C1400000US39049009404%2C1400000US39049009405%2C1400000US39049009410%2C1400000US39049009420%2C1400000US39049009440%2C1400000US39049009495%2C1400000US39049009497%2C1400000US39049009498%2C1400000US39049009520%2C1400000US39049009590%2C1400000US39049009600%2C1400000US39049009711%2C1400000US39049009712%2C1400000US39049009751%2C1400000US39049009752%2C1400000US39049009753%2C1400000US39049009754%2C1400000US39049009755%2C1400000US39049009756%2C1400000US39049009757%2C1400000US39049009801%2C1400000US39049009802%2C1400000US39049009900%2C1400000US39049010000%2C1400000US39049010100%2C1400000US39049010201%2C1400000US39049010202%2C1400000US39049010203%2C1400000US39049010204%2C1400000US39049010300%2C1400000US39049010401%2C1400000US39049010402%2C1400000US39049010501%2C1400000US39049010502%2C1400000US39049010601%2C1400000US39049010602%2C1400000US39049010700%2C1400000US39049010900%2C1400000US39049980000\n",
      "Response text: There was an error while running your query. We've logged the error and we'll correct it ASAP.  Sorry for the inconvenience.\n"
     ]
    },
    {
     "ename": "RuntimeError",
     "evalue": "",
     "output_type": "error",
     "traceback": [
      "\u001b[31m---------------------------------------------------------------------------\u001b[39m",
      "\u001b[31mRuntimeError\u001b[39m                              Traceback (most recent call last)",
      "\u001b[36mCell\u001b[39m\u001b[36m \u001b[39m\u001b[32mIn[2]\u001b[39m\u001b[32m, line 1\u001b[39m\n\u001b[32m----> \u001b[39m\u001b[32m1\u001b[39m acs = \u001b[43mmorpc\u001b[49m\u001b[43m.\u001b[49m\u001b[43mcensus\u001b[49m\u001b[43m.\u001b[49m\u001b[43mACS\u001b[49m\u001b[43m(\u001b[49m\u001b[33;43m'\u001b[39;49m\u001b[33;43mB12001\u001b[39;49m\u001b[33;43m'\u001b[39;49m\u001b[43m,\u001b[49m\u001b[43m \u001b[49m\u001b[33;43m'\u001b[39;49m\u001b[33;43m2023\u001b[39;49m\u001b[33;43m'\u001b[39;49m\u001b[43m,\u001b[49m\u001b[43m \u001b[49m\u001b[33;43m'\u001b[39;49m\u001b[33;43m5\u001b[39;49m\u001b[33;43m'\u001b[39;49m\u001b[43m)\u001b[49m\u001b[43m.\u001b[49m\u001b[43mscope\u001b[49m\u001b[43m(\u001b[49m\u001b[33;43m'\u001b[39;49m\u001b[33;43mtract\u001b[39;49m\u001b[33;43m'\u001b[39;49m\u001b[43m,\u001b[49m\u001b[43m \u001b[49m\u001b[33;43m'\u001b[39;49m\u001b[33;43mfranklin\u001b[39;49m\u001b[33;43m'\u001b[39;49m\u001b[43m)\u001b[49m\n",
      "\u001b[36mFile \u001b[39m\u001b[32m~\\OneDrive - Mid-Ohio Regional Planning Commission\\Local Repo\\morpc-py\\morpc\\census\\census.py:425\u001b[39m, in \u001b[36mACS.scope\u001b[39m\u001b[34m(self, scale, scope)\u001b[39m\n\u001b[32m    421\u001b[39m ucgid_param = \u001b[33mf\u001b[39m\u001b[33m\"\u001b[39m\u001b[38;5;132;01m{\u001b[39;00m\u001b[33m\"\u001b[39m\u001b[33m,\u001b[39m\u001b[33m\"\u001b[39m.join(geoids)\u001b[38;5;132;01m}\u001b[39;00m\u001b[33m\"\u001b[39m\n\u001b[32m    423\u001b[39m scope_name = \u001b[33mf\u001b[39m\u001b[33m\"\u001b[39m\u001b[38;5;132;01m{\u001b[39;00mscale\u001b[38;5;132;01m}\u001b[39;00m\u001b[33m-\u001b[39m\u001b[38;5;132;01m{\u001b[39;00mscope\u001b[38;5;132;01m}\u001b[39;00m\u001b[33m\"\u001b[39m\n\u001b[32m--> \u001b[39m\u001b[32m425\u001b[39m \u001b[38;5;28;43mself\u001b[39;49m\u001b[43m.\u001b[49m\u001b[43mquery\u001b[49m\u001b[43m(\u001b[49m\u001b[43mucgid_param\u001b[49m\u001b[43m=\u001b[49m\u001b[43mucgid_param\u001b[49m\u001b[43m,\u001b[49m\u001b[43m \u001b[49m\u001b[43mscope\u001b[49m\u001b[43m=\u001b[49m\u001b[43mscope_name\u001b[49m\u001b[43m)\u001b[49m\n\u001b[32m    427\u001b[39m \u001b[38;5;28;01mreturn\u001b[39;00m \u001b[38;5;28mself\u001b[39m\n",
      "\u001b[36mFile \u001b[39m\u001b[32m~\\OneDrive - Mid-Ohio Regional Planning Commission\\Local Repo\\morpc-py\\morpc\\census\\census.py:502\u001b[39m, in \u001b[36mACS.query\u001b[39m\u001b[34m(self, for_param, in_param, get_param, ucgid_param, scope, verbose)\u001b[39m\n\u001b[32m    499\u001b[39m     \u001b[38;5;28mprint\u001b[39m(\u001b[33mf\u001b[39m\u001b[33m\"\u001b[39m\u001b[38;5;132;01m{\u001b[39;00m\u001b[38;5;28mself\u001b[39m.API_PARAMS\u001b[38;5;132;01m}\u001b[39;00m\u001b[33m...\u001b[39m\u001b[33m\"\u001b[39m)\n\u001b[32m    501\u001b[39m \u001b[38;5;66;03m# Query the data\u001b[39;00m\n\u001b[32m--> \u001b[39m\u001b[32m502\u001b[39m \u001b[38;5;28mself\u001b[39m.DATA = \u001b[43mmorpc\u001b[49m\u001b[43m.\u001b[49m\u001b[43mcensus\u001b[49m\u001b[43m.\u001b[49m\u001b[43mapi_get\u001b[49m\u001b[43m(\u001b[49m\u001b[38;5;28;43mself\u001b[39;49m\u001b[43m.\u001b[49m\u001b[43mAPI_URL\u001b[49m\u001b[43m,\u001b[49m\u001b[43m \u001b[49m\u001b[38;5;28;43mself\u001b[39;49m\u001b[43m.\u001b[49m\u001b[43mAPI_PARAMS\u001b[49m\u001b[43m)\u001b[49m\n\u001b[32m    504\u001b[39m \u001b[38;5;66;03m# Wrangle data types and index\u001b[39;00m\n\u001b[32m    505\u001b[39m \u001b[38;5;28mself\u001b[39m.DATA = morpc.cast_field_types(\u001b[38;5;28mself\u001b[39m.DATA.reset_index(), \u001b[38;5;28mself\u001b[39m.SCHEMA, verbose=\u001b[38;5;28;01mFalse\u001b[39;00m)\n",
      "\u001b[36mFile \u001b[39m\u001b[32m~\\OneDrive - Mid-Ohio Regional Planning Commission\\Local Repo\\morpc-py\\morpc\\census\\census.py:293\u001b[39m, in \u001b[36mapi_get\u001b[39m\u001b[34m(url, params, varBatchSize, verbose)\u001b[39m\n\u001b[32m    291\u001b[39m     \u001b[38;5;28mprint\u001b[39m(\u001b[33m\"\u001b[39m\u001b[33mRequest URL: \u001b[39m\u001b[33m\"\u001b[39m + r.url)\n\u001b[32m    292\u001b[39m     \u001b[38;5;28mprint\u001b[39m(\u001b[33m\"\u001b[39m\u001b[33mResponse text: \u001b[39m\u001b[33m\"\u001b[39m + r.text)\n\u001b[32m--> \u001b[39m\u001b[32m293\u001b[39m     \u001b[38;5;28;01mraise\u001b[39;00m \u001b[38;5;167;01mRuntimeError\u001b[39;00m\n\u001b[32m    295\u001b[39m \u001b[38;5;66;03m# Extract the JSON-formatted records from the response\u001b[39;00m\n\u001b[32m    296\u001b[39m records = r.json()\n",
      "\u001b[31mRuntimeError\u001b[39m: "
     ]
    }
   ],
   "source": [
    "acs = morpc.census.ACS('B12001', '2023', '5').scope('tract', 'franklin')"
   ]
  },
  {
   "cell_type": "code",
   "execution_count": null,
   "id": "16d1a628",
   "metadata": {},
   "outputs": [],
   "source": [
    "acs.DIM_TABLE.PERCENT.T"
   ]
  },
  {
   "cell_type": "code",
   "execution_count": null,
   "id": "dd0d6e3a",
   "metadata": {},
   "outputs": [],
   "source": []
  }
 ],
 "metadata": {
  "kernelspec": {
   "display_name": "venv (3.12.10)",
   "language": "python",
   "name": "python3"
  },
  "language_info": {
   "codemirror_mode": {
    "name": "ipython",
    "version": 3
   },
   "file_extension": ".py",
   "mimetype": "text/x-python",
   "name": "python",
   "nbconvert_exporter": "python",
   "pygments_lexer": "ipython3",
   "version": "3.12.10"
  }
 },
 "nbformat": 4,
 "nbformat_minor": 5
}
