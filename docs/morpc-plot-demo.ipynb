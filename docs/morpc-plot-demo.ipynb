{
 "cells": [
  {
   "cell_type": "markdown",
   "id": "1741716a",
   "metadata": {},
   "source": [
    "# Demo for morpc.plot"
   ]
  },
  {
   "cell_type": "markdown",
   "id": "16abffe4",
   "metadata": {},
   "source": [
    "## Plot from Resource\n",
    "\n",
    "Plot a graph or chart from a frictionless resource based on schema and data types. "
   ]
  },
  {
   "cell_type": "code",
   "execution_count": 1,
   "id": "f9e26076",
   "metadata": {},
   "outputs": [],
   "source": [
    "import morpc"
   ]
  },
  {
   "cell_type": "markdown",
   "id": "0e4c8328",
   "metadata": {},
   "source": [
    "## Build a sample resource file."
   ]
  },
  {
   "cell_type": "code",
   "execution_count": 2,
   "id": "c92908b1",
   "metadata": {},
   "outputs": [
    {
     "name": "stdout",
     "output_type": "stream",
     "text": [
      "morpc.load_data | INFO | Loading Frictionless Resource file at location ..\\..\\morpc-pop-collect\\output_data\\morpc-pop-collect.resource.yaml\n",
      "morpc.load_data | INFO | Loading data, resource file, and schema from their source locations\n",
      "morpc.load_data | INFO | --> Data file: ..\\..\\morpc-pop-collect\\output_data\\morpc-pop-collect.csv\n",
      "morpc.load_data | INFO | --> Resource file: ..\\..\\morpc-pop-collect\\output_data\\morpc-pop-collect.resource.yaml\n",
      "morpc.load_data | INFO | --> Schema file: ..\\..\\morpc-pop-collect\\output_data\\morpc-pop-collect.schema.yaml\n",
      "morpc.load_data | INFO | Loading data.\n",
      "cast_field_types | INFO | Casting field POP as type integer.\n",
      "cast_field_types | INFO | Casting field GEOIDFQ as type string.\n",
      "cast_field_types | INFO | Casting field SUMLEVEL as type string.\n",
      "cast_field_types | INFO | Casting field REFERENCE_PERIOD as type string.\n",
      "cast_field_types | INFO | Casting field REFERENCE_PERIOD_FREQ as type string.\n",
      "cast_field_types | INFO | Casting field VINTAGE_PERIOD as type string.\n",
      "cast_field_types | INFO | Casting field VINTAGE_PERIOD_FREQ as type string.\n",
      "cast_field_types | INFO | Casting field VALUE_TYPE as type string.\n",
      "cast_field_types | INFO | Casting field CONF_LEVEL as type number.\n",
      "cast_field_types | INFO | Casting field CONF_LIMIT_UPPER as type integer.\n",
      "cast_field_types | WARNING | Failed conversion of fieldname CONF_LIMIT_UPPER to type 'int'.  Trying type 'Int64' instead.\n",
      "cast_field_types | INFO | Casting field CONF_LIMIT_LOWER as type integer.\n",
      "cast_field_types | WARNING | Failed conversion of fieldname CONF_LIMIT_LOWER to type 'int'.  Trying type 'Int64' instead.\n",
      "cast_field_types | INFO | Casting field SOURCE as type string.\n",
      "cast_field_types | INFO | Casting field LAST_UPDATED as type date.\n"
     ]
    }
   ],
   "source": [
    "df, resource, schema = morpc.frictionless.load_data('../../morpc-pop-collect/output_data/morpc-pop-collect.resource.yaml')"
   ]
  },
  {
   "cell_type": "code",
   "execution_count": 3,
   "id": "f210bc10",
   "metadata": {},
   "outputs": [],
   "source": [
    "df = df[df['GEOIDFQ']=='0500000US39041']"
   ]
  },
  {
   "cell_type": "code",
   "execution_count": 4,
   "id": "290c8508",
   "metadata": {},
   "outputs": [
    {
     "data": {
      "text/plain": [
       "'integer'"
      ]
     },
     "execution_count": 4,
     "metadata": {},
     "output_type": "execute_result"
    }
   ],
   "source": [
    "schema.get_field('POP').type"
   ]
  },
  {
   "cell_type": "code",
   "execution_count": 7,
   "id": "869979c4",
   "metadata": {},
   "outputs": [],
   "source": [
    "import morpc\n",
    "plot = morpc.from_resource(df, schema, x='REFERENCE_PERIOD', y='POP', group='VALUE_TYPE').line()"
   ]
  },
  {
   "cell_type": "code",
   "execution_count": 8,
   "id": "36a224a7",
   "metadata": {},
   "outputs": [
    {
     "ename": "AttributeError",
     "evalue": "'RangeDiscrete' object has no attribute 'range'",
     "output_type": "error",
     "traceback": [
      "\u001b[31m---------------------------------------------------------------------------\u001b[39m",
      "\u001b[31mAttributeError\u001b[39m                            Traceback (most recent call last)",
      "\u001b[36mFile \u001b[39m\u001b[32mc:\\Users\\jinskeep\\AppData\\Local\\miniconda3\\envs\\morpc_env\\Lib\\site-packages\\IPython\\core\\formatters.py:984\u001b[39m, in \u001b[36mIPythonDisplayFormatter.__call__\u001b[39m\u001b[34m(self, obj)\u001b[39m\n\u001b[32m    982\u001b[39m method = get_real_method(obj, \u001b[38;5;28mself\u001b[39m.print_method)\n\u001b[32m    983\u001b[39m \u001b[38;5;28;01mif\u001b[39;00m method \u001b[38;5;129;01mis\u001b[39;00m \u001b[38;5;129;01mnot\u001b[39;00m \u001b[38;5;28;01mNone\u001b[39;00m:\n\u001b[32m--> \u001b[39m\u001b[32m984\u001b[39m     \u001b[43mmethod\u001b[49m\u001b[43m(\u001b[49m\u001b[43m)\u001b[49m\n\u001b[32m    985\u001b[39m     \u001b[38;5;28;01mreturn\u001b[39;00m \u001b[38;5;28;01mTrue\u001b[39;00m\n",
      "\u001b[36mFile \u001b[39m\u001b[32mc:\\Users\\jinskeep\\AppData\\Local\\miniconda3\\envs\\morpc_env\\Lib\\site-packages\\plotnine\\ggplot.py:141\u001b[39m, in \u001b[36mggplot._ipython_display_\u001b[39m\u001b[34m(self)\u001b[39m\n\u001b[32m    134\u001b[39m \u001b[38;5;28;01mdef\u001b[39;00m\u001b[38;5;250m \u001b[39m\u001b[34m_ipython_display_\u001b[39m(\u001b[38;5;28mself\u001b[39m):\n\u001b[32m    135\u001b[39m \u001b[38;5;250m    \u001b[39m\u001b[33;03m\"\"\"\u001b[39;00m\n\u001b[32m    136\u001b[39m \u001b[33;03m    Display plot in the output of the cell\u001b[39;00m\n\u001b[32m    137\u001b[39m \n\u001b[32m    138\u001b[39m \u001b[33;03m    This method will always be called when a ggplot object is the\u001b[39;00m\n\u001b[32m    139\u001b[39m \u001b[33;03m    last in the cell.\u001b[39;00m\n\u001b[32m    140\u001b[39m \u001b[33;03m    \"\"\"\u001b[39;00m\n\u001b[32m--> \u001b[39m\u001b[32m141\u001b[39m     \u001b[38;5;28;43mself\u001b[39;49m\u001b[43m.\u001b[49m\u001b[43m_display\u001b[49m\u001b[43m(\u001b[49m\u001b[43m)\u001b[49m\n",
      "\u001b[36mFile \u001b[39m\u001b[32mc:\\Users\\jinskeep\\AppData\\Local\\miniconda3\\envs\\morpc_env\\Lib\\site-packages\\plotnine\\ggplot.py:181\u001b[39m, in \u001b[36mggplot._display\u001b[39m\u001b[34m(self)\u001b[39m\n\u001b[32m    179\u001b[39m figure_size_px = \u001b[38;5;28mself\u001b[39m.theme._figure_size_px\n\u001b[32m    180\u001b[39m buf = BytesIO()\n\u001b[32m--> \u001b[39m\u001b[32m181\u001b[39m \u001b[38;5;28;43mself\u001b[39;49m\u001b[43m.\u001b[49m\u001b[43msave\u001b[49m\u001b[43m(\u001b[49m\u001b[43mbuf\u001b[49m\u001b[43m,\u001b[49m\u001b[43m \u001b[49m\u001b[38;5;28;43mformat\u001b[39;49m\u001b[43m=\u001b[49m\u001b[43msave_format\u001b[49m\u001b[43m,\u001b[49m\u001b[43m \u001b[49m\u001b[43mverbose\u001b[49m\u001b[43m=\u001b[49m\u001b[38;5;28;43;01mFalse\u001b[39;49;00m\u001b[43m)\u001b[49m\n\u001b[32m    182\u001b[39m display_func = get_display_function(\u001b[38;5;28mformat\u001b[39m, figure_size_px)\n\u001b[32m    183\u001b[39m display_func(buf.getvalue())\n",
      "\u001b[36mFile \u001b[39m\u001b[32mc:\\Users\\jinskeep\\AppData\\Local\\miniconda3\\envs\\morpc_env\\Lib\\site-packages\\plotnine\\ggplot.py:673\u001b[39m, in \u001b[36mggplot.save\u001b[39m\u001b[34m(self, filename, format, path, width, height, units, dpi, limitsize, verbose, **kwargs)\u001b[39m\n\u001b[32m    624\u001b[39m \u001b[38;5;28;01mdef\u001b[39;00m\u001b[38;5;250m \u001b[39m\u001b[34msave\u001b[39m(\n\u001b[32m    625\u001b[39m     \u001b[38;5;28mself\u001b[39m,\n\u001b[32m    626\u001b[39m     filename: Optional[\u001b[38;5;28mstr\u001b[39m | Path | BytesIO] = \u001b[38;5;28;01mNone\u001b[39;00m,\n\u001b[32m   (...)\u001b[39m\u001b[32m    635\u001b[39m     **kwargs: Any,\n\u001b[32m    636\u001b[39m ):\n\u001b[32m    637\u001b[39m \u001b[38;5;250m    \u001b[39m\u001b[33;03m\"\"\"\u001b[39;00m\n\u001b[32m    638\u001b[39m \u001b[33;03m    Save a ggplot object as an image file\u001b[39;00m\n\u001b[32m    639\u001b[39m \n\u001b[32m   (...)\u001b[39m\u001b[32m    671\u001b[39m \u001b[33;03m        Additional arguments to pass to matplotlib `savefig()`.\u001b[39;00m\n\u001b[32m    672\u001b[39m \u001b[33;03m    \"\"\"\u001b[39;00m\n\u001b[32m--> \u001b[39m\u001b[32m673\u001b[39m     sv = \u001b[38;5;28;43mself\u001b[39;49m\u001b[43m.\u001b[49m\u001b[43msave_helper\u001b[49m\u001b[43m(\u001b[49m\n\u001b[32m    674\u001b[39m \u001b[43m        \u001b[49m\u001b[43mfilename\u001b[49m\u001b[43m=\u001b[49m\u001b[43mfilename\u001b[49m\u001b[43m,\u001b[49m\n\u001b[32m    675\u001b[39m \u001b[43m        \u001b[49m\u001b[38;5;28;43mformat\u001b[39;49m\u001b[43m=\u001b[49m\u001b[38;5;28;43mformat\u001b[39;49m\u001b[43m,\u001b[49m\n\u001b[32m    676\u001b[39m \u001b[43m        \u001b[49m\u001b[43mpath\u001b[49m\u001b[43m=\u001b[49m\u001b[43mpath\u001b[49m\u001b[43m,\u001b[49m\n\u001b[32m    677\u001b[39m \u001b[43m        \u001b[49m\u001b[43mwidth\u001b[49m\u001b[43m=\u001b[49m\u001b[43mwidth\u001b[49m\u001b[43m,\u001b[49m\n\u001b[32m    678\u001b[39m \u001b[43m        \u001b[49m\u001b[43mheight\u001b[49m\u001b[43m=\u001b[49m\u001b[43mheight\u001b[49m\u001b[43m,\u001b[49m\n\u001b[32m    679\u001b[39m \u001b[43m        \u001b[49m\u001b[43munits\u001b[49m\u001b[43m=\u001b[49m\u001b[43munits\u001b[49m\u001b[43m,\u001b[49m\n\u001b[32m    680\u001b[39m \u001b[43m        \u001b[49m\u001b[43mdpi\u001b[49m\u001b[43m=\u001b[49m\u001b[43mdpi\u001b[49m\u001b[43m,\u001b[49m\n\u001b[32m    681\u001b[39m \u001b[43m        \u001b[49m\u001b[43mlimitsize\u001b[49m\u001b[43m=\u001b[49m\u001b[43mlimitsize\u001b[49m\u001b[43m,\u001b[49m\n\u001b[32m    682\u001b[39m \u001b[43m        \u001b[49m\u001b[43mverbose\u001b[49m\u001b[43m=\u001b[49m\u001b[43mverbose\u001b[49m\u001b[43m,\u001b[49m\n\u001b[32m    683\u001b[39m \u001b[43m        \u001b[49m\u001b[43m*\u001b[49m\u001b[43m*\u001b[49m\u001b[43mkwargs\u001b[49m\u001b[43m,\u001b[49m\n\u001b[32m    684\u001b[39m \u001b[43m    \u001b[49m\u001b[43m)\u001b[49m\n\u001b[32m    686\u001b[39m     \u001b[38;5;28;01mwith\u001b[39;00m plot_context(\u001b[38;5;28mself\u001b[39m).rc_context:\n\u001b[32m    687\u001b[39m         sv.figure.savefig(**sv.kwargs)\n",
      "\u001b[36mFile \u001b[39m\u001b[32mc:\\Users\\jinskeep\\AppData\\Local\\miniconda3\\envs\\morpc_env\\Lib\\site-packages\\plotnine\\ggplot.py:621\u001b[39m, in \u001b[36mggplot.save_helper\u001b[39m\u001b[34m(self, filename, format, path, width, height, units, dpi, limitsize, verbose, **kwargs)\u001b[39m\n\u001b[32m    618\u001b[39m \u001b[38;5;28;01mif\u001b[39;00m dpi \u001b[38;5;129;01mis\u001b[39;00m \u001b[38;5;129;01mnot\u001b[39;00m \u001b[38;5;28;01mNone\u001b[39;00m:\n\u001b[32m    619\u001b[39m     \u001b[38;5;28mself\u001b[39m.theme = \u001b[38;5;28mself\u001b[39m.theme + theme(dpi=dpi)\n\u001b[32m--> \u001b[39m\u001b[32m621\u001b[39m figure = \u001b[38;5;28;43mself\u001b[39;49m\u001b[43m.\u001b[49m\u001b[43mdraw\u001b[49m\u001b[43m(\u001b[49m\u001b[43mshow\u001b[49m\u001b[43m=\u001b[49m\u001b[38;5;28;43;01mFalse\u001b[39;49;00m\u001b[43m)\u001b[49m\n\u001b[32m    622\u001b[39m \u001b[38;5;28;01mreturn\u001b[39;00m mpl_save_view(figure, fig_kwargs)\n",
      "\u001b[36mFile \u001b[39m\u001b[32mc:\\Users\\jinskeep\\AppData\\Local\\miniconda3\\envs\\morpc_env\\Lib\\site-packages\\plotnine\\ggplot.py:278\u001b[39m, in \u001b[36mggplot.draw\u001b[39m\u001b[34m(self, show)\u001b[39m\n\u001b[32m    276\u001b[39m \u001b[38;5;28mself\u001b[39m = deepcopy(\u001b[38;5;28mself\u001b[39m)\n\u001b[32m    277\u001b[39m \u001b[38;5;28;01mwith\u001b[39;00m plot_context(\u001b[38;5;28mself\u001b[39m, show=show):\n\u001b[32m--> \u001b[39m\u001b[32m278\u001b[39m     \u001b[38;5;28;43mself\u001b[39;49m\u001b[43m.\u001b[49m\u001b[43m_build\u001b[49m\u001b[43m(\u001b[49m\u001b[43m)\u001b[49m\n\u001b[32m    280\u001b[39m     \u001b[38;5;66;03m# setup\u001b[39;00m\n\u001b[32m    281\u001b[39m     \u001b[38;5;28mself\u001b[39m.figure, \u001b[38;5;28mself\u001b[39m.axs = \u001b[38;5;28mself\u001b[39m.facet.setup(\u001b[38;5;28mself\u001b[39m)\n",
      "\u001b[36mFile \u001b[39m\u001b[32mc:\\Users\\jinskeep\\AppData\\Local\\miniconda3\\envs\\morpc_env\\Lib\\site-packages\\plotnine\\ggplot.py:379\u001b[39m, in \u001b[36mggplot._build\u001b[39m\u001b[34m(self)\u001b[39m\n\u001b[32m    376\u001b[39m \u001b[38;5;66;03m# Map and train positions so that statistics have access\u001b[39;00m\n\u001b[32m    377\u001b[39m \u001b[38;5;66;03m# to ranges and all positions are numeric\u001b[39;00m\n\u001b[32m    378\u001b[39m layout.train_position(layers, scales)\n\u001b[32m--> \u001b[39m\u001b[32m379\u001b[39m \u001b[43mlayout\u001b[49m\u001b[43m.\u001b[49m\u001b[43mmap_position\u001b[49m\u001b[43m(\u001b[49m\u001b[43mlayers\u001b[49m\u001b[43m)\u001b[49m\n\u001b[32m    381\u001b[39m \u001b[38;5;66;03m# Apply and map statistics\u001b[39;00m\n\u001b[32m    382\u001b[39m layers.compute_statistic(layout)\n",
      "\u001b[36mFile \u001b[39m\u001b[32mc:\\Users\\jinskeep\\AppData\\Local\\miniconda3\\envs\\morpc_env\\Lib\\site-packages\\plotnine\\facets\\layout.py:136\u001b[39m, in \u001b[36mLayout.map_position\u001b[39m\u001b[34m(self, layers)\u001b[39m\n\u001b[32m    132\u001b[39m y_vars = \u001b[38;5;28mlist\u001b[39m(\n\u001b[32m    133\u001b[39m     \u001b[38;5;28mset\u001b[39m(\u001b[38;5;28mself\u001b[39m.panel_scales_y[\u001b[32m0\u001b[39m].aesthetics) & \u001b[38;5;28mset\u001b[39m(data.columns)\n\u001b[32m    134\u001b[39m )\n\u001b[32m    135\u001b[39m SCALE_Y = _layout[\u001b[33m\"\u001b[39m\u001b[33mSCALE_Y\u001b[39m\u001b[33m\"\u001b[39m].iloc[match_id].tolist()\n\u001b[32m--> \u001b[39m\u001b[32m136\u001b[39m \u001b[38;5;28;43mself\u001b[39;49m\u001b[43m.\u001b[49m\u001b[43mpanel_scales_y\u001b[49m\u001b[43m.\u001b[49m\u001b[43mmap\u001b[49m\u001b[43m(\u001b[49m\u001b[43mdata\u001b[49m\u001b[43m,\u001b[49m\u001b[43m \u001b[49m\u001b[43my_vars\u001b[49m\u001b[43m,\u001b[49m\u001b[43m \u001b[49m\u001b[43mSCALE_Y\u001b[49m\u001b[43m)\u001b[49m\n",
      "\u001b[36mFile \u001b[39m\u001b[32mc:\\Users\\jinskeep\\AppData\\Local\\miniconda3\\envs\\morpc_env\\Lib\\site-packages\\plotnine\\scales\\scales.py:178\u001b[39m, in \u001b[36mScales.map\u001b[39m\u001b[34m(self, data, vars, idx)\u001b[39m\n\u001b[32m    176\u001b[39m \u001b[38;5;28;01mfor\u001b[39;00m i, sc \u001b[38;5;129;01min\u001b[39;00m \u001b[38;5;28menumerate\u001b[39m(\u001b[38;5;28mself\u001b[39m, start=\u001b[32m1\u001b[39m):\n\u001b[32m    177\u001b[39m     bool_idx = i == idx\n\u001b[32m--> \u001b[39m\u001b[32m178\u001b[39m     results = \u001b[43msc\u001b[49m\u001b[43m.\u001b[49m\u001b[43mmap\u001b[49m\u001b[43m(\u001b[49m\u001b[43mdata\u001b[49m\u001b[43m.\u001b[49m\u001b[43mloc\u001b[49m\u001b[43m[\u001b[49m\u001b[43mbool_idx\u001b[49m\u001b[43m,\u001b[49m\u001b[43m \u001b[49m\u001b[43mcol\u001b[49m\u001b[43m]\u001b[49m\u001b[43m)\u001b[49m\n\u001b[32m    179\u001b[39m     \u001b[38;5;28;01mif\u001b[39;00m use_df:\n\u001b[32m    180\u001b[39m         discrete_data.loc[bool_idx, col] = results\n",
      "\u001b[36mFile \u001b[39m\u001b[32mc:\\Users\\jinskeep\\AppData\\Local\\miniconda3\\envs\\morpc_env\\Lib\\site-packages\\plotnine\\scales\\scale_xy.py:73\u001b[39m, in \u001b[36mscale_position_discrete.map\u001b[39m\u001b[34m(self, x, limits)\u001b[39m\n\u001b[32m     69\u001b[39m \u001b[38;5;28;01mdef\u001b[39;00m\u001b[38;5;250m \u001b[39m\u001b[34mmap\u001b[39m(\u001b[38;5;28mself\u001b[39m, x, limits=\u001b[38;5;28;01mNone\u001b[39;00m):\n\u001b[32m     70\u001b[39m     \u001b[38;5;66;03m# Discrete values are converted into integers starting\u001b[39;00m\n\u001b[32m     71\u001b[39m     \u001b[38;5;66;03m# at 1\u001b[39;00m\n\u001b[32m     72\u001b[39m     \u001b[38;5;28;01mif\u001b[39;00m limits \u001b[38;5;129;01mis\u001b[39;00m \u001b[38;5;28;01mNone\u001b[39;00m:\n\u001b[32m---> \u001b[39m\u001b[32m73\u001b[39m         limits = \u001b[38;5;28;43mself\u001b[39;49m\u001b[43m.\u001b[49m\u001b[43mfinal_limits\u001b[49m\n\u001b[32m     74\u001b[39m     \u001b[38;5;28;01mif\u001b[39;00m array_kind.discrete(x):\n\u001b[32m     75\u001b[39m         \u001b[38;5;66;03m# TODO: Rewrite without using numpy\u001b[39;00m\n\u001b[32m     76\u001b[39m         seq = np.arange(\u001b[32m1\u001b[39m, \u001b[38;5;28mlen\u001b[39m(limits) + \u001b[32m1\u001b[39m)\n",
      "\u001b[36mFile \u001b[39m\u001b[32mc:\\Users\\jinskeep\\AppData\\Local\\miniconda3\\envs\\morpc_env\\Lib\\site-packages\\plotnine\\scales\\scale_xy.py:99\u001b[39m, in \u001b[36mscale_position_discrete.final_limits\u001b[39m\u001b[34m(self)\u001b[39m\n\u001b[32m     96\u001b[39m     \u001b[38;5;28;01mreturn\u001b[39;00m \u001b[38;5;28mself\u001b[39m.limits\n\u001b[32m     97\u001b[39m \u001b[38;5;28;01melif\u001b[39;00m \u001b[38;5;28mself\u001b[39m.limits \u001b[38;5;129;01mis\u001b[39;00m \u001b[38;5;28;01mNone\u001b[39;00m:\n\u001b[32m     98\u001b[39m     \u001b[38;5;66;03m# discrete range\u001b[39;00m\n\u001b[32m---> \u001b[39m\u001b[32m99\u001b[39m     \u001b[38;5;28;01mreturn\u001b[39;00m \u001b[38;5;28;43mself\u001b[39;49m\u001b[43m.\u001b[49m\u001b[43m_range\u001b[49m\u001b[43m.\u001b[49m\u001b[43mrange\u001b[49m\n\u001b[32m    100\u001b[39m \u001b[38;5;28;01melif\u001b[39;00m \u001b[38;5;28mcallable\u001b[39m(\u001b[38;5;28mself\u001b[39m.limits):\n\u001b[32m    101\u001b[39m     limits = \u001b[38;5;28mself\u001b[39m.limits(\u001b[38;5;28mself\u001b[39m._range.range)\n",
      "\u001b[31mAttributeError\u001b[39m: 'RangeDiscrete' object has no attribute 'range'"
     ]
    },
    {
     "data": {
      "text/plain": [
       "<plotnine.ggplot.ggplot at 0x1a7034c5950>"
      ]
     },
     "execution_count": 8,
     "metadata": {},
     "output_type": "execute_result"
    }
   ],
   "source": [
    "plot.show()"
   ]
  },
  {
   "cell_type": "code",
   "execution_count": null,
   "id": "342958b7",
   "metadata": {},
   "outputs": [],
   "source": []
  }
 ],
 "metadata": {
  "kernelspec": {
   "display_name": "morpc_env",
   "language": "python",
   "name": "python3"
  },
  "language_info": {
   "codemirror_mode": {
    "name": "ipython",
    "version": 3
   },
   "file_extension": ".py",
   "mimetype": "text/x-python",
   "name": "python",
   "nbconvert_exporter": "python",
   "pygments_lexer": "ipython3",
   "version": "3.11.11"
  }
 },
 "nbformat": 4,
 "nbformat_minor": 5
}
