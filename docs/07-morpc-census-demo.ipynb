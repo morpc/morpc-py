{
 "cells": [
  {
   "cell_type": "markdown",
   "id": "67dd235a-bfeb-4083-9dbf-c2ea640fd7e9",
   "metadata": {},
   "source": [
    "# Census Data Tools"
   ]
  },
  {
   "cell_type": "markdown",
   "id": "7b8b20ce-a5fa-462f-bede-0ef5e2ae6bb5",
   "metadata": {
    "editable": true,
    "slideshow": {
     "slide_type": ""
    },
    "tags": []
   },
   "source": [
    "MORPC works regularly with census data, including but not limited to ACS 5 and 1-year, Decennial Census, PEP, and geographies. The following module is useful for gathering and organizing census data for processes in various workflow. Those workflows are linked when appropriate. "
   ]
  },
  {
   "cell_type": "code",
   "execution_count": null,
   "id": "05fed715-960a-4ffe-95da-bf3a79b542dd",
   "metadata": {},
   "outputs": [],
   "source": [
    "import morpc"
   ]
  },
  {
   "cell_type": "markdown",
   "id": "b0b85d64-d991-4a4e-ad00-f6658aa82106",
   "metadata": {
    "editable": true,
    "slideshow": {
     "slide_type": ""
    },
    "tags": []
   },
   "source": [
    "## API functions and variables"
   ]
  },
  {
   "cell_type": "markdown",
   "id": "f7633fa8-5a34-4a92-b03f-eb6588706ba6",
   "metadata": {
    "editable": true,
    "slideshow": {
     "slide_type": ""
    },
    "tags": []
   },
   "source": [
    "api_get() is a low-level wrapper for Census API requests that returns the results as a pandas dataframe. If necessary, it splits the request into several smaller requests to bypass the 50-variable limit imposed by the API.  \n",
    "\n",
    "The resulting dataframe is indexed by GEOID (regardless of whether it was requested) and omits other fields that are not requested but which are returned automatically with each API request (e.g. \"state\", \"county\") "
   ]
  },
  {
   "cell_type": "code",
   "execution_count": null,
   "id": "c4427da4-0688-4df4-869a-2c3c0bd7ac24",
   "metadata": {
    "editable": true,
    "slideshow": {
     "slide_type": ""
    },
    "tags": []
   },
   "outputs": [],
   "source": [
    "url = 'https://api.census.gov/data/2022/acs/acs1'\n",
    "params = {\n",
    "    \"get\": \"GEO_ID,NAME,B01001_001E\",\n",
    "    \"for\": \"county:049,041\",\n",
    "    \"in\": \"state:39\"\n",
    "}"
   ]
  },
  {
   "cell_type": "code",
   "execution_count": null,
   "id": "6e899568-1d61-48f6-8bf7-40107991ee11",
   "metadata": {
    "editable": true,
    "slideshow": {
     "slide_type": ""
    },
    "tags": []
   },
   "outputs": [],
   "source": [
    "api = morpc.census.api_get(url, params)"
   ]
  },
  {
   "cell_type": "code",
   "execution_count": null,
   "id": "47d8fe18-7e1b-4637-b5e1-e07536ba5b59",
   "metadata": {
    "editable": true,
    "slideshow": {
     "slide_type": ""
    },
    "tags": []
   },
   "outputs": [],
   "source": [
    "api"
   ]
  },
  {
   "cell_type": "markdown",
   "id": "9c6072a9-4769-4119-81e8-3d84fdff2461",
   "metadata": {
    "editable": true,
    "slideshow": {
     "slide_type": ""
    },
    "tags": []
   },
   "source": [
    "## American Community Survey (ACS) Data Class"
   ]
  },
  {
   "cell_type": "markdown",
   "id": "5e3446b3-9ab5-47c0-b43d-9037a242318d",
   "metadata": {
    "editable": true,
    "slideshow": {
     "slide_type": ""
    },
    "tags": []
   },
   "source": [
    "When using ACS data, generally we will be digesting data produded using the [morpc-censusacs-fetch](https://github.com/morpc/morpc-censusacs-fetch) workflow. The data that is produced from that script is by default saved in its output_data folders ./morpc-censusacs-fetch/output_data/\n",
    "\n",
    "The Census ACS Fetch script leverages the `acs_data` class form `morpc.census`\n"
   ]
  },
  {
   "cell_type": "markdown",
   "id": "608f1325-7628-4406-ab85-57c2cdc1edcf",
   "metadata": {},
   "source": [
    "### Create an initial object which represents a variable in the ACS data api."
   ]
  },
  {
   "cell_type": "markdown",
   "id": "17518b8d-f37a-4d76-a9b7-28164604dddb",
   "metadata": {},
   "source": [
    "The class takes 3 arguments:\n",
    "\n",
    "1. variable group number\n",
    "2. the year\n",
    "3. the type of survey (1 or 5 year estimates)"
   ]
  },
  {
   "cell_type": "code",
   "execution_count": null,
   "id": "22dcb446-8eff-45e7-89b4-9f910ed34340",
   "metadata": {},
   "outputs": [],
   "source": [
    "import morpc"
   ]
  },
  {
   "cell_type": "code",
   "execution_count": null,
   "id": "2e12e814-e097-4448-9b13-321d63c2ee7a",
   "metadata": {},
   "outputs": [],
   "source": [
    "acs = morpc.census.acs_data('B02001', '2023', '5')"
   ]
  },
  {
   "cell_type": "markdown",
   "id": "6467c2db-d69d-4bbd-bb44-99f36d62be5a",
   "metadata": {},
   "source": [
    "The initial call creates queries the Census for the variable definitions and returns a dictionary of the available variables in the group. see `acs.VARS`"
   ]
  },
  {
   "cell_type": "code",
   "execution_count": null,
   "id": "e29bca9d-9b85-4ab2-b74e-039721b32b06",
   "metadata": {},
   "outputs": [],
   "source": [
    "acs.VARS"
   ]
  },
  {
   "cell_type": "markdown",
   "id": "c6784034",
   "metadata": {},
   "source": [
    "The initial call alse fetchs a list of dimensions from a cached json file in ./morpc/census/acs_variable_group.json and is stored in morpc.census.ACS_VAR_GROUPS.\n",
    "\n",
    "#### Manual verfication for variable dimension names. \n",
    "\n",
    "The list of dimensions are automatically created from the Census Variable labels and need verified before being used. If the dimesion names have not be verified, the will not be stored. Navigate to the JSON and check to make sure that there are the correct number of dimension and that they are in the correct order. Change the verfication field to `true`."
   ]
  },
  {
   "cell_type": "code",
   "execution_count": null,
   "id": "5e1a974e",
   "metadata": {},
   "outputs": [],
   "source": [
    "acs.DIMENSIONS"
   ]
  },
  {
   "cell_type": "markdown",
   "id": "b5a82123-0904-4430-a373-637d86f0ed4c",
   "metadata": {},
   "source": [
    "### Query the API for the deisred variables and geography"
   ]
  },
  {
   "cell_type": "markdown",
   "id": "a0dd814f-3173-4ca0-91c6-1d1ee792d4cf",
   "metadata": {},
   "source": [
    "The `.query()` method queries the API and caches the data in memory under `acs.DATA`. At the same time it creates a frictionless schema that corrosponds with the data. \n",
    "\n",
    "#### scope:\n",
    "These are pre-defined sumlevels and scopes for commonly queried geographies. see `morpc.census.SCOPES`."
   ]
  },
  {
   "cell_type": "code",
   "execution_count": null,
   "id": "b2a95a1f-1b08-4576-bcad-26b823134263",
   "metadata": {},
   "outputs": [],
   "source": [
    "morpc.census.SCOPES"
   ]
  },
  {
   "cell_type": "code",
   "execution_count": null,
   "id": "6edc98dd-d4ee-4463-924b-6e50414c9f91",
   "metadata": {},
   "outputs": [],
   "source": [
    "acs = acs.query(scope='region15-counties')"
   ]
  },
  {
   "cell_type": "code",
   "execution_count": null,
   "id": "b1679733-7386-4617-b7d8-22e7000c397a",
   "metadata": {},
   "outputs": [],
   "source": [
    "data = acs.DATA\n",
    "data.head()"
   ]
  },
  {
   "cell_type": "markdown",
   "id": "9d60a57d-c492-4709-b902-f3e4b6e330f0",
   "metadata": {},
   "source": [
    "### For custom queries, use for and in parameters to pass to api query. \n",
    "\n",
    "#### for_param:\n",
    "(optional) The geographies for which to call the the query \"state:*\" represents all states. \"state:39\" represent Ohio.\n",
    "\n",
    "#### in_param:\n",
    "(optional) A filter for the for parameter. In combinations this allows you do call for small geograhpies inside larger ones. \n",
    "\n",
    "> Examples: for_param=\"county:\\*\", in_param=\"state:39\" would get all counties in Ohio.\n",
    "> for_param=\"tract:\\*\", in_param='state:39,county:041,049' gets all census tracts in Delaware and Franklin Counties.\n",
    "\n",
    "### Filter the variables using the get parameter\n",
    "\n",
    "#### get_param:\n",
    "(Optional) If you want to return a subset of variables, they can be passed here as a list."
   ]
  },
  {
   "cell_type": "markdown",
   "id": "64db52d7-696d-4b1f-b200-a586e8f7541d",
   "metadata": {},
   "source": [
    "### Dimension Tables"
   ]
  },
  {
   "cell_type": "markdown",
   "id": "dc697c71-0e23-482c-80f0-a7fa5fbae7ec",
   "metadata": {},
   "source": [
    "When the query is called the class makes table with the dimensions included that can be used to get summaries of the data. \n",
    "\n",
    "This can be used to get quick queries for summaries. "
   ]
  },
  {
   "cell_type": "code",
   "execution_count": null,
   "id": "2d6b0437-b89c-423e-b67c-b82d0650fe31",
   "metadata": {},
   "outputs": [],
   "source": [
    "acs = morpc.census.acs_data('B02001', '2023', '5').query(scope='region15-counties')"
   ]
  },
  {
   "cell_type": "code",
   "execution_count": null,
   "id": "3d426141-3295-40de-b7ab-77f118383080",
   "metadata": {},
   "outputs": [],
   "source": [
    "acs.DIM_TABLE.LONG"
   ]
  },
  {
   "cell_type": "code",
   "execution_count": null,
   "id": "69ba0fd4-8c82-4299-8f7c-4bd10533ef14",
   "metadata": {},
   "outputs": [],
   "source": [
    "acs.DIM_TABLE.WIDE"
   ]
  },
  {
   "cell_type": "code",
   "execution_count": null,
   "id": "21150dc2-5927-496a-81cb-80e34d773995",
   "metadata": {},
   "outputs": [],
   "source": [
    "acs.DIM_TABLE.WIDE.loc(axis=0)[('Total', 'Black or African American alone'),'Total'].T"
   ]
  },
  {
   "cell_type": "markdown",
   "id": "a4338f6c-872e-4608-8175-1626df78ec53",
   "metadata": {},
   "source": [
    "### Save raw data (not dim table) as a frictionless resource with schema"
   ]
  },
  {
   "cell_type": "markdown",
   "id": "96f11ecb-e9c3-43d2-9187-8a680038b27a",
   "metadata": {},
   "source": [
    "After querying the data, save the data as a frictionless resource with reasonable descriptors. "
   ]
  },
  {
   "cell_type": "code",
   "execution_count": null,
   "id": "76d44f80-a9a0-48ca-a2d7-b217c75a0dcc",
   "metadata": {},
   "outputs": [],
   "source": [
    "acs.save(output_dir='./temp_data/')"
   ]
  },
  {
   "cell_type": "code",
   "execution_count": null,
   "id": "7e6079d5-ec01-442c-9827-4a321594591b",
   "metadata": {},
   "outputs": [],
   "source": [
    "acs.SCHEMA"
   ]
  },
  {
   "cell_type": "code",
   "execution_count": null,
   "id": "d012a105",
   "metadata": {},
   "outputs": [],
   "source": [
    "acs.RESOURCE"
   ]
  },
  {
   "cell_type": "markdown",
   "id": "a4f53b78",
   "metadata": {},
   "source": [
    "## Load data from cached file"
   ]
  },
  {
   "cell_type": "code",
   "execution_count": 1,
   "id": "641907d7",
   "metadata": {},
   "outputs": [],
   "source": [
    "import morpc"
   ]
  },
  {
   "cell_type": "code",
   "execution_count": 2,
   "id": "01f022b9",
   "metadata": {},
   "outputs": [
    {
     "name": "stdout",
     "output_type": "stream",
     "text": [
      "morpc.frictionless.load_data | INFO | Loading Frictionless Resource file at location morpc-acs5-2023-region15-counties-b02001.resource.yaml\n",
      "morpc.frictionless.load_data | INFO | Using schema path specified in resource file.\n",
      "morpc.frictionless.load_data | INFO | Loading data, resource file, and schema (if applicable) from their source locations\n",
      "morpc.frictionless.load_data | INFO | --> Data file: morpc-acs5-2023-region15-counties-b02001.csv\n",
      "morpc.frictionless.load_data | INFO | --> Resource file: morpc-acs5-2023-region15-counties-b02001.resource.yaml\n",
      "morpc.frictionless.load_data | INFO | --> Schema file: morpc-acs5-2023-region15-counties-b02001.schema.yaml\n",
      "morpc.frictionless.load_data | INFO | Loading data.\n"
     ]
    }
   ],
   "source": [
    "acs = morpc.census.acs_data('B02001', '2023', '5').load(scope='region15-counties', dirname='./temp_data/')"
   ]
  },
  {
   "cell_type": "markdown",
   "id": "819c850a-7143-4468-bb19-476b6d6450db",
   "metadata": {},
   "source": [
    "## Georeference the data to map"
   ]
  },
  {
   "cell_type": "code",
   "execution_count": 3,
   "id": "9cbce405-4e35-44be-8816-68d40703c4a9",
   "metadata": {},
   "outputs": [
    {
     "name": "stdout",
     "output_type": "stream",
     "text": [
      "morpc.frictionless.load_data | INFO | Loading Frictionless Resource file at location ../../morpc-geos-collect/output_data/morpc-geos.resource.yaml\n",
      "morpc.frictionless.load_data | INFO | Ignoring schema as directed by useSchema parameter.\n",
      "morpc.frictionless.load_data | INFO | Loading data, resource file, and schema (if applicable) from their source locations\n",
      "morpc.frictionless.load_data | INFO | --> Data file: ../../morpc-geos-collect/output_data/morpc-geos.gpkg\n",
      "morpc.frictionless.load_data | INFO | --> Resource file: ../../morpc-geos-collect/output_data/morpc-geos.resource.yaml\n",
      "morpc.frictionless.load_data | INFO | --> Schema file: Not available. Ignoring schema.\n",
      "morpc.frictionless.load_data | INFO | Loading data.\n",
      "morpc.frictionless.load_data | INFO | Skipping casting of field types since we are ignoring schema.\n"
     ]
    },
    {
     "name": "stderr",
     "output_type": "stream",
     "text": [
      "/home/user/miniconda3/envs/morpc_env/lib/python3.11/site-packages/pyogrio/raw.py:198: RuntimeWarning: driver GPKG does not support open option DRIVER\n"
     ]
    }
   ],
   "source": [
    "acs = acs.georeference()"
   ]
  },
  {
   "cell_type": "code",
   "execution_count": 5,
   "id": "ae521ba3-a170-4a3e-bd6a-6601bbefd824",
   "metadata": {},
   "outputs": [
    {
     "ename": "ImportError",
     "evalue": "The 'folium', 'matplotlib' and 'mapclassify' packages are required for 'explore()'. You can install them using 'conda install -c conda-forge folium matplotlib mapclassify' or 'pip install folium matplotlib mapclassify'.",
     "output_type": "error",
     "traceback": [
      "\u001b[31m---------------------------------------------------------------------------\u001b[39m",
      "\u001b[31mModuleNotFoundError\u001b[39m                       Traceback (most recent call last)",
      "\u001b[36mFile \u001b[39m\u001b[32m~/miniconda3/envs/morpc_env/lib/python3.11/site-packages/geopandas/explore.py:285\u001b[39m, in \u001b[36m_explore\u001b[39m\u001b[34m(df, column, cmap, color, m, tiles, attr, tooltip, popup, highlight, categorical, legend, scheme, k, vmin, vmax, width, height, categories, classification_kwds, control_scale, marker_type, marker_kwds, style_kwds, highlight_kwds, missing_kwds, tooltip_kwds, popup_kwds, legend_kwds, map_kwds, **kwargs)\u001b[39m\n\u001b[32m    283\u001b[39m \u001b[38;5;28;01mimport\u001b[39;00m\u001b[38;5;250m \u001b[39m\u001b[34;01mre\u001b[39;00m\n\u001b[32m--> \u001b[39m\u001b[32m285\u001b[39m \u001b[38;5;28;01mimport\u001b[39;00m\u001b[38;5;250m \u001b[39m\u001b[34;01mbranca\u001b[39;00m\u001b[38;5;250m \u001b[39m\u001b[38;5;28;01mas\u001b[39;00m\u001b[38;5;250m \u001b[39m\u001b[34;01mbc\u001b[39;00m\n\u001b[32m    286\u001b[39m \u001b[38;5;28;01mimport\u001b[39;00m\u001b[38;5;250m \u001b[39m\u001b[34;01mfolium\u001b[39;00m\n",
      "\u001b[31mModuleNotFoundError\u001b[39m: No module named 'branca'",
      "\nDuring handling of the above exception, another exception occurred:\n",
      "\u001b[31mImportError\u001b[39m                               Traceback (most recent call last)",
      "\u001b[36mCell\u001b[39m\u001b[36m \u001b[39m\u001b[32mIn[5]\u001b[39m\u001b[32m, line 1\u001b[39m\n\u001b[32m----> \u001b[39m\u001b[32m1\u001b[39m \u001b[43macs\u001b[49m\u001b[43m.\u001b[49m\u001b[43mDATA\u001b[49m\u001b[43m.\u001b[49m\u001b[43mexplore\u001b[49m\u001b[43m(\u001b[49m\u001b[43mcolumn\u001b[49m\u001b[43m=\u001b[49m\u001b[33;43m'\u001b[39;49m\u001b[33;43mB02001_001E\u001b[39;49m\u001b[33;43m'\u001b[39;49m\u001b[43m)\u001b[49m\n",
      "\u001b[36mFile \u001b[39m\u001b[32m~/miniconda3/envs/morpc_env/lib/python3.11/site-packages/geopandas/geodataframe.py:2305\u001b[39m, in \u001b[36mGeoDataFrame.explore\u001b[39m\u001b[34m(self, *args, **kwargs)\u001b[39m\n\u001b[32m   2303\u001b[39m \u001b[38;5;129m@doc\u001b[39m(_explore)\n\u001b[32m   2304\u001b[39m \u001b[38;5;28;01mdef\u001b[39;00m\u001b[38;5;250m \u001b[39m\u001b[34mexplore\u001b[39m(\u001b[38;5;28mself\u001b[39m, *args, **kwargs):\n\u001b[32m-> \u001b[39m\u001b[32m2305\u001b[39m     \u001b[38;5;28;01mreturn\u001b[39;00m \u001b[43m_explore\u001b[49m\u001b[43m(\u001b[49m\u001b[38;5;28;43mself\u001b[39;49m\u001b[43m,\u001b[49m\u001b[43m \u001b[49m\u001b[43m*\u001b[49m\u001b[43margs\u001b[49m\u001b[43m,\u001b[49m\u001b[43m \u001b[49m\u001b[43m*\u001b[49m\u001b[43m*\u001b[49m\u001b[43mkwargs\u001b[49m\u001b[43m)\u001b[49m\n",
      "\u001b[36mFile \u001b[39m\u001b[32m~/miniconda3/envs/morpc_env/lib/python3.11/site-packages/geopandas/explore.py:300\u001b[39m, in \u001b[36m_explore\u001b[39m\u001b[34m(df, column, cmap, color, m, tiles, attr, tooltip, popup, highlight, categorical, legend, scheme, k, vmin, vmax, width, height, categories, classification_kwds, control_scale, marker_type, marker_kwds, style_kwds, highlight_kwds, missing_kwds, tooltip_kwds, popup_kwds, legend_kwds, map_kwds, **kwargs)\u001b[39m\n\u001b[32m    297\u001b[39m         \u001b[38;5;28;01mfrom\u001b[39;00m\u001b[38;5;250m \u001b[39m\u001b[34;01mmatplotlib\u001b[39;00m\u001b[38;5;250m \u001b[39m\u001b[38;5;28;01mimport\u001b[39;00m cm\n\u001b[32m    299\u001b[39m \u001b[38;5;28;01mexcept\u001b[39;00m (\u001b[38;5;167;01mImportError\u001b[39;00m, \u001b[38;5;167;01mModuleNotFoundError\u001b[39;00m):\n\u001b[32m--> \u001b[39m\u001b[32m300\u001b[39m     \u001b[38;5;28;01mraise\u001b[39;00m \u001b[38;5;167;01mImportError\u001b[39;00m(\n\u001b[32m    301\u001b[39m         \u001b[33m\"\u001b[39m\u001b[33mThe \u001b[39m\u001b[33m'\u001b[39m\u001b[33mfolium\u001b[39m\u001b[33m'\u001b[39m\u001b[33m, \u001b[39m\u001b[33m'\u001b[39m\u001b[33mmatplotlib\u001b[39m\u001b[33m'\u001b[39m\u001b[33m and \u001b[39m\u001b[33m'\u001b[39m\u001b[33mmapclassify\u001b[39m\u001b[33m'\u001b[39m\u001b[33m packages are required for \u001b[39m\u001b[33m\"\u001b[39m\n\u001b[32m    302\u001b[39m         \u001b[33m\"\u001b[39m\u001b[33m'\u001b[39m\u001b[33mexplore()\u001b[39m\u001b[33m'\u001b[39m\u001b[33m. You can install them using \u001b[39m\u001b[33m\"\u001b[39m\n\u001b[32m    303\u001b[39m         \u001b[33m\"\u001b[39m\u001b[33m'\u001b[39m\u001b[33mconda install -c conda-forge folium matplotlib mapclassify\u001b[39m\u001b[33m'\u001b[39m\u001b[33m \u001b[39m\u001b[33m\"\u001b[39m\n\u001b[32m    304\u001b[39m         \u001b[33m\"\u001b[39m\u001b[33mor \u001b[39m\u001b[33m'\u001b[39m\u001b[33mpip install folium matplotlib mapclassify\u001b[39m\u001b[33m'\u001b[39m\u001b[33m.\u001b[39m\u001b[33m\"\u001b[39m\n\u001b[32m    305\u001b[39m     )\n\u001b[32m    307\u001b[39m \u001b[38;5;66;03m# xyservices is an optional dependency\u001b[39;00m\n\u001b[32m    308\u001b[39m \u001b[38;5;28;01mtry\u001b[39;00m:\n",
      "\u001b[31mImportError\u001b[39m: The 'folium', 'matplotlib' and 'mapclassify' packages are required for 'explore()'. You can install them using 'conda install -c conda-forge folium matplotlib mapclassify' or 'pip install folium matplotlib mapclassify'."
     ]
    }
   ],
   "source": [
    "acs.DATA.explore(column='B02001_001E')"
   ]
  },
  {
   "cell_type": "markdown",
   "id": "a4f1ebbf-3887-454b-9477-8154bb74f4cc",
   "metadata": {},
   "source": [
    "## Below should still be functional, but hoping to implement into ACS class"
   ]
  },
  {
   "cell_type": "markdown",
   "id": "191c40a3-88c8-443b-ad19-d6ac6913f322",
   "metadata": {
    "editable": true,
    "slideshow": {
     "slide_type": ""
    },
    "tags": []
   },
   "source": [
    "#### Load the data using frictionless.load_data()"
   ]
  },
  {
   "cell_type": "code",
   "execution_count": null,
   "id": "9b337ead-831e-4e03-98c5-62c5e8727136",
   "metadata": {
    "editable": true,
    "slideshow": {
     "slide_type": ""
    },
    "tags": []
   },
   "outputs": [],
   "source": [
    "data, resource, schema = morpc.frictionless.load_data('./temp_data/morpc-acs5-2023-state-B01001.resource.yaml', verbose=False)"
   ]
  },
  {
   "cell_type": "markdown",
   "id": "0fe8041e-fe36-4151-92d3-08e0c1a8e4ae",
   "metadata": {
    "editable": true,
    "slideshow": {
     "slide_type": ""
    },
    "tags": []
   },
   "source": [
    "#### Using ACS_ID_FIELDS to get the fields ids"
   ]
  },
  {
   "cell_type": "code",
   "execution_count": null,
   "id": "f82a9578-0a3a-4398-b0fd-b15bb9dbe9f6",
   "metadata": {
    "editable": true,
    "slideshow": {
     "slide_type": ""
    },
    "tags": []
   },
   "outputs": [],
   "source": [
    "morpc.census.acs_generate_universe_table(data.set_index(\"GEO_ID\"), \"B01001_001\")"
   ]
  },
  {
   "cell_type": "markdown",
   "id": "6a74b3d1-2458-4b02-944c-a9ab17257b7c",
   "metadata": {
    "editable": true,
    "slideshow": {
     "slide_type": ""
    },
    "tags": []
   },
   "source": [
    "#### Create a dimension table with the data and the dimension names"
   ]
  },
  {
   "cell_type": "code",
   "execution_count": null,
   "id": "0522e9a1-7a52-4e72-a0d0-f5ccf1571bcb",
   "metadata": {
    "editable": true,
    "slideshow": {
     "slide_type": ""
    },
    "tags": []
   },
   "outputs": [],
   "source": [
    "dim_table = morpc.census.acs_generate_dimension_table(data.set_index(\"GEO_ID\"), schema, idFields=idFields, dimensionNames=[\"Sex\", \"Age group\"])"
   ]
  },
  {
   "cell_type": "code",
   "execution_count": null,
   "id": "2703597a-da40-4636-8d24-31832903b911",
   "metadata": {
    "editable": true,
    "slideshow": {
     "slide_type": ""
    },
    "tags": []
   },
   "outputs": [],
   "source": [
    "dim_table.loc[dim_table['Variable type'] == 'Estimate'].head()"
   ]
  },
  {
   "cell_type": "markdown",
   "id": "2f31993a-9656-4b4f-8e6e-590a24a6f7e8",
   "metadata": {},
   "source": [
    "### Build ACS Variable Group JSON for Dimension names"
   ]
  },
  {
   "cell_type": "code",
   "execution_count": null,
   "id": "a08e7fbb-d440-4b1e-a578-89100092a0eb",
   "metadata": {},
   "outputs": [],
   "source": [
    "import requests\n",
    "r = requests.get('https://api.census.gov/data/2023/acs/acs5/variables.json')\n",
    "varjson = r.json()"
   ]
  },
  {
   "cell_type": "code",
   "execution_count": null,
   "id": "f42cc2d8-f6da-420b-bca7-2bd631668a84",
   "metadata": {},
   "outputs": [],
   "source": [
    "groups = {}\n",
    "for variable in varjson['variables']:\n",
    "    if variable not in ['for', 'in', 'ucgid', 'GEO_ID', 'AIANHH', 'AIHHTL', 'AIRES', 'ANRC']:\n",
    "        group = varjson['variables'][variable]['group']\n",
    "        if not group[-1].isalpha():\n",
    "            if group not in groups:\n",
    "                groups[group] = {}\n",
    "                groups[group]['concept'] = varjson['variables'][variable]['concept'].replace('Year and Over','Year & Over').replace('Indian and Alaska','Indian & Alaska').replace('Hawaiian and Other','Hawaiian & Other')\n",
    "                groups[group]['dimensions'] = ['TOTAL'] + varjson['variables'][variable]['concept'].replace(' by ',':').replace('Year and Over','Year & Over').replace('Indian and Alaska','Indian & Alaska').replace('Hawaiian and Other','Hawaiian & Other').replace(' and ',':').split(':')\n",
    "                groups[group]['dimensions_verified'] = False\n",
    "                variables = {}\n",
    "                for variable in varjson['variables']:\n",
    "                    if varjson['variables'][variable]['group'] == group:\n",
    "                        variables[variable] = varjson['variables'][variable]['label']\n",
    "                variables = {k: v for k, v in sorted(variables.items(), key=lambda item: item[0])}\n",
    "                groups[group]['variables'] = variables"
   ]
  },
  {
   "cell_type": "code",
   "execution_count": null,
   "id": "409af0a4-f82f-4f12-87c4-c5b5039d73bc",
   "metadata": {},
   "outputs": [],
   "source": [
    "groups = {k: v for k, v in sorted(groups.items(), key=lambda item: item[0])}"
   ]
  },
  {
   "cell_type": "code",
   "execution_count": null,
   "id": "e33f4b60-c466-45be-b3e8-cb88e8df1235",
   "metadata": {},
   "outputs": [],
   "source": [
    "import json\n",
    "with open('../morpc/census/acs_variable_groups.json', 'w') as file:\n",
    "    json.dump(groups, file, indent=3)"
   ]
  },
  {
   "cell_type": "code",
   "execution_count": null,
   "id": "f97d7f0b-bde8-4715-b809-9c368494d1a3",
   "metadata": {},
   "outputs": [],
   "source": []
  }
 ],
 "metadata": {
  "kernelspec": {
   "display_name": "morpc_env",
   "language": "python",
   "name": "python3"
  },
  "language_info": {
   "codemirror_mode": {
    "name": "ipython",
    "version": 3
   },
   "file_extension": ".py",
   "mimetype": "text/x-python",
   "name": "python",
   "nbconvert_exporter": "python",
   "pygments_lexer": "ipython3",
   "version": "3.11.0"
  }
 },
 "nbformat": 4,
 "nbformat_minor": 5
}
