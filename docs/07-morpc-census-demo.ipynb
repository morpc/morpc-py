{
 "cells": [
  {
   "cell_type": "markdown",
   "id": "67dd235a-bfeb-4083-9dbf-c2ea640fd7e9",
   "metadata": {},
   "source": [
    "# Census Data Tools"
   ]
  },
  {
   "cell_type": "markdown",
   "id": "13fa9072-4713-4a57-a147-528879c0d389",
   "metadata": {
    "editable": true,
    "slideshow": {
     "slide_type": ""
    },
    "tags": []
   },
   "source": [
    "# morpc.census"
   ]
  },
  {
   "cell_type": "markdown",
   "id": "7b8b20ce-a5fa-462f-bede-0ef5e2ae6bb5",
   "metadata": {
    "editable": true,
    "slideshow": {
     "slide_type": ""
    },
    "tags": []
   },
   "source": [
    "MORPC works regularly with census data, including but not limited to ACS 5 and 1-year, Decennial Census, PEP, and geographies. The following module is useful for gathering and organizing census data for processes in various workflow. Those workflows are linked when appropriate. "
   ]
  },
  {
   "cell_type": "code",
   "execution_count": 1,
   "id": "05fed715-960a-4ffe-95da-bf3a79b542dd",
   "metadata": {},
   "outputs": [],
   "source": [
    "import morpc"
   ]
  },
  {
   "cell_type": "markdown",
   "id": "b0b85d64-d991-4a4e-ad00-f6658aa82106",
   "metadata": {
    "editable": true,
    "slideshow": {
     "slide_type": ""
    },
    "tags": []
   },
   "source": [
    "### API functions and variables"
   ]
  },
  {
   "cell_type": "markdown",
   "id": "f7633fa8-5a34-4a92-b03f-eb6588706ba6",
   "metadata": {
    "editable": true,
    "slideshow": {
     "slide_type": ""
    },
    "tags": []
   },
   "source": [
    "api_get() is a low-level wrapper for Census API requests that returns the results as a pandas dataframe. If necessary, it splits the request into several smaller requests to bypass the 50-variable limit imposed by the API.  \n",
    "\n",
    "The resulting dataframe is indexed by GEOID (regardless of whether it was requested) and omits other fields that are not requested but which are returned automatically with each API request (e.g. \"state\", \"county\") "
   ]
  },
  {
   "cell_type": "code",
   "execution_count": 2,
   "id": "c4427da4-0688-4df4-869a-2c3c0bd7ac24",
   "metadata": {
    "editable": true,
    "slideshow": {
     "slide_type": ""
    },
    "tags": []
   },
   "outputs": [],
   "source": [
    "url = 'https://api.census.gov/data/2022/acs/acs1'\n",
    "params = {\n",
    "    \"get\": \"GEO_ID,NAME,B01001_001E\",\n",
    "    \"for\": \"county:049,041\",\n",
    "    \"in\": \"state:39\"\n",
    "}"
   ]
  },
  {
   "cell_type": "code",
   "execution_count": 3,
   "id": "6e899568-1d61-48f6-8bf7-40107991ee11",
   "metadata": {
    "editable": true,
    "slideshow": {
     "slide_type": ""
    },
    "tags": []
   },
   "outputs": [
    {
     "name": "stdout",
     "output_type": "stream",
     "text": [
      "Total variables requested: 3\n",
      "Starting request #1. 3 variables remain.\n"
     ]
    }
   ],
   "source": [
    "api = morpc.census.api_get(url, params)"
   ]
  },
  {
   "cell_type": "code",
   "execution_count": 4,
   "id": "47d8fe18-7e1b-4637-b5e1-e07536ba5b59",
   "metadata": {
    "editable": true,
    "slideshow": {
     "slide_type": ""
    },
    "tags": []
   },
   "outputs": [
    {
     "data": {
      "text/html": [
       "<div>\n",
       "<style scoped>\n",
       "    .dataframe tbody tr th:only-of-type {\n",
       "        vertical-align: middle;\n",
       "    }\n",
       "\n",
       "    .dataframe tbody tr th {\n",
       "        vertical-align: top;\n",
       "    }\n",
       "\n",
       "    .dataframe thead th {\n",
       "        text-align: right;\n",
       "    }\n",
       "</style>\n",
       "<table border=\"1\" class=\"dataframe\">\n",
       "  <thead>\n",
       "    <tr style=\"text-align: right;\">\n",
       "      <th></th>\n",
       "      <th>NAME</th>\n",
       "      <th>B01001_001E</th>\n",
       "    </tr>\n",
       "    <tr>\n",
       "      <th>GEO_ID</th>\n",
       "      <th></th>\n",
       "      <th></th>\n",
       "    </tr>\n",
       "  </thead>\n",
       "  <tbody>\n",
       "    <tr>\n",
       "      <th>0500000US39041</th>\n",
       "      <td>Delaware County, Ohio</td>\n",
       "      <td>226296</td>\n",
       "    </tr>\n",
       "    <tr>\n",
       "      <th>0500000US39049</th>\n",
       "      <td>Franklin County, Ohio</td>\n",
       "      <td>1321820</td>\n",
       "    </tr>\n",
       "  </tbody>\n",
       "</table>\n",
       "</div>"
      ],
      "text/plain": [
       "                                 NAME B01001_001E\n",
       "GEO_ID                                           \n",
       "0500000US39041  Delaware County, Ohio      226296\n",
       "0500000US39049  Franklin County, Ohio     1321820"
      ]
     },
     "execution_count": 4,
     "metadata": {},
     "output_type": "execute_result"
    }
   ],
   "source": [
    "api"
   ]
  },
  {
   "cell_type": "markdown",
   "id": "9c6072a9-4769-4119-81e8-3d84fdff2461",
   "metadata": {
    "editable": true,
    "slideshow": {
     "slide_type": ""
    },
    "tags": []
   },
   "source": [
    "### American Community Survey (ACS) Data"
   ]
  },
  {
   "cell_type": "markdown",
   "id": "5e3446b3-9ab5-47c0-b43d-9037a242318d",
   "metadata": {
    "editable": true,
    "slideshow": {
     "slide_type": ""
    },
    "tags": []
   },
   "source": [
    "When using ACS data, generally we will be digesting data produded using the [morpc-censusacs-fetch](https://github.com/morpc/morpc-censusacs-fetch) workflow. The data that is produced from that script is by default saved in its output_data folders ./morpc-censusacs-fetch/output_data/\n",
    "\n",
    "The Census ACS Fetch script leverages the `acs_data` class form `morpc.census`\n"
   ]
  },
  {
   "cell_type": "markdown",
   "id": "608f1325-7628-4406-ab85-57c2cdc1edcf",
   "metadata": {},
   "source": [
    "### Create an initial object which represents a variable in the ACS data api."
   ]
  },
  {
   "cell_type": "markdown",
   "id": "17518b8d-f37a-4d76-a9b7-28164604dddb",
   "metadata": {},
   "source": [
    "The class takes 3 arguments, variable group number, the year, and the type of survey (1 or 5 year estimates)."
   ]
  },
  {
   "cell_type": "code",
   "execution_count": 5,
   "id": "2e12e814-e097-4448-9b13-321d63c2ee7a",
   "metadata": {},
   "outputs": [],
   "source": [
    "acs = morpc.census.acs_data('B11001', '2023', '5')"
   ]
  },
  {
   "cell_type": "markdown",
   "id": "6467c2db-d69d-4bbd-bb44-99f36d62be5a",
   "metadata": {},
   "source": [
    "The initial call creates queries the Census for the variable definitions and returns a dictionary of the available variables in the group. see `acs.VARS`"
   ]
  },
  {
   "cell_type": "code",
   "execution_count": 6,
   "id": "e29bca9d-9b85-4ab2-b74e-039721b32b06",
   "metadata": {},
   "outputs": [
    {
     "data": {
      "text/plain": [
       "{'B11001_001E': {'label': 'Estimate!!Total:',\n",
       "  'concept': 'Household Type (Including Living Alone)',\n",
       "  'predicateType': 'int',\n",
       "  'group': 'B11001',\n",
       "  'limit': 0,\n",
       "  'attributes': 'B11001_001EA,B11001_001M,B11001_001MA'},\n",
       " 'B11001_002E': {'label': 'Estimate!!Total:!!Family households:',\n",
       "  'concept': 'Household Type (Including Living Alone)',\n",
       "  'predicateType': 'int',\n",
       "  'group': 'B11001',\n",
       "  'limit': 0,\n",
       "  'attributes': 'B11001_002EA,B11001_002M,B11001_002MA'},\n",
       " 'B11001_003E': {'label': 'Estimate!!Total:!!Family households:!!Married-couple family',\n",
       "  'concept': 'Household Type (Including Living Alone)',\n",
       "  'predicateType': 'int',\n",
       "  'group': 'B11001',\n",
       "  'limit': 0,\n",
       "  'attributes': 'B11001_003EA,B11001_003M,B11001_003MA'},\n",
       " 'B11001_004E': {'label': 'Estimate!!Total:!!Family households:!!Other family:',\n",
       "  'concept': 'Household Type (Including Living Alone)',\n",
       "  'predicateType': 'int',\n",
       "  'group': 'B11001',\n",
       "  'limit': 0,\n",
       "  'attributes': 'B11001_004EA,B11001_004M,B11001_004MA'},\n",
       " 'B11001_005E': {'label': 'Estimate!!Total:!!Family households:!!Other family:!!Male householder, no spouse present',\n",
       "  'concept': 'Household Type (Including Living Alone)',\n",
       "  'predicateType': 'int',\n",
       "  'group': 'B11001',\n",
       "  'limit': 0,\n",
       "  'attributes': 'B11001_005EA,B11001_005M,B11001_005MA'},\n",
       " 'B11001_006E': {'label': 'Estimate!!Total:!!Family households:!!Other family:!!Female householder, no spouse present',\n",
       "  'concept': 'Household Type (Including Living Alone)',\n",
       "  'predicateType': 'int',\n",
       "  'group': 'B11001',\n",
       "  'limit': 0,\n",
       "  'attributes': 'B11001_006EA,B11001_006M,B11001_006MA'},\n",
       " 'B11001_007E': {'label': 'Estimate!!Total:!!Nonfamily households:',\n",
       "  'concept': 'Household Type (Including Living Alone)',\n",
       "  'predicateType': 'int',\n",
       "  'group': 'B11001',\n",
       "  'limit': 0,\n",
       "  'attributes': 'B11001_007EA,B11001_007M,B11001_007MA'},\n",
       " 'B11001_008E': {'label': 'Estimate!!Total:!!Nonfamily households:!!Householder living alone',\n",
       "  'concept': 'Household Type (Including Living Alone)',\n",
       "  'predicateType': 'int',\n",
       "  'group': 'B11001',\n",
       "  'limit': 0,\n",
       "  'attributes': 'B11001_008EA,B11001_008M,B11001_008MA'},\n",
       " 'B11001_009E': {'label': 'Estimate!!Total:!!Nonfamily households:!!Householder not living alone',\n",
       "  'concept': 'Household Type (Including Living Alone)',\n",
       "  'predicateType': 'int',\n",
       "  'group': 'B11001',\n",
       "  'limit': 0,\n",
       "  'attributes': 'B11001_009EA,B11001_009M,B11001_009MA'}}"
      ]
     },
     "execution_count": 6,
     "metadata": {},
     "output_type": "execute_result"
    }
   ],
   "source": [
    "acs.VARS"
   ]
  },
  {
   "cell_type": "markdown",
   "id": "b5a82123-0904-4430-a373-637d86f0ed4c",
   "metadata": {},
   "source": [
    "### Query the API for the deisred variables and geography"
   ]
  },
  {
   "cell_type": "markdown",
   "id": "7884dcff-59d3-48dc-b94f-984f1e270031",
   "metadata": {},
   "source": [
    "The `.query()` method queries the API and caches the data in memory under `acs.DATA`. At the same time it creates a frictionless schema that corrosponds with the data. \n",
    "\n",
    "#### scope:\n",
    "These are pre-defined sumlevels and scopes for commonly queried geographies. see `morpc.census.SCOPES`.\n",
    "\n",
    "### For custom queries, use for and in parameters to pass to api query. \n",
    "\n",
    "#### for_param:\n",
    "(optional) The geographies for which to call the the query \"state:*\" represents all states. \"state:39\" represent Ohio.\n",
    "\n",
    "#### in_param:\n",
    "(Optional) A filter for the for parameter. In combinations this allows you do call for small geograhpies inside larger ones. \n",
    "\n",
    "> Examples: for_param=\"county:\\*\", in_param=\"state:39\" would get all counties in Ohio.\n",
    "> for_param=\"tract:\\*\", in_param='state:39,county:041,049' gets all census tracts in Delaware and Franklin Counties.\n",
    "\n",
    "### Filter the variables using the get parameter\n",
    "\n",
    "#### get_param:\n",
    "(Optional) If you want to return a subset of variables, they can be passed here as a list."
   ]
  },
  {
   "cell_type": "markdown",
   "id": "f079d2bd-217f-4bf0-b4b0-5f5aaf40df67",
   "metadata": {},
   "source": [
    "### Or, Query using predefined scopes."
   ]
  },
  {
   "cell_type": "code",
   "execution_count": 7,
   "id": "6edc98dd-d4ee-4463-924b-6e50414c9f91",
   "metadata": {},
   "outputs": [
    {
     "name": "stdout",
     "output_type": "stream",
     "text": [
      "morpc-acs5-2023-region15-counties-b11001 schema is valid\n",
      "Total variables requested: 19\n",
      "Starting request #1. 19 variables remain.\n"
     ]
    }
   ],
   "source": [
    "acs.query(scope='region15-counties')"
   ]
  },
  {
   "cell_type": "markdown",
   "id": "ab4ad350-b671-4577-8a12-e8e6000f3ca8",
   "metadata": {},
   "source": [
    "### View the data"
   ]
  },
  {
   "cell_type": "code",
   "execution_count": 8,
   "id": "b1679733-7386-4617-b7d8-22e7000c397a",
   "metadata": {},
   "outputs": [
    {
     "data": {
      "text/html": [
       "<div>\n",
       "<style scoped>\n",
       "    .dataframe tbody tr th:only-of-type {\n",
       "        vertical-align: middle;\n",
       "    }\n",
       "\n",
       "    .dataframe tbody tr th {\n",
       "        vertical-align: top;\n",
       "    }\n",
       "\n",
       "    .dataframe thead th {\n",
       "        text-align: right;\n",
       "    }\n",
       "</style>\n",
       "<table border=\"1\" class=\"dataframe\">\n",
       "  <thead>\n",
       "    <tr style=\"text-align: right;\">\n",
       "      <th></th>\n",
       "      <th>B11001_001E</th>\n",
       "      <th>B11001_001M</th>\n",
       "      <th>B11001_002E</th>\n",
       "      <th>B11001_002M</th>\n",
       "      <th>B11001_003E</th>\n",
       "      <th>B11001_003M</th>\n",
       "      <th>B11001_004E</th>\n",
       "      <th>B11001_004M</th>\n",
       "      <th>B11001_005E</th>\n",
       "      <th>B11001_005M</th>\n",
       "      <th>B11001_006E</th>\n",
       "      <th>B11001_006M</th>\n",
       "      <th>B11001_007E</th>\n",
       "      <th>B11001_007M</th>\n",
       "      <th>B11001_008E</th>\n",
       "      <th>B11001_008M</th>\n",
       "      <th>B11001_009E</th>\n",
       "      <th>B11001_009M</th>\n",
       "    </tr>\n",
       "    <tr>\n",
       "      <th>GEO_ID</th>\n",
       "      <th></th>\n",
       "      <th></th>\n",
       "      <th></th>\n",
       "      <th></th>\n",
       "      <th></th>\n",
       "      <th></th>\n",
       "      <th></th>\n",
       "      <th></th>\n",
       "      <th></th>\n",
       "      <th></th>\n",
       "      <th></th>\n",
       "      <th></th>\n",
       "      <th></th>\n",
       "      <th></th>\n",
       "      <th></th>\n",
       "      <th></th>\n",
       "      <th></th>\n",
       "      <th></th>\n",
       "    </tr>\n",
       "  </thead>\n",
       "  <tbody>\n",
       "    <tr>\n",
       "      <th>0500000US39041</th>\n",
       "      <td>80455</td>\n",
       "      <td>530</td>\n",
       "      <td>61028</td>\n",
       "      <td>838</td>\n",
       "      <td>51755</td>\n",
       "      <td>1091</td>\n",
       "      <td>9273</td>\n",
       "      <td>752</td>\n",
       "      <td>3127</td>\n",
       "      <td>446</td>\n",
       "      <td>6146</td>\n",
       "      <td>586</td>\n",
       "      <td>19427</td>\n",
       "      <td>950</td>\n",
       "      <td>16217</td>\n",
       "      <td>917</td>\n",
       "      <td>3210</td>\n",
       "      <td>400</td>\n",
       "    </tr>\n",
       "    <tr>\n",
       "      <th>0500000US39045</th>\n",
       "      <td>59979</td>\n",
       "      <td>510</td>\n",
       "      <td>43253</td>\n",
       "      <td>884</td>\n",
       "      <td>33336</td>\n",
       "      <td>923</td>\n",
       "      <td>9917</td>\n",
       "      <td>792</td>\n",
       "      <td>3221</td>\n",
       "      <td>424</td>\n",
       "      <td>6696</td>\n",
       "      <td>662</td>\n",
       "      <td>16726</td>\n",
       "      <td>795</td>\n",
       "      <td>13678</td>\n",
       "      <td>805</td>\n",
       "      <td>3048</td>\n",
       "      <td>454</td>\n",
       "    </tr>\n",
       "    <tr>\n",
       "      <th>0500000US39047</th>\n",
       "      <td>11635</td>\n",
       "      <td>239</td>\n",
       "      <td>7341</td>\n",
       "      <td>347</td>\n",
       "      <td>5388</td>\n",
       "      <td>325</td>\n",
       "      <td>1953</td>\n",
       "      <td>260</td>\n",
       "      <td>693</td>\n",
       "      <td>161</td>\n",
       "      <td>1260</td>\n",
       "      <td>206</td>\n",
       "      <td>4294</td>\n",
       "      <td>372</td>\n",
       "      <td>3425</td>\n",
       "      <td>327</td>\n",
       "      <td>869</td>\n",
       "      <td>206</td>\n",
       "    </tr>\n",
       "    <tr>\n",
       "      <th>0500000US39049</th>\n",
       "      <td>547922</td>\n",
       "      <td>1767</td>\n",
       "      <td>312682</td>\n",
       "      <td>3140</td>\n",
       "      <td>210814</td>\n",
       "      <td>2936</td>\n",
       "      <td>101868</td>\n",
       "      <td>2740</td>\n",
       "      <td>27792</td>\n",
       "      <td>1453</td>\n",
       "      <td>74076</td>\n",
       "      <td>2069</td>\n",
       "      <td>235240</td>\n",
       "      <td>3220</td>\n",
       "      <td>181656</td>\n",
       "      <td>3175</td>\n",
       "      <td>53584</td>\n",
       "      <td>1904</td>\n",
       "    </tr>\n",
       "    <tr>\n",
       "      <th>0500000US39073</th>\n",
       "      <td>11565</td>\n",
       "      <td>286</td>\n",
       "      <td>8201</td>\n",
       "      <td>369</td>\n",
       "      <td>5923</td>\n",
       "      <td>417</td>\n",
       "      <td>2278</td>\n",
       "      <td>343</td>\n",
       "      <td>952</td>\n",
       "      <td>279</td>\n",
       "      <td>1326</td>\n",
       "      <td>257</td>\n",
       "      <td>3364</td>\n",
       "      <td>345</td>\n",
       "      <td>2816</td>\n",
       "      <td>329</td>\n",
       "      <td>548</td>\n",
       "      <td>120</td>\n",
       "    </tr>\n",
       "    <tr>\n",
       "      <th>0500000US39083</th>\n",
       "      <td>23435</td>\n",
       "      <td>457</td>\n",
       "      <td>15762</td>\n",
       "      <td>610</td>\n",
       "      <td>13070</td>\n",
       "      <td>612</td>\n",
       "      <td>2692</td>\n",
       "      <td>386</td>\n",
       "      <td>862</td>\n",
       "      <td>209</td>\n",
       "      <td>1830</td>\n",
       "      <td>296</td>\n",
       "      <td>7673</td>\n",
       "      <td>609</td>\n",
       "      <td>6617</td>\n",
       "      <td>605</td>\n",
       "      <td>1056</td>\n",
       "      <td>223</td>\n",
       "    </tr>\n",
       "    <tr>\n",
       "      <th>0500000US39089</th>\n",
       "      <td>68305</td>\n",
       "      <td>557</td>\n",
       "      <td>47574</td>\n",
       "      <td>847</td>\n",
       "      <td>37217</td>\n",
       "      <td>912</td>\n",
       "      <td>10357</td>\n",
       "      <td>757</td>\n",
       "      <td>3063</td>\n",
       "      <td>446</td>\n",
       "      <td>7294</td>\n",
       "      <td>618</td>\n",
       "      <td>20731</td>\n",
       "      <td>973</td>\n",
       "      <td>16564</td>\n",
       "      <td>843</td>\n",
       "      <td>4167</td>\n",
       "      <td>498</td>\n",
       "    </tr>\n",
       "    <tr>\n",
       "      <th>0500000US39091</th>\n",
       "      <td>19558</td>\n",
       "      <td>407</td>\n",
       "      <td>13049</td>\n",
       "      <td>374</td>\n",
       "      <td>10194</td>\n",
       "      <td>446</td>\n",
       "      <td>2855</td>\n",
       "      <td>351</td>\n",
       "      <td>1089</td>\n",
       "      <td>233</td>\n",
       "      <td>1766</td>\n",
       "      <td>272</td>\n",
       "      <td>6509</td>\n",
       "      <td>471</td>\n",
       "      <td>5268</td>\n",
       "      <td>410</td>\n",
       "      <td>1241</td>\n",
       "      <td>248</td>\n",
       "    </tr>\n",
       "    <tr>\n",
       "      <th>0500000US39097</th>\n",
       "      <td>15361</td>\n",
       "      <td>312</td>\n",
       "      <td>10139</td>\n",
       "      <td>419</td>\n",
       "      <td>7749</td>\n",
       "      <td>445</td>\n",
       "      <td>2390</td>\n",
       "      <td>365</td>\n",
       "      <td>646</td>\n",
       "      <td>174</td>\n",
       "      <td>1744</td>\n",
       "      <td>297</td>\n",
       "      <td>5222</td>\n",
       "      <td>432</td>\n",
       "      <td>4262</td>\n",
       "      <td>430</td>\n",
       "      <td>960</td>\n",
       "      <td>230</td>\n",
       "    </tr>\n",
       "    <tr>\n",
       "      <th>0500000US39101</th>\n",
       "      <td>24524</td>\n",
       "      <td>340</td>\n",
       "      <td>15263</td>\n",
       "      <td>600</td>\n",
       "      <td>10908</td>\n",
       "      <td>594</td>\n",
       "      <td>4355</td>\n",
       "      <td>406</td>\n",
       "      <td>1524</td>\n",
       "      <td>263</td>\n",
       "      <td>2831</td>\n",
       "      <td>360</td>\n",
       "      <td>9261</td>\n",
       "      <td>511</td>\n",
       "      <td>7730</td>\n",
       "      <td>475</td>\n",
       "      <td>1531</td>\n",
       "      <td>272</td>\n",
       "    </tr>\n",
       "    <tr>\n",
       "      <th>0500000US39117</th>\n",
       "      <td>13449</td>\n",
       "      <td>293</td>\n",
       "      <td>9617</td>\n",
       "      <td>472</td>\n",
       "      <td>7584</td>\n",
       "      <td>483</td>\n",
       "      <td>2033</td>\n",
       "      <td>350</td>\n",
       "      <td>812</td>\n",
       "      <td>253</td>\n",
       "      <td>1221</td>\n",
       "      <td>270</td>\n",
       "      <td>3832</td>\n",
       "      <td>404</td>\n",
       "      <td>2997</td>\n",
       "      <td>380</td>\n",
       "      <td>835</td>\n",
       "      <td>208</td>\n",
       "    </tr>\n",
       "    <tr>\n",
       "      <th>0500000US39127</th>\n",
       "      <td>13349</td>\n",
       "      <td>295</td>\n",
       "      <td>9537</td>\n",
       "      <td>396</td>\n",
       "      <td>6993</td>\n",
       "      <td>421</td>\n",
       "      <td>2544</td>\n",
       "      <td>324</td>\n",
       "      <td>770</td>\n",
       "      <td>177</td>\n",
       "      <td>1774</td>\n",
       "      <td>283</td>\n",
       "      <td>3812</td>\n",
       "      <td>322</td>\n",
       "      <td>3021</td>\n",
       "      <td>294</td>\n",
       "      <td>791</td>\n",
       "      <td>204</td>\n",
       "    </tr>\n",
       "    <tr>\n",
       "      <th>0500000US39129</th>\n",
       "      <td>21412</td>\n",
       "      <td>279</td>\n",
       "      <td>14808</td>\n",
       "      <td>474</td>\n",
       "      <td>11201</td>\n",
       "      <td>519</td>\n",
       "      <td>3607</td>\n",
       "      <td>454</td>\n",
       "      <td>1146</td>\n",
       "      <td>273</td>\n",
       "      <td>2461</td>\n",
       "      <td>369</td>\n",
       "      <td>6604</td>\n",
       "      <td>498</td>\n",
       "      <td>5632</td>\n",
       "      <td>490</td>\n",
       "      <td>972</td>\n",
       "      <td>244</td>\n",
       "    </tr>\n",
       "    <tr>\n",
       "      <th>0500000US39141</th>\n",
       "      <td>29429</td>\n",
       "      <td>440</td>\n",
       "      <td>18539</td>\n",
       "      <td>699</td>\n",
       "      <td>13480</td>\n",
       "      <td>722</td>\n",
       "      <td>5059</td>\n",
       "      <td>569</td>\n",
       "      <td>1549</td>\n",
       "      <td>288</td>\n",
       "      <td>3510</td>\n",
       "      <td>438</td>\n",
       "      <td>10890</td>\n",
       "      <td>779</td>\n",
       "      <td>9379</td>\n",
       "      <td>738</td>\n",
       "      <td>1511</td>\n",
       "      <td>335</td>\n",
       "    </tr>\n",
       "    <tr>\n",
       "      <th>0500000US39159</th>\n",
       "      <td>23495</td>\n",
       "      <td>266</td>\n",
       "      <td>17567</td>\n",
       "      <td>529</td>\n",
       "      <td>14197</td>\n",
       "      <td>512</td>\n",
       "      <td>3370</td>\n",
       "      <td>430</td>\n",
       "      <td>1274</td>\n",
       "      <td>269</td>\n",
       "      <td>2096</td>\n",
       "      <td>305</td>\n",
       "      <td>5928</td>\n",
       "      <td>570</td>\n",
       "      <td>4712</td>\n",
       "      <td>523</td>\n",
       "      <td>1216</td>\n",
       "      <td>293</td>\n",
       "    </tr>\n",
       "  </tbody>\n",
       "</table>\n",
       "</div>"
      ],
      "text/plain": [
       "                B11001_001E  B11001_001M  B11001_002E  B11001_002M  \\\n",
       "GEO_ID                                                               \n",
       "0500000US39041        80455          530        61028          838   \n",
       "0500000US39045        59979          510        43253          884   \n",
       "0500000US39047        11635          239         7341          347   \n",
       "0500000US39049       547922         1767       312682         3140   \n",
       "0500000US39073        11565          286         8201          369   \n",
       "0500000US39083        23435          457        15762          610   \n",
       "0500000US39089        68305          557        47574          847   \n",
       "0500000US39091        19558          407        13049          374   \n",
       "0500000US39097        15361          312        10139          419   \n",
       "0500000US39101        24524          340        15263          600   \n",
       "0500000US39117        13449          293         9617          472   \n",
       "0500000US39127        13349          295         9537          396   \n",
       "0500000US39129        21412          279        14808          474   \n",
       "0500000US39141        29429          440        18539          699   \n",
       "0500000US39159        23495          266        17567          529   \n",
       "\n",
       "                B11001_003E  B11001_003M  B11001_004E  B11001_004M  \\\n",
       "GEO_ID                                                               \n",
       "0500000US39041        51755         1091         9273          752   \n",
       "0500000US39045        33336          923         9917          792   \n",
       "0500000US39047         5388          325         1953          260   \n",
       "0500000US39049       210814         2936       101868         2740   \n",
       "0500000US39073         5923          417         2278          343   \n",
       "0500000US39083        13070          612         2692          386   \n",
       "0500000US39089        37217          912        10357          757   \n",
       "0500000US39091        10194          446         2855          351   \n",
       "0500000US39097         7749          445         2390          365   \n",
       "0500000US39101        10908          594         4355          406   \n",
       "0500000US39117         7584          483         2033          350   \n",
       "0500000US39127         6993          421         2544          324   \n",
       "0500000US39129        11201          519         3607          454   \n",
       "0500000US39141        13480          722         5059          569   \n",
       "0500000US39159        14197          512         3370          430   \n",
       "\n",
       "                B11001_005E  B11001_005M  B11001_006E  B11001_006M  \\\n",
       "GEO_ID                                                               \n",
       "0500000US39041         3127          446         6146          586   \n",
       "0500000US39045         3221          424         6696          662   \n",
       "0500000US39047          693          161         1260          206   \n",
       "0500000US39049        27792         1453        74076         2069   \n",
       "0500000US39073          952          279         1326          257   \n",
       "0500000US39083          862          209         1830          296   \n",
       "0500000US39089         3063          446         7294          618   \n",
       "0500000US39091         1089          233         1766          272   \n",
       "0500000US39097          646          174         1744          297   \n",
       "0500000US39101         1524          263         2831          360   \n",
       "0500000US39117          812          253         1221          270   \n",
       "0500000US39127          770          177         1774          283   \n",
       "0500000US39129         1146          273         2461          369   \n",
       "0500000US39141         1549          288         3510          438   \n",
       "0500000US39159         1274          269         2096          305   \n",
       "\n",
       "                B11001_007E  B11001_007M  B11001_008E  B11001_008M  \\\n",
       "GEO_ID                                                               \n",
       "0500000US39041        19427          950        16217          917   \n",
       "0500000US39045        16726          795        13678          805   \n",
       "0500000US39047         4294          372         3425          327   \n",
       "0500000US39049       235240         3220       181656         3175   \n",
       "0500000US39073         3364          345         2816          329   \n",
       "0500000US39083         7673          609         6617          605   \n",
       "0500000US39089        20731          973        16564          843   \n",
       "0500000US39091         6509          471         5268          410   \n",
       "0500000US39097         5222          432         4262          430   \n",
       "0500000US39101         9261          511         7730          475   \n",
       "0500000US39117         3832          404         2997          380   \n",
       "0500000US39127         3812          322         3021          294   \n",
       "0500000US39129         6604          498         5632          490   \n",
       "0500000US39141        10890          779         9379          738   \n",
       "0500000US39159         5928          570         4712          523   \n",
       "\n",
       "                B11001_009E  B11001_009M  \n",
       "GEO_ID                                    \n",
       "0500000US39041         3210          400  \n",
       "0500000US39045         3048          454  \n",
       "0500000US39047          869          206  \n",
       "0500000US39049        53584         1904  \n",
       "0500000US39073          548          120  \n",
       "0500000US39083         1056          223  \n",
       "0500000US39089         4167          498  \n",
       "0500000US39091         1241          248  \n",
       "0500000US39097          960          230  \n",
       "0500000US39101         1531          272  \n",
       "0500000US39117          835          208  \n",
       "0500000US39127          791          204  \n",
       "0500000US39129          972          244  \n",
       "0500000US39141         1511          335  \n",
       "0500000US39159         1216          293  "
      ]
     },
     "execution_count": 8,
     "metadata": {},
     "output_type": "execute_result"
    }
   ],
   "source": [
    "acs.DATA"
   ]
  },
  {
   "cell_type": "markdown",
   "id": "64db52d7-696d-4b1f-b200-a586e8f7541d",
   "metadata": {},
   "source": [
    "### and dimension tables"
   ]
  },
  {
   "cell_type": "code",
   "execution_count": 9,
   "id": "83ce99bb-c273-48bc-90c0-eee4aeba3334",
   "metadata": {},
   "outputs": [
    {
     "data": {
      "text/html": [
       "<div>\n",
       "<style scoped>\n",
       "    .dataframe tbody tr th:only-of-type {\n",
       "        vertical-align: middle;\n",
       "    }\n",
       "\n",
       "    .dataframe tbody tr th {\n",
       "        vertical-align: top;\n",
       "    }\n",
       "\n",
       "    .dataframe thead th {\n",
       "        text-align: right;\n",
       "    }\n",
       "</style>\n",
       "<table border=\"1\" class=\"dataframe\">\n",
       "  <thead>\n",
       "    <tr style=\"text-align: right;\">\n",
       "      <th></th>\n",
       "      <th>GEO_ID</th>\n",
       "      <th>VARIABLE</th>\n",
       "      <th>VALUE</th>\n",
       "      <th>VAR_TYPE</th>\n",
       "      <th>DIM_1</th>\n",
       "      <th>DIM_2</th>\n",
       "      <th>DIM_3</th>\n",
       "    </tr>\n",
       "  </thead>\n",
       "  <tbody>\n",
       "    <tr>\n",
       "      <th>0</th>\n",
       "      <td>0500000US39041</td>\n",
       "      <td>B11001_001E</td>\n",
       "      <td>80455</td>\n",
       "      <td>Estimate</td>\n",
       "      <td>NaN</td>\n",
       "      <td>NaN</td>\n",
       "      <td>NaN</td>\n",
       "    </tr>\n",
       "    <tr>\n",
       "      <th>1</th>\n",
       "      <td>0500000US39045</td>\n",
       "      <td>B11001_001E</td>\n",
       "      <td>59979</td>\n",
       "      <td>Estimate</td>\n",
       "      <td>NaN</td>\n",
       "      <td>NaN</td>\n",
       "      <td>NaN</td>\n",
       "    </tr>\n",
       "    <tr>\n",
       "      <th>2</th>\n",
       "      <td>0500000US39047</td>\n",
       "      <td>B11001_001E</td>\n",
       "      <td>11635</td>\n",
       "      <td>Estimate</td>\n",
       "      <td>NaN</td>\n",
       "      <td>NaN</td>\n",
       "      <td>NaN</td>\n",
       "    </tr>\n",
       "    <tr>\n",
       "      <th>3</th>\n",
       "      <td>0500000US39049</td>\n",
       "      <td>B11001_001E</td>\n",
       "      <td>547922</td>\n",
       "      <td>Estimate</td>\n",
       "      <td>NaN</td>\n",
       "      <td>NaN</td>\n",
       "      <td>NaN</td>\n",
       "    </tr>\n",
       "    <tr>\n",
       "      <th>4</th>\n",
       "      <td>0500000US39073</td>\n",
       "      <td>B11001_001E</td>\n",
       "      <td>11565</td>\n",
       "      <td>Estimate</td>\n",
       "      <td>NaN</td>\n",
       "      <td>NaN</td>\n",
       "      <td>NaN</td>\n",
       "    </tr>\n",
       "    <tr>\n",
       "      <th>...</th>\n",
       "      <td>...</td>\n",
       "      <td>...</td>\n",
       "      <td>...</td>\n",
       "      <td>...</td>\n",
       "      <td>...</td>\n",
       "      <td>...</td>\n",
       "      <td>...</td>\n",
       "    </tr>\n",
       "    <tr>\n",
       "      <th>265</th>\n",
       "      <td>0500000US39117</td>\n",
       "      <td>B11001_009M</td>\n",
       "      <td>208</td>\n",
       "      <td>MOE</td>\n",
       "      <td>Nonfamily households</td>\n",
       "      <td>Householder not living alone</td>\n",
       "      <td>NaN</td>\n",
       "    </tr>\n",
       "    <tr>\n",
       "      <th>266</th>\n",
       "      <td>0500000US39127</td>\n",
       "      <td>B11001_009M</td>\n",
       "      <td>204</td>\n",
       "      <td>MOE</td>\n",
       "      <td>Nonfamily households</td>\n",
       "      <td>Householder not living alone</td>\n",
       "      <td>NaN</td>\n",
       "    </tr>\n",
       "    <tr>\n",
       "      <th>267</th>\n",
       "      <td>0500000US39129</td>\n",
       "      <td>B11001_009M</td>\n",
       "      <td>244</td>\n",
       "      <td>MOE</td>\n",
       "      <td>Nonfamily households</td>\n",
       "      <td>Householder not living alone</td>\n",
       "      <td>NaN</td>\n",
       "    </tr>\n",
       "    <tr>\n",
       "      <th>268</th>\n",
       "      <td>0500000US39141</td>\n",
       "      <td>B11001_009M</td>\n",
       "      <td>335</td>\n",
       "      <td>MOE</td>\n",
       "      <td>Nonfamily households</td>\n",
       "      <td>Householder not living alone</td>\n",
       "      <td>NaN</td>\n",
       "    </tr>\n",
       "    <tr>\n",
       "      <th>269</th>\n",
       "      <td>0500000US39159</td>\n",
       "      <td>B11001_009M</td>\n",
       "      <td>293</td>\n",
       "      <td>MOE</td>\n",
       "      <td>Nonfamily households</td>\n",
       "      <td>Householder not living alone</td>\n",
       "      <td>NaN</td>\n",
       "    </tr>\n",
       "  </tbody>\n",
       "</table>\n",
       "<p>270 rows × 7 columns</p>\n",
       "</div>"
      ],
      "text/plain": [
       "             GEO_ID     VARIABLE   VALUE  VAR_TYPE                 DIM_1  \\\n",
       "0    0500000US39041  B11001_001E   80455  Estimate                   NaN   \n",
       "1    0500000US39045  B11001_001E   59979  Estimate                   NaN   \n",
       "2    0500000US39047  B11001_001E   11635  Estimate                   NaN   \n",
       "3    0500000US39049  B11001_001E  547922  Estimate                   NaN   \n",
       "4    0500000US39073  B11001_001E   11565  Estimate                   NaN   \n",
       "..              ...          ...     ...       ...                   ...   \n",
       "265  0500000US39117  B11001_009M     208       MOE  Nonfamily households   \n",
       "266  0500000US39127  B11001_009M     204       MOE  Nonfamily households   \n",
       "267  0500000US39129  B11001_009M     244       MOE  Nonfamily households   \n",
       "268  0500000US39141  B11001_009M     335       MOE  Nonfamily households   \n",
       "269  0500000US39159  B11001_009M     293       MOE  Nonfamily households   \n",
       "\n",
       "                            DIM_2 DIM_3  \n",
       "0                             NaN   NaN  \n",
       "1                             NaN   NaN  \n",
       "2                             NaN   NaN  \n",
       "3                             NaN   NaN  \n",
       "4                             NaN   NaN  \n",
       "..                            ...   ...  \n",
       "265  Householder not living alone   NaN  \n",
       "266  Householder not living alone   NaN  \n",
       "267  Householder not living alone   NaN  \n",
       "268  Householder not living alone   NaN  \n",
       "269  Householder not living alone   NaN  \n",
       "\n",
       "[270 rows x 7 columns]"
      ]
     },
     "execution_count": 9,
     "metadata": {},
     "output_type": "execute_result"
    }
   ],
   "source": [
    "acs.DIM_TABLE"
   ]
  },
  {
   "cell_type": "markdown",
   "id": "a4338f6c-872e-4608-8175-1626df78ec53",
   "metadata": {},
   "source": [
    "### Save data as a frictionless resource with schema"
   ]
  },
  {
   "cell_type": "markdown",
   "id": "96f11ecb-e9c3-43d2-9187-8a680038b27a",
   "metadata": {},
   "source": [
    "After querying the data, save the data as a frictionless resource with reasonable descriptors. "
   ]
  },
  {
   "cell_type": "code",
   "execution_count": 10,
   "id": "e52439a5-b659-4641-adb6-9e1262071bb4",
   "metadata": {},
   "outputs": [
    {
     "data": {
      "text/plain": [
       "{'fields': [{'name': 'GEO_ID',\n",
       "             'type': 'string',\n",
       "             'description': 'Unique identifier for geography'},\n",
       "            {'name': 'B11001_001E',\n",
       "             'type': 'integer',\n",
       "             'description': 'Estimate!!Total: | Household Type (Including '\n",
       "                            'Living Alone) | Estimate'},\n",
       "            {'name': 'B11001_001M',\n",
       "             'type': 'integer',\n",
       "             'description': 'Estimate!!Total: | Household Type (Including '\n",
       "                            'Living Alone) | MOE'},\n",
       "            {'name': 'B11001_002E',\n",
       "             'type': 'integer',\n",
       "             'description': 'Estimate!!Total:!!Family households: | Household '\n",
       "                            'Type (Including Living Alone) | Estimate'},\n",
       "            {'name': 'B11001_002M',\n",
       "             'type': 'integer',\n",
       "             'description': 'Estimate!!Total:!!Family households: | Household '\n",
       "                            'Type (Including Living Alone) | MOE'},\n",
       "            {'name': 'B11001_003E',\n",
       "             'type': 'integer',\n",
       "             'description': 'Estimate!!Total:!!Family '\n",
       "                            'households:!!Married-couple family | Household '\n",
       "                            'Type (Including Living Alone) | Estimate'},\n",
       "            {'name': 'B11001_003M',\n",
       "             'type': 'integer',\n",
       "             'description': 'Estimate!!Total:!!Family '\n",
       "                            'households:!!Married-couple family | Household '\n",
       "                            'Type (Including Living Alone) | MOE'},\n",
       "            {'name': 'B11001_004E',\n",
       "             'type': 'integer',\n",
       "             'description': 'Estimate!!Total:!!Family households:!!Other '\n",
       "                            'family: | Household Type (Including Living Alone) '\n",
       "                            '| Estimate'},\n",
       "            {'name': 'B11001_004M',\n",
       "             'type': 'integer',\n",
       "             'description': 'Estimate!!Total:!!Family households:!!Other '\n",
       "                            'family: | Household Type (Including Living Alone) '\n",
       "                            '| MOE'},\n",
       "            {'name': 'B11001_005E',\n",
       "             'type': 'integer',\n",
       "             'description': 'Estimate!!Total:!!Family households:!!Other '\n",
       "                            'family:!!Male householder, no spouse present | '\n",
       "                            'Household Type (Including Living Alone) | '\n",
       "                            'Estimate'},\n",
       "            {'name': 'B11001_005M',\n",
       "             'type': 'integer',\n",
       "             'description': 'Estimate!!Total:!!Family households:!!Other '\n",
       "                            'family:!!Male householder, no spouse present | '\n",
       "                            'Household Type (Including Living Alone) | MOE'},\n",
       "            {'name': 'B11001_006E',\n",
       "             'type': 'integer',\n",
       "             'description': 'Estimate!!Total:!!Family households:!!Other '\n",
       "                            'family:!!Female householder, no spouse present | '\n",
       "                            'Household Type (Including Living Alone) | '\n",
       "                            'Estimate'},\n",
       "            {'name': 'B11001_006M',\n",
       "             'type': 'integer',\n",
       "             'description': 'Estimate!!Total:!!Family households:!!Other '\n",
       "                            'family:!!Female householder, no spouse present | '\n",
       "                            'Household Type (Including Living Alone) | MOE'},\n",
       "            {'name': 'B11001_007E',\n",
       "             'type': 'integer',\n",
       "             'description': 'Estimate!!Total:!!Nonfamily households: | '\n",
       "                            'Household Type (Including Living Alone) | '\n",
       "                            'Estimate'},\n",
       "            {'name': 'B11001_007M',\n",
       "             'type': 'integer',\n",
       "             'description': 'Estimate!!Total:!!Nonfamily households: | '\n",
       "                            'Household Type (Including Living Alone) | MOE'},\n",
       "            {'name': 'B11001_008E',\n",
       "             'type': 'integer',\n",
       "             'description': 'Estimate!!Total:!!Nonfamily '\n",
       "                            'households:!!Householder living alone | Household '\n",
       "                            'Type (Including Living Alone) | Estimate'},\n",
       "            {'name': 'B11001_008M',\n",
       "             'type': 'integer',\n",
       "             'description': 'Estimate!!Total:!!Nonfamily '\n",
       "                            'households:!!Householder living alone | Household '\n",
       "                            'Type (Including Living Alone) | MOE'},\n",
       "            {'name': 'B11001_009E',\n",
       "             'type': 'integer',\n",
       "             'description': 'Estimate!!Total:!!Nonfamily '\n",
       "                            'households:!!Householder not living alone | '\n",
       "                            'Household Type (Including Living Alone) | '\n",
       "                            'Estimate'},\n",
       "            {'name': 'B11001_009M',\n",
       "             'type': 'integer',\n",
       "             'description': 'Estimate!!Total:!!Nonfamily '\n",
       "                            'households:!!Householder not living alone | '\n",
       "                            'Household Type (Including Living Alone) | MOE'}],\n",
       " 'missingValues': ['',\n",
       "                   '-222222222',\n",
       "                   '-333333333',\n",
       "                   '-555555555',\n",
       "                   '-666666666',\n",
       "                   '-888888888',\n",
       "                   '-999999999'],\n",
       " 'primaryKey': ['GEO_ID']}"
      ]
     },
     "execution_count": 10,
     "metadata": {},
     "output_type": "execute_result"
    }
   ],
   "source": [
    "acs.SCHEMA"
   ]
  },
  {
   "cell_type": "code",
   "execution_count": 11,
   "id": "76d44f80-a9a0-48ca-a2d7-b217c75a0dcc",
   "metadata": {},
   "outputs": [
    {
     "name": "stdout",
     "output_type": "stream",
     "text": [
      "Resource is valid.\n"
     ]
    }
   ],
   "source": [
    "acs.save(output_dir='./temp_data/')"
   ]
  },
  {
   "cell_type": "code",
   "execution_count": 12,
   "id": "f85a5f5e-d4ff-49b7-97e6-7c433dd1ed2b",
   "metadata": {},
   "outputs": [
    {
     "data": {
      "text/plain": [
       "{'name': 'morpc-acs5-2023-region15-counties-b11001',\n",
       " 'type': 'table',\n",
       " 'title': '2023 American Community Survey 5-Year Estimates for all counties in '\n",
       "          'the MORPC 15-county region.',\n",
       " 'description': 'Selected variables from 2023 ACS 5-Year estimates for all '\n",
       "                'counties in the MORPC 15-county region. Data was retrieved '\n",
       "                '2025-07-03',\n",
       " 'profile': 'tabular-data-resource',\n",
       " 'sources': [{'title': '2023 American Community Survey 5-Year Estimates, U.S. '\n",
       "                       'Census Bureau',\n",
       "              'path': 'https://api.census.gov/data/2023/acs/acs5',\n",
       "              '_params': {'get': 'GEO_ID,B11001_001E,B11001_001M,B11001_002E,B11001_002M,B11001_003E,B11001_003M,B11001_004E,B11001_004M,B11001_005E,B11001_005M,B11001_006E,B11001_006M,B11001_007E,B11001_007M,B11001_008E,B11001_008M,B11001_009E,B11001_009M',\n",
       "                          'for': 'county:041,045,049,089,097,129,159,083,101,117,047,073,091,127,141',\n",
       "                          'in': 'state:39'}}],\n",
       " 'path': 'morpc-acs5-2023-region15-counties-b11001.csv',\n",
       " 'scheme': 'file',\n",
       " 'format': 'csv',\n",
       " 'mediatype': 'text/csv',\n",
       " 'encoding': 'utf-8',\n",
       " 'hash': '7cc165991ceaae985e0d6385a4cedcb6',\n",
       " 'bytes': 1733,\n",
       " 'rows': 15,\n",
       " 'schema': 'morpc-acs5-2023-region15-counties-b11001.schema.yaml',\n",
       " 'columns': 18}"
      ]
     },
     "execution_count": 12,
     "metadata": {},
     "output_type": "execute_result"
    }
   ],
   "source": [
    "acs.RESOURCE"
   ]
  },
  {
   "cell_type": "markdown",
   "id": "a4f1ebbf-3887-454b-9477-8154bb74f4cc",
   "metadata": {},
   "source": [
    "## Below should still be functional, but hoping to implement into ACS class"
   ]
  },
  {
   "cell_type": "markdown",
   "id": "191c40a3-88c8-443b-ad19-d6ac6913f322",
   "metadata": {
    "editable": true,
    "slideshow": {
     "slide_type": ""
    },
    "tags": []
   },
   "source": [
    "#### Load the data using frictionless.load_data()"
   ]
  },
  {
   "cell_type": "code",
   "execution_count": null,
   "id": "9b337ead-831e-4e03-98c5-62c5e8727136",
   "metadata": {
    "editable": true,
    "slideshow": {
     "slide_type": ""
    },
    "tags": []
   },
   "outputs": [],
   "source": [
    "data, resource, schema = morpc.frictionless.load_data('./temp_data/morpc-acs5-2023-state-B01001.resource.yaml', verbose=False)"
   ]
  },
  {
   "cell_type": "markdown",
   "id": "0fe8041e-fe36-4151-92d3-08e0c1a8e4ae",
   "metadata": {
    "editable": true,
    "slideshow": {
     "slide_type": ""
    },
    "tags": []
   },
   "source": [
    "#### Using ACS_ID_FIELDS to get the fields ids"
   ]
  },
  {
   "cell_type": "code",
   "execution_count": null,
   "id": "f82a9578-0a3a-4398-b0fd-b15bb9dbe9f6",
   "metadata": {
    "editable": true,
    "slideshow": {
     "slide_type": ""
    },
    "tags": []
   },
   "outputs": [],
   "source": [
    "morpc.census.acs_generate_universe_table(data.set_index(\"GEO_ID\"), \"B01001_001\")"
   ]
  },
  {
   "cell_type": "markdown",
   "id": "6a74b3d1-2458-4b02-944c-a9ab17257b7c",
   "metadata": {
    "editable": true,
    "slideshow": {
     "slide_type": ""
    },
    "tags": []
   },
   "source": [
    "#### Create a dimension table with the data and the dimension names"
   ]
  },
  {
   "cell_type": "code",
   "execution_count": null,
   "id": "0522e9a1-7a52-4e72-a0d0-f5ccf1571bcb",
   "metadata": {
    "editable": true,
    "slideshow": {
     "slide_type": ""
    },
    "tags": []
   },
   "outputs": [],
   "source": [
    "dim_table = morpc.census.acs_generate_dimension_table(data.set_index(\"GEO_ID\"), schema, idFields=idFields, dimensionNames=[\"Sex\", \"Age group\"])"
   ]
  },
  {
   "cell_type": "code",
   "execution_count": null,
   "id": "2703597a-da40-4636-8d24-31832903b911",
   "metadata": {
    "editable": true,
    "slideshow": {
     "slide_type": ""
    },
    "tags": []
   },
   "outputs": [],
   "source": [
    "dim_table.loc[dim_table['Variable type'] == 'Estimate'].head()"
   ]
  }
 ],
 "metadata": {
  "kernelspec": {
   "display_name": "Python 3 (ipykernel)",
   "language": "python",
   "name": "python3"
  },
  "language_info": {
   "codemirror_mode": {
    "name": "ipython",
    "version": 3
   },
   "file_extension": ".py",
   "mimetype": "text/x-python",
   "name": "python",
   "nbconvert_exporter": "python",
   "pygments_lexer": "ipython3",
   "version": "3.12.10"
  }
 },
 "nbformat": 4,
 "nbformat_minor": 5
}
