{
 "cells": [
  {
   "cell_type": "markdown",
   "id": "1fdc82bb-70cd-491d-8fea-4816c4dc0896",
   "metadata": {},
   "source": [
    "# MORPC ArcGIS REST API Tools"
   ]
  },
  {
   "cell_type": "markdown",
   "id": "eca17160-09c7-473d-be42-d75153fb8bb1",
   "metadata": {},
   "source": [
    "## Introduction"
   ]
  },
  {
   "cell_type": "markdown",
   "id": "a99f389c-9b32-4aca-862e-45e911f94f00",
   "metadata": {},
   "source": [
    "Many spatial data sets are stored in ArcGIS online and are available through the REST API. This set of scripts uses the frictionless framework to document and download data. It reads available metadata and iteratively downloads the data in GeoJSON format and returns a GDF, and optionally archives the file. "
   ]
  },
  {
   "cell_type": "code",
   "execution_count": null,
   "id": "9f016c34-92de-430c-8a7c-c2d5e78fc544",
   "metadata": {},
   "outputs": [],
   "source": [
    "#!pip install -e \"../../morpc-py\""
   ]
  },
  {
   "cell_type": "code",
   "execution_count": 1,
   "id": "8c9b30de-6fac-4e18-a199-e9d368dc695e",
   "metadata": {},
   "outputs": [],
   "source": [
    "import morpc"
   ]
  },
  {
   "cell_type": "markdown",
   "id": "f1419055-38a5-4909-ab8f-c700897984f9",
   "metadata": {},
   "source": [
    "## Creating a resource file"
   ]
  },
  {
   "cell_type": "code",
   "execution_count": 2,
   "id": "b5397285-33b1-43de-be95-5167a08eba22",
   "metadata": {},
   "outputs": [],
   "source": [
    "test_url = 'https://services1.arcgis.com/EjjnBtwS9ivTGI8x/arcgis/rest/services/MORPC_MPO_Boundary_2020/FeatureServer/0'"
   ]
  },
  {
   "cell_type": "code",
   "execution_count": 3,
   "id": "890d4df1-9389-45ec-a966-fad24853bc09",
   "metadata": {},
   "outputs": [
    {
     "data": {
      "text/plain": [
       "{'name': 'morpc-mpo-boundary-2020',\n",
       " 'type': 'json',\n",
       " 'path': 'https://services1.arcgis.com/EjjnBtwS9ivTGI8x/arcgis/rest/services/MORPC_MPO_Boundary_2020/FeatureServer/0',\n",
       " 'scheme': 'https',\n",
       " 'format': 'json',\n",
       " 'mediatype': 'application/geo+json',\n",
       " 'schema': {'fields': [{'name': 'OBJECTID',\n",
       "                        'type': 'string',\n",
       "                        'title': 'OBJECTID'},\n",
       "                       {'name': 'SQMILES',\n",
       "                        'type': 'number',\n",
       "                        'title': 'SQMILES'},\n",
       "                       {'name': 'NAME', 'type': 'string', 'title': 'NAME'},\n",
       "                       {'name': 'Updated',\n",
       "                        'type': 'string',\n",
       "                        'title': 'Updated'},\n",
       "                       {'name': 'Source', 'type': 'string', 'title': 'Source'},\n",
       "                       {'name': 'Shape__Area',\n",
       "                        'type': 'number',\n",
       "                        'title': 'Shape__Area'},\n",
       "                       {'name': 'Shape__Length',\n",
       "                        'type': 'number',\n",
       "                        'title': 'Shape__Length'}]},\n",
       " '_metadata': {'type': 'arcgis_service',\n",
       "               'total_records': 1,\n",
       "               'max_record_count': 2000}}"
      ]
     },
     "execution_count": 3,
     "metadata": {},
     "output_type": "execute_result"
    }
   ],
   "source": [
    "morpc.rest_api.resource_from_services_url(test_url)"
   ]
  },
  {
   "cell_type": "code",
   "execution_count": null,
   "id": "9adb6406-2c07-476a-95ea-7ad2a8365acc",
   "metadata": {},
   "outputs": [],
   "source": []
  }
 ],
 "metadata": {
  "kernelspec": {
   "display_name": "Python 3 (ipykernel)",
   "language": "python",
   "name": "python3"
  },
  "language_info": {
   "codemirror_mode": {
    "name": "ipython",
    "version": 3
   },
   "file_extension": ".py",
   "mimetype": "text/x-python",
   "name": "python",
   "nbconvert_exporter": "python",
   "pygments_lexer": "ipython3",
   "version": "3.12.10"
  }
 },
 "nbformat": 4,
 "nbformat_minor": 5
}
