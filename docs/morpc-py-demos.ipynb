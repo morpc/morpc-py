{
 "cells": [
  {
   "cell_type": "markdown",
   "id": "30a31ed5-c2ef-4712-aeb3-b7606dda7bfc",
   "metadata": {},
   "source": [
    "# morpc base module"
   ]
  },
  {
   "cell_type": "markdown",
   "id": "f0c1d6f3-0dd9-4fe1-9569-00df764e310c",
   "metadata": {
    "editable": true,
    "slideshow": {
     "slide_type": ""
    },
    "tags": []
   },
   "source": [
    "# Conversion factors"
   ]
  },
  {
   "cell_type": "markdown",
   "id": "69fac771-d0c0-4028-8fa5-d8ff3e339ea4",
   "metadata": {},
   "source": [
    "As of Jan 2024, the following commonly used conversion factors are available in the library. Review the https://github.com/morpc/morpc-py/blob/main/morpc/morpc.py to see if others are available."
   ]
  },
  {
   "cell_type": "markdown",
   "id": "67fb3125-8025-451d-a308-af5a5ab1ed03",
   "metadata": {},
   "source": [
    "## Area"
   ]
  },
  {
   "cell_type": "markdown",
   "id": "3022422f-75b0-4860-87bf-ffd0d7945a73",
   "metadata": {},
   "source": [
    "Square feet per acre"
   ]
  },
  {
   "cell_type": "code",
   "execution_count": 10,
   "id": "83c68b26-147a-4c29-ab36-3f451799c2b0",
   "metadata": {
    "tags": []
   },
   "outputs": [
    {
     "data": {
      "text/plain": [
       "43560"
      ]
     },
     "execution_count": 10,
     "metadata": {},
     "output_type": "execute_result"
    }
   ],
   "source": [
    "morpc.CONST_SQFT_PER_ACRE"
   ]
  },
  {
   "cell_type": "markdown",
   "id": "e7ba6b18-4aa0-45d7-aec3-966882eb3748",
   "metadata": {},
   "source": [
    "## Region definitions"
   ]
  },
  {
   "cell_type": "markdown",
   "id": "775b7429-9fb3-474e-a1dd-56ae5ce7c56e",
   "metadata": {},
   "source": [
    "The following lists represent various definitions for \"Central Ohio\" based on collections of counties."
   ]
  },
  {
   "cell_type": "code",
   "execution_count": 11,
   "id": "c044dfc1-650d-4326-84c7-cc8d874f3a97",
   "metadata": {
    "tags": []
   },
   "outputs": [
    {
     "name": "stdout",
     "output_type": "stream",
     "text": [
      "Region name: REGION7\n",
      "Counties in region: ['Delaware', 'Fairfield', 'Franklin', 'Licking', 'Madison', 'Pickaway', 'Union']\n",
      "\n",
      "Region name: 7-County Region\n",
      "Counties in region: ['Delaware', 'Fairfield', 'Franklin', 'Licking', 'Madison', 'Pickaway', 'Union']\n",
      "\n",
      "Region name: REGION10\n",
      "Counties in region: ['Delaware', 'Fairfield', 'Franklin', 'Licking', 'Madison', 'Pickaway', 'Union', 'Knox', 'Marion', 'Morrow']\n",
      "\n",
      "Region name: 10-County Region\n",
      "Counties in region: ['Delaware', 'Fairfield', 'Franklin', 'Licking', 'Madison', 'Pickaway', 'Union', 'Knox', 'Marion', 'Morrow']\n",
      "\n",
      "Region name: REGION15\n",
      "Counties in region: ['Delaware', 'Fairfield', 'Franklin', 'Licking', 'Madison', 'Pickaway', 'Union', 'Knox', 'Marion', 'Morrow', 'Fayette', 'Hocking', 'Logan', 'Perry', 'Ross']\n",
      "\n",
      "Region name: 15-County Region\n",
      "Counties in region: ['Delaware', 'Fairfield', 'Franklin', 'Licking', 'Madison', 'Pickaway', 'Union', 'Knox', 'Marion', 'Morrow', 'Fayette', 'Hocking', 'Logan', 'Perry', 'Ross']\n",
      "\n",
      "Region name: REGIONCORPO\n",
      "Counties in region: ['Fairfield', 'Knox', 'Madison', 'Marion', 'Morrow', 'Pickaway', 'Union']\n",
      "\n",
      "Region name: CORPO Region\n",
      "Counties in region: ['Fairfield', 'Knox', 'Madison', 'Marion', 'Morrow', 'Pickaway', 'Union']\n",
      "\n",
      "Region name: REGIONONECBUS\n",
      "Counties in region: ['Delaware', 'Fairfield', 'Franklin', 'Licking', 'Madison', 'Pickaway', 'Union', 'Knox', 'Marion', 'Morrow', 'Logan']\n",
      "\n",
      "Region name: OneColumbus Region\n",
      "Counties in region: ['Delaware', 'Fairfield', 'Franklin', 'Licking', 'Madison', 'Pickaway', 'Union', 'Knox', 'Marion', 'Morrow', 'Logan']\n",
      "\n",
      "Region name: REGIONCEDS\n",
      "Counties in region: ['Delaware', 'Fairfield', 'Franklin', 'Licking', 'Madison', 'Pickaway', 'Union', 'Knox', 'Marion', 'Morrow', 'Logan']\n",
      "\n",
      "Region name: CEDS Region\n",
      "Counties in region: ['Delaware', 'Fairfield', 'Franklin', 'Licking', 'Madison', 'Pickaway', 'Union', 'Knox', 'Marion', 'Morrow', 'Logan']\n",
      "\n",
      "Region name: REGIONMSA\n",
      "Counties in region: ['Delaware', 'Fairfield', 'Franklin', 'Licking', 'Madison', 'Pickaway', 'Union', 'Hocking', 'Morrow', 'Perry']\n",
      "\n"
     ]
    }
   ],
   "source": [
    "for name in morpc.CONST_REGIONS.keys():\n",
    "    print(\"Region name: {}\".format(name))\n",
    "    print(\"Counties in region: {}\\n\".format(morpc.CONST_REGIONS[name]))"
   ]
  },
  {
   "cell_type": "markdown",
   "id": "96c288a5-05de-4120-a0d6-a6c914d4c8f0",
   "metadata": {},
   "source": [
    "## County three-letter abbreviations"
   ]
  },
  {
   "cell_type": "markdown",
   "id": "b854af03-4862-4d04-a3b8-fa311cfaed61",
   "metadata": {},
   "source": [
    "Map each MORPC county name to its three-letter abbreviation."
   ]
  },
  {
   "cell_type": "code",
   "execution_count": 12,
   "id": "19885f02-c7c2-4989-bfe2-5364b3d404b4",
   "metadata": {
    "tags": []
   },
   "outputs": [
    {
     "data": {
      "text/plain": [
       "{'Delaware': 'DEL',\n",
       " 'Fairfield': 'FAI',\n",
       " 'Fayette': 'FAY',\n",
       " 'Franklin': 'FRA',\n",
       " 'Hocking': 'HOC',\n",
       " 'Knox': 'KNO',\n",
       " 'Licking': 'LIC',\n",
       " 'Logan': 'LOG',\n",
       " 'Madison': 'MAD',\n",
       " 'Marion': 'MAR',\n",
       " 'Morrow': 'MRW',\n",
       " 'Perry': 'PER',\n",
       " 'Pickaway': 'PIC',\n",
       " 'Ross': 'ROS',\n",
       " 'Union': 'UNI'}"
      ]
     },
     "execution_count": 12,
     "metadata": {},
     "output_type": "execute_result"
    }
   ],
   "source": [
    "morpc.CONST_COUNTY_ABBREV"
   ]
  },
  {
   "cell_type": "markdown",
   "id": "545d5bb2-1e77-4745-a448-44ad66337489",
   "metadata": {},
   "source": [
    "Map each three-letter abbreviation back to its county name."
   ]
  },
  {
   "cell_type": "code",
   "execution_count": 13,
   "id": "2c517b79-edf9-46ed-a1e4-45b68892a449",
   "metadata": {
    "tags": []
   },
   "outputs": [
    {
     "data": {
      "text/plain": [
       "{'DEL': 'Delaware',\n",
       " 'FAI': 'Fairfield',\n",
       " 'FAY': 'Fayette',\n",
       " 'FRA': 'Franklin',\n",
       " 'HOC': 'Hocking',\n",
       " 'KNO': 'Knox',\n",
       " 'LIC': 'Licking',\n",
       " 'LOG': 'Logan',\n",
       " 'MAD': 'Madison',\n",
       " 'MAR': 'Marion',\n",
       " 'MRW': 'Morrow',\n",
       " 'PER': 'Perry',\n",
       " 'PIC': 'Pickaway',\n",
       " 'ROS': 'Ross',\n",
       " 'UNI': 'Union'}"
      ]
     },
     "execution_count": 13,
     "metadata": {},
     "output_type": "execute_result"
    }
   ],
   "source": [
    "morpc.CONST_COUNTY_EXPAND"
   ]
  },
  {
   "cell_type": "markdown",
   "id": "557fd3ce-e2e4-40b9-8019-1960011afaa0",
   "metadata": {},
   "source": [
    "Note that 'MRW' is the three-letter abbreviation for Morrow county that is used by ODOT. Sometimes it may be desired to use 'MOR' instead.  In that case, you can use the following code to update both mappings."
   ]
  },
  {
   "cell_type": "code",
   "execution_count": 14,
   "id": "c0071d32-3091-43dc-8079-55f753052611",
   "metadata": {
    "tags": []
   },
   "outputs": [],
   "source": [
    "morpc.CONST_COUNTY_ABBREV[\"Morrow\"] = 'MOR'\n",
    "morpc.CONST_COUNTY_EXPAND = {value: key for key, value in morpc.CONST_COUNTY_ABBREV.items()}"
   ]
  },
  {
   "cell_type": "markdown",
   "id": "f57d9539-a52e-425c-9b17-61f76148bdaf",
   "metadata": {},
   "source": [
    "Now you can see the new mappings:"
   ]
  },
  {
   "cell_type": "code",
   "execution_count": 15,
   "id": "b2ddebfd-bcea-4e9f-8ae1-89cfca883d5b",
   "metadata": {
    "tags": []
   },
   "outputs": [
    {
     "name": "stdout",
     "output_type": "stream",
     "text": [
      "MOR\n",
      "Morrow\n"
     ]
    }
   ],
   "source": [
    "print(morpc.CONST_COUNTY_ABBREV[\"Morrow\"])\n",
    "print(morpc.CONST_COUNTY_EXPAND[\"MOR\"])"
   ]
  },
  {
   "cell_type": "markdown",
   "id": "5888bfb0-f126-4e66-9c71-bcce5ba26c6c",
   "metadata": {},
   "source": [
    "To revert to the old mapping you can either use a code block similar to the one above, or simply reload the library:"
   ]
  },
  {
   "cell_type": "code",
   "execution_count": 16,
   "id": "cc047bf3-b9e6-447c-8648-dcd9c0dcf844",
   "metadata": {
    "tags": []
   },
   "outputs": [
    {
     "data": {
      "text/plain": [
       "<module 'morpc' from 'C:\\\\Users\\\\jinskeep\\\\OneDrive - Mid-Ohio Regional Planning Commission\\\\Local Repo\\\\morpc-py\\\\morpc\\\\__init__.py'>"
      ]
     },
     "execution_count": 16,
     "metadata": {},
     "output_type": "execute_result"
    }
   ],
   "source": [
    "import importlib\n",
    "importlib.reload(morpc)"
   ]
  },
  {
   "cell_type": "markdown",
   "id": "4c3866b0-7362-4d8d-a265-3164bed9a869",
   "metadata": {},
   "source": [
    "Now the original mappings are restored."
   ]
  },
  {
   "cell_type": "code",
   "execution_count": 17,
   "id": "32a242be-7abc-4f41-90e4-7d666f11a04e",
   "metadata": {
    "tags": []
   },
   "outputs": [
    {
     "name": "stdout",
     "output_type": "stream",
     "text": [
      "MOR\n",
      "Morrow\n"
     ]
    }
   ],
   "source": [
    "print(morpc.CONST_COUNTY_ABBREV[\"Morrow\"])\n",
    "print(morpc.CONST_COUNTY_EXPAND[\"MRW\"])"
   ]
  },
  {
   "cell_type": "markdown",
   "id": "3713785f-33be-4332-87d2-6c84cf073392",
   "metadata": {
    "tags": []
   },
   "source": [
    "# County identifiers (GEOID)"
   ]
  },
  {
   "cell_type": "markdown",
   "id": "e2ae1474-9882-4e66-88cb-03dd3ee9caa7",
   "metadata": {},
   "source": [
    "Map each MORPC county name to its five-character Census GEOID.  Note that the IDs are strings.  They are not integers and should not be handled as such."
   ]
  },
  {
   "cell_type": "code",
   "execution_count": 18,
   "id": "001b151c-4432-44e9-b251-0c00b2152cfe",
   "metadata": {
    "tags": []
   },
   "outputs": [
    {
     "data": {
      "text/plain": [
       "{'Delaware': '39041',\n",
       " 'Fairfield': '39045',\n",
       " 'Fayette': '39047',\n",
       " 'Franklin': '39049',\n",
       " 'Hocking': '39073',\n",
       " 'Knox': '39083',\n",
       " 'Licking': '39089',\n",
       " 'Logan': '39091',\n",
       " 'Madison': '39097',\n",
       " 'Marion': '39101',\n",
       " 'Morrow': '39117',\n",
       " 'Perry': '39127',\n",
       " 'Pickaway': '39129',\n",
       " 'Ross': '39141',\n",
       " 'Union': '39159'}"
      ]
     },
     "execution_count": 18,
     "metadata": {},
     "output_type": "execute_result"
    }
   ],
   "source": [
    "morpc.CONST_COUNTY_NAME_TO_ID"
   ]
  },
  {
   "cell_type": "markdown",
   "id": "3bb360c1-e73d-4b4b-9bfe-c129f9b039ef",
   "metadata": {},
   "source": [
    "Map each GEOID back to its county name."
   ]
  },
  {
   "cell_type": "code",
   "execution_count": 19,
   "id": "2766e66e-5977-403e-9e4b-588034cce8f6",
   "metadata": {
    "tags": []
   },
   "outputs": [
    {
     "data": {
      "text/plain": [
       "{'39041': 'Delaware',\n",
       " '39045': 'Fairfield',\n",
       " '39047': 'Fayette',\n",
       " '39049': 'Franklin',\n",
       " '39073': 'Hocking',\n",
       " '39083': 'Knox',\n",
       " '39089': 'Licking',\n",
       " '39091': 'Logan',\n",
       " '39097': 'Madison',\n",
       " '39101': 'Marion',\n",
       " '39117': 'Morrow',\n",
       " '39127': 'Perry',\n",
       " '39129': 'Pickaway',\n",
       " '39141': 'Ross',\n",
       " '39159': 'Union'}"
      ]
     },
     "execution_count": 19,
     "metadata": {},
     "output_type": "execute_result"
    }
   ],
   "source": [
    "morpc.CONST_COUNTY_ID_TO_NAME"
   ]
  },
  {
   "cell_type": "markdown",
   "id": "c1ab6453-c9f1-47a9-b0cd-0318bb7ee331",
   "metadata": {
    "tags": []
   },
   "source": [
    "# Summary level identifiers."
   ]
  },
  {
   "cell_type": "markdown",
   "id": "7164067f-c677-4a05-9c2a-a38ff4b7214d",
   "metadata": {},
   "source": [
    "Summary level lookups for geographic jurisdictions. The summary levels include the Census sumlevel numbers, as well as some morpc summary levels, beginning with \"M\""
   ]
  },
  {
   "cell_type": "code",
   "execution_count": 20,
   "id": "003bb820-ed22-4d9a-a851-ac5bbefdfa90",
   "metadata": {
    "tags": []
   },
   "outputs": [
    {
     "data": {
      "text/plain": [
       "{'US': '010',\n",
       " 'CENSUSREGION': '020',\n",
       " 'DIVISION': '030',\n",
       " 'STATE': '040',\n",
       " 'COUNTY': '050',\n",
       " 'COUNTY-COUSUB': '060',\n",
       " 'COUNTY-TOWNSHIP-REMAINDER': '070',\n",
       " 'COUNTY-TRACT': '140',\n",
       " 'COUNTY-TRACT-BG': '150',\n",
       " 'PLACE-COUNTY': '155',\n",
       " 'PLACE': '160',\n",
       " 'CBSA': '310',\n",
       " 'URBANAREA': '400',\n",
       " 'CONGRESS': '500',\n",
       " 'STATESENATE': '610',\n",
       " 'STATEHOUSE': '620',\n",
       " 'COUNTY-TRACT-BG-BLOCK': '750',\n",
       " 'PUMA': '795',\n",
       " 'ZCTA3': '850',\n",
       " 'ZCTA5': '860',\n",
       " 'CENSUSMPOREGION': '930',\n",
       " 'SDELEM': '950',\n",
       " 'SDHIGH': '960',\n",
       " 'SDUNIFIED': '970',\n",
       " 'REGION15': 'M01',\n",
       " 'REGION10': 'M02',\n",
       " 'REGION7': 'M03',\n",
       " 'REGIONCORPO': 'M04',\n",
       " 'REGIONCEDS': 'M05',\n",
       " 'REGIONMPO': 'M06',\n",
       " 'REGIONTDM': 'M07',\n",
       " 'REGIONONECBUS': 'M08',\n",
       " 'JURIS': 'M10',\n",
       " 'JURIS-COUNTY': 'M11',\n",
       " 'COUNTY-TAZ': 'M20',\n",
       " 'COUNTY-TAZ-MAZ': 'M21',\n",
       " 'COUNTY-TAZ-MAZ-GRIDMAZ': 'M22'}"
      ]
     },
     "execution_count": 20,
     "metadata": {},
     "output_type": "execute_result"
    }
   ],
   "source": [
    "morpc.SUMLEVEL_LOOKUP"
   ]
  },
  {
   "cell_type": "code",
   "execution_count": 21,
   "id": "6e9cd3d9-3ce6-43ab-92eb-6ab958d2fd3a",
   "metadata": {
    "tags": []
   },
   "outputs": [
    {
     "data": {
      "text/plain": [
       "{'010': 'US',\n",
       " '020': 'CENSUSREGION',\n",
       " '030': 'DIVISION',\n",
       " '040': 'STATE',\n",
       " '050': 'COUNTY',\n",
       " '060': 'COUNTY-COUSUB',\n",
       " '070': 'COUNTY-TOWNSHIP-REMAINDER',\n",
       " '140': 'COUNTY-TRACT',\n",
       " '150': 'COUNTY-TRACT-BG',\n",
       " '155': 'PLACE-COUNTY',\n",
       " '160': 'PLACE',\n",
       " '310': 'CBSA',\n",
       " '400': 'URBANAREA',\n",
       " '500': 'CONGRESS',\n",
       " '610': 'STATESENATE',\n",
       " '620': 'STATEHOUSE',\n",
       " '750': 'COUNTY-TRACT-BG-BLOCK',\n",
       " '795': 'PUMA',\n",
       " '850': 'ZCTA3',\n",
       " '860': 'ZCTA5',\n",
       " '930': 'CENSUSMPOREGION',\n",
       " '950': 'SDELEM',\n",
       " '960': 'SDHIGH',\n",
       " '970': 'SDUNIFIED',\n",
       " 'M01': 'REGION15',\n",
       " 'M02': 'REGION10',\n",
       " 'M03': 'REGION7',\n",
       " 'M04': 'REGIONCORPO',\n",
       " 'M05': 'REGIONCEDS',\n",
       " 'M06': 'REGIONMPO',\n",
       " 'M07': 'REGIONTDM',\n",
       " 'M08': 'REGIONONECBUS',\n",
       " 'M10': 'JURIS',\n",
       " 'M11': 'JURIS-COUNTY',\n",
       " 'M20': 'COUNTY-TAZ',\n",
       " 'M21': 'COUNTY-TAZ-MAZ',\n",
       " 'M22': 'COUNTY-TAZ-MAZ-GRIDMAZ'}"
      ]
     },
     "execution_count": 21,
     "metadata": {},
     "output_type": "execute_result"
    }
   ],
   "source": [
    "morpc.HIERARCHY_STRING_LOOKUP"
   ]
  },
  {
   "cell_type": "markdown",
   "id": "4d7c3edf-84af-4f84-bdc7-c77666cce725",
   "metadata": {
    "tags": []
   },
   "source": [
    "# countyLookup() Class "
   ]
  },
  {
   "cell_type": "markdown",
   "id": "074d143c-b891-4890-ac41-f4ce5bae34a2",
   "metadata": {
    "tags": []
   },
   "source": [
    "## List counties and convert between county names and codes (Central Ohio, Ohio, or U.S.)"
   ]
  },
  {
   "cell_type": "markdown",
   "id": "6a3aae1e-5faf-42d3-be00-8722c6481eb5",
   "metadata": {},
   "source": [
    "The library includes a Python class called `countyLookup`. Upon instantiation, this object is pre-loaded with a dataframe describing a set of counties whose scope is specified by the user.  The object includes methods for listing the counties by their names or GEOIDs and for two-way conversion between name and GEOID.\n",
    "\n",
    "  - `scope=\"morpc\"`     Default. Loads only the counties in the MORPC 15-county region (see `CONST_REGIONS['15-County Region']` above)\n",
    "  - `scope=\"corpo\"`     Loads only the counties in the CORPO region (see `CONST_REGIONS['CORPO Region']` above)\n",
    "  - `scope=\"ohio\"`      Loads all counties in Ohio\n",
    "  - `scope=\"us\"`      Loads all counties in the United States\n",
    "\n",
    "*NOTE: As of Jan 2024, some methods are not supported for scope=\"us\".  See details below.*"
   ]
  },
  {
   "cell_type": "markdown",
   "id": "4c15a933-5ec0-4070-a9b9-d85a784e9623",
   "metadata": {},
   "source": [
    "You can create an object containing the MORPC 15 counties as follows:"
   ]
  },
  {
   "cell_type": "code",
   "execution_count": 22,
   "id": "8fff5426-bbb4-48b3-8b46-b816ffa2bed8",
   "metadata": {
    "tags": []
   },
   "outputs": [
    {
     "name": "stdout",
     "output_type": "stream",
     "text": [
      "Loading data for MORPC 15-County region only\n"
     ]
    }
   ],
   "source": [
    "countyLookup = morpc.countyLookup()"
   ]
  },
  {
   "cell_type": "markdown",
   "id": "6011ad7f-0e51-43eb-ae8b-b592244af517",
   "metadata": {},
   "source": [
    "Or if you prefer to be explicit:"
   ]
  },
  {
   "cell_type": "code",
   "execution_count": 23,
   "id": "cca62a3f-e652-41eb-9b31-25f58b1b8f68",
   "metadata": {
    "tags": []
   },
   "outputs": [
    {
     "name": "stdout",
     "output_type": "stream",
     "text": [
      "Loading data for MORPC 15-County region only\n"
     ]
    }
   ],
   "source": [
    "countyLookup = morpc.countyLookup(scope=\"morpc\")"
   ]
  },
  {
   "cell_type": "markdown",
   "id": "e20f3046-e094-4ed9-baf3-f67753c2d357",
   "metadata": {},
   "source": [
    "Either way, the object is populated with the following dataframe."
   ]
  },
  {
   "cell_type": "code",
   "execution_count": 24,
   "id": "b536c202-f790-40e9-8ab4-a8b1b3d5830c",
   "metadata": {
    "tags": []
   },
   "outputs": [
    {
     "data": {
      "text/html": [
       "<div>\n",
       "<style scoped>\n",
       "    .dataframe tbody tr th:only-of-type {\n",
       "        vertical-align: middle;\n",
       "    }\n",
       "\n",
       "    .dataframe tbody tr th {\n",
       "        vertical-align: top;\n",
       "    }\n",
       "\n",
       "    .dataframe thead th {\n",
       "        text-align: right;\n",
       "    }\n",
       "</style>\n",
       "<table border=\"1\" class=\"dataframe\">\n",
       "  <thead>\n",
       "    <tr style=\"text-align: right;\">\n",
       "      <th></th>\n",
       "      <th>GEOID</th>\n",
       "      <th>COUNTY_NAME</th>\n",
       "    </tr>\n",
       "  </thead>\n",
       "  <tbody>\n",
       "    <tr>\n",
       "      <th>2159</th>\n",
       "      <td>39041</td>\n",
       "      <td>Delaware</td>\n",
       "    </tr>\n",
       "    <tr>\n",
       "      <th>2160</th>\n",
       "      <td>39045</td>\n",
       "      <td>Fairfield</td>\n",
       "    </tr>\n",
       "    <tr>\n",
       "      <th>2161</th>\n",
       "      <td>39047</td>\n",
       "      <td>Fayette</td>\n",
       "    </tr>\n",
       "    <tr>\n",
       "      <th>649</th>\n",
       "      <td>39049</td>\n",
       "      <td>Franklin</td>\n",
       "    </tr>\n",
       "    <tr>\n",
       "      <th>2169</th>\n",
       "      <td>39073</td>\n",
       "      <td>Hocking</td>\n",
       "    </tr>\n",
       "    <tr>\n",
       "      <th>1358</th>\n",
       "      <td>39083</td>\n",
       "      <td>Knox</td>\n",
       "    </tr>\n",
       "    <tr>\n",
       "      <th>1359</th>\n",
       "      <td>39089</td>\n",
       "      <td>Licking</td>\n",
       "    </tr>\n",
       "    <tr>\n",
       "      <th>2175</th>\n",
       "      <td>39091</td>\n",
       "      <td>Logan</td>\n",
       "    </tr>\n",
       "    <tr>\n",
       "      <th>2177</th>\n",
       "      <td>39097</td>\n",
       "      <td>Madison</td>\n",
       "    </tr>\n",
       "    <tr>\n",
       "      <th>2178</th>\n",
       "      <td>39101</td>\n",
       "      <td>Marion</td>\n",
       "    </tr>\n",
       "    <tr>\n",
       "      <th>1364</th>\n",
       "      <td>39117</td>\n",
       "      <td>Morrow</td>\n",
       "    </tr>\n",
       "    <tr>\n",
       "      <th>2362</th>\n",
       "      <td>39127</td>\n",
       "      <td>Perry</td>\n",
       "    </tr>\n",
       "    <tr>\n",
       "      <th>1366</th>\n",
       "      <td>39129</td>\n",
       "      <td>Pickaway</td>\n",
       "    </tr>\n",
       "    <tr>\n",
       "      <th>2366</th>\n",
       "      <td>39141</td>\n",
       "      <td>Ross</td>\n",
       "    </tr>\n",
       "    <tr>\n",
       "      <th>2372</th>\n",
       "      <td>39159</td>\n",
       "      <td>Union</td>\n",
       "    </tr>\n",
       "  </tbody>\n",
       "</table>\n",
       "</div>"
      ],
      "text/plain": [
       "      GEOID COUNTY_NAME\n",
       "2159  39041    Delaware\n",
       "2160  39045   Fairfield\n",
       "2161  39047     Fayette\n",
       "649   39049    Franklin\n",
       "2169  39073     Hocking\n",
       "1358  39083        Knox\n",
       "1359  39089     Licking\n",
       "2175  39091       Logan\n",
       "2177  39097     Madison\n",
       "2178  39101      Marion\n",
       "1364  39117      Morrow\n",
       "2362  39127       Perry\n",
       "1366  39129    Pickaway\n",
       "2366  39141        Ross\n",
       "2372  39159       Union"
      ]
     },
     "execution_count": 24,
     "metadata": {},
     "output_type": "execute_result"
    }
   ],
   "source": [
    "countyLookup.df"
   ]
  },
  {
   "cell_type": "markdown",
   "id": "7055eba7-86ef-4eb7-88c0-bba1add17dd8",
   "metadata": {},
   "source": [
    "You can create a list of the names of the counties:"
   ]
  },
  {
   "cell_type": "code",
   "execution_count": 25,
   "id": "d6222a3e-dfb1-441a-a9b2-9422e52c7589",
   "metadata": {
    "tags": []
   },
   "outputs": [
    {
     "data": {
      "text/plain": [
       "['Delaware',\n",
       " 'Fairfield',\n",
       " 'Fayette',\n",
       " 'Franklin',\n",
       " 'Hocking',\n",
       " 'Knox',\n",
       " 'Licking',\n",
       " 'Logan',\n",
       " 'Madison',\n",
       " 'Marion',\n",
       " 'Morrow',\n",
       " 'Perry',\n",
       " 'Pickaway',\n",
       " 'Ross',\n",
       " 'Union']"
      ]
     },
     "execution_count": 25,
     "metadata": {},
     "output_type": "execute_result"
    }
   ],
   "source": [
    "countyLookup.list_names()"
   ]
  },
  {
   "cell_type": "markdown",
   "id": "e69dd40b-cfe2-49c9-87fd-099a2f0044ac",
   "metadata": {},
   "source": [
    "Or list their IDs:"
   ]
  },
  {
   "cell_type": "code",
   "execution_count": 26,
   "id": "8cf1c007-1e4c-47e2-bb29-0e2c99d9b592",
   "metadata": {
    "tags": []
   },
   "outputs": [
    {
     "data": {
      "text/plain": [
       "['39041',\n",
       " '39045',\n",
       " '39047',\n",
       " '39049',\n",
       " '39073',\n",
       " '39083',\n",
       " '39089',\n",
       " '39091',\n",
       " '39097',\n",
       " '39101',\n",
       " '39117',\n",
       " '39127',\n",
       " '39129',\n",
       " '39141',\n",
       " '39159']"
      ]
     },
     "execution_count": 26,
     "metadata": {},
     "output_type": "execute_result"
    }
   ],
   "source": [
    "countyLookup.list_ids()"
   ]
  },
  {
   "cell_type": "markdown",
   "id": "eb1c7e79-0c75-4b08-8087-e45acbd0bd9e",
   "metadata": {},
   "source": [
    "You can also look up the ID for a county given its name."
   ]
  },
  {
   "cell_type": "code",
   "execution_count": 27,
   "id": "67b0822a-23ec-4c3e-9627-2de2e55aea18",
   "metadata": {
    "tags": []
   },
   "outputs": [
    {
     "data": {
      "text/plain": [
       "'39073'"
      ]
     },
     "execution_count": 27,
     "metadata": {},
     "output_type": "execute_result"
    }
   ],
   "source": [
    "countyLookup.get_id(\"Hocking\")"
   ]
  },
  {
   "cell_type": "markdown",
   "id": "641e5ba2-5c22-4121-a1f6-385924da32cf",
   "metadata": {},
   "source": [
    "Or look up its name given its ID."
   ]
  },
  {
   "cell_type": "code",
   "execution_count": 28,
   "id": "7b817367-f688-42c6-a3c3-5a367f0721bc",
   "metadata": {
    "tags": []
   },
   "outputs": [
    {
     "data": {
      "text/plain": [
       "'Logan'"
      ]
     },
     "execution_count": 28,
     "metadata": {},
     "output_type": "execute_result"
    }
   ],
   "source": [
    "countyLookup.get_name(\"39091\")"
   ]
  },
  {
   "cell_type": "markdown",
   "id": "ac551ed6-acd3-4151-a12f-687c0bed43c4",
   "metadata": {
    "tags": []
   },
   "source": [
    "# varLookup() class"
   ]
  },
  {
   "cell_type": "markdown",
   "id": "e02ab2be-fe64-46e0-8b5e-f49505957b40",
   "metadata": {},
   "source": [
    "Standard variable lookup class\n",
    "\n",
    "Reads the list of \"standard\" variables from a lookup table.  Provides dataframe access to the list of variables, as well as an alias cross-reference table."
   ]
  },
  {
   "cell_type": "code",
   "execution_count": 29,
   "id": "96494119-c5ed-4ee3-bbe8-50f0dfeee54f",
   "metadata": {
    "tags": []
   },
   "outputs": [],
   "source": [
    "## PLACEHOLDER FOR EXAMPLES"
   ]
  },
  {
   "cell_type": "markdown",
   "id": "5af4cce2-1a02-419e-a54a-a04695a3af7e",
   "metadata": {
    "editable": true,
    "slideshow": {
     "slide_type": ""
    },
    "tags": []
   },
   "source": [
    "# Write data and charts to Excel"
   ]
  },
  {
   "cell_type": "markdown",
   "id": "5b073ba6-d078-4a49-b6e9-ab8535e4157f",
   "metadata": {},
   "source": [
    "Excel-based charts are exceptionally useful to our customers because they are easy for our customers to manipulate, style, and include in downstream products such as PowerPoint slides.  They are, however, inconvenient to product programmatically.  The following functions are intended to simplify the production of Excel-based charts that are consistent with MORPC branding and, eventually, with Data & Mapping visualization standards."
   ]
  },
  {
   "cell_type": "markdown",
   "id": "868f2ca7-4e8d-42d6-a960-5fa80f834ad4",
   "metadata": {},
   "source": [
    "### data_chart_to_excel( )"
   ]
  },
  {
   "cell_type": "markdown",
   "id": "de413abe-466e-4471-9bf4-90e220642925",
   "metadata": {},
   "source": [
    "This function will create an Excel worksheet consisting of the contents of a pandas dataframe (as a formatted table) and, optionally, a chart to visualize the series included in the dataframe.  The simplest invocation will produce a table and a basic column (vertical bar) chart with default formatting that is consistent with MORPC branding guidelines, however the user can specify many of options supported by the xlsxwriter library (https://xlsxwriter.readthedocs.io/).\n",
    "\n",
    "The following blocks demonstrates some simple use cases.  First, create a dataframe with demonstration data."
   ]
  },
  {
   "cell_type": "code",
   "execution_count": 30,
   "id": "79637cfc-23c2-4634-afb5-9852a29358b9",
   "metadata": {
    "tags": []
   },
   "outputs": [],
   "source": [
    "import pandas as pd\n",
    "import os\n",
    "import morpc"
   ]
  },
  {
   "cell_type": "code",
   "execution_count": 31,
   "id": "0d166665-1c9b-4a81-a54b-29e474a877dd",
   "metadata": {
    "tags": []
   },
   "outputs": [
    {
     "data": {
      "text/html": [
       "<div>\n",
       "<style scoped>\n",
       "    .dataframe tbody tr th:only-of-type {\n",
       "        vertical-align: middle;\n",
       "    }\n",
       "\n",
       "    .dataframe tbody tr th {\n",
       "        vertical-align: top;\n",
       "    }\n",
       "\n",
       "    .dataframe thead th {\n",
       "        text-align: right;\n",
       "    }\n",
       "</style>\n",
       "<table border=\"1\" class=\"dataframe\">\n",
       "  <thead>\n",
       "    <tr style=\"text-align: right;\">\n",
       "      <th></th>\n",
       "      <th>col1</th>\n",
       "      <th>col2</th>\n",
       "    </tr>\n",
       "  </thead>\n",
       "  <tbody>\n",
       "    <tr>\n",
       "      <th>0</th>\n",
       "      <td>1</td>\n",
       "      <td>3</td>\n",
       "    </tr>\n",
       "    <tr>\n",
       "      <th>1</th>\n",
       "      <td>2</td>\n",
       "      <td>4</td>\n",
       "    </tr>\n",
       "    <tr>\n",
       "      <th>2</th>\n",
       "      <td>3</td>\n",
       "      <td>5</td>\n",
       "    </tr>\n",
       "    <tr>\n",
       "      <th>3</th>\n",
       "      <td>4</td>\n",
       "      <td>6</td>\n",
       "    </tr>\n",
       "  </tbody>\n",
       "</table>\n",
       "</div>"
      ],
      "text/plain": [
       "   col1  col2\n",
       "0     1     3\n",
       "1     2     4\n",
       "2     3     5\n",
       "3     4     6"
      ]
     },
     "execution_count": 31,
     "metadata": {},
     "output_type": "execute_result"
    }
   ],
   "source": [
    "d = {'col1': [1, 2, 3, 4], 'col2':[3, 4, 5, 6]}\n",
    "df = pd.DataFrame(data=d)\n",
    "df"
   ]
  },
  {
   "cell_type": "markdown",
   "id": "415015d9-9bc2-48bc-bbc6-9c5391349b38",
   "metadata": {},
   "source": [
    "Next create an Excel object using the xlsxwriter package.  The object is linked to an Excel workbook, as indicated by the path in the first argument."
   ]
  },
  {
   "cell_type": "code",
   "execution_count": 32,
   "id": "5e07400f-5995-4119-b5b3-f992a9a3758a",
   "metadata": {
    "tags": []
   },
   "outputs": [],
   "source": [
    "# Create a directory to store the output (for demonstration purposes only)\n",
    "if not os.path.exists(\"./temp_data\"):\n",
    "    os.makedirs(\"./temp_data\")\n",
    "\n",
    "writer = pd.ExcelWriter(\"./temp_data/dataChartToExcelOutput.xlsx\", engine='xlsxwriter')"
   ]
  },
  {
   "cell_type": "markdown",
   "id": "76ece22f-b514-41bd-b5a2-b57185217a01",
   "metadata": {},
   "source": [
    "The following block will create a new worksheet in the Excel object which contains a table representing the dataframe and column chart displaying the series in the table.  The new worksheet will be called \"Sheet1\" since no sheet name was specified.  Default presentation settings will be used since we did not specify any settings.  This will result in a column (vertical bar) chart.\n",
    "\n",
    "**Note: You will not be able to view the spreadsheet itself until the writer object is closed in a later block.**"
   ]
  },
  {
   "cell_type": "code",
   "execution_count": 33,
   "id": "d94f5f20-2b42-4db7-b555-aeda49f2c73b",
   "metadata": {
    "tags": []
   },
   "outputs": [],
   "source": [
    "morpc.data_chart_to_excel(df, writer)  "
   ]
  },
  {
   "cell_type": "markdown",
   "id": "ae544bba-4010-4af4-91d8-2b5ccf621b10",
   "metadata": {},
   "source": [
    "The following block will add another worksheet to the xlsxwriter object.  This time we specified a sheet name (\"LineChart\") and a chart type (\"line\"), so the code will create the same table as the previous command but will produce a line chart instead of a column chart.  As before, the default presentation settings will be used."
   ]
  },
  {
   "cell_type": "code",
   "execution_count": 34,
   "id": "35ec5de7-8a6b-47bb-9086-270fca9f48a8",
   "metadata": {
    "tags": []
   },
   "outputs": [],
   "source": [
    "morpc.data_chart_to_excel(df, writer, sheet_name=\"LineChart\", chartType=\"line\")"
   ]
  },
  {
   "cell_type": "markdown",
   "id": "c932d386-a2f5-4f93-b4e1-d5e3d550fd22",
   "metadata": {},
   "source": [
    "The following block goes a step further and specifies a subtype for the chart.  Specifically it creates a stacked column chart.  As before, the default presentation settings will be used.  For more information about what chart types and subtypes are available, see https://xlsxwriter.readthedocs.io/workbook.html#workbook-add-chart.  The supported chart types as of this writing include column, bar, and line.  The stacked subtype has been minimally tested for column and bar charts.  Other chart types and subtypes may or may not work without further improvements to the function."
   ]
  },
  {
   "cell_type": "code",
   "execution_count": 35,
   "id": "a58d3280-5947-4f9e-bbdd-53f59200ffc5",
   "metadata": {
    "tags": []
   },
   "outputs": [],
   "source": [
    "morpc.data_chart_to_excel(df, writer, sheet_name=\"Stacked\", chartType=\"column\", chartOptions={\"subtype\":\"stacked\"})"
   ]
  },
  {
   "cell_type": "markdown",
   "id": "b8d70b6e-6b0e-4745-975b-cac6b9a2224f",
   "metadata": {},
   "source": [
    "The next block demonstrates the \"bar\" (horiztontal bar) chart type and applies some custom presentation settings, specifically a set of user-specified colors and titles, and omission of the legend, which is displayed by default."
   ]
  },
  {
   "cell_type": "code",
   "execution_count": 36,
   "id": "97a20171-e366-4c26-a77a-4339af6cb06a",
   "metadata": {
    "tags": []
   },
   "outputs": [],
   "source": [
    "morpc.data_chart_to_excel(df, writer, sheet_name=\"Custom\", chartType=\"bar\", chartOptions={\n",
    "    \"colors\": [\"cyan\",\"magenta\"],                   # Specify a custom color\n",
    "    \"hideLegend\": True,                             # Hide the legend\n",
    "    \"titles\": {                                     # Specify the chart title and axis titles\n",
    "        \"chartTitle\": \"My Chart\",\n",
    "        \"xTitle\": \"My independent variable\",\n",
    "        \"yTitle\": \"My dependent variable\",\n",
    "    }\n",
    "})"
   ]
  },
  {
   "cell_type": "markdown",
   "id": "bcf2992f-f835-408e-879f-e2b1d4728c01",
   "metadata": {},
   "source": [
    "Finally, we have to close the xlsxwriter object to finalize the Excel workbook and make it readable."
   ]
  },
  {
   "cell_type": "code",
   "execution_count": 37,
   "id": "64ec000b-f33d-494d-bae8-ac899c58226c",
   "metadata": {
    "tags": []
   },
   "outputs": [],
   "source": [
    "writer.close()"
   ]
  },
  {
   "cell_type": "markdown",
   "id": "cfb2aa60-801b-489a-85a9-91490d28bfab",
   "metadata": {},
   "source": [
    "Now you should be able to open the Excel document at `./temp_data/dataChartToExcelOutput.xlsx`\n",
    "\n",
    "Note that many more customizations are possible.  To learn more, uncomment and run the following block, or enter the command in your own notebook or a Python interpreter."
   ]
  },
  {
   "cell_type": "code",
   "execution_count": 38,
   "id": "75cd2ca3-9e80-4ae2-8716-0d4040f75073",
   "metadata": {
    "tags": []
   },
   "outputs": [],
   "source": [
    "# help(morpc.data_chart_to_excel)"
   ]
  },
  {
   "cell_type": "markdown",
   "id": "3ba0dc72-d56c-48d5-8299-2f5ac5e07f59",
   "metadata": {
    "editable": true,
    "slideshow": {
     "slide_type": ""
    },
    "tags": []
   },
   "source": [
    "# Load spatial data"
   ]
  },
  {
   "cell_type": "markdown",
   "id": "82296574-7baa-470a-8df6-a3d12645d293",
   "metadata": {},
   "source": [
    "Often we want to make a copy of some input data and work with the copy, for example to protect the original data or to create an archival copy of it so that we can replicate the process later.  With tabular data this is simple, but with spatial data it can be tricky.  Shapefiles actually consist of up to six files, so it is necessary to copy them all.  Geodatabases may contain many layers in addition to the one we care about.  The `load_spatial_data()` function simplifies the process of reading the data and (optionally) making an archival copy. It has three parameters:\n",
    "  - `sourcePath` - The path to the geospatial data. It may be a file path or URL. In the case of a Shapefile, this should point to the .shp file or a zipped file that contains all of the Shapefile components. You can point to other zipped contents as well, but see caveats below.\n",
    "  - `layerName` (required for GPKG and GDB, optional for SHP) - The name of the layer that you wish to extract from a GeoPackage or File Geodatabase.  Not required for Shapefiles, but may be specified for use in the archival copy (see below)\n",
    "  - `driverName` (required for zipped data or data with non-standard file extension) - which [GDAL driver](https://gdal.org/drivers/vector/index.html) to use to read the file. Script will attempt to infer this from the file extension, but you must specify it if the data is zipped, if the file extension is non-standard, or if the extension cannot be determined from the path (e.g. if the path is an API query)\n",
    "  - `archiveDir` (optional) - The path to the directory where a copy of a data should be archived.  If this is specified, the data will be archived in this location as a GeoPackage.  The function will determine the file name and layer name from the specified parameters, using generic values if necessary.\n",
    "  - `archiveFileName` (optional) - If `archiveDir` is specified, you may use this to specify the name of the archival GeoPackage.  Omit the extension.  If this is unspecified, the function will assign the file name automatically using a generic value if necessary.\n",
    "  \n",
    "The following example loads data from the MORPC Mid-Ohio Open Data website, however you can also load data from a local path or network drive."
   ]
  },
  {
   "cell_type": "code",
   "execution_count": 39,
   "id": "249e7a19-9d75-4b30-9ad3-655294f00a4f",
   "metadata": {
    "tags": []
   },
   "outputs": [],
   "source": [
    "import geopandas as gpd"
   ]
  },
  {
   "cell_type": "code",
   "execution_count": 40,
   "id": "627d9101-6aa1-4504-a8c2-3784cd55dfad",
   "metadata": {
    "tags": []
   },
   "outputs": [
    {
     "name": "stdout",
     "output_type": "stream",
     "text": [
      "morpc.load_spatial_data | INFO | Loading spatial data from location: https://opendata.arcgis.com/api/v3/datasets/e42b50fbd17a47739c2a7695778c498e_17/downloads/data?format=shp&spatialRefId=3735&where=1%3D1\n",
      "morpc.load_spatial_data | INFO | Using driver ESRI Shapefile as specified by user.\n",
      "morpc.load_spatial_data | INFO | Reading spatial data...\n",
      "morpc.load_spatial_data | INFO | File name is unspecified and source path appears to be an API query. Will assign an alternate file name.\n",
      "morpc.load_spatial_data | INFO | Creating archival copy of geospatial layer at ./temp_data\\MORPC MPO Boundary.gpkg, layer MORPC MPO Boundary\n"
     ]
    },
    {
     "name": "stderr",
     "output_type": "stream",
     "text": [
      "C:\\Users\\jinskeep\\morpc_venv\\Lib\\site-packages\\pyogrio\\raw.py:198: RuntimeWarning: driver ESRI Shapefile does not support open option DRIVER\n"
     ]
    }
   ],
   "source": [
    "# Create a directory to store the archival data (for demonstration purposes only)\n",
    "if not os.path.exists(\"./temp_data\"):\n",
    "    os.makedirs(\"./temp_data\")\n",
    "\n",
    "# Load the data and create an archival copy\n",
    "gdf = morpc.load_spatial_data(\n",
    "    sourcePath=\"https://opendata.arcgis.com/api/v3/datasets/e42b50fbd17a47739c2a7695778c498e_17/downloads/data?format=shp&spatialRefId=3735&where=1%3D1\", \n",
    "    layerName=\"MORPC MPO Boundary\",\n",
    "    driverName=\"ESRI Shapefile\",\n",
    "    archiveDir=\"./temp_data\"\n",
    ")"
   ]
  },
  {
   "cell_type": "markdown",
   "id": "f6f350e2-2fc4-4bbf-a313-3e414f0f4596",
   "metadata": {},
   "source": [
    "Let's take a look at the data and make sure it loaded correctly."
   ]
  },
  {
   "cell_type": "code",
   "execution_count": 41,
   "id": "80370a69-4ae6-426c-b17b-0ea3f7dfdde8",
   "metadata": {
    "tags": []
   },
   "outputs": [
    {
     "data": {
      "text/html": [
       "<div style=\"width:100%;\"><div style=\"position:relative;width:100%;height:0;padding-bottom:60%;\"><span style=\"color:#565656\">Make this Notebook Trusted to load map: File -> Trust Notebook</span><iframe srcdoc=\"&lt;!DOCTYPE html&gt;\n",
       "&lt;html&gt;\n",
       "&lt;head&gt;\n",
       "    \n",
       "    &lt;meta http-equiv=&quot;content-type&quot; content=&quot;text/html; charset=UTF-8&quot; /&gt;\n",
       "    \n",
       "        &lt;script&gt;\n",
       "            L_NO_TOUCH = false;\n",
       "            L_DISABLE_3D = false;\n",
       "        &lt;/script&gt;\n",
       "    \n",
       "    &lt;style&gt;html, body {width: 100%;height: 100%;margin: 0;padding: 0;}&lt;/style&gt;\n",
       "    &lt;style&gt;#map {position:absolute;top:0;bottom:0;right:0;left:0;}&lt;/style&gt;\n",
       "    &lt;script src=&quot;https://cdn.jsdelivr.net/npm/leaflet@1.9.3/dist/leaflet.js&quot;&gt;&lt;/script&gt;\n",
       "    &lt;script src=&quot;https://code.jquery.com/jquery-3.7.1.min.js&quot;&gt;&lt;/script&gt;\n",
       "    &lt;script src=&quot;https://cdn.jsdelivr.net/npm/bootstrap@5.2.2/dist/js/bootstrap.bundle.min.js&quot;&gt;&lt;/script&gt;\n",
       "    &lt;script src=&quot;https://cdnjs.cloudflare.com/ajax/libs/Leaflet.awesome-markers/2.0.2/leaflet.awesome-markers.js&quot;&gt;&lt;/script&gt;\n",
       "    &lt;link rel=&quot;stylesheet&quot; href=&quot;https://cdn.jsdelivr.net/npm/leaflet@1.9.3/dist/leaflet.css&quot;/&gt;\n",
       "    &lt;link rel=&quot;stylesheet&quot; href=&quot;https://cdn.jsdelivr.net/npm/bootstrap@5.2.2/dist/css/bootstrap.min.css&quot;/&gt;\n",
       "    &lt;link rel=&quot;stylesheet&quot; href=&quot;https://netdna.bootstrapcdn.com/bootstrap/3.0.0/css/bootstrap-glyphicons.css&quot;/&gt;\n",
       "    &lt;link rel=&quot;stylesheet&quot; href=&quot;https://cdn.jsdelivr.net/npm/@fortawesome/fontawesome-free@6.2.0/css/all.min.css&quot;/&gt;\n",
       "    &lt;link rel=&quot;stylesheet&quot; href=&quot;https://cdnjs.cloudflare.com/ajax/libs/Leaflet.awesome-markers/2.0.2/leaflet.awesome-markers.css&quot;/&gt;\n",
       "    &lt;link rel=&quot;stylesheet&quot; href=&quot;https://cdn.jsdelivr.net/gh/python-visualization/folium/folium/templates/leaflet.awesome.rotate.min.css&quot;/&gt;\n",
       "    \n",
       "            &lt;meta name=&quot;viewport&quot; content=&quot;width=device-width,\n",
       "                initial-scale=1.0, maximum-scale=1.0, user-scalable=no&quot; /&gt;\n",
       "            &lt;style&gt;\n",
       "                #map_261dbaa156e48d6b38644f7cc3bd71b0 {\n",
       "                    position: relative;\n",
       "                    width: 100.0%;\n",
       "                    height: 100.0%;\n",
       "                    left: 0.0%;\n",
       "                    top: 0.0%;\n",
       "                }\n",
       "                .leaflet-container { font-size: 1rem; }\n",
       "            &lt;/style&gt;\n",
       "        \n",
       "    \n",
       "                    &lt;style&gt;\n",
       "                        .foliumtooltip {\n",
       "                            \n",
       "                        }\n",
       "                       .foliumtooltip table{\n",
       "                            margin: auto;\n",
       "                        }\n",
       "                        .foliumtooltip tr{\n",
       "                            text-align: left;\n",
       "                        }\n",
       "                        .foliumtooltip th{\n",
       "                            padding: 2px; padding-right: 8px;\n",
       "                        }\n",
       "                    &lt;/style&gt;\n",
       "            \n",
       "&lt;/head&gt;\n",
       "&lt;body&gt;\n",
       "    \n",
       "    \n",
       "            &lt;div class=&quot;folium-map&quot; id=&quot;map_261dbaa156e48d6b38644f7cc3bd71b0&quot; &gt;&lt;/div&gt;\n",
       "        \n",
       "&lt;/body&gt;\n",
       "&lt;script&gt;\n",
       "    \n",
       "    \n",
       "            var map_261dbaa156e48d6b38644f7cc3bd71b0 = L.map(\n",
       "                &quot;map_261dbaa156e48d6b38644f7cc3bd71b0&quot;,\n",
       "                {\n",
       "                    center: [40.08668747839168, -82.9591900482192],\n",
       "                    crs: L.CRS.EPSG3857,\n",
       "                    ...{\n",
       "  &quot;zoom&quot;: 10,\n",
       "  &quot;zoomControl&quot;: true,\n",
       "  &quot;preferCanvas&quot;: false,\n",
       "}\n",
       "\n",
       "                }\n",
       "            );\n",
       "            L.control.scale().addTo(map_261dbaa156e48d6b38644f7cc3bd71b0);\n",
       "\n",
       "            \n",
       "\n",
       "        \n",
       "    \n",
       "            var tile_layer_e5cd42c2b666fe6dd6f09cb5f921edc3 = L.tileLayer(\n",
       "                &quot;https://tile.openstreetmap.org/{z}/{x}/{y}.png&quot;,\n",
       "                {\n",
       "  &quot;minZoom&quot;: 0,\n",
       "  &quot;maxZoom&quot;: 19,\n",
       "  &quot;maxNativeZoom&quot;: 19,\n",
       "  &quot;noWrap&quot;: false,\n",
       "  &quot;attribution&quot;: &quot;\\u0026copy; \\u003ca href=\\&quot;https://www.openstreetmap.org/copyright\\&quot;\\u003eOpenStreetMap\\u003c/a\\u003e contributors&quot;,\n",
       "  &quot;subdomains&quot;: &quot;abc&quot;,\n",
       "  &quot;detectRetina&quot;: false,\n",
       "  &quot;tms&quot;: false,\n",
       "  &quot;opacity&quot;: 1,\n",
       "}\n",
       "\n",
       "            );\n",
       "        \n",
       "    \n",
       "            tile_layer_e5cd42c2b666fe6dd6f09cb5f921edc3.addTo(map_261dbaa156e48d6b38644f7cc3bd71b0);\n",
       "        \n",
       "    \n",
       "            map_261dbaa156e48d6b38644f7cc3bd71b0.fitBounds(\n",
       "                [[39.72946113735218, -83.31031612612342], [40.44391381943118, -82.60806397031497]],\n",
       "                {}\n",
       "            );\n",
       "        \n",
       "    \n",
       "        function geo_json_ffd533cb826341ad9a19536b12301e56_styler(feature) {\n",
       "            switch(feature.id) {\n",
       "                default:\n",
       "                    return {&quot;fillOpacity&quot;: 0.5, &quot;weight&quot;: 2};\n",
       "            }\n",
       "        }\n",
       "        function geo_json_ffd533cb826341ad9a19536b12301e56_highlighter(feature) {\n",
       "            switch(feature.id) {\n",
       "                default:\n",
       "                    return {&quot;fillOpacity&quot;: 0.75};\n",
       "            }\n",
       "        }\n",
       "        function geo_json_ffd533cb826341ad9a19536b12301e56_pointToLayer(feature, latlng) {\n",
       "            var opts = {&quot;bubblingMouseEvents&quot;: true, &quot;color&quot;: &quot;#3388ff&quot;, &quot;dashArray&quot;: null, &quot;dashOffset&quot;: null, &quot;fill&quot;: true, &quot;fillColor&quot;: &quot;#3388ff&quot;, &quot;fillOpacity&quot;: 0.2, &quot;fillRule&quot;: &quot;evenodd&quot;, &quot;lineCap&quot;: &quot;round&quot;, &quot;lineJoin&quot;: &quot;round&quot;, &quot;opacity&quot;: 1.0, &quot;radius&quot;: 2, &quot;stroke&quot;: true, &quot;weight&quot;: 3};\n",
       "            \n",
       "            let style = geo_json_ffd533cb826341ad9a19536b12301e56_styler(feature)\n",
       "            Object.assign(opts, style)\n",
       "            \n",
       "            return new L.CircleMarker(latlng, opts)\n",
       "        }\n",
       "\n",
       "        function geo_json_ffd533cb826341ad9a19536b12301e56_onEachFeature(feature, layer) {\n",
       "            layer.on({\n",
       "                mouseout: function(e) {\n",
       "                    if(typeof e.target.setStyle === &quot;function&quot;){\n",
       "                            geo_json_ffd533cb826341ad9a19536b12301e56.resetStyle(e.target);\n",
       "                    }\n",
       "                },\n",
       "                mouseover: function(e) {\n",
       "                    if(typeof e.target.setStyle === &quot;function&quot;){\n",
       "                        const highlightStyle = geo_json_ffd533cb826341ad9a19536b12301e56_highlighter(e.target.feature)\n",
       "                        e.target.setStyle(highlightStyle);\n",
       "                    }\n",
       "                },\n",
       "            });\n",
       "        };\n",
       "        var geo_json_ffd533cb826341ad9a19536b12301e56 = L.geoJson(null, {\n",
       "                onEachFeature: geo_json_ffd533cb826341ad9a19536b12301e56_onEachFeature,\n",
       "            \n",
       "                style: geo_json_ffd533cb826341ad9a19536b12301e56_styler,\n",
       "                pointToLayer: geo_json_ffd533cb826341ad9a19536b12301e56_pointToLayer,\n",
       "            ...{\n",
       "}\n",
       "        });\n",
       "\n",
       "        function geo_json_ffd533cb826341ad9a19536b12301e56_add (data) {\n",
       "            geo_json_ffd533cb826341ad9a19536b12301e56\n",
       "                .addData(data);\n",
       "        }\n",
       "            geo_json_ffd533cb826341ad9a19536b12301e56_add({&quot;bbox&quot;: [-83.31031612612342, 39.72946113735218, -82.60806397031497, 40.44391381943118], &quot;features&quot;: [{&quot;bbox&quot;: [-83.31031612612342, 39.72946113735218, -82.60806397031497, 40.44391381943118], &quot;geometry&quot;: {&quot;coordinates&quot;: [[[-82.97796989465074, 40.41658831204115], [-82.97334880427805, 40.416390281421116], [-82.9732605546165, 40.41709944311026], [-82.96355276113071, 40.41664523984353], [-82.95371034740123, 40.41624798262456], [-82.94003102309955, 40.41552993110218], [-82.92498711827334, 40.41481420026747], [-82.92541026217756, 40.407775865443206], [-82.92669917212993, 40.39395757929778], [-82.92846121433159, 40.372139342507545], [-82.9292670170488, 40.36252776307463], [-82.92952416549623, 40.35920798767888], [-82.9296400773598, 40.357959234716894], [-82.92295740900094, 40.35780318032121], [-82.8827168465881, 40.35586352604047], [-82.87500216719606, 40.35551753086978], [-82.85661791005477, 40.35465971816187], [-82.84021478287026, 40.35389191330199], [-82.83134449319434, 40.3535596210996], [-82.81879333068466, 40.35293811841252], [-82.80906516722058, 40.3524404097633], [-82.79276254165036, 40.35175772514889], [-82.77912718271692, 40.3510952462746], [-82.77592180227924, 40.350969034158695], [-82.77467113136262, 40.35089902360116], [-82.75687980058032, 40.35014465683259], [-82.74492092098687, 40.34959920877507], [-82.74568131211618, 40.340866489446725], [-82.74718288402447, 40.322552562599014], [-82.7484218860765, 40.30767683751379], [-82.74842782456707, 40.30740372008871], [-82.74844958362016, 40.307124036960204], [-82.74953006495035, 40.29322742124779], [-82.74998593607185, 40.288109857773314], [-82.75017365200036, 40.284119452825735], [-82.75024948784403, 40.2840695846771], [-82.75042443545193, 40.281464383511825], [-82.75065949326437, 40.27872940945221], [-82.75080897628729, 40.2770096680244], [-82.75136038676109, 40.269133187383694], [-82.75203527822022, 40.26100992518693], [-82.75241190205807, 40.25579660966444], [-82.75316339993041, 40.246440168917935], [-82.75319927547682, 40.24613168992782], [-82.7540760227145, 40.23296192988421], [-82.75463042960004, 40.22580944323928], [-82.75586303959501, 40.20811641230442], [-82.75595677838365, 40.20681238281357], [-82.75642523628665, 40.200822806838154], [-82.75678212043188, 40.19572156739338], [-82.75691704064396, 40.19383343378062], [-82.75719269731268, 40.189653043858314], [-82.75723638232235, 40.189360010653125], [-82.75809356736359, 40.176323044959055], [-82.75842416999026, 40.17152381861325], [-82.7589877317062, 40.1634537718487], [-82.75952291562092, 40.15637180350946], [-82.75955280999321, 40.156157878872854], [-82.75972650900555, 40.15392898950824], [-82.76014994263221, 40.148485253242484], [-82.76025460902963, 40.14698280926572], [-82.76044197548104, 40.14471785790976], [-82.76088361081541, 40.13874283653914], [-82.76144589335613, 40.130830673164475], [-82.76180518419521, 40.12598104174307], [-82.76180677378053, 40.12595958803934], [-82.76218351132944, 40.12077289257559], [-82.76060971330382, 40.12120652902512], [-82.75409990951614, 40.12094191617687], [-82.74231662515662, 40.12044473440212], [-82.74212604581889, 40.12287430816307], [-82.74024707463275, 40.122800206153094], [-82.74009677883177, 40.125082995439826], [-82.73191749344831, 40.12476287074047], [-82.7313822102837, 40.1247395739542], [-82.73120393048075, 40.12473181383095], [-82.73024117236797, 40.12468990404916], [-82.73005448310383, 40.12468164080732], [-82.72956193858815, 40.124659839877], [-82.72926816839787, 40.12464673203048], [-82.72830340985595, 40.12460367825424], [-82.72719512120874, 40.124554210631715], [-82.72698778182868, 40.12454495483856], [-82.7260946316037, 40.12450349188103], [-82.72532393054621, 40.124467708098166], [-82.72516471538971, 40.12445940788054], [-82.72424124338154, 40.124416780305445], [-82.72223959703446, 40.12432439568493], [-82.72207414587024, 40.124316757792734], [-82.72081220388485, 40.12426053418706], [-82.71906762129026, 40.124193465871365], [-82.71756922723871, 40.12414666247393], [-82.71749221130278, 40.124144159881226], [-82.7173487980721, 40.12413928892421], [-82.7163345082512, 40.124098380912734], [-82.71631780164994, 40.124097710081294], [-82.71572102567943, 40.12407372923807], [-82.7157087356415, 40.12407331859495], [-82.71513468185825, 40.12405014866289], [-82.71506437877878, 40.1240476096884], [-82.71453392342528, 40.12402488394575], [-82.71442554564817, 40.12402040031626], [-82.71392477403543, 40.12399966384278], [-82.71378273398813, 40.123993663010765], [-82.71313871772563, 40.12396645156823], [-82.71249204913207, 40.12393912341499], [-82.7124744578361, 40.12393838158912], [-82.71186546863939, 40.123914403248975], [-82.71155223554051, 40.123902068829395], [-82.71064986272422, 40.12386653012608], [-82.71024580761944, 40.12385042018143], [-82.70951508032935, 40.123821828172474], [-82.70897942589076, 40.12380072391072], [-82.70855897393005, 40.12378286134768], [-82.70594867103956, 40.123671928084754], [-82.70483359933709, 40.12362452215527], [-82.70404473864106, 40.123590917183634], [-82.70398166277106, 40.123588296008094], [-82.70312141551943, 40.12355170970358], [-82.70302547339155, 40.12354762907991], [-82.70188752777443, 40.123499222447315], [-82.70175798730094, 40.12349362152639], [-82.70083127697563, 40.12345216752919], [-82.70044704961035, 40.12343497691654], [-82.70004897173054, 40.12341716468704], [-82.69937175770094, 40.12338685973764], [-82.6986793126246, 40.12335586965769], [-82.69818807350367, 40.12333363797936], [-82.69798688737767, 40.12332461880175], [-82.69730352722786, 40.123292000488306], [-82.69663458048822, 40.12326006647459], [-82.6966604114387, 40.12315408379201], [-82.69669147043159, 40.12306445059658], [-82.69689856699291, 40.122634834468656], [-82.69707465084913, 40.12231831412557], [-82.69725196943604, 40.12200257401508], [-82.69743074039054, 40.12168783260896], [-82.69761434269178, 40.12137465879817], [-82.69834127386046, 40.12011681882279], [-82.69852990489157, 40.11979087717822], [-82.69857337470431, 40.11971683048354], [-82.69880031553762, 40.119337933084616], [-82.69881173621583, 40.119318999649664], [-82.69939564983322, 40.11833538217166], [-82.6999734237026, 40.11731884813021], [-82.70033101643098, 40.11668991015273], [-82.70068549000155, 40.116059932460566], [-82.7010645732212, 40.1153872848035], [-82.70186610022328, 40.11396743211279], [-82.70236043566351, 40.11306547455908], [-82.70253620237074, 40.11274476746438], [-82.70285475824154, 40.11216351460587], [-82.70335178666151, 40.11124910139709], [-82.70335432756298, 40.111244413934934], [-82.70338431905154, 40.11118908925289], [-82.70444261871357, 40.10927097058724], [-82.70473246576525, 40.1087605166314], [-82.70568743478435, 40.10706376167665], [-82.70574414739657, 40.10696296641164], [-82.70590341293476, 40.10667989824574], [-82.70592449928024, 40.106642231895584], [-82.70609706755215, 40.10633251863644], [-82.70617684648458, 40.106187519474446], [-82.70631192586683, 40.10594198201166], [-82.7083295206217, 40.10236090583724], [-82.7104447139305, 40.102446040550355], [-82.71051987874922, 40.10161469328303], [-82.70889188379735, 40.10153613435319], [-82.70904859904304, 40.10129973728163], [-82.71017615803859, 40.09963086900135], [-82.71201754537894, 40.09971040076224], [-82.7138310560203, 40.099788700762446], [-82.71380640460137, 40.10018299067185], [-82.71483875725825, 40.10023175932319], [-82.71573073382285, 40.100273889696446], [-82.71662260355924, 40.100316007197385], [-82.71751458580938, 40.10035812403088], [-82.71844207241872, 40.1004019098965], [-82.71938959848246, 40.100446634509105], [-82.72044383058815, 40.10049638664361], [-82.72366305378418, 40.10064825086901], [-82.72377017665207, 40.10065330292766], [-82.72413472774797, 40.09595873980062], [-82.72290288567488, 40.095902575253014], [-82.71614118324973, 40.095562286710596], [-82.71618764099483, 40.0949345083511], [-82.71547110112606, 40.094897942798724], [-82.71542956258072, 40.09552699971136], [-82.71415326806198, 40.09546251155142], [-82.71430609046769, 40.093645382793845], [-82.71336719620498, 40.09359908590525], [-82.7135865014023, 40.09317114115691], [-82.71541038684823, 40.09046210070828], [-82.71796337888593, 40.08690206335915], [-82.71879739586304, 40.08578456986689], [-82.72083383856065, 40.08283248674897], [-82.721064795208, 40.0829250747824], [-82.72166687803254, 40.08215794143526], [-82.72415473905785, 40.08261178992839], [-82.72576885052922, 40.08274766822252], [-82.72586896333065, 40.08134800692144], [-82.72654763635626, 40.081359369692734], [-82.72654237961672, 40.0814287837516], [-82.72739687401935, 40.08147174697696], [-82.72735329696435, 40.082047230685156], [-82.72771007520583, 40.08206288152399], [-82.72736280586092, 40.08672825355584], [-82.73480239516587, 40.08704502275399], [-82.73482713650654, 40.08671738118151], [-82.73357845723534, 40.086651769033566], [-82.733597962282, 40.086374716660025], [-82.73362814233147, 40.0859460874142], [-82.73364131481546, 40.08575898954717], [-82.73364787308519, 40.085665846383804], [-82.73366589960679, 40.085409838448], [-82.73370244789345, 40.084890768006424], [-82.73371341235666, 40.08473503694461], [-82.73375991161153, 40.08407463155591], [-82.7337716724841, 40.08390758641285], [-82.73380887599812, 40.08337919311375], [-82.73384887275435, 40.082811110962076], [-82.73386006039068, 40.08265221820698], [-82.73386852126237, 40.08253204229752], [-82.73387748559101, 40.08240471460825], [-82.73389435689673, 40.08216509594704], [-82.73390979931109, 40.08194576884727], [-82.73392357118564, 40.08175016418567], [-82.73403370603887, 40.081754947811845], [-82.73412561265931, 40.081407410987666], [-82.73542773787922, 40.08149983912422], [-82.73543667753631, 40.08140619290031], [-82.73694329177141, 40.081470097557045], [-82.73880986706672, 40.0815065106341], [-82.73879960177092, 40.08162959867169], [-82.73954638818743, 40.081663137869626], [-82.7395392593521, 40.08136120234192], [-82.74067709438152, 40.08135923577696], [-82.7421211474781, 40.08131007128353], [-82.74449075070625, 40.08126451538868], [-82.74517162060387, 40.08125019258676], [-82.74657165496039, 40.08114381305278], [-82.74669576851069, 40.079262995490346], [-82.74669922747131, 40.07926310711062], [-82.7467083331862, 40.07912887121628], [-82.74761052669106, 40.079168989153494], [-82.74771829617588, 40.07795028446072], [-82.74622069772762, 40.077889643976214], [-82.74614185794405, 40.07895509961416], [-82.7461284554137, 40.07895714502751], [-82.74612829652841, 40.078959285191814], [-82.7459726295474, 40.07898092379105], [-82.74559739368168, 40.07896380260497], [-82.74505757139086, 40.07893916119745], [-82.74428993394046, 40.07888141111672], [-82.74381313911397, 40.07886376216353], [-82.7437158528171, 40.0788599778441], [-82.74318670760866, 40.07881087326447], [-82.74236914796478, 40.07882348702452], [-82.74204547257534, 40.078815287526794], [-82.74089741076139, 40.07874783572423], [-82.7405810636274, 40.078738710269896], [-82.74057235970373, 40.078866787444355], [-82.7397029993011, 40.07882984565733], [-82.73607306143599, 40.07867219331346], [-82.73617367412305, 40.07692466174395], [-82.73622555147574, 40.07602359053752], [-82.73625011490164, 40.07559692356266], [-82.73644659218182, 40.07559012520489], [-82.7369735596494, 40.07455017807543], [-82.73725627479253, 40.073683269071275], [-82.7372516725735, 40.072977232562415], [-82.73721561064892, 40.07255281896167], [-82.73764469319696, 40.07218382647235], [-82.73788243807323, 40.070089073258416], [-82.73822437363506, 40.07000044558343], [-82.7381573063678, 40.06975321400531], [-82.73796638457083, 40.06972378527338], [-82.73746020979587, 40.06912860453534], [-82.73758726733382, 40.069026348759024], [-82.73756787643744, 40.06887059216737], [-82.73728205213257, 40.06887232954531], [-82.73704469618843, 40.068297215987265], [-82.73726227021237, 40.06798780965746], [-82.73758804727133, 40.06752452546747], [-82.73668192165081, 40.06594446817168], [-82.73622122572846, 40.06593428877221], [-82.73620342703612, 40.065643910374106], [-82.73604827615299, 40.065114806613835], [-82.73517226808346, 40.06507043373079], [-82.73520239586813, 40.06466690776803], [-82.736362448671, 40.06472733920779], [-82.73623574074752, 40.06432014395128], [-82.7361680555321, 40.06392211336429], [-82.73526769906802, 40.063877918916575], [-82.73572893300813, 40.05799327194035], [-82.74534007041947, 40.058487576806385], [-82.74545474399388, 40.057017770009146], [-82.74554183829716, 40.05590142306246], [-82.74554188086965, 40.05590086819746], [-82.74577945138589, 40.05284562797294], [-82.74583578511147, 40.05212065648616], [-82.74816646842987, 40.05178916285047], [-82.74950267511038, 40.051546281311694], [-82.75190774513463, 40.051053489848265], [-82.75223426152712, 40.05097033471846], [-82.7527841212567, 40.05082715801298], [-82.75329059272524, 40.05069825060246], [-82.75393497818416, 40.05053657954599], [-82.75462316454416, 40.05036191235691], [-82.738588359214, 40.0495255504919], [-82.733327700241, 40.04924019899543], [-82.72675461251337, 40.04890595509057], [-82.68842697377518, 40.046890921798614], [-82.66921201254137, 40.04605339584412], [-82.66934984240177, 40.04436892796849], [-82.66954299793484, 40.042203362401565], [-82.66987417222971, 40.03821906753672], [-82.6703871292573, 40.03172134020315], [-82.67050695086137, 40.030285575492165], [-82.67072444112098, 40.02745741875113], [-82.67082064811106, 40.02637848566788], [-82.6710472481558, 40.02349795524759], [-82.67117264828893, 40.02198519053005], [-82.67153575070056, 40.016631456073604], [-82.66952850826236, 40.01653543203665], [-82.66714794656424, 40.01643334279249], [-82.66706446182387, 40.01768321191642], [-82.66473336980057, 40.01757787908161], [-82.66440130513948, 40.019989507731346], [-82.66183569653963, 40.01981822097607], [-82.66166159129767, 40.02220441363239], [-82.65824908753861, 40.02202940460172], [-82.65842647492589, 40.01959865077363], [-82.65753831391595, 40.01956413228136], [-82.65752759782927, 40.01970133729488], [-82.6563672242433, 40.019645797615546], [-82.65630214940215, 40.01988838443062], [-82.65601580280209, 40.01968486467254], [-82.65535525733627, 40.01932633862298], [-82.65501433393497, 40.01918504581072], [-82.65466748817539, 40.019040550891006], [-82.654208934364, 40.01897972704625], [-82.65408689434736, 40.01897689086122], [-82.65342767600178, 40.01907510290617], [-82.65339935053655, 40.018942368592676], [-82.65319065723389, 40.018969841540674], [-82.65219190778687, 40.01908044927465], [-82.65245913474601, 40.01580043180414], [-82.65272540608456, 40.015812064998336], [-82.65288950692234, 40.01367910074792], [-82.652372799466, 40.01324729606032], [-82.6527142886261, 40.01242020324343], [-82.64350803692993, 40.0120205163343], [-82.64355809663675, 40.01101283535826], [-82.64180411751339, 40.01097245527749], [-82.64175278104453, 40.01224899006136], [-82.64349261259167, 40.01228912343419], [-82.64348013591128, 40.012453862586504], [-82.6405787705102, 40.01238182291802], [-82.6406034541234, 40.01162896722041], [-82.64000116751154, 40.01160938046286], [-82.63979538898798, 40.01165911754525], [-82.63923012576204, 40.01164547639895], [-82.63922261223138, 40.011782765459735], [-82.63668937583552, 40.011693633847315], [-82.63668537229324, 40.01174826578898], [-82.63390474415017, 40.01164805358332], [-82.63394978480201, 40.0109420939138], [-82.63450785051334, 40.01068946525773], [-82.63567722512875, 40.01023623135703], [-82.63663062628198, 40.00992842132001], [-82.63821207915294, 40.00951612312768], [-82.63983423018054, 40.00921136072508], [-82.63984353867149, 40.00904548535869], [-82.64266613409445, 40.00846217913951], [-82.64285637572107, 40.00841812888857], [-82.64338769443879, 40.00832117936762], [-82.64392797793965, 40.00826020629105], [-82.64381858468217, 40.008058735602354], [-82.64431765589113, 40.000900698486895], [-82.64433196466688, 40.00063844545438], [-82.64430574572575, 40.00063732578027], [-82.64435673743806, 39.99980527579757], [-82.65380065461532, 40.000334006697], [-82.65361756134466, 40.00284259289898], [-82.65415843871888, 40.0028665998945], [-82.6541715848625, 40.002567746782255], [-82.65685963323648, 40.00266218813032], [-82.65701771685661, 40.000426508262116], [-82.65723141699223, 40.00043851763977], [-82.65714583150535, 40.00169414997911], [-82.6578279918564, 40.00171589206136], [-82.65758901476347, 40.005165669846335], [-82.65683346737671, 40.005293780383624], [-82.6567987383062, 40.00610547739157], [-82.65863644670908, 40.00579565539105], [-82.65864120313097, 40.005723026151074], [-82.66296469696702, 40.00495916507979], [-82.6632927882421, 40.00075855327855], [-82.65856532783336, 40.0005106607302], [-82.65894539383677, 39.99589916644285], [-82.65888261640605, 39.995624910981846], [-82.65927808870778, 39.99052143633657], [-82.65991666166117, 39.98372834947172], [-82.66015299387206, 39.98029151111095], [-82.66481377054087, 39.98267996800993], [-82.6650436109774, 39.982761752154566], [-82.66722736158877, 39.98331499391236], [-82.66916810244001, 39.98374819213167], [-82.66948223129353, 39.98383711867028], [-82.66955461328655, 39.98393192188969], [-82.66967908067598, 39.984122786889856], [-82.66978144998632, 39.98432127063716], [-82.66986094113298, 39.98452586305546], [-82.67017692908703, 39.98561124347468], [-82.67090222891066, 39.98737512070042], [-82.67392445405115, 39.98750300532856], [-82.67523188875145, 39.97141846489443], [-82.67523385902639, 39.971418544811144], [-82.67522677795495, 39.971398941320764], [-82.66575825329664, 39.971087881832766], [-82.64594538482771, 39.970310346028356], [-82.62697772188623, 39.969477755689645], [-82.60806397031497, 39.96877784022666], [-82.60870043166746, 39.95898989166406], [-82.6089993267947, 39.954392322842644], [-82.60941679194663, 39.95067164289913], [-82.60957110778651, 39.94559551462574], [-82.61003502223465, 39.93845656221921], [-82.61055489095256, 39.931051933925346], [-82.6490403056648, 39.93291247550875], [-82.67258377814088, 39.93410406487373], [-82.69715335124012, 39.93525466575876], [-82.69948382007553, 39.907134873522686], [-82.70077933838539, 39.89106235443773], [-82.70247273421884, 39.87064906936166], [-82.70502381674007, 39.83964175273816], [-82.7067892246222, 39.81766526958268], [-82.70679504004751, 39.81742182909085], [-82.70680498545777, 39.817286159693616], [-82.7069094221504, 39.81625999285405], [-82.70723429770415, 39.81260791828125], [-82.70733580895241, 39.81133757471283], [-82.70765863916003, 39.80735117521617], [-82.70768768821804, 39.80694575393053], [-82.70769811236822, 39.80679783474722], [-82.70768098092384, 39.806665170716684], [-82.7082504662807, 39.80033683498414], [-82.70829535304658, 39.79983798590883], [-82.70844032599726, 39.798226789202836], [-82.71050755218779, 39.77570579359032], [-82.71065420113715, 39.77410758729164], [-82.71178052124424, 39.76183033642464], [-82.71179183778062, 39.761706944671744], [-82.71186850793464, 39.76117245517797], [-82.71191852310177, 39.760635296426784], [-82.71199579985442, 39.759857048731625], [-82.7120199168744, 39.7594655750727], [-82.71203394262074, 39.75929967794876], [-82.71204511991364, 39.759056394367114], [-82.71281880985256, 39.75031741472849], [-82.71287118119109, 39.75005847876745], [-82.71285831933638, 39.74983470324582], [-82.71284118592443, 39.74937178227785], [-82.71390671431378, 39.736910876183494], [-82.71449685550355, 39.72946113735218], [-82.72142690011229, 39.72988202646347], [-82.72177270812469, 39.72991083419149], [-82.729981996095, 39.73039370375679], [-82.73380665238847, 39.73060367551117], [-82.73427050796909, 39.730609505226646], [-82.73599049472698, 39.730693892052045], [-82.73624870309635, 39.73070350727088], [-82.74338605913968, 39.73113568450206], [-82.76636435875153, 39.732584838597994], [-82.80088365641527, 39.73482272036008], [-82.80333611214866, 39.73496583244478], [-82.82962066151406, 39.736567073339764], [-82.8293546286409, 39.74023010011905], [-82.82868913853639, 39.747262680124095], [-82.82853881487432, 39.74905976871456], [-82.82845559161888, 39.74982232977864], [-82.82832519040224, 39.75103407893032], [-82.82828550401294, 39.75149617755111], [-82.82698118661531, 39.76573943222008], [-82.82691447579245, 39.76646628808977], [-82.82629706607281, 39.77302166435189], [-82.82560825919742, 39.78033361626661], [-82.82437798716239, 39.79485997473763], [-82.82437245003932, 39.79491983207924], [-82.84087391559396, 39.79583663862796], [-82.84181006964458, 39.79588857995601], [-82.85258193611682, 39.796485700726556], [-82.85765656553747, 39.796751102505446], [-82.87143550779705, 39.797470617774835], [-82.88091937701653, 39.797950770690534], [-82.89032150559814, 39.79842768288499], [-82.89979146194203, 39.79891733525249], [-82.90927209942909, 39.799384222050406], [-82.91885963603482, 39.79984995899246], [-82.9279274708086, 39.80028386818828], [-82.93731936657163, 39.800726846509434], [-82.94687881946777, 39.801193140136746], [-82.95335748408645, 39.80149728491304], [-82.95639200647912, 39.8016396176148], [-82.96565945572621, 39.80204511942527], [-82.97492699290137, 39.80244714230706], [-82.9750694179425, 39.802454800403595], [-82.9796979838642, 39.80266927873239], [-82.98090141368336, 39.80272473859626], [-82.98364297830027, 39.80285345624633], [-82.98859202446864, 39.80307998624795], [-82.99179647313123, 39.80322854292205], [-82.99229496036615, 39.80325390105443], [-82.99501517357692, 39.80337695257613], [-82.99734732027687, 39.80348511731223], [-83.00153805617538, 39.80367588391146], [-83.00582851413988, 39.8038715613195], [-83.01104475052718, 39.804109714612885], [-83.01295262342435, 39.804115097439244], [-83.01775968531264, 39.80430664558203], [-83.03001440457349, 39.80479406491518], [-83.0442632014656, 39.8052997218055], [-83.04738902569025, 39.805378489850874], [-83.0492308849781, 39.805419092283074], [-83.05293564230023, 39.805500672920765], [-83.06047610619281, 39.80568719002367], [-83.060532989326, 39.80567868168127], [-83.07470601380652, 39.80600803987228], [-83.08930545542364, 39.80665474406312], [-83.08935884613713, 39.80665447530736], [-83.09543001824832, 39.806906526873036], [-83.10115926852372, 39.807129820320796], [-83.10199594387456, 39.8071502293091], [-83.12037653796672, 39.80783395574026], [-83.13051281682446, 39.80806257826076], [-83.13750151928338, 39.80818945371777], [-83.1493250896901, 39.8084072485393], [-83.15258991286923, 39.80847420206596], [-83.17176199092516, 39.8088214984057], [-83.17178909741067, 39.80882273356721], [-83.19580184034965, 39.80965756010864], [-83.20101172458705, 39.80983803366618], [-83.21591327959429, 39.810801891271076], [-83.21709077260967, 39.810877971444306], [-83.24362440348068, 39.81255347178961], [-83.24488618653082, 39.82889800579375], [-83.24739161973747, 39.86127991744893], [-83.24895597893817, 39.88151397252608], [-83.24944350698476, 39.88773723245059], [-83.25174760185487, 39.91749253321681], [-83.25175049202576, 39.91752984168454], [-83.24938550426607, 39.91874026461451], [-83.24663748447486, 39.92014690662854], [-83.24659140171924, 39.920171907515055], [-83.23082801050374, 39.9282379926948], [-83.23053717734055, 39.928386773577394], [-83.23038913222703, 39.928462507710634], [-83.23032075212092, 39.92882973809139], [-83.23002821235458, 39.92922385841633], [-83.2296217991853, 39.92953852520194], [-83.22932114499515, 39.92975801677166], [-83.22921484006888, 39.929835623507], [-83.22827016348124, 39.93030516881556], [-83.22748022970066, 39.93091046129735], [-83.227126219121, 39.931225617306396], [-83.2267062057242, 39.931606243315784], [-83.22615883523275, 39.932196022334686], [-83.2259507095053, 39.93253298095771], [-83.22591374022292, 39.932893738668895], [-83.22598872716502, 39.93324063283642], [-83.22600666722167, 39.933323621752116], [-83.22639995895503, 39.93410413607803], [-83.2266903100515, 39.93489544454885], [-83.22695321775387, 39.935585347665075], [-83.22745360541836, 39.9364763771562], [-83.2280430969601, 39.93721212439505], [-83.22852464932416, 39.937541206162045], [-83.22884091947542, 39.93807978408158], [-83.22889684599694, 39.938515658478416], [-83.22872654539388, 39.93904215920512], [-83.22846209031218, 39.939602736781765], [-83.22841233270971, 39.94012958700998], [-83.22879532231202, 39.94063562959912], [-83.22939631850593, 39.94087841854044], [-83.23040618458161, 39.94127102178748], [-83.23081708835456, 39.941512790165945], [-83.23107991431823, 39.94164621931552], [-83.23116926029566, 39.94176535569097], [-83.23118336227374, 39.9419192766819], [-83.2311580048142, 39.94232271311796], [-83.23117553824794, 39.942565559599], [-83.23114568890367, 39.94284713491864], [-83.23116660831784, 39.94324232084035], [-83.2312372893553, 39.943587234398564], [-83.2314684844561, 39.94413704008463], [-83.23154090814242, 39.9443762494423], [-83.23157642282392, 39.94463298453352], [-83.23169784353884, 39.94481698228682], [-83.2319425279922, 39.94502135059335], [-83.23212069984844, 39.94517534545661], [-83.23239938855365, 39.94545856343104], [-83.23308051944888, 39.94592182664803], [-83.2336398654036, 39.94633533423103], [-83.234339448363, 39.9467205089093], [-83.23494689924402, 39.94695965958929], [-83.23522372160784, 39.947030948885725], [-83.23578544737082, 39.94726297015058], [-83.23599696074733, 39.94746534125384], [-83.23600561976379, 39.94750838770243], [-83.23614651921272, 39.947677709111574], [-83.2363169682088, 39.94811121378448], [-83.23631603375979, 39.948292406052154], [-83.23635861691284, 39.94860839174956], [-83.23653354682686, 39.94902676900398], [-83.23662743461108, 39.94930344955882], [-83.23684622138812, 39.94958538644993], [-83.23727901871645, 39.94993405908563], [-83.23741084828727, 39.950021079371425], [-83.23745411040245, 39.95003522899957], [-83.23801039061645, 39.95021716313403], [-83.23817391950759, 39.95026609820687], [-83.23858617142015, 39.95052649886508], [-83.23875469438757, 39.95062503049426], [-83.2388277278219, 39.95066773077787], [-83.23910612721303, 39.95078484699099], [-83.23970568677143, 39.950981472312066], [-83.24013061328888, 39.951124839943084], [-83.24030864548142, 39.95120497528551], [-83.24040250509461, 39.95126697516338], [-83.24077132962674, 39.95156799767663], [-83.24099559725347, 39.95179306429637], [-83.24108219503526, 39.951885855707815], [-83.24127018666776, 39.95212076018267], [-83.24144812501854, 39.952249211796044], [-83.24164439754637, 39.95243488307391], [-83.24174072302475, 39.95252600479997], [-83.24183379643112, 39.9526236966886], [-83.24190497577503, 39.95277560774704], [-83.24190724948954, 39.952782826659195], [-83.24194189835845, 39.95289287131402], [-83.2419944627995, 39.953038586316715], [-83.24212789756356, 39.95350855282633], [-83.24218584232311, 39.95385738179494], [-83.24232589122903, 39.95444535252448], [-83.24237812373872, 39.954760176593304], [-83.2424045463894, 39.95512979408636], [-83.24248423298631, 39.95557676540091], [-83.24244140244416, 39.95590838850611], [-83.24226039862128, 39.956329007294286], [-83.24222594539636, 39.95644315279621], [-83.24218352243962, 39.95647910929548], [-83.24210176556622, 39.95650625562334], [-83.24198366272634, 39.95653720019549], [-83.24194409795257, 39.956540195627625], [-83.24190489889936, 39.95654401194625], [-83.24187300092176, 39.95656343032837], [-83.24181552191182, 39.956659328700205], [-83.2417437955686, 39.95689093186655], [-83.2416584032043, 39.95707897219158], [-83.24162300202418, 39.95720465384373], [-83.24161390373105, 39.95725467510128], [-83.24157901248562, 39.95732791922251], [-83.24150649333002, 39.95745191338479], [-83.24139688565562, 39.95754374836742], [-83.24118525335143, 39.95770238733963], [-83.24108189942373, 39.95777853427926], [-83.24008647682294, 39.959272740560884], [-83.2399768112937, 39.95979502844869], [-83.24029359674076, 39.96023007346602], [-83.24071748032625, 39.96063415299067], [-83.2407548325711, 39.96066976020282], [-83.24081799056606, 39.96072996656403], [-83.24083274545977, 39.9607387918295], [-83.24113021521156, 39.9609167039226], [-83.24268573163016, 39.961847003787106], [-83.24503149272692, 39.963088082196464], [-83.24576969797602, 39.96379248893721], [-83.2460015079786, 39.96454870234337], [-83.24564162003595, 39.96662498534777], [-83.24552083891435, 39.96736535250853], [-83.24557813438331, 39.9684488084488], [-83.24720920745946, 39.97141976021167], [-83.24770980558385, 39.97155273634669], [-83.24823448772639, 39.97140389430988], [-83.24870375383179, 39.97098005727165], [-83.248711427722, 39.97080338411174], [-83.24872090625988, 39.97058518322382], [-83.24856812951144, 39.970280886939], [-83.24900245806495, 39.97002610302666], [-83.24922832292135, 39.97002079291497], [-83.24946724583252, 39.970015174711314], [-83.25012882976887, 39.97028739293475], [-83.25040757752453, 39.970626020406634], [-83.25058527729446, 39.97154999688586], [-83.25059546127113, 39.97160294675037], [-83.25057021744337, 39.97230478990887], [-83.25049701710505, 39.9723446720641], [-83.25004558545342, 39.97259062874024], [-83.24931496035865, 39.973561068478126], [-83.24948780415274, 39.97440137873092], [-83.24954617802459, 39.97448720677982], [-83.24957439383056, 39.97455593194519], [-83.2495921824997, 39.97465025394618], [-83.24959550573665, 39.97472682435982], [-83.24960065719374, 39.974774284415425], [-83.24960063919914, 39.974838797350046], [-83.24960370890177, 39.974891761152314], [-83.2496006087158, 39.975001315299586], [-83.24960179372947, 39.97504495664682], [-83.24962352278887, 39.97510768426174], [-83.24961534497386, 39.97514342443275], [-83.2496426748399, 39.97522917508714], [-83.24964867116239, 39.97525576583904], [-83.24965554626746, 39.975297724422624], [-83.2496617114424, 39.97533996134193], [-83.24966876288576, 39.97536517183883], [-83.24971010532326, 39.97542667624042], [-83.2497310331802, 39.97544822965915], [-83.24976920802958, 39.97551387121112], [-83.24979549054592, 39.97556860782183], [-83.2498136119565, 39.975594571695446], [-83.24983185486235, 39.97563179039508], [-83.24992137916355, 39.9756943585957], [-83.24993243578014, 39.97572695595233], [-83.24995853477905, 39.97576467383854], [-83.25003079138357, 39.975894758925136], [-83.25005897084834, 39.97594549160426], [-83.25012703165977, 39.976069141172246], [-83.25017177132742, 39.9761808609494], [-83.25018653751344, 39.97626511829403], [-83.25021093864939, 39.976404346442806], [-83.25022362149177, 39.97652148683812], [-83.2502216094462, 39.97659946390414], [-83.25025831075754, 39.97716681077644], [-83.25026444362192, 39.977261614205716], [-83.250263374078, 39.97732778112412], [-83.25023788234462, 39.97744544020184], [-83.25021731446074, 39.97755647853806], [-83.25020180874311, 39.97761819747552], [-83.25019576087129, 39.9776422676481], [-83.25008676984964, 39.97772696826398], [-83.24998269351798, 39.977738065738286], [-83.24990329723573, 39.977754494982726], [-83.2498191031602, 39.97778934818194], [-83.24974832925707, 39.97781121358387], [-83.2495724016819, 39.977843632627], [-83.2495006038912, 39.97786989605406], [-83.24935061976358, 39.97792548348834], [-83.24924561636384, 39.977982980316796], [-83.24918262430542, 39.978031698523864], [-83.24916187757722, 39.978060106387474], [-83.24910545376162, 39.97812223493987], [-83.24906465349432, 39.97821034247135], [-83.24904422448532, 39.97830133990581], [-83.24902959602224, 39.97833465063788], [-83.24894913310192, 39.97848395553387], [-83.24891158315718, 39.978575610686875], [-83.24890211739151, 39.97859131921338], [-83.24889064187994, 39.978619119361085], [-83.2488823044928, 39.97867325289971], [-83.24887400864141, 39.97883060761206], [-83.24886358360646, 39.97895585644029], [-83.24888254510002, 39.97912594012905], [-83.24900157104496, 39.97960751646453], [-83.24909529524977, 39.979860577521535], [-83.24911682701568, 39.979904913046326], [-83.24919242374095, 39.98013146069319], [-83.24934387653923, 39.9807407579135], [-83.24938762007667, 39.98128924889409], [-83.2494028836098, 39.98141405895124], [-83.24938403297813, 39.981473320418395], [-83.24947043952965, 39.98158959638426], [-83.24955385489464, 39.981779857400696], [-83.24956881077266, 39.9818761192793], [-83.24955806689083, 39.98190556209776], [-83.24955047517506, 39.98196271078125], [-83.24951752265922, 39.9820175508909], [-83.24948976560093, 39.98205780851348], [-83.24947830173952, 39.98211992384851], [-83.24946976003983, 39.982155117734884], [-83.24949667867264, 39.982268597745616], [-83.24948801816197, 39.982358971472614], [-83.24946283625346, 39.98240634948869], [-83.24946189618184, 39.98248459422997], [-83.24952411633504, 39.98256243657436], [-83.24955233172355, 39.98272998944521], [-83.2495541261335, 39.98276401851749], [-83.24947378030454, 39.98299073828489], [-83.249394623292, 39.98309611138122], [-83.24930709396658, 39.9831532218451], [-83.24911430989178, 39.98323236772857], [-83.24890971661135, 39.983433574301706], [-83.24874282371553, 39.983577115615724], [-83.24863458013719, 39.98366592769256], [-83.24842790856893, 39.98389345226283], [-83.24829632565287, 39.9841015550631], [-83.248278921294, 39.98413719801974], [-83.24819157620131, 39.984316075902036], [-83.24800650409112, 39.9845613058863], [-83.24798844786302, 39.98457536318799], [-83.2477722196407, 39.984743708188525], [-83.24756430535102, 39.98495586563967], [-83.2475348440907, 39.98497060344859], [-83.24727319467982, 39.98519710242914], [-83.24723912309811, 39.98523257661522], [-83.2471951991236, 39.985278308991624], [-83.24716191246942, 39.98530240460686], [-83.2469513114167, 39.98549728261245], [-83.24680150839725, 39.985671184321404], [-83.24667569798797, 39.985819403071616], [-83.2465064796156, 39.9860271846476], [-83.24649253839024, 39.98604430390451], [-83.24630857631058, 39.98622775570982], [-83.24622739084717, 39.9862779604033], [-83.24611053694629, 39.98639647361027], [-83.24609456074393, 39.986437478666666], [-83.24601195255227, 39.986587892560124], [-83.24598249285228, 39.986636121024304], [-83.24597645868771, 39.98665796977158], [-83.24596695634155, 39.986700417053044], [-83.24596028387496, 39.986743182296216], [-83.24595645883605, 39.9867861546088], [-83.24595549171913, 39.98682922044121], [-83.24595738367184, 39.986872268104264], [-83.24596213115848, 39.98691518593848], [-83.24596972125777, 39.98695786054236], [-83.24598013406212, 39.98700018216133], [-83.24599334378071, 39.987042038376025], [-83.24600931297272, 39.987083322244914], [-83.2460280030067, 39.98712392503245], [-83.24604936239159, 39.98716373988606], [-83.24606734960504, 39.98719341041194], [-83.24616346505336, 39.987370140458225], [-83.24637256444576, 39.9876092307515], [-83.24644690718753, 39.987675895972856], [-83.24662220593002, 39.98780996577257], [-83.246669986174, 39.987837075265944], [-83.24670947987522, 39.98785948196442], [-83.24683015038369, 39.987950303366354], [-83.24685185905713, 39.98800260800394], [-83.24687085476228, 39.98804837489174], [-83.24692482332314, 39.9881449407607], [-83.24701504415836, 39.988237703893155], [-83.24721885739545, 39.98840633610368], [-83.24728893925261, 39.98845173449542], [-83.24734734260082, 39.98850626783843], [-83.24743504375178, 39.98856390742498], [-83.24754943218113, 39.98868039996654], [-83.24758703354505, 39.98872545651278], [-83.24791758765876, 39.9889973236488], [-83.24794396666465, 39.98902762761306], [-83.24806501217526, 39.989099330631916], [-83.2482749450449, 39.98927231361047], [-83.24835645545382, 39.989351405158295], [-83.24859765875267, 39.98954477819118], [-83.2488054942625, 39.9897216167014], [-83.24897109792427, 39.98988020402163], [-83.24911161335449, 39.98997716503212], [-83.24947352888928, 39.990276829125435], [-83.25005529636411, 39.99067528779709], [-83.2503117041698, 39.990854558472954], [-83.25066665433955, 39.9910331147387], [-83.25080369243082, 39.99110205120792], [-83.2510879116882, 39.991487727509664], [-83.25270495613323, 39.99368191265255], [-83.25272025642197, 39.993702673815356], [-83.25425340017172, 39.99554884843153], [-83.25431286698075, 39.99562045420197], [-83.25517817754441, 39.99632282418851], [-83.25565435179934, 39.99670932473602], [-83.25577530876195, 39.99821401950687], [-83.2559053928845, 39.99852366579748], [-83.25664972522758, 39.99938525965875], [-83.2575228799546, 39.99996242307783], [-83.2584298181196, 40.00056190069916], [-83.25847041562741, 40.00058056305498], [-83.25949209538362, 40.001050214372746], [-83.25993061865127, 40.001251792738735], [-83.25995274457053, 40.00126196385437], [-83.2599551460052, 40.00127968044923], [-83.26003273482212, 40.00185194028446], [-83.26018869779462, 40.00217541477923], [-83.26043522845939, 40.00213099301398], [-83.26065819540479, 40.00254242785621], [-83.2607284553554, 40.00309073920234], [-83.26065117180003, 40.003367682031076], [-83.260231158771, 40.00394225245104], [-83.26012854410983, 40.0040826248108], [-83.25983680986575, 40.00433542419825], [-83.25960779116505, 40.00438247652829], [-83.25886874263499, 40.00476389801455], [-83.25836089923344, 40.004841299505664], [-83.25759320885764, 40.00449624149984], [-83.25691152067628, 40.00431176766726], [-83.25620335943472, 40.004219973962265], [-83.25594454409861, 40.00425668056563], [-83.2558708183253, 40.00426713717138], [-83.2558616968643, 40.004270110413266], [-83.25519888079162, 40.00448613578648], [-83.25430696584415, 40.004928081742285], [-83.25416395034009, 40.00505481567681], [-83.25289866475538, 40.006176030216125], [-83.25216059623864, 40.007114403486646], [-83.25161504658516, 40.00835535541008], [-83.25155123011425, 40.008500513407085], [-83.25212111226783, 40.0091049258496], [-83.25225860811369, 40.009505118880675], [-83.25242441886586, 40.01012681897392], [-83.25254848921273, 40.01059200676418], [-83.25277529224144, 40.01228104497219], [-83.25313929957302, 40.01391320024188], [-83.25304160395115, 40.015636710429746], [-83.25293988748408, 40.017055802519856], [-83.25232452929875, 40.017994484361104], [-83.25174689679206, 40.01966582187723], [-83.25165463798939, 40.019932759029956], [-83.2517557760972, 40.02047240368397], [-83.25217608622381, 40.022714961479245], [-83.25230069255386, 40.02311979878207], [-83.25230080909766, 40.02312017540767], [-83.25190684802715, 40.02352450036276], [-83.25177144562647, 40.02366346366279], [-83.25189425153957, 40.02456861785238], [-83.25238846535801, 40.02573906757083], [-83.25247927306515, 40.02677543558687], [-83.25249604504437, 40.026966847358274], [-83.2523923563433, 40.027202722154705], [-83.25223815626738, 40.02755349716534], [-83.25244756432664, 40.028127545502585], [-83.25268008721854, 40.02851226512616], [-83.25327001737637, 40.028751351958086], [-83.25389433607974, 40.02881026303118], [-83.25512825834925, 40.028749968589004], [-83.25560197642004, 40.02882110219637], [-83.25582557439367, 40.029164313549764], [-83.25607893635262, 40.0301018934799], [-83.25621318101709, 40.03170558613626], [-83.25593702570578, 40.032876259763626], [-83.25540690618494, 40.033813578080846], [-83.25468339401968, 40.03503077255152], [-83.25455207723658, 40.035375742873754], [-83.25389949862365, 40.037090022840786], [-83.25361522208527, 40.03783677281012], [-83.25341288398387, 40.038368271054125], [-83.25294536177496, 40.03935684703771], [-83.25266397671965, 40.0399518187461], [-83.25258753157472, 40.04017958503986], [-83.25246434671014, 40.040546602836876], [-83.25245180757123, 40.040579462973504], [-83.25243945611398, 40.040619043408945], [-83.25242991013482, 40.04065907961241], [-83.25242319884315, 40.040699455214465], [-83.25241934086418, 40.0407400503108], [-83.25241834781241, 40.04078074684294], [-83.25242022307143, 40.04082142410324], [-83.25242496068034, 40.04086196414533], [-83.25243254646678, 40.04090224817481], [-83.25244295921802, 40.040942156541455], [-83.25245616721487, 40.040981573264716], [-83.25247213288921, 40.041020383302005], [-83.25249080929889, 40.04105847167052], [-83.25251214016694, 40.04109572704977], [-83.25253606454852, 40.04113203995022], [-83.25256251098216, 40.04116730365161], [-83.25259140336814, 40.041201415966455], [-83.25262265507035, 40.041234275675265], [-83.2526561759957, 40.04126578698466], [-83.25269186787767, 40.041295856855356], [-83.25272962547767, 40.041324397696776], [-83.25276933772705, 40.041351324657484], [-83.25281088895775, 40.04137656102139], [-83.25285415647075, 40.04140003011765], [-83.25289901415873, 40.04142166520424], [-83.25294532890317, 40.04144140138563], [-83.25299296650098, 40.041459181879176], [-83.25304178692946, 40.04147495354216], [-83.25307777014874, 40.04148508748962], [-83.25336517824137, 40.04157383508928], [-83.25345693552843, 40.04161711157426], [-83.2539924054038, 40.04186966147947], [-83.25456263814756, 40.04218793076944], [-83.25502168982963, 40.04270500831181], [-83.2550482641131, 40.04273494151837], [-83.25505410183273, 40.042755166666836], [-83.25527059157419, 40.04350517879031], [-83.25549377921583, 40.04432125352631], [-83.25552599491319, 40.04586959268686], [-83.25552240142927, 40.0460657702166], [-83.25550753672054, 40.04687732426813], [-83.25550359205059, 40.04709270656051], [-83.25537064297507, 40.04797201283861], [-83.25435989921223, 40.049045951860116], [-83.25386938856929, 40.04956711534793], [-83.2536652543823, 40.04955433441634], [-83.23991656897257, 40.048778328676825], [-83.23698214032416, 40.04861281965029], [-83.21208848383709, 40.04720577801111], [-83.21067107555227, 40.06447424643035], [-83.20978925681507, 40.07521316685325], [-83.20669941236089, 40.107660361347996], [-83.20993662473659, 40.107715597558474], [-83.233496317158, 40.1081132148397], [-83.23932544540615, 40.108254532682416], [-83.23946039407048, 40.10841747527522], [-83.24462719599774, 40.114626508949264], [-83.24257750943168, 40.115636675734336], [-83.24447046364988, 40.11794653381694], [-83.25080389348933, 40.1148450420244], [-83.24939813835822, 40.113208696139765], [-83.25797815277961, 40.10897491145171], [-83.25846501508224, 40.10873600343992], [-83.25854015625592, 40.10870081787131], [-83.26271995785362, 40.10871217059151], [-83.26279214783509, 40.10881438033724], [-83.26294474767599, 40.10881696226669], [-83.26320396788893, 40.1091975685341], [-83.26345689280754, 40.10987509292273], [-83.26366173212904, 40.110071574309096], [-83.26371755239867, 40.1103660524215], [-83.26371659999054, 40.11039288898765], [-83.26371443428334, 40.110419683898755], [-83.26371105843718, 40.11044640471189], [-83.26370647562207, 40.11047301988459], [-83.2637006913439, 40.11049949695868], [-83.26369371462725, 40.11052580345304], [-83.26368555098803, 40.110551907809906], [-83.26367621298925, 40.11057777932637], [-83.26366570966567, 40.11060338642173], [-83.26365405474345, 40.11062869748491], [-83.26364126196866, 40.11065368270575], [-83.2636273474233, 40.11067831135843], [-83.26361232720937, 40.11070255451817], [-83.26359621977461, 40.110726383244845], [-83.26357904354707, 40.11074976679734], [-83.263560820533, 40.11077267981492], [-83.26354157267932, 40.11079509153353], [-83.26352132317515, 40.11081697748536], [-83.2635000951804, 40.11083831050098], [-83.26341062177018, 40.11093305029063], [-83.26331728686955, 40.11102556802389], [-83.26322018446477, 40.11111577121853], [-83.26311940972644, 40.11120356828522], [-83.26301506724981, 40.11128887117604], [-83.26290725815295, 40.11137159546804], [-83.26281833515424, 40.111476837838474], [-83.26281544012717, 40.111713176563235], [-83.26284949908941, 40.111860102501396], [-83.26287742599186, 40.112007789596596], [-83.26289919450045, 40.11215608671955], [-83.26291477943336, 40.1123048409314], [-83.26292416737687, 40.11245390281838], [-83.26292734720337, 40.1126031175473], [-83.26290489976954, 40.11274522601347], [-83.26288847976605, 40.1128878195281], [-83.26287810315885, 40.11303074668624], [-83.26287378358809, 40.113173857898424], [-83.26287552293529, 40.11331700094868], [-83.26288332075603, 40.11346002543643], [-83.26289716954828, 40.11360277920479], [-83.2629043312067, 40.113632130757445], [-83.26291280320956, 40.11366127657354], [-83.26292257460545, 40.1136901806991], [-83.26293363330993, 40.113718810789905], [-83.26294596603566, 40.113747131807685], [-83.26295955952497, 40.11377511141575], [-83.26297439698162, 40.11380271549918], [-83.262990460456, 40.11382991175163], [-83.26300773083541, 40.113856668774986], [-83.26302619016016, 40.11388295336233], [-83.26304581347264, 40.113908735954645], [-83.26306657932379, 40.11393398606946], [-83.26308846274578, 40.11395867324725], [-83.26311143761741, 40.11398276883693], [-83.26313547781749, 40.11400624418765], [-83.26316055371574, 40.1140290715719], [-83.26318433565275, 40.11404581285883], [-83.26342733186945, 40.11390939324695], [-83.26401941006891, 40.11451341575596], [-83.264816169653, 40.11501699843539], [-83.26496415667428, 40.11514852149739], [-83.26537274199383, 40.11577928184637], [-83.2656952241981, 40.11611194538748], [-83.2658299123856, 40.116316810212936], [-83.2658309929349, 40.11632255902915], [-83.26583181333272, 40.116328332054856], [-83.26583237352918, 40.11633412478717], [-83.26583267107885, 40.11633992823598], [-83.265832708258, 40.116345736081996], [-83.26583248264096, 40.11635154113615], [-83.26583199533106, 40.11635733708689], [-83.26583124624864, 40.11636311672984], [-83.26583023883288, 40.11636887283761], [-83.26582897065828, 40.11637459822102], [-83.26582744635691, 40.11638028744617], [-83.26582566583929, 40.11638593240816], [-83.26582363137162, 40.11639152588723], [-83.26582134642311, 40.11639706335764], [-83.26581881324009, 40.11640253579862], [-83.26581603410877, 40.11640793779157], [-83.26581301365147, 40.116413263001995], [-83.26580975530746, 40.11641850420253], [-83.26580626253586, 40.116423655967004], [-83.26580253877603, 40.116428711067925], [-83.26579858984303, 40.11643366496447], [-83.26579441918624, 40.1164385113297], [-83.26579003259079, 40.11644324292104], [-83.26578543588188, 40.11644785609801], [-83.2657806336717, 40.116452343625724], [-83.26577563177545, 40.116456700963035], [-83.26577043717127, 40.11646092266093], [-83.26576505449141, 40.116465003285406], [-83.26575949073388, 40.116468939188465], [-83.26575375404991, 40.116472724913265], [-83.26574784907173, 40.11647635502594], [-83.2657417839803, 40.1164798267713], [-83.26573556576383, 40.11648313560076], [-83.26572920257343, 40.11648627605755], [-83.26572270142714, 40.116489246294634], [-83.26571607048605, 40.11649204175583], [-83.26571852281175, 40.11657844192001], [-83.26565752472, 40.116686355750986], [-83.26619472071428, 40.11652780328079], [-83.26720921008831, 40.11872959632232], [-83.26633796029192, 40.11917929696726], [-83.2663513468255, 40.11918992709248], [-83.26636425152475, 40.119200903490956], [-83.26637665782778, 40.11921221366205], [-83.26638855267217, 40.11922384328131], [-83.26639991948599, 40.11923577894744], [-83.26641074756265, 40.1192480072212], [-83.26642102265635, 40.11926051288508], [-83.2664307340505, 40.11927328159908], [-83.26643986868226, 40.119286299038635], [-83.26644841698796, 40.11929954905509], [-83.2664563682409, 40.11931301640799], [-83.2664637140504, 40.11932668494097], [-83.26647044486265, 40.11934053940591], [-83.26647655226702, 40.119354561845384], [-83.2664820302288, 40.119368736988356], [-83.26648687153019, 40.11938304867074], [-83.26649107127969, 40.11939747891223], [-83.26649462460546, 40.11941201153347], [-83.26649752544284, 40.119426628561705], [-83.26647925260538, 40.11958912984948], [-83.26637285969908, 40.11978525798685], [-83.26642875792945, 40.119834415987825], [-83.26663807706926, 40.11988879731348], [-83.26678329271205, 40.12006314232062], [-83.26709563762324, 40.12011741131457], [-83.26732579967027, 40.120311138560645], [-83.2676541292888, 40.120482401829776], [-83.26779726391932, 40.12063332419475], [-83.26781086251808, 40.12066453726962], [-83.26782583660406, 40.12069537751402], [-83.26784216934726, 40.12072580811196], [-83.26785984159135, 40.120755794063946], [-83.26787883185372, 40.1207853021868], [-83.26789911979469, 40.12081429658806], [-83.2679206804124, 40.12084274410743], [-83.26794348988759, 40.12087061247753], [-83.2679675208719, 40.12089786855345], [-83.26799274603677, 40.12092448099132], [-83.26801913571727, 40.12095041936309], [-83.2680466602484, 40.120975653240734], [-83.26807173811932, 40.12101638919714], [-83.26809494968654, 40.12105777227033], [-83.2681162685714, 40.121099751298466], [-83.26813566839495, 40.12114227511966], [-83.26815312628727, 40.121185291648366], [-83.26816861938813, 40.121228749699554], [-83.26818212950948, 40.12127259625636], [-83.26819364197235, 40.121316777378276], [-83.26820313976138, 40.121361240040585], [-83.26970986761494, 40.12018465442943], [-83.27118119956155, 40.12134671783256], [-83.27221737657344, 40.12140573658221], [-83.27197640199279, 40.1238100799995], [-83.27203283087654, 40.12380869194053], [-83.27210623618325, 40.1238082893695], [-83.27217957995474, 40.12380594362664], [-83.27225277423227, 40.12380165799145], [-83.2723257322406, 40.123795436636335], [-83.27239836724438, 40.12378728733621], [-83.27247059251879, 40.12377721876672], [-83.27254232374514, 40.12376524499156], [-83.27261347307595, 40.12375137919728], [-83.27266415241766, 40.12373696696221], [-83.27271419115853, 40.12372128994494], [-83.2727635343515, 40.123704365619076], [-83.27281213056865, 40.12368621143494], [-83.2728599284127, 40.12366684754475], [-83.27290687413011, 40.12364629321561], [-83.27295292106653, 40.1236245730717], [-83.27299801665204, 40.1236017072731], [-83.27304211542581, 40.12357772223755], [-83.27308516839788, 40.12355264350533], [-83.27312713009793, 40.12352649659365], [-83.27316795510599, 40.123499311522615], [-83.27341663912846, 40.123453160919546], [-83.27344309722729, 40.12341283385734], [-83.27344103416131, 40.123410570664674], [-83.27343907139874, 40.12340825457665], [-83.27343721366204, 40.12340588826409], [-83.27343546216454, 40.12340347532148], [-83.27343382044563, 40.12340101752678], [-83.27343228736227, 40.12339851758938], [-83.27343086764706, 40.12339597908057], [-83.27342956133015, 40.123393404702064], [-83.27342837078785, 40.12339079714005], [-83.2734272972435, 40.123388160889604], [-83.27342634188022, 40.12338549684359], [-83.27342550475824, 40.12338281040521], [-83.27342478940692, 40.12338010245201], [-83.27342419354036, 40.12337737840258], [-83.27342372068784, 40.123374639134475], [-83.27342336973656, 40.12337189005862], [-83.27342314070658, 40.1233691329761], [-83.2734230348112, 40.12336637148151], [-83.27342305325368, 40.123363608268654], [-83.27342319373798, 40.12336084785585], [-83.2734234574673, 40.123358092936925], [-83.27342384329877, 40.12335534622132], [-83.27342435127252, 40.12335261131113], [-83.2734249814187, 40.12334989090813], [-83.27342573261438, 40.123347189522725], [-83.27342660253358, 40.123344508971435], [-83.27342759238951, 40.12334185284875], [-83.27342869986603, 40.12333922387176], [-83.27342992383035, 40.123336625650374], [-83.2734312619664, 40.12333406090165], [-83.27343271431427, 40.123331533227805], [-83.27343427855803, 40.12332904534588], [-83.27343595238159, 40.123326599973026], [-83.2734377346419, 40.12332419981854], [-83.27343962184996, 40.12332184760721], [-83.2734416128627, 40.123319546048386], [-83.27375984408934, 40.12307872570061], [-83.2740706026521, 40.12290096528474], [-83.27424869663642, 40.122852609799025], [-83.27480560241362, 40.12257599357349], [-83.27481536147894, 40.122570176146304], [-83.27482485492425, 40.12256410559345], [-83.27483407344519, 40.12255778918117], [-83.27484300422864, 40.12255123509953], [-83.27485163914353, 40.12254445060716], [-83.27485996654968, 40.122537443886266], [-83.27486797596988, 40.12253022221086], [-83.2748756604664, 40.122522794632985], [-83.27488300957215, 40.122515169327066], [-83.2748900151863, 40.122507356253465], [-83.27489666801502, 40.12249936357893], [-83.27490296230368, 40.12249120124826], [-83.27490888877843, 40.122482879229345], [-83.27491444049151, 40.12247440567364], [-83.27491961287163, 40.12246579141868], [-83.27492439899103, 40.122457046416926], [-83.27492879193221, 40.122448181521435], [-83.27493278828685, 40.122439206661475], [-83.27493638230048, 40.12243013178177], [-83.27493957057474, 40.12242096771221], [-83.2749423485383, 40.12241172529029], [-83.27494471396601, 40.12240241533811], [-83.27494666229657, 40.12239304959381], [-83.27494819363085, 40.1223836370629], [-83.27494930459075, 40.12237419037625], [-83.27494999529715, 40.12236472034053], [-83.27495026352503, 40.122355237777796], [-83.2749501082222, 40.12234575350235], [-83.2751768208403, 40.12230066521039], [-83.27535914847687, 40.12210764640686], [-83.27582618782361, 40.12175685642589], [-83.27592402535203, 40.1216007095505], [-83.27600426394827, 40.12126262697398], [-83.27609418875097, 40.11981177783857], [-83.27611857201227, 40.11976389139083], [-83.27614079567022, 40.11971538875533], [-83.2761608345673, 40.119666327738784], [-83.27617866355662, 40.11961676704852], [-83.27619426101032, 40.11956676536842], [-83.27620760999298, 40.11951638135128], [-83.27621869474234, 40.11946567364217], [-83.27622750188269, 40.119414704472604], [-83.27623401917116, 40.119363532464085], [-83.27623824143338, 40.11931221889325], [-83.27624016348491, 40.119260824135985], [-83.27623978132449, 40.11920940946089], [-83.27623709679582, 40.1191580342966], [-83.27630810290557, 40.11915931104795], [-83.27630952026935, 40.11914896259476], [-83.27631139915442, 40.11913865792738], [-83.2763137361625, 40.119128407875664], [-83.27631653144478, 40.1191182259479], [-83.27631977926696, 40.1191081238899], [-83.2763234762308, 40.119098112531496], [-83.27632761896838, 40.119088205404196], [-83.27633220172547, 40.119078412452644], [-83.27633721995082, 40.11906874631554], [-83.27634266672732, 40.11905921784591], [-83.27634853513763, 40.11904983789678], [-83.27635482063086, 40.11904061910675], [-83.27636151275048, 40.11903157055098], [-83.27636860693552, 40.11902270396756], [-83.2763760915564, 40.11901402843933], [-83.27638396088928, 40.11900555661264], [-83.27639220328449, 40.1189972957694], [-83.27640080948895, 40.11898925767851], [-83.27640977020931, 40.11898145050685], [-83.2764190749993, 40.11897388423007], [-83.2764287122195, 40.1189665670306], [-83.27644571627737, 40.11895409469151], [-83.27646326976378, 40.1189420789386], [-83.27648135288882, 40.1189305334117], [-83.27649994119068, 40.118919473582494], [-83.2765190148593, 40.11890891128962], [-83.27653855057592, 40.118898859295435], [-83.27655852618446, 40.11888932945401], [-83.27657891717296, 40.11888033273449], [-83.2765996990294, 40.118871880105885], [-83.27662084723178, 40.11886398163675], [-83.27664233725812, 40.118856647395546], [-83.27666414338324, 40.118849884757005], [-83.27668623872911, 40.11884370290457], [-83.27670859990639, 40.11883810829694], [-83.27673119766101, 40.118833107431406], [-83.27675400625765, 40.118828706782196], [-83.27677699877809, 40.11882491193066], [-83.2768001482839, 40.11882172665713], [-83.27682342549065, 40.118819154757354], [-83.27684680579591, 40.11881719909562], [-83.27690899669773, 40.11883447465324], [-83.27697037539419, 40.1188533847623], [-83.27703086889952, 40.11887390649021], [-83.27709040655348, 40.11889601508783], [-83.27714891769551, 40.11891968580625], [-83.27720633160416, 40.118944888493125], [-83.27726258109698, 40.1189715947744], [-83.27731759777753, 40.11899977268139], [-83.27737131909417, 40.11902938840567], [-83.27742368013858, 40.119060407254025], [-83.2775813840886, 40.11919508433555], [-83.27760343711407, 40.11962635092142], [-83.27767097621783, 40.119808240838196], [-83.27771285158406, 40.119840629375595], [-83.27775614796805, 40.11987189713838], [-83.2778008156879, 40.11990200752833], [-83.2778468015524, 40.11993092487091], [-83.27789405120716, 40.11995861440001], [-83.27794250915467, 40.11998504405899], [-83.27799211874434, 40.12001018360004], [-83.27804282215219, 40.12003400278325], [-83.27809455923828, 40.12005647408595], [-83.27814726986232, 40.120077569985504], [-83.27820089040509, 40.12009726658478], [-83.2782553596033, 40.12011554087198], [-83.27831061151146, 40.12013237076682], [-83.27858709582785, 40.12014865588833], [-83.27899349909686, 40.120012618497555], [-83.27910075350631, 40.119939177760344], [-83.27920484230924, 40.11986310106974], [-83.2793056584863, 40.119784469298054], [-83.27940309268382, 40.119703364233764], [-83.27949704381183, 40.11961987211375], [-83.27958741314818, 40.11953408096048], [-83.28030678491527, 40.118489305843845], [-83.28045641890483, 40.11813134728058], [-83.28046430360067, 40.118097097554234], [-83.28047067995347, 40.1180626624017], [-83.28047554021065, 40.11802808240256], [-83.28047887893534, 40.11799339541909], [-83.28048069190407, 40.117958642907915], [-83.28048097719905, 40.11792386270789], [-83.28047973526868, 40.117889094443306], [-83.28047696657153, 40.11785437863889], [-83.28047267506484, 40.117819753994944], [-83.2804668647159, 40.11778526011225], [-83.28045954301115, 40.117750936568136], [-83.2804507185996, 40.11771682203165], [-83.28044040013036, 40.11768295517162], [-83.28042859977143, 40.117649374633565], [-83.28040346234022, 40.11759159108995], [-83.28037573564781, 40.11753450919065], [-83.28034545333428, 40.11747819895902], [-83.28031265133464, 40.11742272590004], [-83.28027736913266, 40.117368158196655], [-83.28023964850713, 40.117314559513694], [-83.28019953478575, 40.11726199619394], [-83.2801570767539, 40.117210529153596], [-83.28011232437935, 40.117160220201484], [-83.28006533232157, 40.117111131115244], [-83.28005975587897, 40.11709906918071], [-83.28005473271033, 40.11708686578154], [-83.28005026766941, 40.11707453529552], [-83.28004636561, 40.11706209210044], [-83.280043033742, 40.11704955145903], [-83.28004027342052, 40.117036929573565], [-83.28003808833645, 40.11702424173003], [-83.28003648335367, 40.11701150320676], [-83.28003545746105, 40.11699872842051], [-83.28003501436973, 40.11698593445826], [-83.28003515307863, 40.116973136637306], [-83.28003587375976, 40.11696035026697], [-83.28003717658495, 40.116947590656714], [-83.28003905939045, 40.116934874031934], [-83.28004151881902, 40.11692221482478], [-83.28004455271699, 40.116909630161324], [-83.28004815772717, 40.11689713447364], [-83.28005232815661, 40.11688474311005], [-83.28005706065846, 40.116872471403106], [-83.28006234835657, 40.11686033380832], [-83.28006818437493, 40.11684834478114], [-83.2800745630309, 40.11683652057034], [-83.28008147625509, 40.116824873837984], [-83.28019933733054, 40.11666116727231], [-83.28030742795423, 40.11644665119827], [-83.2806538054383, 40.11617238615721], [-83.28067407771417, 40.11616171524509], [-83.28069481352698, 40.11615158162428], [-83.28071598602047, 40.11614199628023], [-83.2807375718673, 40.116132971075665], [-83.2807595465371, 40.116124515179415], [-83.28078188317346, 40.11611663957695], [-83.280804557246, 40.1161093534372], [-83.28082754068505, 40.116102664151256], [-83.28085080896022, 40.11609658088802], [-83.28087433281885, 40.11609111014588], [-83.28089808534399, 40.1160862575071], [-83.28092204080205, 40.11608202944679], [-83.28094616993017, 40.11607843156288], [-83.2809704434251, 40.11607546585105], [-83.280994835543, 40.11607313788591], [-83.28101931698073, 40.116071449663245], [-83.28104385843493, 40.11607040317885], [-83.28106843293818, 40.116069999512376], [-83.28125112708614, 40.11598724574762], [-83.28163738017827, 40.11591390412099], [-83.28221419327397, 40.111860158980676], [-83.28329673834, 40.111992563470004], [-83.28438417444437, 40.11209874792864], [-83.2854754258951, 40.11217860682295], [-83.2855308555556, 40.11198925645761], [-83.28561497985078, 40.11137748395271], [-83.28571038013968, 40.111381802733824], [-83.28574121596256, 40.111125491356944], [-83.28492102731512, 40.11106705676891], [-83.28496628144845, 40.11068785493487], [-83.2857834585426, 40.110751083506784], [-83.28591202494538, 40.109533375525295], [-83.28598101792184, 40.10929304800344], [-83.28602628222396, 40.109205250873856], [-83.28606945903493, 40.10914459893591], [-83.28607159639813, 40.10914462247513], [-83.29220919288468, 40.10921098855017], [-83.2919278396552, 40.110617030399524], [-83.29169228376831, 40.11139155228707], [-83.29128018527798, 40.11228181603525], [-83.29118718523216, 40.11248272296016], [-83.288875011272, 40.11482409125958], [-83.2883792082606, 40.11533959624621], [-83.28884275906886, 40.115634522261175], [-83.28913310992908, 40.11585349846637], [-83.289612998661, 40.11629188242106], [-83.29043626214262, 40.11720823543452], [-83.29116019015169, 40.11821916199153], [-83.29167712087978, 40.11876788424157], [-83.2919397314668, 40.1190916290783], [-83.29202269247216, 40.11943332931868], [-83.29202588346138, 40.119709435070554], [-83.29193417884645, 40.11984810402116], [-83.29171952154783, 40.11995990114369], [-83.29142074088057, 40.120464509727356], [-83.29120588477056, 40.120935310154735], [-83.2911160225046, 40.12126694518982], [-83.29085702017416, 40.12249450361733], [-83.2908597639516, 40.12273190887169], [-83.290876747336, 40.12296372638923], [-83.29097585209956, 40.12343211180108], [-83.29107122498485, 40.12360822660134], [-83.29134564362874, 40.12368376538494], [-83.29132575697166, 40.12384942735134], [-83.29135740214863, 40.12408111905048], [-83.29168749140595, 40.12510478958982], [-83.29194189060878, 40.12533380085131], [-83.29093511697218, 40.12578519699022], [-83.29147277230419, 40.134429367871654], [-83.28824134427136, 40.13602514635978], [-83.28920947803321, 40.13682316356035], [-83.29013688188569, 40.13758758319903], [-83.29153820936537, 40.1387425908002], [-83.28521994771069, 40.14195031072589], [-83.29140191265931, 40.149430710515546], [-83.28683626099358, 40.15168522531298], [-83.29489313822741, 40.16147988673785], [-83.2938555045031, 40.16200076634739], [-83.31031612612342, 40.180579333906756], [-83.30732021468788, 40.182028919202814], [-83.30202497208242, 40.18457946294741], [-83.29989050745462, 40.18560334205439], [-83.2995942325451, 40.185676785399835], [-83.28367019206456, 40.187120148464025], [-83.26465024869054, 40.188647324042115], [-83.26231324147399, 40.18881839541381], [-83.26114301954681, 40.18891651009456], [-83.25703638931665, 40.1892123589843], [-83.25550367473997, 40.18932034870396], [-83.2487955478335, 40.18993041113399], [-83.2436341058418, 40.18380753048682], [-83.24039995483328, 40.18548262857457], [-83.23875588958762, 40.18365350080691], [-83.2275425646403, 40.16930026451079], [-83.21884612011145, 40.17388871603365], [-83.2188654236068, 40.17400184958618], [-83.22061048067424, 40.19016488388329], [-83.20620638525712, 40.192029291114586], [-83.20097193751262, 40.192717992896064], [-83.20145346795229, 40.1955132036802], [-83.20137585410266, 40.195511297477985], [-83.19740948264206, 40.19583350889056], [-83.18219391896406, 40.19721256368411], [-83.17144082334133, 40.198085097580105], [-83.17147383307221, 40.20017330578958], [-83.17147383469198, 40.20017335170993], [-83.17173114346393, 40.2164467546737], [-83.17181086041657, 40.22237678178325], [-83.17250540131224, 40.24429321980254], [-83.17743642432424, 40.2442586884497], [-83.19268531799221, 40.244329488374966], [-83.20587596801799, 40.244334022880594], [-83.22826755936077, 40.244393725267585], [-83.2355372582269, 40.24436503633528], [-83.23919582504823, 40.244400198377214], [-83.24728537902367, 40.24440720266266], [-83.24865142501562, 40.24440832972566], [-83.24879675147702, 40.25042344597886], [-83.2489222678073, 40.264185752193455], [-83.24935340203584, 40.28226962168301], [-83.24954662391737, 40.315723500812496], [-83.24965040653295, 40.325199844376], [-83.24958529900121, 40.32787666237031], [-83.24953415418645, 40.3282732318078], [-83.24956447206358, 40.334110463121505], [-83.24957859571212, 40.33933390346749], [-83.24972784105454, 40.349276829152934], [-83.24975518697917, 40.35293045247557], [-83.24955105263675, 40.36277460645943], [-83.24955788956333, 40.36687982639396], [-83.24958648854772, 40.375000175252524], [-83.24944842854765, 40.38173366232633], [-83.24947980214426, 40.402646220319106], [-83.24937262310515, 40.40955102247164], [-83.24916370482921, 40.4187301388192], [-83.24915339343143, 40.41916636677187], [-83.24869651071927, 40.438334372225185], [-83.24866367645146, 40.43962524241892], [-83.24843187365968, 40.44391381943118], [-83.22814715017387, 40.4427650838279], [-83.20707739127079, 40.44152880904136], [-83.194125929973, 40.440691968741916], [-83.19187820255115, 40.44050484235378], [-83.19138403356163, 40.44046368280253], [-83.18355796603831, 40.43995459320336], [-83.16038336107934, 40.43887234446953], [-83.14142433292503, 40.43814675322461], [-83.13706668528104, 40.438091442741296], [-83.11369135173581, 40.436992014309055], [-83.09211807968855, 40.43637394747335], [-83.07491488138788, 40.43566244980079], [-83.07245905394939, 40.43556785195562], [-83.07169617464895, 40.435535481014156], [-83.05634818400826, 40.43504687798334], [-83.055739299828, 40.43503604678723], [-83.05365453834486, 40.43495978772661], [-83.05190456776194, 40.43488560722558], [-83.05008723470206, 40.43480962891579], [-83.03943981772548, 40.434425002949666], [-83.02096664582321, 40.43379765598995], [-83.02220364283286, 40.41874745715479], [-83.00986236986789, 40.418185376236195], [-83.00269363540473, 40.41779654870459], [-83.00050088115901, 40.417677517682115], [-82.97796989465074, 40.41658831204115]], [[-82.67180320189038, 40.013246628683014], [-82.66972348210795, 40.01315674188157], [-82.66952830938429, 40.01558810944675], [-82.6704540225505, 40.01566027556122], [-82.6704308842835, 40.015937013582864], [-82.67069742416719, 40.0163251007718], [-82.67155636572222, 40.016356799319325], [-82.67165794127196, 40.01505734759142], [-82.67180320189038, 40.013246628683014]]], &quot;type&quot;: &quot;Polygon&quot;}, &quot;id&quot;: &quot;0&quot;, &quot;properties&quot;: {&quot;ACRES&quot;: 755258.798318588, &quot;NAME&quot;: &quot;MORPC MPO&quot;, &quot;OBJECTID&quot;: 1, &quot;SQMILES&quot;: 1180.09187237279, &quot;Shape__Are&quot;: 32921741008.4999, &quot;Shape__Len&quot;: 1099152.69724298, &quot;Source&quot;: &quot;MORPC&quot;, &quot;fid&quot;: 0}, &quot;type&quot;: &quot;Feature&quot;}], &quot;type&quot;: &quot;FeatureCollection&quot;});\n",
       "\n",
       "        \n",
       "    \n",
       "    geo_json_ffd533cb826341ad9a19536b12301e56.bindTooltip(\n",
       "    function(layer){\n",
       "    let div = L.DomUtil.create(&#x27;div&#x27;);\n",
       "    \n",
       "    let handleObject = feature=&gt;typeof(feature)==&#x27;object&#x27; ? JSON.stringify(feature) : feature;\n",
       "    let fields = [&quot;fid&quot;, &quot;OBJECTID&quot;, &quot;ACRES&quot;, &quot;SQMILES&quot;, &quot;NAME&quot;, &quot;Source&quot;, &quot;Shape__Are&quot;, &quot;Shape__Len&quot;];\n",
       "    let aliases = [&quot;fid&quot;, &quot;OBJECTID&quot;, &quot;ACRES&quot;, &quot;SQMILES&quot;, &quot;NAME&quot;, &quot;Source&quot;, &quot;Shape__Are&quot;, &quot;Shape__Len&quot;];\n",
       "    let table = &#x27;&lt;table&gt;&#x27; +\n",
       "        String(\n",
       "        fields.map(\n",
       "        (v,i)=&gt;\n",
       "        `&lt;tr&gt;\n",
       "            &lt;th&gt;${aliases[i]}&lt;/th&gt;\n",
       "            \n",
       "            &lt;td&gt;${handleObject(layer.feature.properties[v])}&lt;/td&gt;\n",
       "        &lt;/tr&gt;`).join(&#x27;&#x27;))\n",
       "    +&#x27;&lt;/table&gt;&#x27;;\n",
       "    div.innerHTML=table;\n",
       "    \n",
       "    return div\n",
       "    }\n",
       "    ,{\n",
       "  &quot;sticky&quot;: true,\n",
       "  &quot;className&quot;: &quot;foliumtooltip&quot;,\n",
       "});\n",
       "                     \n",
       "    \n",
       "            geo_json_ffd533cb826341ad9a19536b12301e56.addTo(map_261dbaa156e48d6b38644f7cc3bd71b0);\n",
       "        \n",
       "&lt;/script&gt;\n",
       "&lt;/html&gt;\" style=\"position:absolute;width:100%;height:100%;left:0;top:0;border:none !important;\" allowfullscreen webkitallowfullscreen mozallowfullscreen></iframe></div></div>"
      ],
      "text/plain": [
       "<folium.folium.Map at 0x1ea3f5677a0>"
      ]
     },
     "execution_count": 41,
     "metadata": {},
     "output_type": "execute_result"
    }
   ],
   "source": [
    "gdf.drop(columns=\"Updated\").explore() ## avoid datetime column JSON error"
   ]
  },
  {
   "cell_type": "markdown",
   "id": "2d851750-8263-4d4a-b2ec-5927e33ad498",
   "metadata": {},
   "source": [
    "Now let's read the archival copy and make sure it looks the same.  We'll use the `load_spatial_data()` function again, but this time we won't make an archival copy."
   ]
  },
  {
   "cell_type": "code",
   "execution_count": 42,
   "id": "74c619ee-56ae-4c6c-8367-151c5f13bfda",
   "metadata": {
    "tags": []
   },
   "outputs": [
    {
     "name": "stdout",
     "output_type": "stream",
     "text": [
      "morpc.load_spatial_data | INFO | Loading spatial data from location: ./temp_data/MORPC MPO Boundary.gpkg\n",
      "morpc.load_spatial_data | INFO | Driver name is unspecified.  Will attempt to infer driver from file extension in source path.\n",
      "morpc.load_spatial_data | INFO | Selecting driver GPKG based on file extension .gpkg\n",
      "morpc.load_spatial_data | INFO | Reading spatial data...\n"
     ]
    },
    {
     "name": "stderr",
     "output_type": "stream",
     "text": [
      "C:\\Users\\jinskeep\\morpc_venv\\Lib\\site-packages\\pyogrio\\raw.py:198: RuntimeWarning: driver GPKG does not support open option DRIVER\n"
     ]
    }
   ],
   "source": [
    "gdfArchive = morpc.load_spatial_data(\"./temp_data/MORPC MPO Boundary.gpkg\", layerName=\"MORPC MPO Boundary\")"
   ]
  },
  {
   "cell_type": "code",
   "execution_count": 43,
   "id": "26be62ad-6b3d-4b89-abb9-dfb07eefc3ed",
   "metadata": {
    "tags": []
   },
   "outputs": [
    {
     "data": {
      "text/html": [
       "<div style=\"width:100%;\"><div style=\"position:relative;width:100%;height:0;padding-bottom:60%;\"><span style=\"color:#565656\">Make this Notebook Trusted to load map: File -> Trust Notebook</span><iframe srcdoc=\"&lt;!DOCTYPE html&gt;\n",
       "&lt;html&gt;\n",
       "&lt;head&gt;\n",
       "    \n",
       "    &lt;meta http-equiv=&quot;content-type&quot; content=&quot;text/html; charset=UTF-8&quot; /&gt;\n",
       "    \n",
       "        &lt;script&gt;\n",
       "            L_NO_TOUCH = false;\n",
       "            L_DISABLE_3D = false;\n",
       "        &lt;/script&gt;\n",
       "    \n",
       "    &lt;style&gt;html, body {width: 100%;height: 100%;margin: 0;padding: 0;}&lt;/style&gt;\n",
       "    &lt;style&gt;#map {position:absolute;top:0;bottom:0;right:0;left:0;}&lt;/style&gt;\n",
       "    &lt;script src=&quot;https://cdn.jsdelivr.net/npm/leaflet@1.9.3/dist/leaflet.js&quot;&gt;&lt;/script&gt;\n",
       "    &lt;script src=&quot;https://code.jquery.com/jquery-3.7.1.min.js&quot;&gt;&lt;/script&gt;\n",
       "    &lt;script src=&quot;https://cdn.jsdelivr.net/npm/bootstrap@5.2.2/dist/js/bootstrap.bundle.min.js&quot;&gt;&lt;/script&gt;\n",
       "    &lt;script src=&quot;https://cdnjs.cloudflare.com/ajax/libs/Leaflet.awesome-markers/2.0.2/leaflet.awesome-markers.js&quot;&gt;&lt;/script&gt;\n",
       "    &lt;link rel=&quot;stylesheet&quot; href=&quot;https://cdn.jsdelivr.net/npm/leaflet@1.9.3/dist/leaflet.css&quot;/&gt;\n",
       "    &lt;link rel=&quot;stylesheet&quot; href=&quot;https://cdn.jsdelivr.net/npm/bootstrap@5.2.2/dist/css/bootstrap.min.css&quot;/&gt;\n",
       "    &lt;link rel=&quot;stylesheet&quot; href=&quot;https://netdna.bootstrapcdn.com/bootstrap/3.0.0/css/bootstrap-glyphicons.css&quot;/&gt;\n",
       "    &lt;link rel=&quot;stylesheet&quot; href=&quot;https://cdn.jsdelivr.net/npm/@fortawesome/fontawesome-free@6.2.0/css/all.min.css&quot;/&gt;\n",
       "    &lt;link rel=&quot;stylesheet&quot; href=&quot;https://cdnjs.cloudflare.com/ajax/libs/Leaflet.awesome-markers/2.0.2/leaflet.awesome-markers.css&quot;/&gt;\n",
       "    &lt;link rel=&quot;stylesheet&quot; href=&quot;https://cdn.jsdelivr.net/gh/python-visualization/folium/folium/templates/leaflet.awesome.rotate.min.css&quot;/&gt;\n",
       "    \n",
       "            &lt;meta name=&quot;viewport&quot; content=&quot;width=device-width,\n",
       "                initial-scale=1.0, maximum-scale=1.0, user-scalable=no&quot; /&gt;\n",
       "            &lt;style&gt;\n",
       "                #map_14da2b8d1dba47e1e8a5712a0cdae9b2 {\n",
       "                    position: relative;\n",
       "                    width: 100.0%;\n",
       "                    height: 100.0%;\n",
       "                    left: 0.0%;\n",
       "                    top: 0.0%;\n",
       "                }\n",
       "                .leaflet-container { font-size: 1rem; }\n",
       "            &lt;/style&gt;\n",
       "        \n",
       "    \n",
       "                    &lt;style&gt;\n",
       "                        .foliumtooltip {\n",
       "                            \n",
       "                        }\n",
       "                       .foliumtooltip table{\n",
       "                            margin: auto;\n",
       "                        }\n",
       "                        .foliumtooltip tr{\n",
       "                            text-align: left;\n",
       "                        }\n",
       "                        .foliumtooltip th{\n",
       "                            padding: 2px; padding-right: 8px;\n",
       "                        }\n",
       "                    &lt;/style&gt;\n",
       "            \n",
       "&lt;/head&gt;\n",
       "&lt;body&gt;\n",
       "    \n",
       "    \n",
       "            &lt;div class=&quot;folium-map&quot; id=&quot;map_14da2b8d1dba47e1e8a5712a0cdae9b2&quot; &gt;&lt;/div&gt;\n",
       "        \n",
       "&lt;/body&gt;\n",
       "&lt;script&gt;\n",
       "    \n",
       "    \n",
       "            var map_14da2b8d1dba47e1e8a5712a0cdae9b2 = L.map(\n",
       "                &quot;map_14da2b8d1dba47e1e8a5712a0cdae9b2&quot;,\n",
       "                {\n",
       "                    center: [40.08668747839168, -82.9591900482192],\n",
       "                    crs: L.CRS.EPSG3857,\n",
       "                    ...{\n",
       "  &quot;zoom&quot;: 10,\n",
       "  &quot;zoomControl&quot;: true,\n",
       "  &quot;preferCanvas&quot;: false,\n",
       "}\n",
       "\n",
       "                }\n",
       "            );\n",
       "            L.control.scale().addTo(map_14da2b8d1dba47e1e8a5712a0cdae9b2);\n",
       "\n",
       "            \n",
       "\n",
       "        \n",
       "    \n",
       "            var tile_layer_f1f2d37e879fc8c16be317ef5ed08bf0 = L.tileLayer(\n",
       "                &quot;https://tile.openstreetmap.org/{z}/{x}/{y}.png&quot;,\n",
       "                {\n",
       "  &quot;minZoom&quot;: 0,\n",
       "  &quot;maxZoom&quot;: 19,\n",
       "  &quot;maxNativeZoom&quot;: 19,\n",
       "  &quot;noWrap&quot;: false,\n",
       "  &quot;attribution&quot;: &quot;\\u0026copy; \\u003ca href=\\&quot;https://www.openstreetmap.org/copyright\\&quot;\\u003eOpenStreetMap\\u003c/a\\u003e contributors&quot;,\n",
       "  &quot;subdomains&quot;: &quot;abc&quot;,\n",
       "  &quot;detectRetina&quot;: false,\n",
       "  &quot;tms&quot;: false,\n",
       "  &quot;opacity&quot;: 1,\n",
       "}\n",
       "\n",
       "            );\n",
       "        \n",
       "    \n",
       "            tile_layer_f1f2d37e879fc8c16be317ef5ed08bf0.addTo(map_14da2b8d1dba47e1e8a5712a0cdae9b2);\n",
       "        \n",
       "    \n",
       "            map_14da2b8d1dba47e1e8a5712a0cdae9b2.fitBounds(\n",
       "                [[39.72946113735218, -83.31031612612342], [40.44391381943118, -82.60806397031497]],\n",
       "                {}\n",
       "            );\n",
       "        \n",
       "    \n",
       "        function geo_json_783c11a8b5d295df400e413c33e3e08b_styler(feature) {\n",
       "            switch(feature.id) {\n",
       "                default:\n",
       "                    return {&quot;fillOpacity&quot;: 0.5, &quot;weight&quot;: 2};\n",
       "            }\n",
       "        }\n",
       "        function geo_json_783c11a8b5d295df400e413c33e3e08b_highlighter(feature) {\n",
       "            switch(feature.id) {\n",
       "                default:\n",
       "                    return {&quot;fillOpacity&quot;: 0.75};\n",
       "            }\n",
       "        }\n",
       "        function geo_json_783c11a8b5d295df400e413c33e3e08b_pointToLayer(feature, latlng) {\n",
       "            var opts = {&quot;bubblingMouseEvents&quot;: true, &quot;color&quot;: &quot;#3388ff&quot;, &quot;dashArray&quot;: null, &quot;dashOffset&quot;: null, &quot;fill&quot;: true, &quot;fillColor&quot;: &quot;#3388ff&quot;, &quot;fillOpacity&quot;: 0.2, &quot;fillRule&quot;: &quot;evenodd&quot;, &quot;lineCap&quot;: &quot;round&quot;, &quot;lineJoin&quot;: &quot;round&quot;, &quot;opacity&quot;: 1.0, &quot;radius&quot;: 2, &quot;stroke&quot;: true, &quot;weight&quot;: 3};\n",
       "            \n",
       "            let style = geo_json_783c11a8b5d295df400e413c33e3e08b_styler(feature)\n",
       "            Object.assign(opts, style)\n",
       "            \n",
       "            return new L.CircleMarker(latlng, opts)\n",
       "        }\n",
       "\n",
       "        function geo_json_783c11a8b5d295df400e413c33e3e08b_onEachFeature(feature, layer) {\n",
       "            layer.on({\n",
       "                mouseout: function(e) {\n",
       "                    if(typeof e.target.setStyle === &quot;function&quot;){\n",
       "                            geo_json_783c11a8b5d295df400e413c33e3e08b.resetStyle(e.target);\n",
       "                    }\n",
       "                },\n",
       "                mouseover: function(e) {\n",
       "                    if(typeof e.target.setStyle === &quot;function&quot;){\n",
       "                        const highlightStyle = geo_json_783c11a8b5d295df400e413c33e3e08b_highlighter(e.target.feature)\n",
       "                        e.target.setStyle(highlightStyle);\n",
       "                    }\n",
       "                },\n",
       "            });\n",
       "        };\n",
       "        var geo_json_783c11a8b5d295df400e413c33e3e08b = L.geoJson(null, {\n",
       "                onEachFeature: geo_json_783c11a8b5d295df400e413c33e3e08b_onEachFeature,\n",
       "            \n",
       "                style: geo_json_783c11a8b5d295df400e413c33e3e08b_styler,\n",
       "                pointToLayer: geo_json_783c11a8b5d295df400e413c33e3e08b_pointToLayer,\n",
       "            ...{\n",
       "}\n",
       "        });\n",
       "\n",
       "        function geo_json_783c11a8b5d295df400e413c33e3e08b_add (data) {\n",
       "            geo_json_783c11a8b5d295df400e413c33e3e08b\n",
       "                .addData(data);\n",
       "        }\n",
       "            geo_json_783c11a8b5d295df400e413c33e3e08b_add({&quot;bbox&quot;: [-83.31031612612342, 39.72946113735218, -82.60806397031497, 40.44391381943118], &quot;features&quot;: [{&quot;bbox&quot;: [-83.31031612612342, 39.72946113735218, -82.60806397031497, 40.44391381943118], &quot;geometry&quot;: {&quot;coordinates&quot;: [[[-82.97796989465074, 40.41658831204115], [-82.97334880427805, 40.416390281421116], [-82.9732605546165, 40.41709944311026], [-82.96355276113071, 40.41664523984353], [-82.95371034740123, 40.41624798262456], [-82.94003102309955, 40.41552993110218], [-82.92498711827334, 40.41481420026747], [-82.92541026217756, 40.407775865443206], [-82.92669917212993, 40.39395757929778], [-82.92846121433159, 40.372139342507545], [-82.9292670170488, 40.36252776307463], [-82.92952416549623, 40.35920798767888], [-82.9296400773598, 40.357959234716894], [-82.92295740900094, 40.35780318032121], [-82.8827168465881, 40.35586352604047], [-82.87500216719606, 40.35551753086978], [-82.85661791005477, 40.35465971816187], [-82.84021478287026, 40.35389191330199], [-82.83134449319434, 40.3535596210996], [-82.81879333068466, 40.35293811841252], [-82.80906516722058, 40.3524404097633], [-82.79276254165036, 40.35175772514889], [-82.77912718271692, 40.3510952462746], [-82.77592180227924, 40.350969034158695], [-82.77467113136262, 40.35089902360116], [-82.75687980058032, 40.35014465683259], [-82.74492092098687, 40.34959920877507], [-82.74568131211618, 40.340866489446725], [-82.74718288402447, 40.322552562599014], [-82.7484218860765, 40.30767683751379], [-82.74842782456707, 40.30740372008871], [-82.74844958362016, 40.307124036960204], [-82.74953006495035, 40.29322742124779], [-82.74998593607185, 40.288109857773314], [-82.75017365200036, 40.284119452825735], [-82.75024948784403, 40.2840695846771], [-82.75042443545193, 40.281464383511825], [-82.75065949326437, 40.27872940945221], [-82.75080897628729, 40.2770096680244], [-82.75136038676109, 40.269133187383694], [-82.75203527822022, 40.26100992518693], [-82.75241190205807, 40.25579660966444], [-82.75316339993041, 40.246440168917935], [-82.75319927547682, 40.24613168992782], [-82.7540760227145, 40.23296192988421], [-82.75463042960004, 40.22580944323928], [-82.75586303959501, 40.20811641230442], [-82.75595677838365, 40.20681238281357], [-82.75642523628665, 40.200822806838154], [-82.75678212043188, 40.19572156739338], [-82.75691704064396, 40.19383343378062], [-82.75719269731268, 40.189653043858314], [-82.75723638232235, 40.189360010653125], [-82.75809356736359, 40.176323044959055], [-82.75842416999026, 40.17152381861325], [-82.7589877317062, 40.1634537718487], [-82.75952291562092, 40.15637180350946], [-82.75955280999321, 40.156157878872854], [-82.75972650900555, 40.15392898950824], [-82.76014994263221, 40.148485253242484], [-82.76025460902963, 40.14698280926572], [-82.76044197548104, 40.14471785790976], [-82.76088361081541, 40.13874283653914], [-82.76144589335613, 40.130830673164475], [-82.76180518419521, 40.12598104174307], [-82.76180677378053, 40.12595958803934], [-82.76218351132944, 40.12077289257559], [-82.76060971330382, 40.12120652902512], [-82.75409990951614, 40.12094191617687], [-82.74231662515662, 40.12044473440212], [-82.74212604581889, 40.12287430816307], [-82.74024707463275, 40.122800206153094], [-82.74009677883177, 40.125082995439826], [-82.73191749344831, 40.12476287074047], [-82.7313822102837, 40.1247395739542], [-82.73120393048075, 40.12473181383095], [-82.73024117236797, 40.12468990404916], [-82.73005448310383, 40.12468164080732], [-82.72956193858815, 40.124659839877], [-82.72926816839787, 40.12464673203048], [-82.72830340985595, 40.12460367825424], [-82.72719512120874, 40.124554210631715], [-82.72698778182868, 40.12454495483856], [-82.7260946316037, 40.12450349188103], [-82.72532393054621, 40.124467708098166], [-82.72516471538971, 40.12445940788054], [-82.72424124338154, 40.124416780305445], [-82.72223959703446, 40.12432439568493], [-82.72207414587024, 40.124316757792734], [-82.72081220388485, 40.12426053418706], [-82.71906762129026, 40.124193465871365], [-82.71756922723871, 40.12414666247393], [-82.71749221130278, 40.124144159881226], [-82.7173487980721, 40.12413928892421], [-82.7163345082512, 40.124098380912734], [-82.71631780164994, 40.124097710081294], [-82.71572102567943, 40.12407372923807], [-82.7157087356415, 40.12407331859495], [-82.71513468185825, 40.12405014866289], [-82.71506437877878, 40.1240476096884], [-82.71453392342528, 40.12402488394575], [-82.71442554564817, 40.12402040031626], [-82.71392477403543, 40.12399966384278], [-82.71378273398813, 40.123993663010765], [-82.71313871772563, 40.12396645156823], [-82.71249204913207, 40.12393912341499], [-82.7124744578361, 40.12393838158912], [-82.71186546863939, 40.123914403248975], [-82.71155223554051, 40.123902068829395], [-82.71064986272422, 40.12386653012608], [-82.71024580761944, 40.12385042018143], [-82.70951508032935, 40.123821828172474], [-82.70897942589076, 40.12380072391072], [-82.70855897393005, 40.12378286134768], [-82.70594867103956, 40.123671928084754], [-82.70483359933709, 40.12362452215527], [-82.70404473864106, 40.123590917183634], [-82.70398166277106, 40.123588296008094], [-82.70312141551943, 40.12355170970358], [-82.70302547339155, 40.12354762907991], [-82.70188752777443, 40.123499222447315], [-82.70175798730094, 40.12349362152639], [-82.70083127697563, 40.12345216752919], [-82.70044704961035, 40.12343497691654], [-82.70004897173054, 40.12341716468704], [-82.69937175770094, 40.12338685973764], [-82.6986793126246, 40.12335586965769], [-82.69818807350367, 40.12333363797936], [-82.69798688737767, 40.12332461880175], [-82.69730352722786, 40.123292000488306], [-82.69663458048822, 40.12326006647459], [-82.6966604114387, 40.12315408379201], [-82.69669147043159, 40.12306445059658], [-82.69689856699291, 40.122634834468656], [-82.69707465084913, 40.12231831412557], [-82.69725196943604, 40.12200257401508], [-82.69743074039054, 40.12168783260896], [-82.69761434269178, 40.12137465879817], [-82.69834127386046, 40.12011681882279], [-82.69852990489157, 40.11979087717822], [-82.69857337470431, 40.11971683048354], [-82.69880031553762, 40.119337933084616], [-82.69881173621583, 40.119318999649664], [-82.69939564983322, 40.11833538217166], [-82.6999734237026, 40.11731884813021], [-82.70033101643098, 40.11668991015273], [-82.70068549000155, 40.116059932460566], [-82.7010645732212, 40.1153872848035], [-82.70186610022328, 40.11396743211279], [-82.70236043566351, 40.11306547455908], [-82.70253620237074, 40.11274476746438], [-82.70285475824154, 40.11216351460587], [-82.70335178666151, 40.11124910139709], [-82.70335432756298, 40.111244413934934], [-82.70338431905154, 40.11118908925289], [-82.70444261871357, 40.10927097058724], [-82.70473246576525, 40.1087605166314], [-82.70568743478435, 40.10706376167665], [-82.70574414739657, 40.10696296641164], [-82.70590341293476, 40.10667989824574], [-82.70592449928024, 40.106642231895584], [-82.70609706755215, 40.10633251863644], [-82.70617684648458, 40.106187519474446], [-82.70631192586683, 40.10594198201166], [-82.7083295206217, 40.10236090583724], [-82.7104447139305, 40.102446040550355], [-82.71051987874922, 40.10161469328303], [-82.70889188379735, 40.10153613435319], [-82.70904859904304, 40.10129973728163], [-82.71017615803859, 40.09963086900135], [-82.71201754537894, 40.09971040076224], [-82.7138310560203, 40.099788700762446], [-82.71380640460137, 40.10018299067185], [-82.71483875725825, 40.10023175932319], [-82.71573073382285, 40.100273889696446], [-82.71662260355924, 40.100316007197385], [-82.71751458580938, 40.10035812403088], [-82.71844207241872, 40.1004019098965], [-82.71938959848246, 40.100446634509105], [-82.72044383058815, 40.10049638664361], [-82.72366305378418, 40.10064825086901], [-82.72377017665207, 40.10065330292766], [-82.72413472774797, 40.09595873980062], [-82.72290288567488, 40.095902575253014], [-82.71614118324973, 40.095562286710596], [-82.71618764099483, 40.0949345083511], [-82.71547110112606, 40.094897942798724], [-82.71542956258072, 40.09552699971136], [-82.71415326806198, 40.09546251155142], [-82.71430609046769, 40.093645382793845], [-82.71336719620498, 40.09359908590525], [-82.7135865014023, 40.09317114115691], [-82.71541038684823, 40.09046210070828], [-82.71796337888593, 40.08690206335915], [-82.71879739586304, 40.08578456986689], [-82.72083383856065, 40.08283248674897], [-82.721064795208, 40.0829250747824], [-82.72166687803254, 40.08215794143526], [-82.72415473905785, 40.08261178992839], [-82.72576885052922, 40.08274766822252], [-82.72586896333065, 40.08134800692144], [-82.72654763635626, 40.081359369692734], [-82.72654237961672, 40.0814287837516], [-82.72739687401935, 40.08147174697696], [-82.72735329696435, 40.082047230685156], [-82.72771007520583, 40.08206288152399], [-82.72736280586092, 40.08672825355584], [-82.73480239516587, 40.08704502275399], [-82.73482713650654, 40.08671738118151], [-82.73357845723534, 40.086651769033566], [-82.733597962282, 40.086374716660025], [-82.73362814233147, 40.0859460874142], [-82.73364131481546, 40.08575898954717], [-82.73364787308519, 40.085665846383804], [-82.73366589960679, 40.085409838448], [-82.73370244789345, 40.084890768006424], [-82.73371341235666, 40.08473503694461], [-82.73375991161153, 40.08407463155591], [-82.7337716724841, 40.08390758641285], [-82.73380887599812, 40.08337919311375], [-82.73384887275435, 40.082811110962076], [-82.73386006039068, 40.08265221820698], [-82.73386852126237, 40.08253204229752], [-82.73387748559101, 40.08240471460825], [-82.73389435689673, 40.08216509594704], [-82.73390979931109, 40.08194576884727], [-82.73392357118564, 40.08175016418567], [-82.73403370603887, 40.081754947811845], [-82.73412561265931, 40.081407410987666], [-82.73542773787922, 40.08149983912422], [-82.73543667753631, 40.08140619290031], [-82.73694329177141, 40.081470097557045], [-82.73880986706672, 40.0815065106341], [-82.73879960177092, 40.08162959867169], [-82.73954638818743, 40.081663137869626], [-82.7395392593521, 40.08136120234192], [-82.74067709438152, 40.08135923577696], [-82.7421211474781, 40.08131007128353], [-82.74449075070625, 40.08126451538868], [-82.74517162060387, 40.08125019258676], [-82.74657165496039, 40.08114381305278], [-82.74669576851069, 40.079262995490346], [-82.74669922747131, 40.07926310711062], [-82.7467083331862, 40.07912887121628], [-82.74761052669106, 40.079168989153494], [-82.74771829617588, 40.07795028446072], [-82.74622069772762, 40.077889643976214], [-82.74614185794405, 40.07895509961416], [-82.7461284554137, 40.07895714502751], [-82.74612829652841, 40.078959285191814], [-82.7459726295474, 40.07898092379105], [-82.74559739368168, 40.07896380260497], [-82.74505757139086, 40.07893916119745], [-82.74428993394046, 40.07888141111672], [-82.74381313911397, 40.07886376216353], [-82.7437158528171, 40.0788599778441], [-82.74318670760866, 40.07881087326447], [-82.74236914796478, 40.07882348702452], [-82.74204547257534, 40.078815287526794], [-82.74089741076139, 40.07874783572423], [-82.7405810636274, 40.078738710269896], [-82.74057235970373, 40.078866787444355], [-82.7397029993011, 40.07882984565733], [-82.73607306143599, 40.07867219331346], [-82.73617367412305, 40.07692466174395], [-82.73622555147574, 40.07602359053752], [-82.73625011490164, 40.07559692356266], [-82.73644659218182, 40.07559012520489], [-82.7369735596494, 40.07455017807543], [-82.73725627479253, 40.073683269071275], [-82.7372516725735, 40.072977232562415], [-82.73721561064892, 40.07255281896167], [-82.73764469319696, 40.07218382647235], [-82.73788243807323, 40.070089073258416], [-82.73822437363506, 40.07000044558343], [-82.7381573063678, 40.06975321400531], [-82.73796638457083, 40.06972378527338], [-82.73746020979587, 40.06912860453534], [-82.73758726733382, 40.069026348759024], [-82.73756787643744, 40.06887059216737], [-82.73728205213257, 40.06887232954531], [-82.73704469618843, 40.068297215987265], [-82.73726227021237, 40.06798780965746], [-82.73758804727133, 40.06752452546747], [-82.73668192165081, 40.06594446817168], [-82.73622122572846, 40.06593428877221], [-82.73620342703612, 40.065643910374106], [-82.73604827615299, 40.065114806613835], [-82.73517226808346, 40.06507043373079], [-82.73520239586813, 40.06466690776803], [-82.736362448671, 40.06472733920779], [-82.73623574074752, 40.06432014395128], [-82.7361680555321, 40.06392211336429], [-82.73526769906802, 40.063877918916575], [-82.73572893300813, 40.05799327194035], [-82.74534007041947, 40.058487576806385], [-82.74545474399388, 40.057017770009146], [-82.74554183829716, 40.05590142306246], [-82.74554188086965, 40.05590086819746], [-82.74577945138589, 40.05284562797294], [-82.74583578511147, 40.05212065648616], [-82.74816646842987, 40.05178916285047], [-82.74950267511038, 40.051546281311694], [-82.75190774513463, 40.051053489848265], [-82.75223426152712, 40.05097033471846], [-82.7527841212567, 40.05082715801298], [-82.75329059272524, 40.05069825060246], [-82.75393497818416, 40.05053657954599], [-82.75462316454416, 40.05036191235691], [-82.738588359214, 40.0495255504919], [-82.733327700241, 40.04924019899543], [-82.72675461251337, 40.04890595509057], [-82.68842697377518, 40.046890921798614], [-82.66921201254137, 40.04605339584412], [-82.66934984240177, 40.04436892796849], [-82.66954299793484, 40.042203362401565], [-82.66987417222971, 40.03821906753672], [-82.6703871292573, 40.03172134020315], [-82.67050695086137, 40.030285575492165], [-82.67072444112098, 40.02745741875113], [-82.67082064811106, 40.02637848566788], [-82.6710472481558, 40.02349795524759], [-82.67117264828893, 40.02198519053005], [-82.67153575070056, 40.016631456073604], [-82.66952850826236, 40.01653543203665], [-82.66714794656424, 40.01643334279249], [-82.66706446182387, 40.01768321191642], [-82.66473336980057, 40.01757787908161], [-82.66440130513948, 40.019989507731346], [-82.66183569653963, 40.01981822097607], [-82.66166159129767, 40.02220441363239], [-82.65824908753861, 40.02202940460172], [-82.65842647492589, 40.01959865077363], [-82.65753831391595, 40.01956413228136], [-82.65752759782927, 40.01970133729488], [-82.6563672242433, 40.019645797615546], [-82.65630214940215, 40.01988838443062], [-82.65601580280209, 40.01968486467254], [-82.65535525733627, 40.01932633862298], [-82.65501433393497, 40.01918504581072], [-82.65466748817539, 40.019040550891006], [-82.654208934364, 40.01897972704625], [-82.65408689434736, 40.01897689086122], [-82.65342767600178, 40.01907510290617], [-82.65339935053655, 40.018942368592676], [-82.65319065723389, 40.018969841540674], [-82.65219190778687, 40.01908044927465], [-82.65245913474601, 40.01580043180414], [-82.65272540608456, 40.015812064998336], [-82.65288950692234, 40.01367910074792], [-82.652372799466, 40.01324729606032], [-82.6527142886261, 40.01242020324343], [-82.64350803692993, 40.0120205163343], [-82.64355809663675, 40.01101283535826], [-82.64180411751339, 40.01097245527749], [-82.64175278104453, 40.01224899006136], [-82.64349261259167, 40.01228912343419], [-82.64348013591128, 40.012453862586504], [-82.6405787705102, 40.01238182291802], [-82.6406034541234, 40.01162896722041], [-82.64000116751154, 40.01160938046286], [-82.63979538898798, 40.01165911754525], [-82.63923012576204, 40.01164547639895], [-82.63922261223138, 40.011782765459735], [-82.63668937583552, 40.011693633847315], [-82.63668537229324, 40.01174826578898], [-82.63390474415017, 40.01164805358332], [-82.63394978480201, 40.0109420939138], [-82.63450785051334, 40.01068946525773], [-82.63567722512875, 40.01023623135703], [-82.63663062628198, 40.00992842132001], [-82.63821207915294, 40.00951612312768], [-82.63983423018054, 40.00921136072508], [-82.63984353867149, 40.00904548535869], [-82.64266613409445, 40.00846217913951], [-82.64285637572107, 40.00841812888857], [-82.64338769443879, 40.00832117936762], [-82.64392797793965, 40.00826020629105], [-82.64381858468217, 40.008058735602354], [-82.64431765589113, 40.000900698486895], [-82.64433196466688, 40.00063844545438], [-82.64430574572575, 40.00063732578027], [-82.64435673743806, 39.99980527579757], [-82.65380065461532, 40.000334006697], [-82.65361756134466, 40.00284259289898], [-82.65415843871888, 40.0028665998945], [-82.6541715848625, 40.002567746782255], [-82.65685963323648, 40.00266218813032], [-82.65701771685661, 40.000426508262116], [-82.65723141699223, 40.00043851763977], [-82.65714583150535, 40.00169414997911], [-82.6578279918564, 40.00171589206136], [-82.65758901476347, 40.005165669846335], [-82.65683346737671, 40.005293780383624], [-82.6567987383062, 40.00610547739157], [-82.65863644670908, 40.00579565539105], [-82.65864120313097, 40.005723026151074], [-82.66296469696702, 40.00495916507979], [-82.6632927882421, 40.00075855327855], [-82.65856532783336, 40.0005106607302], [-82.65894539383677, 39.99589916644285], [-82.65888261640605, 39.995624910981846], [-82.65927808870778, 39.99052143633657], [-82.65991666166117, 39.98372834947172], [-82.66015299387206, 39.98029151111095], [-82.66481377054087, 39.98267996800993], [-82.6650436109774, 39.982761752154566], [-82.66722736158877, 39.98331499391236], [-82.66916810244001, 39.98374819213167], [-82.66948223129353, 39.98383711867028], [-82.66955461328655, 39.98393192188969], [-82.66967908067598, 39.984122786889856], [-82.66978144998632, 39.98432127063716], [-82.66986094113298, 39.98452586305546], [-82.67017692908703, 39.98561124347468], [-82.67090222891066, 39.98737512070042], [-82.67392445405115, 39.98750300532856], [-82.67523188875145, 39.97141846489443], [-82.67523385902639, 39.971418544811144], [-82.67522677795495, 39.971398941320764], [-82.66575825329664, 39.971087881832766], [-82.64594538482771, 39.970310346028356], [-82.62697772188623, 39.969477755689645], [-82.60806397031497, 39.96877784022666], [-82.60870043166746, 39.95898989166406], [-82.6089993267947, 39.954392322842644], [-82.60941679194663, 39.95067164289913], [-82.60957110778651, 39.94559551462574], [-82.61003502223465, 39.93845656221921], [-82.61055489095256, 39.931051933925346], [-82.6490403056648, 39.93291247550875], [-82.67258377814088, 39.93410406487373], [-82.69715335124012, 39.93525466575876], [-82.69948382007553, 39.907134873522686], [-82.70077933838539, 39.89106235443773], [-82.70247273421884, 39.87064906936166], [-82.70502381674007, 39.83964175273816], [-82.7067892246222, 39.81766526958268], [-82.70679504004751, 39.81742182909085], [-82.70680498545777, 39.817286159693616], [-82.7069094221504, 39.81625999285405], [-82.70723429770415, 39.81260791828125], [-82.70733580895241, 39.81133757471283], [-82.70765863916003, 39.80735117521617], [-82.70768768821804, 39.80694575393053], [-82.70769811236822, 39.80679783474722], [-82.70768098092384, 39.806665170716684], [-82.7082504662807, 39.80033683498414], [-82.70829535304658, 39.79983798590883], [-82.70844032599726, 39.798226789202836], [-82.71050755218779, 39.77570579359032], [-82.71065420113715, 39.77410758729164], [-82.71178052124424, 39.76183033642464], [-82.71179183778062, 39.761706944671744], [-82.71186850793464, 39.76117245517797], [-82.71191852310177, 39.760635296426784], [-82.71199579985442, 39.759857048731625], [-82.7120199168744, 39.7594655750727], [-82.71203394262074, 39.75929967794876], [-82.71204511991364, 39.759056394367114], [-82.71281880985256, 39.75031741472849], [-82.71287118119109, 39.75005847876745], [-82.71285831933638, 39.74983470324582], [-82.71284118592443, 39.74937178227785], [-82.71390671431378, 39.736910876183494], [-82.71449685550355, 39.72946113735218], [-82.72142690011229, 39.72988202646347], [-82.72177270812469, 39.72991083419149], [-82.729981996095, 39.73039370375679], [-82.73380665238847, 39.73060367551117], [-82.73427050796909, 39.730609505226646], [-82.73599049472698, 39.730693892052045], [-82.73624870309635, 39.73070350727088], [-82.74338605913968, 39.73113568450206], [-82.76636435875153, 39.732584838597994], [-82.80088365641527, 39.73482272036008], [-82.80333611214866, 39.73496583244478], [-82.82962066151406, 39.736567073339764], [-82.8293546286409, 39.74023010011905], [-82.82868913853639, 39.747262680124095], [-82.82853881487432, 39.74905976871456], [-82.82845559161888, 39.74982232977864], [-82.82832519040224, 39.75103407893032], [-82.82828550401294, 39.75149617755111], [-82.82698118661531, 39.76573943222008], [-82.82691447579245, 39.76646628808977], [-82.82629706607281, 39.77302166435189], [-82.82560825919742, 39.78033361626661], [-82.82437798716239, 39.79485997473763], [-82.82437245003932, 39.79491983207924], [-82.84087391559396, 39.79583663862796], [-82.84181006964458, 39.79588857995601], [-82.85258193611682, 39.796485700726556], [-82.85765656553747, 39.796751102505446], [-82.87143550779705, 39.797470617774835], [-82.88091937701653, 39.797950770690534], [-82.89032150559814, 39.79842768288499], [-82.89979146194203, 39.79891733525249], [-82.90927209942909, 39.799384222050406], [-82.91885963603482, 39.79984995899246], [-82.9279274708086, 39.80028386818828], [-82.93731936657163, 39.800726846509434], [-82.94687881946777, 39.801193140136746], [-82.95335748408645, 39.80149728491304], [-82.95639200647912, 39.8016396176148], [-82.96565945572621, 39.80204511942527], [-82.97492699290137, 39.80244714230706], [-82.9750694179425, 39.802454800403595], [-82.9796979838642, 39.80266927873239], [-82.98090141368336, 39.80272473859626], [-82.98364297830027, 39.80285345624633], [-82.98859202446864, 39.80307998624795], [-82.99179647313123, 39.80322854292205], [-82.99229496036615, 39.80325390105443], [-82.99501517357692, 39.80337695257613], [-82.99734732027687, 39.80348511731223], [-83.00153805617538, 39.80367588391146], [-83.00582851413988, 39.8038715613195], [-83.01104475052718, 39.804109714612885], [-83.01295262342435, 39.804115097439244], [-83.01775968531264, 39.80430664558203], [-83.03001440457349, 39.80479406491518], [-83.0442632014656, 39.8052997218055], [-83.04738902569025, 39.805378489850874], [-83.0492308849781, 39.805419092283074], [-83.05293564230023, 39.805500672920765], [-83.06047610619281, 39.80568719002367], [-83.060532989326, 39.80567868168127], [-83.07470601380652, 39.80600803987228], [-83.08930545542364, 39.80665474406312], [-83.08935884613713, 39.80665447530736], [-83.09543001824832, 39.806906526873036], [-83.10115926852372, 39.807129820320796], [-83.10199594387456, 39.8071502293091], [-83.12037653796672, 39.80783395574026], [-83.13051281682446, 39.80806257826076], [-83.13750151928338, 39.80818945371777], [-83.1493250896901, 39.8084072485393], [-83.15258991286923, 39.80847420206596], [-83.17176199092516, 39.8088214984057], [-83.17178909741067, 39.80882273356721], [-83.19580184034965, 39.80965756010864], [-83.20101172458705, 39.80983803366618], [-83.21591327959429, 39.810801891271076], [-83.21709077260967, 39.810877971444306], [-83.24362440348068, 39.81255347178961], [-83.24488618653082, 39.82889800579375], [-83.24739161973747, 39.86127991744893], [-83.24895597893817, 39.88151397252608], [-83.24944350698476, 39.88773723245059], [-83.25174760185487, 39.91749253321681], [-83.25175049202576, 39.91752984168454], [-83.24938550426607, 39.91874026461451], [-83.24663748447486, 39.92014690662854], [-83.24659140171924, 39.920171907515055], [-83.23082801050374, 39.9282379926948], [-83.23053717734055, 39.928386773577394], [-83.23038913222703, 39.928462507710634], [-83.23032075212092, 39.92882973809139], [-83.23002821235458, 39.92922385841633], [-83.2296217991853, 39.92953852520194], [-83.22932114499515, 39.92975801677166], [-83.22921484006888, 39.929835623507], [-83.22827016348124, 39.93030516881556], [-83.22748022970066, 39.93091046129735], [-83.227126219121, 39.931225617306396], [-83.2267062057242, 39.931606243315784], [-83.22615883523275, 39.932196022334686], [-83.2259507095053, 39.93253298095771], [-83.22591374022292, 39.932893738668895], [-83.22598872716502, 39.93324063283642], [-83.22600666722167, 39.933323621752116], [-83.22639995895503, 39.93410413607803], [-83.2266903100515, 39.93489544454885], [-83.22695321775387, 39.935585347665075], [-83.22745360541836, 39.9364763771562], [-83.2280430969601, 39.93721212439505], [-83.22852464932416, 39.937541206162045], [-83.22884091947542, 39.93807978408158], [-83.22889684599694, 39.938515658478416], [-83.22872654539388, 39.93904215920512], [-83.22846209031218, 39.939602736781765], [-83.22841233270971, 39.94012958700998], [-83.22879532231202, 39.94063562959912], [-83.22939631850593, 39.94087841854044], [-83.23040618458161, 39.94127102178748], [-83.23081708835456, 39.941512790165945], [-83.23107991431823, 39.94164621931552], [-83.23116926029566, 39.94176535569097], [-83.23118336227374, 39.9419192766819], [-83.2311580048142, 39.94232271311796], [-83.23117553824794, 39.942565559599], [-83.23114568890367, 39.94284713491864], [-83.23116660831784, 39.94324232084035], [-83.2312372893553, 39.943587234398564], [-83.2314684844561, 39.94413704008463], [-83.23154090814242, 39.9443762494423], [-83.23157642282392, 39.94463298453352], [-83.23169784353884, 39.94481698228682], [-83.2319425279922, 39.94502135059335], [-83.23212069984844, 39.94517534545661], [-83.23239938855365, 39.94545856343104], [-83.23308051944888, 39.94592182664803], [-83.2336398654036, 39.94633533423103], [-83.234339448363, 39.9467205089093], [-83.23494689924402, 39.94695965958929], [-83.23522372160784, 39.947030948885725], [-83.23578544737082, 39.94726297015058], [-83.23599696074733, 39.94746534125384], [-83.23600561976379, 39.94750838770243], [-83.23614651921272, 39.947677709111574], [-83.2363169682088, 39.94811121378448], [-83.23631603375979, 39.948292406052154], [-83.23635861691284, 39.94860839174956], [-83.23653354682686, 39.94902676900398], [-83.23662743461108, 39.94930344955882], [-83.23684622138812, 39.94958538644993], [-83.23727901871645, 39.94993405908563], [-83.23741084828727, 39.950021079371425], [-83.23745411040245, 39.95003522899957], [-83.23801039061645, 39.95021716313403], [-83.23817391950759, 39.95026609820687], [-83.23858617142015, 39.95052649886508], [-83.23875469438757, 39.95062503049426], [-83.2388277278219, 39.95066773077787], [-83.23910612721303, 39.95078484699099], [-83.23970568677143, 39.950981472312066], [-83.24013061328888, 39.951124839943084], [-83.24030864548142, 39.95120497528551], [-83.24040250509461, 39.95126697516338], [-83.24077132962674, 39.95156799767663], [-83.24099559725347, 39.95179306429637], [-83.24108219503526, 39.951885855707815], [-83.24127018666776, 39.95212076018267], [-83.24144812501854, 39.952249211796044], [-83.24164439754637, 39.95243488307391], [-83.24174072302475, 39.95252600479997], [-83.24183379643112, 39.9526236966886], [-83.24190497577503, 39.95277560774704], [-83.24190724948954, 39.952782826659195], [-83.24194189835845, 39.95289287131402], [-83.2419944627995, 39.953038586316715], [-83.24212789756356, 39.95350855282633], [-83.24218584232311, 39.95385738179494], [-83.24232589122903, 39.95444535252448], [-83.24237812373872, 39.954760176593304], [-83.2424045463894, 39.95512979408636], [-83.24248423298631, 39.95557676540091], [-83.24244140244416, 39.95590838850611], [-83.24226039862128, 39.956329007294286], [-83.24222594539636, 39.95644315279621], [-83.24218352243962, 39.95647910929548], [-83.24210176556622, 39.95650625562334], [-83.24198366272634, 39.95653720019549], [-83.24194409795257, 39.956540195627625], [-83.24190489889936, 39.95654401194625], [-83.24187300092176, 39.95656343032837], [-83.24181552191182, 39.956659328700205], [-83.2417437955686, 39.95689093186655], [-83.2416584032043, 39.95707897219158], [-83.24162300202418, 39.95720465384373], [-83.24161390373105, 39.95725467510128], [-83.24157901248562, 39.95732791922251], [-83.24150649333002, 39.95745191338479], [-83.24139688565562, 39.95754374836742], [-83.24118525335143, 39.95770238733963], [-83.24108189942373, 39.95777853427926], [-83.24008647682294, 39.959272740560884], [-83.2399768112937, 39.95979502844869], [-83.24029359674076, 39.96023007346602], [-83.24071748032625, 39.96063415299067], [-83.2407548325711, 39.96066976020282], [-83.24081799056606, 39.96072996656403], [-83.24083274545977, 39.9607387918295], [-83.24113021521156, 39.9609167039226], [-83.24268573163016, 39.961847003787106], [-83.24503149272692, 39.963088082196464], [-83.24576969797602, 39.96379248893721], [-83.2460015079786, 39.96454870234337], [-83.24564162003595, 39.96662498534777], [-83.24552083891435, 39.96736535250853], [-83.24557813438331, 39.9684488084488], [-83.24720920745946, 39.97141976021167], [-83.24770980558385, 39.97155273634669], [-83.24823448772639, 39.97140389430988], [-83.24870375383179, 39.97098005727165], [-83.248711427722, 39.97080338411174], [-83.24872090625988, 39.97058518322382], [-83.24856812951144, 39.970280886939], [-83.24900245806495, 39.97002610302666], [-83.24922832292135, 39.97002079291497], [-83.24946724583252, 39.970015174711314], [-83.25012882976887, 39.97028739293475], [-83.25040757752453, 39.970626020406634], [-83.25058527729446, 39.97154999688586], [-83.25059546127113, 39.97160294675037], [-83.25057021744337, 39.97230478990887], [-83.25049701710505, 39.9723446720641], [-83.25004558545342, 39.97259062874024], [-83.24931496035865, 39.973561068478126], [-83.24948780415274, 39.97440137873092], [-83.24954617802459, 39.97448720677982], [-83.24957439383056, 39.97455593194519], [-83.2495921824997, 39.97465025394618], [-83.24959550573665, 39.97472682435982], [-83.24960065719374, 39.974774284415425], [-83.24960063919914, 39.974838797350046], [-83.24960370890177, 39.974891761152314], [-83.2496006087158, 39.975001315299586], [-83.24960179372947, 39.97504495664682], [-83.24962352278887, 39.97510768426174], [-83.24961534497386, 39.97514342443275], [-83.2496426748399, 39.97522917508714], [-83.24964867116239, 39.97525576583904], [-83.24965554626746, 39.975297724422624], [-83.2496617114424, 39.97533996134193], [-83.24966876288576, 39.97536517183883], [-83.24971010532326, 39.97542667624042], [-83.2497310331802, 39.97544822965915], [-83.24976920802958, 39.97551387121112], [-83.24979549054592, 39.97556860782183], [-83.2498136119565, 39.975594571695446], [-83.24983185486235, 39.97563179039508], [-83.24992137916355, 39.9756943585957], [-83.24993243578014, 39.97572695595233], [-83.24995853477905, 39.97576467383854], [-83.25003079138357, 39.975894758925136], [-83.25005897084834, 39.97594549160426], [-83.25012703165977, 39.976069141172246], [-83.25017177132742, 39.9761808609494], [-83.25018653751344, 39.97626511829403], [-83.25021093864939, 39.976404346442806], [-83.25022362149177, 39.97652148683812], [-83.2502216094462, 39.97659946390414], [-83.25025831075754, 39.97716681077644], [-83.25026444362192, 39.977261614205716], [-83.250263374078, 39.97732778112412], [-83.25023788234462, 39.97744544020184], [-83.25021731446074, 39.97755647853806], [-83.25020180874311, 39.97761819747552], [-83.25019576087129, 39.9776422676481], [-83.25008676984964, 39.97772696826398], [-83.24998269351798, 39.977738065738286], [-83.24990329723573, 39.977754494982726], [-83.2498191031602, 39.97778934818194], [-83.24974832925707, 39.97781121358387], [-83.2495724016819, 39.977843632627], [-83.2495006038912, 39.97786989605406], [-83.24935061976358, 39.97792548348834], [-83.24924561636384, 39.977982980316796], [-83.24918262430542, 39.978031698523864], [-83.24916187757722, 39.978060106387474], [-83.24910545376162, 39.97812223493987], [-83.24906465349432, 39.97821034247135], [-83.24904422448532, 39.97830133990581], [-83.24902959602224, 39.97833465063788], [-83.24894913310192, 39.97848395553387], [-83.24891158315718, 39.978575610686875], [-83.24890211739151, 39.97859131921338], [-83.24889064187994, 39.978619119361085], [-83.2488823044928, 39.97867325289971], [-83.24887400864141, 39.97883060761206], [-83.24886358360646, 39.97895585644029], [-83.24888254510002, 39.97912594012905], [-83.24900157104496, 39.97960751646453], [-83.24909529524977, 39.979860577521535], [-83.24911682701568, 39.979904913046326], [-83.24919242374095, 39.98013146069319], [-83.24934387653923, 39.9807407579135], [-83.24938762007667, 39.98128924889409], [-83.2494028836098, 39.98141405895124], [-83.24938403297813, 39.981473320418395], [-83.24947043952965, 39.98158959638426], [-83.24955385489464, 39.981779857400696], [-83.24956881077266, 39.9818761192793], [-83.24955806689083, 39.98190556209776], [-83.24955047517506, 39.98196271078125], [-83.24951752265922, 39.9820175508909], [-83.24948976560093, 39.98205780851348], [-83.24947830173952, 39.98211992384851], [-83.24946976003983, 39.982155117734884], [-83.24949667867264, 39.982268597745616], [-83.24948801816197, 39.982358971472614], [-83.24946283625346, 39.98240634948869], [-83.24946189618184, 39.98248459422997], [-83.24952411633504, 39.98256243657436], [-83.24955233172355, 39.98272998944521], [-83.2495541261335, 39.98276401851749], [-83.24947378030454, 39.98299073828489], [-83.249394623292, 39.98309611138122], [-83.24930709396658, 39.9831532218451], [-83.24911430989178, 39.98323236772857], [-83.24890971661135, 39.983433574301706], [-83.24874282371553, 39.983577115615724], [-83.24863458013719, 39.98366592769256], [-83.24842790856893, 39.98389345226283], [-83.24829632565287, 39.9841015550631], [-83.248278921294, 39.98413719801974], [-83.24819157620131, 39.984316075902036], [-83.24800650409112, 39.9845613058863], [-83.24798844786302, 39.98457536318799], [-83.2477722196407, 39.984743708188525], [-83.24756430535102, 39.98495586563967], [-83.2475348440907, 39.98497060344859], [-83.24727319467982, 39.98519710242914], [-83.24723912309811, 39.98523257661522], [-83.2471951991236, 39.985278308991624], [-83.24716191246942, 39.98530240460686], [-83.2469513114167, 39.98549728261245], [-83.24680150839725, 39.985671184321404], [-83.24667569798797, 39.985819403071616], [-83.2465064796156, 39.9860271846476], [-83.24649253839024, 39.98604430390451], [-83.24630857631058, 39.98622775570982], [-83.24622739084717, 39.9862779604033], [-83.24611053694629, 39.98639647361027], [-83.24609456074393, 39.986437478666666], [-83.24601195255227, 39.986587892560124], [-83.24598249285228, 39.986636121024304], [-83.24597645868771, 39.98665796977158], [-83.24596695634155, 39.986700417053044], [-83.24596028387496, 39.986743182296216], [-83.24595645883605, 39.9867861546088], [-83.24595549171913, 39.98682922044121], [-83.24595738367184, 39.986872268104264], [-83.24596213115848, 39.98691518593848], [-83.24596972125777, 39.98695786054236], [-83.24598013406212, 39.98700018216133], [-83.24599334378071, 39.987042038376025], [-83.24600931297272, 39.987083322244914], [-83.2460280030067, 39.98712392503245], [-83.24604936239159, 39.98716373988606], [-83.24606734960504, 39.98719341041194], [-83.24616346505336, 39.987370140458225], [-83.24637256444576, 39.9876092307515], [-83.24644690718753, 39.987675895972856], [-83.24662220593002, 39.98780996577257], [-83.246669986174, 39.987837075265944], [-83.24670947987522, 39.98785948196442], [-83.24683015038369, 39.987950303366354], [-83.24685185905713, 39.98800260800394], [-83.24687085476228, 39.98804837489174], [-83.24692482332314, 39.9881449407607], [-83.24701504415836, 39.988237703893155], [-83.24721885739545, 39.98840633610368], [-83.24728893925261, 39.98845173449542], [-83.24734734260082, 39.98850626783843], [-83.24743504375178, 39.98856390742498], [-83.24754943218113, 39.98868039996654], [-83.24758703354505, 39.98872545651278], [-83.24791758765876, 39.9889973236488], [-83.24794396666465, 39.98902762761306], [-83.24806501217526, 39.989099330631916], [-83.2482749450449, 39.98927231361047], [-83.24835645545382, 39.989351405158295], [-83.24859765875267, 39.98954477819118], [-83.2488054942625, 39.9897216167014], [-83.24897109792427, 39.98988020402163], [-83.24911161335449, 39.98997716503212], [-83.24947352888928, 39.990276829125435], [-83.25005529636411, 39.99067528779709], [-83.2503117041698, 39.990854558472954], [-83.25066665433955, 39.9910331147387], [-83.25080369243082, 39.99110205120792], [-83.2510879116882, 39.991487727509664], [-83.25270495613323, 39.99368191265255], [-83.25272025642197, 39.993702673815356], [-83.25425340017172, 39.99554884843153], [-83.25431286698075, 39.99562045420197], [-83.25517817754441, 39.99632282418851], [-83.25565435179934, 39.99670932473602], [-83.25577530876195, 39.99821401950687], [-83.2559053928845, 39.99852366579748], [-83.25664972522758, 39.99938525965875], [-83.2575228799546, 39.99996242307783], [-83.2584298181196, 40.00056190069916], [-83.25847041562741, 40.00058056305498], [-83.25949209538362, 40.001050214372746], [-83.25993061865127, 40.001251792738735], [-83.25995274457053, 40.00126196385437], [-83.2599551460052, 40.00127968044923], [-83.26003273482212, 40.00185194028446], [-83.26018869779462, 40.00217541477923], [-83.26043522845939, 40.00213099301398], [-83.26065819540479, 40.00254242785621], [-83.2607284553554, 40.00309073920234], [-83.26065117180003, 40.003367682031076], [-83.260231158771, 40.00394225245104], [-83.26012854410983, 40.0040826248108], [-83.25983680986575, 40.00433542419825], [-83.25960779116505, 40.00438247652829], [-83.25886874263499, 40.00476389801455], [-83.25836089923344, 40.004841299505664], [-83.25759320885764, 40.00449624149984], [-83.25691152067628, 40.00431176766726], [-83.25620335943472, 40.004219973962265], [-83.25594454409861, 40.00425668056563], [-83.2558708183253, 40.00426713717138], [-83.2558616968643, 40.004270110413266], [-83.25519888079162, 40.00448613578648], [-83.25430696584415, 40.004928081742285], [-83.25416395034009, 40.00505481567681], [-83.25289866475538, 40.006176030216125], [-83.25216059623864, 40.007114403486646], [-83.25161504658516, 40.00835535541008], [-83.25155123011425, 40.008500513407085], [-83.25212111226783, 40.0091049258496], [-83.25225860811369, 40.009505118880675], [-83.25242441886586, 40.01012681897392], [-83.25254848921273, 40.01059200676418], [-83.25277529224144, 40.01228104497219], [-83.25313929957302, 40.01391320024188], [-83.25304160395115, 40.015636710429746], [-83.25293988748408, 40.017055802519856], [-83.25232452929875, 40.017994484361104], [-83.25174689679206, 40.01966582187723], [-83.25165463798939, 40.019932759029956], [-83.2517557760972, 40.02047240368397], [-83.25217608622381, 40.022714961479245], [-83.25230069255386, 40.02311979878207], [-83.25230080909766, 40.02312017540767], [-83.25190684802715, 40.02352450036276], [-83.25177144562647, 40.02366346366279], [-83.25189425153957, 40.02456861785238], [-83.25238846535801, 40.02573906757083], [-83.25247927306515, 40.02677543558687], [-83.25249604504437, 40.026966847358274], [-83.2523923563433, 40.027202722154705], [-83.25223815626738, 40.02755349716534], [-83.25244756432664, 40.028127545502585], [-83.25268008721854, 40.02851226512616], [-83.25327001737637, 40.028751351958086], [-83.25389433607974, 40.02881026303118], [-83.25512825834925, 40.028749968589004], [-83.25560197642004, 40.02882110219637], [-83.25582557439367, 40.029164313549764], [-83.25607893635262, 40.0301018934799], [-83.25621318101709, 40.03170558613626], [-83.25593702570578, 40.032876259763626], [-83.25540690618494, 40.033813578080846], [-83.25468339401968, 40.03503077255152], [-83.25455207723658, 40.035375742873754], [-83.25389949862365, 40.037090022840786], [-83.25361522208527, 40.03783677281012], [-83.25341288398387, 40.038368271054125], [-83.25294536177496, 40.03935684703771], [-83.25266397671965, 40.0399518187461], [-83.25258753157472, 40.04017958503986], [-83.25246434671014, 40.040546602836876], [-83.25245180757123, 40.040579462973504], [-83.25243945611398, 40.040619043408945], [-83.25242991013482, 40.04065907961241], [-83.25242319884315, 40.040699455214465], [-83.25241934086418, 40.0407400503108], [-83.25241834781241, 40.04078074684294], [-83.25242022307143, 40.04082142410324], [-83.25242496068034, 40.04086196414533], [-83.25243254646678, 40.04090224817481], [-83.25244295921802, 40.040942156541455], [-83.25245616721487, 40.040981573264716], [-83.25247213288921, 40.041020383302005], [-83.25249080929889, 40.04105847167052], [-83.25251214016694, 40.04109572704977], [-83.25253606454852, 40.04113203995022], [-83.25256251098216, 40.04116730365161], [-83.25259140336814, 40.041201415966455], [-83.25262265507035, 40.041234275675265], [-83.2526561759957, 40.04126578698466], [-83.25269186787767, 40.041295856855356], [-83.25272962547767, 40.041324397696776], [-83.25276933772705, 40.041351324657484], [-83.25281088895775, 40.04137656102139], [-83.25285415647075, 40.04140003011765], [-83.25289901415873, 40.04142166520424], [-83.25294532890317, 40.04144140138563], [-83.25299296650098, 40.041459181879176], [-83.25304178692946, 40.04147495354216], [-83.25307777014874, 40.04148508748962], [-83.25336517824137, 40.04157383508928], [-83.25345693552843, 40.04161711157426], [-83.2539924054038, 40.04186966147947], [-83.25456263814756, 40.04218793076944], [-83.25502168982963, 40.04270500831181], [-83.2550482641131, 40.04273494151837], [-83.25505410183273, 40.042755166666836], [-83.25527059157419, 40.04350517879031], [-83.25549377921583, 40.04432125352631], [-83.25552599491319, 40.04586959268686], [-83.25552240142927, 40.0460657702166], [-83.25550753672054, 40.04687732426813], [-83.25550359205059, 40.04709270656051], [-83.25537064297507, 40.04797201283861], [-83.25435989921223, 40.049045951860116], [-83.25386938856929, 40.04956711534793], [-83.2536652543823, 40.04955433441634], [-83.23991656897257, 40.048778328676825], [-83.23698214032416, 40.04861281965029], [-83.21208848383709, 40.04720577801111], [-83.21067107555227, 40.06447424643035], [-83.20978925681507, 40.07521316685325], [-83.20669941236089, 40.107660361347996], [-83.20993662473659, 40.107715597558474], [-83.233496317158, 40.1081132148397], [-83.23932544540615, 40.108254532682416], [-83.23946039407048, 40.10841747527522], [-83.24462719599774, 40.114626508949264], [-83.24257750943168, 40.115636675734336], [-83.24447046364988, 40.11794653381694], [-83.25080389348933, 40.1148450420244], [-83.24939813835822, 40.113208696139765], [-83.25797815277961, 40.10897491145171], [-83.25846501508224, 40.10873600343992], [-83.25854015625592, 40.10870081787131], [-83.26271995785362, 40.10871217059151], [-83.26279214783509, 40.10881438033724], [-83.26294474767599, 40.10881696226669], [-83.26320396788893, 40.1091975685341], [-83.26345689280754, 40.10987509292273], [-83.26366173212904, 40.110071574309096], [-83.26371755239867, 40.1103660524215], [-83.26371659999054, 40.11039288898765], [-83.26371443428334, 40.110419683898755], [-83.26371105843718, 40.11044640471189], [-83.26370647562207, 40.11047301988459], [-83.2637006913439, 40.11049949695868], [-83.26369371462725, 40.11052580345304], [-83.26368555098803, 40.110551907809906], [-83.26367621298925, 40.11057777932637], [-83.26366570966567, 40.11060338642173], [-83.26365405474345, 40.11062869748491], [-83.26364126196866, 40.11065368270575], [-83.2636273474233, 40.11067831135843], [-83.26361232720937, 40.11070255451817], [-83.26359621977461, 40.110726383244845], [-83.26357904354707, 40.11074976679734], [-83.263560820533, 40.11077267981492], [-83.26354157267932, 40.11079509153353], [-83.26352132317515, 40.11081697748536], [-83.2635000951804, 40.11083831050098], [-83.26341062177018, 40.11093305029063], [-83.26331728686955, 40.11102556802389], [-83.26322018446477, 40.11111577121853], [-83.26311940972644, 40.11120356828522], [-83.26301506724981, 40.11128887117604], [-83.26290725815295, 40.11137159546804], [-83.26281833515424, 40.111476837838474], [-83.26281544012717, 40.111713176563235], [-83.26284949908941, 40.111860102501396], [-83.26287742599186, 40.112007789596596], [-83.26289919450045, 40.11215608671955], [-83.26291477943336, 40.1123048409314], [-83.26292416737687, 40.11245390281838], [-83.26292734720337, 40.1126031175473], [-83.26290489976954, 40.11274522601347], [-83.26288847976605, 40.1128878195281], [-83.26287810315885, 40.11303074668624], [-83.26287378358809, 40.113173857898424], [-83.26287552293529, 40.11331700094868], [-83.26288332075603, 40.11346002543643], [-83.26289716954828, 40.11360277920479], [-83.2629043312067, 40.113632130757445], [-83.26291280320956, 40.11366127657354], [-83.26292257460545, 40.1136901806991], [-83.26293363330993, 40.113718810789905], [-83.26294596603566, 40.113747131807685], [-83.26295955952497, 40.11377511141575], [-83.26297439698162, 40.11380271549918], [-83.262990460456, 40.11382991175163], [-83.26300773083541, 40.113856668774986], [-83.26302619016016, 40.11388295336233], [-83.26304581347264, 40.113908735954645], [-83.26306657932379, 40.11393398606946], [-83.26308846274578, 40.11395867324725], [-83.26311143761741, 40.11398276883693], [-83.26313547781749, 40.11400624418765], [-83.26316055371574, 40.1140290715719], [-83.26318433565275, 40.11404581285883], [-83.26342733186945, 40.11390939324695], [-83.26401941006891, 40.11451341575596], [-83.264816169653, 40.11501699843539], [-83.26496415667428, 40.11514852149739], [-83.26537274199383, 40.11577928184637], [-83.2656952241981, 40.11611194538748], [-83.2658299123856, 40.116316810212936], [-83.2658309929349, 40.11632255902915], [-83.26583181333272, 40.116328332054856], [-83.26583237352918, 40.11633412478717], [-83.26583267107885, 40.11633992823598], [-83.265832708258, 40.116345736081996], [-83.26583248264096, 40.11635154113615], [-83.26583199533106, 40.11635733708689], [-83.26583124624864, 40.11636311672984], [-83.26583023883288, 40.11636887283761], [-83.26582897065828, 40.11637459822102], [-83.26582744635691, 40.11638028744617], [-83.26582566583929, 40.11638593240816], [-83.26582363137162, 40.11639152588723], [-83.26582134642311, 40.11639706335764], [-83.26581881324009, 40.11640253579862], [-83.26581603410877, 40.11640793779157], [-83.26581301365147, 40.116413263001995], [-83.26580975530746, 40.11641850420253], [-83.26580626253586, 40.116423655967004], [-83.26580253877603, 40.116428711067925], [-83.26579858984303, 40.11643366496447], [-83.26579441918624, 40.1164385113297], [-83.26579003259079, 40.11644324292104], [-83.26578543588188, 40.11644785609801], [-83.2657806336717, 40.116452343625724], [-83.26577563177545, 40.116456700963035], [-83.26577043717127, 40.11646092266093], [-83.26576505449141, 40.116465003285406], [-83.26575949073388, 40.116468939188465], [-83.26575375404991, 40.116472724913265], [-83.26574784907173, 40.11647635502594], [-83.2657417839803, 40.1164798267713], [-83.26573556576383, 40.11648313560076], [-83.26572920257343, 40.11648627605755], [-83.26572270142714, 40.116489246294634], [-83.26571607048605, 40.11649204175583], [-83.26571852281175, 40.11657844192001], [-83.26565752472, 40.116686355750986], [-83.26619472071428, 40.11652780328079], [-83.26720921008831, 40.11872959632232], [-83.26633796029192, 40.11917929696726], [-83.2663513468255, 40.11918992709248], [-83.26636425152475, 40.119200903490956], [-83.26637665782778, 40.11921221366205], [-83.26638855267217, 40.11922384328131], [-83.26639991948599, 40.11923577894744], [-83.26641074756265, 40.1192480072212], [-83.26642102265635, 40.11926051288508], [-83.2664307340505, 40.11927328159908], [-83.26643986868226, 40.119286299038635], [-83.26644841698796, 40.11929954905509], [-83.2664563682409, 40.11931301640799], [-83.2664637140504, 40.11932668494097], [-83.26647044486265, 40.11934053940591], [-83.26647655226702, 40.119354561845384], [-83.2664820302288, 40.119368736988356], [-83.26648687153019, 40.11938304867074], [-83.26649107127969, 40.11939747891223], [-83.26649462460546, 40.11941201153347], [-83.26649752544284, 40.119426628561705], [-83.26647925260538, 40.11958912984948], [-83.26637285969908, 40.11978525798685], [-83.26642875792945, 40.119834415987825], [-83.26663807706926, 40.11988879731348], [-83.26678329271205, 40.12006314232062], [-83.26709563762324, 40.12011741131457], [-83.26732579967027, 40.120311138560645], [-83.2676541292888, 40.120482401829776], [-83.26779726391932, 40.12063332419475], [-83.26781086251808, 40.12066453726962], [-83.26782583660406, 40.12069537751402], [-83.26784216934726, 40.12072580811196], [-83.26785984159135, 40.120755794063946], [-83.26787883185372, 40.1207853021868], [-83.26789911979469, 40.12081429658806], [-83.2679206804124, 40.12084274410743], [-83.26794348988759, 40.12087061247753], [-83.2679675208719, 40.12089786855345], [-83.26799274603677, 40.12092448099132], [-83.26801913571727, 40.12095041936309], [-83.2680466602484, 40.120975653240734], [-83.26807173811932, 40.12101638919714], [-83.26809494968654, 40.12105777227033], [-83.2681162685714, 40.121099751298466], [-83.26813566839495, 40.12114227511966], [-83.26815312628727, 40.121185291648366], [-83.26816861938813, 40.121228749699554], [-83.26818212950948, 40.12127259625636], [-83.26819364197235, 40.121316777378276], [-83.26820313976138, 40.121361240040585], [-83.26970986761494, 40.12018465442943], [-83.27118119956155, 40.12134671783256], [-83.27221737657344, 40.12140573658221], [-83.27197640199279, 40.1238100799995], [-83.27203283087654, 40.12380869194053], [-83.27210623618325, 40.1238082893695], [-83.27217957995474, 40.12380594362664], [-83.27225277423227, 40.12380165799145], [-83.2723257322406, 40.123795436636335], [-83.27239836724438, 40.12378728733621], [-83.27247059251879, 40.12377721876672], [-83.27254232374514, 40.12376524499156], [-83.27261347307595, 40.12375137919728], [-83.27266415241766, 40.12373696696221], [-83.27271419115853, 40.12372128994494], [-83.2727635343515, 40.123704365619076], [-83.27281213056865, 40.12368621143494], [-83.2728599284127, 40.12366684754475], [-83.27290687413011, 40.12364629321561], [-83.27295292106653, 40.1236245730717], [-83.27299801665204, 40.1236017072731], [-83.27304211542581, 40.12357772223755], [-83.27308516839788, 40.12355264350533], [-83.27312713009793, 40.12352649659365], [-83.27316795510599, 40.123499311522615], [-83.27341663912846, 40.123453160919546], [-83.27344309722729, 40.12341283385734], [-83.27344103416131, 40.123410570664674], [-83.27343907139874, 40.12340825457665], [-83.27343721366204, 40.12340588826409], [-83.27343546216454, 40.12340347532148], [-83.27343382044563, 40.12340101752678], [-83.27343228736227, 40.12339851758938], [-83.27343086764706, 40.12339597908057], [-83.27342956133015, 40.123393404702064], [-83.27342837078785, 40.12339079714005], [-83.2734272972435, 40.123388160889604], [-83.27342634188022, 40.12338549684359], [-83.27342550475824, 40.12338281040521], [-83.27342478940692, 40.12338010245201], [-83.27342419354036, 40.12337737840258], [-83.27342372068784, 40.123374639134475], [-83.27342336973656, 40.12337189005862], [-83.27342314070658, 40.1233691329761], [-83.2734230348112, 40.12336637148151], [-83.27342305325368, 40.123363608268654], [-83.27342319373798, 40.12336084785585], [-83.2734234574673, 40.123358092936925], [-83.27342384329877, 40.12335534622132], [-83.27342435127252, 40.12335261131113], [-83.2734249814187, 40.12334989090813], [-83.27342573261438, 40.123347189522725], [-83.27342660253358, 40.123344508971435], [-83.27342759238951, 40.12334185284875], [-83.27342869986603, 40.12333922387176], [-83.27342992383035, 40.123336625650374], [-83.2734312619664, 40.12333406090165], [-83.27343271431427, 40.123331533227805], [-83.27343427855803, 40.12332904534588], [-83.27343595238159, 40.123326599973026], [-83.2734377346419, 40.12332419981854], [-83.27343962184996, 40.12332184760721], [-83.2734416128627, 40.123319546048386], [-83.27375984408934, 40.12307872570061], [-83.2740706026521, 40.12290096528474], [-83.27424869663642, 40.122852609799025], [-83.27480560241362, 40.12257599357349], [-83.27481536147894, 40.122570176146304], [-83.27482485492425, 40.12256410559345], [-83.27483407344519, 40.12255778918117], [-83.27484300422864, 40.12255123509953], [-83.27485163914353, 40.12254445060716], [-83.27485996654968, 40.122537443886266], [-83.27486797596988, 40.12253022221086], [-83.2748756604664, 40.122522794632985], [-83.27488300957215, 40.122515169327066], [-83.2748900151863, 40.122507356253465], [-83.27489666801502, 40.12249936357893], [-83.27490296230368, 40.12249120124826], [-83.27490888877843, 40.122482879229345], [-83.27491444049151, 40.12247440567364], [-83.27491961287163, 40.12246579141868], [-83.27492439899103, 40.122457046416926], [-83.27492879193221, 40.122448181521435], [-83.27493278828685, 40.122439206661475], [-83.27493638230048, 40.12243013178177], [-83.27493957057474, 40.12242096771221], [-83.2749423485383, 40.12241172529029], [-83.27494471396601, 40.12240241533811], [-83.27494666229657, 40.12239304959381], [-83.27494819363085, 40.1223836370629], [-83.27494930459075, 40.12237419037625], [-83.27494999529715, 40.12236472034053], [-83.27495026352503, 40.122355237777796], [-83.2749501082222, 40.12234575350235], [-83.2751768208403, 40.12230066521039], [-83.27535914847687, 40.12210764640686], [-83.27582618782361, 40.12175685642589], [-83.27592402535203, 40.1216007095505], [-83.27600426394827, 40.12126262697398], [-83.27609418875097, 40.11981177783857], [-83.27611857201227, 40.11976389139083], [-83.27614079567022, 40.11971538875533], [-83.2761608345673, 40.119666327738784], [-83.27617866355662, 40.11961676704852], [-83.27619426101032, 40.11956676536842], [-83.27620760999298, 40.11951638135128], [-83.27621869474234, 40.11946567364217], [-83.27622750188269, 40.119414704472604], [-83.27623401917116, 40.119363532464085], [-83.27623824143338, 40.11931221889325], [-83.27624016348491, 40.119260824135985], [-83.27623978132449, 40.11920940946089], [-83.27623709679582, 40.1191580342966], [-83.27630810290557, 40.11915931104795], [-83.27630952026935, 40.11914896259476], [-83.27631139915442, 40.11913865792738], [-83.2763137361625, 40.119128407875664], [-83.27631653144478, 40.1191182259479], [-83.27631977926696, 40.1191081238899], [-83.2763234762308, 40.119098112531496], [-83.27632761896838, 40.119088205404196], [-83.27633220172547, 40.119078412452644], [-83.27633721995082, 40.11906874631554], [-83.27634266672732, 40.11905921784591], [-83.27634853513763, 40.11904983789678], [-83.27635482063086, 40.11904061910675], [-83.27636151275048, 40.11903157055098], [-83.27636860693552, 40.11902270396756], [-83.2763760915564, 40.11901402843933], [-83.27638396088928, 40.11900555661264], [-83.27639220328449, 40.1189972957694], [-83.27640080948895, 40.11898925767851], [-83.27640977020931, 40.11898145050685], [-83.2764190749993, 40.11897388423007], [-83.2764287122195, 40.1189665670306], [-83.27644571627737, 40.11895409469151], [-83.27646326976378, 40.1189420789386], [-83.27648135288882, 40.1189305334117], [-83.27649994119068, 40.118919473582494], [-83.2765190148593, 40.11890891128962], [-83.27653855057592, 40.118898859295435], [-83.27655852618446, 40.11888932945401], [-83.27657891717296, 40.11888033273449], [-83.2765996990294, 40.118871880105885], [-83.27662084723178, 40.11886398163675], [-83.27664233725812, 40.118856647395546], [-83.27666414338324, 40.118849884757005], [-83.27668623872911, 40.11884370290457], [-83.27670859990639, 40.11883810829694], [-83.27673119766101, 40.118833107431406], [-83.27675400625765, 40.118828706782196], [-83.27677699877809, 40.11882491193066], [-83.2768001482839, 40.11882172665713], [-83.27682342549065, 40.118819154757354], [-83.27684680579591, 40.11881719909562], [-83.27690899669773, 40.11883447465324], [-83.27697037539419, 40.1188533847623], [-83.27703086889952, 40.11887390649021], [-83.27709040655348, 40.11889601508783], [-83.27714891769551, 40.11891968580625], [-83.27720633160416, 40.118944888493125], [-83.27726258109698, 40.1189715947744], [-83.27731759777753, 40.11899977268139], [-83.27737131909417, 40.11902938840567], [-83.27742368013858, 40.119060407254025], [-83.2775813840886, 40.11919508433555], [-83.27760343711407, 40.11962635092142], [-83.27767097621783, 40.119808240838196], [-83.27771285158406, 40.119840629375595], [-83.27775614796805, 40.11987189713838], [-83.2778008156879, 40.11990200752833], [-83.2778468015524, 40.11993092487091], [-83.27789405120716, 40.11995861440001], [-83.27794250915467, 40.11998504405899], [-83.27799211874434, 40.12001018360004], [-83.27804282215219, 40.12003400278325], [-83.27809455923828, 40.12005647408595], [-83.27814726986232, 40.120077569985504], [-83.27820089040509, 40.12009726658478], [-83.2782553596033, 40.12011554087198], [-83.27831061151146, 40.12013237076682], [-83.27858709582785, 40.12014865588833], [-83.27899349909686, 40.120012618497555], [-83.27910075350631, 40.119939177760344], [-83.27920484230924, 40.11986310106974], [-83.2793056584863, 40.119784469298054], [-83.27940309268382, 40.119703364233764], [-83.27949704381183, 40.11961987211375], [-83.27958741314818, 40.11953408096048], [-83.28030678491527, 40.118489305843845], [-83.28045641890483, 40.11813134728058], [-83.28046430360067, 40.118097097554234], [-83.28047067995347, 40.1180626624017], [-83.28047554021065, 40.11802808240256], [-83.28047887893534, 40.11799339541909], [-83.28048069190407, 40.117958642907915], [-83.28048097719905, 40.11792386270789], [-83.28047973526868, 40.117889094443306], [-83.28047696657153, 40.11785437863889], [-83.28047267506484, 40.117819753994944], [-83.2804668647159, 40.11778526011225], [-83.28045954301115, 40.117750936568136], [-83.2804507185996, 40.11771682203165], [-83.28044040013036, 40.11768295517162], [-83.28042859977143, 40.117649374633565], [-83.28040346234022, 40.11759159108995], [-83.28037573564781, 40.11753450919065], [-83.28034545333428, 40.11747819895902], [-83.28031265133464, 40.11742272590004], [-83.28027736913266, 40.117368158196655], [-83.28023964850713, 40.117314559513694], [-83.28019953478575, 40.11726199619394], [-83.2801570767539, 40.117210529153596], [-83.28011232437935, 40.117160220201484], [-83.28006533232157, 40.117111131115244], [-83.28005975587897, 40.11709906918071], [-83.28005473271033, 40.11708686578154], [-83.28005026766941, 40.11707453529552], [-83.28004636561, 40.11706209210044], [-83.280043033742, 40.11704955145903], [-83.28004027342052, 40.117036929573565], [-83.28003808833645, 40.11702424173003], [-83.28003648335367, 40.11701150320676], [-83.28003545746105, 40.11699872842051], [-83.28003501436973, 40.11698593445826], [-83.28003515307863, 40.116973136637306], [-83.28003587375976, 40.11696035026697], [-83.28003717658495, 40.116947590656714], [-83.28003905939045, 40.116934874031934], [-83.28004151881902, 40.11692221482478], [-83.28004455271699, 40.116909630161324], [-83.28004815772717, 40.11689713447364], [-83.28005232815661, 40.11688474311005], [-83.28005706065846, 40.116872471403106], [-83.28006234835657, 40.11686033380832], [-83.28006818437493, 40.11684834478114], [-83.2800745630309, 40.11683652057034], [-83.28008147625509, 40.116824873837984], [-83.28019933733054, 40.11666116727231], [-83.28030742795423, 40.11644665119827], [-83.2806538054383, 40.11617238615721], [-83.28067407771417, 40.11616171524509], [-83.28069481352698, 40.11615158162428], [-83.28071598602047, 40.11614199628023], [-83.2807375718673, 40.116132971075665], [-83.2807595465371, 40.116124515179415], [-83.28078188317346, 40.11611663957695], [-83.280804557246, 40.1161093534372], [-83.28082754068505, 40.116102664151256], [-83.28085080896022, 40.11609658088802], [-83.28087433281885, 40.11609111014588], [-83.28089808534399, 40.1160862575071], [-83.28092204080205, 40.11608202944679], [-83.28094616993017, 40.11607843156288], [-83.2809704434251, 40.11607546585105], [-83.280994835543, 40.11607313788591], [-83.28101931698073, 40.116071449663245], [-83.28104385843493, 40.11607040317885], [-83.28106843293818, 40.116069999512376], [-83.28125112708614, 40.11598724574762], [-83.28163738017827, 40.11591390412099], [-83.28221419327397, 40.111860158980676], [-83.28329673834, 40.111992563470004], [-83.28438417444437, 40.11209874792864], [-83.2854754258951, 40.11217860682295], [-83.2855308555556, 40.11198925645761], [-83.28561497985078, 40.11137748395271], [-83.28571038013968, 40.111381802733824], [-83.28574121596256, 40.111125491356944], [-83.28492102731512, 40.11106705676891], [-83.28496628144845, 40.11068785493487], [-83.2857834585426, 40.110751083506784], [-83.28591202494538, 40.109533375525295], [-83.28598101792184, 40.10929304800344], [-83.28602628222396, 40.109205250873856], [-83.28606945903493, 40.10914459893591], [-83.28607159639813, 40.10914462247513], [-83.29220919288468, 40.10921098855017], [-83.2919278396552, 40.110617030399524], [-83.29169228376831, 40.11139155228707], [-83.29128018527798, 40.11228181603525], [-83.29118718523216, 40.11248272296016], [-83.288875011272, 40.11482409125958], [-83.2883792082606, 40.11533959624621], [-83.28884275906886, 40.115634522261175], [-83.28913310992908, 40.11585349846637], [-83.289612998661, 40.11629188242106], [-83.29043626214262, 40.11720823543452], [-83.29116019015169, 40.11821916199153], [-83.29167712087978, 40.11876788424157], [-83.2919397314668, 40.1190916290783], [-83.29202269247216, 40.11943332931868], [-83.29202588346138, 40.119709435070554], [-83.29193417884645, 40.11984810402116], [-83.29171952154783, 40.11995990114369], [-83.29142074088057, 40.120464509727356], [-83.29120588477056, 40.120935310154735], [-83.2911160225046, 40.12126694518982], [-83.29085702017416, 40.12249450361733], [-83.2908597639516, 40.12273190887169], [-83.290876747336, 40.12296372638923], [-83.29097585209956, 40.12343211180108], [-83.29107122498485, 40.12360822660134], [-83.29134564362874, 40.12368376538494], [-83.29132575697166, 40.12384942735134], [-83.29135740214863, 40.12408111905048], [-83.29168749140595, 40.12510478958982], [-83.29194189060878, 40.12533380085131], [-83.29093511697218, 40.12578519699022], [-83.29147277230419, 40.134429367871654], [-83.28824134427136, 40.13602514635978], [-83.28920947803321, 40.13682316356035], [-83.29013688188569, 40.13758758319903], [-83.29153820936537, 40.1387425908002], [-83.28521994771069, 40.14195031072589], [-83.29140191265931, 40.149430710515546], [-83.28683626099358, 40.15168522531298], [-83.29489313822741, 40.16147988673785], [-83.2938555045031, 40.16200076634739], [-83.31031612612342, 40.180579333906756], [-83.30732021468788, 40.182028919202814], [-83.30202497208242, 40.18457946294741], [-83.29989050745462, 40.18560334205439], [-83.2995942325451, 40.185676785399835], [-83.28367019206456, 40.187120148464025], [-83.26465024869054, 40.188647324042115], [-83.26231324147399, 40.18881839541381], [-83.26114301954681, 40.18891651009456], [-83.25703638931665, 40.1892123589843], [-83.25550367473997, 40.18932034870396], [-83.2487955478335, 40.18993041113399], [-83.2436341058418, 40.18380753048682], [-83.24039995483328, 40.18548262857457], [-83.23875588958762, 40.18365350080691], [-83.2275425646403, 40.16930026451079], [-83.21884612011145, 40.17388871603365], [-83.2188654236068, 40.17400184958618], [-83.22061048067424, 40.19016488388329], [-83.20620638525712, 40.192029291114586], [-83.20097193751262, 40.192717992896064], [-83.20145346795229, 40.1955132036802], [-83.20137585410266, 40.195511297477985], [-83.19740948264206, 40.19583350889056], [-83.18219391896406, 40.19721256368411], [-83.17144082334133, 40.198085097580105], [-83.17147383307221, 40.20017330578958], [-83.17147383469198, 40.20017335170993], [-83.17173114346393, 40.2164467546737], [-83.17181086041657, 40.22237678178325], [-83.17250540131224, 40.24429321980254], [-83.17743642432424, 40.2442586884497], [-83.19268531799221, 40.244329488374966], [-83.20587596801799, 40.244334022880594], [-83.22826755936077, 40.244393725267585], [-83.2355372582269, 40.24436503633528], [-83.23919582504823, 40.244400198377214], [-83.24728537902367, 40.24440720266266], [-83.24865142501562, 40.24440832972566], [-83.24879675147702, 40.25042344597886], [-83.2489222678073, 40.264185752193455], [-83.24935340203584, 40.28226962168301], [-83.24954662391737, 40.315723500812496], [-83.24965040653295, 40.325199844376], [-83.24958529900121, 40.32787666237031], [-83.24953415418645, 40.3282732318078], [-83.24956447206358, 40.334110463121505], [-83.24957859571212, 40.33933390346749], [-83.24972784105454, 40.349276829152934], [-83.24975518697917, 40.35293045247557], [-83.24955105263675, 40.36277460645943], [-83.24955788956333, 40.36687982639396], [-83.24958648854772, 40.375000175252524], [-83.24944842854765, 40.38173366232633], [-83.24947980214426, 40.402646220319106], [-83.24937262310515, 40.40955102247164], [-83.24916370482921, 40.4187301388192], [-83.24915339343143, 40.41916636677187], [-83.24869651071927, 40.438334372225185], [-83.24866367645146, 40.43962524241892], [-83.24843187365968, 40.44391381943118], [-83.22814715017387, 40.4427650838279], [-83.20707739127079, 40.44152880904136], [-83.194125929973, 40.440691968741916], [-83.19187820255115, 40.44050484235378], [-83.19138403356163, 40.44046368280253], [-83.18355796603831, 40.43995459320336], [-83.16038336107934, 40.43887234446953], [-83.14142433292503, 40.43814675322461], [-83.13706668528104, 40.438091442741296], [-83.11369135173581, 40.436992014309055], [-83.09211807968855, 40.43637394747335], [-83.07491488138788, 40.43566244980079], [-83.07245905394939, 40.43556785195562], [-83.07169617464895, 40.435535481014156], [-83.05634818400826, 40.43504687798334], [-83.055739299828, 40.43503604678723], [-83.05365453834486, 40.43495978772661], [-83.05190456776194, 40.43488560722558], [-83.05008723470206, 40.43480962891579], [-83.03943981772548, 40.434425002949666], [-83.02096664582321, 40.43379765598995], [-83.02220364283286, 40.41874745715479], [-83.00986236986789, 40.418185376236195], [-83.00269363540473, 40.41779654870459], [-83.00050088115901, 40.417677517682115], [-82.97796989465074, 40.41658831204115]], [[-82.67180320189038, 40.013246628683014], [-82.66972348210795, 40.01315674188157], [-82.66952830938429, 40.01558810944675], [-82.6704540225505, 40.01566027556122], [-82.6704308842835, 40.015937013582864], [-82.67069742416719, 40.0163251007718], [-82.67155636572222, 40.016356799319325], [-82.67165794127196, 40.01505734759142], [-82.67180320189038, 40.013246628683014]]], &quot;type&quot;: &quot;Polygon&quot;}, &quot;id&quot;: &quot;0&quot;, &quot;properties&quot;: {&quot;ACRES&quot;: 755258.798318588, &quot;NAME&quot;: &quot;MORPC MPO&quot;, &quot;OBJECTID&quot;: 1, &quot;SQMILES&quot;: 1180.09187237279, &quot;Shape__Are&quot;: 32921741008.4999, &quot;Shape__Len&quot;: 1099152.69724298, &quot;Source&quot;: &quot;MORPC&quot;, &quot;fid&quot;: 0}, &quot;type&quot;: &quot;Feature&quot;}], &quot;type&quot;: &quot;FeatureCollection&quot;});\n",
       "\n",
       "        \n",
       "    \n",
       "    geo_json_783c11a8b5d295df400e413c33e3e08b.bindTooltip(\n",
       "    function(layer){\n",
       "    let div = L.DomUtil.create(&#x27;div&#x27;);\n",
       "    \n",
       "    let handleObject = feature=&gt;typeof(feature)==&#x27;object&#x27; ? JSON.stringify(feature) : feature;\n",
       "    let fields = [&quot;fid&quot;, &quot;OBJECTID&quot;, &quot;ACRES&quot;, &quot;SQMILES&quot;, &quot;NAME&quot;, &quot;Source&quot;, &quot;Shape__Are&quot;, &quot;Shape__Len&quot;];\n",
       "    let aliases = [&quot;fid&quot;, &quot;OBJECTID&quot;, &quot;ACRES&quot;, &quot;SQMILES&quot;, &quot;NAME&quot;, &quot;Source&quot;, &quot;Shape__Are&quot;, &quot;Shape__Len&quot;];\n",
       "    let table = &#x27;&lt;table&gt;&#x27; +\n",
       "        String(\n",
       "        fields.map(\n",
       "        (v,i)=&gt;\n",
       "        `&lt;tr&gt;\n",
       "            &lt;th&gt;${aliases[i]}&lt;/th&gt;\n",
       "            \n",
       "            &lt;td&gt;${handleObject(layer.feature.properties[v])}&lt;/td&gt;\n",
       "        &lt;/tr&gt;`).join(&#x27;&#x27;))\n",
       "    +&#x27;&lt;/table&gt;&#x27;;\n",
       "    div.innerHTML=table;\n",
       "    \n",
       "    return div\n",
       "    }\n",
       "    ,{\n",
       "  &quot;sticky&quot;: true,\n",
       "  &quot;className&quot;: &quot;foliumtooltip&quot;,\n",
       "});\n",
       "                     \n",
       "    \n",
       "            geo_json_783c11a8b5d295df400e413c33e3e08b.addTo(map_14da2b8d1dba47e1e8a5712a0cdae9b2);\n",
       "        \n",
       "&lt;/script&gt;\n",
       "&lt;/html&gt;\" style=\"position:absolute;width:100%;height:100%;left:0;top:0;border:none !important;\" allowfullscreen webkitallowfullscreen mozallowfullscreen></iframe></div></div>"
      ],
      "text/plain": [
       "<folium.folium.Map at 0x1ea3f7bb260>"
      ]
     },
     "execution_count": 43,
     "metadata": {},
     "output_type": "execute_result"
    }
   ],
   "source": [
    "gdfArchive.drop(columns=\"Updated\").explore()"
   ]
  },
  {
   "cell_type": "markdown",
   "id": "c935a544-5b00-42ab-87fa-f49ca67b992b",
   "metadata": {
    "editable": true,
    "slideshow": {
     "slide_type": ""
    },
    "tags": []
   },
   "source": [
    "# Assign geographic identifiers"
   ]
  },
  {
   "cell_type": "markdown",
   "id": "9a89c28b-23a4-4b3f-99c1-93a84d8dd104",
   "metadata": {},
   "source": [
    "Sometimes we have a set of locations and we would like to know what geography (county, zipcode, etc.) they fall in. The `assign_geo_identifiers()` function takes a set of georeference points and a list of geography levels and determines for each level which area each point falls in.  The function takes two parameters:\n",
    "  - `points` - a GeoPandas GeoDataFrame consisting of the points of interest\n",
    "  - `geographies` - A Python list of one or more strings in which each element corresponds to a geography level. You can specify as many levels as you want from the following list, however note that the function must download the polygons and perform the analysis for each level so if you specify many levels it may take a long time.\n",
    "    - \"county\" - County (Census TIGER)\n",
    "    - \"tract\" - *Not currently implemented*\n",
    "    - \"blockgroup\" - *Not currently implemented*\n",
    "    - \"block\" - *Not currently implemented*\n",
    "    - \"zcta\" - *Not currently implemented*\n",
    "    - \"place\" - Census place (Census TIGER)\n",
    "    - \"placecombo\" - *Not currently implemented*\n",
    "    - \"juris\" - *Not currently implemented*\n",
    "    - \"region15County\" - *Not currently implemented*\n",
    "    - \"region10County\" - *Not currently implemented*\n",
    "    - \"regionCORPO\" - *Not currently implemented*\n",
    "    - \"regionMPO\" - *Not currently implemented*\n",
    "\n",
    "**NOTE:** Many of the geography levels are not currently implemented.  They are being implemented as they are needed.  If you need one that has not yet been implemented, please contact Adam Porr (or implement it yourself)."
   ]
  },
  {
   "cell_type": "markdown",
   "id": "beb332fc-f66e-4909-909d-31ba181ffd11",
   "metadata": {},
   "source": [
    "In the following example, we will assign labels for the \"county\" and \"place\" geography levels to libraries in MORPC's Points of Interest layer.  First we'll download just the library locations from Mid-Ohio Open Data using the ArcGIS REST API."
   ]
  },
  {
   "cell_type": "code",
   "execution_count": 44,
   "id": "2f087cb0-52e6-4de0-a7aa-b61b2a003cb1",
   "metadata": {
    "editable": true,
    "slideshow": {
     "slide_type": ""
    },
    "tags": []
   },
   "outputs": [],
   "source": [
    "url = \"https://services1.arcgis.com/EjjnBtwS9ivTGI8x/arcgis/rest/services/Points_of_Interest/FeatureServer/0/query?outFields=*&where=%22type%22=%27Library%27&f=geojson\"\n",
    "librariesRaw = gpd.read_file(url)"
   ]
  },
  {
   "cell_type": "markdown",
   "id": "f7e664bb-4a22-46e1-b23d-ee525f91ef49",
   "metadata": {},
   "source": [
    "The data incudes a bunch of fields that we don't need.  For clarity, extract only the relevant fields."
   ]
  },
  {
   "cell_type": "code",
   "execution_count": 45,
   "id": "812942d9-b4a0-4cc8-975a-4b88db233a63",
   "metadata": {
    "tags": []
   },
   "outputs": [],
   "source": [
    "libraries = librariesRaw.copy().filter(items=['NAME', 'ADDRESS','geometry'], axis=\"columns\")"
   ]
  },
  {
   "cell_type": "code",
   "execution_count": 46,
   "id": "3dfc5ac5-da09-46c9-aec0-ca839d1b2d97",
   "metadata": {
    "tags": []
   },
   "outputs": [
    {
     "data": {
      "text/html": [
       "<div>\n",
       "<style scoped>\n",
       "    .dataframe tbody tr th:only-of-type {\n",
       "        vertical-align: middle;\n",
       "    }\n",
       "\n",
       "    .dataframe tbody tr th {\n",
       "        vertical-align: top;\n",
       "    }\n",
       "\n",
       "    .dataframe thead th {\n",
       "        text-align: right;\n",
       "    }\n",
       "</style>\n",
       "<table border=\"1\" class=\"dataframe\">\n",
       "  <thead>\n",
       "    <tr style=\"text-align: right;\">\n",
       "      <th></th>\n",
       "      <th>NAME</th>\n",
       "      <th>ADDRESS</th>\n",
       "      <th>geometry</th>\n",
       "    </tr>\n",
       "  </thead>\n",
       "  <tbody>\n",
       "    <tr>\n",
       "      <th>0</th>\n",
       "      <td>Fairfield County District Library Northwest Br...</td>\n",
       "      <td>2855 Helena Dr NW</td>\n",
       "      <td>POINT (-82.68429 39.76979)</td>\n",
       "    </tr>\n",
       "    <tr>\n",
       "      <th>1</th>\n",
       "      <td>Marysville School District Public Library Raym...</td>\n",
       "      <td>21698 Main St</td>\n",
       "      <td>POINT (-83.46767 40.33515)</td>\n",
       "    </tr>\n",
       "    <tr>\n",
       "      <th>2</th>\n",
       "      <td>Richwood-North Union Public Library</td>\n",
       "      <td>4 E. Ottawa St</td>\n",
       "      <td>POINT (-83.29605 40.42629)</td>\n",
       "    </tr>\n",
       "    <tr>\n",
       "      <th>3</th>\n",
       "      <td>Marysville School District Public Library</td>\n",
       "      <td>231 S. Plum St</td>\n",
       "      <td>POINT (-83.36611 40.23504)</td>\n",
       "    </tr>\n",
       "    <tr>\n",
       "      <th>4</th>\n",
       "      <td>Pickaway Co. District Public Library</td>\n",
       "      <td>1160 N. Court St</td>\n",
       "      <td>POINT (-82.93864 39.61947)</td>\n",
       "    </tr>\n",
       "  </tbody>\n",
       "</table>\n",
       "</div>"
      ],
      "text/plain": [
       "                                                NAME            ADDRESS  \\\n",
       "0  Fairfield County District Library Northwest Br...  2855 Helena Dr NW   \n",
       "1  Marysville School District Public Library Raym...      21698 Main St   \n",
       "2                Richwood-North Union Public Library     4 E. Ottawa St   \n",
       "3          Marysville School District Public Library     231 S. Plum St   \n",
       "4               Pickaway Co. District Public Library   1160 N. Court St   \n",
       "\n",
       "                     geometry  \n",
       "0  POINT (-82.68429 39.76979)  \n",
       "1  POINT (-83.46767 40.33515)  \n",
       "2  POINT (-83.29605 40.42629)  \n",
       "3  POINT (-83.36611 40.23504)  \n",
       "4  POINT (-82.93864 39.61947)  "
      ]
     },
     "execution_count": 46,
     "metadata": {},
     "output_type": "execute_result"
    }
   ],
   "source": [
    "libraries.head()"
   ]
  },
  {
   "cell_type": "markdown",
   "id": "34a8f5be-40bf-4430-8fc9-5fb8c0e4e7e5",
   "metadata": {},
   "source": [
    "Let's take a look at the library locations."
   ]
  },
  {
   "cell_type": "code",
   "execution_count": 47,
   "id": "a0f40998-c67d-4686-8383-8779a8226a5a",
   "metadata": {
    "tags": []
   },
   "outputs": [
    {
     "data": {
      "text/html": [
       "<div style=\"width:100%;\"><div style=\"position:relative;width:100%;height:0;padding-bottom:60%;\"><span style=\"color:#565656\">Make this Notebook Trusted to load map: File -> Trust Notebook</span><iframe srcdoc=\"&lt;!DOCTYPE html&gt;\n",
       "&lt;html&gt;\n",
       "&lt;head&gt;\n",
       "    \n",
       "    &lt;meta http-equiv=&quot;content-type&quot; content=&quot;text/html; charset=UTF-8&quot; /&gt;\n",
       "    \n",
       "        &lt;script&gt;\n",
       "            L_NO_TOUCH = false;\n",
       "            L_DISABLE_3D = false;\n",
       "        &lt;/script&gt;\n",
       "    \n",
       "    &lt;style&gt;html, body {width: 100%;height: 100%;margin: 0;padding: 0;}&lt;/style&gt;\n",
       "    &lt;style&gt;#map {position:absolute;top:0;bottom:0;right:0;left:0;}&lt;/style&gt;\n",
       "    &lt;script src=&quot;https://cdn.jsdelivr.net/npm/leaflet@1.9.3/dist/leaflet.js&quot;&gt;&lt;/script&gt;\n",
       "    &lt;script src=&quot;https://code.jquery.com/jquery-3.7.1.min.js&quot;&gt;&lt;/script&gt;\n",
       "    &lt;script src=&quot;https://cdn.jsdelivr.net/npm/bootstrap@5.2.2/dist/js/bootstrap.bundle.min.js&quot;&gt;&lt;/script&gt;\n",
       "    &lt;script src=&quot;https://cdnjs.cloudflare.com/ajax/libs/Leaflet.awesome-markers/2.0.2/leaflet.awesome-markers.js&quot;&gt;&lt;/script&gt;\n",
       "    &lt;link rel=&quot;stylesheet&quot; href=&quot;https://cdn.jsdelivr.net/npm/leaflet@1.9.3/dist/leaflet.css&quot;/&gt;\n",
       "    &lt;link rel=&quot;stylesheet&quot; href=&quot;https://cdn.jsdelivr.net/npm/bootstrap@5.2.2/dist/css/bootstrap.min.css&quot;/&gt;\n",
       "    &lt;link rel=&quot;stylesheet&quot; href=&quot;https://netdna.bootstrapcdn.com/bootstrap/3.0.0/css/bootstrap-glyphicons.css&quot;/&gt;\n",
       "    &lt;link rel=&quot;stylesheet&quot; href=&quot;https://cdn.jsdelivr.net/npm/@fortawesome/fontawesome-free@6.2.0/css/all.min.css&quot;/&gt;\n",
       "    &lt;link rel=&quot;stylesheet&quot; href=&quot;https://cdnjs.cloudflare.com/ajax/libs/Leaflet.awesome-markers/2.0.2/leaflet.awesome-markers.css&quot;/&gt;\n",
       "    &lt;link rel=&quot;stylesheet&quot; href=&quot;https://cdn.jsdelivr.net/gh/python-visualization/folium/folium/templates/leaflet.awesome.rotate.min.css&quot;/&gt;\n",
       "    \n",
       "            &lt;meta name=&quot;viewport&quot; content=&quot;width=device-width,\n",
       "                initial-scale=1.0, maximum-scale=1.0, user-scalable=no&quot; /&gt;\n",
       "            &lt;style&gt;\n",
       "                #map_6b652b24b6eeaa9bb51153aca6918dac {\n",
       "                    position: relative;\n",
       "                    width: 100.0%;\n",
       "                    height: 100.0%;\n",
       "                    left: 0.0%;\n",
       "                    top: 0.0%;\n",
       "                }\n",
       "                .leaflet-container { font-size: 1rem; }\n",
       "            &lt;/style&gt;\n",
       "        \n",
       "    \n",
       "                    &lt;style&gt;\n",
       "                        .foliumtooltip {\n",
       "                            \n",
       "                        }\n",
       "                       .foliumtooltip table{\n",
       "                            margin: auto;\n",
       "                        }\n",
       "                        .foliumtooltip tr{\n",
       "                            text-align: left;\n",
       "                        }\n",
       "                        .foliumtooltip th{\n",
       "                            padding: 2px; padding-right: 8px;\n",
       "                        }\n",
       "                    &lt;/style&gt;\n",
       "            \n",
       "&lt;/head&gt;\n",
       "&lt;body&gt;\n",
       "    \n",
       "    \n",
       "            &lt;div class=&quot;folium-map&quot; id=&quot;map_6b652b24b6eeaa9bb51153aca6918dac&quot; &gt;&lt;/div&gt;\n",
       "        \n",
       "&lt;/body&gt;\n",
       "&lt;script&gt;\n",
       "    \n",
       "    \n",
       "            var map_6b652b24b6eeaa9bb51153aca6918dac = L.map(\n",
       "                &quot;map_6b652b24b6eeaa9bb51153aca6918dac&quot;,\n",
       "                {\n",
       "                    center: [39.98345478761455, -83.00588763104406],\n",
       "                    crs: L.CRS.EPSG3857,\n",
       "                    ...{\n",
       "  &quot;zoom&quot;: 10,\n",
       "  &quot;zoomControl&quot;: true,\n",
       "  &quot;preferCanvas&quot;: false,\n",
       "}\n",
       "\n",
       "                }\n",
       "            );\n",
       "            L.control.scale().addTo(map_6b652b24b6eeaa9bb51153aca6918dac);\n",
       "\n",
       "            \n",
       "\n",
       "        \n",
       "    \n",
       "            var tile_layer_146268b07483f221d432476b9ed8e505 = L.tileLayer(\n",
       "                &quot;https://tile.openstreetmap.org/{z}/{x}/{y}.png&quot;,\n",
       "                {\n",
       "  &quot;minZoom&quot;: 0,\n",
       "  &quot;maxZoom&quot;: 19,\n",
       "  &quot;maxNativeZoom&quot;: 19,\n",
       "  &quot;noWrap&quot;: false,\n",
       "  &quot;attribution&quot;: &quot;\\u0026copy; \\u003ca href=\\&quot;https://www.openstreetmap.org/copyright\\&quot;\\u003eOpenStreetMap\\u003c/a\\u003e contributors&quot;,\n",
       "  &quot;subdomains&quot;: &quot;abc&quot;,\n",
       "  &quot;detectRetina&quot;: false,\n",
       "  &quot;tms&quot;: false,\n",
       "  &quot;opacity&quot;: 1,\n",
       "}\n",
       "\n",
       "            );\n",
       "        \n",
       "    \n",
       "            tile_layer_146268b07483f221d432476b9ed8e505.addTo(map_6b652b24b6eeaa9bb51153aca6918dac);\n",
       "        \n",
       "    \n",
       "            map_6b652b24b6eeaa9bb51153aca6918dac.fitBounds(\n",
       "                [[39.3298618160501, -83.9241912264021], [40.637047759179, -82.087584035686]],\n",
       "                {}\n",
       "            );\n",
       "        \n",
       "    \n",
       "        function geo_json_a576459a6e663a2188c342f526f6165f_styler(feature) {\n",
       "            switch(feature.id) {\n",
       "                default:\n",
       "                    return {&quot;fillOpacity&quot;: 0.5, &quot;radius&quot;: 4, &quot;weight&quot;: 2};\n",
       "            }\n",
       "        }\n",
       "        function geo_json_a576459a6e663a2188c342f526f6165f_highlighter(feature) {\n",
       "            switch(feature.id) {\n",
       "                default:\n",
       "                    return {&quot;fillOpacity&quot;: 0.75};\n",
       "            }\n",
       "        }\n",
       "        function geo_json_a576459a6e663a2188c342f526f6165f_pointToLayer(feature, latlng) {\n",
       "            var opts = {&quot;bubblingMouseEvents&quot;: true, &quot;color&quot;: &quot;#3388ff&quot;, &quot;dashArray&quot;: null, &quot;dashOffset&quot;: null, &quot;fill&quot;: true, &quot;fillColor&quot;: &quot;#3388ff&quot;, &quot;fillOpacity&quot;: 0.2, &quot;fillRule&quot;: &quot;evenodd&quot;, &quot;lineCap&quot;: &quot;round&quot;, &quot;lineJoin&quot;: &quot;round&quot;, &quot;opacity&quot;: 1.0, &quot;radius&quot;: 2, &quot;stroke&quot;: true, &quot;weight&quot;: 3};\n",
       "            \n",
       "            let style = geo_json_a576459a6e663a2188c342f526f6165f_styler(feature)\n",
       "            Object.assign(opts, style)\n",
       "            \n",
       "            return new L.CircleMarker(latlng, opts)\n",
       "        }\n",
       "\n",
       "        function geo_json_a576459a6e663a2188c342f526f6165f_onEachFeature(feature, layer) {\n",
       "            layer.on({\n",
       "                mouseout: function(e) {\n",
       "                    if(typeof e.target.setStyle === &quot;function&quot;){\n",
       "                            geo_json_a576459a6e663a2188c342f526f6165f.resetStyle(e.target);\n",
       "                    }\n",
       "                },\n",
       "                mouseover: function(e) {\n",
       "                    if(typeof e.target.setStyle === &quot;function&quot;){\n",
       "                        const highlightStyle = geo_json_a576459a6e663a2188c342f526f6165f_highlighter(e.target.feature)\n",
       "                        e.target.setStyle(highlightStyle);\n",
       "                    }\n",
       "                },\n",
       "            });\n",
       "        };\n",
       "        var geo_json_a576459a6e663a2188c342f526f6165f = L.geoJson(null, {\n",
       "                onEachFeature: geo_json_a576459a6e663a2188c342f526f6165f_onEachFeature,\n",
       "            \n",
       "                style: geo_json_a576459a6e663a2188c342f526f6165f_styler,\n",
       "                pointToLayer: geo_json_a576459a6e663a2188c342f526f6165f_pointToLayer,\n",
       "            ...{\n",
       "}\n",
       "        });\n",
       "\n",
       "        function geo_json_a576459a6e663a2188c342f526f6165f_add (data) {\n",
       "            geo_json_a576459a6e663a2188c342f526f6165f\n",
       "                .addData(data);\n",
       "        }\n",
       "            geo_json_a576459a6e663a2188c342f526f6165f_add({&quot;bbox&quot;: [-83.9241912264021, 39.3298618160501, -82.087584035686, 40.637047759179], &quot;features&quot;: [{&quot;bbox&quot;: [-82.6842851520357, 39.7697907908279, -82.6842851520357, 39.7697907908279], &quot;geometry&quot;: {&quot;coordinates&quot;: [-82.6842851520357, 39.7697907908279], &quot;type&quot;: &quot;Point&quot;}, &quot;id&quot;: &quot;0&quot;, &quot;properties&quot;: {&quot;ADDRESS&quot;: &quot;2855 Helena Dr NW&quot;, &quot;NAME&quot;: &quot;Fairfield County District Library Northwest Branch&quot;}, &quot;type&quot;: &quot;Feature&quot;}, {&quot;bbox&quot;: [-83.4676731224247, 40.3351465051175, -83.4676731224247, 40.3351465051175], &quot;geometry&quot;: {&quot;coordinates&quot;: [-83.4676731224247, 40.3351465051175], &quot;type&quot;: &quot;Point&quot;}, &quot;id&quot;: &quot;1&quot;, &quot;properties&quot;: {&quot;ADDRESS&quot;: &quot;21698 Main St&quot;, &quot;NAME&quot;: &quot;Marysville School District Public Library Raymond Branch&quot;}, &quot;type&quot;: &quot;Feature&quot;}, {&quot;bbox&quot;: [-83.2960529998877, 40.4262948804552, -83.2960529998877, 40.4262948804552], &quot;geometry&quot;: {&quot;coordinates&quot;: [-83.2960529998877, 40.4262948804552], &quot;type&quot;: &quot;Point&quot;}, &quot;id&quot;: &quot;2&quot;, &quot;properties&quot;: {&quot;ADDRESS&quot;: &quot;4 E. Ottawa St&quot;, &quot;NAME&quot;: &quot;Richwood-North Union Public Library&quot;}, &quot;type&quot;: &quot;Feature&quot;}, {&quot;bbox&quot;: [-83.3661078207964, 40.2350394928228, -83.3661078207964, 40.2350394928228], &quot;geometry&quot;: {&quot;coordinates&quot;: [-83.3661078207964, 40.2350394928228], &quot;type&quot;: &quot;Point&quot;}, &quot;id&quot;: &quot;3&quot;, &quot;properties&quot;: {&quot;ADDRESS&quot;: &quot;231 S. Plum St&quot;, &quot;NAME&quot;: &quot;Marysville School District Public Library&quot;}, &quot;type&quot;: &quot;Feature&quot;}, {&quot;bbox&quot;: [-82.9386383383752, 39.6194687501101, -82.9386383383752, 39.6194687501101], &quot;geometry&quot;: {&quot;coordinates&quot;: [-82.9386383383752, 39.6194687501101], &quot;type&quot;: &quot;Point&quot;}, &quot;id&quot;: &quot;4&quot;, &quot;properties&quot;: {&quot;ADDRESS&quot;: &quot;1160 N. Court St&quot;, &quot;NAME&quot;: &quot;Pickaway Co. District Public Library&quot;}, &quot;type&quot;: &quot;Feature&quot;}, {&quot;bbox&quot;: [-82.953736797335, 39.7143219296381, -82.953736797335, 39.7143219296381], &quot;geometry&quot;: {&quot;coordinates&quot;: [-82.953736797335, 39.7143219296381], &quot;type&quot;: &quot;Point&quot;}, &quot;id&quot;: &quot;5&quot;, &quot;properties&quot;: {&quot;ADDRESS&quot;: &quot;51 Long St&quot;, &quot;NAME&quot;: &quot;Pickaway Co. District Public Library Floyd E. Younkin Branch&quot;}, &quot;type&quot;: &quot;Feature&quot;}, {&quot;bbox&quot;: [-83.2663829923402, 39.7186790728588, -83.2663829923402, 39.7186790728588], &quot;geometry&quot;: {&quot;coordinates&quot;: [-83.2663829923402, 39.7186790728588], &quot;type&quot;: &quot;Point&quot;}, &quot;id&quot;: &quot;6&quot;, &quot;properties&quot;: {&quot;ADDRESS&quot;: &quot;60 W. Columbus St&quot;, &quot;NAME&quot;: &quot;Mt. Sterling Public Library&quot;}, &quot;type&quot;: &quot;Feature&quot;}, {&quot;bbox&quot;: [-83.2737747193497, 39.9389331901837, -83.2737747193497, 39.9389331901837], &quot;geometry&quot;: {&quot;coordinates&quot;: [-83.2737747193497, 39.9389331901837], &quot;type&quot;: &quot;Point&quot;}, &quot;id&quot;: &quot;7&quot;, &quot;properties&quot;: {&quot;ADDRESS&quot;: &quot;270 Lilly Chapel Rd&quot;, &quot;NAME&quot;: &quot;Hurt/Battelle Memorial Library Of West Jefferson&quot;}, &quot;type&quot;: &quot;Feature&quot;}, {&quot;bbox&quot;: [-83.2695810022159, 40.1078346671016, -83.2695810022159, 40.1078346671016], &quot;geometry&quot;: {&quot;coordinates&quot;: [-83.2695810022159, 40.1078346671016], &quot;type&quot;: &quot;Point&quot;}, &quot;id&quot;: &quot;8&quot;, &quot;properties&quot;: {&quot;ADDRESS&quot;: &quot;305 W. Main St&quot;, &quot;NAME&quot;: &quot;Plain City Public Library&quot;}, &quot;type&quot;: &quot;Feature&quot;}, {&quot;bbox&quot;: [-83.4454832255098, 39.8854948989494, -83.4454832255098, 39.8854948989494], &quot;geometry&quot;: {&quot;coordinates&quot;: [-83.4454832255098, 39.8854948989494], &quot;type&quot;: &quot;Point&quot;}, &quot;id&quot;: &quot;9&quot;, &quot;properties&quot;: {&quot;ADDRESS&quot;: &quot;20 E. First St&quot;, &quot;NAME&quot;: &quot;London Public Library&quot;}, &quot;type&quot;: &quot;Feature&quot;}, {&quot;bbox&quot;: [-82.9897617211046, 39.9612137232294, -82.9897617211046, 39.9612137232294], &quot;geometry&quot;: {&quot;coordinates&quot;: [-82.9897617211046, 39.9612137232294], &quot;type&quot;: &quot;Point&quot;}, &quot;id&quot;: &quot;10&quot;, &quot;properties&quot;: {&quot;ADDRESS&quot;: &quot;96 S. Grant Ave&quot;, &quot;NAME&quot;: &quot;CML Main&quot;}, &quot;type&quot;: &quot;Feature&quot;}, {&quot;bbox&quot;: [-83.0067776739771, 39.9913674989808, -83.0067776739771, 39.9913674989808], &quot;geometry&quot;: {&quot;coordinates&quot;: [-83.0067776739771, 39.9913674989808], &quot;type&quot;: &quot;Point&quot;}, &quot;id&quot;: &quot;11&quot;, &quot;properties&quot;: {&quot;ADDRESS&quot;: &quot;1423 N. High St&quot;, &quot;NAME&quot;: &quot;CML Northside Branch&quot;}, &quot;type&quot;: &quot;Feature&quot;}, {&quot;bbox&quot;: [-82.9683518867601, 40.0126747271083, -82.9683518867601, 40.0126747271083], &quot;geometry&quot;: {&quot;coordinates&quot;: [-82.9683518867601, 40.0126747271083], &quot;type&quot;: &quot;Point&quot;}, &quot;id&quot;: &quot;12&quot;, &quot;properties&quot;: {&quot;ADDRESS&quot;: &quot;2223 Cleveland Ave&quot;, &quot;NAME&quot;: &quot;CML Linden Branch&quot;}, &quot;type&quot;: &quot;Feature&quot;}, {&quot;bbox&quot;: [-83.0192465142297, 40.0415453903429, -83.0192465142297, 40.0415453903429], &quot;geometry&quot;: {&quot;coordinates&quot;: [-83.0192465142297, 40.0415453903429], &quot;type&quot;: &quot;Point&quot;}, &quot;id&quot;: &quot;13&quot;, &quot;properties&quot;: {&quot;ADDRESS&quot;: &quot;3909 N. High St&quot;, &quot;NAME&quot;: &quot;CML Whetstone Branch&quot;}, &quot;type&quot;: &quot;Feature&quot;}, {&quot;bbox&quot;: [-82.9297234347049, 40.1230145532762, -82.9297234347049, 40.1230145532762], &quot;geometry&quot;: {&quot;coordinates&quot;: [-82.9297234347049, 40.1230145532762], &quot;type&quot;: &quot;Point&quot;}, &quot;id&quot;: &quot;14&quot;, &quot;properties&quot;: {&quot;ADDRESS&quot;: &quot;126 S. State St&quot;, &quot;NAME&quot;: &quot;Westerville Public Library&quot;}, &quot;type&quot;: &quot;Feature&quot;}, {&quot;bbox&quot;: [-82.9408605736896, 39.9859677811109, -82.9408605736896, 39.9859677811109], &quot;geometry&quot;: {&quot;coordinates&quot;: [-82.9408605736896, 39.9859677811109], &quot;type&quot;: &quot;Point&quot;}, &quot;id&quot;: &quot;15&quot;, &quot;properties&quot;: {&quot;ADDRESS&quot;: &quot;850 N Nelson Rd&quot;, &quot;NAME&quot;: &quot;CML Shepard Branch&quot;}, &quot;type&quot;: &quot;Feature&quot;}, {&quot;bbox&quot;: [-82.9045367295948, 39.9468452385911, -82.9045367295948, 39.9468452385911], &quot;geometry&quot;: {&quot;coordinates&quot;: [-82.9045367295948, 39.9468452385911], &quot;type&quot;: &quot;Point&quot;}, &quot;id&quot;: &quot;16&quot;, &quot;properties&quot;: {&quot;ADDRESS&quot;: &quot;3434 E. Livingston Ave&quot;, &quot;NAME&quot;: &quot;CML Barnett Branch&quot;}, &quot;type&quot;: &quot;Feature&quot;}, {&quot;bbox&quot;: [-82.9597273052821, 39.9494241997039, -82.9597273052821, 39.9494241997039], &quot;geometry&quot;: {&quot;coordinates&quot;: [-82.9597273052821, 39.9494241997039], &quot;type&quot;: &quot;Point&quot;}, &quot;id&quot;: &quot;17&quot;, &quot;properties&quot;: {&quot;ADDRESS&quot;: &quot;1422 E. Livingstone Ave&quot;, &quot;NAME&quot;: &quot;CML Driving Park Branch&quot;}, &quot;type&quot;: &quot;Feature&quot;}, {&quot;bbox&quot;: [-83.0928751801827, 39.8813443923715, -83.0928751801827, 39.8813443923715], &quot;geometry&quot;: {&quot;coordinates&quot;: [-83.0928751801827, 39.8813443923715], &quot;type&quot;: &quot;Point&quot;}, &quot;id&quot;: &quot;18&quot;, &quot;properties&quot;: {&quot;ADDRESS&quot;: &quot;3359 Park St&quot;, &quot;NAME&quot;: &quot;Southwest Public Library Main Branch&quot;}, &quot;type&quot;: &quot;Feature&quot;}, {&quot;bbox&quot;: [-83.0278131213935, 39.9551572283188, -83.0278131213935, 39.9551572283188], &quot;geometry&quot;: {&quot;coordinates&quot;: [-83.0278131213935, 39.9551572283188], &quot;type&quot;: &quot;Point&quot;}, &quot;id&quot;: &quot;19&quot;, &quot;properties&quot;: {&quot;ADDRESS&quot;: &quot;1061 W. Town St&quot;, &quot;NAME&quot;: &quot;CML Franklinton Branch&quot;}, &quot;type&quot;: &quot;Feature&quot;}, {&quot;bbox&quot;: [-83.114732808428, 40.1014682662558, -83.114732808428, 40.1014682662558], &quot;geometry&quot;: {&quot;coordinates&quot;: [-83.114732808428, 40.1014682662558], &quot;type&quot;: &quot;Point&quot;}, &quot;id&quot;: &quot;20&quot;, &quot;properties&quot;: {&quot;ADDRESS&quot;: &quot;75 N. High St&quot;, &quot;NAME&quot;: &quot;CML Dublin Branch&quot;}, &quot;type&quot;: &quot;Feature&quot;}, {&quot;bbox&quot;: [-83.1366379079364, 40.0456095232506, -83.1366379079364, 40.0456095232506], &quot;geometry&quot;: {&quot;coordinates&quot;: [-83.1366379079364, 40.0456095232506], &quot;type&quot;: &quot;Point&quot;}, &quot;id&quot;: &quot;21&quot;, &quot;properties&quot;: {&quot;ADDRESS&quot;: &quot;4500 Hickory Chase Way&quot;, &quot;NAME&quot;: &quot;CML Hilliard Branch&quot;}, &quot;type&quot;: &quot;Feature&quot;}, {&quot;bbox&quot;: [-83.0761560949737, 40.1185981545267, -83.0761560949737, 40.1185981545267], &quot;geometry&quot;: {&quot;coordinates&quot;: [-83.0761560949737, 40.1185981545267], &quot;type&quot;: &quot;Point&quot;}, &quot;id&quot;: &quot;22&quot;, &quot;properties&quot;: {&quot;ADDRESS&quot;: &quot;2280 Hard Rd&quot;, &quot;NAME&quot;: &quot;Worthington Northwest  Library&quot;}, &quot;type&quot;: &quot;Feature&quot;}, {&quot;bbox&quot;: [-83.0711679413156, 40.0465814008826, -83.0711679413156, 40.0465814008826], &quot;geometry&quot;: {&quot;coordinates&quot;: [-83.0711679413156, 40.0465814008826], &quot;type&quot;: &quot;Point&quot;}, &quot;id&quot;: &quot;23&quot;, &quot;properties&quot;: {&quot;ADDRESS&quot;: &quot;1945 Lane Rd&quot;, &quot;NAME&quot;: &quot;Upper Arlington Public Library Lane Rd&quot;}, &quot;type&quot;: &quot;Feature&quot;}, {&quot;bbox&quot;: [-83.0673726408137, 40.0127560580795, -83.0673726408137, 40.0127560580795], &quot;geometry&quot;: {&quot;coordinates&quot;: [-83.0673726408137, 40.0127560580795], &quot;type&quot;: &quot;Point&quot;}, &quot;id&quot;: &quot;24&quot;, &quot;properties&quot;: {&quot;ADDRESS&quot;: &quot;2800 Tremont Rd&quot;, &quot;NAME&quot;: &quot;Upper Arlington Public Library&quot;}, &quot;type&quot;: &quot;Feature&quot;}, {&quot;bbox&quot;: [-83.016581928152, 40.0905205802044, -83.016581928152, 40.0905205802044], &quot;geometry&quot;: {&quot;coordinates&quot;: [-83.016581928152, 40.0905205802044], &quot;type&quot;: &quot;Point&quot;}, &quot;id&quot;: &quot;25&quot;, &quot;properties&quot;: {&quot;ADDRESS&quot;: &quot;820 N. High St&quot;, &quot;NAME&quot;: &quot;Old Worthington Public Library&quot;}, &quot;type&quot;: &quot;Feature&quot;}, {&quot;bbox&quot;: [-82.9744176980046, 40.0810266609512, -82.9744176980046, 40.0810266609512], &quot;geometry&quot;: {&quot;coordinates&quot;: [-82.9744176980046, 40.0810266609512], &quot;type&quot;: &quot;Point&quot;}, &quot;id&quot;: &quot;26&quot;, &quot;properties&quot;: {&quot;ADDRESS&quot;: &quot;5590 Karl Rd&quot;, &quot;NAME&quot;: &quot;CML Karl Road Branch&quot;}, &quot;type&quot;: &quot;Feature&quot;}, {&quot;bbox&quot;: [-82.9541151172678, 40.0524364964823, -82.9541151172678, 40.0524364964823], &quot;geometry&quot;: {&quot;coordinates&quot;: [-82.9541151172678, 40.0524364964823], &quot;type&quot;: &quot;Point&quot;}, &quot;id&quot;: &quot;27&quot;, &quot;properties&quot;: {&quot;ADDRESS&quot;: &quot;4093 Cleveland Ave&quot;, &quot;NAME&quot;: &quot;CML Northern Lights Branch&quot;}, &quot;type&quot;: &quot;Feature&quot;}, {&quot;bbox&quot;: [-82.8698569209026, 40.019124439038, -82.8698569209026, 40.019124439038], &quot;geometry&quot;: {&quot;coordinates&quot;: [-82.8698569209026, 40.019124439038], &quot;type&quot;: &quot;Point&quot;}, &quot;id&quot;: &quot;28&quot;, &quot;properties&quot;: {&quot;ADDRESS&quot;: &quot;310 Granville St&quot;, &quot;NAME&quot;: &quot;CML Gahanna Branch&quot;}, &quot;type&quot;: &quot;Feature&quot;}, {&quot;bbox&quot;: [-82.8149623287813, 40.0819278251043, -82.8149623287813, 40.0819278251043], &quot;geometry&quot;: {&quot;coordinates&quot;: [-82.8149623287813, 40.0819278251043], &quot;type&quot;: &quot;Point&quot;}, &quot;id&quot;: &quot;29&quot;, &quot;properties&quot;: {&quot;ADDRESS&quot;: &quot;200 Market St&quot;, &quot;NAME&quot;: &quot;CML New Albany Branch&quot;}, &quot;type&quot;: &quot;Feature&quot;}, {&quot;bbox&quot;: [-82.9621491629931, 39.9685117139292, -82.9621491629931, 39.9685117139292], &quot;geometry&quot;: {&quot;coordinates&quot;: [-82.9621491629931, 39.9685117139292], &quot;type&quot;: &quot;Point&quot;}, &quot;id&quot;: &quot;30&quot;, &quot;properties&quot;: {&quot;ADDRESS&quot;: &quot;1467 E Long St&quot;, &quot;NAME&quot;: &quot;CML Martin Luther King Branch&quot;}, &quot;type&quot;: &quot;Feature&quot;}, {&quot;bbox&quot;: [-83.0498792045486, 39.9817244301678, -83.0498792045486, 39.9817244301678], &quot;geometry&quot;: {&quot;coordinates&quot;: [-83.0498792045486, 39.9817244301678], &quot;type&quot;: &quot;Point&quot;}, &quot;id&quot;: &quot;31&quot;, &quot;properties&quot;: {&quot;ADDRESS&quot;: &quot;1685 W. First Ave&quot;, &quot;NAME&quot;: &quot;Grandview Heights Public Library&quot;}, &quot;type&quot;: &quot;Feature&quot;}, {&quot;bbox&quot;: [-83.0609347336894, 39.9950463816084, -83.0609347336894, 39.9950463816084], &quot;geometry&quot;: {&quot;coordinates&quot;: [-83.0609347336894, 39.9950463816084], &quot;type&quot;: &quot;Point&quot;}, &quot;id&quot;: &quot;32&quot;, &quot;properties&quot;: {&quot;ADDRESS&quot;: &quot;1901 Arlington Ave&quot;, &quot;NAME&quot;: &quot;Upper Arlington Public Library Miller Park&quot;}, &quot;type&quot;: &quot;Feature&quot;}, {&quot;bbox&quot;: [-83.1712428615435, 39.810075128243, -83.1712428615435, 39.810075128243], &quot;geometry&quot;: {&quot;coordinates&quot;: [-83.1712428615435, 39.810075128243], &quot;type&quot;: &quot;Point&quot;}, &quot;id&quot;: &quot;33&quot;, &quot;properties&quot;: {&quot;ADDRESS&quot;: &quot;1036 High St&quot;, &quot;NAME&quot;: &quot;Harrisburg Library&quot;}, &quot;type&quot;: &quot;Feature&quot;}, {&quot;bbox&quot;: [-83.1273603040478, 39.9537788885617, -83.1273603040478, 39.9537788885617], &quot;geometry&quot;: {&quot;coordinates&quot;: [-83.1273603040478, 39.9537788885617], &quot;type&quot;: &quot;Point&quot;}, &quot;id&quot;: &quot;34&quot;, &quot;properties&quot;: {&quot;ADDRESS&quot;: &quot;4740 W. Broad St&quot;, &quot;NAME&quot;: &quot;Southwest Public Library Westland Area&quot;}, &quot;type&quot;: &quot;Feature&quot;}, {&quot;bbox&quot;: [-83.0735041748622, 39.9446355534772, -83.0735041748622, 39.9446355534772], &quot;geometry&quot;: {&quot;coordinates&quot;: [-83.0735041748622, 39.9446355534772], &quot;type&quot;: &quot;Point&quot;}, &quot;id&quot;: &quot;35&quot;, &quot;properties&quot;: {&quot;ADDRESS&quot;: &quot;511 S. Hague Ave&quot;, &quot;NAME&quot;: &quot;CML Hilltop Branch&quot;}, &quot;type&quot;: &quot;Feature&quot;}, {&quot;bbox&quot;: [-82.9971352473625, 39.889365189525, -82.9971352473625, 39.889365189525], &quot;geometry&quot;: {&quot;coordinates&quot;: [-82.9971352473625, 39.889365189525], &quot;type&quot;: &quot;Point&quot;}, &quot;id&quot;: &quot;36&quot;, &quot;properties&quot;: {&quot;ADDRESS&quot;: &quot;3540 S. High St&quot;, &quot;NAME&quot;: &quot;CML South High Branch&quot;}, &quot;type&quot;: &quot;Feature&quot;}, {&quot;bbox&quot;: [-82.9834545839897, 39.9408853380751, -82.9834545839897, 39.9408853380751], &quot;geometry&quot;: {&quot;coordinates&quot;: [-82.9834545839897, 39.9408853380751], &quot;type&quot;: &quot;Point&quot;}, &quot;id&quot;: &quot;37&quot;, &quot;properties&quot;: {&quot;ADDRESS&quot;: &quot;1113 Parsons Ave&quot;, &quot;NAME&quot;: &quot;CML Parsons Branch&quot;}, &quot;type&quot;: &quot;Feature&quot;}, {&quot;bbox&quot;: [-82.8818327221363, 39.8935328135114, -82.8818327221363, 39.8935328135114], &quot;geometry&quot;: {&quot;coordinates&quot;: [-82.8818327221363, 39.8935328135114], &quot;type&quot;: &quot;Point&quot;}, &quot;id&quot;: &quot;38&quot;, &quot;properties&quot;: {&quot;ADDRESS&quot;: &quot;3980 S. Hamilton Rd&quot;, &quot;NAME&quot;: &quot;CML Southeast Branch&quot;}, &quot;type&quot;: &quot;Feature&quot;}, {&quot;bbox&quot;: [-82.8284373446568, 39.9517820619019, -82.8284373446568, 39.9517820619019], &quot;geometry&quot;: {&quot;coordinates&quot;: [-82.8284373446568, 39.9517820619019], &quot;type&quot;: &quot;Point&quot;}, &quot;id&quot;: &quot;39&quot;, &quot;properties&quot;: {&quot;ADDRESS&quot;: &quot;1402 Brice Rd&quot;, &quot;NAME&quot;: &quot;CML Reynoldsburg Branch&quot;}, &quot;type&quot;: &quot;Feature&quot;}, {&quot;bbox&quot;: [-82.9343442927468, 39.9567452880173, -82.9343442927468, 39.9567452880173], &quot;geometry&quot;: {&quot;coordinates&quot;: [-82.9343442927468, 39.9567452880173], &quot;type&quot;: &quot;Point&quot;}, &quot;id&quot;: &quot;40&quot;, &quot;properties&quot;: {&quot;ADDRESS&quot;: &quot;2411 E. Main St&quot;, &quot;NAME&quot;: &quot;Bexley Public Library&quot;}, &quot;type&quot;: &quot;Feature&quot;}, {&quot;bbox&quot;: [-82.8823661483, 39.9748399818752, -82.8823661483, 39.9748399818752], &quot;geometry&quot;: {&quot;coordinates&quot;: [-82.8823661483, 39.9748399818752], &quot;type&quot;: &quot;Point&quot;}, &quot;id&quot;: &quot;41&quot;, &quot;properties&quot;: {&quot;ADDRESS&quot;: &quot;4445 E Broad St&quot;, &quot;NAME&quot;: &quot;CML Whitehall Branch&quot;}, &quot;type&quot;: &quot;Feature&quot;}, {&quot;bbox&quot;: [-82.6026456832015, 39.7153317516429, -82.6026456832015, 39.7153317516429], &quot;geometry&quot;: {&quot;coordinates&quot;: [-82.6026456832015, 39.7153317516429], &quot;type&quot;: &quot;Point&quot;}, &quot;id&quot;: &quot;42&quot;, &quot;properties&quot;: {&quot;ADDRESS&quot;: &quot;219 N. Broad St&quot;, &quot;NAME&quot;: &quot;Fairfield County District Library&quot;}, &quot;type&quot;: &quot;Feature&quot;}, {&quot;bbox&quot;: [-82.7430257886071, 39.6505107986975, -82.7430257886071, 39.6505107986975], &quot;geometry&quot;: {&quot;coordinates&quot;: [-82.7430257886071, 39.6505107986975], &quot;type&quot;: &quot;Point&quot;}, &quot;id&quot;: &quot;43&quot;, &quot;properties&quot;: {&quot;ADDRESS&quot;: &quot;116 E. High St&quot;, &quot;NAME&quot;: &quot;Fairfield County District Library Johns Memorial Branch&quot;}, &quot;type&quot;: &quot;Feature&quot;}, {&quot;bbox&quot;: [-82.4341240826341, 39.7043935779691, -82.4341240826341, 39.7043935779691], &quot;geometry&quot;: {&quot;coordinates&quot;: [-82.4341240826341, 39.7043935779691], &quot;type&quot;: &quot;Point&quot;}, &quot;id&quot;: &quot;44&quot;, &quot;properties&quot;: {&quot;ADDRESS&quot;: &quot;200 School St&quot;, &quot;NAME&quot;: &quot;Fairfield County District Library Bremen-Rushcreek Branch&quot;}, &quot;type&quot;: &quot;Feature&quot;}, {&quot;bbox&quot;: [-82.7586109225058, 39.8749692151085, -82.7586109225058, 39.8749692151085], &quot;geometry&quot;: {&quot;coordinates&quot;: [-82.7586109225058, 39.8749692151085], &quot;type&quot;: &quot;Point&quot;}, &quot;id&quot;: &quot;45&quot;, &quot;properties&quot;: {&quot;ADDRESS&quot;: &quot;201 Opportunity Way&quot;, &quot;NAME&quot;: &quot;Pickerington Public Library&quot;}, &quot;type&quot;: &quot;Feature&quot;}, {&quot;bbox&quot;: [-82.8051577481653, 39.8020336684732, -82.8051577481653, 39.8020336684732], &quot;geometry&quot;: {&quot;coordinates&quot;: [-82.8051577481653, 39.8020336684732], &quot;type&quot;: &quot;Point&quot;}, &quot;id&quot;: &quot;46&quot;, &quot;properties&quot;: {&quot;ADDRESS&quot;: &quot;150 E. Columbus St&quot;, &quot;NAME&quot;: &quot;Wagnalls Memorial Library&quot;}, &quot;type&quot;: &quot;Feature&quot;}, {&quot;bbox&quot;: [-82.5997091213125, 39.84555058542, -82.5997091213125, 39.84555058542], &quot;geometry&quot;: {&quot;coordinates&quot;: [-82.5997091213125, 39.84555058542], &quot;type&quot;: &quot;Point&quot;}, &quot;id&quot;: &quot;47&quot;, &quot;properties&quot;: {&quot;ADDRESS&quot;: &quot;205 E. Market St&quot;, &quot;NAME&quot;: &quot;Fairfield County District Library Baltimore Branch&quot;}, &quot;type&quot;: &quot;Feature&quot;}, {&quot;bbox&quot;: [-83.0727232044367, 40.1483917831969, -83.0727232044367, 40.1483917831969], &quot;geometry&quot;: {&quot;coordinates&quot;: [-83.0727232044367, 40.1483917831969], &quot;type&quot;: &quot;Point&quot;}, &quot;id&quot;: &quot;48&quot;, &quot;properties&quot;: {&quot;ADDRESS&quot;: &quot;460 S. Liberty St&quot;, &quot;NAME&quot;: &quot;Delaware County District Library Powell Branch&quot;}, &quot;type&quot;: &quot;Feature&quot;}, {&quot;bbox&quot;: [-83.2169672935717, 40.2673215162087, -83.2169672935717, 40.2673215162087], &quot;geometry&quot;: {&quot;coordinates&quot;: [-83.2169672935717, 40.2673215162087], &quot;type&quot;: &quot;Point&quot;}, &quot;id&quot;: &quot;49&quot;, &quot;properties&quot;: {&quot;ADDRESS&quot;: &quot;75 N. 4th St&quot;, &quot;NAME&quot;: &quot;Delaware County District Library Ostrander Branch&quot;}, &quot;type&quot;: &quot;Feature&quot;}, {&quot;bbox&quot;: [-83.0646462916659, 40.2997674874225, -83.0646462916659, 40.2997674874225], &quot;geometry&quot;: {&quot;coordinates&quot;: [-83.0646462916659, 40.2997674874225], &quot;type&quot;: &quot;Point&quot;}, &quot;id&quot;: &quot;50&quot;, &quot;properties&quot;: {&quot;ADDRESS&quot;: &quot;84 E. Winter St&quot;, &quot;NAME&quot;: &quot;Delaware County District Library&quot;}, &quot;type&quot;: &quot;Feature&quot;}, {&quot;bbox&quot;: [-82.8630336114161, 40.2428959976276, -82.8630336114161, 40.2428959976276], &quot;geometry&quot;: {&quot;coordinates&quot;: [-82.8630336114161, 40.2428959976276], &quot;type&quot;: &quot;Point&quot;}, &quot;id&quot;: &quot;51&quot;, &quot;properties&quot;: {&quot;ADDRESS&quot;: &quot;44 Burrer Dr&quot;, &quot;NAME&quot;: &quot;Sunbury Community Library&quot;}, &quot;type&quot;: &quot;Feature&quot;}, {&quot;bbox&quot;: [-82.9517032736047, 40.4092688412817, -82.9517032736047, 40.4092688412817], &quot;geometry&quot;: {&quot;coordinates&quot;: [-82.9517032736047, 40.4092688412817], &quot;type&quot;: &quot;Point&quot;}, &quot;id&quot;: &quot;52&quot;, &quot;properties&quot;: {&quot;ADDRESS&quot;: &quot;302 E. High St&quot;, &quot;NAME&quot;: &quot;Wornstaff Memorial Public Library&quot;}, &quot;type&quot;: &quot;Feature&quot;}, {&quot;bbox&quot;: [-82.6136244867801, 40.0900903767624, -82.6136244867801, 40.0900903767624], &quot;geometry&quot;: {&quot;coordinates&quot;: [-82.6136244867801, 40.0900903767624], &quot;type&quot;: &quot;Point&quot;}, &quot;id&quot;: &quot;53&quot;, &quot;properties&quot;: {&quot;ADDRESS&quot;: &quot;10 Maple Dr&quot;, &quot;NAME&quot;: &quot;Alexandria Public Library&quot;}, &quot;type&quot;: &quot;Feature&quot;}, {&quot;bbox&quot;: [-82.5250716419211, 40.2519609362924, -82.5250716419211, 40.2519609362924], &quot;geometry&quot;: {&quot;coordinates&quot;: [-82.5250716419211, 40.2519609362924], &quot;type&quot;: &quot;Point&quot;}, &quot;id&quot;: &quot;54&quot;, &quot;properties&quot;: {&quot;ADDRESS&quot;: &quot;385 South St NW&quot;, &quot;NAME&quot;: &quot;Homer Public Library&quot;}, &quot;type&quot;: &quot;Feature&quot;}, {&quot;bbox&quot;: [-82.5181580768464, 40.068153534214, -82.5181580768464, 40.068153534214], &quot;geometry&quot;: {&quot;coordinates&quot;: [-82.5181580768464, 40.068153534214], &quot;type&quot;: &quot;Point&quot;}, &quot;id&quot;: &quot;55&quot;, &quot;properties&quot;: {&quot;ADDRESS&quot;: &quot;217 E. Broadway St&quot;, &quot;NAME&quot;: &quot;Granville Public Library&quot;}, &quot;type&quot;: &quot;Feature&quot;}, {&quot;bbox&quot;: [-82.4528857468518, 40.2347337471026, -82.4528857468518, 40.2347337471026], &quot;geometry&quot;: {&quot;coordinates&quot;: [-82.4528857468518, 40.2347337471026], &quot;type&quot;: &quot;Point&quot;}, &quot;id&quot;: &quot;56&quot;, &quot;properties&quot;: {&quot;ADDRESS&quot;: &quot;15 N. Main St&quot;, &quot;NAME&quot;: &quot;Newark Public Library Hervey Memorial Branch&quot;}, &quot;type&quot;: &quot;Feature&quot;}, {&quot;bbox&quot;: [-82.4394213926801, 40.0497860717945, -82.4394213926801, 40.0497860717945], &quot;geometry&quot;: {&quot;coordinates&quot;: [-82.4394213926801, 40.0497860717945], &quot;type&quot;: &quot;Point&quot;}, &quot;id&quot;: &quot;57&quot;, &quot;properties&quot;: {&quot;ADDRESS&quot;: &quot;990 W. Main St&quot;, &quot;NAME&quot;: &quot;Newark Public Library Emerson Miller Branch&quot;}, &quot;type&quot;: &quot;Feature&quot;}, {&quot;bbox&quot;: [-82.4061028616415, 40.0559756534757, -82.4061028616415, 40.0559756534757], &quot;geometry&quot;: {&quot;coordinates&quot;: [-82.4061028616415, 40.0559756534757], &quot;type&quot;: &quot;Point&quot;}, &quot;id&quot;: &quot;58&quot;, &quot;properties&quot;: {&quot;ADDRESS&quot;: &quot;101 W. Main St&quot;, &quot;NAME&quot;: &quot;Licking County Newark Public Library&quot;}, &quot;type&quot;: &quot;Feature&quot;}, {&quot;bbox&quot;: [-82.6783976875294, 40.0002439979398, -82.6783976875294, 40.0002439979398], &quot;geometry&quot;: {&quot;coordinates&quot;: [-82.6783976875294, 40.0002439979398], &quot;type&quot;: &quot;Point&quot;}, &quot;id&quot;: &quot;59&quot;, &quot;properties&quot;: {&quot;ADDRESS&quot;: &quot;101 S. Vine St&quot;, &quot;NAME&quot;: &quot;Pataskala Public Library&quot;}, &quot;type&quot;: &quot;Feature&quot;}, {&quot;bbox&quot;: [-82.5040138828041, 39.9603567255153, -82.5040138828041, 39.9603567255153], &quot;geometry&quot;: {&quot;coordinates&quot;: [-82.5040138828041, 39.9603567255153], &quot;type&quot;: &quot;Point&quot;}, &quot;id&quot;: &quot;60&quot;, &quot;properties&quot;: {&quot;ADDRESS&quot;: &quot;934 W. Main St&quot;, &quot;NAME&quot;: &quot;Newark Public Library Hebron Branch&quot;}, &quot;type&quot;: &quot;Feature&quot;}, {&quot;bbox&quot;: [-82.6853942607652, 40.1530389382747, -82.6853942607652, 40.1530389382747], &quot;geometry&quot;: {&quot;coordinates&quot;: [-82.6853942607652, 40.1530389382747], &quot;type&quot;: &quot;Point&quot;}, &quot;id&quot;: &quot;61&quot;, &quot;properties&quot;: {&quot;ADDRESS&quot;: &quot;320 N. Maint St&quot;, &quot;NAME&quot;: &quot;Newark Public Library Johnstown Branch&quot;}, &quot;type&quot;: &quot;Feature&quot;}, {&quot;bbox&quot;: [-82.980380264528, 40.1229618505792, -82.980380264528, 40.1229618505792], &quot;geometry&quot;: {&quot;coordinates&quot;: [-82.980380264528, 40.1229618505792], &quot;type&quot;: &quot;Point&quot;}, &quot;id&quot;: &quot;62&quot;, &quot;properties&quot;: {&quot;ADDRESS&quot;: &quot;1389 Worthington Centre Dr&quot;, &quot;NAME&quot;: &quot;Worthington Park Library&quot;}, &quot;type&quot;: &quot;Feature&quot;}, {&quot;bbox&quot;: [-82.9995411945757, 39.9541227537836, -82.9995411945757, 39.9541227537836], &quot;geometry&quot;: {&quot;coordinates&quot;: [-82.9995411945757, 39.9541227537836], &quot;type&quot;: &quot;Point&quot;}, &quot;id&quot;: &quot;63&quot;, &quot;properties&quot;: {&quot;ADDRESS&quot;: &quot;369 S High St 10th Fl&quot;, &quot;NAME&quot;: &quot;Columbus Law Library&quot;}, &quot;type&quot;: &quot;Feature&quot;}, {&quot;bbox&quot;: [-82.996000859998, 39.9811655797924, -82.996000859998, 39.9811655797924], &quot;geometry&quot;: {&quot;coordinates&quot;: [-82.996000859998, 39.9811655797924], &quot;type&quot;: &quot;Point&quot;}, &quot;id&quot;: &quot;64&quot;, &quot;properties&quot;: {&quot;ADDRESS&quot;: &quot;274 E 1st Ave Ste 100&quot;, &quot;NAME&quot;: &quot;State Library Of Ohio&quot;}, &quot;type&quot;: &quot;Feature&quot;}, {&quot;bbox&quot;: [-82.9649032220998, 39.9105152700423, -82.9649032220998, 39.9105152700423], &quot;geometry&quot;: {&quot;coordinates&quot;: [-82.9649032220998, 39.9105152700423], &quot;type&quot;: &quot;Point&quot;}, &quot;id&quot;: &quot;65&quot;, &quot;properties&quot;: {&quot;ADDRESS&quot;: &quot;2740 Lockbourne Rd&quot;, &quot;NAME&quot;: &quot;CML Marion-Franklin&quot;}, &quot;type&quot;: &quot;Feature&quot;}, {&quot;bbox&quot;: [-82.810232180814, 39.840974352012, -82.810232180814, 39.840974352012], &quot;geometry&quot;: {&quot;coordinates&quot;: [-82.810232180814, 39.840974352012], &quot;type&quot;: &quot;Point&quot;}, &quot;id&quot;: &quot;66&quot;, &quot;properties&quot;: {&quot;ADDRESS&quot;: &quot;115 Franklin St&quot;, &quot;NAME&quot;: &quot;CML Canal Winchester Branch&quot;}, &quot;type&quot;: &quot;Feature&quot;}, {&quot;bbox&quot;: [-83.7525768626904, 40.5070217986525, -83.7525768626904, 40.5070217986525], &quot;geometry&quot;: {&quot;coordinates&quot;: [-83.7525768626904, 40.5070217986525], &quot;type&quot;: &quot;Point&quot;}, &quot;id&quot;: &quot;67&quot;, &quot;properties&quot;: {&quot;ADDRESS&quot;: &quot;103 S. Elizabeth St&quot;, &quot;NAME&quot;: &quot;Belle Center Free Public Library&quot;}, &quot;type&quot;: &quot;Feature&quot;}, {&quot;bbox&quot;: [-82.9813244175534, 39.3298618160501, -82.9813244175534, 39.3298618160501], &quot;geometry&quot;: {&quot;coordinates&quot;: [-82.9813244175534, 39.3298618160501], &quot;type&quot;: &quot;Point&quot;}, &quot;id&quot;: &quot;68&quot;, &quot;properties&quot;: {&quot;ADDRESS&quot;: &quot;140 S. Paint St&quot;, &quot;NAME&quot;: &quot;Chillicothe and Ross County Public Library&quot;}, &quot;type&quot;: &quot;Feature&quot;}, {&quot;bbox&quot;: [-83.4371759125388, 39.5364646993212, -83.4371759125388, 39.5364646993212], &quot;geometry&quot;: {&quot;coordinates&quot;: [-83.4371759125388, 39.5364646993212], &quot;type&quot;: &quot;Point&quot;}, &quot;id&quot;: &quot;69&quot;, &quot;properties&quot;: {&quot;ADDRESS&quot;: &quot;127 S. North St&quot;, &quot;NAME&quot;: &quot;Carnegie Public Library&quot;}, &quot;type&quot;: &quot;Feature&quot;}, {&quot;bbox&quot;: [-82.4052486570151, 39.5400379297169, -82.4052486570151, 39.5400379297169], &quot;geometry&quot;: {&quot;coordinates&quot;: [-82.4052486570151, 39.5400379297169], &quot;type&quot;: &quot;Point&quot;}, &quot;id&quot;: &quot;70&quot;, &quot;properties&quot;: {&quot;ADDRESS&quot;: &quot;230 E. Main St&quot;, &quot;NAME&quot;: &quot;Logan-Hocking County District Library&quot;}, &quot;type&quot;: &quot;Feature&quot;}, {&quot;bbox&quot;: [-82.6951834447364, 40.3050194882421, -82.6951834447364, 40.3050194882421], &quot;geometry&quot;: {&quot;coordinates&quot;: [-82.6951834447364, 40.3050194882421], &quot;type&quot;: &quot;Point&quot;}, &quot;id&quot;: &quot;71&quot;, &quot;properties&quot;: {&quot;ADDRESS&quot;: &quot;49 E. Main St.&quot;, &quot;NAME&quot;: &quot;Centurburg Public Library&quot;}, &quot;type&quot;: &quot;Feature&quot;}, {&quot;bbox&quot;: [-82.4866006262204, 40.3955577344148, -82.4866006262204, 40.3955577344148], &quot;geometry&quot;: {&quot;coordinates&quot;: [-82.4866006262204, 40.3955577344148], &quot;type&quot;: &quot;Point&quot;}, &quot;id&quot;: &quot;72&quot;, &quot;properties&quot;: {&quot;ADDRESS&quot;: &quot;201 N. Mulberry St&quot;, &quot;NAME&quot;: &quot;Public Library of Mount Vernon and Knox County&quot;}, &quot;type&quot;: &quot;Feature&quot;}, {&quot;bbox&quot;: [-83.5456126851801, 40.4023489025917, -83.5456126851801, 40.4023489025917], &quot;geometry&quot;: {&quot;coordinates&quot;: [-83.5456126851801, 40.4023489025917], &quot;type&quot;: &quot;Point&quot;}, &quot;id&quot;: &quot;73&quot;, &quot;properties&quot;: {&quot;ADDRESS&quot;: &quot;127 N. Main St&quot;, &quot;NAME&quot;: &quot;West Mansfield Branch Library&quot;}, &quot;type&quot;: &quot;Feature&quot;}, {&quot;bbox&quot;: [-83.6767931035504, 40.3377025381221, -83.6767931035504, 40.3377025381221], &quot;geometry&quot;: {&quot;coordinates&quot;: [-83.6767931035504, 40.3377025381221], &quot;type&quot;: &quot;Point&quot;}, &quot;id&quot;: &quot;74&quot;, &quot;properties&quot;: {&quot;ADDRESS&quot;: &quot;2817 Sandusky St&quot;, &quot;NAME&quot;: &quot;Dr. Earl S. Sloan Library&quot;}, &quot;type&quot;: &quot;Feature&quot;}, {&quot;bbox&quot;: [-83.6717411857932, 40.4611121869309, -83.6717411857932, 40.4611121869309], &quot;geometry&quot;: {&quot;coordinates&quot;: [-83.6717411857932, 40.4611121869309], &quot;type&quot;: &quot;Point&quot;}, &quot;id&quot;: &quot;75&quot;, &quot;properties&quot;: {&quot;ADDRESS&quot;: &quot;113 N. Sandusky St&quot;, &quot;NAME&quot;: &quot;Rushsylvania Branch Library&quot;}, &quot;type&quot;: &quot;Feature&quot;}, {&quot;bbox&quot;: [-83.7558287729848, 40.2524807964721, -83.7558287729848, 40.2524807964721], &quot;geometry&quot;: {&quot;coordinates&quot;: [-83.7558287729848, 40.2524807964721], &quot;type&quot;: &quot;Point&quot;}, &quot;id&quot;: &quot;76&quot;, &quot;properties&quot;: {&quot;ADDRESS&quot;: &quot;117 N. Detroit St&quot;, &quot;NAME&quot;: &quot;West Liberty Branch Library&quot;}, &quot;type&quot;: &quot;Feature&quot;}, {&quot;bbox&quot;: [-83.7591308303044, 40.3636880787365, -83.7591308303044, 40.3636880787365], &quot;geometry&quot;: {&quot;coordinates&quot;: [-83.7591308303044, 40.3636880787365], &quot;type&quot;: &quot;Point&quot;}, &quot;id&quot;: &quot;77&quot;, &quot;properties&quot;: {&quot;ADDRESS&quot;: &quot;220 N. Main St&quot;, &quot;NAME&quot;: &quot;Logan County Libraries&quot;}, &quot;type&quot;: &quot;Feature&quot;}, {&quot;bbox&quot;: [-83.9156220186993, 40.3100386909899, -83.9156220186993, 40.3100386909899], &quot;geometry&quot;: {&quot;coordinates&quot;: [-83.9156220186993, 40.3100386909899], &quot;type&quot;: &quot;Point&quot;}, &quot;id&quot;: &quot;78&quot;, &quot;properties&quot;: {&quot;ADDRESS&quot;: &quot;122 S. Main St&quot;, &quot;NAME&quot;: &quot;DeGraff Branch Library&quot;}, &quot;type&quot;: &quot;Feature&quot;}, {&quot;bbox&quot;: [-83.9241912264021, 40.4852868816878, -83.9241912264021, 40.4852868816878], &quot;geometry&quot;: {&quot;coordinates&quot;: [-83.9241912264021, 40.4852868816878], &quot;type&quot;: &quot;Point&quot;}, &quot;id&quot;: &quot;79&quot;, &quot;properties&quot;: {&quot;ADDRESS&quot;: &quot;130 N. Main St&quot;, &quot;NAME&quot;: &quot;Lakeview Branch Library&quot;}, &quot;type&quot;: &quot;Feature&quot;}, {&quot;bbox&quot;: [-83.1892798100166, 40.4506759600497, -83.1892798100166, 40.4506759600497], &quot;geometry&quot;: {&quot;coordinates&quot;: [-83.1892798100166, 40.4506759600497], &quot;type&quot;: &quot;Point&quot;}, &quot;id&quot;: &quot;80&quot;, &quot;properties&quot;: {&quot;ADDRESS&quot;: &quot;116 N. Main St&quot;, &quot;NAME&quot;: &quot;Prospect Public Library&quot;}, &quot;type&quot;: &quot;Feature&quot;}, {&quot;bbox&quot;: [-83.384494854428, 40.5760852651449, -83.384494854428, 40.5760852651449], &quot;geometry&quot;: {&quot;coordinates&quot;: [-83.384494854428, 40.5760852651449], &quot;type&quot;: &quot;Point&quot;}, &quot;id&quot;: &quot;81&quot;, &quot;properties&quot;: {&quot;ADDRESS&quot;: &quot;86 S. High St&quot;, &quot;NAME&quot;: &quot;Henkle-Holiday Memorial Library&quot;}, &quot;type&quot;: &quot;Feature&quot;}, {&quot;bbox&quot;: [-83.1197299391342, 40.5873305203235, -83.1197299391342, 40.5873305203235], &quot;geometry&quot;: {&quot;coordinates&quot;: [-83.1197299391342, 40.5873305203235], &quot;type&quot;: &quot;Point&quot;}, &quot;id&quot;: &quot;82&quot;, &quot;properties&quot;: {&quot;ADDRESS&quot;: &quot;445 E. Church St&quot;, &quot;NAME&quot;: &quot;Marion Public Library&quot;}, &quot;type&quot;: &quot;Feature&quot;}, {&quot;bbox&quot;: [-82.9705738438752, 40.637047759179, -82.9705738438752, 40.637047759179], &quot;geometry&quot;: {&quot;coordinates&quot;: [-82.9705738438752, 40.637047759179], &quot;type&quot;: &quot;Point&quot;}, &quot;id&quot;: &quot;83&quot;, &quot;properties&quot;: {&quot;ADDRESS&quot;: &quot;112 E. Marion St&quot;, &quot;NAME&quot;: &quot;Caledonia Public Library&quot;}, &quot;type&quot;: &quot;Feature&quot;}, {&quot;bbox&quot;: [-82.6610737233374, 40.621512343121, -82.6610737233374, 40.621512343121], &quot;geometry&quot;: {&quot;coordinates&quot;: [-82.6610737233374, 40.621512343121], &quot;type&quot;: &quot;Point&quot;}, &quot;id&quot;: &quot;84&quot;, &quot;properties&quot;: {&quot;ADDRESS&quot;: &quot;7406 County Road 242&quot;, &quot;NAME&quot;: &quot;Perry Cook Memorial Public Library&quot;}, &quot;type&quot;: &quot;Feature&quot;}, {&quot;bbox&quot;: [-82.8270338022759, 40.5489186801188, -82.8270338022759, 40.5489186801188], &quot;geometry&quot;: {&quot;coordinates&quot;: [-82.8270338022759, 40.5489186801188], &quot;type&quot;: &quot;Point&quot;}, &quot;id&quot;: &quot;85&quot;, &quot;properties&quot;: {&quot;ADDRESS&quot;: &quot;41 E. High St&quot;, &quot;NAME&quot;: &quot;Mount Gilead Free Public Library&quot;}, &quot;type&quot;: &quot;Feature&quot;}, {&quot;bbox&quot;: [-82.6837729298785, 40.4803932430714, -82.6837729298785, 40.4803932430714], &quot;geometry&quot;: {&quot;coordinates&quot;: [-82.6837729298785, 40.4803932430714], &quot;type&quot;: &quot;Point&quot;}, &quot;id&quot;: &quot;86&quot;, &quot;properties&quot;: {&quot;ADDRESS&quot;: &quot;31 State Route 95&quot;, &quot;NAME&quot;: &quot;Selover Public Library&quot;}, &quot;type&quot;: &quot;Feature&quot;}, {&quot;bbox&quot;: [-82.4172821495579, 39.8960911438767, -82.4172821495579, 39.8960911438767], &quot;geometry&quot;: {&quot;coordinates&quot;: [-82.4172821495579, 39.8960911438767], &quot;type&quot;: &quot;Point&quot;}, &quot;id&quot;: &quot;87&quot;, &quot;properties&quot;: {&quot;ADDRESS&quot;: &quot;99 E. Columbus St&quot;, &quot;NAME&quot;: &quot;Perry County District Library Branch&quot;}, &quot;type&quot;: &quot;Feature&quot;}, {&quot;bbox&quot;: [-82.3002116548932, 39.8064887997414, -82.3002116548932, 39.8064887997414], &quot;geometry&quot;: {&quot;coordinates&quot;: [-82.3002116548932, 39.8064887997414], &quot;type&quot;: &quot;Point&quot;}, &quot;id&quot;: &quot;88&quot;, &quot;properties&quot;: {&quot;ADDRESS&quot;: &quot;117 W. Main St&quot;, &quot;NAME&quot;: &quot;Perry County District Library Branch&quot;}, &quot;type&quot;: &quot;Feature&quot;}, {&quot;bbox&quot;: [-82.0945688908402, 39.7695797860738, -82.0945688908402, 39.7695797860738], &quot;geometry&quot;: {&quot;coordinates&quot;: [-82.0945688908402, 39.7695797860738], &quot;type&quot;: &quot;Point&quot;}, &quot;id&quot;: &quot;89&quot;, &quot;properties&quot;: {&quot;ADDRESS&quot;: &quot;11 E. Main St&quot;, &quot;NAME&quot;: &quot;Perry County District Library Branch&quot;}, &quot;type&quot;: &quot;Feature&quot;}, {&quot;bbox&quot;: [-82.300130293338, 39.7210992984575, -82.300130293338, 39.7210992984575], &quot;geometry&quot;: {&quot;coordinates&quot;: [-82.300130293338, 39.7210992984575], &quot;type&quot;: &quot;Point&quot;}, &quot;id&quot;: &quot;90&quot;, &quot;properties&quot;: {&quot;ADDRESS&quot;: &quot;108 W. Main St&quot;, &quot;NAME&quot;: &quot;Perry County District Library Branch&quot;}, &quot;type&quot;: &quot;Feature&quot;}, {&quot;bbox&quot;: [-82.2061174031537, 39.7140481561472, -82.2061174031537, 39.7140481561472], &quot;geometry&quot;: {&quot;coordinates&quot;: [-82.2061174031537, 39.7140481561472], &quot;type&quot;: &quot;Point&quot;}, &quot;id&quot;: &quot;91&quot;, &quot;properties&quot;: {&quot;ADDRESS&quot;: &quot;117 S. Jackson St&quot;, &quot;NAME&quot;: &quot;Perry County District Library&quot;}, &quot;type&quot;: &quot;Feature&quot;}, {&quot;bbox&quot;: [-82.2367065380701, 39.5775427271723, -82.2367065380701, 39.5775427271723], &quot;geometry&quot;: {&quot;coordinates&quot;: [-82.2367065380701, 39.5775427271723], &quot;type&quot;: &quot;Point&quot;}, &quot;id&quot;: &quot;92&quot;, &quot;properties&quot;: {&quot;ADDRESS&quot;: &quot;102 E. Main St.&quot;, &quot;NAME&quot;: &quot;New Straitsville Public Library&quot;}, &quot;type&quot;: &quot;Feature&quot;}, {&quot;bbox&quot;: [-82.087584035686, 39.6026551729388, -82.087584035686, 39.6026551729388], &quot;geometry&quot;: {&quot;coordinates&quot;: [-82.087584035686, 39.6026551729388], &quot;type&quot;: &quot;Point&quot;}, &quot;id&quot;: &quot;93&quot;, &quot;properties&quot;: {&quot;ADDRESS&quot;: &quot;113 11th Hill St&quot;, &quot;NAME&quot;: &quot;Perry County District Library Branch&quot;}, &quot;type&quot;: &quot;Feature&quot;}, {&quot;bbox&quot;: [-82.8933137097604, 40.5006698242389, -82.8933137097604, 40.5006698242389], &quot;geometry&quot;: {&quot;coordinates&quot;: [-82.8933137097604, 40.5006698242389], &quot;type&quot;: &quot;Point&quot;}, &quot;id&quot;: &quot;94&quot;, &quot;properties&quot;: {&quot;ADDRESS&quot;: &quot;128 E. Main St&quot;, &quot;NAME&quot;: &quot;Cardington-Lincoln Public Library&quot;}, &quot;type&quot;: &quot;Feature&quot;}], &quot;type&quot;: &quot;FeatureCollection&quot;});\n",
       "\n",
       "        \n",
       "    \n",
       "    geo_json_a576459a6e663a2188c342f526f6165f.bindTooltip(\n",
       "    function(layer){\n",
       "    let div = L.DomUtil.create(&#x27;div&#x27;);\n",
       "    \n",
       "    let handleObject = feature=&gt;typeof(feature)==&#x27;object&#x27; ? JSON.stringify(feature) : feature;\n",
       "    let fields = [&quot;NAME&quot;, &quot;ADDRESS&quot;];\n",
       "    let aliases = [&quot;NAME&quot;, &quot;ADDRESS&quot;];\n",
       "    let table = &#x27;&lt;table&gt;&#x27; +\n",
       "        String(\n",
       "        fields.map(\n",
       "        (v,i)=&gt;\n",
       "        `&lt;tr&gt;\n",
       "            &lt;th&gt;${aliases[i]}&lt;/th&gt;\n",
       "            \n",
       "            &lt;td&gt;${handleObject(layer.feature.properties[v])}&lt;/td&gt;\n",
       "        &lt;/tr&gt;`).join(&#x27;&#x27;))\n",
       "    +&#x27;&lt;/table&gt;&#x27;;\n",
       "    div.innerHTML=table;\n",
       "    \n",
       "    return div\n",
       "    }\n",
       "    ,{\n",
       "  &quot;sticky&quot;: true,\n",
       "  &quot;className&quot;: &quot;foliumtooltip&quot;,\n",
       "});\n",
       "                     \n",
       "    \n",
       "            geo_json_a576459a6e663a2188c342f526f6165f.addTo(map_6b652b24b6eeaa9bb51153aca6918dac);\n",
       "        \n",
       "&lt;/script&gt;\n",
       "&lt;/html&gt;\" style=\"position:absolute;width:100%;height:100%;left:0;top:0;border:none !important;\" allowfullscreen webkitallowfullscreen mozallowfullscreen></iframe></div></div>"
      ],
      "text/plain": [
       "<folium.folium.Map at 0x1ea3f7104d0>"
      ]
     },
     "execution_count": 47,
     "metadata": {},
     "output_type": "execute_result"
    }
   ],
   "source": [
    "libraries.explore(style_kwds={\"radius\":4})"
   ]
  },
  {
   "cell_type": "markdown",
   "id": "85159d11-9ad0-48f2-b01c-b046618d071c",
   "metadata": {},
   "source": [
    "Use the `assign_geo_identifiers()` function to iterate through the requested geography levels (in this case \"county\" and \"place\"), labeling each point with the identifier of the geography in each level where the point is located."
   ]
  },
  {
   "cell_type": "code",
   "execution_count": 49,
   "id": "40da6862-fa29-4320-83b1-6501dd8d7c28",
   "metadata": {
    "editable": true,
    "slideshow": {
     "slide_type": ""
    },
    "tags": []
   },
   "outputs": [],
   "source": [
    "#librariesEnriched = morpc.assign_geo_identifiers(libraries, [\"county\",\"place\"])"
   ]
  },
  {
   "cell_type": "markdown",
   "id": "2f6a9bbb-76b1-4244-9133-07dd44a063f1",
   "metadata": {
    "editable": true,
    "slideshow": {
     "slide_type": ""
    },
    "tags": []
   },
   "source": [
    "Note that two columns have been added to the dataframe, one that contains the identifier for the county the library is located in and one that contains the identifier for the place.  "
   ]
  },
  {
   "cell_type": "code",
   "execution_count": 50,
   "id": "40dfde88-0230-47e4-9db7-2619cff6f9b9",
   "metadata": {
    "editable": true,
    "slideshow": {
     "slide_type": ""
    },
    "tags": []
   },
   "outputs": [
    {
     "ename": "NameError",
     "evalue": "name 'librariesEnriched' is not defined",
     "output_type": "error",
     "traceback": [
      "\u001b[31m---------------------------------------------------------------------------\u001b[39m",
      "\u001b[31mNameError\u001b[39m                                 Traceback (most recent call last)",
      "\u001b[36mCell\u001b[39m\u001b[36m \u001b[39m\u001b[32mIn[50]\u001b[39m\u001b[32m, line 1\u001b[39m\n\u001b[32m----> \u001b[39m\u001b[32m1\u001b[39m \u001b[43mlibrariesEnriched\u001b[49m.head()\n",
      "\u001b[31mNameError\u001b[39m: name 'librariesEnriched' is not defined"
     ]
    }
   ],
   "source": [
    "#librariesEnriched.head()"
   ]
  },
  {
   "cell_type": "markdown",
   "id": "f3d7264f-5340-49db-8b1d-885428db7948",
   "metadata": {
    "editable": true,
    "slideshow": {
     "slide_type": ""
    },
    "tags": []
   },
   "source": [
    "Let's take a look at libraries, symbolizing each according to the county where it is located."
   ]
  },
  {
   "cell_type": "code",
   "execution_count": null,
   "id": "34541f4d-405a-4fb9-91fe-97186f7f66bf",
   "metadata": {
    "tags": []
   },
   "outputs": [],
   "source": [
    "librariesEnriched.explore(column=\"id_county\", style_kwds={\"radius\":4})"
   ]
  },
  {
   "cell_type": "markdown",
   "id": "c5b815f8-1ffd-4aed-9a0f-29f9f25bac6b",
   "metadata": {},
   "source": [
    "Let's take another look, this time symbolizing each library according to the place where it is located.  The legend has been suppressed because there are too many unique values, but you can hover over each point to see the place identifier that has been assigned to it."
   ]
  },
  {
   "cell_type": "code",
   "execution_count": null,
   "id": "201114d9-ab9c-4853-953e-0006e8a3aa64",
   "metadata": {
    "tags": []
   },
   "outputs": [],
   "source": [
    "librariesEnriched.explore(column=\"id_place\", style_kwds={\"radius\":4}, legend=False)"
   ]
  },
  {
   "cell_type": "markdown",
   "id": "7092a14a-e4b1-4dc6-be4a-4b3b280a5dfa",
   "metadata": {
    "editable": true,
    "slideshow": {
     "slide_type": ""
    },
    "tags": []
   },
   "source": [
    "# morpc.frictionless - Schema tools (TableSchema)"
   ]
  },
  {
   "cell_type": "markdown",
   "id": "ac1d87d8-cc9d-4a37-8f25-51f1a56abead",
   "metadata": {
    "editable": true,
    "slideshow": {
     "slide_type": ""
    },
    "tags": []
   },
   "source": [
    "As of January 2024 the Data Team is considering a new standard for machine-readable metadata, namely [TableSchema](https://specs.frictionlessdata.io/table-schema/).  TableSchema is a schema for tabular formats that includes many of the features for Avro (see above) plus rich types and constraints. TableSchema is supported in [Python](https://pypi.org/project/tableschema/) and [R](https://www.rdocumentation.org/packages/tableschema.r/), and the libraries include many utilty functions.\n",
    "\n",
    "The foundation of the morpc.frictionless is [frictionless-py](https://github.com/frictionlessdata/frictionless-py). The functions are written to create and load resources. "
   ]
  },
  {
   "cell_type": "markdown",
   "id": "121732ac-8577-4fab-80e0-dfa82a3d43d5",
   "metadata": {
    "editable": true,
    "slideshow": {
     "slide_type": ""
    },
    "tags": []
   },
   "source": [
    "The foundation of the frictionless framework are [resouces](https://framework.frictionlessdata.io/docs/resources/file.html). Resources are structured json or yaml files that include metadata for the a file or number of files. "
   ]
  },
  {
   "cell_type": "code",
   "execution_count": 51,
   "id": "109fddf9-d2af-4da8-8a6e-1a5906211d40",
   "metadata": {
    "editable": true,
    "slideshow": {
     "slide_type": ""
    },
    "tags": []
   },
   "outputs": [],
   "source": [
    "df = pd.read_excel('./temp_data/dataChartToExcelOutput.xlsx') ## import sample data from temp_data"
   ]
  },
  {
   "cell_type": "code",
   "execution_count": 52,
   "id": "076ae79e-f5eb-4a02-9115-576bc57920e9",
   "metadata": {
    "editable": true,
    "slideshow": {
     "slide_type": ""
    },
    "tags": []
   },
   "outputs": [],
   "source": [
    "df.columns = [\"column1\", \"column2\", \"column3\"] ## give some reasonable names to columns"
   ]
  },
  {
   "cell_type": "code",
   "execution_count": 53,
   "id": "1bea5da0-cc7c-44a6-8c50-3833721a1d47",
   "metadata": {
    "editable": true,
    "slideshow": {
     "slide_type": ""
    },
    "tags": []
   },
   "outputs": [],
   "source": [
    "df.to_csv('./temp_data/temp_df.csv', index=False) ## save a csv"
   ]
  },
  {
   "cell_type": "markdown",
   "id": "a47b5f02-a9e7-4c55-ab09-dbed3288864a",
   "metadata": {
    "editable": true,
    "slideshow": {
     "slide_type": ""
    },
    "tags": []
   },
   "source": [
    "Typically we will create some constant variable name for the file, resource, and schema. The resource and schema are stored in yaml files. "
   ]
  },
  {
   "cell_type": "code",
   "execution_count": 54,
   "id": "36fed608-13ce-4f77-ae9e-ae1eaccfc2b4",
   "metadata": {
    "editable": true,
    "slideshow": {
     "slide_type": ""
    },
    "tags": []
   },
   "outputs": [],
   "source": [
    "RESOURCE_DIR = './temp_data/'\n",
    "TABLE_FILE_NAME = 'temp_df.csv'\n",
    "TABLE_RESOURCE_NAME = TABLE_FILE_NAME.replace('.csv', '.resource.yaml')\n",
    "TABLE_SCHEMA_NAME = TABLE_FILE_NAME.replace('.csv', '.schema.yaml')"
   ]
  },
  {
   "cell_type": "markdown",
   "id": "fbe642f8-2b5c-4eba-9b65-9cd6650a56e2",
   "metadata": {
    "editable": true,
    "slideshow": {
     "slide_type": ""
    },
    "tags": []
   },
   "source": [
    "Schema can be defined manually, or can be created via standard frictionless functions. "
   ]
  },
  {
   "cell_type": "code",
   "execution_count": 55,
   "id": "26284e46-b023-47c3-add1-7fab025b6cb3",
   "metadata": {
    "editable": true,
    "slideshow": {
     "slide_type": ""
    },
    "tags": []
   },
   "outputs": [],
   "source": [
    "import frictionless"
   ]
  },
  {
   "cell_type": "code",
   "execution_count": 56,
   "id": "29af185f-8f92-40f7-9e3c-bd2ed156b3d2",
   "metadata": {
    "editable": true,
    "slideshow": {
     "slide_type": ""
    },
    "tags": []
   },
   "outputs": [
    {
     "data": {
      "text/plain": [
       "'fields:\\n  - name: column1\\n    type: integer\\n  - name: column2\\n    type: integer\\n  - name: column3\\n    type: integer\\n'"
      ]
     },
     "execution_count": 56,
     "metadata": {},
     "output_type": "execute_result"
    }
   ],
   "source": [
    "frictionless.Schema.describe(os.path.join(RESOURCE_DIR, TABLE_FILE_NAME)).to_yaml(os.path.join(RESOURCE_DIR, TABLE_SCHEMA_NAME)) ## Create a default schema and save as a yaml"
   ]
  },
  {
   "cell_type": "markdown",
   "id": "49c9d286-1749-42d5-b7bf-4ab0c61d0d3d",
   "metadata": {
    "editable": true,
    "slideshow": {
     "slide_type": ""
    },
    "tags": []
   },
   "source": [
    "### Create a resource"
   ]
  },
  {
   "cell_type": "code",
   "execution_count": 57,
   "id": "5232cc03-0717-468a-9068-d3e1ac6e4739",
   "metadata": {
    "editable": true,
    "slideshow": {
     "slide_type": ""
    },
    "tags": []
   },
   "outputs": [
    {
     "name": "stdout",
     "output_type": "stream",
     "text": [
      "morpc.create_resource | INFO | Writing Frictionless Resource file to temp_data\\temp_df.resource.yaml\n",
      "morpc.create_resource | INFO | Validating resource on disk.\n",
      "morpc.validate_resource | INFO | Validating resource on disk (including data and schema). This may take some time.\n",
      "morpc.validate_resource | INFO | Resource is valid\n"
     ]
    },
    {
     "data": {
      "text/plain": [
       "{'name': 'temp_df',\n",
       " 'type': 'table',\n",
       " 'title': 'A title for the resource',\n",
       " 'description': 'A description of the resource to explain what it contains.',\n",
       " 'profile': 'data-resource',\n",
       " 'path': 'temp_df.csv',\n",
       " 'scheme': 'file',\n",
       " 'format': 'csv',\n",
       " 'mediatype': 'text/csv',\n",
       " 'hash': '3f0fe472ad7bf42606eba5184f838dab',\n",
       " 'bytes': 53,\n",
       " 'schema': 'temp_df.schema.yaml'}"
      ]
     },
     "execution_count": 57,
     "metadata": {},
     "output_type": "execute_result"
    }
   ],
   "source": [
    "morpc.frictionless.create_resource(TABLE_FILE_NAME, # the filename relative to resource dir, often just filename\n",
    "                                   resourcePath=os.path.join(RESOURCE_DIR, TABLE_RESOURCE_NAME), # file path to resource location\n",
    "                                   schemaPath=TABLE_SCHEMA_NAME, # path of schema relative to resource dir\n",
    "                                   name = \"temp_df\", # simple name\n",
    "                                   title = \"A title for the resource\", # A human readable title\n",
    "                                   description = \"A description of the resource to explain what it contains.\", # A full description\n",
    "                                   writeResource = True, # Boolean - Whether to archive the resouce file \n",
    "                                   resFormat = \"csv\",\n",
    "                                   resMediaType= \"text/csv\",  \n",
    "                                   computeBytes= True, # Compute the size if the file in bytes\n",
    "                                   computeHash = True, # Create a md5 hash of the file, a unique string to check if file has been changed.\n",
    "                                   validate=True # Validate the resource after creating\n",
    "                                  )"
   ]
  },
  {
   "cell_type": "markdown",
   "id": "d0250765-5c95-47b0-802a-54806038d459",
   "metadata": {
    "editable": true,
    "slideshow": {
     "slide_type": ""
    },
    "tags": []
   },
   "source": [
    "Load data from a resource file. Returns the data, a resource, and the schema"
   ]
  },
  {
   "cell_type": "markdown",
   "id": "1239f34f-59f1-4964-bbb1-3156864e0940",
   "metadata": {
    "editable": true,
    "slideshow": {
     "slide_type": ""
    },
    "tags": []
   },
   "source": [
    "### Load data from a resource file"
   ]
  },
  {
   "cell_type": "code",
   "execution_count": 58,
   "id": "14390a5d-ba51-4164-ae03-8ddbdafa95cc",
   "metadata": {
    "editable": true,
    "slideshow": {
     "slide_type": ""
    },
    "tags": []
   },
   "outputs": [
    {
     "name": "stdout",
     "output_type": "stream",
     "text": [
      "morpc.load_data | INFO | Loading Frictionless Resource file at location temp_data\\temp_df.resource.yaml\n",
      "morpc.load_data | INFO | Loading data, resource file, and schema from their source locations\n",
      "morpc.load_data | INFO | --> Data file: temp_data\\temp_df.csv\n",
      "morpc.load_data | INFO | --> Resource file: temp_data\\temp_df.resource.yaml\n",
      "morpc.load_data | INFO | --> Schema file: temp_data\\temp_df.schema.yaml\n",
      "morpc.load_data | INFO | Loading data.\n",
      "cast_field_types | INFO | Casting field column1 as type integer.\n",
      "cast_field_types | INFO | Casting field column2 as type integer.\n",
      "cast_field_types | INFO | Casting field column3 as type integer.\n"
     ]
    }
   ],
   "source": [
    "data, resource, schema = morpc.frictionless.load_data(os.path.join(RESOURCE_DIR, TABLE_RESOURCE_NAME))"
   ]
  },
  {
   "cell_type": "code",
   "execution_count": 59,
   "id": "45f361f6-9b40-4270-b9c9-88f87acc5719",
   "metadata": {
    "editable": true,
    "slideshow": {
     "slide_type": ""
    },
    "tags": []
   },
   "outputs": [
    {
     "data": {
      "text/html": [
       "<div>\n",
       "<style scoped>\n",
       "    .dataframe tbody tr th:only-of-type {\n",
       "        vertical-align: middle;\n",
       "    }\n",
       "\n",
       "    .dataframe tbody tr th {\n",
       "        vertical-align: top;\n",
       "    }\n",
       "\n",
       "    .dataframe thead th {\n",
       "        text-align: right;\n",
       "    }\n",
       "</style>\n",
       "<table border=\"1\" class=\"dataframe\">\n",
       "  <thead>\n",
       "    <tr style=\"text-align: right;\">\n",
       "      <th></th>\n",
       "      <th>column1</th>\n",
       "      <th>column2</th>\n",
       "      <th>column3</th>\n",
       "    </tr>\n",
       "  </thead>\n",
       "  <tbody>\n",
       "    <tr>\n",
       "      <th>0</th>\n",
       "      <td>0</td>\n",
       "      <td>1</td>\n",
       "      <td>3</td>\n",
       "    </tr>\n",
       "    <tr>\n",
       "      <th>1</th>\n",
       "      <td>1</td>\n",
       "      <td>2</td>\n",
       "      <td>4</td>\n",
       "    </tr>\n",
       "    <tr>\n",
       "      <th>2</th>\n",
       "      <td>2</td>\n",
       "      <td>3</td>\n",
       "      <td>5</td>\n",
       "    </tr>\n",
       "    <tr>\n",
       "      <th>3</th>\n",
       "      <td>3</td>\n",
       "      <td>4</td>\n",
       "      <td>6</td>\n",
       "    </tr>\n",
       "  </tbody>\n",
       "</table>\n",
       "</div>"
      ],
      "text/plain": [
       "   column1  column2  column3\n",
       "0        0        1        3\n",
       "1        1        2        4\n",
       "2        2        3        5\n",
       "3        3        4        6"
      ]
     },
     "execution_count": 59,
     "metadata": {},
     "output_type": "execute_result"
    }
   ],
   "source": [
    "data"
   ]
  },
  {
   "cell_type": "code",
   "execution_count": 60,
   "id": "f551e24f-3529-4ca1-b3e7-9a4d1a975ca4",
   "metadata": {
    "editable": true,
    "slideshow": {
     "slide_type": ""
    },
    "tags": []
   },
   "outputs": [
    {
     "data": {
      "text/plain": [
       "{'name': 'temp_df',\n",
       " 'type': 'table',\n",
       " 'title': 'A title for the resource',\n",
       " 'description': 'A description of the resource to explain what it contains.',\n",
       " 'profile': 'data-resource',\n",
       " 'path': 'temp_df.csv',\n",
       " 'scheme': 'file',\n",
       " 'format': 'csv',\n",
       " 'mediatype': 'text/csv',\n",
       " 'hash': '3f0fe472ad7bf42606eba5184f838dab',\n",
       " 'bytes': 53,\n",
       " 'schema': 'temp_df.schema.yaml'}"
      ]
     },
     "execution_count": 60,
     "metadata": {},
     "output_type": "execute_result"
    }
   ],
   "source": [
    "resource"
   ]
  },
  {
   "cell_type": "code",
   "execution_count": 61,
   "id": "e7fd5b2d-51e2-4ff2-9351-6702ff452a68",
   "metadata": {
    "editable": true,
    "slideshow": {
     "slide_type": ""
    },
    "tags": []
   },
   "outputs": [
    {
     "data": {
      "text/plain": [
       "{'fields': [{'name': 'column1', 'type': 'integer'},\n",
       "            {'name': 'column2', 'type': 'integer'},\n",
       "            {'name': 'column3', 'type': 'integer'}]}"
      ]
     },
     "execution_count": 61,
     "metadata": {},
     "output_type": "execute_result"
    }
   ],
   "source": [
    "schema"
   ]
  },
  {
   "cell_type": "markdown",
   "id": "08c9f955-0675-48ee-8d55-ffa68f90b4c0",
   "metadata": {
    "editable": true,
    "slideshow": {
     "slide_type": ""
    },
    "tags": []
   },
   "source": [
    "# Round preserving sum (aka \"bucket rounding\")"
   ]
  },
  {
   "cell_type": "markdown",
   "id": "5a03b254-9e96-47a2-a044-4b8eb9c245cf",
   "metadata": {
    "editable": true,
    "slideshow": {
     "slide_type": ""
    },
    "tags": []
   },
   "source": [
    "Imagine we have a series of values that need to be rounded, but we want the rounded values to sum to the same value as the original series.  Create a random series for demonstration purposes."
   ]
  },
  {
   "cell_type": "code",
   "execution_count": 62,
   "id": "0b84cde1-9d48-4bb9-a88f-e301922d200f",
   "metadata": {
    "editable": true,
    "slideshow": {
     "slide_type": ""
    },
    "tags": []
   },
   "outputs": [
    {
     "data": {
      "text/plain": [
       "[289.94, 27.65, 397.12, 467.58, 181.57, 617.2, 971.21, 732.55, 829.51]"
      ]
     },
     "execution_count": 62,
     "metadata": {},
     "output_type": "execute_result"
    }
   ],
   "source": [
    "rawValues = pd.Series([random.randrange(0, 100000)/100 for x in range(1,10)])\n",
    "list(rawValues)"
   ]
  },
  {
   "cell_type": "markdown",
   "id": "90a2f45c-59f3-4e22-8e37-5c672e20ce54",
   "metadata": {
    "editable": true,
    "slideshow": {
     "slide_type": ""
    },
    "tags": []
   },
   "source": [
    "Specify the number of decimal digits to preserve. For this demo we'll round to integers (i.e. zero decimal places), which is typically what we want, but the function supports rounding to other decimal places as well."
   ]
  },
  {
   "cell_type": "code",
   "execution_count": 63,
   "id": "4d8ff11f-dc05-443e-8e75-3aaf900ba8af",
   "metadata": {
    "editable": true,
    "slideshow": {
     "slide_type": ""
    },
    "tags": []
   },
   "outputs": [],
   "source": [
    "digits = 0"
   ]
  },
  {
   "cell_type": "markdown",
   "id": "c263f44c-6ad9-4662-b5b1-4f7bc20f07c7",
   "metadata": {
    "editable": true,
    "slideshow": {
     "slide_type": ""
    },
    "tags": []
   },
   "source": [
    "Perform bucket-rounding"
   ]
  },
  {
   "cell_type": "code",
   "execution_count": 64,
   "id": "f6a1efe8-8257-4d9e-8785-2b770394b629",
   "metadata": {
    "editable": true,
    "slideshow": {
     "slide_type": ""
    },
    "tags": []
   },
   "outputs": [
    {
     "name": "stdout",
     "output_type": "stream",
     "text": [
      "Multiplier: 1\n",
      "Inflated values: [289.94, 27.65, 397.12, 467.58, 181.57, 617.2, 971.21, 732.55, 829.51]\n",
      "Truncated values: [289, 27, 397, 467, 181, 617, 971, 732, 829]\n",
      "Residuals for individual records: [0.94, 0.65, 0.12, 0.58, 0.57, 0.2, 0.21, 0.55, 0.51]\n",
      "Order of residuals: [2, 5, 6, 8, 7, 4, 3, 1, 0]\n",
      "Overall residual: 4.329999999999927\n",
      "Units to reallocate: 4\n",
      "Indices of records to receive reallocated units: [4, 3, 1, 0]\n",
      "Adjusted values (still inflated): [290, 28, 397, 468, 182, 617, 971, 732, 829]\n",
      "Bucket-rounded values (deflated): [290, 28, 397, 468, 182, 617, 971, 732, 829]\n"
     ]
    }
   ],
   "source": [
    "bucketRoundedValues = morpc.round_preserve_sum(rawValues, digits, verbose=True)"
   ]
  },
  {
   "cell_type": "markdown",
   "id": "6fd9b6e4-a563-4ebd-ace5-b64259fd10da",
   "metadata": {
    "editable": true,
    "slideshow": {
     "slide_type": ""
    },
    "tags": []
   },
   "source": [
    "Raw values:"
   ]
  },
  {
   "cell_type": "code",
   "execution_count": 65,
   "id": "6008a2f5-4518-4484-9c12-010b57f4e03c",
   "metadata": {
    "editable": true,
    "slideshow": {
     "slide_type": ""
    },
    "tags": []
   },
   "outputs": [
    {
     "data": {
      "text/plain": [
       "[289.94, 27.65, 397.12, 467.58, 181.57, 617.2, 971.21, 732.55, 829.51]"
      ]
     },
     "execution_count": 65,
     "metadata": {},
     "output_type": "execute_result"
    }
   ],
   "source": [
    "rawValues.tolist()"
   ]
  },
  {
   "cell_type": "markdown",
   "id": "785f0b36-e793-4c26-b6fd-2fbd3f022415",
   "metadata": {
    "editable": true,
    "slideshow": {
     "slide_type": ""
    },
    "tags": []
   },
   "source": [
    "Bucket-rounded values:"
   ]
  },
  {
   "cell_type": "code",
   "execution_count": 66,
   "id": "44580123-34d2-4f5b-bfd4-c8a35524a9e6",
   "metadata": {
    "editable": true,
    "slideshow": {
     "slide_type": ""
    },
    "tags": []
   },
   "outputs": [
    {
     "data": {
      "text/plain": [
       "[290, 28, 397, 468, 182, 617, 971, 732, 829]"
      ]
     },
     "execution_count": 66,
     "metadata": {},
     "output_type": "execute_result"
    }
   ],
   "source": [
    "bucketRoundedValues.tolist()"
   ]
  },
  {
   "cell_type": "markdown",
   "id": "244cc15d-43ee-4cc0-be53-b729f61ee005",
   "metadata": {
    "editable": true,
    "slideshow": {
     "slide_type": ""
    },
    "tags": []
   },
   "source": [
    "Sum of raw values:"
   ]
  },
  {
   "cell_type": "code",
   "execution_count": 67,
   "id": "eacbad92-7383-411b-a3e0-d8cd4e5f2fb6",
   "metadata": {
    "editable": true,
    "slideshow": {
     "slide_type": ""
    },
    "tags": []
   },
   "outputs": [
    {
     "data": {
      "text/plain": [
       "4514"
      ]
     },
     "execution_count": 67,
     "metadata": {},
     "output_type": "execute_result"
    }
   ],
   "source": [
    "round(sum(rawValues))"
   ]
  },
  {
   "cell_type": "markdown",
   "id": "432e6233-66f7-4040-8980-8703d672e901",
   "metadata": {
    "editable": true,
    "slideshow": {
     "slide_type": ""
    },
    "tags": []
   },
   "source": [
    "Sum of bucket-rounded values:"
   ]
  },
  {
   "cell_type": "code",
   "execution_count": 68,
   "id": "474bd05d-4356-4bd2-974d-c7b572c38105",
   "metadata": {
    "editable": true,
    "slideshow": {
     "slide_type": ""
    },
    "tags": []
   },
   "outputs": [
    {
     "data": {
      "text/plain": [
       "4514"
      ]
     },
     "execution_count": 68,
     "metadata": {},
     "output_type": "execute_result"
    }
   ],
   "source": [
    "sum(bucketRoundedValues)"
   ]
  },
  {
   "cell_type": "markdown",
   "id": "411adcf8-7cfa-4fdc-9936-ff223e576170",
   "metadata": {
    "editable": true,
    "slideshow": {
     "slide_type": ""
    },
    "tags": []
   },
   "source": [
    "# Control variable to group"
   ]
  },
  {
   "cell_type": "markdown",
   "id": "78979642-3f3c-4f7a-aafb-3a3e3c75fe86",
   "metadata": {
    "editable": true,
    "slideshow": {
     "slide_type": ""
    },
    "tags": []
   },
   "source": [
    "Often we have a set of values representing the members of some group and we need the sum of those values to match a total for the group that was computed independently. Perhaps the best known example of this is the annual [population estimates for sub-county jurisdictions](https://github.com/morpc/morpc-popest).  The estimates for all of the jurisdictions in the county must total to the [county-level population estimates](https://github.com/morpc/morpc-popest-county), which are derived independently.  In this case the county (group) totals are known as the \"control values\" or \"control totals\" and the process of adjusting the sub-county (group member) values so that their total is equal to the control total is known as \"controlling\" the variable.  The process includes the following steps, which will be described in more detail below.\n",
    "\n",
    "  - Establish control values for the groups (e.g. the county-level estimnates in the example above)\n",
    "  - Create a series of grouped values to be controlled (e.g. the sub-county estimates)\n",
    "  - Control the values in each group to the control total.  This consists of three sub-parts:\n",
    "    - Compute group sums\n",
    "    - Compute group shares\n",
    "    - Compute controlled values\n",
    "  \n",
    "In the sections that follow, we'll look at a more contrived example, namely controlling the 2021 ACS 5-year estimates for county subdivisions to the 2020 decennial county populations. This is not a recommended application and is used only for the sake of convenience."
   ]
  },
  {
   "cell_type": "markdown",
   "id": "1c0f899f-68d0-4e3b-bff6-51455c5be540",
   "metadata": {
    "editable": true,
    "slideshow": {
     "slide_type": ""
    },
    "tags": []
   },
   "source": [
    "### Establish control values for groups"
   ]
  },
  {
   "cell_type": "markdown",
   "id": "dd41122d-ae66-44c7-a82b-76afdb7f1268",
   "metadata": {
    "editable": true,
    "slideshow": {
     "slide_type": ""
    },
    "tags": []
   },
   "source": [
    "Download county populations from 2020 decennial census"
   ]
  },
  {
   "cell_type": "code",
   "execution_count": 70,
   "id": "acd097a4-7bd2-43bb-b0df-b73712ad4ccf",
   "metadata": {
    "editable": true,
    "slideshow": {
     "slide_type": ""
    },
    "tags": []
   },
   "outputs": [],
   "source": [
    "import requests"
   ]
  },
  {
   "cell_type": "code",
   "execution_count": 71,
   "id": "9a3bfc0b-9ea7-41ca-a6df-9bae9ffa5363",
   "metadata": {
    "editable": true,
    "slideshow": {
     "slide_type": ""
    },
    "tags": []
   },
   "outputs": [],
   "source": [
    "r = requests.get(\n",
    "    url=\"https://api.census.gov/data/2020/dec/dhc\",\n",
    "    params={\n",
    "        \"get\":\",\".join([\"P1_001N\"]),\n",
    "        \"for\":\"county:{}\".format(\",\".join([x[2:] for x in countyLookup.list_ids()])),\n",
    "        \"in\": \"state:39\"\n",
    "        }\n",
    ")\n",
    "records = r.json()\n",
    "countyPop = pd.DataFrame.from_records(records[1:], columns=records[0])\n",
    "countyPop[\"C_GEOID\"] = countyPop[\"state\"] + countyPop[\"county\"]\n",
    "countyPop = countyPop.loc[countyPop[\"county\"].isin([x[2:] for x in countyLookup.list_ids()])].copy() \\\n",
    "    .rename(columns={\"P1_001N\":\"C_POP\"}) \\\n",
    "    .drop(columns={\"state\",\"county\"}) \\\n",
    "    .astype({\"C_POP\":\"int\"}) \\\n",
    "    .set_index(\"C_GEOID\")"
   ]
  },
  {
   "cell_type": "markdown",
   "id": "26d68896-58b0-49db-b1fa-f1014d531bb0",
   "metadata": {
    "editable": true,
    "slideshow": {
     "slide_type": ""
    },
    "tags": []
   },
   "source": [
    "Now we have the population for each county (indexed by their GEOIDs) which will serve as the control totals."
   ]
  },
  {
   "cell_type": "code",
   "execution_count": 72,
   "id": "8f162561-9480-42d2-95a8-0a6305316f48",
   "metadata": {
    "editable": true,
    "slideshow": {
     "slide_type": ""
    },
    "tags": []
   },
   "outputs": [
    {
     "data": {
      "text/html": [
       "<div>\n",
       "<style scoped>\n",
       "    .dataframe tbody tr th:only-of-type {\n",
       "        vertical-align: middle;\n",
       "    }\n",
       "\n",
       "    .dataframe tbody tr th {\n",
       "        vertical-align: top;\n",
       "    }\n",
       "\n",
       "    .dataframe thead th {\n",
       "        text-align: right;\n",
       "    }\n",
       "</style>\n",
       "<table border=\"1\" class=\"dataframe\">\n",
       "  <thead>\n",
       "    <tr style=\"text-align: right;\">\n",
       "      <th></th>\n",
       "      <th>C_POP</th>\n",
       "    </tr>\n",
       "    <tr>\n",
       "      <th>C_GEOID</th>\n",
       "      <th></th>\n",
       "    </tr>\n",
       "  </thead>\n",
       "  <tbody>\n",
       "    <tr>\n",
       "      <th>39041</th>\n",
       "      <td>214124</td>\n",
       "    </tr>\n",
       "    <tr>\n",
       "      <th>39045</th>\n",
       "      <td>158921</td>\n",
       "    </tr>\n",
       "    <tr>\n",
       "      <th>39073</th>\n",
       "      <td>28050</td>\n",
       "    </tr>\n",
       "    <tr>\n",
       "      <th>39083</th>\n",
       "      <td>62721</td>\n",
       "    </tr>\n",
       "    <tr>\n",
       "      <th>39089</th>\n",
       "      <td>178519</td>\n",
       "    </tr>\n",
       "  </tbody>\n",
       "</table>\n",
       "</div>"
      ],
      "text/plain": [
       "          C_POP\n",
       "C_GEOID        \n",
       "39041    214124\n",
       "39045    158921\n",
       "39073     28050\n",
       "39083     62721\n",
       "39089    178519"
      ]
     },
     "execution_count": 72,
     "metadata": {},
     "output_type": "execute_result"
    }
   ],
   "source": [
    "countyPop.head()"
   ]
  },
  {
   "cell_type": "markdown",
   "id": "a83b3f15-afab-4433-beb1-8bcd5c7fd92a",
   "metadata": {
    "editable": true,
    "slideshow": {
     "slide_type": ""
    },
    "tags": []
   },
   "source": [
    "### Create series of grouped values to be controlled"
   ]
  },
  {
   "cell_type": "markdown",
   "id": "480d2004-24f2-468e-844d-95c40188fc34",
   "metadata": {
    "editable": true,
    "slideshow": {
     "slide_type": ""
    },
    "tags": []
   },
   "source": [
    "Download sub-county populations from the 2021 ACS 5-year estimates"
   ]
  },
  {
   "cell_type": "code",
   "execution_count": 73,
   "id": "d691d8f8-6b91-4a46-a65a-9b771fd25536",
   "metadata": {
    "editable": true,
    "slideshow": {
     "slide_type": ""
    },
    "tags": []
   },
   "outputs": [],
   "source": [
    "r = requests.get(\n",
    "    url=\"https://api.census.gov/data/2021/acs/acs5\",\n",
    "    params={\n",
    "        \"get\":\",\".join([\"NAME\",\"GEO_ID\",\"B01001_001E\",\"B01001_001M\"]),\n",
    "        \"for\":\"county subdivision:*\",\n",
    "        \"in\": [\n",
    "            \"state:39\",\n",
    "            \"county:{}\".format(\",\".join([x[2:] for x in countyLookup.list_ids()])),\n",
    "        ]\n",
    "    }\n",
    ")\n",
    "records = r.json()\n",
    "subdivPop = pd.DataFrame.from_records(records[1:], columns=records[0])\n",
    "subdivPop = subdivPop \\\n",
    "    .rename(columns={\"GEO_ID\":\"GEOID\",\"B01001_001E\":\"POP\",\"B01001_001M\":\"POP_MOE\"}) \\\n",
    "    .astype({\"POP\":\"int\"}) \\\n",
    "    .set_index(\"GEOID\")\n",
    "subdivPop[\"C_GEOID\"] = subdivPop[\"state\"] + subdivPop[\"county\"]"
   ]
  },
  {
   "cell_type": "markdown",
   "id": "cca55de0-3a29-4028-8b26-ea4876194358",
   "metadata": {
    "editable": true,
    "slideshow": {
     "slide_type": ""
    },
    "tags": []
   },
   "source": [
    "Now we have population estimates for the members of each group (county).  Note that the county GEOID (C_GEOID) has been assigned to each member record.  We'll use this to iterate through groups."
   ]
  },
  {
   "cell_type": "code",
   "execution_count": 74,
   "id": "8c4bc3f2-637a-413a-8fe6-5a0692078a4f",
   "metadata": {
    "editable": true,
    "slideshow": {
     "slide_type": ""
    },
    "tags": []
   },
   "outputs": [
    {
     "data": {
      "text/html": [
       "<div>\n",
       "<style scoped>\n",
       "    .dataframe tbody tr th:only-of-type {\n",
       "        vertical-align: middle;\n",
       "    }\n",
       "\n",
       "    .dataframe tbody tr th {\n",
       "        vertical-align: top;\n",
       "    }\n",
       "\n",
       "    .dataframe thead th {\n",
       "        text-align: right;\n",
       "    }\n",
       "</style>\n",
       "<table border=\"1\" class=\"dataframe\">\n",
       "  <thead>\n",
       "    <tr style=\"text-align: right;\">\n",
       "      <th></th>\n",
       "      <th>NAME</th>\n",
       "      <th>POP</th>\n",
       "      <th>POP_MOE</th>\n",
       "      <th>state</th>\n",
       "      <th>county</th>\n",
       "      <th>county subdivision</th>\n",
       "      <th>C_GEOID</th>\n",
       "    </tr>\n",
       "    <tr>\n",
       "      <th>GEOID</th>\n",
       "      <th></th>\n",
       "      <th></th>\n",
       "      <th></th>\n",
       "      <th></th>\n",
       "      <th></th>\n",
       "      <th></th>\n",
       "      <th></th>\n",
       "    </tr>\n",
       "  </thead>\n",
       "  <tbody>\n",
       "    <tr>\n",
       "      <th>0600000US3904102582</th>\n",
       "      <td>Ashley village, Delaware County, Ohio</td>\n",
       "      <td>1410</td>\n",
       "      <td>247</td>\n",
       "      <td>39</td>\n",
       "      <td>041</td>\n",
       "      <td>02582</td>\n",
       "      <td>39041</td>\n",
       "    </tr>\n",
       "    <tr>\n",
       "      <th>0600000US3904105774</th>\n",
       "      <td>Berkshire township, Delaware County, Ohio</td>\n",
       "      <td>5170</td>\n",
       "      <td>46</td>\n",
       "      <td>39</td>\n",
       "      <td>041</td>\n",
       "      <td>05774</td>\n",
       "      <td>39041</td>\n",
       "    </tr>\n",
       "    <tr>\n",
       "      <th>0600000US3904105788</th>\n",
       "      <td>Berlin township, Delaware County, Ohio</td>\n",
       "      <td>9072</td>\n",
       "      <td>30</td>\n",
       "      <td>39</td>\n",
       "      <td>041</td>\n",
       "      <td>05788</td>\n",
       "      <td>39041</td>\n",
       "    </tr>\n",
       "    <tr>\n",
       "      <th>0600000US3904109428</th>\n",
       "      <td>Brown township, Delaware County, Ohio</td>\n",
       "      <td>1126</td>\n",
       "      <td>274</td>\n",
       "      <td>39</td>\n",
       "      <td>041</td>\n",
       "      <td>09428</td>\n",
       "      <td>39041</td>\n",
       "    </tr>\n",
       "    <tr>\n",
       "      <th>0600000US3904118010</th>\n",
       "      <td>Columbus City township, Delaware County, Ohio</td>\n",
       "      <td>7411</td>\n",
       "      <td>24</td>\n",
       "      <td>39</td>\n",
       "      <td>041</td>\n",
       "      <td>18010</td>\n",
       "      <td>39041</td>\n",
       "    </tr>\n",
       "  </tbody>\n",
       "</table>\n",
       "</div>"
      ],
      "text/plain": [
       "                                                              NAME   POP  \\\n",
       "GEOID                                                                      \n",
       "0600000US3904102582          Ashley village, Delaware County, Ohio  1410   \n",
       "0600000US3904105774      Berkshire township, Delaware County, Ohio  5170   \n",
       "0600000US3904105788         Berlin township, Delaware County, Ohio  9072   \n",
       "0600000US3904109428          Brown township, Delaware County, Ohio  1126   \n",
       "0600000US3904118010  Columbus City township, Delaware County, Ohio  7411   \n",
       "\n",
       "                    POP_MOE state county county subdivision C_GEOID  \n",
       "GEOID                                                                \n",
       "0600000US3904102582     247    39    041              02582   39041  \n",
       "0600000US3904105774      46    39    041              05774   39041  \n",
       "0600000US3904105788      30    39    041              05788   39041  \n",
       "0600000US3904109428     274    39    041              09428   39041  \n",
       "0600000US3904118010      24    39    041              18010   39041  "
      ]
     },
     "execution_count": 74,
     "metadata": {},
     "output_type": "execute_result"
    }
   ],
   "source": [
    "subdivPop.head()"
   ]
  },
  {
   "cell_type": "markdown",
   "id": "b7a3e62a-93f6-4a0d-b849-424bf663b705",
   "metadata": {
    "editable": true,
    "slideshow": {
     "slide_type": ""
    },
    "tags": []
   },
   "source": [
    "Note that the sums of the subdivision populations doesn't match the sum of the county populations. This is expected and it is the reason we need to control the subdivision values."
   ]
  },
  {
   "cell_type": "code",
   "execution_count": 75,
   "id": "04971586-30c0-4fbd-8464-f92dee904845",
   "metadata": {
    "editable": true,
    "slideshow": {
     "slide_type": ""
    },
    "tags": []
   },
   "outputs": [
    {
     "data": {
      "text/plain": [
       "2402493"
      ]
     },
     "execution_count": 75,
     "metadata": {},
     "output_type": "execute_result"
    }
   ],
   "source": [
    "subdivPop[\"POP\"].sum()"
   ]
  },
  {
   "cell_type": "code",
   "execution_count": 76,
   "id": "ef97fe9c-4e49-405d-8785-9e0303600741",
   "metadata": {
    "editable": true,
    "slideshow": {
     "slide_type": ""
    },
    "tags": []
   },
   "outputs": [
    {
     "data": {
      "text/plain": [
       "2419200"
      ]
     },
     "execution_count": 76,
     "metadata": {},
     "output_type": "execute_result"
    }
   ],
   "source": [
    "countyPop[\"C_POP\"].sum()"
   ]
  },
  {
   "cell_type": "markdown",
   "id": "0da3ab19-7863-4de0-91a6-e538d0068c4d",
   "metadata": {
    "editable": true,
    "slideshow": {
     "slide_type": ""
    },
    "tags": []
   },
   "source": [
    "### Control the values in each group to the control total"
   ]
  },
  {
   "cell_type": "markdown",
   "id": "f6d57086-a7fa-4b90-a04a-7e0e3587ed92",
   "metadata": {
    "editable": true,
    "slideshow": {
     "slide_type": ""
    },
    "tags": []
   },
   "source": [
    "Recall that this step has three sub-parts:\n",
    "\n",
    "  1. Compute group sums (see `morpc.compute_group_sum()`)\n",
    "  2. Compute group shares (see `morpc.compute_group_share()`)\n",
    "  3. Compute controlled values (see `morpc.compute_controlled_values()`)\n",
    "\n",
    "The morpc-common library has a function for each of these steps as noted above, but it also has a high-level function that performs all three steps in sequence, namely `morpc.control_variable_to_group()`.  It requires the following inputs:\n",
    "\n",
    "  - `inputDf` is a pandas DataFrame with a column containing the group shares and (optionally) a column containg the group labels.\n",
    "  - `controlValues` is one of the following:\n",
    "      - If `groupbyField == None`: `controlValues` is a scalar number (integer or float)\n",
    "      - If `groupbyField != None`: `controlValues` is a pandas Series of numbers indexed by group labels\n",
    "  - `groupbyField` (optional) is the name of the column of `inputDf` that contains the group labels.\n",
    "  - `shareField` (optional) is the name of the column of `inputDf` containing the shares that the values comprise.  If this is not specified, \"GROUP_SHARE\" will be used.\n",
    "  - `roundPreserveSumDigits` (optional) is the number of decimal places that the scaled values (i.e. the values in the \"CONTROLLED_VALUE\" column) should be rounded to. A \"bucket rounding\" technique (see `morpc.round_preserve_sum()` will be used to ensure that the sum of the values in the group is preserved. If this is not specified, the scaled values will be left unrounded.\n",
    "\n",
    "This is what the function call looks like for our example case:"
   ]
  },
  {
   "cell_type": "code",
   "execution_count": 77,
   "id": "fb54cf06-54d6-4fde-9275-7972a864b74d",
   "metadata": {
    "editable": true,
    "slideshow": {
     "slide_type": ""
    },
    "tags": []
   },
   "outputs": [
    {
     "name": "stderr",
     "output_type": "stream",
     "text": [
      "C:\\Users\\jinskeep\\OneDrive - Mid-Ohio Regional Planning Commission\\Local Repo\\morpc-py\\morpc\\morpc.py:1408: FutureWarning: Setting an item of incompatible dtype is deprecated and will raise in a future error of pandas. Value '[  1410   5170   9072   1126   7411  11054   2576  38206  24862   4519\n",
      "   2478  32457    374  36419    799   2364   1626   3674    756   6538\n",
      "    716   2187   2123   4226   8978   2695   5089  10075   4107  10773\n",
      "   5717   4498  40265   8205   1467   6172   2617   3972  45257   6713\n",
      "    915    599    787   2593   1071    760   1818   1207   3615  14440\n",
      "   1092  13820  10073   3679   4449 873569  11312   8099   8743  46340\n",
      "  14027  25896    782  38121  37356   3888  12469   6768  17433  17109\n",
      "  30165  36566  42997  29933  20004    853  11822   1366   3242   1063\n",
      "   2505   2622    888   1634   1127   1058   1425   2127    828   1021\n",
      "   2842   2835   2613   1021   3765   5851   1757    529   2107   1462\n",
      "   2124   1051   2407   1188   2271  16885   1485   1581   2626    598\n",
      "   1350   2296   1381   1017  18688    972   2058   9979   3017   8466\n",
      "   2238  10429    914   2598   2691   4853   1144   3260   2584   7694\n",
      "  49703   2046   3200  17598   1465   1133   2537   9093   3050    271\n",
      "   1499   2639   3026  12707   3878   1459   2382   1978    865   1236\n",
      "   2616   1619   4508    551   3428   1335   2698   4370    918   1336\n",
      "   7332  10362   1499    527    728    443   3287    837   3085    602\n",
      "   5923   1419    293   2826    309   1901   1532  43983   1790   4908\n",
      "   1979   1589    664    779    362   1181   3248   1275   3059   1572\n",
      "   2902   1613      0   5930   2591   2372   2046   3169   1174   1017\n",
      "    985   1499    440   2270   1604    888   5143   2576   2789   1013\n",
      "    871   1110   6663    636   4342   1023   4511  13933   2517   3249\n",
      "   1515   8235    786   1236   1183   1442   1416   2287   2768  11545\n",
      "   2946   3004    396   1970   2360   4677   1576   1656   5192   1263\n",
      "   6155    841   2597    974   1432  27871   2614   3405  12622   2407\n",
      "   3530   2398   2379   1073   9101   1752   1840   1427  26610   1648\n",
      "   1323   4109    891   1281]' has dtype incompatible with int32, please explicitly cast to a compatible dtype first.\n",
      "C:\\Users\\jinskeep\\OneDrive - Mid-Ohio Regional Planning Commission\\Local Repo\\morpc-py\\morpc\\morpc.py:1408: FutureWarning: Setting an item of incompatible dtype is deprecated and will raise in a future error of pandas. Value '[ 211121  211121  211121  211121  211121  211121  211121  211121  211121\n",
      "  211121  211121  211121  211121  211121  211121  211121  211121  211121\n",
      "  211121  211121  211121  211121  211121  211121  211121  157622  157622\n",
      "  157622  157622  157622  157622  157622  157622  157622  157622  157622\n",
      "  157622  157622  157622  157622   28897   28897   28897   28897   28897\n",
      "   28897   28897   28897   28897   28897   28897 1313598 1313598 1313598\n",
      " 1313598 1313598 1313598 1313598 1313598 1313598 1313598 1313598 1313598\n",
      " 1313598 1313598 1313598 1313598 1313598 1313598 1313598 1313598 1313598\n",
      " 1313598 1313598 1313598   28180   28180   28180   28180   28180   28180\n",
      "   28180   28180   28180   28180   28180   62399   62399   62399   62399\n",
      "   62399   62399   62399   62399   62399   62399   62399   62399   62399\n",
      "   62399   62399   62399   62399   62399   62399   62399   62399   62399\n",
      "   62399   62399  177454  177454  177454  177454  177454  177454  177454\n",
      "  177454  177454  177454  177454  177454  177454  177454  177454  177454\n",
      "  177454  177454  177454  177454  177454  177454  177454  177454  177454\n",
      "  177454  177454  177454  177454   45997   45997   45997   45997   45997\n",
      "   45997   45997   45997   45997   45997   45997   45997   45997   45997\n",
      "   45997   45997   45997   43947   43947   43947   43947   43947   43947\n",
      "   43947   43947   43947   43947   43947   43947   43947   43947   43947\n",
      "   65515   65515   65515   65515   65515   65515   65515   65515   65515\n",
      "   65515   65515   65515   65515   65515   65515   34892   34892   34892\n",
      "   34892   34892   34892   34892   34892   34892   34892   34892   34892\n",
      "   34892   34892   34892   34892   34892   35439   35439   35439   35439\n",
      "   35439   35439   35439   35439   35439   35439   35439   35439   35439\n",
      "   35439   58458   58458   58458   58458   58458   58458   58458   58458\n",
      "   58458   58458   58458   58458   58458   58458   58458   58458   77205\n",
      "   77205   77205   77205   77205   77205   77205   77205   77205   77205\n",
      "   77205   77205   77205   77205   77205   77205   61769   61769   61769\n",
      "   61769   61769   61769   61769   61769   61769   61769   61769   61769\n",
      "   61769   61769   61769]' has dtype incompatible with int32, please explicitly cast to a compatible dtype first.\n",
      "C:\\Users\\jinskeep\\OneDrive - Mid-Ohio Regional Planning Commission\\Local Repo\\morpc-py\\morpc\\morpc.py:1408: FutureWarning: Setting an item of incompatible dtype is deprecated and will raise in a future error of pandas. Value '[ 214124  214124  214124  214124  214124  214124  214124  214124  214124\n",
      "  214124  214124  214124  214124  214124  214124  214124  214124  214124\n",
      "  214124  214124  214124  214124  214124  214124  214124  158921  158921\n",
      "  158921  158921  158921  158921  158921  158921  158921  158921  158921\n",
      "  158921  158921  158921  158921   28951   28951   28951   28951   28951\n",
      "   28951   28951   28951   28951   28951   28951 1323807 1323807 1323807\n",
      " 1323807 1323807 1323807 1323807 1323807 1323807 1323807 1323807 1323807\n",
      " 1323807 1323807 1323807 1323807 1323807 1323807 1323807 1323807 1323807\n",
      " 1323807 1323807 1323807   28050   28050   28050   28050   28050   28050\n",
      "   28050   28050   28050   28050   28050   62721   62721   62721   62721\n",
      "   62721   62721   62721   62721   62721   62721   62721   62721   62721\n",
      "   62721   62721   62721   62721   62721   62721   62721   62721   62721\n",
      "   62721   62721  178519  178519  178519  178519  178519  178519  178519\n",
      "  178519  178519  178519  178519  178519  178519  178519  178519  178519\n",
      "  178519  178519  178519  178519  178519  178519  178519  178519  178519\n",
      "  178519  178519  178519  178519   46150   46150   46150   46150   46150\n",
      "   46150   46150   46150   46150   46150   46150   46150   46150   46150\n",
      "   46150   46150   46150   43824   43824   43824   43824   43824   43824\n",
      "   43824   43824   43824   43824   43824   43824   43824   43824   43824\n",
      "   65359   65359   65359   65359   65359   65359   65359   65359   65359\n",
      "   65359   65359   65359   65359   65359   65359   34950   34950   34950\n",
      "   34950   34950   34950   34950   34950   34950   34950   34950   34950\n",
      "   34950   34950   34950   34950   34950   35408   35408   35408   35408\n",
      "   35408   35408   35408   35408   35408   35408   35408   35408   35408\n",
      "   35408   58539   58539   58539   58539   58539   58539   58539   58539\n",
      "   58539   58539   58539   58539   58539   58539   58539   58539   77093\n",
      "   77093   77093   77093   77093   77093   77093   77093   77093   77093\n",
      "   77093   77093   77093   77093   77093   77093   62784   62784   62784\n",
      "   62784   62784   62784   62784   62784   62784   62784   62784   62784\n",
      "   62784   62784   62784]' has dtype incompatible with int32, please explicitly cast to a compatible dtype first.\n"
     ]
    },
    {
     "data": {
      "text/html": [
       "<div>\n",
       "<style scoped>\n",
       "    .dataframe tbody tr th:only-of-type {\n",
       "        vertical-align: middle;\n",
       "    }\n",
       "\n",
       "    .dataframe tbody tr th {\n",
       "        vertical-align: top;\n",
       "    }\n",
       "\n",
       "    .dataframe thead th {\n",
       "        text-align: right;\n",
       "    }\n",
       "</style>\n",
       "<table border=\"1\" class=\"dataframe\">\n",
       "  <thead>\n",
       "    <tr style=\"text-align: right;\">\n",
       "      <th></th>\n",
       "      <th>NAME</th>\n",
       "      <th>POP</th>\n",
       "      <th>POP_MOE</th>\n",
       "      <th>state</th>\n",
       "      <th>county</th>\n",
       "      <th>county subdivision</th>\n",
       "      <th>C_GEOID</th>\n",
       "      <th>GROUP_SUM</th>\n",
       "      <th>GROUP_SHARE</th>\n",
       "      <th>CONTROL_TOTAL</th>\n",
       "      <th>CONTROLLED_VALUE</th>\n",
       "    </tr>\n",
       "    <tr>\n",
       "      <th>GEOID</th>\n",
       "      <th></th>\n",
       "      <th></th>\n",
       "      <th></th>\n",
       "      <th></th>\n",
       "      <th></th>\n",
       "      <th></th>\n",
       "      <th></th>\n",
       "      <th></th>\n",
       "      <th></th>\n",
       "      <th></th>\n",
       "      <th></th>\n",
       "    </tr>\n",
       "  </thead>\n",
       "  <tbody>\n",
       "    <tr>\n",
       "      <th>0600000US3904102582</th>\n",
       "      <td>Ashley village, Delaware County, Ohio</td>\n",
       "      <td>1410</td>\n",
       "      <td>247</td>\n",
       "      <td>39</td>\n",
       "      <td>041</td>\n",
       "      <td>02582</td>\n",
       "      <td>39041</td>\n",
       "      <td>211121</td>\n",
       "      <td>0.006679</td>\n",
       "      <td>214124</td>\n",
       "      <td>1430.0</td>\n",
       "    </tr>\n",
       "    <tr>\n",
       "      <th>0600000US3904105774</th>\n",
       "      <td>Berkshire township, Delaware County, Ohio</td>\n",
       "      <td>5170</td>\n",
       "      <td>46</td>\n",
       "      <td>39</td>\n",
       "      <td>041</td>\n",
       "      <td>05774</td>\n",
       "      <td>39041</td>\n",
       "      <td>211121</td>\n",
       "      <td>0.024488</td>\n",
       "      <td>214124</td>\n",
       "      <td>5244.0</td>\n",
       "    </tr>\n",
       "    <tr>\n",
       "      <th>0600000US3904105788</th>\n",
       "      <td>Berlin township, Delaware County, Ohio</td>\n",
       "      <td>9072</td>\n",
       "      <td>30</td>\n",
       "      <td>39</td>\n",
       "      <td>041</td>\n",
       "      <td>05788</td>\n",
       "      <td>39041</td>\n",
       "      <td>211121</td>\n",
       "      <td>0.042971</td>\n",
       "      <td>214124</td>\n",
       "      <td>9201.0</td>\n",
       "    </tr>\n",
       "    <tr>\n",
       "      <th>0600000US3904109428</th>\n",
       "      <td>Brown township, Delaware County, Ohio</td>\n",
       "      <td>1126</td>\n",
       "      <td>274</td>\n",
       "      <td>39</td>\n",
       "      <td>041</td>\n",
       "      <td>09428</td>\n",
       "      <td>39041</td>\n",
       "      <td>211121</td>\n",
       "      <td>0.005333</td>\n",
       "      <td>214124</td>\n",
       "      <td>1142.0</td>\n",
       "    </tr>\n",
       "    <tr>\n",
       "      <th>0600000US3904118010</th>\n",
       "      <td>Columbus City township, Delaware County, Ohio</td>\n",
       "      <td>7411</td>\n",
       "      <td>24</td>\n",
       "      <td>39</td>\n",
       "      <td>041</td>\n",
       "      <td>18010</td>\n",
       "      <td>39041</td>\n",
       "      <td>211121</td>\n",
       "      <td>0.035103</td>\n",
       "      <td>214124</td>\n",
       "      <td>7516.0</td>\n",
       "    </tr>\n",
       "  </tbody>\n",
       "</table>\n",
       "</div>"
      ],
      "text/plain": [
       "                                                              NAME   POP  \\\n",
       "GEOID                                                                      \n",
       "0600000US3904102582          Ashley village, Delaware County, Ohio  1410   \n",
       "0600000US3904105774      Berkshire township, Delaware County, Ohio  5170   \n",
       "0600000US3904105788         Berlin township, Delaware County, Ohio  9072   \n",
       "0600000US3904109428          Brown township, Delaware County, Ohio  1126   \n",
       "0600000US3904118010  Columbus City township, Delaware County, Ohio  7411   \n",
       "\n",
       "                    POP_MOE state county county subdivision C_GEOID  \\\n",
       "GEOID                                                                 \n",
       "0600000US3904102582     247    39    041              02582   39041   \n",
       "0600000US3904105774      46    39    041              05774   39041   \n",
       "0600000US3904105788      30    39    041              05788   39041   \n",
       "0600000US3904109428     274    39    041              09428   39041   \n",
       "0600000US3904118010      24    39    041              18010   39041   \n",
       "\n",
       "                     GROUP_SUM  GROUP_SHARE  CONTROL_TOTAL  CONTROLLED_VALUE  \n",
       "GEOID                                                                         \n",
       "0600000US3904102582     211121     0.006679         214124            1430.0  \n",
       "0600000US3904105774     211121     0.024488         214124            5244.0  \n",
       "0600000US3904105788     211121     0.042971         214124            9201.0  \n",
       "0600000US3904109428     211121     0.005333         214124            1142.0  \n",
       "0600000US3904118010     211121     0.035103         214124            7516.0  "
      ]
     },
     "execution_count": 77,
     "metadata": {},
     "output_type": "execute_result"
    }
   ],
   "source": [
    "subdivPopControlled = morpc.control_variable_to_group(inputDf=subdivPop, controlValues=countyPop[\"C_POP\"], valueField=\"POP\", groupbyField=\"C_GEOID\", roundPreserveSumDigits=0)\n",
    "subdivPopControlled.head()"
   ]
  },
  {
   "cell_type": "markdown",
   "id": "8f422883-1ec6-4688-b807-cbe362e79995",
   "metadata": {
    "editable": true,
    "slideshow": {
     "slide_type": ""
    },
    "tags": []
   },
   "source": [
    "### Check the results"
   ]
  },
  {
   "cell_type": "markdown",
   "id": "748e54a6-f63a-4064-8a42-2a1d989c0c1f",
   "metadata": {
    "editable": true,
    "slideshow": {
     "slide_type": ""
    },
    "tags": []
   },
   "source": [
    "Now the sum of our controlled values should match the county control totals.  We can see that this is true by comparing the \"POP_SUM_CONTROLLED\" columns (which the sum of \"CONTROLLED_VALUE\" by county) and the \"C_POP\" column (which is the county control total) and verifying that the two are equal for all records."
   ]
  },
  {
   "cell_type": "code",
   "execution_count": 78,
   "id": "a82979b7-45fe-4a4f-8464-658b413ca2de",
   "metadata": {
    "editable": true,
    "slideshow": {
     "slide_type": ""
    },
    "tags": []
   },
   "outputs": [
    {
     "data": {
      "text/html": [
       "<div>\n",
       "<style scoped>\n",
       "    .dataframe tbody tr th:only-of-type {\n",
       "        vertical-align: middle;\n",
       "    }\n",
       "\n",
       "    .dataframe tbody tr th {\n",
       "        vertical-align: top;\n",
       "    }\n",
       "\n",
       "    .dataframe thead th {\n",
       "        text-align: right;\n",
       "    }\n",
       "</style>\n",
       "<table border=\"1\" class=\"dataframe\">\n",
       "  <thead>\n",
       "    <tr style=\"text-align: right;\">\n",
       "      <th></th>\n",
       "      <th>POP_SUM</th>\n",
       "      <th>POP_SUM_CONTROLLED</th>\n",
       "      <th>C_POP</th>\n",
       "    </tr>\n",
       "    <tr>\n",
       "      <th>C_GEOID</th>\n",
       "      <th></th>\n",
       "      <th></th>\n",
       "      <th></th>\n",
       "    </tr>\n",
       "  </thead>\n",
       "  <tbody>\n",
       "    <tr>\n",
       "      <th>39041</th>\n",
       "      <td>211121</td>\n",
       "      <td>214124.0</td>\n",
       "      <td>214124</td>\n",
       "    </tr>\n",
       "    <tr>\n",
       "      <th>39045</th>\n",
       "      <td>157622</td>\n",
       "      <td>158921.0</td>\n",
       "      <td>158921</td>\n",
       "    </tr>\n",
       "    <tr>\n",
       "      <th>39047</th>\n",
       "      <td>28897</td>\n",
       "      <td>28951.0</td>\n",
       "      <td>28951</td>\n",
       "    </tr>\n",
       "    <tr>\n",
       "      <th>39049</th>\n",
       "      <td>1313598</td>\n",
       "      <td>1323807.0</td>\n",
       "      <td>1323807</td>\n",
       "    </tr>\n",
       "    <tr>\n",
       "      <th>39073</th>\n",
       "      <td>28180</td>\n",
       "      <td>28050.0</td>\n",
       "      <td>28050</td>\n",
       "    </tr>\n",
       "    <tr>\n",
       "      <th>39083</th>\n",
       "      <td>62399</td>\n",
       "      <td>62721.0</td>\n",
       "      <td>62721</td>\n",
       "    </tr>\n",
       "    <tr>\n",
       "      <th>39089</th>\n",
       "      <td>177454</td>\n",
       "      <td>178519.0</td>\n",
       "      <td>178519</td>\n",
       "    </tr>\n",
       "    <tr>\n",
       "      <th>39091</th>\n",
       "      <td>45997</td>\n",
       "      <td>46150.0</td>\n",
       "      <td>46150</td>\n",
       "    </tr>\n",
       "    <tr>\n",
       "      <th>39097</th>\n",
       "      <td>43947</td>\n",
       "      <td>43824.0</td>\n",
       "      <td>43824</td>\n",
       "    </tr>\n",
       "    <tr>\n",
       "      <th>39101</th>\n",
       "      <td>65515</td>\n",
       "      <td>65359.0</td>\n",
       "      <td>65359</td>\n",
       "    </tr>\n",
       "    <tr>\n",
       "      <th>39117</th>\n",
       "      <td>34892</td>\n",
       "      <td>34950.0</td>\n",
       "      <td>34950</td>\n",
       "    </tr>\n",
       "    <tr>\n",
       "      <th>39127</th>\n",
       "      <td>35439</td>\n",
       "      <td>35408.0</td>\n",
       "      <td>35408</td>\n",
       "    </tr>\n",
       "    <tr>\n",
       "      <th>39129</th>\n",
       "      <td>58458</td>\n",
       "      <td>58539.0</td>\n",
       "      <td>58539</td>\n",
       "    </tr>\n",
       "    <tr>\n",
       "      <th>39141</th>\n",
       "      <td>77205</td>\n",
       "      <td>77093.0</td>\n",
       "      <td>77093</td>\n",
       "    </tr>\n",
       "    <tr>\n",
       "      <th>39159</th>\n",
       "      <td>61769</td>\n",
       "      <td>62784.0</td>\n",
       "      <td>62784</td>\n",
       "    </tr>\n",
       "  </tbody>\n",
       "</table>\n",
       "</div>"
      ],
      "text/plain": [
       "         POP_SUM  POP_SUM_CONTROLLED    C_POP\n",
       "C_GEOID                                      \n",
       "39041     211121            214124.0   214124\n",
       "39045     157622            158921.0   158921\n",
       "39047      28897             28951.0    28951\n",
       "39049    1313598           1323807.0  1323807\n",
       "39073      28180             28050.0    28050\n",
       "39083      62399             62721.0    62721\n",
       "39089     177454            178519.0   178519\n",
       "39091      45997             46150.0    46150\n",
       "39097      43947             43824.0    43824\n",
       "39101      65515             65359.0    65359\n",
       "39117      34892             34950.0    34950\n",
       "39127      35439             35408.0    35408\n",
       "39129      58458             58539.0    58539\n",
       "39141      77205             77093.0    77093\n",
       "39159      61769             62784.0    62784"
      ]
     },
     "execution_count": 78,
     "metadata": {},
     "output_type": "execute_result"
    }
   ],
   "source": [
    "subdivPopControlled[[\"C_GEOID\",\"POP\",\"CONTROLLED_VALUE\"]] \\\n",
    "    .groupby(\"C_GEOID\").sum() \\\n",
    "    .rename(columns={\"POP\":\"POP_SUM\",\"CONTROLLED_VALUE\":\"POP_SUM_CONTROLLED\"}) \\\n",
    "    .join(countyPop)"
   ]
  },
  {
   "cell_type": "markdown",
   "id": "47bc97d5-f4cd-4d70-90f8-deb18d653031",
   "metadata": {
    "editable": true,
    "slideshow": {
     "slide_type": ""
    },
    "tags": []
   },
   "source": [
    "We may want to get a sense of how much adjustment of the sub-county values was required. To do this we can compute the difference between the controlled value and the original value and do some desriptive analysis."
   ]
  },
  {
   "cell_type": "code",
   "execution_count": 79,
   "id": "d484a6c8-24ae-44ac-b8bf-4eb6321855fe",
   "metadata": {
    "editable": true,
    "slideshow": {
     "slide_type": ""
    },
    "tags": []
   },
   "outputs": [],
   "source": [
    "subdivPopControlled[\"RESIDUAL\"] = subdivPopControlled[\"CONTROLLED_VALUE\"] - subdivPopControlled[\"POP\"]\n",
    "subdivPopControlled[\"RESIDUAL_PCT\"] = subdivPopControlled[\"RESIDUAL\"]/subdivPopControlled[\"POP\"]\n",
    "subdivPopControlled[\"RESIDUAL_PCT\"] = subdivPopControlled[\"RESIDUAL_PCT\"].replace(np.inf, 0)\n",
    "subdivPopControlled[\"RESIDUAL_PCT\"] = subdivPopControlled[\"RESIDUAL_PCT\"].replace(-np.inf, 0)\n",
    "subdivPopControlled[\"RESIDUAL_PCT\"] = subdivPopControlled[\"RESIDUAL_PCT\"].fillna(0)"
   ]
  },
  {
   "cell_type": "markdown",
   "id": "73db1449-d180-4aab-a939-6efee627a5dd",
   "metadata": {
    "editable": true,
    "slideshow": {
     "slide_type": ""
    },
    "tags": []
   },
   "source": [
    "First we'll look at the stats for the raw residual."
   ]
  },
  {
   "cell_type": "code",
   "execution_count": 80,
   "id": "7bfbe7e9-a73e-479b-867e-3dfea6805c85",
   "metadata": {
    "editable": true,
    "slideshow": {
     "slide_type": ""
    },
    "tags": []
   },
   "outputs": [
    {
     "data": {
      "text/plain": [
       "count     264.000000\n",
       "mean       63.284091\n",
       "std       424.898331\n",
       "min      -105.000000\n",
       "25%        -1.000000\n",
       "50%         7.000000\n",
       "75%        31.500000\n",
       "max      6789.000000\n",
       "Name: RESIDUAL, dtype: float64"
      ]
     },
     "execution_count": 80,
     "metadata": {},
     "output_type": "execute_result"
    }
   ],
   "source": [
    "subdivPopControlled[\"RESIDUAL\"].describe()"
   ]
  },
  {
   "cell_type": "code",
   "execution_count": 81,
   "id": "39963ce5-e6cb-4cbf-adb7-6f0d21055b5f",
   "metadata": {
    "editable": true,
    "slideshow": {
     "slide_type": ""
    },
    "tags": []
   },
   "outputs": [
    {
     "data": {
      "text/plain": [
       "<Axes: >"
      ]
     },
     "execution_count": 81,
     "metadata": {},
     "output_type": "execute_result"
    },
    {
     "data": {
      "image/png": "[encoded data removed]",
      "text/plain": [
       "<Figure size 640x480 with 1 Axes>"
      ]
     },
     "metadata": {},
     "output_type": "display_data"
    }
   ],
   "source": [
    "subdivPopControlled[\"RESIDUAL\"].hist(bins=25, log=True)"
   ]
  },
  {
   "cell_type": "markdown",
   "id": "3038dde4-64d4-41cb-8b67-f219f4afd872",
   "metadata": {
    "editable": true,
    "slideshow": {
     "slide_type": ""
    },
    "tags": []
   },
   "source": [
    "The residual is close to zero in the vast majority of cases.  Let's look at the ten cases with the greatest residual."
   ]
  },
  {
   "cell_type": "code",
   "execution_count": 82,
   "id": "820d93e9-0f35-4b22-bd7d-33e4bb295daa",
   "metadata": {
    "editable": true,
    "slideshow": {
     "slide_type": ""
    },
    "tags": []
   },
   "outputs": [
    {
     "data": {
      "text/html": [
       "<div>\n",
       "<style scoped>\n",
       "    .dataframe tbody tr th:only-of-type {\n",
       "        vertical-align: middle;\n",
       "    }\n",
       "\n",
       "    .dataframe tbody tr th {\n",
       "        vertical-align: top;\n",
       "    }\n",
       "\n",
       "    .dataframe thead th {\n",
       "        text-align: right;\n",
       "    }\n",
       "</style>\n",
       "<table border=\"1\" class=\"dataframe\">\n",
       "  <thead>\n",
       "    <tr style=\"text-align: right;\">\n",
       "      <th></th>\n",
       "      <th>NAME</th>\n",
       "      <th>POP</th>\n",
       "      <th>CONTROLLED_VALUE</th>\n",
       "      <th>RESIDUAL</th>\n",
       "      <th>RESIDUAL_PCT</th>\n",
       "    </tr>\n",
       "    <tr>\n",
       "      <th>GEOID</th>\n",
       "      <th></th>\n",
       "      <th></th>\n",
       "      <th></th>\n",
       "      <th></th>\n",
       "      <th></th>\n",
       "    </tr>\n",
       "  </thead>\n",
       "  <tbody>\n",
       "    <tr>\n",
       "      <th>0600000US3904918000</th>\n",
       "      <td>Columbus city, Franklin County, Ohio</td>\n",
       "      <td>873569</td>\n",
       "      <td>880358.0</td>\n",
       "      <td>6789.0</td>\n",
       "      <td>0.007772</td>\n",
       "    </tr>\n",
       "    <tr>\n",
       "      <th>0600000US3904121469</th>\n",
       "      <td>Delaware City township, Delaware County, Ohio</td>\n",
       "      <td>38206</td>\n",
       "      <td>38750.0</td>\n",
       "      <td>544.0</td>\n",
       "      <td>0.014239</td>\n",
       "    </tr>\n",
       "    <tr>\n",
       "      <th>0600000US3904158618</th>\n",
       "      <td>Orange township, Delaware County, Ohio</td>\n",
       "      <td>36419</td>\n",
       "      <td>36937.0</td>\n",
       "      <td>518.0</td>\n",
       "      <td>0.014223</td>\n",
       "    </tr>\n",
       "    <tr>\n",
       "      <th>0600000US3904143106</th>\n",
       "      <td>Liberty township, Delaware County, Ohio</td>\n",
       "      <td>32457</td>\n",
       "      <td>32919.0</td>\n",
       "      <td>462.0</td>\n",
       "      <td>0.014234</td>\n",
       "    </tr>\n",
       "    <tr>\n",
       "      <th>0600000US3915959864</th>\n",
       "      <td>Paris township, Union County, Ohio</td>\n",
       "      <td>26610</td>\n",
       "      <td>27047.0</td>\n",
       "      <td>437.0</td>\n",
       "      <td>0.016422</td>\n",
       "    </tr>\n",
       "    <tr>\n",
       "      <th>0600000US3904580206</th>\n",
       "      <td>Violet township, Fairfield County, Ohio</td>\n",
       "      <td>45257</td>\n",
       "      <td>45630.0</td>\n",
       "      <td>373.0</td>\n",
       "      <td>0.008242</td>\n",
       "    </tr>\n",
       "    <tr>\n",
       "      <th>0600000US3904937772</th>\n",
       "      <td>Jackson township, Franklin County, Ohio</td>\n",
       "      <td>46340</td>\n",
       "      <td>46700.0</td>\n",
       "      <td>360.0</td>\n",
       "      <td>0.007769</td>\n",
       "    </tr>\n",
       "    <tr>\n",
       "      <th>0600000US3904129694</th>\n",
       "      <td>Genoa township, Delaware County, Ohio</td>\n",
       "      <td>24862</td>\n",
       "      <td>25216.0</td>\n",
       "      <td>354.0</td>\n",
       "      <td>0.014239</td>\n",
       "    </tr>\n",
       "    <tr>\n",
       "      <th>0600000US3904981242</th>\n",
       "      <td>Washington township, Franklin County, Ohio</td>\n",
       "      <td>42997</td>\n",
       "      <td>43331.0</td>\n",
       "      <td>334.0</td>\n",
       "      <td>0.007768</td>\n",
       "    </tr>\n",
       "    <tr>\n",
       "      <th>0600000US3904541740</th>\n",
       "      <td>Lancaster City township, Fairfield County, Ohio</td>\n",
       "      <td>40265</td>\n",
       "      <td>40597.0</td>\n",
       "      <td>332.0</td>\n",
       "      <td>0.008245</td>\n",
       "    </tr>\n",
       "  </tbody>\n",
       "</table>\n",
       "</div>"
      ],
      "text/plain": [
       "                                                                NAME     POP  \\\n",
       "GEOID                                                                          \n",
       "0600000US3904918000             Columbus city, Franklin County, Ohio  873569   \n",
       "0600000US3904121469    Delaware City township, Delaware County, Ohio   38206   \n",
       "0600000US3904158618           Orange township, Delaware County, Ohio   36419   \n",
       "0600000US3904143106          Liberty township, Delaware County, Ohio   32457   \n",
       "0600000US3915959864               Paris township, Union County, Ohio   26610   \n",
       "0600000US3904580206          Violet township, Fairfield County, Ohio   45257   \n",
       "0600000US3904937772          Jackson township, Franklin County, Ohio   46340   \n",
       "0600000US3904129694            Genoa township, Delaware County, Ohio   24862   \n",
       "0600000US3904981242       Washington township, Franklin County, Ohio   42997   \n",
       "0600000US3904541740  Lancaster City township, Fairfield County, Ohio   40265   \n",
       "\n",
       "                     CONTROLLED_VALUE  RESIDUAL  RESIDUAL_PCT  \n",
       "GEOID                                                          \n",
       "0600000US3904918000          880358.0    6789.0      0.007772  \n",
       "0600000US3904121469           38750.0     544.0      0.014239  \n",
       "0600000US3904158618           36937.0     518.0      0.014223  \n",
       "0600000US3904143106           32919.0     462.0      0.014234  \n",
       "0600000US3915959864           27047.0     437.0      0.016422  \n",
       "0600000US3904580206           45630.0     373.0      0.008242  \n",
       "0600000US3904937772           46700.0     360.0      0.007769  \n",
       "0600000US3904129694           25216.0     354.0      0.014239  \n",
       "0600000US3904981242           43331.0     334.0      0.007768  \n",
       "0600000US3904541740           40597.0     332.0      0.008245  "
      ]
     },
     "execution_count": 82,
     "metadata": {},
     "output_type": "execute_result"
    }
   ],
   "source": [
    "subdivPopControlled[[\"NAME\",\"POP\",\"CONTROLLED_VALUE\",\"RESIDUAL\",\"RESIDUAL_PCT\"]].sort_values(\"RESIDUAL\", ascending=False).head(10)"
   ]
  },
  {
   "cell_type": "markdown",
   "id": "b74cd8cf-3f69-4fbe-9ca3-0e5658c2a346",
   "metadata": {
    "editable": true,
    "slideshow": {
     "slide_type": ""
    },
    "tags": []
   },
   "source": [
    "And the ten cases with the smallest residual (which could be large but negative)"
   ]
  },
  {
   "cell_type": "code",
   "execution_count": 83,
   "id": "ca3f4eee-444d-4723-9dea-ceb66768867d",
   "metadata": {
    "editable": true,
    "slideshow": {
     "slide_type": ""
    },
    "tags": []
   },
   "outputs": [
    {
     "data": {
      "text/html": [
       "<div>\n",
       "<style scoped>\n",
       "    .dataframe tbody tr th:only-of-type {\n",
       "        vertical-align: middle;\n",
       "    }\n",
       "\n",
       "    .dataframe tbody tr th {\n",
       "        vertical-align: top;\n",
       "    }\n",
       "\n",
       "    .dataframe thead th {\n",
       "        text-align: right;\n",
       "    }\n",
       "</style>\n",
       "<table border=\"1\" class=\"dataframe\">\n",
       "  <thead>\n",
       "    <tr style=\"text-align: right;\">\n",
       "      <th></th>\n",
       "      <th>NAME</th>\n",
       "      <th>POP</th>\n",
       "      <th>CONTROLLED_VALUE</th>\n",
       "      <th>RESIDUAL</th>\n",
       "      <th>RESIDUAL_PCT</th>\n",
       "    </tr>\n",
       "    <tr>\n",
       "      <th>GEOID</th>\n",
       "      <th></th>\n",
       "      <th></th>\n",
       "      <th></th>\n",
       "      <th></th>\n",
       "      <th></th>\n",
       "    </tr>\n",
       "  </thead>\n",
       "  <tbody>\n",
       "    <tr>\n",
       "      <th>0600000US3907361868</th>\n",
       "      <td>Perry township, Hocking County, Ohio</td>\n",
       "      <td>2622</td>\n",
       "      <td>2610.0</td>\n",
       "      <td>-12.0</td>\n",
       "      <td>-0.004577</td>\n",
       "    </tr>\n",
       "    <tr>\n",
       "      <th>0600000US3909720142</th>\n",
       "      <td>Darby township, Madison County, Ohio</td>\n",
       "      <td>4370</td>\n",
       "      <td>4358.0</td>\n",
       "      <td>-12.0</td>\n",
       "      <td>-0.002746</td>\n",
       "    </tr>\n",
       "    <tr>\n",
       "      <th>0600000US3907331780</th>\n",
       "      <td>Green township, Hocking County, Ohio</td>\n",
       "      <td>3242</td>\n",
       "      <td>3227.0</td>\n",
       "      <td>-15.0</td>\n",
       "      <td>-0.004627</td>\n",
       "    </tr>\n",
       "    <tr>\n",
       "      <th>0600000US3909778428</th>\n",
       "      <td>Union township, Madison County, Ohio</td>\n",
       "      <td>5923</td>\n",
       "      <td>5906.0</td>\n",
       "      <td>-17.0</td>\n",
       "      <td>-0.002870</td>\n",
       "    </tr>\n",
       "    <tr>\n",
       "      <th>0600000US3914178540</th>\n",
       "      <td>Union township, Ross County, Ohio</td>\n",
       "      <td>12622</td>\n",
       "      <td>12604.0</td>\n",
       "      <td>-18.0</td>\n",
       "      <td>-0.001426</td>\n",
       "    </tr>\n",
       "    <tr>\n",
       "      <th>0600000US3909738696</th>\n",
       "      <td>Jefferson township, Madison County, Ohio</td>\n",
       "      <td>7332</td>\n",
       "      <td>7312.0</td>\n",
       "      <td>-20.0</td>\n",
       "      <td>-0.002728</td>\n",
       "    </tr>\n",
       "    <tr>\n",
       "      <th>0600000US3909744674</th>\n",
       "      <td>London city, Madison County, Ohio</td>\n",
       "      <td>10362</td>\n",
       "      <td>10333.0</td>\n",
       "      <td>-29.0</td>\n",
       "      <td>-0.002799</td>\n",
       "    </tr>\n",
       "    <tr>\n",
       "      <th>0600000US3914170898</th>\n",
       "      <td>Scioto township, Ross County, Ohio</td>\n",
       "      <td>27871</td>\n",
       "      <td>27830.0</td>\n",
       "      <td>-41.0</td>\n",
       "      <td>-0.001471</td>\n",
       "    </tr>\n",
       "    <tr>\n",
       "      <th>0600000US3907326488</th>\n",
       "      <td>Falls township, Hocking County, Ohio</td>\n",
       "      <td>11822</td>\n",
       "      <td>11768.0</td>\n",
       "      <td>-54.0</td>\n",
       "      <td>-0.004568</td>\n",
       "    </tr>\n",
       "    <tr>\n",
       "      <th>0600000US3910147768</th>\n",
       "      <td>Marion township, Marion County, Ohio</td>\n",
       "      <td>43983</td>\n",
       "      <td>43878.0</td>\n",
       "      <td>-105.0</td>\n",
       "      <td>-0.002387</td>\n",
       "    </tr>\n",
       "  </tbody>\n",
       "</table>\n",
       "</div>"
      ],
      "text/plain": [
       "                                                         NAME    POP  \\\n",
       "GEOID                                                                  \n",
       "0600000US3907361868      Perry township, Hocking County, Ohio   2622   \n",
       "0600000US3909720142      Darby township, Madison County, Ohio   4370   \n",
       "0600000US3907331780      Green township, Hocking County, Ohio   3242   \n",
       "0600000US3909778428      Union township, Madison County, Ohio   5923   \n",
       "0600000US3914178540         Union township, Ross County, Ohio  12622   \n",
       "0600000US3909738696  Jefferson township, Madison County, Ohio   7332   \n",
       "0600000US3909744674         London city, Madison County, Ohio  10362   \n",
       "0600000US3914170898        Scioto township, Ross County, Ohio  27871   \n",
       "0600000US3907326488      Falls township, Hocking County, Ohio  11822   \n",
       "0600000US3910147768      Marion township, Marion County, Ohio  43983   \n",
       "\n",
       "                     CONTROLLED_VALUE  RESIDUAL  RESIDUAL_PCT  \n",
       "GEOID                                                          \n",
       "0600000US3907361868            2610.0     -12.0     -0.004577  \n",
       "0600000US3909720142            4358.0     -12.0     -0.002746  \n",
       "0600000US3907331780            3227.0     -15.0     -0.004627  \n",
       "0600000US3909778428            5906.0     -17.0     -0.002870  \n",
       "0600000US3914178540           12604.0     -18.0     -0.001426  \n",
       "0600000US3909738696            7312.0     -20.0     -0.002728  \n",
       "0600000US3909744674           10333.0     -29.0     -0.002799  \n",
       "0600000US3914170898           27830.0     -41.0     -0.001471  \n",
       "0600000US3907326488           11768.0     -54.0     -0.004568  \n",
       "0600000US3910147768           43878.0    -105.0     -0.002387  "
      ]
     },
     "execution_count": 83,
     "metadata": {},
     "output_type": "execute_result"
    }
   ],
   "source": [
    "subdivPopControlled[[\"NAME\",\"POP\",\"CONTROLLED_VALUE\",\"RESIDUAL\",\"RESIDUAL_PCT\"]].sort_values(\"RESIDUAL\", ascending=False).tail(10)"
   ]
  },
  {
   "cell_type": "markdown",
   "id": "0b993042-e433-48c0-9211-f387933c15f3",
   "metadata": {
    "editable": true,
    "slideshow": {
     "slide_type": ""
    },
    "tags": []
   },
   "source": [
    "The raw residual for Columbus was very large, but as a percentage it is not that bad.  Let's look at the stats for the percentages."
   ]
  },
  {
   "cell_type": "code",
   "execution_count": 84,
   "id": "22362d8c-40d7-4dcf-94b8-5a5dbc187f88",
   "metadata": {
    "editable": true,
    "slideshow": {
     "slide_type": ""
    },
    "tags": []
   },
   "outputs": [
    {
     "data": {
      "text/plain": [
       "count    264.000000\n",
       "mean       0.004440\n",
       "std        0.005793\n",
       "min       -0.004896\n",
       "25%       -0.000882\n",
       "50%        0.004224\n",
       "75%        0.007772\n",
       "max        0.016835\n",
       "Name: RESIDUAL_PCT, dtype: float64"
      ]
     },
     "execution_count": 84,
     "metadata": {},
     "output_type": "execute_result"
    }
   ],
   "source": [
    "subdivPopControlled[\"RESIDUAL_PCT\"].describe()"
   ]
  },
  {
   "cell_type": "code",
   "execution_count": 85,
   "id": "cb9042de-bd75-4fda-9ca1-94ce4765acce",
   "metadata": {
    "editable": true,
    "slideshow": {
     "slide_type": ""
    },
    "tags": []
   },
   "outputs": [
    {
     "data": {
      "text/plain": [
       "<Axes: >"
      ]
     },
     "execution_count": 85,
     "metadata": {},
     "output_type": "execute_result"
    },
    {
     "data": {
      "image/png": "[encoded data removed]",
      "text/plain": [
       "<Figure size 640x480 with 1 Axes>"
      ]
     },
     "metadata": {},
     "output_type": "display_data"
    }
   ],
   "source": [
    "subdivPopControlled[\"RESIDUAL_PCT\"].hist(bins=25)"
   ]
  },
  {
   "cell_type": "code",
   "execution_count": 86,
   "id": "40c69f87-d4ac-4654-bbb2-866242396e37",
   "metadata": {
    "editable": true,
    "slideshow": {
     "slide_type": ""
    },
    "tags": []
   },
   "outputs": [
    {
     "data": {
      "text/html": [
       "<div>\n",
       "<style scoped>\n",
       "    .dataframe tbody tr th:only-of-type {\n",
       "        vertical-align: middle;\n",
       "    }\n",
       "\n",
       "    .dataframe tbody tr th {\n",
       "        vertical-align: top;\n",
       "    }\n",
       "\n",
       "    .dataframe thead th {\n",
       "        text-align: right;\n",
       "    }\n",
       "</style>\n",
       "<table border=\"1\" class=\"dataframe\">\n",
       "  <thead>\n",
       "    <tr style=\"text-align: right;\">\n",
       "      <th></th>\n",
       "      <th>NAME</th>\n",
       "      <th>POP</th>\n",
       "      <th>CONTROLLED_VALUE</th>\n",
       "      <th>RESIDUAL</th>\n",
       "      <th>RESIDUAL_PCT</th>\n",
       "    </tr>\n",
       "    <tr>\n",
       "      <th>GEOID</th>\n",
       "      <th></th>\n",
       "      <th></th>\n",
       "      <th></th>\n",
       "      <th></th>\n",
       "      <th></th>\n",
       "    </tr>\n",
       "  </thead>\n",
       "  <tbody>\n",
       "    <tr>\n",
       "      <th>0600000US3915981662</th>\n",
       "      <td>Washington township (81662), Union County, Ohio</td>\n",
       "      <td>891</td>\n",
       "      <td>906.0</td>\n",
       "      <td>15.0</td>\n",
       "      <td>0.016835</td>\n",
       "    </tr>\n",
       "    <tr>\n",
       "      <th>0600000US3915938108</th>\n",
       "      <td>Jackson township, Union County, Ohio</td>\n",
       "      <td>1073</td>\n",
       "      <td>1091.0</td>\n",
       "      <td>18.0</td>\n",
       "      <td>0.016775</td>\n",
       "    </tr>\n",
       "    <tr>\n",
       "      <th>0600000US3915978582</th>\n",
       "      <td>Union township, Union County, Ohio</td>\n",
       "      <td>1323</td>\n",
       "      <td>1345.0</td>\n",
       "      <td>22.0</td>\n",
       "      <td>0.016629</td>\n",
       "    </tr>\n",
       "    <tr>\n",
       "      <th>0600000US3915901336</th>\n",
       "      <td>Allen township, Union County, Ohio</td>\n",
       "      <td>2407</td>\n",
       "      <td>2447.0</td>\n",
       "      <td>40.0</td>\n",
       "      <td>0.016618</td>\n",
       "    </tr>\n",
       "    <tr>\n",
       "      <th>0600000US3915942490</th>\n",
       "      <td>Leesburg township, Union County, Ohio</td>\n",
       "      <td>1752</td>\n",
       "      <td>1781.0</td>\n",
       "      <td>29.0</td>\n",
       "      <td>0.016553</td>\n",
       "    </tr>\n",
       "    <tr>\n",
       "      <th>0600000US3915939046</th>\n",
       "      <td>Jerome township, Union County, Ohio</td>\n",
       "      <td>9101</td>\n",
       "      <td>9251.0</td>\n",
       "      <td>150.0</td>\n",
       "      <td>0.016482</td>\n",
       "    </tr>\n",
       "    <tr>\n",
       "      <th>0600000US3915915112</th>\n",
       "      <td>Claibourne township, Union County, Ohio</td>\n",
       "      <td>3530</td>\n",
       "      <td>3588.0</td>\n",
       "      <td>58.0</td>\n",
       "      <td>0.016431</td>\n",
       "    </tr>\n",
       "    <tr>\n",
       "      <th>0600000US3915959864</th>\n",
       "      <td>Paris township, Union County, Ohio</td>\n",
       "      <td>26610</td>\n",
       "      <td>27047.0</td>\n",
       "      <td>437.0</td>\n",
       "      <td>0.016422</td>\n",
       "    </tr>\n",
       "    <tr>\n",
       "      <th>0600000US3915987122</th>\n",
       "      <td>York township, Union County, Ohio</td>\n",
       "      <td>1281</td>\n",
       "      <td>1302.0</td>\n",
       "      <td>21.0</td>\n",
       "      <td>0.016393</td>\n",
       "    </tr>\n",
       "    <tr>\n",
       "      <th>0600000US3915922484</th>\n",
       "      <td>Dover township, Union County, Ohio</td>\n",
       "      <td>2379</td>\n",
       "      <td>2418.0</td>\n",
       "      <td>39.0</td>\n",
       "      <td>0.016393</td>\n",
       "    </tr>\n",
       "  </tbody>\n",
       "</table>\n",
       "</div>"
      ],
      "text/plain": [
       "                                                                NAME    POP  \\\n",
       "GEOID                                                                         \n",
       "0600000US3915981662  Washington township (81662), Union County, Ohio    891   \n",
       "0600000US3915938108             Jackson township, Union County, Ohio   1073   \n",
       "0600000US3915978582               Union township, Union County, Ohio   1323   \n",
       "0600000US3915901336               Allen township, Union County, Ohio   2407   \n",
       "0600000US3915942490            Leesburg township, Union County, Ohio   1752   \n",
       "0600000US3915939046              Jerome township, Union County, Ohio   9101   \n",
       "0600000US3915915112          Claibourne township, Union County, Ohio   3530   \n",
       "0600000US3915959864               Paris township, Union County, Ohio  26610   \n",
       "0600000US3915987122                York township, Union County, Ohio   1281   \n",
       "0600000US3915922484               Dover township, Union County, Ohio   2379   \n",
       "\n",
       "                     CONTROLLED_VALUE  RESIDUAL  RESIDUAL_PCT  \n",
       "GEOID                                                          \n",
       "0600000US3915981662             906.0      15.0      0.016835  \n",
       "0600000US3915938108            1091.0      18.0      0.016775  \n",
       "0600000US3915978582            1345.0      22.0      0.016629  \n",
       "0600000US3915901336            2447.0      40.0      0.016618  \n",
       "0600000US3915942490            1781.0      29.0      0.016553  \n",
       "0600000US3915939046            9251.0     150.0      0.016482  \n",
       "0600000US3915915112            3588.0      58.0      0.016431  \n",
       "0600000US3915959864           27047.0     437.0      0.016422  \n",
       "0600000US3915987122            1302.0      21.0      0.016393  \n",
       "0600000US3915922484            2418.0      39.0      0.016393  "
      ]
     },
     "execution_count": 86,
     "metadata": {},
     "output_type": "execute_result"
    }
   ],
   "source": [
    "subdivPopControlled[[\"NAME\",\"POP\",\"CONTROLLED_VALUE\",\"RESIDUAL\",\"RESIDUAL_PCT\"]].sort_values(\"RESIDUAL_PCT\", ascending=False).head(10)"
   ]
  },
  {
   "cell_type": "code",
   "execution_count": 87,
   "id": "f9b822a2-d101-4c51-bb70-2939a6e860a9",
   "metadata": {
    "editable": true,
    "slideshow": {
     "slide_type": ""
    },
    "tags": []
   },
   "outputs": [
    {
     "data": {
      "text/html": [
       "<div>\n",
       "<style scoped>\n",
       "    .dataframe tbody tr th:only-of-type {\n",
       "        vertical-align: middle;\n",
       "    }\n",
       "\n",
       "    .dataframe tbody tr th {\n",
       "        vertical-align: top;\n",
       "    }\n",
       "\n",
       "    .dataframe thead th {\n",
       "        text-align: right;\n",
       "    }\n",
       "</style>\n",
       "<table border=\"1\" class=\"dataframe\">\n",
       "  <thead>\n",
       "    <tr style=\"text-align: right;\">\n",
       "      <th></th>\n",
       "      <th>NAME</th>\n",
       "      <th>POP</th>\n",
       "      <th>CONTROLLED_VALUE</th>\n",
       "      <th>RESIDUAL</th>\n",
       "      <th>RESIDUAL_PCT</th>\n",
       "    </tr>\n",
       "    <tr>\n",
       "      <th>GEOID</th>\n",
       "      <th></th>\n",
       "      <th></th>\n",
       "      <th></th>\n",
       "      <th></th>\n",
       "      <th></th>\n",
       "    </tr>\n",
       "  </thead>\n",
       "  <tbody>\n",
       "    <tr>\n",
       "      <th>0600000US3907380780</th>\n",
       "      <td>Ward township, Hocking County, Ohio</td>\n",
       "      <td>1127</td>\n",
       "      <td>1122.0</td>\n",
       "      <td>-5.0</td>\n",
       "      <td>-0.004437</td>\n",
       "    </tr>\n",
       "    <tr>\n",
       "      <th>0600000US3907370142</th>\n",
       "      <td>Salt Creek township, Hocking County, Ohio</td>\n",
       "      <td>888</td>\n",
       "      <td>884.0</td>\n",
       "      <td>-4.0</td>\n",
       "      <td>-0.004505</td>\n",
       "    </tr>\n",
       "    <tr>\n",
       "      <th>0600000US3907326488</th>\n",
       "      <td>Falls township, Hocking County, Ohio</td>\n",
       "      <td>11822</td>\n",
       "      <td>11768.0</td>\n",
       "      <td>-54.0</td>\n",
       "      <td>-0.004568</td>\n",
       "    </tr>\n",
       "    <tr>\n",
       "      <th>0600000US3907361868</th>\n",
       "      <td>Perry township, Hocking County, Ohio</td>\n",
       "      <td>2622</td>\n",
       "      <td>2610.0</td>\n",
       "      <td>-12.0</td>\n",
       "      <td>-0.004577</td>\n",
       "    </tr>\n",
       "    <tr>\n",
       "      <th>0600000US3907331780</th>\n",
       "      <td>Green township, Hocking County, Ohio</td>\n",
       "      <td>3242</td>\n",
       "      <td>3227.0</td>\n",
       "      <td>-15.0</td>\n",
       "      <td>-0.004627</td>\n",
       "    </tr>\n",
       "    <tr>\n",
       "      <th>0600000US3907305578</th>\n",
       "      <td>Benton township, Hocking County, Ohio</td>\n",
       "      <td>853</td>\n",
       "      <td>849.0</td>\n",
       "      <td>-4.0</td>\n",
       "      <td>-0.004689</td>\n",
       "    </tr>\n",
       "    <tr>\n",
       "      <th>0600000US3907342056</th>\n",
       "      <td>Laurel township, Hocking County, Ohio</td>\n",
       "      <td>1063</td>\n",
       "      <td>1058.0</td>\n",
       "      <td>-5.0</td>\n",
       "      <td>-0.004704</td>\n",
       "    </tr>\n",
       "    <tr>\n",
       "      <th>0600000US3907381354</th>\n",
       "      <td>Washington township, Hocking County, Ohio</td>\n",
       "      <td>1058</td>\n",
       "      <td>1053.0</td>\n",
       "      <td>-5.0</td>\n",
       "      <td>-0.004726</td>\n",
       "    </tr>\n",
       "    <tr>\n",
       "      <th>0600000US3907347740</th>\n",
       "      <td>Marion township, Hocking County, Ohio</td>\n",
       "      <td>2505</td>\n",
       "      <td>2493.0</td>\n",
       "      <td>-12.0</td>\n",
       "      <td>-0.004790</td>\n",
       "    </tr>\n",
       "    <tr>\n",
       "      <th>0600000US3907374405</th>\n",
       "      <td>Starr township, Hocking County, Ohio</td>\n",
       "      <td>1634</td>\n",
       "      <td>1626.0</td>\n",
       "      <td>-8.0</td>\n",
       "      <td>-0.004896</td>\n",
       "    </tr>\n",
       "  </tbody>\n",
       "</table>\n",
       "</div>"
      ],
      "text/plain": [
       "                                                          NAME    POP  \\\n",
       "GEOID                                                                   \n",
       "0600000US3907380780        Ward township, Hocking County, Ohio   1127   \n",
       "0600000US3907370142  Salt Creek township, Hocking County, Ohio    888   \n",
       "0600000US3907326488       Falls township, Hocking County, Ohio  11822   \n",
       "0600000US3907361868       Perry township, Hocking County, Ohio   2622   \n",
       "0600000US3907331780       Green township, Hocking County, Ohio   3242   \n",
       "0600000US3907305578      Benton township, Hocking County, Ohio    853   \n",
       "0600000US3907342056      Laurel township, Hocking County, Ohio   1063   \n",
       "0600000US3907381354  Washington township, Hocking County, Ohio   1058   \n",
       "0600000US3907347740      Marion township, Hocking County, Ohio   2505   \n",
       "0600000US3907374405       Starr township, Hocking County, Ohio   1634   \n",
       "\n",
       "                     CONTROLLED_VALUE  RESIDUAL  RESIDUAL_PCT  \n",
       "GEOID                                                          \n",
       "0600000US3907380780            1122.0      -5.0     -0.004437  \n",
       "0600000US3907370142             884.0      -4.0     -0.004505  \n",
       "0600000US3907326488           11768.0     -54.0     -0.004568  \n",
       "0600000US3907361868            2610.0     -12.0     -0.004577  \n",
       "0600000US3907331780            3227.0     -15.0     -0.004627  \n",
       "0600000US3907305578             849.0      -4.0     -0.004689  \n",
       "0600000US3907342056            1058.0      -5.0     -0.004704  \n",
       "0600000US3907381354            1053.0      -5.0     -0.004726  \n",
       "0600000US3907347740            2493.0     -12.0     -0.004790  \n",
       "0600000US3907374405            1626.0      -8.0     -0.004896  "
      ]
     },
     "execution_count": 87,
     "metadata": {},
     "output_type": "execute_result"
    }
   ],
   "source": [
    "subdivPopControlled[[\"NAME\",\"POP\",\"CONTROLLED_VALUE\",\"RESIDUAL\",\"RESIDUAL_PCT\"]].sort_values(\"RESIDUAL_PCT\", ascending=False).tail(10)"
   ]
  },
  {
   "cell_type": "markdown",
   "id": "289570d2-9bf9-460f-b2ec-150a154471e9",
   "metadata": {
    "editable": true,
    "slideshow": {
     "slide_type": ""
    },
    "tags": []
   },
   "source": [
    "# morpc.census"
   ]
  },
  {
   "cell_type": "markdown",
   "id": "58987e00-3d90-4b49-8803-ffeca7a757a5",
   "metadata": {
    "editable": true,
    "slideshow": {
     "slide_type": ""
    },
    "tags": []
   },
   "source": [
    "MORPC works regularly with census data, including but not limited to ACS 5 and 1-year, Decennial Census, PEP, and geographies. The following module is useful for gathering and organizing census data for processes in various workflow. Those workflows are linked when appropriate. "
   ]
  },
  {
   "cell_type": "markdown",
   "id": "bfb91bc2-47ee-4472-8e8c-19025394c71d",
   "metadata": {
    "editable": true,
    "slideshow": {
     "slide_type": ""
    },
    "tags": []
   },
   "source": [
    "### ACS functions and variables"
   ]
  },
  {
   "cell_type": "markdown",
   "id": "84188f39-8fc0-4e3d-baac-dcbc5e476929",
   "metadata": {
    "editable": true,
    "slideshow": {
     "slide_type": ""
    },
    "tags": []
   },
   "source": [
    "acs_get() is a low-level wrapper for Census API requests that returns the results as a pandas dataframe. If necessary, it splits the request into several smaller requests to bypass the 50-variable limit imposed by the API.  \n",
    "\n",
    "The resulting dataframe is indexed by GEOID (regardless of whether it was requested) and omits other fields that are not requested but which are returned automatically with each API request (e.g. \"state\", \"county\") "
   ]
  },
  {
   "cell_type": "code",
   "execution_count": 88,
   "id": "4d3fa2a0-e67c-459f-b0c7-0894025213f8",
   "metadata": {
    "editable": true,
    "slideshow": {
     "slide_type": ""
    },
    "tags": []
   },
   "outputs": [],
   "source": [
    "url = 'https://api.census.gov/data/2022/acs/acs1'\n",
    "params = {\n",
    "    \"get\": \"GEO_ID,NAME,B01001_001E\",\n",
    "    \"for\": \"county:049,041\",\n",
    "    \"in\": \"state:39\"\n",
    "}"
   ]
  },
  {
   "cell_type": "code",
   "execution_count": 89,
   "id": "44e4bb37-f082-4530-b7cc-abdad16895df",
   "metadata": {
    "editable": true,
    "slideshow": {
     "slide_type": ""
    },
    "tags": []
   },
   "outputs": [
    {
     "name": "stdout",
     "output_type": "stream",
     "text": [
      "Total variables requested: 3\n",
      "Starting request #1. 3 variables remain.\n"
     ]
    }
   ],
   "source": [
    "acs = morpc.census.acs_get(url, params)"
   ]
  },
  {
   "cell_type": "code",
   "execution_count": 90,
   "id": "4e47da6b-4e55-4ed0-9c94-b94954424456",
   "metadata": {
    "editable": true,
    "slideshow": {
     "slide_type": ""
    },
    "tags": []
   },
   "outputs": [
    {
     "data": {
      "text/html": [
       "<div>\n",
       "<style scoped>\n",
       "    .dataframe tbody tr th:only-of-type {\n",
       "        vertical-align: middle;\n",
       "    }\n",
       "\n",
       "    .dataframe tbody tr th {\n",
       "        vertical-align: top;\n",
       "    }\n",
       "\n",
       "    .dataframe thead th {\n",
       "        text-align: right;\n",
       "    }\n",
       "</style>\n",
       "<table border=\"1\" class=\"dataframe\">\n",
       "  <thead>\n",
       "    <tr style=\"text-align: right;\">\n",
       "      <th></th>\n",
       "      <th>NAME</th>\n",
       "      <th>B01001_001E</th>\n",
       "    </tr>\n",
       "    <tr>\n",
       "      <th>GEO_ID</th>\n",
       "      <th></th>\n",
       "      <th></th>\n",
       "    </tr>\n",
       "  </thead>\n",
       "  <tbody>\n",
       "    <tr>\n",
       "      <th>0500000US39041</th>\n",
       "      <td>Delaware County, Ohio</td>\n",
       "      <td>226296</td>\n",
       "    </tr>\n",
       "    <tr>\n",
       "      <th>0500000US39049</th>\n",
       "      <td>Franklin County, Ohio</td>\n",
       "      <td>1321820</td>\n",
       "    </tr>\n",
       "  </tbody>\n",
       "</table>\n",
       "</div>"
      ],
      "text/plain": [
       "                                 NAME B01001_001E\n",
       "GEO_ID                                           \n",
       "0500000US39041  Delaware County, Ohio      226296\n",
       "0500000US39049  Franklin County, Ohio     1321820"
      ]
     },
     "execution_count": 90,
     "metadata": {},
     "output_type": "execute_result"
    }
   ],
   "source": [
    "acs"
   ]
  },
  {
   "cell_type": "markdown",
   "id": "343fed36-aefb-43ad-8dc4-a826335265da",
   "metadata": {
    "editable": true,
    "slideshow": {
     "slide_type": ""
    },
    "tags": []
   },
   "source": [
    "### Using morpc-censusacs-fetch as an input"
   ]
  },
  {
   "cell_type": "markdown",
   "id": "e311ca0a-a0c3-4396-ac3f-287a0dd183a9",
   "metadata": {
    "editable": true,
    "slideshow": {
     "slide_type": ""
    },
    "tags": []
   },
   "source": [
    "When using ACS data, generally we will be digesting data produded using the [morpc-censusacs-fetch](https://github.com/morpc/morpc-censusacs-fetch) workflow. The data that is produced from that script is by default saved in its output_data folders ./morpc-censusacs-fetch/output_data/\n",
    "\n",
    "Run that script according to the documentation and then use acs_generate_dimension_table() downstream. "
   ]
  },
  {
   "cell_type": "markdown",
   "id": "9d314ee3-441e-4c41-8b66-a77ecbd77879",
   "metadata": {
    "editable": true,
    "slideshow": {
     "slide_type": ""
    },
    "tags": []
   },
   "source": [
    "#### Load the data using frictionless.load_data()"
   ]
  },
  {
   "cell_type": "code",
   "execution_count": 91,
   "id": "5f0ea513-5357-407e-bf80-8c4c83ec9364",
   "metadata": {
    "editable": true,
    "slideshow": {
     "slide_type": ""
    },
    "tags": []
   },
   "outputs": [
    {
     "name": "stdout",
     "output_type": "stream",
     "text": [
      "morpc.load_data | INFO | Loading Frictionless Resource file at location ..\\..\\morpc-censusacs-fetch\\output_data\\morpc-acs5-2023-us-B01001.resource.yaml\n",
      "morpc.load_data | INFO | Loading data, resource file, and schema from their source locations\n",
      "morpc.load_data | INFO | --> Data file: ..\\..\\morpc-censusacs-fetch\\output_data\\morpc-acs5-2023-us-B01001.csv\n",
      "morpc.load_data | INFO | --> Resource file: ..\\..\\morpc-censusacs-fetch\\output_data\\morpc-acs5-2023-us-B01001.resource.yaml\n",
      "morpc.load_data | INFO | --> Schema file: ..\\..\\morpc-censusacs-fetch\\output_data\\morpc-acs5-2023-us-B01001.schema.yaml\n",
      "morpc.load_data | INFO | Loading data.\n"
     ]
    }
   ],
   "source": [
    "data, resource, schema = morpc.frictionless.load_data('../../morpc-censusacs-fetch/output_data/morpc-acs5-2023-us-B01001.resource.yaml', verbose=False)"
   ]
  },
  {
   "cell_type": "code",
   "execution_count": 92,
   "id": "a40c023c-acec-42ed-a5bc-b52da0a2b326",
   "metadata": {
    "editable": true,
    "slideshow": {
     "slide_type": ""
    },
    "tags": []
   },
   "outputs": [
    {
     "data": {
      "text/html": [
       "<div>\n",
       "<style scoped>\n",
       "    .dataframe tbody tr th:only-of-type {\n",
       "        vertical-align: middle;\n",
       "    }\n",
       "\n",
       "    .dataframe tbody tr th {\n",
       "        vertical-align: top;\n",
       "    }\n",
       "\n",
       "    .dataframe thead th {\n",
       "        text-align: right;\n",
       "    }\n",
       "</style>\n",
       "<table border=\"1\" class=\"dataframe\">\n",
       "  <thead>\n",
       "    <tr style=\"text-align: right;\">\n",
       "      <th></th>\n",
       "      <th>GEO_ID</th>\n",
       "      <th>SUMLEVEL</th>\n",
       "      <th>NAME</th>\n",
       "      <th>B01001_001E</th>\n",
       "      <th>B01001_001M</th>\n",
       "      <th>B01001_002E</th>\n",
       "      <th>B01001_002M</th>\n",
       "      <th>B01001_003E</th>\n",
       "      <th>B01001_003M</th>\n",
       "      <th>B01001_004E</th>\n",
       "      <th>...</th>\n",
       "      <th>B01001_045E</th>\n",
       "      <th>B01001_045M</th>\n",
       "      <th>B01001_046E</th>\n",
       "      <th>B01001_046M</th>\n",
       "      <th>B01001_047E</th>\n",
       "      <th>B01001_047M</th>\n",
       "      <th>B01001_048E</th>\n",
       "      <th>B01001_048M</th>\n",
       "      <th>B01001_049E</th>\n",
       "      <th>B01001_049M</th>\n",
       "    </tr>\n",
       "  </thead>\n",
       "  <tbody>\n",
       "    <tr>\n",
       "      <th>0</th>\n",
       "      <td>0100000US</td>\n",
       "      <td>010</td>\n",
       "      <td>United States</td>\n",
       "      <td>332387540</td>\n",
       "      <td>-555555555</td>\n",
       "      <td>164545087</td>\n",
       "      <td>6966</td>\n",
       "      <td>9688436</td>\n",
       "      <td>4185</td>\n",
       "      <td>10296243</td>\n",
       "      <td>...</td>\n",
       "      <td>5576237</td>\n",
       "      <td>15826</td>\n",
       "      <td>7978348</td>\n",
       "      <td>17513</td>\n",
       "      <td>5461052</td>\n",
       "      <td>16334</td>\n",
       "      <td>3631914</td>\n",
       "      <td>12460</td>\n",
       "      <td>4050652</td>\n",
       "      <td>15097</td>\n",
       "    </tr>\n",
       "  </tbody>\n",
       "</table>\n",
       "<p>1 rows × 101 columns</p>\n",
       "</div>"
      ],
      "text/plain": [
       "      GEO_ID SUMLEVEL           NAME  B01001_001E  B01001_001M  B01001_002E  \\\n",
       "0  0100000US      010  United States    332387540   -555555555    164545087   \n",
       "\n",
       "   B01001_002M  B01001_003E  B01001_003M  B01001_004E  ...  B01001_045E  \\\n",
       "0         6966      9688436         4185     10296243  ...      5576237   \n",
       "\n",
       "   B01001_045M  B01001_046E  B01001_046M  B01001_047E  B01001_047M  \\\n",
       "0        15826      7978348        17513      5461052        16334   \n",
       "\n",
       "   B01001_048E  B01001_048M  B01001_049E  B01001_049M  \n",
       "0      3631914        12460      4050652        15097  \n",
       "\n",
       "[1 rows x 101 columns]"
      ]
     },
     "execution_count": 92,
     "metadata": {},
     "output_type": "execute_result"
    }
   ],
   "source": [
    "data"
   ]
  },
  {
   "cell_type": "markdown",
   "id": "b14a8894-7332-473c-94c7-aa19e6169f93",
   "metadata": {
    "editable": true,
    "slideshow": {
     "slide_type": ""
    },
    "tags": []
   },
   "source": [
    "#### Using ACS_ID_FIELDS to get the fields ids"
   ]
  },
  {
   "cell_type": "code",
   "execution_count": 93,
   "id": "a6f027e5-671f-48c3-a142-7ef846d82b14",
   "metadata": {
    "editable": true,
    "slideshow": {
     "slide_type": ""
    },
    "tags": []
   },
   "outputs": [],
   "source": [
    "idFields = [field[\"name\"] for field in morpc.census.ACS_ID_FIELDS['us']]"
   ]
  },
  {
   "cell_type": "code",
   "execution_count": 95,
   "id": "34af9b25-ab81-48df-b115-d5aa434b0557",
   "metadata": {
    "editable": true,
    "slideshow": {
     "slide_type": ""
    },
    "tags": []
   },
   "outputs": [
    {
     "data": {
      "text/html": [
       "<div>\n",
       "<style scoped>\n",
       "    .dataframe tbody tr th:only-of-type {\n",
       "        vertical-align: middle;\n",
       "    }\n",
       "\n",
       "    .dataframe tbody tr th {\n",
       "        vertical-align: top;\n",
       "    }\n",
       "\n",
       "    .dataframe thead th {\n",
       "        text-align: right;\n",
       "    }\n",
       "</style>\n",
       "<table border=\"1\" class=\"dataframe\">\n",
       "  <thead>\n",
       "    <tr style=\"text-align: right;\">\n",
       "      <th></th>\n",
       "      <th>Universe</th>\n",
       "      <th>Universe MOE</th>\n",
       "    </tr>\n",
       "    <tr>\n",
       "      <th>GEOID</th>\n",
       "      <th></th>\n",
       "      <th></th>\n",
       "    </tr>\n",
       "  </thead>\n",
       "  <tbody>\n",
       "    <tr>\n",
       "      <th></th>\n",
       "      <td>332387540</td>\n",
       "      <td>-555555555</td>\n",
       "    </tr>\n",
       "  </tbody>\n",
       "</table>\n",
       "</div>"
      ],
      "text/plain": [
       "        Universe  Universe MOE\n",
       "GEOID                         \n",
       "       332387540    -555555555"
      ]
     },
     "execution_count": 95,
     "metadata": {},
     "output_type": "execute_result"
    }
   ],
   "source": [
    "morpc.census.acs_generate_universe_table(data.set_index(\"GEO_ID\"), \"B01001_001\")"
   ]
  },
  {
   "cell_type": "markdown",
   "id": "cec6064d-45ca-4c87-98d6-3c013eee523e",
   "metadata": {
    "editable": true,
    "slideshow": {
     "slide_type": ""
    },
    "tags": []
   },
   "source": [
    "#### Create a dimension table with the data and the dimension names"
   ]
  },
  {
   "cell_type": "code",
   "execution_count": 96,
   "id": "a3d5862c-9045-44a4-8749-070a975b7900",
   "metadata": {
    "editable": true,
    "slideshow": {
     "slide_type": ""
    },
    "tags": []
   },
   "outputs": [],
   "source": [
    "dim_table = morpc.census.acs_generate_dimension_table(data.set_index(\"GEO_ID\"), schema, idFields=idFields, dimensionNames=[\"Sex\", \"Age group\"])"
   ]
  },
  {
   "cell_type": "code",
   "execution_count": 97,
   "id": "b048439a-5b78-4ae9-8e18-e54979ee830c",
   "metadata": {
    "editable": true,
    "slideshow": {
     "slide_type": ""
    },
    "tags": []
   },
   "outputs": [
    {
     "data": {
      "text/html": [
       "<div>\n",
       "<style scoped>\n",
       "    .dataframe tbody tr th:only-of-type {\n",
       "        vertical-align: middle;\n",
       "    }\n",
       "\n",
       "    .dataframe tbody tr th {\n",
       "        vertical-align: top;\n",
       "    }\n",
       "\n",
       "    .dataframe thead th {\n",
       "        text-align: right;\n",
       "    }\n",
       "</style>\n",
       "<table border=\"1\" class=\"dataframe\">\n",
       "  <thead>\n",
       "    <tr style=\"text-align: right;\">\n",
       "      <th></th>\n",
       "      <th>GEOID</th>\n",
       "      <th>Variable</th>\n",
       "      <th>Value</th>\n",
       "      <th>Sex</th>\n",
       "      <th>Age group</th>\n",
       "      <th>Variable type</th>\n",
       "    </tr>\n",
       "  </thead>\n",
       "  <tbody>\n",
       "    <tr>\n",
       "      <th>0</th>\n",
       "      <td></td>\n",
       "      <td>B01001_001E</td>\n",
       "      <td>332387540</td>\n",
       "      <td>NaN</td>\n",
       "      <td>NaN</td>\n",
       "      <td>Estimate</td>\n",
       "    </tr>\n",
       "    <tr>\n",
       "      <th>2</th>\n",
       "      <td></td>\n",
       "      <td>B01001_002E</td>\n",
       "      <td>164545087</td>\n",
       "      <td>Male</td>\n",
       "      <td>NaN</td>\n",
       "      <td>Estimate</td>\n",
       "    </tr>\n",
       "    <tr>\n",
       "      <th>4</th>\n",
       "      <td></td>\n",
       "      <td>B01001_003E</td>\n",
       "      <td>9688436</td>\n",
       "      <td>Male</td>\n",
       "      <td>Under 5 years</td>\n",
       "      <td>Estimate</td>\n",
       "    </tr>\n",
       "    <tr>\n",
       "      <th>6</th>\n",
       "      <td></td>\n",
       "      <td>B01001_004E</td>\n",
       "      <td>10296243</td>\n",
       "      <td>Male</td>\n",
       "      <td>5 to 9 years</td>\n",
       "      <td>Estimate</td>\n",
       "    </tr>\n",
       "    <tr>\n",
       "      <th>8</th>\n",
       "      <td></td>\n",
       "      <td>B01001_005E</td>\n",
       "      <td>11032019</td>\n",
       "      <td>Male</td>\n",
       "      <td>10 to 14 years</td>\n",
       "      <td>Estimate</td>\n",
       "    </tr>\n",
       "  </tbody>\n",
       "</table>\n",
       "</div>"
      ],
      "text/plain": [
       "  GEOID     Variable      Value   Sex       Age group Variable type\n",
       "0        B01001_001E  332387540   NaN             NaN      Estimate\n",
       "2        B01001_002E  164545087  Male             NaN      Estimate\n",
       "4        B01001_003E    9688436  Male   Under 5 years      Estimate\n",
       "6        B01001_004E   10296243  Male    5 to 9 years      Estimate\n",
       "8        B01001_005E   11032019  Male  10 to 14 years      Estimate"
      ]
     },
     "execution_count": 97,
     "metadata": {},
     "output_type": "execute_result"
    }
   ],
   "source": [
    "dim_table.loc[dim_table['Variable type'] == 'Estimate'].head()"
   ]
  },
  {
   "cell_type": "markdown",
   "id": "e4a0d63b-9a64-4406-a189-3b7af93cea22",
   "metadata": {
    "editable": true,
    "jp-MarkdownHeadingCollapsed": true,
    "slideshow": {
     "slide_type": ""
    },
    "tags": [],
    "toc-hr-collapsed": true
   },
   "source": [
    "# Schema tools (Apache Avro format) - DEPRECIATED"
   ]
  },
  {
   "cell_type": "markdown",
   "id": "b77aff55-6efd-4459-a4d6-a5bbce53784f",
   "metadata": {},
   "source": [
    "**DEPRECATION WARNING**:  As of January 2024 the Data Team is considering a new standard for machine-readable metadata, namely TableSchema (see below).  Code that makes use of the features described in this section will likely need to be updated to make use of the new standard when it is adopted. Use discretion when making use of these features."
   ]
  },
  {
   "cell_type": "markdown",
   "id": "8c92b7ff-689f-4ade-a1c2-a94212e664cb",
   "metadata": {},
   "source": [
    "[Apache Avro](https://en.wikipedia.org/wiki/Apache_Avro) is an open source data serialization technology that includes a JSON-based [schema specification format](https://avro.apache.org/docs/1.11.1/specification/).  MORPC does not typically use the Avro format itself, however code written through 2023 may have relied on schemas specified in Avro format.  This section demonstrates utility functions for loading Avro-formatted schemas and using the schemas to manipulate data.\n",
    "\n",
    "The demonstration relies on a local copy of data from the [morpc-lookup](https://github.com/morpc/morpc-lookup) repository in GitHub.  Prior to running the code you must download the required data and schema and update the following paths (as needed) to point to the correct files."
   ]
  },
  {
   "cell_type": "code",
   "execution_count": null,
   "id": "e2f26530-aff8-4c9b-82be-1d2d7ba10da6",
   "metadata": {},
   "outputs": [],
   "source": [
    "dataPath = \"..\\morpc-lookup\\MORPC_Counties.csv\"\n",
    "schemaPath = dataPath.replace(\".csv\", \"_schema.json\")\n",
    "print(\"Data path: {}\".format(dataPath))\n",
    "print(\"Schema path: {}\".format(schemaPath))"
   ]
  },
  {
   "cell_type": "markdown",
   "id": "24a04a42-02ad-40ae-975e-e2218906bdd2",
   "metadata": {},
   "source": [
    "Load the data."
   ]
  },
  {
   "cell_type": "code",
   "execution_count": null,
   "id": "94d26978-bf65-4141-8f6e-bf2b89f35bcb",
   "metadata": {},
   "outputs": [],
   "source": [
    "dataRaw = pd.read_csv(dataPath)\n",
    "dataRaw.head()"
   ]
  },
  {
   "cell_type": "markdown",
   "id": "86d403f6-3c29-4e24-8f5d-a15574380d09",
   "metadata": {},
   "source": [
    "The data is stored in a CSV file.  In a CSV, all data is stored as strings.  There is no built-in mechanism for specifying the data type for each field. Note that pandas (like many other software applications) tried to infer the data type."
   ]
  },
  {
   "cell_type": "code",
   "execution_count": null,
   "id": "0b337c37-67c6-4b2c-817b-0f2726346d5a",
   "metadata": {},
   "outputs": [],
   "source": [
    "dataRaw.dtypes"
   ]
  },
  {
   "cell_type": "markdown",
   "id": "0c372fd1-4a53-41ee-9fd3-26bc9790ccc0",
   "metadata": {},
   "source": [
    "Sometimes the inference works well, other times not so well.  It is safer to specify the field types explictly.  One way to do this is to create a schema definition for the data.  Here is an example of a schema definition specified in Apache Avro format:"
   ]
  },
  {
   "cell_type": "code",
   "execution_count": null,
   "id": "bc6e95dc-6044-49b3-964e-86bf8b7d3416",
   "metadata": {},
   "outputs": [],
   "source": [
    "with open(schemaPath, \"r\") as f:\n",
    "    schemaRaw = f.read()\n",
    "print(schemaRaw)"
   ]
  },
  {
   "cell_type": "markdown",
   "id": "3f65c8b2-0753-422c-8ea3-fc39fbd694af",
   "metadata": {},
   "source": [
    "Note that that this format allows for specification of the field names and types, as well as dataset-level and variable-level metadata. Because Avro-style schemas are formatted as JSON, Python can easily convert the schema to a dictionary structure so that we can access it programmatically. The morpc-common library contains a convenience function to load the schema and convert it to a dictionary."
   ]
  },
  {
   "cell_type": "code",
   "execution_count": null,
   "id": "5cac7338-abea-4268-9f72-d1b86e1a26d5",
   "metadata": {},
   "outputs": [],
   "source": [
    "schema = morpc.load_avro_schema(schemaPath)\n",
    "print(\"The fields in this dataset are: \" + \", \".join([field[\"name\"] for field in schema[\"fields\"]]))"
   ]
  },
  {
   "cell_type": "markdown",
   "id": "83a047b6-3e78-4a4b-a800-ae4e36d8d52c",
   "metadata": {},
   "source": [
    "The morpc-common library contains several convenience functions for interacting with Avro schemas.  One such function casts each of the fields in a dataset as the correct data type as specified in the schema."
   ]
  },
  {
   "cell_type": "code",
   "execution_count": null,
   "id": "c185f757-0c4b-4a32-af25-6bad949add1d",
   "metadata": {},
   "outputs": [],
   "source": [
    "data = morpc.cast_field_types(dataRaw, schema)"
   ]
  },
  {
   "cell_type": "markdown",
   "id": "2cedd8fc-343a-4155-8388-7b32b09e5a60",
   "metadata": {},
   "source": [
    "Now the data types should match the schema, regardless of what pandas inferred originally."
   ]
  },
  {
   "cell_type": "code",
   "execution_count": null,
   "id": "c3e7ba41-f94b-479a-8aac-f6eb55840ef6",
   "metadata": {},
   "outputs": [],
   "source": [
    "data.dtypes"
   ]
  },
  {
   "cell_type": "markdown",
   "id": "e15f1529-dbbc-45f2-abfd-cdd8b2dfcd0d",
   "metadata": {},
   "source": [
    "**A note about integers**  The pandas \"int\" dtype does not support null values.  If a field contains null values and you try to cast it as \"int\", this function will automatically attempt to convert them to \"Int64\" (which does support null values) instead.  If this fails, it might be because the fractional part of one of your values (i.e. the part to the right of the decimal point) is non-zero.  You can either round the values before attempting the conversion or set `forceInteger=True` when calling the function. In the latter case, the function will round the values to the ones place prior to recasting the values."
   ]
  },
  {
   "cell_type": "markdown",
   "id": "21fa6179-35cd-4d56-92cc-dcd4757ff72d",
   "metadata": {},
   "source": [
    "Here's another function that creates a list object containing the names of the fields included in the schema."
   ]
  },
  {
   "cell_type": "code",
   "execution_count": null,
   "id": "070b868d-242a-4344-8e5c-e0a56ac2e290",
   "metadata": {},
   "outputs": [],
   "source": [
    "morpc.avro_get_field_names(schema)"
   ]
  },
  {
   "cell_type": "markdown",
   "id": "4ceb84b8-5467-4090-b70a-f7f4b10194e1",
   "metadata": {},
   "source": [
    "This one returns a dictionary mapping each field name to its type."
   ]
  },
  {
   "cell_type": "code",
   "execution_count": null,
   "id": "d693c39a-8012-4509-b65d-f7b02b3019a7",
   "metadata": {},
   "outputs": [],
   "source": [
    "morpc.avro_to_pandas_dtype_map(schema)"
   ]
  },
  {
   "cell_type": "markdown",
   "id": "c7eccb30-8970-48aa-84f6-f4d857a1e1bc",
   "metadata": {},
   "source": [
    "Sometimes a variable may be referred to by different names. It is possible to list the alternate names in the schema using the \"aliases\" property. The following function creates a dictionary that maps the original field name to the first (and presumably most common) alias.  This can be used to easily rename the fields in the dataset for use in a different application."
   ]
  },
  {
   "cell_type": "code",
   "execution_count": null,
   "id": "f7c970c2-15ec-4c95-babc-c0c4c5bc3d91",
   "metadata": {},
   "outputs": [],
   "source": [
    "morpc.avro_map_to_first_alias(schema)"
   ]
  },
  {
   "cell_type": "markdown",
   "id": "26d1b004-751e-4549-8e20-8f8ca214476b",
   "metadata": {},
   "source": [
    "The following function does the reverse of the previous one, namely it creates a dictionary mapping the first alias to the original field name.  This can be useful to reverse the previous remapping.  It is also useful for Shapefiles, which have a ten-character field name limit.  In that case, you can store the human-readable field name as the original field name and store the Shapefile-compliant field name as an alias."
   ]
  },
  {
   "cell_type": "code",
   "execution_count": null,
   "id": "80fc00b5-0452-46e5-8029-44e303c62667",
   "metadata": {},
   "outputs": [],
   "source": [
    "morpc.avro_map_from_first_alias(schema)"
   ]
  },
  {
   "cell_type": "markdown",
   "id": "3f127537-13f1-484a-892d-62b1461cea8f",
   "metadata": {},
   "source": [
    "Using the schema dictionary and the helper functions, you can easily do transformations of the data.  Here are some examples. First, take a look at the original data."
   ]
  },
  {
   "cell_type": "code",
   "execution_count": null,
   "id": "4a8eaa49-ebf0-46d1-9d3b-f930615d572d",
   "metadata": {},
   "outputs": [],
   "source": [
    "data.head()"
   ]
  },
  {
   "cell_type": "markdown",
   "id": "f903a4c0-a04e-413b-b276-8e675e0ccf59",
   "metadata": {},
   "source": [
    "Rename the columns in the data to the first alias for each column."
   ]
  },
  {
   "cell_type": "code",
   "execution_count": null,
   "id": "bd1732b2-bda5-4c81-ade1-42a6145c20a2",
   "metadata": {},
   "outputs": [],
   "source": [
    "data.rename(columns=morpc.avro_map_to_first_alias(schema)).head()"
   ]
  },
  {
   "cell_type": "markdown",
   "id": "9fa85ce0-3f5e-4eb1-b9d9-8abc8466849d",
   "metadata": {},
   "source": [
    "Filter and reorder fields."
   ]
  },
  {
   "cell_type": "code",
   "execution_count": null,
   "id": "40eee3c0-7566-4af1-ba94-cfabb1d17a94",
   "metadata": {},
   "outputs": [],
   "source": [
    "reverseOrder = morpc.avro_get_field_names(schema)\n",
    "reverseOrder.reverse()\n",
    "data[reverseOrder].head()"
   ]
  },
  {
   "cell_type": "code",
   "execution_count": null,
   "id": "d542f3fb-7cf1-4839-b3cb-1bc558f83008",
   "metadata": {
    "editable": true,
    "slideshow": {
     "slide_type": ""
    },
    "tags": []
   },
   "outputs": [],
   "source": [
    "oneLessField = morpc.avro_get_field_names(schema)\n",
    "oneLessField.remove(\"STATE_ID\")\n",
    "data[oneLessField].head()"
   ]
  }
 ],
 "metadata": {
  "kernelspec": {
   "display_name": "Python 3 (ipykernel)",
   "language": "python",
   "name": "python3"
  },
  "language_info": {
   "codemirror_mode": {
    "name": "ipython",
    "version": 3
   },
   "file_extension": ".py",
   "mimetype": "text/x-python",
   "name": "python",
   "nbconvert_exporter": "python",
   "pygments_lexer": "ipython3",
   "version": "3.12.10"
  },
  "toc-autonumbering": false,
  "toc-showcode": false,
  "toc-showmarkdowntxt": false,
  "toc-showtags": false
 },
 "nbformat": 4,
 "nbformat_minor": 5
}
