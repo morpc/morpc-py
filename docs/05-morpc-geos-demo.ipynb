{
 "cells": [
  {
   "cell_type": "markdown",
   "id": "2e7c0e95-72d3-4b78-85c1-7679c8b50d75",
   "metadata": {},
   "source": [
    "# Spatial Data Tools"
   ]
  },
  {
   "cell_type": "markdown",
   "id": "8f0a9134-295d-4a94-b91c-1f152350634d",
   "metadata": {
    "editable": true,
    "slideshow": {
     "slide_type": ""
    },
    "tags": []
   },
   "source": [
    "## Load spatial data"
   ]
  },
  {
   "cell_type": "markdown",
   "id": "63ec4df4-eec2-475d-936a-e93db94f52a3",
   "metadata": {},
   "source": [
    "Often we want to make a copy of some input data and work with the copy, for example to protect the original data or to create an archival copy of it so that we can replicate the process later.  With tabular data this is simple, but with spatial data it can be tricky.  Shapefiles actually consist of up to six files, so it is necessary to copy them all.  Geodatabases may contain many layers in addition to the one we care about.  The `load_spatial_data()` function simplifies the process of reading the data and (optionally) making an archival copy. It has three parameters:\n",
    "  - `sourcePath` - The path to the geospatial data. It may be a file path or URL. In the case of a Shapefile, this should point to the .shp file or a zipped file that contains all of the Shapefile components. You can point to other zipped contents as well, but see caveats below.\n",
    "  - `layerName` (required for GPKG and GDB, optional for SHP) - The name of the layer that you wish to extract from a GeoPackage or File Geodatabase.  Not required for Shapefiles, but may be specified for use in the archival copy (see below)\n",
    "  - `driverName` (required for zipped data or data with non-standard file extension) - which [GDAL driver](https://gdal.org/drivers/vector/index.html) to use to read the file. Script will attempt to infer this from the file extension, but you must specify it if the data is zipped, if the file extension is non-standard, or if the extension cannot be determined from the path (e.g. if the path is an API query)\n",
    "  - `archiveDir` (optional) - The path to the directory where a copy of a data should be archived.  If this is specified, the data will be archived in this location as a GeoPackage.  The function will determine the file name and layer name from the specified parameters, using generic values if necessary.\n",
    "  - `archiveFileName` (optional) - If `archiveDir` is specified, you may use this to specify the name of the archival GeoPackage.  Omit the extension.  If this is unspecified, the function will assign the file name automatically using a generic value if necessary.\n",
    "  \n",
    "The following example loads data from the MORPC Mid-Ohio Open Data website, however you can also load data from a local path or network drive."
   ]
  },
  {
   "cell_type": "code",
   "execution_count": 1,
   "id": "344971d0-83be-4410-b2d9-ee1ae90250cf",
   "metadata": {
    "tags": []
   },
   "outputs": [],
   "source": [
    "import geopandas as gpd\n",
    "import morpc\n",
    "import os"
   ]
  },
  {
   "cell_type": "code",
   "execution_count": null,
   "id": "b8c36fa4-b7dd-43d4-9574-7a640d62a22b",
   "metadata": {},
   "outputs": [],
   "source": [
    "url = 'https://www2.census.gov/geo/tiger/TIGER2024/STATE/tl_2024_us_state.zip'\n",
    "gdf = morpc.load_spatial_data(url, archiveDir='./temp_data')"
   ]
  },
  {
   "cell_type": "code",
   "execution_count": null,
   "id": "bd688798-10b9-46ab-8e94-75045bc289c8",
   "metadata": {},
   "outputs": [],
   "source": [
    "gdf.explore()"
   ]
  },
  {
   "cell_type": "code",
   "execution_count": null,
   "id": "3573a45b-048b-4223-9c99-92219ab4db59",
   "metadata": {
    "tags": []
   },
   "outputs": [],
   "source": [
    "# Create a directory to store the archival data (for demonstration purposes only)\n",
    "if not os.path.exists(\"./temp_data\"):\n",
    "    os.makedirs(\"./temp_data\")\n",
    "\n",
    "# Load the data and create an archival copy\n",
    "gdf = morpc.load_spatial_data(\n",
    "    sourcePath=\"https://opendata.arcgis.com/api/v3/datasets/e42b50fbd17a47739c2a7695778c498e_17/downloads/data?format=shp&spatialRefId=3735&where=1%3D1\", \n",
    "    layerName=\"MORPC MPO Boundary\",\n",
    "    driverName=\"ESRI Shapefile\",\n",
    "    archiveDir=\"./temp_data\"\n",
    ")"
   ]
  },
  {
   "cell_type": "markdown",
   "id": "534d5386-9d8c-490e-941b-92c0b67ec65a",
   "metadata": {},
   "source": [
    "Let's take a look at the data and make sure it loaded correctly."
   ]
  },
  {
   "cell_type": "code",
   "execution_count": null,
   "id": "f8ee189b-6326-4038-b193-2e3184a09ac6",
   "metadata": {
    "tags": []
   },
   "outputs": [],
   "source": [
    "gdf.drop(columns=\"Updated\").explore() ## avoid datetime column JSON error"
   ]
  },
  {
   "cell_type": "markdown",
   "id": "ba2a1e26-6d2f-469d-a71c-4a096bfeffc5",
   "metadata": {},
   "source": [
    "Now let's read the archival copy and make sure it looks the same.  We'll use the `load_spatial_data()` function again, but this time we won't make an archival copy."
   ]
  },
  {
   "cell_type": "code",
   "execution_count": null,
   "id": "d2cc1a3f-9f78-4044-86de-6f3a6502b6de",
   "metadata": {
    "tags": []
   },
   "outputs": [],
   "source": [
    "gdfArchive = morpc.load_spatial_data(\"./temp_data/MORPC MPO Boundary.gpkg\", layerName=\"MORPC MPO Boundary\")"
   ]
  },
  {
   "cell_type": "markdown",
   "id": "4ea6c47d-30fc-4e72-96b6-338666130bdd",
   "metadata": {
    "editable": true,
    "slideshow": {
     "slide_type": ""
    },
    "tags": []
   },
   "source": [
    "# Assign geographic identifiers"
   ]
  },
  {
   "cell_type": "markdown",
   "id": "29c482fe-76bc-4ae1-84cf-48e60dad52be",
   "metadata": {},
   "source": [
    "Sometimes we have a set of locations and we would like to know what geography (county, zipcode, etc.) they fall in. The `assign_geo_identifiers()` function takes a set of georeference points and a list of geography levels and determines for each level which area each point falls in.  The function takes two parameters:\n",
    "  - `points` - a GeoPandas GeoDataFrame consisting of the points of interest\n",
    "  - `geographies` - A Python list of one or more strings in which each element corresponds to a geography level. You can specify as many levels as you want from the following list, however note that the function must download the polygons and perform the analysis for each level so if you specify many levels it may take a long time.\n",
    "    - \"county\" - County (Census TIGER)\n",
    "    - \"tract\" - *Not currently implemented*\n",
    "    - \"blockgroup\" - *Not currently implemented*\n",
    "    - \"block\" - *Not currently implemented*\n",
    "    - \"zcta\" - *Not currently implemented*\n",
    "    - \"place\" - Census place (Census TIGER)\n",
    "    - \"placecombo\" - *Not currently implemented*\n",
    "    - \"juris\" - *Not currently implemented*\n",
    "    - \"region15County\" - *Not currently implemented*\n",
    "    - \"region10County\" - *Not currently implemented*\n",
    "    - \"regionCORPO\" - *Not currently implemented*\n",
    "    - \"regionMPO\" - *Not currently implemented*\n",
    "\n",
    "**NOTE:** Many of the geography levels are not currently implemented.  They are being implemented as they are needed.  If you need one that has not yet been implemented, please contact Adam Porr (or implement it yourself)."
   ]
  },
  {
   "cell_type": "markdown",
   "id": "cad973e5-cf05-4b46-8d18-a3fddd07e93f",
   "metadata": {},
   "source": [
    "In the following example, we will assign labels for the \"county\" and \"place\" geography levels to libraries in MORPC's Points of Interest layer.  First we'll download just the library locations from Mid-Ohio Open Data using the ArcGIS REST API."
   ]
  },
  {
   "cell_type": "code",
   "execution_count": 2,
   "id": "2ee41a03-52bc-4e14-843a-54f70d73982a",
   "metadata": {
    "editable": true,
    "slideshow": {
     "slide_type": ""
    },
    "tags": []
   },
   "outputs": [],
   "source": [
    "url = \"https://services1.arcgis.com/EjjnBtwS9ivTGI8x/arcgis/rest/services/Points_of_Interest/FeatureServer/0/query?outFields=*&where=%22type%22=%27Library%27&f=geojson\"\n",
    "librariesRaw = gpd.read_file(url)"
   ]
  },
  {
   "cell_type": "markdown",
   "id": "1db0a93b-5f7a-4a6a-ade1-d25b33477da8",
   "metadata": {},
   "source": [
    "The data incudes a bunch of fields that we don't need.  For clarity, extract only the relevant fields."
   ]
  },
  {
   "cell_type": "code",
   "execution_count": 3,
   "id": "61f3f15d-072d-486f-abf3-6fbdd4f71fda",
   "metadata": {
    "tags": []
   },
   "outputs": [],
   "source": [
    "libraries = librariesRaw.copy().filter(items=['NAME', 'ADDRESS','geometry'], axis=\"columns\")"
   ]
  },
  {
   "cell_type": "code",
   "execution_count": null,
   "id": "c6d75af5-6020-4e04-8245-298ddcf7ebb0",
   "metadata": {
    "tags": []
   },
   "outputs": [],
   "source": [
    "libraries.head()"
   ]
  },
  {
   "cell_type": "markdown",
   "id": "776f3718-24d5-4e56-b51b-89b796d9794b",
   "metadata": {},
   "source": [
    "Let's take a look at the library locations."
   ]
  },
  {
   "cell_type": "code",
   "execution_count": null,
   "id": "5f1c2dee-3fbb-4515-b04a-844efcab875d",
   "metadata": {
    "tags": []
   },
   "outputs": [],
   "source": [
    "libraries.explore(style_kwds={\"radius\":4})"
   ]
  },
  {
   "cell_type": "markdown",
   "id": "8ade8d86-39df-4f3f-8856-08c03d1f18a9",
   "metadata": {},
   "source": [
    "Use the `assign_geo_identifiers()` function to iterate through the requested geography levels (in this case \"county\" and \"place\"), labeling each point with the identifier of the geography in each level where the point is located."
   ]
  },
  {
   "cell_type": "markdown",
   "id": "a37eb22f-3cbd-4681-8715-a331b1a16703",
   "metadata": {},
   "source": [
    "## Assign Geographic Identifiers"
   ]
  },
  {
   "cell_type": "markdown",
   "id": "9ef7876e-8f9d-4539-99b1-02056e7d8251",
   "metadata": {},
   "source": [
    "This fuction is broken due to changes at the Census which prevents loading TigerLINE files from FTP site."
   ]
  },
  {
   "cell_type": "code",
   "execution_count": 4,
   "id": "58025778-8cdc-4e25-9cd9-45895f165673",
   "metadata": {
    "editable": true,
    "slideshow": {
     "slide_type": ""
    },
    "tags": []
   },
   "outputs": [
    {
     "name": "stdout",
     "output_type": "stream",
     "text": [
      "morpc.assign_geo_identifiers | INFO | Determining identifiers for geography county\n"
     ]
    },
    {
     "name": "stderr",
     "output_type": "stream",
     "text": [
      "C:\\Users\\jinskeep\\morpc_venv\\Lib\\site-packages\\pyogrio\\raw.py:198: RuntimeWarning: driver ESRI Shapefile does not support open option DRIVER\n"
     ]
    },
    {
     "name": "stdout",
     "output_type": "stream",
     "text": [
      "morpc.assign_geo_identifiers | INFO | Determining identifiers for geography place\n"
     ]
    },
    {
     "name": "stderr",
     "output_type": "stream",
     "text": [
      "C:\\Users\\jinskeep\\morpc_venv\\Lib\\site-packages\\pyogrio\\raw.py:198: RuntimeWarning: driver ESRI Shapefile does not support open option DRIVER\n"
     ]
    }
   ],
   "source": [
    "librariesEnriched = morpc.assign_geo_identifiers(libraries, [\"county\",\"place\"])"
   ]
  },
  {
   "cell_type": "markdown",
   "id": "af64d50e-779e-404c-92af-978205aa7f61",
   "metadata": {
    "editable": true,
    "slideshow": {
     "slide_type": ""
    },
    "tags": []
   },
   "source": [
    "Note that two columns have been added to the dataframe, one that contains the identifier for the county the library is located in and one that contains the identifier for the place.  "
   ]
  },
  {
   "cell_type": "code",
   "execution_count": 5,
   "id": "c4a8debd-a9e8-4973-8d44-57012206449b",
   "metadata": {
    "editable": true,
    "slideshow": {
     "slide_type": ""
    },
    "tags": []
   },
   "outputs": [
    {
     "data": {
      "text/html": [
       "<div>\n",
       "<style scoped>\n",
       "    .dataframe tbody tr th:only-of-type {\n",
       "        vertical-align: middle;\n",
       "    }\n",
       "\n",
       "    .dataframe tbody tr th {\n",
       "        vertical-align: top;\n",
       "    }\n",
       "\n",
       "    .dataframe thead th {\n",
       "        text-align: right;\n",
       "    }\n",
       "</style>\n",
       "<table border=\"1\" class=\"dataframe\">\n",
       "  <thead>\n",
       "    <tr style=\"text-align: right;\">\n",
       "      <th></th>\n",
       "      <th>NAME</th>\n",
       "      <th>ADDRESS</th>\n",
       "      <th>geometry</th>\n",
       "      <th>id_county</th>\n",
       "      <th>id_place</th>\n",
       "    </tr>\n",
       "  </thead>\n",
       "  <tbody>\n",
       "    <tr>\n",
       "      <th>0</th>\n",
       "      <td>Fairfield County District Library Northwest Br...</td>\n",
       "      <td>2855 Helena Dr NW</td>\n",
       "      <td>POINT (-82.68429 39.76979)</td>\n",
       "      <td>39045</td>\n",
       "      <td>NaN</td>\n",
       "    </tr>\n",
       "    <tr>\n",
       "      <th>1</th>\n",
       "      <td>Marysville School District Public Library Raym...</td>\n",
       "      <td>21698 Main St</td>\n",
       "      <td>POINT (-83.46767 40.33515)</td>\n",
       "      <td>39159</td>\n",
       "      <td>3965676</td>\n",
       "    </tr>\n",
       "    <tr>\n",
       "      <th>2</th>\n",
       "      <td>Richwood-North Union Public Library</td>\n",
       "      <td>4 E. Ottawa St</td>\n",
       "      <td>POINT (-83.29605 40.42629)</td>\n",
       "      <td>39159</td>\n",
       "      <td>3966936</td>\n",
       "    </tr>\n",
       "    <tr>\n",
       "      <th>3</th>\n",
       "      <td>Marysville School District Public Library</td>\n",
       "      <td>231 S. Plum St</td>\n",
       "      <td>POINT (-83.36611 40.23504)</td>\n",
       "      <td>39159</td>\n",
       "      <td>3948160</td>\n",
       "    </tr>\n",
       "    <tr>\n",
       "      <th>4</th>\n",
       "      <td>Pickaway Co. District Public Library</td>\n",
       "      <td>1160 N. Court St</td>\n",
       "      <td>POINT (-82.93864 39.61947)</td>\n",
       "      <td>39129</td>\n",
       "      <td>3915070</td>\n",
       "    </tr>\n",
       "  </tbody>\n",
       "</table>\n",
       "</div>"
      ],
      "text/plain": [
       "                                                NAME            ADDRESS  \\\n",
       "0  Fairfield County District Library Northwest Br...  2855 Helena Dr NW   \n",
       "1  Marysville School District Public Library Raym...      21698 Main St   \n",
       "2                Richwood-North Union Public Library     4 E. Ottawa St   \n",
       "3          Marysville School District Public Library     231 S. Plum St   \n",
       "4               Pickaway Co. District Public Library   1160 N. Court St   \n",
       "\n",
       "                     geometry id_county id_place  \n",
       "0  POINT (-82.68429 39.76979)     39045      NaN  \n",
       "1  POINT (-83.46767 40.33515)     39159  3965676  \n",
       "2  POINT (-83.29605 40.42629)     39159  3966936  \n",
       "3  POINT (-83.36611 40.23504)     39159  3948160  \n",
       "4  POINT (-82.93864 39.61947)     39129  3915070  "
      ]
     },
     "execution_count": 5,
     "metadata": {},
     "output_type": "execute_result"
    }
   ],
   "source": [
    "librariesEnriched.head()"
   ]
  },
  {
   "cell_type": "markdown",
   "id": "ffb89cbd-81f4-44f9-93da-f3a656e44323",
   "metadata": {
    "editable": true,
    "slideshow": {
     "slide_type": ""
    },
    "tags": []
   },
   "source": [
    "Let's take a look at libraries, symbolizing each according to the county where it is located."
   ]
  },
  {
   "cell_type": "code",
   "execution_count": 6,
   "id": "576aeba6-9978-4b1b-b846-46d4db0d8087",
   "metadata": {
    "tags": []
   },
   "outputs": [
    {
     "data": {
      "text/html": [
       "<div style=\"width:100%;\"><div style=\"position:relative;width:100%;height:0;padding-bottom:60%;\"><span style=\"color:#565656\">Make this Notebook Trusted to load map: File -> Trust Notebook</span><iframe srcdoc=\"&lt;!DOCTYPE html&gt;\n",
       "&lt;html&gt;\n",
       "&lt;head&gt;\n",
       "    \n",
       "    &lt;meta http-equiv=&quot;content-type&quot; content=&quot;text/html; charset=UTF-8&quot; /&gt;\n",
       "    \n",
       "        &lt;script&gt;\n",
       "            L_NO_TOUCH = false;\n",
       "            L_DISABLE_3D = false;\n",
       "        &lt;/script&gt;\n",
       "    \n",
       "    &lt;style&gt;html, body {width: 100%;height: 100%;margin: 0;padding: 0;}&lt;/style&gt;\n",
       "    &lt;style&gt;#map {position:absolute;top:0;bottom:0;right:0;left:0;}&lt;/style&gt;\n",
       "    &lt;script src=&quot;https://cdn.jsdelivr.net/npm/leaflet@1.9.3/dist/leaflet.js&quot;&gt;&lt;/script&gt;\n",
       "    &lt;script src=&quot;https://code.jquery.com/jquery-3.7.1.min.js&quot;&gt;&lt;/script&gt;\n",
       "    &lt;script src=&quot;https://cdn.jsdelivr.net/npm/bootstrap@5.2.2/dist/js/bootstrap.bundle.min.js&quot;&gt;&lt;/script&gt;\n",
       "    &lt;script src=&quot;https://cdnjs.cloudflare.com/ajax/libs/Leaflet.awesome-markers/2.0.2/leaflet.awesome-markers.js&quot;&gt;&lt;/script&gt;\n",
       "    &lt;link rel=&quot;stylesheet&quot; href=&quot;https://cdn.jsdelivr.net/npm/leaflet@1.9.3/dist/leaflet.css&quot;/&gt;\n",
       "    &lt;link rel=&quot;stylesheet&quot; href=&quot;https://cdn.jsdelivr.net/npm/bootstrap@5.2.2/dist/css/bootstrap.min.css&quot;/&gt;\n",
       "    &lt;link rel=&quot;stylesheet&quot; href=&quot;https://netdna.bootstrapcdn.com/bootstrap/3.0.0/css/bootstrap-glyphicons.css&quot;/&gt;\n",
       "    &lt;link rel=&quot;stylesheet&quot; href=&quot;https://cdn.jsdelivr.net/npm/@fortawesome/fontawesome-free@6.2.0/css/all.min.css&quot;/&gt;\n",
       "    &lt;link rel=&quot;stylesheet&quot; href=&quot;https://cdnjs.cloudflare.com/ajax/libs/Leaflet.awesome-markers/2.0.2/leaflet.awesome-markers.css&quot;/&gt;\n",
       "    &lt;link rel=&quot;stylesheet&quot; href=&quot;https://cdn.jsdelivr.net/gh/python-visualization/folium/folium/templates/leaflet.awesome.rotate.min.css&quot;/&gt;\n",
       "    \n",
       "            &lt;meta name=&quot;viewport&quot; content=&quot;width=device-width,\n",
       "                initial-scale=1.0, maximum-scale=1.0, user-scalable=no&quot; /&gt;\n",
       "            &lt;style&gt;\n",
       "                #map_0b706fea626eec4cacd997e028ab0849 {\n",
       "                    position: relative;\n",
       "                    width: 100.0%;\n",
       "                    height: 100.0%;\n",
       "                    left: 0.0%;\n",
       "                    top: 0.0%;\n",
       "                }\n",
       "                .leaflet-container { font-size: 1rem; }\n",
       "            &lt;/style&gt;\n",
       "        \n",
       "    \n",
       "                    &lt;style&gt;\n",
       "                        .foliumtooltip {\n",
       "                            \n",
       "                        }\n",
       "                       .foliumtooltip table{\n",
       "                            margin: auto;\n",
       "                        }\n",
       "                        .foliumtooltip tr{\n",
       "                            text-align: left;\n",
       "                        }\n",
       "                        .foliumtooltip th{\n",
       "                            padding: 2px; padding-right: 8px;\n",
       "                        }\n",
       "                    &lt;/style&gt;\n",
       "            \n",
       "    \n",
       "    &lt;script src=&quot;https://code.jquery.com/ui/1.12.1/jquery-ui.js&quot;&gt;&lt;/script&gt;\n",
       "    &lt;script&gt;$( function() {\n",
       "        $( &quot;.maplegend&quot; ).draggable({\n",
       "            start: function (event, ui) {\n",
       "                $(this).css({\n",
       "                    right: &quot;auto&quot;,\n",
       "                    top: &quot;auto&quot;,\n",
       "                    bottom: &quot;auto&quot;\n",
       "                });\n",
       "            }\n",
       "        });\n",
       "    });\n",
       "    &lt;/script&gt;\n",
       "    &lt;style type=&#x27;text/css&#x27;&gt;\n",
       "      .maplegend {\n",
       "        position: absolute;\n",
       "        z-index:9999;\n",
       "        background-color: rgba(255, 255, 255, .8);\n",
       "        border-radius: 5px;\n",
       "        box-shadow: 0 0 15px rgba(0,0,0,0.2);\n",
       "        padding: 10px;\n",
       "        font: 12px/14px Arial, Helvetica, sans-serif;\n",
       "        right: 10px;\n",
       "        bottom: 20px;\n",
       "      }\n",
       "      .maplegend .legend-title {\n",
       "        text-align: left;\n",
       "        margin-bottom: 5px;\n",
       "        font-weight: bold;\n",
       "        }\n",
       "      .maplegend .legend-scale ul {\n",
       "        margin: 0;\n",
       "        margin-bottom: 0px;\n",
       "        padding: 0;\n",
       "        float: left;\n",
       "        list-style: none;\n",
       "        }\n",
       "      .maplegend .legend-scale ul li {\n",
       "        list-style: none;\n",
       "        margin-left: 0;\n",
       "        line-height: 16px;\n",
       "        margin-bottom: 2px;\n",
       "        }\n",
       "      .maplegend ul.legend-labels li span {\n",
       "        display: block;\n",
       "        float: left;\n",
       "        height: 14px;\n",
       "        width: 14px;\n",
       "        margin-right: 5px;\n",
       "        margin-left: 0;\n",
       "        border: 0px solid #ccc;\n",
       "        }\n",
       "      .maplegend .legend-source {\n",
       "        color: #777;\n",
       "        clear: both;\n",
       "        }\n",
       "      .maplegend a {\n",
       "        color: #777;\n",
       "        }\n",
       "    &lt;/style&gt;\n",
       "    \n",
       "&lt;/head&gt;\n",
       "&lt;body&gt;\n",
       "    \n",
       "    \n",
       "    &lt;div id=&#x27;maplegend id_county&#x27; class=&#x27;maplegend&#x27;&gt;\n",
       "        &lt;div class=&#x27;legend-title&#x27;&gt;id_county&lt;/div&gt;\n",
       "        &lt;div class=&#x27;legend-scale&#x27;&gt;\n",
       "            &lt;ul class=&#x27;legend-labels&#x27;&gt;\n",
       "                &lt;li&gt;&lt;span style=&#x27;background:#1f77b4&#x27;&gt;&lt;/span&gt;39041&lt;/li&gt;\n",
       "                &lt;li&gt;&lt;span style=&#x27;background:#aec7e8&#x27;&gt;&lt;/span&gt;39045&lt;/li&gt;\n",
       "                &lt;li&gt;&lt;span style=&#x27;background:#ff7f0e&#x27;&gt;&lt;/span&gt;39047&lt;/li&gt;\n",
       "                &lt;li&gt;&lt;span style=&#x27;background:#2ca02c&#x27;&gt;&lt;/span&gt;39049&lt;/li&gt;\n",
       "                &lt;li&gt;&lt;span style=&#x27;background:#98df8a&#x27;&gt;&lt;/span&gt;39073&lt;/li&gt;\n",
       "                &lt;li&gt;&lt;span style=&#x27;background:#ff9896&#x27;&gt;&lt;/span&gt;39083&lt;/li&gt;\n",
       "                &lt;li&gt;&lt;span style=&#x27;background:#9467bd&#x27;&gt;&lt;/span&gt;39089&lt;/li&gt;\n",
       "                &lt;li&gt;&lt;span style=&#x27;background:#8c564b&#x27;&gt;&lt;/span&gt;39091&lt;/li&gt;\n",
       "                &lt;li&gt;&lt;span style=&#x27;background:#c49c94&#x27;&gt;&lt;/span&gt;39097&lt;/li&gt;\n",
       "                &lt;li&gt;&lt;span style=&#x27;background:#e377c2&#x27;&gt;&lt;/span&gt;39101&lt;/li&gt;\n",
       "                &lt;li&gt;&lt;span style=&#x27;background:#7f7f7f&#x27;&gt;&lt;/span&gt;39117&lt;/li&gt;\n",
       "                &lt;li&gt;&lt;span style=&#x27;background:#c7c7c7&#x27;&gt;&lt;/span&gt;39127&lt;/li&gt;\n",
       "                &lt;li&gt;&lt;span style=&#x27;background:#dbdb8d&#x27;&gt;&lt;/span&gt;39129&lt;/li&gt;\n",
       "                &lt;li&gt;&lt;span style=&#x27;background:#17becf&#x27;&gt;&lt;/span&gt;39141&lt;/li&gt;\n",
       "                &lt;li&gt;&lt;span style=&#x27;background:#9edae5&#x27;&gt;&lt;/span&gt;39159&lt;/li&gt;\n",
       "            &lt;/ul&gt;\n",
       "        &lt;/div&gt;\n",
       "    &lt;/div&gt;\n",
       "    \n",
       "    \n",
       "            &lt;div class=&quot;folium-map&quot; id=&quot;map_0b706fea626eec4cacd997e028ab0849&quot; &gt;&lt;/div&gt;\n",
       "        \n",
       "&lt;/body&gt;\n",
       "&lt;script&gt;\n",
       "    \n",
       "    \n",
       "            var map_0b706fea626eec4cacd997e028ab0849 = L.map(\n",
       "                &quot;map_0b706fea626eec4cacd997e028ab0849&quot;,\n",
       "                {\n",
       "                    center: [39.98345478761455, -83.00588763104406],\n",
       "                    crs: L.CRS.EPSG3857,\n",
       "                    ...{\n",
       "  &quot;zoom&quot;: 10,\n",
       "  &quot;zoomControl&quot;: true,\n",
       "  &quot;preferCanvas&quot;: false,\n",
       "}\n",
       "\n",
       "                }\n",
       "            );\n",
       "            L.control.scale().addTo(map_0b706fea626eec4cacd997e028ab0849);\n",
       "\n",
       "            \n",
       "\n",
       "        \n",
       "    \n",
       "            var tile_layer_5369ce2f8e83d16aaa2451f827730d4f = L.tileLayer(\n",
       "                &quot;https://tile.openstreetmap.org/{z}/{x}/{y}.png&quot;,\n",
       "                {\n",
       "  &quot;minZoom&quot;: 0,\n",
       "  &quot;maxZoom&quot;: 19,\n",
       "  &quot;maxNativeZoom&quot;: 19,\n",
       "  &quot;noWrap&quot;: false,\n",
       "  &quot;attribution&quot;: &quot;\\u0026copy; \\u003ca href=\\&quot;https://www.openstreetmap.org/copyright\\&quot;\\u003eOpenStreetMap\\u003c/a\\u003e contributors&quot;,\n",
       "  &quot;subdomains&quot;: &quot;abc&quot;,\n",
       "  &quot;detectRetina&quot;: false,\n",
       "  &quot;tms&quot;: false,\n",
       "  &quot;opacity&quot;: 1,\n",
       "}\n",
       "\n",
       "            );\n",
       "        \n",
       "    \n",
       "            tile_layer_5369ce2f8e83d16aaa2451f827730d4f.addTo(map_0b706fea626eec4cacd997e028ab0849);\n",
       "        \n",
       "    \n",
       "            map_0b706fea626eec4cacd997e028ab0849.fitBounds(\n",
       "                [[39.3298618160501, -83.9241912264021], [40.637047759179, -82.087584035686]],\n",
       "                {}\n",
       "            );\n",
       "        \n",
       "    \n",
       "        function geo_json_b1cea09d9dcb23afddcb56a62ec54508_styler(feature) {\n",
       "            switch(feature.id) {\n",
       "                case &quot;0&quot;: case &quot;42&quot;: case &quot;43&quot;: case &quot;44&quot;: case &quot;45&quot;: case &quot;46&quot;: case &quot;47&quot;: \n",
       "                    return {&quot;color&quot;: &quot;#aec7e8&quot;, &quot;fillColor&quot;: &quot;#aec7e8&quot;, &quot;fillOpacity&quot;: 0.5, &quot;radius&quot;: 4, &quot;weight&quot;: 2};\n",
       "                case &quot;1&quot;: case &quot;2&quot;: case &quot;3&quot;: \n",
       "                    return {&quot;color&quot;: &quot;#9edae5&quot;, &quot;fillColor&quot;: &quot;#9edae5&quot;, &quot;fillOpacity&quot;: 0.5, &quot;radius&quot;: 4, &quot;weight&quot;: 2};\n",
       "                case &quot;4&quot;: case &quot;5&quot;: \n",
       "                    return {&quot;color&quot;: &quot;#dbdb8d&quot;, &quot;fillColor&quot;: &quot;#dbdb8d&quot;, &quot;fillOpacity&quot;: 0.5, &quot;radius&quot;: 4, &quot;weight&quot;: 2};\n",
       "                case &quot;6&quot;: case &quot;7&quot;: case &quot;8&quot;: case &quot;9&quot;: \n",
       "                    return {&quot;color&quot;: &quot;#c49c94&quot;, &quot;fillColor&quot;: &quot;#c49c94&quot;, &quot;fillOpacity&quot;: 0.5, &quot;radius&quot;: 4, &quot;weight&quot;: 2};\n",
       "                case &quot;10&quot;: case &quot;11&quot;: case &quot;12&quot;: case &quot;13&quot;: case &quot;14&quot;: case &quot;15&quot;: case &quot;16&quot;: case &quot;17&quot;: case &quot;18&quot;: case &quot;19&quot;: case &quot;20&quot;: case &quot;21&quot;: case &quot;22&quot;: case &quot;23&quot;: case &quot;24&quot;: case &quot;25&quot;: case &quot;26&quot;: case &quot;27&quot;: case &quot;28&quot;: case &quot;29&quot;: case &quot;30&quot;: case &quot;31&quot;: case &quot;32&quot;: case &quot;33&quot;: case &quot;34&quot;: case &quot;35&quot;: case &quot;36&quot;: case &quot;37&quot;: case &quot;38&quot;: case &quot;39&quot;: case &quot;40&quot;: case &quot;41&quot;: case &quot;62&quot;: case &quot;63&quot;: case &quot;64&quot;: case &quot;65&quot;: case &quot;66&quot;: \n",
       "                    return {&quot;color&quot;: &quot;#2ca02c&quot;, &quot;fillColor&quot;: &quot;#2ca02c&quot;, &quot;fillOpacity&quot;: 0.5, &quot;radius&quot;: 4, &quot;weight&quot;: 2};\n",
       "                case &quot;48&quot;: case &quot;49&quot;: case &quot;50&quot;: case &quot;51&quot;: case &quot;52&quot;: \n",
       "                    return {&quot;color&quot;: &quot;#1f77b4&quot;, &quot;fillColor&quot;: &quot;#1f77b4&quot;, &quot;fillOpacity&quot;: 0.5, &quot;radius&quot;: 4, &quot;weight&quot;: 2};\n",
       "                case &quot;53&quot;: case &quot;54&quot;: case &quot;55&quot;: case &quot;56&quot;: case &quot;57&quot;: case &quot;58&quot;: case &quot;59&quot;: case &quot;60&quot;: case &quot;61&quot;: \n",
       "                    return {&quot;color&quot;: &quot;#9467bd&quot;, &quot;fillColor&quot;: &quot;#9467bd&quot;, &quot;fillOpacity&quot;: 0.5, &quot;radius&quot;: 4, &quot;weight&quot;: 2};\n",
       "                case &quot;67&quot;: case &quot;73&quot;: case &quot;74&quot;: case &quot;75&quot;: case &quot;76&quot;: case &quot;77&quot;: case &quot;78&quot;: case &quot;79&quot;: \n",
       "                    return {&quot;color&quot;: &quot;#8c564b&quot;, &quot;fillColor&quot;: &quot;#8c564b&quot;, &quot;fillOpacity&quot;: 0.5, &quot;radius&quot;: 4, &quot;weight&quot;: 2};\n",
       "                case &quot;68&quot;: \n",
       "                    return {&quot;color&quot;: &quot;#17becf&quot;, &quot;fillColor&quot;: &quot;#17becf&quot;, &quot;fillOpacity&quot;: 0.5, &quot;radius&quot;: 4, &quot;weight&quot;: 2};\n",
       "                case &quot;69&quot;: \n",
       "                    return {&quot;color&quot;: &quot;#ff7f0e&quot;, &quot;fillColor&quot;: &quot;#ff7f0e&quot;, &quot;fillOpacity&quot;: 0.5, &quot;radius&quot;: 4, &quot;weight&quot;: 2};\n",
       "                case &quot;70&quot;: \n",
       "                    return {&quot;color&quot;: &quot;#98df8a&quot;, &quot;fillColor&quot;: &quot;#98df8a&quot;, &quot;fillOpacity&quot;: 0.5, &quot;radius&quot;: 4, &quot;weight&quot;: 2};\n",
       "                case &quot;71&quot;: case &quot;72&quot;: \n",
       "                    return {&quot;color&quot;: &quot;#ff9896&quot;, &quot;fillColor&quot;: &quot;#ff9896&quot;, &quot;fillOpacity&quot;: 0.5, &quot;radius&quot;: 4, &quot;weight&quot;: 2};\n",
       "                case &quot;80&quot;: case &quot;81&quot;: case &quot;82&quot;: case &quot;83&quot;: \n",
       "                    return {&quot;color&quot;: &quot;#e377c2&quot;, &quot;fillColor&quot;: &quot;#e377c2&quot;, &quot;fillOpacity&quot;: 0.5, &quot;radius&quot;: 4, &quot;weight&quot;: 2};\n",
       "                case &quot;84&quot;: case &quot;85&quot;: case &quot;86&quot;: case &quot;94&quot;: \n",
       "                    return {&quot;color&quot;: &quot;#7f7f7f&quot;, &quot;fillColor&quot;: &quot;#7f7f7f&quot;, &quot;fillOpacity&quot;: 0.5, &quot;radius&quot;: 4, &quot;weight&quot;: 2};\n",
       "                default:\n",
       "                    return {&quot;color&quot;: &quot;#c7c7c7&quot;, &quot;fillColor&quot;: &quot;#c7c7c7&quot;, &quot;fillOpacity&quot;: 0.5, &quot;radius&quot;: 4, &quot;weight&quot;: 2};\n",
       "            }\n",
       "        }\n",
       "        function geo_json_b1cea09d9dcb23afddcb56a62ec54508_highlighter(feature) {\n",
       "            switch(feature.id) {\n",
       "                default:\n",
       "                    return {&quot;fillOpacity&quot;: 0.75};\n",
       "            }\n",
       "        }\n",
       "        function geo_json_b1cea09d9dcb23afddcb56a62ec54508_pointToLayer(feature, latlng) {\n",
       "            var opts = {&quot;bubblingMouseEvents&quot;: true, &quot;color&quot;: &quot;#3388ff&quot;, &quot;dashArray&quot;: null, &quot;dashOffset&quot;: null, &quot;fill&quot;: true, &quot;fillColor&quot;: &quot;#3388ff&quot;, &quot;fillOpacity&quot;: 0.2, &quot;fillRule&quot;: &quot;evenodd&quot;, &quot;lineCap&quot;: &quot;round&quot;, &quot;lineJoin&quot;: &quot;round&quot;, &quot;opacity&quot;: 1.0, &quot;radius&quot;: 2, &quot;stroke&quot;: true, &quot;weight&quot;: 3};\n",
       "            \n",
       "            let style = geo_json_b1cea09d9dcb23afddcb56a62ec54508_styler(feature)\n",
       "            Object.assign(opts, style)\n",
       "            \n",
       "            return new L.CircleMarker(latlng, opts)\n",
       "        }\n",
       "\n",
       "        function geo_json_b1cea09d9dcb23afddcb56a62ec54508_onEachFeature(feature, layer) {\n",
       "            layer.on({\n",
       "                mouseout: function(e) {\n",
       "                    if(typeof e.target.setStyle === &quot;function&quot;){\n",
       "                            geo_json_b1cea09d9dcb23afddcb56a62ec54508.resetStyle(e.target);\n",
       "                    }\n",
       "                },\n",
       "                mouseover: function(e) {\n",
       "                    if(typeof e.target.setStyle === &quot;function&quot;){\n",
       "                        const highlightStyle = geo_json_b1cea09d9dcb23afddcb56a62ec54508_highlighter(e.target.feature)\n",
       "                        e.target.setStyle(highlightStyle);\n",
       "                    }\n",
       "                },\n",
       "            });\n",
       "        };\n",
       "        var geo_json_b1cea09d9dcb23afddcb56a62ec54508 = L.geoJson(null, {\n",
       "                onEachFeature: geo_json_b1cea09d9dcb23afddcb56a62ec54508_onEachFeature,\n",
       "            \n",
       "                style: geo_json_b1cea09d9dcb23afddcb56a62ec54508_styler,\n",
       "                pointToLayer: geo_json_b1cea09d9dcb23afddcb56a62ec54508_pointToLayer,\n",
       "            ...{\n",
       "}\n",
       "        });\n",
       "\n",
       "        function geo_json_b1cea09d9dcb23afddcb56a62ec54508_add (data) {\n",
       "            geo_json_b1cea09d9dcb23afddcb56a62ec54508\n",
       "                .addData(data);\n",
       "        }\n",
       "            geo_json_b1cea09d9dcb23afddcb56a62ec54508_add({&quot;bbox&quot;: [-83.9241912264021, 39.3298618160501, -82.087584035686, 40.637047759179], &quot;features&quot;: [{&quot;bbox&quot;: [-82.6842851520357, 39.7697907908279, -82.6842851520357, 39.7697907908279], &quot;geometry&quot;: {&quot;coordinates&quot;: [-82.6842851520357, 39.7697907908279], &quot;type&quot;: &quot;Point&quot;}, &quot;id&quot;: &quot;0&quot;, &quot;properties&quot;: {&quot;ADDRESS&quot;: &quot;2855 Helena Dr NW&quot;, &quot;NAME&quot;: &quot;Fairfield County District Library Northwest Branch&quot;, &quot;__folium_color&quot;: &quot;#aec7e8&quot;, &quot;id_county&quot;: &quot;39045&quot;, &quot;id_place&quot;: null}, &quot;type&quot;: &quot;Feature&quot;}, {&quot;bbox&quot;: [-83.4676731224247, 40.3351465051175, -83.4676731224247, 40.3351465051175], &quot;geometry&quot;: {&quot;coordinates&quot;: [-83.4676731224247, 40.3351465051175], &quot;type&quot;: &quot;Point&quot;}, &quot;id&quot;: &quot;1&quot;, &quot;properties&quot;: {&quot;ADDRESS&quot;: &quot;21698 Main St&quot;, &quot;NAME&quot;: &quot;Marysville School District Public Library Raymond Branch&quot;, &quot;__folium_color&quot;: &quot;#9edae5&quot;, &quot;id_county&quot;: &quot;39159&quot;, &quot;id_place&quot;: &quot;3965676&quot;}, &quot;type&quot;: &quot;Feature&quot;}, {&quot;bbox&quot;: [-83.2960529998877, 40.4262948804552, -83.2960529998877, 40.4262948804552], &quot;geometry&quot;: {&quot;coordinates&quot;: [-83.2960529998877, 40.4262948804552], &quot;type&quot;: &quot;Point&quot;}, &quot;id&quot;: &quot;2&quot;, &quot;properties&quot;: {&quot;ADDRESS&quot;: &quot;4 E. Ottawa St&quot;, &quot;NAME&quot;: &quot;Richwood-North Union Public Library&quot;, &quot;__folium_color&quot;: &quot;#9edae5&quot;, &quot;id_county&quot;: &quot;39159&quot;, &quot;id_place&quot;: &quot;3966936&quot;}, &quot;type&quot;: &quot;Feature&quot;}, {&quot;bbox&quot;: [-83.3661078207964, 40.2350394928228, -83.3661078207964, 40.2350394928228], &quot;geometry&quot;: {&quot;coordinates&quot;: [-83.3661078207964, 40.2350394928228], &quot;type&quot;: &quot;Point&quot;}, &quot;id&quot;: &quot;3&quot;, &quot;properties&quot;: {&quot;ADDRESS&quot;: &quot;231 S. Plum St&quot;, &quot;NAME&quot;: &quot;Marysville School District Public Library&quot;, &quot;__folium_color&quot;: &quot;#9edae5&quot;, &quot;id_county&quot;: &quot;39159&quot;, &quot;id_place&quot;: &quot;3948160&quot;}, &quot;type&quot;: &quot;Feature&quot;}, {&quot;bbox&quot;: [-82.9386383383752, 39.6194687501101, -82.9386383383752, 39.6194687501101], &quot;geometry&quot;: {&quot;coordinates&quot;: [-82.9386383383752, 39.6194687501101], &quot;type&quot;: &quot;Point&quot;}, &quot;id&quot;: &quot;4&quot;, &quot;properties&quot;: {&quot;ADDRESS&quot;: &quot;1160 N. Court St&quot;, &quot;NAME&quot;: &quot;Pickaway Co. District Public Library&quot;, &quot;__folium_color&quot;: &quot;#dbdb8d&quot;, &quot;id_county&quot;: &quot;39129&quot;, &quot;id_place&quot;: &quot;3915070&quot;}, &quot;type&quot;: &quot;Feature&quot;}, {&quot;bbox&quot;: [-82.953736797335, 39.7143219296381, -82.953736797335, 39.7143219296381], &quot;geometry&quot;: {&quot;coordinates&quot;: [-82.953736797335, 39.7143219296381], &quot;type&quot;: &quot;Point&quot;}, &quot;id&quot;: &quot;5&quot;, &quot;properties&quot;: {&quot;ADDRESS&quot;: &quot;51 Long St&quot;, &quot;NAME&quot;: &quot;Pickaway Co. District Public Library Floyd E. Younkin Branch&quot;, &quot;__folium_color&quot;: &quot;#dbdb8d&quot;, &quot;id_county&quot;: &quot;39129&quot;, &quot;id_place&quot;: &quot;3902680&quot;}, &quot;type&quot;: &quot;Feature&quot;}, {&quot;bbox&quot;: [-83.2663829923402, 39.7186790728588, -83.2663829923402, 39.7186790728588], &quot;geometry&quot;: {&quot;coordinates&quot;: [-83.2663829923402, 39.7186790728588], &quot;type&quot;: &quot;Point&quot;}, &quot;id&quot;: &quot;6&quot;, &quot;properties&quot;: {&quot;ADDRESS&quot;: &quot;60 W. Columbus St&quot;, &quot;NAME&quot;: &quot;Mt. Sterling Public Library&quot;, &quot;__folium_color&quot;: &quot;#c49c94&quot;, &quot;id_county&quot;: &quot;39097&quot;, &quot;id_place&quot;: &quot;3953046&quot;}, &quot;type&quot;: &quot;Feature&quot;}, {&quot;bbox&quot;: [-83.2737747193497, 39.9389331901837, -83.2737747193497, 39.9389331901837], &quot;geometry&quot;: {&quot;coordinates&quot;: [-83.2737747193497, 39.9389331901837], &quot;type&quot;: &quot;Point&quot;}, &quot;id&quot;: &quot;7&quot;, &quot;properties&quot;: {&quot;ADDRESS&quot;: &quot;270 Lilly Chapel Rd&quot;, &quot;NAME&quot;: &quot;Hurt/Battelle Memorial Library Of West Jefferson&quot;, &quot;__folium_color&quot;: &quot;#c49c94&quot;, &quot;id_county&quot;: &quot;39097&quot;, &quot;id_place&quot;: &quot;3983580&quot;}, &quot;type&quot;: &quot;Feature&quot;}, {&quot;bbox&quot;: [-83.2695810022159, 40.1078346671016, -83.2695810022159, 40.1078346671016], &quot;geometry&quot;: {&quot;coordinates&quot;: [-83.2695810022159, 40.1078346671016], &quot;type&quot;: &quot;Point&quot;}, &quot;id&quot;: &quot;8&quot;, &quot;properties&quot;: {&quot;ADDRESS&quot;: &quot;305 W. Main St&quot;, &quot;NAME&quot;: &quot;Plain City Public Library&quot;, &quot;__folium_color&quot;: &quot;#c49c94&quot;, &quot;id_county&quot;: &quot;39097&quot;, &quot;id_place&quot;: &quot;3963030&quot;}, &quot;type&quot;: &quot;Feature&quot;}, {&quot;bbox&quot;: [-83.4454832255098, 39.8854948989494, -83.4454832255098, 39.8854948989494], &quot;geometry&quot;: {&quot;coordinates&quot;: [-83.4454832255098, 39.8854948989494], &quot;type&quot;: &quot;Point&quot;}, &quot;id&quot;: &quot;9&quot;, &quot;properties&quot;: {&quot;ADDRESS&quot;: &quot;20 E. First St&quot;, &quot;NAME&quot;: &quot;London Public Library&quot;, &quot;__folium_color&quot;: &quot;#c49c94&quot;, &quot;id_county&quot;: &quot;39097&quot;, &quot;id_place&quot;: &quot;3944674&quot;}, &quot;type&quot;: &quot;Feature&quot;}, {&quot;bbox&quot;: [-82.9897617211046, 39.9612137232294, -82.9897617211046, 39.9612137232294], &quot;geometry&quot;: {&quot;coordinates&quot;: [-82.9897617211046, 39.9612137232294], &quot;type&quot;: &quot;Point&quot;}, &quot;id&quot;: &quot;10&quot;, &quot;properties&quot;: {&quot;ADDRESS&quot;: &quot;96 S. Grant Ave&quot;, &quot;NAME&quot;: &quot;CML Main&quot;, &quot;__folium_color&quot;: &quot;#2ca02c&quot;, &quot;id_county&quot;: &quot;39049&quot;, &quot;id_place&quot;: &quot;3918000&quot;}, &quot;type&quot;: &quot;Feature&quot;}, {&quot;bbox&quot;: [-83.0067776739771, 39.9913674989808, -83.0067776739771, 39.9913674989808], &quot;geometry&quot;: {&quot;coordinates&quot;: [-83.0067776739771, 39.9913674989808], &quot;type&quot;: &quot;Point&quot;}, &quot;id&quot;: &quot;11&quot;, &quot;properties&quot;: {&quot;ADDRESS&quot;: &quot;1423 N. High St&quot;, &quot;NAME&quot;: &quot;CML Northside Branch&quot;, &quot;__folium_color&quot;: &quot;#2ca02c&quot;, &quot;id_county&quot;: &quot;39049&quot;, &quot;id_place&quot;: &quot;3918000&quot;}, &quot;type&quot;: &quot;Feature&quot;}, {&quot;bbox&quot;: [-82.9683518867601, 40.0126747271083, -82.9683518867601, 40.0126747271083], &quot;geometry&quot;: {&quot;coordinates&quot;: [-82.9683518867601, 40.0126747271083], &quot;type&quot;: &quot;Point&quot;}, &quot;id&quot;: &quot;12&quot;, &quot;properties&quot;: {&quot;ADDRESS&quot;: &quot;2223 Cleveland Ave&quot;, &quot;NAME&quot;: &quot;CML Linden Branch&quot;, &quot;__folium_color&quot;: &quot;#2ca02c&quot;, &quot;id_county&quot;: &quot;39049&quot;, &quot;id_place&quot;: &quot;3918000&quot;}, &quot;type&quot;: &quot;Feature&quot;}, {&quot;bbox&quot;: [-83.0192465142297, 40.0415453903429, -83.0192465142297, 40.0415453903429], &quot;geometry&quot;: {&quot;coordinates&quot;: [-83.0192465142297, 40.0415453903429], &quot;type&quot;: &quot;Point&quot;}, &quot;id&quot;: &quot;13&quot;, &quot;properties&quot;: {&quot;ADDRESS&quot;: &quot;3909 N. High St&quot;, &quot;NAME&quot;: &quot;CML Whetstone Branch&quot;, &quot;__folium_color&quot;: &quot;#2ca02c&quot;, &quot;id_county&quot;: &quot;39049&quot;, &quot;id_place&quot;: &quot;3918000&quot;}, &quot;type&quot;: &quot;Feature&quot;}, {&quot;bbox&quot;: [-82.9297234347049, 40.1230145532762, -82.9297234347049, 40.1230145532762], &quot;geometry&quot;: {&quot;coordinates&quot;: [-82.9297234347049, 40.1230145532762], &quot;type&quot;: &quot;Point&quot;}, &quot;id&quot;: &quot;14&quot;, &quot;properties&quot;: {&quot;ADDRESS&quot;: &quot;126 S. State St&quot;, &quot;NAME&quot;: &quot;Westerville Public Library&quot;, &quot;__folium_color&quot;: &quot;#2ca02c&quot;, &quot;id_county&quot;: &quot;39049&quot;, &quot;id_place&quot;: &quot;3983342&quot;}, &quot;type&quot;: &quot;Feature&quot;}, {&quot;bbox&quot;: [-82.9408605736896, 39.9859677811109, -82.9408605736896, 39.9859677811109], &quot;geometry&quot;: {&quot;coordinates&quot;: [-82.9408605736896, 39.9859677811109], &quot;type&quot;: &quot;Point&quot;}, &quot;id&quot;: &quot;15&quot;, &quot;properties&quot;: {&quot;ADDRESS&quot;: &quot;850 N Nelson Rd&quot;, &quot;NAME&quot;: &quot;CML Shepard Branch&quot;, &quot;__folium_color&quot;: &quot;#2ca02c&quot;, &quot;id_county&quot;: &quot;39049&quot;, &quot;id_place&quot;: &quot;3918000&quot;}, &quot;type&quot;: &quot;Feature&quot;}, {&quot;bbox&quot;: [-82.9045367295948, 39.9468452385911, -82.9045367295948, 39.9468452385911], &quot;geometry&quot;: {&quot;coordinates&quot;: [-82.9045367295948, 39.9468452385911], &quot;type&quot;: &quot;Point&quot;}, &quot;id&quot;: &quot;16&quot;, &quot;properties&quot;: {&quot;ADDRESS&quot;: &quot;3434 E. Livingston Ave&quot;, &quot;NAME&quot;: &quot;CML Barnett Branch&quot;, &quot;__folium_color&quot;: &quot;#2ca02c&quot;, &quot;id_county&quot;: &quot;39049&quot;, &quot;id_place&quot;: &quot;3918000&quot;}, &quot;type&quot;: &quot;Feature&quot;}, {&quot;bbox&quot;: [-82.9597273052821, 39.9494241997039, -82.9597273052821, 39.9494241997039], &quot;geometry&quot;: {&quot;coordinates&quot;: [-82.9597273052821, 39.9494241997039], &quot;type&quot;: &quot;Point&quot;}, &quot;id&quot;: &quot;17&quot;, &quot;properties&quot;: {&quot;ADDRESS&quot;: &quot;1422 E. Livingstone Ave&quot;, &quot;NAME&quot;: &quot;CML Driving Park Branch&quot;, &quot;__folium_color&quot;: &quot;#2ca02c&quot;, &quot;id_county&quot;: &quot;39049&quot;, &quot;id_place&quot;: &quot;3918000&quot;}, &quot;type&quot;: &quot;Feature&quot;}, {&quot;bbox&quot;: [-83.0928751801827, 39.8813443923715, -83.0928751801827, 39.8813443923715], &quot;geometry&quot;: {&quot;coordinates&quot;: [-83.0928751801827, 39.8813443923715], &quot;type&quot;: &quot;Point&quot;}, &quot;id&quot;: &quot;18&quot;, &quot;properties&quot;: {&quot;ADDRESS&quot;: &quot;3359 Park St&quot;, &quot;NAME&quot;: &quot;Southwest Public Library Main Branch&quot;, &quot;__folium_color&quot;: &quot;#2ca02c&quot;, &quot;id_county&quot;: &quot;39049&quot;, &quot;id_place&quot;: &quot;3932592&quot;}, &quot;type&quot;: &quot;Feature&quot;}, {&quot;bbox&quot;: [-83.0278131213935, 39.9551572283188, -83.0278131213935, 39.9551572283188], &quot;geometry&quot;: {&quot;coordinates&quot;: [-83.0278131213935, 39.9551572283188], &quot;type&quot;: &quot;Point&quot;}, &quot;id&quot;: &quot;19&quot;, &quot;properties&quot;: {&quot;ADDRESS&quot;: &quot;1061 W. Town St&quot;, &quot;NAME&quot;: &quot;CML Franklinton Branch&quot;, &quot;__folium_color&quot;: &quot;#2ca02c&quot;, &quot;id_county&quot;: &quot;39049&quot;, &quot;id_place&quot;: &quot;3918000&quot;}, &quot;type&quot;: &quot;Feature&quot;}, {&quot;bbox&quot;: [-83.114732808428, 40.1014682662558, -83.114732808428, 40.1014682662558], &quot;geometry&quot;: {&quot;coordinates&quot;: [-83.114732808428, 40.1014682662558], &quot;type&quot;: &quot;Point&quot;}, &quot;id&quot;: &quot;20&quot;, &quot;properties&quot;: {&quot;ADDRESS&quot;: &quot;75 N. High St&quot;, &quot;NAME&quot;: &quot;CML Dublin Branch&quot;, &quot;__folium_color&quot;: &quot;#2ca02c&quot;, &quot;id_county&quot;: &quot;39049&quot;, &quot;id_place&quot;: &quot;3922694&quot;}, &quot;type&quot;: &quot;Feature&quot;}, {&quot;bbox&quot;: [-83.1366379079364, 40.0456095232506, -83.1366379079364, 40.0456095232506], &quot;geometry&quot;: {&quot;coordinates&quot;: [-83.1366379079364, 40.0456095232506], &quot;type&quot;: &quot;Point&quot;}, &quot;id&quot;: &quot;21&quot;, &quot;properties&quot;: {&quot;ADDRESS&quot;: &quot;4500 Hickory Chase Way&quot;, &quot;NAME&quot;: &quot;CML Hilliard Branch&quot;, &quot;__folium_color&quot;: &quot;#2ca02c&quot;, &quot;id_county&quot;: &quot;39049&quot;, &quot;id_place&quot;: &quot;3935476&quot;}, &quot;type&quot;: &quot;Feature&quot;}, {&quot;bbox&quot;: [-83.0761560949737, 40.1185981545267, -83.0761560949737, 40.1185981545267], &quot;geometry&quot;: {&quot;coordinates&quot;: [-83.0761560949737, 40.1185981545267], &quot;type&quot;: &quot;Point&quot;}, &quot;id&quot;: &quot;22&quot;, &quot;properties&quot;: {&quot;ADDRESS&quot;: &quot;2280 Hard Rd&quot;, &quot;NAME&quot;: &quot;Worthington Northwest  Library&quot;, &quot;__folium_color&quot;: &quot;#2ca02c&quot;, &quot;id_county&quot;: &quot;39049&quot;, &quot;id_place&quot;: &quot;3918000&quot;}, &quot;type&quot;: &quot;Feature&quot;}, {&quot;bbox&quot;: [-83.0711679413156, 40.0465814008826, -83.0711679413156, 40.0465814008826], &quot;geometry&quot;: {&quot;coordinates&quot;: [-83.0711679413156, 40.0465814008826], &quot;type&quot;: &quot;Point&quot;}, &quot;id&quot;: &quot;23&quot;, &quot;properties&quot;: {&quot;ADDRESS&quot;: &quot;1945 Lane Rd&quot;, &quot;NAME&quot;: &quot;Upper Arlington Public Library Lane Rd&quot;, &quot;__folium_color&quot;: &quot;#2ca02c&quot;, &quot;id_county&quot;: &quot;39049&quot;, &quot;id_place&quot;: &quot;3979002&quot;}, &quot;type&quot;: &quot;Feature&quot;}, {&quot;bbox&quot;: [-83.0673726408137, 40.0127560580795, -83.0673726408137, 40.0127560580795], &quot;geometry&quot;: {&quot;coordinates&quot;: [-83.0673726408137, 40.0127560580795], &quot;type&quot;: &quot;Point&quot;}, &quot;id&quot;: &quot;24&quot;, &quot;properties&quot;: {&quot;ADDRESS&quot;: &quot;2800 Tremont Rd&quot;, &quot;NAME&quot;: &quot;Upper Arlington Public Library&quot;, &quot;__folium_color&quot;: &quot;#2ca02c&quot;, &quot;id_county&quot;: &quot;39049&quot;, &quot;id_place&quot;: &quot;3979002&quot;}, &quot;type&quot;: &quot;Feature&quot;}, {&quot;bbox&quot;: [-83.016581928152, 40.0905205802044, -83.016581928152, 40.0905205802044], &quot;geometry&quot;: {&quot;coordinates&quot;: [-83.016581928152, 40.0905205802044], &quot;type&quot;: &quot;Point&quot;}, &quot;id&quot;: &quot;25&quot;, &quot;properties&quot;: {&quot;ADDRESS&quot;: &quot;820 N. High St&quot;, &quot;NAME&quot;: &quot;Old Worthington Public Library&quot;, &quot;__folium_color&quot;: &quot;#2ca02c&quot;, &quot;id_county&quot;: &quot;39049&quot;, &quot;id_place&quot;: &quot;3986604&quot;}, &quot;type&quot;: &quot;Feature&quot;}, {&quot;bbox&quot;: [-82.9744176980046, 40.0810266609512, -82.9744176980046, 40.0810266609512], &quot;geometry&quot;: {&quot;coordinates&quot;: [-82.9744176980046, 40.0810266609512], &quot;type&quot;: &quot;Point&quot;}, &quot;id&quot;: &quot;26&quot;, &quot;properties&quot;: {&quot;ADDRESS&quot;: &quot;5590 Karl Rd&quot;, &quot;NAME&quot;: &quot;CML Karl Road Branch&quot;, &quot;__folium_color&quot;: &quot;#2ca02c&quot;, &quot;id_county&quot;: &quot;39049&quot;, &quot;id_place&quot;: &quot;3918000&quot;}, &quot;type&quot;: &quot;Feature&quot;}, {&quot;bbox&quot;: [-82.9541151172678, 40.0524364964823, -82.9541151172678, 40.0524364964823], &quot;geometry&quot;: {&quot;coordinates&quot;: [-82.9541151172678, 40.0524364964823], &quot;type&quot;: &quot;Point&quot;}, &quot;id&quot;: &quot;27&quot;, &quot;properties&quot;: {&quot;ADDRESS&quot;: &quot;4093 Cleveland Ave&quot;, &quot;NAME&quot;: &quot;CML Northern Lights Branch&quot;, &quot;__folium_color&quot;: &quot;#2ca02c&quot;, &quot;id_county&quot;: &quot;39049&quot;, &quot;id_place&quot;: &quot;3918000&quot;}, &quot;type&quot;: &quot;Feature&quot;}, {&quot;bbox&quot;: [-82.8698569209026, 40.019124439038, -82.8698569209026, 40.019124439038], &quot;geometry&quot;: {&quot;coordinates&quot;: [-82.8698569209026, 40.019124439038], &quot;type&quot;: &quot;Point&quot;}, &quot;id&quot;: &quot;28&quot;, &quot;properties&quot;: {&quot;ADDRESS&quot;: &quot;310 Granville St&quot;, &quot;NAME&quot;: &quot;CML Gahanna Branch&quot;, &quot;__folium_color&quot;: &quot;#2ca02c&quot;, &quot;id_county&quot;: &quot;39049&quot;, &quot;id_place&quot;: &quot;3929106&quot;}, &quot;type&quot;: &quot;Feature&quot;}, {&quot;bbox&quot;: [-82.8149623287813, 40.0819278251043, -82.8149623287813, 40.0819278251043], &quot;geometry&quot;: {&quot;coordinates&quot;: [-82.8149623287813, 40.0819278251043], &quot;type&quot;: &quot;Point&quot;}, &quot;id&quot;: &quot;29&quot;, &quot;properties&quot;: {&quot;ADDRESS&quot;: &quot;200 Market St&quot;, &quot;NAME&quot;: &quot;CML New Albany Branch&quot;, &quot;__folium_color&quot;: &quot;#2ca02c&quot;, &quot;id_county&quot;: &quot;39049&quot;, &quot;id_place&quot;: &quot;3953970&quot;}, &quot;type&quot;: &quot;Feature&quot;}, {&quot;bbox&quot;: [-82.9621491629931, 39.9685117139292, -82.9621491629931, 39.9685117139292], &quot;geometry&quot;: {&quot;coordinates&quot;: [-82.9621491629931, 39.9685117139292], &quot;type&quot;: &quot;Point&quot;}, &quot;id&quot;: &quot;30&quot;, &quot;properties&quot;: {&quot;ADDRESS&quot;: &quot;1467 E Long St&quot;, &quot;NAME&quot;: &quot;CML Martin Luther King Branch&quot;, &quot;__folium_color&quot;: &quot;#2ca02c&quot;, &quot;id_county&quot;: &quot;39049&quot;, &quot;id_place&quot;: &quot;3918000&quot;}, &quot;type&quot;: &quot;Feature&quot;}, {&quot;bbox&quot;: [-83.0498792045486, 39.9817244301678, -83.0498792045486, 39.9817244301678], &quot;geometry&quot;: {&quot;coordinates&quot;: [-83.0498792045486, 39.9817244301678], &quot;type&quot;: &quot;Point&quot;}, &quot;id&quot;: &quot;31&quot;, &quot;properties&quot;: {&quot;ADDRESS&quot;: &quot;1685 W. First Ave&quot;, &quot;NAME&quot;: &quot;Grandview Heights Public Library&quot;, &quot;__folium_color&quot;: &quot;#2ca02c&quot;, &quot;id_county&quot;: &quot;39049&quot;, &quot;id_place&quot;: &quot;3931304&quot;}, &quot;type&quot;: &quot;Feature&quot;}, {&quot;bbox&quot;: [-83.0609347336894, 39.9950463816084, -83.0609347336894, 39.9950463816084], &quot;geometry&quot;: {&quot;coordinates&quot;: [-83.0609347336894, 39.9950463816084], &quot;type&quot;: &quot;Point&quot;}, &quot;id&quot;: &quot;32&quot;, &quot;properties&quot;: {&quot;ADDRESS&quot;: &quot;1901 Arlington Ave&quot;, &quot;NAME&quot;: &quot;Upper Arlington Public Library Miller Park&quot;, &quot;__folium_color&quot;: &quot;#2ca02c&quot;, &quot;id_county&quot;: &quot;39049&quot;, &quot;id_place&quot;: &quot;3979002&quot;}, &quot;type&quot;: &quot;Feature&quot;}, {&quot;bbox&quot;: [-83.1712428615435, 39.810075128243, -83.1712428615435, 39.810075128243], &quot;geometry&quot;: {&quot;coordinates&quot;: [-83.1712428615435, 39.810075128243], &quot;type&quot;: &quot;Point&quot;}, &quot;id&quot;: &quot;33&quot;, &quot;properties&quot;: {&quot;ADDRESS&quot;: &quot;1036 High St&quot;, &quot;NAME&quot;: &quot;Harrisburg Library&quot;, &quot;__folium_color&quot;: &quot;#2ca02c&quot;, &quot;id_county&quot;: &quot;39049&quot;, &quot;id_place&quot;: &quot;3933740&quot;}, &quot;type&quot;: &quot;Feature&quot;}, {&quot;bbox&quot;: [-83.1273603040478, 39.9537788885617, -83.1273603040478, 39.9537788885617], &quot;geometry&quot;: {&quot;coordinates&quot;: [-83.1273603040478, 39.9537788885617], &quot;type&quot;: &quot;Point&quot;}, &quot;id&quot;: &quot;34&quot;, &quot;properties&quot;: {&quot;ADDRESS&quot;: &quot;4740 W. Broad St&quot;, &quot;NAME&quot;: &quot;Southwest Public Library Westland Area&quot;, &quot;__folium_color&quot;: &quot;#2ca02c&quot;, &quot;id_county&quot;: &quot;39049&quot;, &quot;id_place&quot;: &quot;3943792&quot;}, &quot;type&quot;: &quot;Feature&quot;}, {&quot;bbox&quot;: [-83.0735041748622, 39.9446355534772, -83.0735041748622, 39.9446355534772], &quot;geometry&quot;: {&quot;coordinates&quot;: [-83.0735041748622, 39.9446355534772], &quot;type&quot;: &quot;Point&quot;}, &quot;id&quot;: &quot;35&quot;, &quot;properties&quot;: {&quot;ADDRESS&quot;: &quot;511 S. Hague Ave&quot;, &quot;NAME&quot;: &quot;CML Hilltop Branch&quot;, &quot;__folium_color&quot;: &quot;#2ca02c&quot;, &quot;id_county&quot;: &quot;39049&quot;, &quot;id_place&quot;: &quot;3918000&quot;}, &quot;type&quot;: &quot;Feature&quot;}, {&quot;bbox&quot;: [-82.9971352473625, 39.889365189525, -82.9971352473625, 39.889365189525], &quot;geometry&quot;: {&quot;coordinates&quot;: [-82.9971352473625, 39.889365189525], &quot;type&quot;: &quot;Point&quot;}, &quot;id&quot;: &quot;36&quot;, &quot;properties&quot;: {&quot;ADDRESS&quot;: &quot;3540 S. High St&quot;, &quot;NAME&quot;: &quot;CML South High Branch&quot;, &quot;__folium_color&quot;: &quot;#2ca02c&quot;, &quot;id_county&quot;: &quot;39049&quot;, &quot;id_place&quot;: &quot;3918000&quot;}, &quot;type&quot;: &quot;Feature&quot;}, {&quot;bbox&quot;: [-82.9834545839897, 39.9408853380751, -82.9834545839897, 39.9408853380751], &quot;geometry&quot;: {&quot;coordinates&quot;: [-82.9834545839897, 39.9408853380751], &quot;type&quot;: &quot;Point&quot;}, &quot;id&quot;: &quot;37&quot;, &quot;properties&quot;: {&quot;ADDRESS&quot;: &quot;1113 Parsons Ave&quot;, &quot;NAME&quot;: &quot;CML Parsons Branch&quot;, &quot;__folium_color&quot;: &quot;#2ca02c&quot;, &quot;id_county&quot;: &quot;39049&quot;, &quot;id_place&quot;: &quot;3918000&quot;}, &quot;type&quot;: &quot;Feature&quot;}, {&quot;bbox&quot;: [-82.8818327221363, 39.8935328135114, -82.8818327221363, 39.8935328135114], &quot;geometry&quot;: {&quot;coordinates&quot;: [-82.8818327221363, 39.8935328135114], &quot;type&quot;: &quot;Point&quot;}, &quot;id&quot;: &quot;38&quot;, &quot;properties&quot;: {&quot;ADDRESS&quot;: &quot;3980 S. Hamilton Rd&quot;, &quot;NAME&quot;: &quot;CML Southeast Branch&quot;, &quot;__folium_color&quot;: &quot;#2ca02c&quot;, &quot;id_county&quot;: &quot;39049&quot;, &quot;id_place&quot;: &quot;3918000&quot;}, &quot;type&quot;: &quot;Feature&quot;}, {&quot;bbox&quot;: [-82.8284373446568, 39.9517820619019, -82.8284373446568, 39.9517820619019], &quot;geometry&quot;: {&quot;coordinates&quot;: [-82.8284373446568, 39.9517820619019], &quot;type&quot;: &quot;Point&quot;}, &quot;id&quot;: &quot;39&quot;, &quot;properties&quot;: {&quot;ADDRESS&quot;: &quot;1402 Brice Rd&quot;, &quot;NAME&quot;: &quot;CML Reynoldsburg Branch&quot;, &quot;__folium_color&quot;: &quot;#2ca02c&quot;, &quot;id_county&quot;: &quot;39049&quot;, &quot;id_place&quot;: &quot;3966390&quot;}, &quot;type&quot;: &quot;Feature&quot;}, {&quot;bbox&quot;: [-82.9343442927468, 39.9567452880173, -82.9343442927468, 39.9567452880173], &quot;geometry&quot;: {&quot;coordinates&quot;: [-82.9343442927468, 39.9567452880173], &quot;type&quot;: &quot;Point&quot;}, &quot;id&quot;: &quot;40&quot;, &quot;properties&quot;: {&quot;ADDRESS&quot;: &quot;2411 E. Main St&quot;, &quot;NAME&quot;: &quot;Bexley Public Library&quot;, &quot;__folium_color&quot;: &quot;#2ca02c&quot;, &quot;id_county&quot;: &quot;39049&quot;, &quot;id_place&quot;: &quot;3906278&quot;}, &quot;type&quot;: &quot;Feature&quot;}, {&quot;bbox&quot;: [-82.8823661483, 39.9748399818752, -82.8823661483, 39.9748399818752], &quot;geometry&quot;: {&quot;coordinates&quot;: [-82.8823661483, 39.9748399818752], &quot;type&quot;: &quot;Point&quot;}, &quot;id&quot;: &quot;41&quot;, &quot;properties&quot;: {&quot;ADDRESS&quot;: &quot;4445 E Broad St&quot;, &quot;NAME&quot;: &quot;CML Whitehall Branch&quot;, &quot;__folium_color&quot;: &quot;#2ca02c&quot;, &quot;id_county&quot;: &quot;39049&quot;, &quot;id_place&quot;: &quot;3984742&quot;}, &quot;type&quot;: &quot;Feature&quot;}, {&quot;bbox&quot;: [-82.6026456832015, 39.7153317516429, -82.6026456832015, 39.7153317516429], &quot;geometry&quot;: {&quot;coordinates&quot;: [-82.6026456832015, 39.7153317516429], &quot;type&quot;: &quot;Point&quot;}, &quot;id&quot;: &quot;42&quot;, &quot;properties&quot;: {&quot;ADDRESS&quot;: &quot;219 N. Broad St&quot;, &quot;NAME&quot;: &quot;Fairfield County District Library&quot;, &quot;__folium_color&quot;: &quot;#aec7e8&quot;, &quot;id_county&quot;: &quot;39045&quot;, &quot;id_place&quot;: &quot;3941720&quot;}, &quot;type&quot;: &quot;Feature&quot;}, {&quot;bbox&quot;: [-82.7430257886071, 39.6505107986975, -82.7430257886071, 39.6505107986975], &quot;geometry&quot;: {&quot;coordinates&quot;: [-82.7430257886071, 39.6505107986975], &quot;type&quot;: &quot;Point&quot;}, &quot;id&quot;: &quot;43&quot;, &quot;properties&quot;: {&quot;ADDRESS&quot;: &quot;116 E. High St&quot;, &quot;NAME&quot;: &quot;Fairfield County District Library Johns Memorial Branch&quot;, &quot;__folium_color&quot;: &quot;#aec7e8&quot;, &quot;id_county&quot;: &quot;39045&quot;, &quot;id_place&quot;: &quot;3901630&quot;}, &quot;type&quot;: &quot;Feature&quot;}, {&quot;bbox&quot;: [-82.4341240826341, 39.7043935779691, -82.4341240826341, 39.7043935779691], &quot;geometry&quot;: {&quot;coordinates&quot;: [-82.4341240826341, 39.7043935779691], &quot;type&quot;: &quot;Point&quot;}, &quot;id&quot;: &quot;44&quot;, &quot;properties&quot;: {&quot;ADDRESS&quot;: &quot;200 School St&quot;, &quot;NAME&quot;: &quot;Fairfield County District Library Bremen-Rushcreek Branch&quot;, &quot;__folium_color&quot;: &quot;#aec7e8&quot;, &quot;id_county&quot;: &quot;39045&quot;, &quot;id_place&quot;: &quot;3908392&quot;}, &quot;type&quot;: &quot;Feature&quot;}, {&quot;bbox&quot;: [-82.7586109225058, 39.8749692151085, -82.7586109225058, 39.8749692151085], &quot;geometry&quot;: {&quot;coordinates&quot;: [-82.7586109225058, 39.8749692151085], &quot;type&quot;: &quot;Point&quot;}, &quot;id&quot;: &quot;45&quot;, &quot;properties&quot;: {&quot;ADDRESS&quot;: &quot;201 Opportunity Way&quot;, &quot;NAME&quot;: &quot;Pickerington Public Library&quot;, &quot;__folium_color&quot;: &quot;#aec7e8&quot;, &quot;id_county&quot;: &quot;39045&quot;, &quot;id_place&quot;: &quot;3962498&quot;}, &quot;type&quot;: &quot;Feature&quot;}, {&quot;bbox&quot;: [-82.8051577481653, 39.8020336684732, -82.8051577481653, 39.8020336684732], &quot;geometry&quot;: {&quot;coordinates&quot;: [-82.8051577481653, 39.8020336684732], &quot;type&quot;: &quot;Point&quot;}, &quot;id&quot;: &quot;46&quot;, &quot;properties&quot;: {&quot;ADDRESS&quot;: &quot;150 E. Columbus St&quot;, &quot;NAME&quot;: &quot;Wagnalls Memorial Library&quot;, &quot;__folium_color&quot;: &quot;#aec7e8&quot;, &quot;id_county&quot;: &quot;39045&quot;, &quot;id_place&quot;: &quot;3944086&quot;}, &quot;type&quot;: &quot;Feature&quot;}, {&quot;bbox&quot;: [-82.5997091213125, 39.84555058542, -82.5997091213125, 39.84555058542], &quot;geometry&quot;: {&quot;coordinates&quot;: [-82.5997091213125, 39.84555058542], &quot;type&quot;: &quot;Point&quot;}, &quot;id&quot;: &quot;47&quot;, &quot;properties&quot;: {&quot;ADDRESS&quot;: &quot;205 E. Market St&quot;, &quot;NAME&quot;: &quot;Fairfield County District Library Baltimore Branch&quot;, &quot;__folium_color&quot;: &quot;#aec7e8&quot;, &quot;id_county&quot;: &quot;39045&quot;, &quot;id_place&quot;: &quot;3903758&quot;}, &quot;type&quot;: &quot;Feature&quot;}, {&quot;bbox&quot;: [-83.0727232044367, 40.1483917831969, -83.0727232044367, 40.1483917831969], &quot;geometry&quot;: {&quot;coordinates&quot;: [-83.0727232044367, 40.1483917831969], &quot;type&quot;: &quot;Point&quot;}, &quot;id&quot;: &quot;48&quot;, &quot;properties&quot;: {&quot;ADDRESS&quot;: &quot;460 S. Liberty St&quot;, &quot;NAME&quot;: &quot;Delaware County District Library Powell Branch&quot;, &quot;__folium_color&quot;: &quot;#1f77b4&quot;, &quot;id_county&quot;: &quot;39041&quot;, &quot;id_place&quot;: &quot;3964486&quot;}, &quot;type&quot;: &quot;Feature&quot;}, {&quot;bbox&quot;: [-83.2169672935717, 40.2673215162087, -83.2169672935717, 40.2673215162087], &quot;geometry&quot;: {&quot;coordinates&quot;: [-83.2169672935717, 40.2673215162087], &quot;type&quot;: &quot;Point&quot;}, &quot;id&quot;: &quot;49&quot;, &quot;properties&quot;: {&quot;ADDRESS&quot;: &quot;75 N. 4th St&quot;, &quot;NAME&quot;: &quot;Delaware County District Library Ostrander Branch&quot;, &quot;__folium_color&quot;: &quot;#1f77b4&quot;, &quot;id_county&quot;: &quot;39041&quot;, &quot;id_place&quot;: &quot;3958940&quot;}, &quot;type&quot;: &quot;Feature&quot;}, {&quot;bbox&quot;: [-83.0646462916659, 40.2997674874225, -83.0646462916659, 40.2997674874225], &quot;geometry&quot;: {&quot;coordinates&quot;: [-83.0646462916659, 40.2997674874225], &quot;type&quot;: &quot;Point&quot;}, &quot;id&quot;: &quot;50&quot;, &quot;properties&quot;: {&quot;ADDRESS&quot;: &quot;84 E. Winter St&quot;, &quot;NAME&quot;: &quot;Delaware County District Library&quot;, &quot;__folium_color&quot;: &quot;#1f77b4&quot;, &quot;id_county&quot;: &quot;39041&quot;, &quot;id_place&quot;: &quot;3921434&quot;}, &quot;type&quot;: &quot;Feature&quot;}, {&quot;bbox&quot;: [-82.8630336114161, 40.2428959976276, -82.8630336114161, 40.2428959976276], &quot;geometry&quot;: {&quot;coordinates&quot;: [-82.8630336114161, 40.2428959976276], &quot;type&quot;: &quot;Point&quot;}, &quot;id&quot;: &quot;51&quot;, &quot;properties&quot;: {&quot;ADDRESS&quot;: &quot;44 Burrer Dr&quot;, &quot;NAME&quot;: &quot;Sunbury Community Library&quot;, &quot;__folium_color&quot;: &quot;#1f77b4&quot;, &quot;id_county&quot;: &quot;39041&quot;, &quot;id_place&quot;: &quot;3975602&quot;}, &quot;type&quot;: &quot;Feature&quot;}, {&quot;bbox&quot;: [-82.9517032736047, 40.4092688412817, -82.9517032736047, 40.4092688412817], &quot;geometry&quot;: {&quot;coordinates&quot;: [-82.9517032736047, 40.4092688412817], &quot;type&quot;: &quot;Point&quot;}, &quot;id&quot;: &quot;52&quot;, &quot;properties&quot;: {&quot;ADDRESS&quot;: &quot;302 E. High St&quot;, &quot;NAME&quot;: &quot;Wornstaff Memorial Public Library&quot;, &quot;__folium_color&quot;: &quot;#1f77b4&quot;, &quot;id_county&quot;: &quot;39041&quot;, &quot;id_place&quot;: &quot;3902582&quot;}, &quot;type&quot;: &quot;Feature&quot;}, {&quot;bbox&quot;: [-82.6136244867801, 40.0900903767624, -82.6136244867801, 40.0900903767624], &quot;geometry&quot;: {&quot;coordinates&quot;: [-82.6136244867801, 40.0900903767624], &quot;type&quot;: &quot;Point&quot;}, &quot;id&quot;: &quot;53&quot;, &quot;properties&quot;: {&quot;ADDRESS&quot;: &quot;10 Maple Dr&quot;, &quot;NAME&quot;: &quot;Alexandria Public Library&quot;, &quot;__folium_color&quot;: &quot;#9467bd&quot;, &quot;id_county&quot;: &quot;39089&quot;, &quot;id_place&quot;: &quot;3901154&quot;}, &quot;type&quot;: &quot;Feature&quot;}, {&quot;bbox&quot;: [-82.5250716419211, 40.2519609362924, -82.5250716419211, 40.2519609362924], &quot;geometry&quot;: {&quot;coordinates&quot;: [-82.5250716419211, 40.2519609362924], &quot;type&quot;: &quot;Point&quot;}, &quot;id&quot;: &quot;54&quot;, &quot;properties&quot;: {&quot;ADDRESS&quot;: &quot;385 South St NW&quot;, &quot;NAME&quot;: &quot;Homer Public Library&quot;, &quot;__folium_color&quot;: &quot;#9467bd&quot;, &quot;id_county&quot;: &quot;39089&quot;, &quot;id_place&quot;: null}, &quot;type&quot;: &quot;Feature&quot;}, {&quot;bbox&quot;: [-82.5181580768464, 40.068153534214, -82.5181580768464, 40.068153534214], &quot;geometry&quot;: {&quot;coordinates&quot;: [-82.5181580768464, 40.068153534214], &quot;type&quot;: &quot;Point&quot;}, &quot;id&quot;: &quot;55&quot;, &quot;properties&quot;: {&quot;ADDRESS&quot;: &quot;217 E. Broadway St&quot;, &quot;NAME&quot;: &quot;Granville Public Library&quot;, &quot;__folium_color&quot;: &quot;#9467bd&quot;, &quot;id_county&quot;: &quot;39089&quot;, &quot;id_place&quot;: &quot;3931402&quot;}, &quot;type&quot;: &quot;Feature&quot;}, {&quot;bbox&quot;: [-82.4528857468518, 40.2347337471026, -82.4528857468518, 40.2347337471026], &quot;geometry&quot;: {&quot;coordinates&quot;: [-82.4528857468518, 40.2347337471026], &quot;type&quot;: &quot;Point&quot;}, &quot;id&quot;: &quot;56&quot;, &quot;properties&quot;: {&quot;ADDRESS&quot;: &quot;15 N. Main St&quot;, &quot;NAME&quot;: &quot;Newark Public Library Hervey Memorial Branch&quot;, &quot;__folium_color&quot;: &quot;#9467bd&quot;, &quot;id_county&quot;: &quot;39089&quot;, &quot;id_place&quot;: &quot;3979114&quot;}, &quot;type&quot;: &quot;Feature&quot;}, {&quot;bbox&quot;: [-82.4394213926801, 40.0497860717945, -82.4394213926801, 40.0497860717945], &quot;geometry&quot;: {&quot;coordinates&quot;: [-82.4394213926801, 40.0497860717945], &quot;type&quot;: &quot;Point&quot;}, &quot;id&quot;: &quot;57&quot;, &quot;properties&quot;: {&quot;ADDRESS&quot;: &quot;990 W. Main St&quot;, &quot;NAME&quot;: &quot;Newark Public Library Emerson Miller Branch&quot;, &quot;__folium_color&quot;: &quot;#9467bd&quot;, &quot;id_county&quot;: &quot;39089&quot;, &quot;id_place&quot;: &quot;3954040&quot;}, &quot;type&quot;: &quot;Feature&quot;}, {&quot;bbox&quot;: [-82.4061028616415, 40.0559756534757, -82.4061028616415, 40.0559756534757], &quot;geometry&quot;: {&quot;coordinates&quot;: [-82.4061028616415, 40.0559756534757], &quot;type&quot;: &quot;Point&quot;}, &quot;id&quot;: &quot;58&quot;, &quot;properties&quot;: {&quot;ADDRESS&quot;: &quot;101 W. Main St&quot;, &quot;NAME&quot;: &quot;Licking County Newark Public Library&quot;, &quot;__folium_color&quot;: &quot;#9467bd&quot;, &quot;id_county&quot;: &quot;39089&quot;, &quot;id_place&quot;: &quot;3954040&quot;}, &quot;type&quot;: &quot;Feature&quot;}, {&quot;bbox&quot;: [-82.6783976875294, 40.0002439979398, -82.6783976875294, 40.0002439979398], &quot;geometry&quot;: {&quot;coordinates&quot;: [-82.6783976875294, 40.0002439979398], &quot;type&quot;: &quot;Point&quot;}, &quot;id&quot;: &quot;59&quot;, &quot;properties&quot;: {&quot;ADDRESS&quot;: &quot;101 S. Vine St&quot;, &quot;NAME&quot;: &quot;Pataskala Public Library&quot;, &quot;__folium_color&quot;: &quot;#9467bd&quot;, &quot;id_county&quot;: &quot;39089&quot;, &quot;id_place&quot;: &quot;3961112&quot;}, &quot;type&quot;: &quot;Feature&quot;}, {&quot;bbox&quot;: [-82.5040138828041, 39.9603567255153, -82.5040138828041, 39.9603567255153], &quot;geometry&quot;: {&quot;coordinates&quot;: [-82.5040138828041, 39.9603567255153], &quot;type&quot;: &quot;Point&quot;}, &quot;id&quot;: &quot;60&quot;, &quot;properties&quot;: {&quot;ADDRESS&quot;: &quot;934 W. Main St&quot;, &quot;NAME&quot;: &quot;Newark Public Library Hebron Branch&quot;, &quot;__folium_color&quot;: &quot;#9467bd&quot;, &quot;id_county&quot;: &quot;39089&quot;, &quot;id_place&quot;: &quot;3934790&quot;}, &quot;type&quot;: &quot;Feature&quot;}, {&quot;bbox&quot;: [-82.6853942607652, 40.1530389382747, -82.6853942607652, 40.1530389382747], &quot;geometry&quot;: {&quot;coordinates&quot;: [-82.6853942607652, 40.1530389382747], &quot;type&quot;: &quot;Point&quot;}, &quot;id&quot;: &quot;61&quot;, &quot;properties&quot;: {&quot;ADDRESS&quot;: &quot;320 N. Maint St&quot;, &quot;NAME&quot;: &quot;Newark Public Library Johnstown Branch&quot;, &quot;__folium_color&quot;: &quot;#9467bd&quot;, &quot;id_county&quot;: &quot;39089&quot;, &quot;id_place&quot;: &quot;3939340&quot;}, &quot;type&quot;: &quot;Feature&quot;}, {&quot;bbox&quot;: [-82.980380264528, 40.1229618505792, -82.980380264528, 40.1229618505792], &quot;geometry&quot;: {&quot;coordinates&quot;: [-82.980380264528, 40.1229618505792], &quot;type&quot;: &quot;Point&quot;}, &quot;id&quot;: &quot;62&quot;, &quot;properties&quot;: {&quot;ADDRESS&quot;: &quot;1389 Worthington Centre Dr&quot;, &quot;NAME&quot;: &quot;Worthington Park Library&quot;, &quot;__folium_color&quot;: &quot;#2ca02c&quot;, &quot;id_county&quot;: &quot;39049&quot;, &quot;id_place&quot;: &quot;3918000&quot;}, &quot;type&quot;: &quot;Feature&quot;}, {&quot;bbox&quot;: [-82.9995411945757, 39.9541227537836, -82.9995411945757, 39.9541227537836], &quot;geometry&quot;: {&quot;coordinates&quot;: [-82.9995411945757, 39.9541227537836], &quot;type&quot;: &quot;Point&quot;}, &quot;id&quot;: &quot;63&quot;, &quot;properties&quot;: {&quot;ADDRESS&quot;: &quot;369 S High St 10th Fl&quot;, &quot;NAME&quot;: &quot;Columbus Law Library&quot;, &quot;__folium_color&quot;: &quot;#2ca02c&quot;, &quot;id_county&quot;: &quot;39049&quot;, &quot;id_place&quot;: &quot;3918000&quot;}, &quot;type&quot;: &quot;Feature&quot;}, {&quot;bbox&quot;: [-82.996000859998, 39.9811655797924, -82.996000859998, 39.9811655797924], &quot;geometry&quot;: {&quot;coordinates&quot;: [-82.996000859998, 39.9811655797924], &quot;type&quot;: &quot;Point&quot;}, &quot;id&quot;: &quot;64&quot;, &quot;properties&quot;: {&quot;ADDRESS&quot;: &quot;274 E 1st Ave Ste 100&quot;, &quot;NAME&quot;: &quot;State Library Of Ohio&quot;, &quot;__folium_color&quot;: &quot;#2ca02c&quot;, &quot;id_county&quot;: &quot;39049&quot;, &quot;id_place&quot;: &quot;3918000&quot;}, &quot;type&quot;: &quot;Feature&quot;}, {&quot;bbox&quot;: [-82.9649032220998, 39.9105152700423, -82.9649032220998, 39.9105152700423], &quot;geometry&quot;: {&quot;coordinates&quot;: [-82.9649032220998, 39.9105152700423], &quot;type&quot;: &quot;Point&quot;}, &quot;id&quot;: &quot;65&quot;, &quot;properties&quot;: {&quot;ADDRESS&quot;: &quot;2740 Lockbourne Rd&quot;, &quot;NAME&quot;: &quot;CML Marion-Franklin&quot;, &quot;__folium_color&quot;: &quot;#2ca02c&quot;, &quot;id_county&quot;: &quot;39049&quot;, &quot;id_place&quot;: &quot;3918000&quot;}, &quot;type&quot;: &quot;Feature&quot;}, {&quot;bbox&quot;: [-82.810232180814, 39.840974352012, -82.810232180814, 39.840974352012], &quot;geometry&quot;: {&quot;coordinates&quot;: [-82.810232180814, 39.840974352012], &quot;type&quot;: &quot;Point&quot;}, &quot;id&quot;: &quot;66&quot;, &quot;properties&quot;: {&quot;ADDRESS&quot;: &quot;115 Franklin St&quot;, &quot;NAME&quot;: &quot;CML Canal Winchester Branch&quot;, &quot;__folium_color&quot;: &quot;#2ca02c&quot;, &quot;id_county&quot;: &quot;39049&quot;, &quot;id_place&quot;: &quot;3911332&quot;}, &quot;type&quot;: &quot;Feature&quot;}, {&quot;bbox&quot;: [-83.7525768626904, 40.5070217986525, -83.7525768626904, 40.5070217986525], &quot;geometry&quot;: {&quot;coordinates&quot;: [-83.7525768626904, 40.5070217986525], &quot;type&quot;: &quot;Point&quot;}, &quot;id&quot;: &quot;67&quot;, &quot;properties&quot;: {&quot;ADDRESS&quot;: &quot;103 S. Elizabeth St&quot;, &quot;NAME&quot;: &quot;Belle Center Free Public Library&quot;, &quot;__folium_color&quot;: &quot;#8c564b&quot;, &quot;id_county&quot;: &quot;39091&quot;, &quot;id_place&quot;: &quot;3905116&quot;}, &quot;type&quot;: &quot;Feature&quot;}, {&quot;bbox&quot;: [-82.9813244175534, 39.3298618160501, -82.9813244175534, 39.3298618160501], &quot;geometry&quot;: {&quot;coordinates&quot;: [-82.9813244175534, 39.3298618160501], &quot;type&quot;: &quot;Point&quot;}, &quot;id&quot;: &quot;68&quot;, &quot;properties&quot;: {&quot;ADDRESS&quot;: &quot;140 S. Paint St&quot;, &quot;NAME&quot;: &quot;Chillicothe and Ross County Public Library&quot;, &quot;__folium_color&quot;: &quot;#17becf&quot;, &quot;id_county&quot;: &quot;39141&quot;, &quot;id_place&quot;: &quot;3914184&quot;}, &quot;type&quot;: &quot;Feature&quot;}, {&quot;bbox&quot;: [-83.4371759125388, 39.5364646993212, -83.4371759125388, 39.5364646993212], &quot;geometry&quot;: {&quot;coordinates&quot;: [-83.4371759125388, 39.5364646993212], &quot;type&quot;: &quot;Point&quot;}, &quot;id&quot;: &quot;69&quot;, &quot;properties&quot;: {&quot;ADDRESS&quot;: &quot;127 S. North St&quot;, &quot;NAME&quot;: &quot;Carnegie Public Library&quot;, &quot;__folium_color&quot;: &quot;#ff7f0e&quot;, &quot;id_county&quot;: &quot;39047&quot;, &quot;id_place&quot;: &quot;3981718&quot;}, &quot;type&quot;: &quot;Feature&quot;}, {&quot;bbox&quot;: [-82.4052486570151, 39.5400379297169, -82.4052486570151, 39.5400379297169], &quot;geometry&quot;: {&quot;coordinates&quot;: [-82.4052486570151, 39.5400379297169], &quot;type&quot;: &quot;Point&quot;}, &quot;id&quot;: &quot;70&quot;, &quot;properties&quot;: {&quot;ADDRESS&quot;: &quot;230 E. Main St&quot;, &quot;NAME&quot;: &quot;Logan-Hocking County District Library&quot;, &quot;__folium_color&quot;: &quot;#98df8a&quot;, &quot;id_county&quot;: &quot;39073&quot;, &quot;id_place&quot;: &quot;3944632&quot;}, &quot;type&quot;: &quot;Feature&quot;}, {&quot;bbox&quot;: [-82.6951834447364, 40.3050194882421, -82.6951834447364, 40.3050194882421], &quot;geometry&quot;: {&quot;coordinates&quot;: [-82.6951834447364, 40.3050194882421], &quot;type&quot;: &quot;Point&quot;}, &quot;id&quot;: &quot;71&quot;, &quot;properties&quot;: {&quot;ADDRESS&quot;: &quot;49 E. Main St.&quot;, &quot;NAME&quot;: &quot;Centurburg Public Library&quot;, &quot;__folium_color&quot;: &quot;#ff9896&quot;, &quot;id_county&quot;: &quot;39083&quot;, &quot;id_place&quot;: &quot;3913036&quot;}, &quot;type&quot;: &quot;Feature&quot;}, {&quot;bbox&quot;: [-82.4866006262204, 40.3955577344148, -82.4866006262204, 40.3955577344148], &quot;geometry&quot;: {&quot;coordinates&quot;: [-82.4866006262204, 40.3955577344148], &quot;type&quot;: &quot;Point&quot;}, &quot;id&quot;: &quot;72&quot;, &quot;properties&quot;: {&quot;ADDRESS&quot;: &quot;201 N. Mulberry St&quot;, &quot;NAME&quot;: &quot;Public Library of Mount Vernon and Knox County&quot;, &quot;__folium_color&quot;: &quot;#ff9896&quot;, &quot;id_county&quot;: &quot;39083&quot;, &quot;id_place&quot;: &quot;3953102&quot;}, &quot;type&quot;: &quot;Feature&quot;}, {&quot;bbox&quot;: [-83.5456126851801, 40.4023489025917, -83.5456126851801, 40.4023489025917], &quot;geometry&quot;: {&quot;coordinates&quot;: [-83.5456126851801, 40.4023489025917], &quot;type&quot;: &quot;Point&quot;}, &quot;id&quot;: &quot;73&quot;, &quot;properties&quot;: {&quot;ADDRESS&quot;: &quot;127 N. Main St&quot;, &quot;NAME&quot;: &quot;West Mansfield Branch Library&quot;, &quot;__folium_color&quot;: &quot;#8c564b&quot;, &quot;id_county&quot;: &quot;39091&quot;, &quot;id_place&quot;: &quot;3983818&quot;}, &quot;type&quot;: &quot;Feature&quot;}, {&quot;bbox&quot;: [-83.6767931035504, 40.3377025381221, -83.6767931035504, 40.3377025381221], &quot;geometry&quot;: {&quot;coordinates&quot;: [-83.6767931035504, 40.3377025381221], &quot;type&quot;: &quot;Point&quot;}, &quot;id&quot;: &quot;74&quot;, &quot;properties&quot;: {&quot;ADDRESS&quot;: &quot;2817 Sandusky St&quot;, &quot;NAME&quot;: &quot;Dr. Earl S. Sloan Library&quot;, &quot;__folium_color&quot;: &quot;#8c564b&quot;, &quot;id_county&quot;: &quot;39091&quot;, &quot;id_place&quot;: &quot;3988070&quot;}, &quot;type&quot;: &quot;Feature&quot;}, {&quot;bbox&quot;: [-83.6717411857932, 40.4611121869309, -83.6717411857932, 40.4611121869309], &quot;geometry&quot;: {&quot;coordinates&quot;: [-83.6717411857932, 40.4611121869309], &quot;type&quot;: &quot;Point&quot;}, &quot;id&quot;: &quot;75&quot;, &quot;properties&quot;: {&quot;ADDRESS&quot;: &quot;113 N. Sandusky St&quot;, &quot;NAME&quot;: &quot;Rushsylvania Branch Library&quot;, &quot;__folium_color&quot;: &quot;#8c564b&quot;, &quot;id_county&quot;: &quot;39091&quot;, &quot;id_place&quot;: &quot;3969176&quot;}, &quot;type&quot;: &quot;Feature&quot;}, {&quot;bbox&quot;: [-83.7558287729848, 40.2524807964721, -83.7558287729848, 40.2524807964721], &quot;geometry&quot;: {&quot;coordinates&quot;: [-83.7558287729848, 40.2524807964721], &quot;type&quot;: &quot;Point&quot;}, &quot;id&quot;: &quot;76&quot;, &quot;properties&quot;: {&quot;ADDRESS&quot;: &quot;117 N. Detroit St&quot;, &quot;NAME&quot;: &quot;West Liberty Branch Library&quot;, &quot;__folium_color&quot;: &quot;#8c564b&quot;, &quot;id_county&quot;: &quot;39091&quot;, &quot;id_place&quot;: &quot;3983734&quot;}, &quot;type&quot;: &quot;Feature&quot;}, {&quot;bbox&quot;: [-83.7591308303044, 40.3636880787365, -83.7591308303044, 40.3636880787365], &quot;geometry&quot;: {&quot;coordinates&quot;: [-83.7591308303044, 40.3636880787365], &quot;type&quot;: &quot;Point&quot;}, &quot;id&quot;: &quot;77&quot;, &quot;properties&quot;: {&quot;ADDRESS&quot;: &quot;220 N. Main St&quot;, &quot;NAME&quot;: &quot;Logan County Libraries&quot;, &quot;__folium_color&quot;: &quot;#8c564b&quot;, &quot;id_county&quot;: &quot;39091&quot;, &quot;id_place&quot;: &quot;3905130&quot;}, &quot;type&quot;: &quot;Feature&quot;}, {&quot;bbox&quot;: [-83.9156220186993, 40.3100386909899, -83.9156220186993, 40.3100386909899], &quot;geometry&quot;: {&quot;coordinates&quot;: [-83.9156220186993, 40.3100386909899], &quot;type&quot;: &quot;Point&quot;}, &quot;id&quot;: &quot;78&quot;, &quot;properties&quot;: {&quot;ADDRESS&quot;: &quot;122 S. Main St&quot;, &quot;NAME&quot;: &quot;DeGraff Branch Library&quot;, &quot;__folium_color&quot;: &quot;#8c564b&quot;, &quot;id_county&quot;: &quot;39091&quot;, &quot;id_place&quot;: &quot;3921378&quot;}, &quot;type&quot;: &quot;Feature&quot;}, {&quot;bbox&quot;: [-83.9241912264021, 40.4852868816878, -83.9241912264021, 40.4852868816878], &quot;geometry&quot;: {&quot;coordinates&quot;: [-83.9241912264021, 40.4852868816878], &quot;type&quot;: &quot;Point&quot;}, &quot;id&quot;: &quot;79&quot;, &quot;properties&quot;: {&quot;ADDRESS&quot;: &quot;130 N. Main St&quot;, &quot;NAME&quot;: &quot;Lakeview Branch Library&quot;, &quot;__folium_color&quot;: &quot;#8c564b&quot;, &quot;id_county&quot;: &quot;39091&quot;, &quot;id_place&quot;: &quot;3941608&quot;}, &quot;type&quot;: &quot;Feature&quot;}, {&quot;bbox&quot;: [-83.1892798100166, 40.4506759600497, -83.1892798100166, 40.4506759600497], &quot;geometry&quot;: {&quot;coordinates&quot;: [-83.1892798100166, 40.4506759600497], &quot;type&quot;: &quot;Point&quot;}, &quot;id&quot;: &quot;80&quot;, &quot;properties&quot;: {&quot;ADDRESS&quot;: &quot;116 N. Main St&quot;, &quot;NAME&quot;: &quot;Prospect Public Library&quot;, &quot;__folium_color&quot;: &quot;#e377c2&quot;, &quot;id_county&quot;: &quot;39101&quot;, &quot;id_place&quot;: &quot;3964780&quot;}, &quot;type&quot;: &quot;Feature&quot;}, {&quot;bbox&quot;: [-83.384494854428, 40.5760852651449, -83.384494854428, 40.5760852651449], &quot;geometry&quot;: {&quot;coordinates&quot;: [-83.384494854428, 40.5760852651449], &quot;type&quot;: &quot;Point&quot;}, &quot;id&quot;: &quot;81&quot;, &quot;properties&quot;: {&quot;ADDRESS&quot;: &quot;86 S. High St&quot;, &quot;NAME&quot;: &quot;Henkle-Holiday Memorial Library&quot;, &quot;__folium_color&quot;: &quot;#e377c2&quot;, &quot;id_county&quot;: &quot;39101&quot;, &quot;id_place&quot;: &quot;3941902&quot;}, &quot;type&quot;: &quot;Feature&quot;}, {&quot;bbox&quot;: [-83.1197299391342, 40.5873305203235, -83.1197299391342, 40.5873305203235], &quot;geometry&quot;: {&quot;coordinates&quot;: [-83.1197299391342, 40.5873305203235], &quot;type&quot;: &quot;Point&quot;}, &quot;id&quot;: &quot;82&quot;, &quot;properties&quot;: {&quot;ADDRESS&quot;: &quot;445 E. Church St&quot;, &quot;NAME&quot;: &quot;Marion Public Library&quot;, &quot;__folium_color&quot;: &quot;#e377c2&quot;, &quot;id_county&quot;: &quot;39101&quot;, &quot;id_place&quot;: &quot;3947754&quot;}, &quot;type&quot;: &quot;Feature&quot;}, {&quot;bbox&quot;: [-82.9705738438752, 40.637047759179, -82.9705738438752, 40.637047759179], &quot;geometry&quot;: {&quot;coordinates&quot;: [-82.9705738438752, 40.637047759179], &quot;type&quot;: &quot;Point&quot;}, &quot;id&quot;: &quot;83&quot;, &quot;properties&quot;: {&quot;ADDRESS&quot;: &quot;112 E. Marion St&quot;, &quot;NAME&quot;: &quot;Caledonia Public Library&quot;, &quot;__folium_color&quot;: &quot;#e377c2&quot;, &quot;id_county&quot;: &quot;39101&quot;, &quot;id_place&quot;: &quot;3910954&quot;}, &quot;type&quot;: &quot;Feature&quot;}, {&quot;bbox&quot;: [-82.6610737233374, 40.621512343121, -82.6610737233374, 40.621512343121], &quot;geometry&quot;: {&quot;coordinates&quot;: [-82.6610737233374, 40.621512343121], &quot;type&quot;: &quot;Point&quot;}, &quot;id&quot;: &quot;84&quot;, &quot;properties&quot;: {&quot;ADDRESS&quot;: &quot;7406 County Road 242&quot;, &quot;NAME&quot;: &quot;Perry Cook Memorial Public Library&quot;, &quot;__folium_color&quot;: &quot;#7f7f7f&quot;, &quot;id_county&quot;: &quot;39117&quot;, &quot;id_place&quot;: null}, &quot;type&quot;: &quot;Feature&quot;}, {&quot;bbox&quot;: [-82.8270338022759, 40.5489186801188, -82.8270338022759, 40.5489186801188], &quot;geometry&quot;: {&quot;coordinates&quot;: [-82.8270338022759, 40.5489186801188], &quot;type&quot;: &quot;Point&quot;}, &quot;id&quot;: &quot;85&quot;, &quot;properties&quot;: {&quot;ADDRESS&quot;: &quot;41 E. High St&quot;, &quot;NAME&quot;: &quot;Mount Gilead Free Public Library&quot;, &quot;__folium_color&quot;: &quot;#7f7f7f&quot;, &quot;id_county&quot;: &quot;39117&quot;, &quot;id_place&quot;: &quot;3952738&quot;}, &quot;type&quot;: &quot;Feature&quot;}, {&quot;bbox&quot;: [-82.6837729298785, 40.4803932430714, -82.6837729298785, 40.4803932430714], &quot;geometry&quot;: {&quot;coordinates&quot;: [-82.6837729298785, 40.4803932430714], &quot;type&quot;: &quot;Point&quot;}, &quot;id&quot;: &quot;86&quot;, &quot;properties&quot;: {&quot;ADDRESS&quot;: &quot;31 State Route 95&quot;, &quot;NAME&quot;: &quot;Selover Public Library&quot;, &quot;__folium_color&quot;: &quot;#7f7f7f&quot;, &quot;id_county&quot;: &quot;39117&quot;, &quot;id_place&quot;: &quot;3914114&quot;}, &quot;type&quot;: &quot;Feature&quot;}, {&quot;bbox&quot;: [-82.4172821495579, 39.8960911438767, -82.4172821495579, 39.8960911438767], &quot;geometry&quot;: {&quot;coordinates&quot;: [-82.4172821495579, 39.8960911438767], &quot;type&quot;: &quot;Point&quot;}, &quot;id&quot;: &quot;87&quot;, &quot;properties&quot;: {&quot;ADDRESS&quot;: &quot;99 E. Columbus St&quot;, &quot;NAME&quot;: &quot;Perry County District Library Branch&quot;, &quot;__folium_color&quot;: &quot;#c7c7c7&quot;, &quot;id_county&quot;: &quot;39127&quot;, &quot;id_place&quot;: &quot;3976680&quot;}, &quot;type&quot;: &quot;Feature&quot;}, {&quot;bbox&quot;: [-82.3002116548932, 39.8064887997414, -82.3002116548932, 39.8064887997414], &quot;geometry&quot;: {&quot;coordinates&quot;: [-82.3002116548932, 39.8064887997414], &quot;type&quot;: &quot;Point&quot;}, &quot;id&quot;: &quot;88&quot;, &quot;properties&quot;: {&quot;ADDRESS&quot;: &quot;117 W. Main St&quot;, &quot;NAME&quot;: &quot;Perry County District Library Branch&quot;, &quot;__folium_color&quot;: &quot;#c7c7c7&quot;, &quot;id_county&quot;: &quot;39127&quot;, &quot;id_place&quot;: &quot;3972977&quot;}, &quot;type&quot;: &quot;Feature&quot;}, {&quot;bbox&quot;: [-82.0945688908402, 39.7695797860738, -82.0945688908402, 39.7695797860738], &quot;geometry&quot;: {&quot;coordinates&quot;: [-82.0945688908402, 39.7695797860738], &quot;type&quot;: &quot;Point&quot;}, &quot;id&quot;: &quot;89&quot;, &quot;properties&quot;: {&quot;ADDRESS&quot;: &quot;11 E. Main St&quot;, &quot;NAME&quot;: &quot;Perry County District Library Branch&quot;, &quot;__folium_color&quot;: &quot;#c7c7c7&quot;, &quot;id_county&quot;: &quot;39127&quot;, &quot;id_place&quot;: &quot;3919456&quot;}, &quot;type&quot;: &quot;Feature&quot;}, {&quot;bbox&quot;: [-82.300130293338, 39.7210992984575, -82.300130293338, 39.7210992984575], &quot;geometry&quot;: {&quot;coordinates&quot;: [-82.300130293338, 39.7210992984575], &quot;type&quot;: &quot;Point&quot;}, &quot;id&quot;: &quot;90&quot;, &quot;properties&quot;: {&quot;ADDRESS&quot;: &quot;108 W. Main St&quot;, &quot;NAME&quot;: &quot;Perry County District Library Branch&quot;, &quot;__folium_color&quot;: &quot;#c7c7c7&quot;, &quot;id_county&quot;: &quot;39127&quot;, &quot;id_place&quot;: &quot;3939508&quot;}, &quot;type&quot;: &quot;Feature&quot;}, {&quot;bbox&quot;: [-82.2061174031537, 39.7140481561472, -82.2061174031537, 39.7140481561472], &quot;geometry&quot;: {&quot;coordinates&quot;: [-82.2061174031537, 39.7140481561472], &quot;type&quot;: &quot;Point&quot;}, &quot;id&quot;: &quot;91&quot;, &quot;properties&quot;: {&quot;ADDRESS&quot;: &quot;117 S. Jackson St&quot;, &quot;NAME&quot;: &quot;Perry County District Library&quot;, &quot;__folium_color&quot;: &quot;#c7c7c7&quot;, &quot;id_county&quot;: &quot;39127&quot;, &quot;id_place&quot;: &quot;3954866&quot;}, &quot;type&quot;: &quot;Feature&quot;}, {&quot;bbox&quot;: [-82.2367065380701, 39.5775427271723, -82.2367065380701, 39.5775427271723], &quot;geometry&quot;: {&quot;coordinates&quot;: [-82.2367065380701, 39.5775427271723], &quot;type&quot;: &quot;Point&quot;}, &quot;id&quot;: &quot;92&quot;, &quot;properties&quot;: {&quot;ADDRESS&quot;: &quot;102 E. Main St.&quot;, &quot;NAME&quot;: &quot;New Straitsville Public Library&quot;, &quot;__folium_color&quot;: &quot;#c7c7c7&quot;, &quot;id_county&quot;: &quot;39127&quot;, &quot;id_place&quot;: &quot;3955552&quot;}, &quot;type&quot;: &quot;Feature&quot;}, {&quot;bbox&quot;: [-82.087584035686, 39.6026551729388, -82.087584035686, 39.6026551729388], &quot;geometry&quot;: {&quot;coordinates&quot;: [-82.087584035686, 39.6026551729388], &quot;type&quot;: &quot;Point&quot;}, &quot;id&quot;: &quot;93&quot;, &quot;properties&quot;: {&quot;ADDRESS&quot;: &quot;113 11th Hill St&quot;, &quot;NAME&quot;: &quot;Perry County District Library Branch&quot;, &quot;__folium_color&quot;: &quot;#c7c7c7&quot;, &quot;id_county&quot;: &quot;39127&quot;, &quot;id_place&quot;: &quot;3918770&quot;}, &quot;type&quot;: &quot;Feature&quot;}, {&quot;bbox&quot;: [-82.8933137097604, 40.5006698242389, -82.8933137097604, 40.5006698242389], &quot;geometry&quot;: {&quot;coordinates&quot;: [-82.8933137097604, 40.5006698242389], &quot;type&quot;: &quot;Point&quot;}, &quot;id&quot;: &quot;94&quot;, &quot;properties&quot;: {&quot;ADDRESS&quot;: &quot;128 E. Main St&quot;, &quot;NAME&quot;: &quot;Cardington-Lincoln Public Library&quot;, &quot;__folium_color&quot;: &quot;#7f7f7f&quot;, &quot;id_county&quot;: &quot;39117&quot;, &quot;id_place&quot;: &quot;3912084&quot;}, &quot;type&quot;: &quot;Feature&quot;}], &quot;type&quot;: &quot;FeatureCollection&quot;});\n",
       "\n",
       "        \n",
       "    \n",
       "    geo_json_b1cea09d9dcb23afddcb56a62ec54508.bindTooltip(\n",
       "    function(layer){\n",
       "    let div = L.DomUtil.create(&#x27;div&#x27;);\n",
       "    \n",
       "    let handleObject = feature=&gt;typeof(feature)==&#x27;object&#x27; ? JSON.stringify(feature) : feature;\n",
       "    let fields = [&quot;NAME&quot;, &quot;ADDRESS&quot;, &quot;id_county&quot;, &quot;id_place&quot;];\n",
       "    let aliases = [&quot;NAME&quot;, &quot;ADDRESS&quot;, &quot;id_county&quot;, &quot;id_place&quot;];\n",
       "    let table = &#x27;&lt;table&gt;&#x27; +\n",
       "        String(\n",
       "        fields.map(\n",
       "        (v,i)=&gt;\n",
       "        `&lt;tr&gt;\n",
       "            &lt;th&gt;${aliases[i]}&lt;/th&gt;\n",
       "            \n",
       "            &lt;td&gt;${handleObject(layer.feature.properties[v])}&lt;/td&gt;\n",
       "        &lt;/tr&gt;`).join(&#x27;&#x27;))\n",
       "    +&#x27;&lt;/table&gt;&#x27;;\n",
       "    div.innerHTML=table;\n",
       "    \n",
       "    return div\n",
       "    }\n",
       "    ,{\n",
       "  &quot;sticky&quot;: true,\n",
       "  &quot;className&quot;: &quot;foliumtooltip&quot;,\n",
       "});\n",
       "                     \n",
       "    \n",
       "            geo_json_b1cea09d9dcb23afddcb56a62ec54508.addTo(map_0b706fea626eec4cacd997e028ab0849);\n",
       "        \n",
       "&lt;/script&gt;\n",
       "&lt;/html&gt;\" style=\"position:absolute;width:100%;height:100%;left:0;top:0;border:none !important;\" allowfullscreen webkitallowfullscreen mozallowfullscreen></iframe></div></div>"
      ],
      "text/plain": [
       "<folium.folium.Map at 0x1e21f66bc20>"
      ]
     },
     "execution_count": 6,
     "metadata": {},
     "output_type": "execute_result"
    }
   ],
   "source": [
    "librariesEnriched.explore(column=\"id_county\", style_kwds={\"radius\":4})"
   ]
  },
  {
   "cell_type": "markdown",
   "id": "614c48cc-36cc-44be-8211-a96ec3c7577d",
   "metadata": {},
   "source": [
    "Let's take another look, this time symbolizing each library according to the place where it is located.  The legend has been suppressed because there are too many unique values, but you can hover over each point to see the place identifier that has been assigned to it."
   ]
  },
  {
   "cell_type": "code",
   "execution_count": null,
   "id": "45ffcdad-dfa2-4e8d-b684-ffeb6fb1b12d",
   "metadata": {
    "tags": []
   },
   "outputs": [],
   "source": [
    "librariesEnriched.explore(column=\"id_place\", style_kwds={\"radius\":4}, legend=True)"
   ]
  },
  {
   "cell_type": "code",
   "execution_count": null,
   "id": "dcf66a7e-9f88-48c0-ad7c-e2ebf2876809",
   "metadata": {},
   "outputs": [],
   "source": []
  }
 ],
 "metadata": {
  "kernelspec": {
   "display_name": "Python 3 (ipykernel)",
   "language": "python",
   "name": "python3"
  },
  "language_info": {
   "codemirror_mode": {
    "name": "ipython",
    "version": 3
   },
   "file_extension": ".py",
   "mimetype": "text/x-python",
   "name": "python",
   "nbconvert_exporter": "python",
   "pygments_lexer": "ipython3",
   "version": "3.12.10"
  }
 },
 "nbformat": 4,
 "nbformat_minor": 5
}
